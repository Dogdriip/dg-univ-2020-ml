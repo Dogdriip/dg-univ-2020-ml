{
  "nbformat": 4,
  "nbformat_minor": 0,
  "metadata": {
    "kernelspec": {
      "name": "python3",
      "display_name": "Python 3"
    },
    "colab": {
      "name": "v1.2.4.1",
      "provenance": [],
      "collapsed_sections": [
        "hZU6Vech6a7F",
        "6Ibh0Cf66a7L",
        "i2fISCc56a7r",
        "N7ecncKI6a7x",
        "hwJ5DWeW6a9I"
      ],
      "toc_visible": true,
      "machine_shape": "hm",
      "include_colab_link": true
    },
    "accelerator": "GPU",
    "widgets": {
      "application/vnd.jupyter.widget-state+json": {
        "e7c70e0d3d024abbaa0faa7319cfa333": {
          "model_module": "@jupyter-widgets/controls",
          "model_name": "IntProgressModel",
          "state": {
            "_view_name": "ProgressView",
            "style": "IPY_MODEL_b9fffaf4add7430f9aed9620ff4991ad",
            "_dom_classes": [],
            "description": "Processing: ",
            "_model_name": "IntProgressModel",
            "bar_style": "",
            "max": 3,
            "_view_module": "@jupyter-widgets/controls",
            "_model_module_version": "1.5.0",
            "value": 3,
            "_view_count": null,
            "_view_module_version": "1.5.0",
            "orientation": "horizontal",
            "min": 0,
            "description_tooltip": null,
            "_model_module": "@jupyter-widgets/controls",
            "layout": "IPY_MODEL_6e9e64d42417497e93186b014a94a850"
          }
        },
        "b9fffaf4add7430f9aed9620ff4991ad": {
          "model_module": "@jupyter-widgets/controls",
          "model_name": "ProgressStyleModel",
          "state": {
            "_view_name": "StyleView",
            "_model_name": "ProgressStyleModel",
            "description_width": "",
            "_view_module": "@jupyter-widgets/base",
            "_model_module_version": "1.5.0",
            "_view_count": null,
            "_view_module_version": "1.2.0",
            "bar_color": null,
            "_model_module": "@jupyter-widgets/controls"
          }
        },
        "6e9e64d42417497e93186b014a94a850": {
          "model_module": "@jupyter-widgets/base",
          "model_name": "LayoutModel",
          "state": {
            "_view_name": "LayoutView",
            "grid_template_rows": null,
            "right": null,
            "justify_content": null,
            "_view_module": "@jupyter-widgets/base",
            "overflow": null,
            "_model_module_version": "1.2.0",
            "_view_count": null,
            "flex_flow": null,
            "width": null,
            "min_width": null,
            "border": null,
            "align_items": null,
            "bottom": null,
            "_model_module": "@jupyter-widgets/base",
            "top": null,
            "grid_column": null,
            "overflow_y": null,
            "overflow_x": null,
            "grid_auto_flow": null,
            "grid_area": null,
            "grid_template_columns": null,
            "flex": null,
            "_model_name": "LayoutModel",
            "justify_items": null,
            "grid_row": null,
            "max_height": null,
            "align_content": null,
            "visibility": null,
            "align_self": null,
            "height": null,
            "min_height": null,
            "padding": null,
            "grid_auto_rows": null,
            "grid_gap": null,
            "max_width": null,
            "order": null,
            "_view_module_version": "1.2.0",
            "grid_template_areas": null,
            "object_position": null,
            "object_fit": null,
            "grid_auto_columns": null,
            "margin": null,
            "display": null,
            "left": null
          }
        },
        "d909435283464ad382425f155011bfcf": {
          "model_module": "@jupyter-widgets/controls",
          "model_name": "TextModel",
          "state": {
            "_view_name": "TextView",
            "style": "IPY_MODEL_56a30546d38d4663add4b406d967cdcd",
            "_dom_classes": [],
            "description": "",
            "_model_name": "TextModel",
            "placeholder": "​",
            "_view_module": "@jupyter-widgets/controls",
            "_model_module_version": "1.5.0",
            "value": "Following data types have been inferred automatically, if they are correct press enter to continue or type 'quit' otherwise.",
            "_view_count": null,
            "disabled": false,
            "_view_module_version": "1.5.0",
            "continuous_update": true,
            "description_tooltip": null,
            "_model_module": "@jupyter-widgets/controls",
            "layout": "IPY_MODEL_80f91966406c47699030ea120148d49b"
          }
        },
        "56a30546d38d4663add4b406d967cdcd": {
          "model_module": "@jupyter-widgets/controls",
          "model_name": "DescriptionStyleModel",
          "state": {
            "_view_name": "StyleView",
            "_model_name": "DescriptionStyleModel",
            "description_width": "",
            "_view_module": "@jupyter-widgets/base",
            "_model_module_version": "1.5.0",
            "_view_count": null,
            "_view_module_version": "1.2.0",
            "_model_module": "@jupyter-widgets/controls"
          }
        },
        "80f91966406c47699030ea120148d49b": {
          "model_module": "@jupyter-widgets/base",
          "model_name": "LayoutModel",
          "state": {
            "_view_name": "LayoutView",
            "grid_template_rows": null,
            "right": null,
            "justify_content": null,
            "_view_module": "@jupyter-widgets/base",
            "overflow": null,
            "_model_module_version": "1.2.0",
            "_view_count": null,
            "flex_flow": null,
            "width": "100%",
            "min_width": null,
            "border": null,
            "align_items": null,
            "bottom": null,
            "_model_module": "@jupyter-widgets/base",
            "top": null,
            "grid_column": null,
            "overflow_y": null,
            "overflow_x": null,
            "grid_auto_flow": null,
            "grid_area": null,
            "grid_template_columns": null,
            "flex": null,
            "_model_name": "LayoutModel",
            "justify_items": null,
            "grid_row": null,
            "max_height": null,
            "align_content": null,
            "visibility": null,
            "align_self": null,
            "height": null,
            "min_height": null,
            "padding": null,
            "grid_auto_rows": null,
            "grid_gap": null,
            "max_width": null,
            "order": null,
            "_view_module_version": "1.2.0",
            "grid_template_areas": null,
            "object_position": null,
            "object_fit": null,
            "grid_auto_columns": null,
            "margin": null,
            "display": null,
            "left": null
          }
        },
        "8359e9a2cd7a4b669855e35c58ca49ff": {
          "model_module": "@jupyter-widgets/controls",
          "model_name": "IntProgressModel",
          "state": {
            "_view_name": "ProgressView",
            "style": "IPY_MODEL_2756ef4f4c164da1a122a596bf403332",
            "_dom_classes": [],
            "description": "Processing: ",
            "_model_name": "IntProgressModel",
            "bar_style": "",
            "max": 99,
            "_view_module": "@jupyter-widgets/controls",
            "_model_module_version": "1.5.0",
            "value": 99,
            "_view_count": null,
            "_view_module_version": "1.5.0",
            "orientation": "horizontal",
            "min": 0,
            "description_tooltip": null,
            "_model_module": "@jupyter-widgets/controls",
            "layout": "IPY_MODEL_41b044ea5ce64605b90fe17e6ac5ba90"
          }
        },
        "2756ef4f4c164da1a122a596bf403332": {
          "model_module": "@jupyter-widgets/controls",
          "model_name": "ProgressStyleModel",
          "state": {
            "_view_name": "StyleView",
            "_model_name": "ProgressStyleModel",
            "description_width": "",
            "_view_module": "@jupyter-widgets/base",
            "_model_module_version": "1.5.0",
            "_view_count": null,
            "_view_module_version": "1.2.0",
            "bar_color": null,
            "_model_module": "@jupyter-widgets/controls"
          }
        },
        "41b044ea5ce64605b90fe17e6ac5ba90": {
          "model_module": "@jupyter-widgets/base",
          "model_name": "LayoutModel",
          "state": {
            "_view_name": "LayoutView",
            "grid_template_rows": null,
            "right": null,
            "justify_content": null,
            "_view_module": "@jupyter-widgets/base",
            "overflow": null,
            "_model_module_version": "1.2.0",
            "_view_count": null,
            "flex_flow": null,
            "width": null,
            "min_width": null,
            "border": null,
            "align_items": null,
            "bottom": null,
            "_model_module": "@jupyter-widgets/base",
            "top": null,
            "grid_column": null,
            "overflow_y": null,
            "overflow_x": null,
            "grid_auto_flow": null,
            "grid_area": null,
            "grid_template_columns": null,
            "flex": null,
            "_model_name": "LayoutModel",
            "justify_items": null,
            "grid_row": null,
            "max_height": null,
            "align_content": null,
            "visibility": null,
            "align_self": null,
            "height": null,
            "min_height": null,
            "padding": null,
            "grid_auto_rows": null,
            "grid_gap": null,
            "max_width": null,
            "order": null,
            "_view_module_version": "1.2.0",
            "grid_template_areas": null,
            "object_position": null,
            "object_fit": null,
            "grid_auto_columns": null,
            "margin": null,
            "display": null,
            "left": null
          }
        }
      }
    }
  },
  "cells": [
    {
      "cell_type": "markdown",
      "metadata": {
        "id": "view-in-github",
        "colab_type": "text"
      },
      "source": [
        "<a href=\"https://colab.research.google.com/github/Dogdriip/dg-univ-2020-ml/blob/main/v1_2_4_1.ipynb\" target=\"_parent\"><img src=\"https://colab.research.google.com/assets/colab-badge.svg\" alt=\"Open In Colab\"/></a>"
      ]
    },
    {
      "cell_type": "markdown",
      "metadata": {
        "id": "cCMx6C-76a6p"
      },
      "source": [
        "# v1.2.4.1\n"
      ]
    },
    {
      "cell_type": "code",
      "metadata": {
        "id": "TbltV90c6jyg",
        "outputId": "eff1ff5b-bf0b-4386-e432-eb8e4151ade2",
        "colab": {
          "base_uri": "https://localhost:8080/"
        }
      },
      "source": [
        "from google.colab import files\n",
        "from google.colab import drive\n",
        "drive.mount('/content/drive/')"
      ],
      "execution_count": 174,
      "outputs": [
        {
          "output_type": "stream",
          "text": [
            "Drive already mounted at /content/drive/; to attempt to forcibly remount, call drive.mount(\"/content/drive/\", force_remount=True).\n"
          ],
          "name": "stdout"
        }
      ]
    },
    {
      "cell_type": "code",
      "metadata": {
        "id": "z5Pa0R7g6a6q",
        "outputId": "26226f2e-9816-469b-9595-c73e2d6c2824",
        "colab": {
          "base_uri": "https://localhost:8080/"
        }
      },
      "source": [
        "import pandas as pd\n",
        "import numpy as np\n",
        "\n",
        "import matplotlib.pyplot as plt\n",
        "import seaborn as sns\n",
        "sns.set_style('whitegrid')\n",
        "%matplotlib inline \n",
        "import warnings\n",
        "warnings.filterwarnings(action='ignore')\n",
        "\n",
        "!pip install missingpy\n",
        "from missingpy import MissForest\n",
        "\n",
        "from scipy import stats\n",
        "from scipy.stats import norm, skew #for some statistics\n",
        "\n",
        "!pip install pycaret  # AutoML"
      ],
      "execution_count": 175,
      "outputs": [
        {
          "output_type": "stream",
          "text": [
            "Requirement already satisfied: missingpy in /usr/local/lib/python3.6/dist-packages (0.2.0)\n",
            "Requirement already satisfied: pycaret in /usr/local/lib/python3.6/dist-packages (2.2.1)\n",
            "Requirement already satisfied: matplotlib in /usr/local/lib/python3.6/dist-packages (from pycaret) (3.2.2)\n",
            "Requirement already satisfied: pyLDAvis in /usr/local/lib/python3.6/dist-packages (from pycaret) (2.1.2)\n",
            "Requirement already satisfied: mlflow in /usr/local/lib/python3.6/dist-packages (from pycaret) (1.12.0)\n",
            "Requirement already satisfied: kmodes>=0.10.1 in /usr/local/lib/python3.6/dist-packages (from pycaret) (0.10.2)\n",
            "Requirement already satisfied: catboost>=0.23.2 in /usr/local/lib/python3.6/dist-packages (from pycaret) (0.24.2)\n",
            "Requirement already satisfied: plotly>=4.4.1 in /usr/local/lib/python3.6/dist-packages (from pycaret) (4.4.1)\n",
            "Requirement already satisfied: scikit-plot in /usr/local/lib/python3.6/dist-packages (from pycaret) (0.3.7)\n",
            "Requirement already satisfied: nltk in /usr/local/lib/python3.6/dist-packages (from pycaret) (3.2.5)\n",
            "Requirement already satisfied: joblib in /usr/local/lib/python3.6/dist-packages (from pycaret) (0.17.0)\n",
            "Requirement already satisfied: scikit-learn>=0.23.2 in /usr/local/lib/python3.6/dist-packages (from pycaret) (0.23.2)\n",
            "Requirement already satisfied: pandas-profiling>=2.8.0 in /usr/local/lib/python3.6/dist-packages (from pycaret) (2.9.0)\n",
            "Requirement already satisfied: seaborn in /usr/local/lib/python3.6/dist-packages (from pycaret) (0.11.0)\n",
            "Requirement already satisfied: xgboost>=1.1.0 in /usr/local/lib/python3.6/dist-packages (from pycaret) (1.2.1)\n",
            "Requirement already satisfied: IPython in /usr/local/lib/python3.6/dist-packages (from pycaret) (5.5.0)\n",
            "Requirement already satisfied: imbalanced-learn>=0.7.0 in /usr/local/lib/python3.6/dist-packages (from pycaret) (0.7.0)\n",
            "Requirement already satisfied: ipywidgets in /usr/local/lib/python3.6/dist-packages (from pycaret) (7.5.1)\n",
            "Requirement already satisfied: numpy>=1.17 in /usr/local/lib/python3.6/dist-packages (from pycaret) (1.18.5)\n",
            "Requirement already satisfied: umap-learn in /usr/local/lib/python3.6/dist-packages (from pycaret) (0.4.6)\n",
            "Requirement already satisfied: cufflinks>=0.17.0 in /usr/local/lib/python3.6/dist-packages (from pycaret) (0.17.3)\n",
            "Requirement already satisfied: gensim in /usr/local/lib/python3.6/dist-packages (from pycaret) (3.6.0)\n",
            "Requirement already satisfied: textblob in /usr/local/lib/python3.6/dist-packages (from pycaret) (0.15.3)\n",
            "Requirement already satisfied: pandas in /usr/local/lib/python3.6/dist-packages (from pycaret) (1.1.4)\n",
            "Requirement already satisfied: lightgbm>=2.3.1 in /usr/local/lib/python3.6/dist-packages (from pycaret) (3.0.0)\n",
            "Requirement already satisfied: spacy in /usr/local/lib/python3.6/dist-packages (from pycaret) (2.2.4)\n",
            "Requirement already satisfied: mlxtend in /usr/local/lib/python3.6/dist-packages (from pycaret) (0.14.0)\n",
            "Requirement already satisfied: pyod in /usr/local/lib/python3.6/dist-packages (from pycaret) (0.8.3)\n",
            "Requirement already satisfied: wordcloud in /usr/local/lib/python3.6/dist-packages (from pycaret) (1.5.0)\n",
            "Requirement already satisfied: yellowbrick>=1.0.1 in /usr/local/lib/python3.6/dist-packages (from pycaret) (1.2)\n",
            "Requirement already satisfied: kiwisolver>=1.0.1 in /usr/local/lib/python3.6/dist-packages (from matplotlib->pycaret) (1.3.1)\n",
            "Requirement already satisfied: cycler>=0.10 in /usr/local/lib/python3.6/dist-packages (from matplotlib->pycaret) (0.10.0)\n",
            "Requirement already satisfied: python-dateutil>=2.1 in /usr/local/lib/python3.6/dist-packages (from matplotlib->pycaret) (2.8.1)\n",
            "Requirement already satisfied: pyparsing!=2.0.4,!=2.1.2,!=2.1.6,>=2.0.1 in /usr/local/lib/python3.6/dist-packages (from matplotlib->pycaret) (2.4.7)\n",
            "Requirement already satisfied: pytest in /usr/local/lib/python3.6/dist-packages (from pyLDAvis->pycaret) (3.6.4)\n",
            "Requirement already satisfied: funcy in /usr/local/lib/python3.6/dist-packages (from pyLDAvis->pycaret) (1.15)\n",
            "Requirement already satisfied: numexpr in /usr/local/lib/python3.6/dist-packages (from pyLDAvis->pycaret) (2.7.1)\n",
            "Requirement already satisfied: jinja2>=2.7.2 in /usr/local/lib/python3.6/dist-packages (from pyLDAvis->pycaret) (2.11.2)\n",
            "Requirement already satisfied: wheel>=0.23.0 in /usr/local/lib/python3.6/dist-packages (from pyLDAvis->pycaret) (0.35.1)\n",
            "Requirement already satisfied: future in /usr/local/lib/python3.6/dist-packages (from pyLDAvis->pycaret) (0.16.0)\n",
            "Requirement already satisfied: scipy>=0.18.0 in /usr/local/lib/python3.6/dist-packages (from pyLDAvis->pycaret) (1.4.1)\n",
            "Requirement already satisfied: click>=7.0 in /usr/local/lib/python3.6/dist-packages (from mlflow->pycaret) (7.1.2)\n",
            "Requirement already satisfied: requests>=2.17.3 in /usr/local/lib/python3.6/dist-packages (from mlflow->pycaret) (2.23.0)\n",
            "Requirement already satisfied: azure-storage-blob in /usr/local/lib/python3.6/dist-packages (from mlflow->pycaret) (12.6.0)\n",
            "Requirement already satisfied: querystring-parser in /usr/local/lib/python3.6/dist-packages (from mlflow->pycaret) (1.2.4)\n",
            "Requirement already satisfied: Flask in /usr/local/lib/python3.6/dist-packages (from mlflow->pycaret) (1.1.2)\n",
            "Requirement already satisfied: alembic<=1.4.1 in /usr/local/lib/python3.6/dist-packages (from mlflow->pycaret) (1.4.1)\n",
            "Requirement already satisfied: docker>=4.0.0 in /usr/local/lib/python3.6/dist-packages (from mlflow->pycaret) (4.3.1)\n",
            "Requirement already satisfied: cloudpickle in /usr/local/lib/python3.6/dist-packages (from mlflow->pycaret) (1.3.0)\n",
            "Requirement already satisfied: entrypoints in /usr/local/lib/python3.6/dist-packages (from mlflow->pycaret) (0.3)\n",
            "Requirement already satisfied: prometheus-flask-exporter in /usr/local/lib/python3.6/dist-packages (from mlflow->pycaret) (0.18.1)\n",
            "Requirement already satisfied: six>=1.10.0 in /usr/local/lib/python3.6/dist-packages (from mlflow->pycaret) (1.15.0)\n",
            "Requirement already satisfied: pyyaml in /usr/local/lib/python3.6/dist-packages (from mlflow->pycaret) (3.13)\n",
            "Requirement already satisfied: protobuf>=3.6.0 in /usr/local/lib/python3.6/dist-packages (from mlflow->pycaret) (3.12.4)\n",
            "Requirement already satisfied: gitpython>=2.1.0 in /usr/local/lib/python3.6/dist-packages (from mlflow->pycaret) (3.1.11)\n",
            "Requirement already satisfied: gunicorn; platform_system != \"Windows\" in /usr/local/lib/python3.6/dist-packages (from mlflow->pycaret) (20.0.4)\n",
            "Requirement already satisfied: sqlparse>=0.3.1 in /usr/local/lib/python3.6/dist-packages (from mlflow->pycaret) (0.4.1)\n",
            "Requirement already satisfied: databricks-cli>=0.8.7 in /usr/local/lib/python3.6/dist-packages (from mlflow->pycaret) (0.14.0)\n",
            "Requirement already satisfied: sqlalchemy in /usr/local/lib/python3.6/dist-packages (from mlflow->pycaret) (1.3.20)\n",
            "Requirement already satisfied: graphviz in /usr/local/lib/python3.6/dist-packages (from catboost>=0.23.2->pycaret) (0.10.1)\n",
            "Requirement already satisfied: retrying>=1.3.3 in /usr/local/lib/python3.6/dist-packages (from plotly>=4.4.1->pycaret) (1.3.3)\n",
            "Requirement already satisfied: threadpoolctl>=2.0.0 in /usr/local/lib/python3.6/dist-packages (from scikit-learn>=0.23.2->pycaret) (2.1.0)\n",
            "Requirement already satisfied: tangled-up-in-unicode>=0.0.6 in /usr/local/lib/python3.6/dist-packages (from pandas-profiling>=2.8.0->pycaret) (0.0.6)\n",
            "Requirement already satisfied: attrs>=19.3.0 in /usr/local/lib/python3.6/dist-packages (from pandas-profiling>=2.8.0->pycaret) (20.2.0)\n",
            "Requirement already satisfied: confuse>=1.0.0 in /usr/local/lib/python3.6/dist-packages (from pandas-profiling>=2.8.0->pycaret) (1.3.0)\n",
            "Requirement already satisfied: visions[type_image_path]==0.5.0 in /usr/local/lib/python3.6/dist-packages (from pandas-profiling>=2.8.0->pycaret) (0.5.0)\n",
            "Requirement already satisfied: missingno>=0.4.2 in /usr/local/lib/python3.6/dist-packages (from pandas-profiling>=2.8.0->pycaret) (0.4.2)\n",
            "Requirement already satisfied: tqdm>=4.43.0 in /usr/local/lib/python3.6/dist-packages (from pandas-profiling>=2.8.0->pycaret) (4.51.0)\n",
            "Requirement already satisfied: phik>=0.9.10 in /usr/local/lib/python3.6/dist-packages (from pandas-profiling>=2.8.0->pycaret) (0.10.0)\n",
            "Requirement already satisfied: htmlmin>=0.1.12 in /usr/local/lib/python3.6/dist-packages (from pandas-profiling>=2.8.0->pycaret) (0.1.12)\n",
            "Requirement already satisfied: decorator in /usr/local/lib/python3.6/dist-packages (from IPython->pycaret) (4.4.2)\n",
            "Requirement already satisfied: traitlets>=4.2 in /usr/local/lib/python3.6/dist-packages (from IPython->pycaret) (4.3.3)\n",
            "Requirement already satisfied: pexpect; sys_platform != \"win32\" in /usr/local/lib/python3.6/dist-packages (from IPython->pycaret) (4.8.0)\n",
            "Requirement already satisfied: prompt-toolkit<2.0.0,>=1.0.4 in /usr/local/lib/python3.6/dist-packages (from IPython->pycaret) (1.0.18)\n",
            "Requirement already satisfied: setuptools>=18.5 in /usr/local/lib/python3.6/dist-packages (from IPython->pycaret) (50.3.2)\n",
            "Requirement already satisfied: simplegeneric>0.8 in /usr/local/lib/python3.6/dist-packages (from IPython->pycaret) (0.8.1)\n",
            "Requirement already satisfied: pickleshare in /usr/local/lib/python3.6/dist-packages (from IPython->pycaret) (0.7.5)\n",
            "Requirement already satisfied: pygments in /usr/local/lib/python3.6/dist-packages (from IPython->pycaret) (2.6.1)\n",
            "Requirement already satisfied: nbformat>=4.2.0 in /usr/local/lib/python3.6/dist-packages (from ipywidgets->pycaret) (5.0.8)\n",
            "Requirement already satisfied: widgetsnbextension~=3.5.0 in /usr/local/lib/python3.6/dist-packages (from ipywidgets->pycaret) (3.5.1)\n",
            "Requirement already satisfied: ipykernel>=4.5.1 in /usr/local/lib/python3.6/dist-packages (from ipywidgets->pycaret) (4.10.1)\n",
            "Requirement already satisfied: numba!=0.47,>=0.46 in /usr/local/lib/python3.6/dist-packages (from umap-learn->pycaret) (0.48.0)\n",
            "Requirement already satisfied: colorlover>=0.2.1 in /usr/local/lib/python3.6/dist-packages (from cufflinks>=0.17.0->pycaret) (0.3.0)\n",
            "Requirement already satisfied: smart-open>=1.2.1 in /usr/local/lib/python3.6/dist-packages (from gensim->pycaret) (3.0.0)\n",
            "Requirement already satisfied: pytz>=2017.2 in /usr/local/lib/python3.6/dist-packages (from pandas->pycaret) (2018.9)\n",
            "Requirement already satisfied: plac<1.2.0,>=0.9.6 in /usr/local/lib/python3.6/dist-packages (from spacy->pycaret) (1.1.3)\n",
            "Requirement already satisfied: srsly<1.1.0,>=1.0.2 in /usr/local/lib/python3.6/dist-packages (from spacy->pycaret) (1.0.2)\n",
            "Requirement already satisfied: murmurhash<1.1.0,>=0.28.0 in /usr/local/lib/python3.6/dist-packages (from spacy->pycaret) (1.0.3)\n",
            "Requirement already satisfied: wasabi<1.1.0,>=0.4.0 in /usr/local/lib/python3.6/dist-packages (from spacy->pycaret) (0.8.0)\n",
            "Requirement already satisfied: thinc==7.4.0 in /usr/local/lib/python3.6/dist-packages (from spacy->pycaret) (7.4.0)\n",
            "Requirement already satisfied: blis<0.5.0,>=0.4.0 in /usr/local/lib/python3.6/dist-packages (from spacy->pycaret) (0.4.1)\n",
            "Requirement already satisfied: cymem<2.1.0,>=2.0.2 in /usr/local/lib/python3.6/dist-packages (from spacy->pycaret) (2.0.4)\n",
            "Requirement already satisfied: preshed<3.1.0,>=3.0.2 in /usr/local/lib/python3.6/dist-packages (from spacy->pycaret) (3.0.2)\n",
            "Requirement already satisfied: catalogue<1.1.0,>=0.0.7 in /usr/local/lib/python3.6/dist-packages (from spacy->pycaret) (1.0.0)\n",
            "Requirement already satisfied: statsmodels in /usr/local/lib/python3.6/dist-packages (from pyod->pycaret) (0.10.2)\n",
            "Requirement already satisfied: suod in /usr/local/lib/python3.6/dist-packages (from pyod->pycaret) (0.0.4)\n",
            "Requirement already satisfied: combo in /usr/local/lib/python3.6/dist-packages (from pyod->pycaret) (0.1.1)\n",
            "Requirement already satisfied: pillow in /usr/local/lib/python3.6/dist-packages (from wordcloud->pycaret) (7.0.0)\n",
            "Requirement already satisfied: atomicwrites>=1.0 in /usr/local/lib/python3.6/dist-packages (from pytest->pyLDAvis->pycaret) (1.4.0)\n",
            "Requirement already satisfied: pluggy<0.8,>=0.5 in /usr/local/lib/python3.6/dist-packages (from pytest->pyLDAvis->pycaret) (0.7.1)\n",
            "Requirement already satisfied: more-itertools>=4.0.0 in /usr/local/lib/python3.6/dist-packages (from pytest->pyLDAvis->pycaret) (8.6.0)\n",
            "Requirement already satisfied: py>=1.5.0 in /usr/local/lib/python3.6/dist-packages (from pytest->pyLDAvis->pycaret) (1.9.0)\n",
            "Requirement already satisfied: MarkupSafe>=0.23 in /usr/local/lib/python3.6/dist-packages (from jinja2>=2.7.2->pyLDAvis->pycaret) (1.1.1)\n",
            "Requirement already satisfied: chardet<4,>=3.0.2 in /usr/local/lib/python3.6/dist-packages (from requests>=2.17.3->mlflow->pycaret) (3.0.4)\n",
            "Requirement already satisfied: certifi>=2017.4.17 in /usr/local/lib/python3.6/dist-packages (from requests>=2.17.3->mlflow->pycaret) (2020.6.20)\n",
            "Requirement already satisfied: idna<3,>=2.5 in /usr/local/lib/python3.6/dist-packages (from requests>=2.17.3->mlflow->pycaret) (2.10)\n",
            "Requirement already satisfied: urllib3!=1.25.0,!=1.25.1,<1.26,>=1.21.1 in /usr/local/lib/python3.6/dist-packages (from requests>=2.17.3->mlflow->pycaret) (1.24.3)\n",
            "Requirement already satisfied: cryptography>=2.1.4 in /usr/local/lib/python3.6/dist-packages (from azure-storage-blob->mlflow->pycaret) (3.2.1)\n",
            "Requirement already satisfied: azure-core<2.0.0,>=1.9.0 in /usr/local/lib/python3.6/dist-packages (from azure-storage-blob->mlflow->pycaret) (1.9.0)\n",
            "Requirement already satisfied: msrest>=0.6.10 in /usr/local/lib/python3.6/dist-packages (from azure-storage-blob->mlflow->pycaret) (0.6.19)\n",
            "Requirement already satisfied: itsdangerous>=0.24 in /usr/local/lib/python3.6/dist-packages (from Flask->mlflow->pycaret) (1.1.0)\n",
            "Requirement already satisfied: Werkzeug>=0.15 in /usr/local/lib/python3.6/dist-packages (from Flask->mlflow->pycaret) (1.0.1)\n",
            "Requirement already satisfied: python-editor>=0.3 in /usr/local/lib/python3.6/dist-packages (from alembic<=1.4.1->mlflow->pycaret) (1.0.4)\n",
            "Requirement already satisfied: Mako in /usr/local/lib/python3.6/dist-packages (from alembic<=1.4.1->mlflow->pycaret) (1.1.3)\n",
            "Requirement already satisfied: websocket-client>=0.32.0 in /usr/local/lib/python3.6/dist-packages (from docker>=4.0.0->mlflow->pycaret) (0.57.0)\n",
            "Requirement already satisfied: prometheus-client in /usr/local/lib/python3.6/dist-packages (from prometheus-flask-exporter->mlflow->pycaret) (0.8.0)\n",
            "Requirement already satisfied: gitdb<5,>=4.0.1 in /usr/local/lib/python3.6/dist-packages (from gitpython>=2.1.0->mlflow->pycaret) (4.0.5)\n",
            "Requirement already satisfied: tabulate>=0.7.7 in /usr/local/lib/python3.6/dist-packages (from databricks-cli>=0.8.7->mlflow->pycaret) (0.8.7)\n",
            "Requirement already satisfied: networkx>=2.4 in /usr/local/lib/python3.6/dist-packages (from visions[type_image_path]==0.5.0->pandas-profiling>=2.8.0->pycaret) (2.5)\n",
            "Requirement already satisfied: imagehash; extra == \"type_image_path\" in /usr/local/lib/python3.6/dist-packages (from visions[type_image_path]==0.5.0->pandas-profiling>=2.8.0->pycaret) (4.1.0)\n",
            "Requirement already satisfied: ipython-genutils in /usr/local/lib/python3.6/dist-packages (from traitlets>=4.2->IPython->pycaret) (0.2.0)\n",
            "Requirement already satisfied: ptyprocess>=0.5 in /usr/local/lib/python3.6/dist-packages (from pexpect; sys_platform != \"win32\"->IPython->pycaret) (0.6.0)\n",
            "Requirement already satisfied: wcwidth in /usr/local/lib/python3.6/dist-packages (from prompt-toolkit<2.0.0,>=1.0.4->IPython->pycaret) (0.2.5)\n",
            "Requirement already satisfied: jupyter-core in /usr/local/lib/python3.6/dist-packages (from nbformat>=4.2.0->ipywidgets->pycaret) (4.6.3)\n",
            "Requirement already satisfied: jsonschema!=2.5.0,>=2.4 in /usr/local/lib/python3.6/dist-packages (from nbformat>=4.2.0->ipywidgets->pycaret) (2.6.0)\n",
            "Requirement already satisfied: notebook>=4.4.1 in /usr/local/lib/python3.6/dist-packages (from widgetsnbextension~=3.5.0->ipywidgets->pycaret) (5.3.1)\n",
            "Requirement already satisfied: tornado>=4.0 in /usr/local/lib/python3.6/dist-packages (from ipykernel>=4.5.1->ipywidgets->pycaret) (5.1.1)\n",
            "Requirement already satisfied: jupyter-client in /usr/local/lib/python3.6/dist-packages (from ipykernel>=4.5.1->ipywidgets->pycaret) (5.3.5)\n",
            "Requirement already satisfied: llvmlite<0.32.0,>=0.31.0dev0 in /usr/local/lib/python3.6/dist-packages (from numba!=0.47,>=0.46->umap-learn->pycaret) (0.31.0)\n",
            "Requirement already satisfied: importlib-metadata>=0.20; python_version < \"3.8\" in /usr/local/lib/python3.6/dist-packages (from catalogue<1.1.0,>=0.0.7->spacy->pycaret) (2.0.0)\n",
            "Requirement already satisfied: patsy>=0.4.0 in /usr/local/lib/python3.6/dist-packages (from statsmodels->pyod->pycaret) (0.5.1)\n",
            "Requirement already satisfied: cffi!=1.11.3,>=1.8 in /usr/local/lib/python3.6/dist-packages (from cryptography>=2.1.4->azure-storage-blob->mlflow->pycaret) (1.14.3)\n",
            "Requirement already satisfied: isodate>=0.6.0 in /usr/local/lib/python3.6/dist-packages (from msrest>=0.6.10->azure-storage-blob->mlflow->pycaret) (0.6.0)\n",
            "Requirement already satisfied: requests-oauthlib>=0.5.0 in /usr/local/lib/python3.6/dist-packages (from msrest>=0.6.10->azure-storage-blob->mlflow->pycaret) (1.3.0)\n",
            "Requirement already satisfied: smmap<4,>=3.0.1 in /usr/local/lib/python3.6/dist-packages (from gitdb<5,>=4.0.1->gitpython>=2.1.0->mlflow->pycaret) (3.0.4)\n",
            "Requirement already satisfied: PyWavelets in /usr/local/lib/python3.6/dist-packages (from imagehash; extra == \"type_image_path\"->visions[type_image_path]==0.5.0->pandas-profiling>=2.8.0->pycaret) (1.1.1)\n",
            "Requirement already satisfied: terminado>=0.8.1 in /usr/local/lib/python3.6/dist-packages (from notebook>=4.4.1->widgetsnbextension~=3.5.0->ipywidgets->pycaret) (0.9.1)\n",
            "Requirement already satisfied: Send2Trash in /usr/local/lib/python3.6/dist-packages (from notebook>=4.4.1->widgetsnbextension~=3.5.0->ipywidgets->pycaret) (1.5.0)\n",
            "Requirement already satisfied: nbconvert in /usr/local/lib/python3.6/dist-packages (from notebook>=4.4.1->widgetsnbextension~=3.5.0->ipywidgets->pycaret) (5.6.1)\n",
            "Requirement already satisfied: pyzmq>=13 in /usr/local/lib/python3.6/dist-packages (from jupyter-client->ipykernel>=4.5.1->ipywidgets->pycaret) (19.0.2)\n",
            "Requirement already satisfied: zipp>=0.5 in /usr/local/lib/python3.6/dist-packages (from importlib-metadata>=0.20; python_version < \"3.8\"->catalogue<1.1.0,>=0.0.7->spacy->pycaret) (3.4.0)\n",
            "Requirement already satisfied: pycparser in /usr/local/lib/python3.6/dist-packages (from cffi!=1.11.3,>=1.8->cryptography>=2.1.4->azure-storage-blob->mlflow->pycaret) (2.20)\n",
            "Requirement already satisfied: oauthlib>=3.0.0 in /usr/local/lib/python3.6/dist-packages (from requests-oauthlib>=0.5.0->msrest>=0.6.10->azure-storage-blob->mlflow->pycaret) (3.1.0)\n",
            "Requirement already satisfied: bleach in /usr/local/lib/python3.6/dist-packages (from nbconvert->notebook>=4.4.1->widgetsnbextension~=3.5.0->ipywidgets->pycaret) (3.2.1)\n",
            "Requirement already satisfied: pandocfilters>=1.4.1 in /usr/local/lib/python3.6/dist-packages (from nbconvert->notebook>=4.4.1->widgetsnbextension~=3.5.0->ipywidgets->pycaret) (1.4.3)\n",
            "Requirement already satisfied: mistune<2,>=0.8.1 in /usr/local/lib/python3.6/dist-packages (from nbconvert->notebook>=4.4.1->widgetsnbextension~=3.5.0->ipywidgets->pycaret) (0.8.4)\n",
            "Requirement already satisfied: defusedxml in /usr/local/lib/python3.6/dist-packages (from nbconvert->notebook>=4.4.1->widgetsnbextension~=3.5.0->ipywidgets->pycaret) (0.6.0)\n",
            "Requirement already satisfied: testpath in /usr/local/lib/python3.6/dist-packages (from nbconvert->notebook>=4.4.1->widgetsnbextension~=3.5.0->ipywidgets->pycaret) (0.4.4)\n",
            "Requirement already satisfied: packaging in /usr/local/lib/python3.6/dist-packages (from bleach->nbconvert->notebook>=4.4.1->widgetsnbextension~=3.5.0->ipywidgets->pycaret) (20.4)\n",
            "Requirement already satisfied: webencodings in /usr/local/lib/python3.6/dist-packages (from bleach->nbconvert->notebook>=4.4.1->widgetsnbextension~=3.5.0->ipywidgets->pycaret) (0.5.1)\n"
          ],
          "name": "stdout"
        }
      ]
    },
    {
      "cell_type": "code",
      "metadata": {
        "id": "1FW0h1qO6a6t"
      },
      "source": [
        "train = pd.read_csv('/content/drive/My Drive/dg_univ_2020_ml/train.csv')\n",
        "test = pd.read_csv('/content/drive/My Drive/dg_univ_2020_ml/test.csv')"
      ],
      "execution_count": 176,
      "outputs": []
    },
    {
      "cell_type": "code",
      "metadata": {
        "id": "bOY5R0C06a6v",
        "outputId": "cad81c03-6147-460f-8845-32e95c56d681",
        "colab": {
          "base_uri": "https://localhost:8080/"
        }
      },
      "source": [
        "print(train.shape)\n",
        "print(test.shape)"
      ],
      "execution_count": 177,
      "outputs": [
        {
          "output_type": "stream",
          "text": [
            "(11769, 15)\n",
            "(5789, 13)\n"
          ],
          "name": "stdout"
        }
      ]
    },
    {
      "cell_type": "code",
      "metadata": {
        "id": "mBkoB9E56a6y",
        "outputId": "b4aed9e7-247e-403f-d95a-0aa061cdeba2",
        "colab": {
          "base_uri": "https://localhost:8080/",
          "height": 288
        }
      },
      "source": [
        "train.head()"
      ],
      "execution_count": 178,
      "outputs": [
        {
          "output_type": "execute_result",
          "data": {
            "text/html": [
              "<div>\n",
              "<style scoped>\n",
              "    .dataframe tbody tr th:only-of-type {\n",
              "        vertical-align: middle;\n",
              "    }\n",
              "\n",
              "    .dataframe tbody tr th {\n",
              "        vertical-align: top;\n",
              "    }\n",
              "\n",
              "    .dataframe thead th {\n",
              "        text-align: right;\n",
              "    }\n",
              "</style>\n",
              "<table border=\"1\" class=\"dataframe\">\n",
              "  <thead>\n",
              "    <tr style=\"text-align: right;\">\n",
              "      <th></th>\n",
              "      <th>no</th>\n",
              "      <th>모델명</th>\n",
              "      <th>연월</th>\n",
              "      <th>연식</th>\n",
              "      <th>연료</th>\n",
              "      <th>주행거리</th>\n",
              "      <th>인승</th>\n",
              "      <th>최대출력(마력)</th>\n",
              "      <th>기통</th>\n",
              "      <th>최대토크(kgm)</th>\n",
              "      <th>구동방식</th>\n",
              "      <th>자동수동</th>\n",
              "      <th>국산/수입</th>\n",
              "      <th>신차가(만원)</th>\n",
              "      <th>가격(만원)</th>\n",
              "    </tr>\n",
              "  </thead>\n",
              "  <tbody>\n",
              "    <tr>\n",
              "      <th>0</th>\n",
              "      <td>0</td>\n",
              "      <td>기아 더 뉴 K7 2.4 GDI 프레스티지 스페셜</td>\n",
              "      <td>12/12(13년형)</td>\n",
              "      <td>2013.0</td>\n",
              "      <td>가솔린</td>\n",
              "      <td>4만km</td>\n",
              "      <td>NaN</td>\n",
              "      <td>201.0</td>\n",
              "      <td>4.0</td>\n",
              "      <td>25.5</td>\n",
              "      <td>FF</td>\n",
              "      <td>NaN</td>\n",
              "      <td>국산</td>\n",
              "      <td>3141.0</td>\n",
              "      <td>1870.0</td>\n",
              "    </tr>\n",
              "    <tr>\n",
              "      <th>1</th>\n",
              "      <td>1</td>\n",
              "      <td>현대 YF쏘나타 2.0 Y20 LPi 프리미어</td>\n",
              "      <td>10/03</td>\n",
              "      <td>2010.0</td>\n",
              "      <td>LPG</td>\n",
              "      <td>9만km</td>\n",
              "      <td>NaN</td>\n",
              "      <td>157.0</td>\n",
              "      <td>NaN</td>\n",
              "      <td>20.0</td>\n",
              "      <td>FF</td>\n",
              "      <td>NaN</td>\n",
              "      <td>국산</td>\n",
              "      <td>NaN</td>\n",
              "      <td>700.0</td>\n",
              "    </tr>\n",
              "    <tr>\n",
              "      <th>2</th>\n",
              "      <td>2</td>\n",
              "      <td>현대 그랜져HG 220 디젤 프리미엄</td>\n",
              "      <td>14/09(15년형)</td>\n",
              "      <td>2015.0</td>\n",
              "      <td>디젤</td>\n",
              "      <td>3만km</td>\n",
              "      <td>NaN</td>\n",
              "      <td>202.0</td>\n",
              "      <td>4.0</td>\n",
              "      <td>45.0</td>\n",
              "      <td>FF</td>\n",
              "      <td>NaN</td>\n",
              "      <td>국산</td>\n",
              "      <td>3389.0</td>\n",
              "      <td>2990.0</td>\n",
              "    </tr>\n",
              "    <tr>\n",
              "      <th>3</th>\n",
              "      <td>3</td>\n",
              "      <td>쌍용 뉴카이런 2.0 LV5 2WD 고급형</td>\n",
              "      <td>07/06(08년형)</td>\n",
              "      <td>2008.0</td>\n",
              "      <td>디젤</td>\n",
              "      <td>16만km</td>\n",
              "      <td>NaN</td>\n",
              "      <td>151.0</td>\n",
              "      <td>4.0</td>\n",
              "      <td>33.8</td>\n",
              "      <td>FR</td>\n",
              "      <td>NaN</td>\n",
              "      <td>국산</td>\n",
              "      <td>2499.0</td>\n",
              "      <td>420.0</td>\n",
              "    </tr>\n",
              "    <tr>\n",
              "      <th>4</th>\n",
              "      <td>4</td>\n",
              "      <td>현대 뉴스타렉스 점보 밴 TCI 3인승 GX 윈도우밴 일반형</td>\n",
              "      <td>04/03</td>\n",
              "      <td>2004.0</td>\n",
              "      <td>디젤</td>\n",
              "      <td>16만km</td>\n",
              "      <td>3.0</td>\n",
              "      <td>103.0</td>\n",
              "      <td>NaN</td>\n",
              "      <td>24.0</td>\n",
              "      <td>FR</td>\n",
              "      <td>수동</td>\n",
              "      <td>국산</td>\n",
              "      <td>1445.0</td>\n",
              "      <td>450.0</td>\n",
              "    </tr>\n",
              "  </tbody>\n",
              "</table>\n",
              "</div>"
            ],
            "text/plain": [
              "   no                                모델명           연월  ...  국산/수입 신차가(만원)  가격(만원)\n",
              "0   0        기아 더 뉴 K7 2.4 GDI 프레스티지 스페셜  12/12(13년형)  ...     국산  3141.0  1870.0\n",
              "1   1          현대 YF쏘나타 2.0 Y20 LPi 프리미어        10/03  ...     국산     NaN   700.0\n",
              "2   2               현대 그랜져HG 220 디젤 프리미엄  14/09(15년형)  ...     국산  3389.0  2990.0\n",
              "3   3            쌍용 뉴카이런 2.0 LV5 2WD 고급형  07/06(08년형)  ...     국산  2499.0   420.0\n",
              "4   4  현대 뉴스타렉스 점보 밴 TCI 3인승 GX 윈도우밴 일반형        04/03  ...     국산  1445.0   450.0\n",
              "\n",
              "[5 rows x 15 columns]"
            ]
          },
          "metadata": {
            "tags": []
          },
          "execution_count": 178
        }
      ]
    },
    {
      "cell_type": "code",
      "metadata": {
        "id": "yotU_9Vq6a61",
        "outputId": "e1136f68-1f7f-443c-ef1f-03eae2aac991",
        "colab": {
          "base_uri": "https://localhost:8080/"
        }
      },
      "source": [
        "train.info()"
      ],
      "execution_count": 179,
      "outputs": [
        {
          "output_type": "stream",
          "text": [
            "<class 'pandas.core.frame.DataFrame'>\n",
            "RangeIndex: 11769 entries, 0 to 11768\n",
            "Data columns (total 15 columns):\n",
            " #   Column     Non-Null Count  Dtype  \n",
            "---  ------     --------------  -----  \n",
            " 0   no         11769 non-null  int64  \n",
            " 1   모델명        11769 non-null  object \n",
            " 2   연월         11769 non-null  object \n",
            " 3   연식         11769 non-null  float64\n",
            " 4   연료         11769 non-null  object \n",
            " 5   주행거리       11769 non-null  object \n",
            " 6   인승         765 non-null    float64\n",
            " 7   최대출력(마력)   10644 non-null  float64\n",
            " 8   기통         8698 non-null   float64\n",
            " 9   최대토크(kgm)  10545 non-null  float64\n",
            " 10  구동방식       10808 non-null  object \n",
            " 11  자동수동       1313 non-null   object \n",
            " 12  국산/수입      11769 non-null  object \n",
            " 13  신차가(만원)    9544 non-null   float64\n",
            " 14  가격(만원)     11769 non-null  float64\n",
            "dtypes: float64(7), int64(1), object(7)\n",
            "memory usage: 1.3+ MB\n"
          ],
          "name": "stdout"
        }
      ]
    },
    {
      "cell_type": "code",
      "metadata": {
        "id": "RfehfOEC6a63",
        "outputId": "e8480922-9274-4bd1-dcda-a8774a13a416",
        "colab": {
          "base_uri": "https://localhost:8080/"
        }
      },
      "source": [
        "test.info()"
      ],
      "execution_count": 180,
      "outputs": [
        {
          "output_type": "stream",
          "text": [
            "<class 'pandas.core.frame.DataFrame'>\n",
            "RangeIndex: 5789 entries, 0 to 5788\n",
            "Data columns (total 13 columns):\n",
            " #   Column     Non-Null Count  Dtype  \n",
            "---  ------     --------------  -----  \n",
            " 0   no         5789 non-null   int64  \n",
            " 1   모델명        5789 non-null   object \n",
            " 2   연월         5789 non-null   object \n",
            " 3   연식         5789 non-null   float64\n",
            " 4   연료         5789 non-null   object \n",
            " 5   주행거리       5789 non-null   object \n",
            " 6   인승         389 non-null    float64\n",
            " 7   최대출력(마력)   5237 non-null   float64\n",
            " 8   기통         4275 non-null   float64\n",
            " 9   최대토크(kgm)  5183 non-null   float64\n",
            " 10  구동방식       5312 non-null   object \n",
            " 11  자동수동       665 non-null    object \n",
            " 12  국산/수입      5789 non-null   object \n",
            "dtypes: float64(5), int64(1), object(7)\n",
            "memory usage: 588.1+ KB\n"
          ],
          "name": "stdout"
        }
      ]
    },
    {
      "cell_type": "markdown",
      "metadata": {
        "id": "BczFAUo-6a65"
      },
      "source": [
        "# Translate all column name to English"
      ]
    },
    {
      "cell_type": "code",
      "metadata": {
        "id": "tVtw7Vzr6a65"
      },
      "source": [
        "train.columns = ['no', 'modelname', 'ym', 'yeartype', 'fuel', 'dist', 'people', 'power', 'cylinder', 'torque', 'type', 'mission', 'country', 'newprice', 'price']\n",
        "test.columns = ['no', 'modelname', 'ym', 'yeartype', 'fuel', 'dist', 'people', 'power', 'cylinder', 'torque', 'type', 'mission', 'country']"
      ],
      "execution_count": 181,
      "outputs": []
    },
    {
      "cell_type": "code",
      "metadata": {
        "id": "eZg5qaNd6a68",
        "outputId": "4fa038b5-996a-4233-c57e-89eb31a20edc",
        "colab": {
          "base_uri": "https://localhost:8080/"
        }
      },
      "source": [
        "train.info()"
      ],
      "execution_count": 182,
      "outputs": [
        {
          "output_type": "stream",
          "text": [
            "<class 'pandas.core.frame.DataFrame'>\n",
            "RangeIndex: 11769 entries, 0 to 11768\n",
            "Data columns (total 15 columns):\n",
            " #   Column     Non-Null Count  Dtype  \n",
            "---  ------     --------------  -----  \n",
            " 0   no         11769 non-null  int64  \n",
            " 1   modelname  11769 non-null  object \n",
            " 2   ym         11769 non-null  object \n",
            " 3   yeartype   11769 non-null  float64\n",
            " 4   fuel       11769 non-null  object \n",
            " 5   dist       11769 non-null  object \n",
            " 6   people     765 non-null    float64\n",
            " 7   power      10644 non-null  float64\n",
            " 8   cylinder   8698 non-null   float64\n",
            " 9   torque     10545 non-null  float64\n",
            " 10  type       10808 non-null  object \n",
            " 11  mission    1313 non-null   object \n",
            " 12  country    11769 non-null  object \n",
            " 13  newprice   9544 non-null   float64\n",
            " 14  price      11769 non-null  float64\n",
            "dtypes: float64(7), int64(1), object(7)\n",
            "memory usage: 1.3+ MB\n"
          ],
          "name": "stdout"
        }
      ]
    },
    {
      "cell_type": "code",
      "metadata": {
        "id": "aG3tClND6a6-",
        "outputId": "5ce75806-d7ce-4215-9c36-be0803c6d063",
        "colab": {
          "base_uri": "https://localhost:8080/"
        }
      },
      "source": [
        "test.info()"
      ],
      "execution_count": 183,
      "outputs": [
        {
          "output_type": "stream",
          "text": [
            "<class 'pandas.core.frame.DataFrame'>\n",
            "RangeIndex: 5789 entries, 0 to 5788\n",
            "Data columns (total 13 columns):\n",
            " #   Column     Non-Null Count  Dtype  \n",
            "---  ------     --------------  -----  \n",
            " 0   no         5789 non-null   int64  \n",
            " 1   modelname  5789 non-null   object \n",
            " 2   ym         5789 non-null   object \n",
            " 3   yeartype   5789 non-null   float64\n",
            " 4   fuel       5789 non-null   object \n",
            " 5   dist       5789 non-null   object \n",
            " 6   people     389 non-null    float64\n",
            " 7   power      5237 non-null   float64\n",
            " 8   cylinder   4275 non-null   float64\n",
            " 9   torque     5183 non-null   float64\n",
            " 10  type       5312 non-null   object \n",
            " 11  mission    665 non-null    object \n",
            " 12  country    5789 non-null   object \n",
            "dtypes: float64(5), int64(1), object(7)\n",
            "memory usage: 588.1+ KB\n"
          ],
          "name": "stdout"
        }
      ]
    },
    {
      "cell_type": "code",
      "metadata": {
        "id": "4h1EMIZV6a7A"
      },
      "source": [
        "# sns.heatmap(train.isnull(), cbar=False)"
      ],
      "execution_count": 184,
      "outputs": []
    },
    {
      "cell_type": "code",
      "metadata": {
        "id": "weBwrSWB6a7B"
      },
      "source": [
        "# sns.heatmap(test.isnull(), cbar=False)"
      ],
      "execution_count": 185,
      "outputs": []
    },
    {
      "cell_type": "code",
      "metadata": {
        "id": "f3fBZeX96a7D"
      },
      "source": [
        "train_no = train['no']\n",
        "test_no = test['no']\n",
        "train = train.drop(['no'], axis=1)\n",
        "test = test.drop(['no'], axis=1)"
      ],
      "execution_count": 186,
      "outputs": []
    },
    {
      "cell_type": "markdown",
      "metadata": {
        "id": "hZU6Vech6a7F"
      },
      "source": [
        "# Getting started (All columns here)\n",
        "```\n",
        "0   no         11769 non-null  int64    \n",
        "1   모델명        11769 non-null  object   \n",
        "2   연월         11769 non-null  object   \n",
        "3   연식         11769 non-null  float64  \n",
        "4   연료         11769 non-null  object   \n",
        "5   주행거리       11769 non-null  object   \n",
        "6   인승         765 non-null    float64  \n",
        "7   최대출력(마력)   10644 non-null  float64  \n",
        "8   기통         8698 non-null   float64  \n",
        "9   최대토크(kgm)  10545 non-null  float64  \n",
        "10  구동방식       10808 non-null  object   \n",
        "11  자동수동       1313 non-null   object   \n",
        "12  국산/수입      11769 non-null  object   \n",
        "13  신차가(만원)    9544 non-null   float64  \n",
        "14  가격(만원)     11769 non-null  float64  \n",
        "```\n",
        "\n",
        "```\n",
        "0   no         11769 non-null  int64  \n",
        "1   modelname  11769 non-null  object \n",
        "2   ym         11769 non-null  object \n",
        "3   yeartype   11769 non-null  float64\n",
        "4   fuel       11769 non-null  object \n",
        "5   dist       11769 non-null  object \n",
        "6   people     765 non-null    float64\n",
        "7   power      10644 non-null  float64\n",
        "8   cylinder   8698 non-null   float64\n",
        "9   torque     10545 non-null  float64\n",
        "10  type       10808 non-null  object \n",
        "11  mission    1313 non-null   object \n",
        "12  country    11769 non-null  object \n",
        "13  newprice   9544 non-null   float64\n",
        "14  price      11769 non-null  float64\n",
        "```"
      ]
    },
    {
      "cell_type": "markdown",
      "metadata": {
        "id": "Y06b-JkTXdtW"
      },
      "source": [
        "# Outlier check, remove"
      ]
    },
    {
      "cell_type": "code",
      "metadata": {
        "id": "q5zJUjtzXbok",
        "outputId": "5d62f910-0326-4e6e-eca8-9337752459d0",
        "colab": {
          "base_uri": "https://localhost:8080/",
          "height": 282
        }
      },
      "source": [
        "fig, ax = plt.subplots()\n",
        "ax.scatter(x=train['yeartype'], y=train['price'])\n",
        "plt.xlabel('yeartype', fontsize=13)\n",
        "plt.ylabel('price', fontsize=13)\n",
        "plt.show()"
      ],
      "execution_count": 187,
      "outputs": [
        {
          "output_type": "display_data",
          "data": {
            "image/png": "[encoded data removed]",
            "text/plain": [
              "<Figure size 432x288 with 1 Axes>"
            ]
          },
          "metadata": {
            "tags": [],
            "needs_background": "light"
          }
        }
      ]
    },
    {
      "cell_type": "code",
      "metadata": {
        "id": "SFVYNvZzaZcK",
        "outputId": "a9523147-b8ae-4d0a-a6b2-caa046769067",
        "colab": {
          "base_uri": "https://localhost:8080/",
          "height": 282
        }
      },
      "source": [
        "fig, ax = plt.subplots()\n",
        "ax.scatter(x=train['newprice'], y=train['price'])\n",
        "plt.xlabel('newprice', fontsize=13)\n",
        "plt.ylabel('price', fontsize=13)\n",
        "plt.show()"
      ],
      "execution_count": 188,
      "outputs": [
        {
          "output_type": "display_data",
          "data": {
            "image/png": "[encoded data removed]",
            "text/plain": [
              "<Figure size 432x288 with 1 Axes>"
            ]
          },
          "metadata": {
            "tags": [],
            "needs_background": "light"
          }
        }
      ]
    },
    {
      "cell_type": "code",
      "metadata": {
        "id": "0POa7NCwcgMY"
      },
      "source": [
        "train = train.drop(train[(train['price'] > 40000)].index)"
      ],
      "execution_count": 189,
      "outputs": []
    },
    {
      "cell_type": "code",
      "metadata": {
        "id": "kNlsUcNpcwsM",
        "outputId": "b2a4581a-5269-407a-baaa-cefc82b72f61",
        "colab": {
          "base_uri": "https://localhost:8080/",
          "height": 48
        }
      },
      "source": [
        "train[(train['price'] > 40000)]"
      ],
      "execution_count": 190,
      "outputs": [
        {
          "output_type": "execute_result",
          "data": {
            "text/html": [
              "<div>\n",
              "<style scoped>\n",
              "    .dataframe tbody tr th:only-of-type {\n",
              "        vertical-align: middle;\n",
              "    }\n",
              "\n",
              "    .dataframe tbody tr th {\n",
              "        vertical-align: top;\n",
              "    }\n",
              "\n",
              "    .dataframe thead th {\n",
              "        text-align: right;\n",
              "    }\n",
              "</style>\n",
              "<table border=\"1\" class=\"dataframe\">\n",
              "  <thead>\n",
              "    <tr style=\"text-align: right;\">\n",
              "      <th></th>\n",
              "      <th>modelname</th>\n",
              "      <th>ym</th>\n",
              "      <th>yeartype</th>\n",
              "      <th>fuel</th>\n",
              "      <th>dist</th>\n",
              "      <th>people</th>\n",
              "      <th>power</th>\n",
              "      <th>cylinder</th>\n",
              "      <th>torque</th>\n",
              "      <th>type</th>\n",
              "      <th>mission</th>\n",
              "      <th>country</th>\n",
              "      <th>newprice</th>\n",
              "      <th>price</th>\n",
              "    </tr>\n",
              "  </thead>\n",
              "  <tbody>\n",
              "  </tbody>\n",
              "</table>\n",
              "</div>"
            ],
            "text/plain": [
              "Empty DataFrame\n",
              "Columns: [modelname, ym, yeartype, fuel, dist, people, power, cylinder, torque, type, mission, country, newprice, price]\n",
              "Index: []"
            ]
          },
          "metadata": {
            "tags": []
          },
          "execution_count": 190
        }
      ]
    },
    {
      "cell_type": "markdown",
      "metadata": {
        "id": "PSwjcWQFeM1J"
      },
      "source": [
        "# More inspection at price (apply log1p)"
      ]
    },
    {
      "cell_type": "code",
      "metadata": {
        "id": "W2iEcK0ceMam",
        "outputId": "834c0f4c-999c-418c-d616-89b33eda468b",
        "colab": {
          "base_uri": "https://localhost:8080/",
          "height": 629
        }
      },
      "source": [
        "sns.distplot(train['price'], fit=norm)\n",
        "\n",
        "# Get the fitted parameters used by the function\n",
        "(mu, sigma) = norm.fit(train['price'])\n",
        "print( '\\n mu = {:.2f} and sigma = {:.2f}\\n'.format(mu, sigma))\n",
        "\n",
        "#Now plot the distribution\n",
        "plt.legend(['Normal dist. ($\\mu=$ {:.2f} and $\\sigma=$ {:.2f} )'.format(mu, sigma)],\n",
        "            loc='best')\n",
        "plt.ylabel('Frequency')\n",
        "plt.title('price distribution')\n",
        "\n",
        "#Get also the QQ-plot\n",
        "fig = plt.figure()\n",
        "res = stats.probplot(train['price'], plot=plt)\n",
        "plt.show()"
      ],
      "execution_count": 191,
      "outputs": [
        {
          "output_type": "stream",
          "text": [
            "\n",
            " mu = 1459.69 and sigma = 1374.79\n",
            "\n"
          ],
          "name": "stdout"
        },
        {
          "output_type": "display_data",
          "data": {
            "image/png": "[encoded data removed]",
            "text/plain": [
              "<Figure size 432x288 with 1 Axes>"
            ]
          },
          "metadata": {
            "tags": [],
            "needs_background": "light"
          }
        },
        {
          "output_type": "display_data",
          "data": {
            "image/png": "[encoded data removed]",
            "text/plain": [
              "<Figure size 432x288 with 1 Axes>"
            ]
          },
          "metadata": {
            "tags": [],
            "needs_background": "light"
          }
        }
      ]
    },
    {
      "cell_type": "code",
      "metadata": {
        "id": "QmYUW6lzfQkk"
      },
      "source": [
        "train[\"price\"] = np.log1p(train[\"price\"])"
      ],
      "execution_count": 192,
      "outputs": []
    },
    {
      "cell_type": "code",
      "metadata": {
        "id": "DTedun6ufSKT",
        "outputId": "83874a9e-9586-4ee8-d1fb-cb63c1ed0bfe",
        "colab": {
          "base_uri": "https://localhost:8080/",
          "height": 629
        }
      },
      "source": [
        "sns.distplot(train['price'], fit=norm)\n",
        "\n",
        "# Get the fitted parameters used by the function\n",
        "(mu, sigma) = norm.fit(train['price'])\n",
        "print( '\\n mu = {:.2f} and sigma = {:.2f}\\n'.format(mu, sigma))\n",
        "\n",
        "#Now plot the distribution\n",
        "plt.legend(['Normal dist. ($\\mu=$ {:.2f} and $\\sigma=$ {:.2f} )'.format(mu, sigma)],\n",
        "            loc='best')\n",
        "plt.ylabel('Frequency')\n",
        "plt.title('price distribution')\n",
        "\n",
        "#Get also the QQ-plot\n",
        "fig = plt.figure()\n",
        "res = stats.probplot(train['price'], plot=plt)\n",
        "plt.show()"
      ],
      "execution_count": 193,
      "outputs": [
        {
          "output_type": "stream",
          "text": [
            "\n",
            " mu = 6.94 and sigma = 0.88\n",
            "\n"
          ],
          "name": "stdout"
        },
        {
          "output_type": "display_data",
          "data": {
            "image/png": "[encoded data removed]",
            "text/plain": [
              "<Figure size 432x288 with 1 Axes>"
            ]
          },
          "metadata": {
            "tags": [],
            "needs_background": "light"
          }
        },
        {
          "output_type": "display_data",
          "data": {
            "image/png": "[encoded data removed]",
            "text/plain": [
              "<Figure size 432x288 with 1 Axes>"
            ]
          },
          "metadata": {
            "tags": [],
            "needs_background": "light"
          }
        }
      ]
    },
    {
      "cell_type": "markdown",
      "metadata": {
        "id": "y_vhNli1fyYn"
      },
      "source": [
        "# Correlation Matrix"
      ]
    },
    {
      "cell_type": "code",
      "metadata": {
        "id": "xYvLuSXYfyqU",
        "outputId": "203e94e8-410e-4e84-fc8c-523ee3613e65",
        "colab": {
          "base_uri": "https://localhost:8080/",
          "height": 555
        }
      },
      "source": [
        "#Correlation map to see how features are correlated with SalePrice\n",
        "corrmat = train.corr()\n",
        "plt.subplots(figsize=(12,9))\n",
        "sns.heatmap(corrmat, vmax=0.9, square=True)"
      ],
      "execution_count": 194,
      "outputs": [
        {
          "output_type": "execute_result",
          "data": {
            "text/plain": [
              "<matplotlib.axes._subplots.AxesSubplot at 0x7ff409504470>"
            ]
          },
          "metadata": {
            "tags": []
          },
          "execution_count": 194
        },
        {
          "output_type": "display_data",
          "data": {
            "image/png": "[encoded data removed]",
            "text/plain": [
              "<Figure size 864x648 with 2 Axes>"
            ]
          },
          "metadata": {
            "tags": [],
            "needs_background": "light"
          }
        }
      ]
    },
    {
      "cell_type": "markdown",
      "metadata": {
        "id": "qNG5jQEb6a7G"
      },
      "source": [
        "# 1 모델명 modelname 11769 non-null object\n",
        "\n",
        "- 예전에 했던 모델명 방식. 안 되네 ㅅㅂ"
      ]
    },
    {
      "cell_type": "code",
      "metadata": {
        "id": "RslOa4VCPEPc",
        "outputId": "52ea9c9c-f7db-4330-848d-56f1dba69d85",
        "colab": {
          "base_uri": "https://localhost:8080/"
        }
      },
      "source": [
        "train = train.drop(['modelname'], axis=1)\n",
        "test = test.drop(['modelname'], axis=1)\n",
        "\n",
        "print(train.shape)\n",
        "print(test.shape)"
      ],
      "execution_count": 195,
      "outputs": [
        {
          "output_type": "stream",
          "text": [
            "(11767, 13)\n",
            "(5789, 11)\n"
          ],
          "name": "stdout"
        }
      ]
    },
    {
      "cell_type": "markdown",
      "metadata": {
        "id": "f5Guq0BE6a7I"
      },
      "source": [
        "# 2 연월 ym 11769 non-null object\n",
        "\n",
        "- 생각해보면, 그리고 데이터 명세 다시 보니까,\n",
        "- 어차피 연식(yeartype)에 있는 정보다\n",
        "- 이거 날리자"
      ]
    },
    {
      "cell_type": "code",
      "metadata": {
        "id": "V48VspfY6a7I",
        "outputId": "167cc6e9-03b9-4006-ea1c-6c052faecf49",
        "colab": {
          "base_uri": "https://localhost:8080/"
        }
      },
      "source": [
        "train = train.drop(['ym'], axis=1)\n",
        "test = test.drop(['ym'], axis=1)\n",
        "\n",
        "print(train.shape)\n",
        "print(test.shape)"
      ],
      "execution_count": 196,
      "outputs": [
        {
          "output_type": "stream",
          "text": [
            "(11767, 12)\n",
            "(5789, 10)\n"
          ],
          "name": "stdout"
        }
      ]
    },
    {
      "cell_type": "markdown",
      "metadata": {
        "id": "6Ibh0Cf66a7L"
      },
      "source": [
        "# 3 연식 yeartype 11769 non-null float64\n",
        "\n",
        "건들지 말자"
      ]
    },
    {
      "cell_type": "markdown",
      "metadata": {
        "id": "vYq-hRQ16a7L"
      },
      "source": [
        "# 4 연료 fuel 11769 non-null object\n",
        "\n",
        "- 범주형\n",
        "- 이거 생각 좀 해보자\n",
        "- 그냥 큰 범주로 산입할까?"
      ]
    },
    {
      "cell_type": "code",
      "metadata": {
        "id": "RlDoCoc36a7L"
      },
      "source": [
        "train_fuel = train['fuel']\n",
        "test_fuel = test['fuel']"
      ],
      "execution_count": 197,
      "outputs": []
    },
    {
      "cell_type": "code",
      "metadata": {
        "id": "ZgGRJoEh6a7O",
        "outputId": "432f611d-601d-495d-9f7b-ea2b6f8b2c3d",
        "colab": {
          "base_uri": "https://localhost:8080/"
        }
      },
      "source": [
        "print(train_fuel.value_counts())\n",
        "print()\n",
        "print(test_fuel.value_counts())"
      ],
      "execution_count": 198,
      "outputs": [
        {
          "output_type": "stream",
          "text": [
            "가솔린          6669\n",
            "디젤           3967\n",
            "LPG           934\n",
            "가솔린+전기         79\n",
            "가솔린/LPG겸용      41\n",
            "기타             32\n",
            "전기             24\n",
            "LPG+전기         14\n",
            "가솔린/CNG겸용       4\n",
            "CNG             2\n",
            "수소              1\n",
            "Name: fuel, dtype: int64\n",
            "\n",
            "가솔린          3280\n",
            "디젤           1932\n",
            "LPG           469\n",
            "가솔린+전기         34\n",
            "가솔린/LPG겸용      33\n",
            "전기             19\n",
            "기타             11\n",
            "LPG+전기          8\n",
            "CNG             2\n",
            "가솔린/CNG겸용       1\n",
            "Name: fuel, dtype: int64\n"
          ],
          "name": "stdout"
        }
      ]
    },
    {
      "cell_type": "markdown",
      "metadata": {
        "id": "WGw2dXg66a7P"
      },
      "source": [
        "## 산입\n",
        "\n",
        "- 일단 그냥 수소만 기타로 갖다박을까?\n",
        "\n"
      ]
    },
    {
      "cell_type": "code",
      "metadata": {
        "id": "69bcTkQm6a7Q"
      },
      "source": [
        "train_fuel = train_fuel.replace('수소', '기타')"
      ],
      "execution_count": 199,
      "outputs": []
    },
    {
      "cell_type": "code",
      "metadata": {
        "id": "YVuHRI7F6a7S",
        "outputId": "323a0fe2-3086-4047-c355-fb911613ca5f",
        "colab": {
          "base_uri": "https://localhost:8080/"
        }
      },
      "source": [
        "train_fuel.value_counts()"
      ],
      "execution_count": 200,
      "outputs": [
        {
          "output_type": "execute_result",
          "data": {
            "text/plain": [
              "가솔린          6669\n",
              "디젤           3967\n",
              "LPG           934\n",
              "가솔린+전기         79\n",
              "가솔린/LPG겸용      41\n",
              "기타             33\n",
              "전기             24\n",
              "LPG+전기         14\n",
              "가솔린/CNG겸용       4\n",
              "CNG             2\n",
              "Name: fuel, dtype: int64"
            ]
          },
          "metadata": {
            "tags": []
          },
          "execution_count": 200
        }
      ]
    },
    {
      "cell_type": "code",
      "metadata": {
        "id": "sWVoO1yi6a7V"
      },
      "source": [
        "train_fuel_dummies = pd.get_dummies(train_fuel)\n",
        "test_fuel_dummies = pd.get_dummies(test_fuel)\n",
        "\n",
        "train_fuel_dummies = train_fuel_dummies.add_prefix('fuel_')\n",
        "test_fuel_dummies = test_fuel_dummies.add_prefix('fuel_')\n",
        "\n",
        "train = train.join(train_fuel_dummies)\n",
        "test = test.join(test_fuel_dummies)\n",
        "\n",
        "train = train.drop(['fuel'], axis=1)\n",
        "test = test.drop(['fuel'], axis=1)\n",
        "\n",
        "## train = train.join(train_fuel)\n",
        "## test = test.join(test_fuel)"
      ],
      "execution_count": 201,
      "outputs": []
    },
    {
      "cell_type": "code",
      "metadata": {
        "id": "p6l3mDuI6a7W",
        "outputId": "89052c87-a281-4243-878d-6f16e56ce0e7",
        "colab": {
          "base_uri": "https://localhost:8080/",
          "height": 360
        }
      },
      "source": [
        "train.head()"
      ],
      "execution_count": 202,
      "outputs": [
        {
          "output_type": "execute_result",
          "data": {
            "text/html": [
              "<div>\n",
              "<style scoped>\n",
              "    .dataframe tbody tr th:only-of-type {\n",
              "        vertical-align: middle;\n",
              "    }\n",
              "\n",
              "    .dataframe tbody tr th {\n",
              "        vertical-align: top;\n",
              "    }\n",
              "\n",
              "    .dataframe thead th {\n",
              "        text-align: right;\n",
              "    }\n",
              "</style>\n",
              "<table border=\"1\" class=\"dataframe\">\n",
              "  <thead>\n",
              "    <tr style=\"text-align: right;\">\n",
              "      <th></th>\n",
              "      <th>yeartype</th>\n",
              "      <th>dist</th>\n",
              "      <th>people</th>\n",
              "      <th>power</th>\n",
              "      <th>cylinder</th>\n",
              "      <th>torque</th>\n",
              "      <th>type</th>\n",
              "      <th>mission</th>\n",
              "      <th>country</th>\n",
              "      <th>newprice</th>\n",
              "      <th>price</th>\n",
              "      <th>fuel_CNG</th>\n",
              "      <th>fuel_LPG</th>\n",
              "      <th>fuel_LPG+전기</th>\n",
              "      <th>fuel_가솔린</th>\n",
              "      <th>fuel_가솔린+전기</th>\n",
              "      <th>fuel_가솔린/CNG겸용</th>\n",
              "      <th>fuel_가솔린/LPG겸용</th>\n",
              "      <th>fuel_기타</th>\n",
              "      <th>fuel_디젤</th>\n",
              "      <th>fuel_전기</th>\n",
              "    </tr>\n",
              "  </thead>\n",
              "  <tbody>\n",
              "    <tr>\n",
              "      <th>0</th>\n",
              "      <td>2013.0</td>\n",
              "      <td>4만km</td>\n",
              "      <td>NaN</td>\n",
              "      <td>201.0</td>\n",
              "      <td>4.0</td>\n",
              "      <td>25.5</td>\n",
              "      <td>FF</td>\n",
              "      <td>NaN</td>\n",
              "      <td>국산</td>\n",
              "      <td>3141.0</td>\n",
              "      <td>7.534228</td>\n",
              "      <td>0</td>\n",
              "      <td>0</td>\n",
              "      <td>0</td>\n",
              "      <td>1</td>\n",
              "      <td>0</td>\n",
              "      <td>0</td>\n",
              "      <td>0</td>\n",
              "      <td>0</td>\n",
              "      <td>0</td>\n",
              "      <td>0</td>\n",
              "    </tr>\n",
              "    <tr>\n",
              "      <th>1</th>\n",
              "      <td>2010.0</td>\n",
              "      <td>9만km</td>\n",
              "      <td>NaN</td>\n",
              "      <td>157.0</td>\n",
              "      <td>NaN</td>\n",
              "      <td>20.0</td>\n",
              "      <td>FF</td>\n",
              "      <td>NaN</td>\n",
              "      <td>국산</td>\n",
              "      <td>NaN</td>\n",
              "      <td>6.552508</td>\n",
              "      <td>0</td>\n",
              "      <td>1</td>\n",
              "      <td>0</td>\n",
              "      <td>0</td>\n",
              "      <td>0</td>\n",
              "      <td>0</td>\n",
              "      <td>0</td>\n",
              "      <td>0</td>\n",
              "      <td>0</td>\n",
              "      <td>0</td>\n",
              "    </tr>\n",
              "    <tr>\n",
              "      <th>2</th>\n",
              "      <td>2015.0</td>\n",
              "      <td>3만km</td>\n",
              "      <td>NaN</td>\n",
              "      <td>202.0</td>\n",
              "      <td>4.0</td>\n",
              "      <td>45.0</td>\n",
              "      <td>FF</td>\n",
              "      <td>NaN</td>\n",
              "      <td>국산</td>\n",
              "      <td>3389.0</td>\n",
              "      <td>8.003363</td>\n",
              "      <td>0</td>\n",
              "      <td>0</td>\n",
              "      <td>0</td>\n",
              "      <td>0</td>\n",
              "      <td>0</td>\n",
              "      <td>0</td>\n",
              "      <td>0</td>\n",
              "      <td>0</td>\n",
              "      <td>1</td>\n",
              "      <td>0</td>\n",
              "    </tr>\n",
              "    <tr>\n",
              "      <th>3</th>\n",
              "      <td>2008.0</td>\n",
              "      <td>16만km</td>\n",
              "      <td>NaN</td>\n",
              "      <td>151.0</td>\n",
              "      <td>4.0</td>\n",
              "      <td>33.8</td>\n",
              "      <td>FR</td>\n",
              "      <td>NaN</td>\n",
              "      <td>국산</td>\n",
              "      <td>2499.0</td>\n",
              "      <td>6.042633</td>\n",
              "      <td>0</td>\n",
              "      <td>0</td>\n",
              "      <td>0</td>\n",
              "      <td>0</td>\n",
              "      <td>0</td>\n",
              "      <td>0</td>\n",
              "      <td>0</td>\n",
              "      <td>0</td>\n",
              "      <td>1</td>\n",
              "      <td>0</td>\n",
              "    </tr>\n",
              "    <tr>\n",
              "      <th>4</th>\n",
              "      <td>2004.0</td>\n",
              "      <td>16만km</td>\n",
              "      <td>3.0</td>\n",
              "      <td>103.0</td>\n",
              "      <td>NaN</td>\n",
              "      <td>24.0</td>\n",
              "      <td>FR</td>\n",
              "      <td>수동</td>\n",
              "      <td>국산</td>\n",
              "      <td>1445.0</td>\n",
              "      <td>6.111467</td>\n",
              "      <td>0</td>\n",
              "      <td>0</td>\n",
              "      <td>0</td>\n",
              "      <td>0</td>\n",
              "      <td>0</td>\n",
              "      <td>0</td>\n",
              "      <td>0</td>\n",
              "      <td>0</td>\n",
              "      <td>1</td>\n",
              "      <td>0</td>\n",
              "    </tr>\n",
              "  </tbody>\n",
              "</table>\n",
              "</div>"
            ],
            "text/plain": [
              "   yeartype   dist  people  power  ...  fuel_가솔린/LPG겸용  fuel_기타 fuel_디젤 fuel_전기\n",
              "0    2013.0   4만km     NaN  201.0  ...               0        0       0       0\n",
              "1    2010.0   9만km     NaN  157.0  ...               0        0       0       0\n",
              "2    2015.0   3만km     NaN  202.0  ...               0        0       1       0\n",
              "3    2008.0  16만km     NaN  151.0  ...               0        0       1       0\n",
              "4    2004.0  16만km     3.0  103.0  ...               0        0       1       0\n",
              "\n",
              "[5 rows x 21 columns]"
            ]
          },
          "metadata": {
            "tags": []
          },
          "execution_count": 202
        }
      ]
    },
    {
      "cell_type": "code",
      "metadata": {
        "id": "tVRRF0KL6a7Z",
        "outputId": "8676c375-7f5e-4609-a88d-5dd17f653a94",
        "colab": {
          "base_uri": "https://localhost:8080/"
        }
      },
      "source": [
        "print(train.shape)\n",
        "print(test.shape)"
      ],
      "execution_count": 203,
      "outputs": [
        {
          "output_type": "stream",
          "text": [
            "(11767, 21)\n",
            "(5789, 19)\n"
          ],
          "name": "stdout"
        }
      ]
    },
    {
      "cell_type": "markdown",
      "metadata": {
        "id": "T0Fl4JRV6a7b"
      },
      "source": [
        "# 5 주행거리 dist 11769 non-null object\n",
        "\n",
        "- %d만{km|ml}\n",
        "- 중간중간에 '등록'이라고 되어있는 게 있다\n",
        "- 일단 결측치로 냅둘까?\n",
        "- 나중에 MissForest 처리할 것이다"
      ]
    },
    {
      "cell_type": "code",
      "metadata": {
        "id": "WBPApT5O6a7b",
        "outputId": "ac0e4a17-9c64-4d8d-b1f6-63896af08554",
        "colab": {
          "base_uri": "https://localhost:8080/"
        }
      },
      "source": [
        "train_dist = train['dist']\n",
        "test_dist = test['dist']\n",
        "\n",
        "train_dist"
      ],
      "execution_count": 204,
      "outputs": [
        {
          "output_type": "execute_result",
          "data": {
            "text/plain": [
              "0         4만km\n",
              "1         9만km\n",
              "2         3만km\n",
              "3        16만km\n",
              "4        16만km\n",
              "         ...  \n",
              "11763     2천km\n",
              "11765     5천km\n",
              "11766    230km\n",
              "11767     9천km\n",
              "11768     3천km\n",
              "Name: dist, Length: 11767, dtype: object"
            ]
          },
          "metadata": {
            "tags": []
          },
          "execution_count": 204
        }
      ]
    },
    {
      "cell_type": "code",
      "metadata": {
        "id": "3gkmXRPn6a7d"
      },
      "source": [
        "def preprocess_dist(x):\n",
        "    # '등록'은 나중에 평균으로 채울 거임\n",
        "    if x == '등록':\n",
        "        return None\n",
        "\n",
        "    if x[-2:] == 'km':\n",
        "        # kilometer\n",
        "        x = x.split('km')[0]\n",
        "        weight = 1\n",
        "    else:\n",
        "        # mile\n",
        "        assert x[-2:] == 'ml'\n",
        "        x = x.split('ml')[0]\n",
        "        weight = 1.609344\n",
        "\n",
        "    if x[-1] == '만':\n",
        "        x = float(x.split('만')[0]) * 10000\n",
        "    elif x[-1] == '천':\n",
        "        x = float(x.split('천')[0]) * 1000\n",
        "\n",
        "    return float(x * weight)"
      ],
      "execution_count": 205,
      "outputs": []
    },
    {
      "cell_type": "code",
      "metadata": {
        "id": "BJbIhuZI6a7f",
        "outputId": "e4fb0b8a-69d1-436e-c3b6-f9e13c32fb1d",
        "colab": {
          "base_uri": "https://localhost:8080/"
        }
      },
      "source": [
        "train_dist = train_dist.apply(preprocess_dist)\n",
        "test_dist = test_dist.apply(preprocess_dist)\n",
        "\n",
        "train_dist"
      ],
      "execution_count": 206,
      "outputs": [
        {
          "output_type": "execute_result",
          "data": {
            "text/plain": [
              "0         40000.0\n",
              "1         90000.0\n",
              "2         30000.0\n",
              "3        160000.0\n",
              "4        160000.0\n",
              "           ...   \n",
              "11763      2000.0\n",
              "11765      5000.0\n",
              "11766       230.0\n",
              "11767      9000.0\n",
              "11768      3000.0\n",
              "Name: dist, Length: 11767, dtype: float64"
            ]
          },
          "metadata": {
            "tags": []
          },
          "execution_count": 206
        }
      ]
    },
    {
      "cell_type": "code",
      "metadata": {
        "id": "f4mnBCOm6a7h",
        "outputId": "3ec0062a-d4f3-44b7-8be5-126c30ba43c2",
        "colab": {
          "base_uri": "https://localhost:8080/"
        }
      },
      "source": [
        "# 등록 처리\n",
        "train_dist.isna().sum()"
      ],
      "execution_count": 207,
      "outputs": [
        {
          "output_type": "execute_result",
          "data": {
            "text/plain": [
              "29"
            ]
          },
          "metadata": {
            "tags": []
          },
          "execution_count": 207
        }
      ]
    },
    {
      "cell_type": "code",
      "metadata": {
        "id": "g5OZ0d0r6a7n"
      },
      "source": [
        "train = train.drop(['dist'], axis=1)\n",
        "test = test.drop(['dist'], axis=1)\n",
        "\n",
        "train = train.join(train_dist)\n",
        "test = test.join(test_dist)"
      ],
      "execution_count": 208,
      "outputs": []
    },
    {
      "cell_type": "code",
      "metadata": {
        "id": "pKSaQuf-6a7p",
        "outputId": "b7a04122-922d-4c77-f9cf-9810f95df87d",
        "colab": {
          "base_uri": "https://localhost:8080/",
          "height": 274
        }
      },
      "source": [
        "train.head()"
      ],
      "execution_count": 209,
      "outputs": [
        {
          "output_type": "execute_result",
          "data": {
            "text/html": [
              "<div>\n",
              "<style scoped>\n",
              "    .dataframe tbody tr th:only-of-type {\n",
              "        vertical-align: middle;\n",
              "    }\n",
              "\n",
              "    .dataframe tbody tr th {\n",
              "        vertical-align: top;\n",
              "    }\n",
              "\n",
              "    .dataframe thead th {\n",
              "        text-align: right;\n",
              "    }\n",
              "</style>\n",
              "<table border=\"1\" class=\"dataframe\">\n",
              "  <thead>\n",
              "    <tr style=\"text-align: right;\">\n",
              "      <th></th>\n",
              "      <th>yeartype</th>\n",
              "      <th>people</th>\n",
              "      <th>power</th>\n",
              "      <th>cylinder</th>\n",
              "      <th>torque</th>\n",
              "      <th>type</th>\n",
              "      <th>mission</th>\n",
              "      <th>country</th>\n",
              "      <th>newprice</th>\n",
              "      <th>price</th>\n",
              "      <th>fuel_CNG</th>\n",
              "      <th>fuel_LPG</th>\n",
              "      <th>fuel_LPG+전기</th>\n",
              "      <th>fuel_가솔린</th>\n",
              "      <th>fuel_가솔린+전기</th>\n",
              "      <th>fuel_가솔린/CNG겸용</th>\n",
              "      <th>fuel_가솔린/LPG겸용</th>\n",
              "      <th>fuel_기타</th>\n",
              "      <th>fuel_디젤</th>\n",
              "      <th>fuel_전기</th>\n",
              "      <th>dist</th>\n",
              "    </tr>\n",
              "  </thead>\n",
              "  <tbody>\n",
              "    <tr>\n",
              "      <th>0</th>\n",
              "      <td>2013.0</td>\n",
              "      <td>NaN</td>\n",
              "      <td>201.0</td>\n",
              "      <td>4.0</td>\n",
              "      <td>25.5</td>\n",
              "      <td>FF</td>\n",
              "      <td>NaN</td>\n",
              "      <td>국산</td>\n",
              "      <td>3141.0</td>\n",
              "      <td>7.534228</td>\n",
              "      <td>0</td>\n",
              "      <td>0</td>\n",
              "      <td>0</td>\n",
              "      <td>1</td>\n",
              "      <td>0</td>\n",
              "      <td>0</td>\n",
              "      <td>0</td>\n",
              "      <td>0</td>\n",
              "      <td>0</td>\n",
              "      <td>0</td>\n",
              "      <td>40000.0</td>\n",
              "    </tr>\n",
              "    <tr>\n",
              "      <th>1</th>\n",
              "      <td>2010.0</td>\n",
              "      <td>NaN</td>\n",
              "      <td>157.0</td>\n",
              "      <td>NaN</td>\n",
              "      <td>20.0</td>\n",
              "      <td>FF</td>\n",
              "      <td>NaN</td>\n",
              "      <td>국산</td>\n",
              "      <td>NaN</td>\n",
              "      <td>6.552508</td>\n",
              "      <td>0</td>\n",
              "      <td>1</td>\n",
              "      <td>0</td>\n",
              "      <td>0</td>\n",
              "      <td>0</td>\n",
              "      <td>0</td>\n",
              "      <td>0</td>\n",
              "      <td>0</td>\n",
              "      <td>0</td>\n",
              "      <td>0</td>\n",
              "      <td>90000.0</td>\n",
              "    </tr>\n",
              "    <tr>\n",
              "      <th>2</th>\n",
              "      <td>2015.0</td>\n",
              "      <td>NaN</td>\n",
              "      <td>202.0</td>\n",
              "      <td>4.0</td>\n",
              "      <td>45.0</td>\n",
              "      <td>FF</td>\n",
              "      <td>NaN</td>\n",
              "      <td>국산</td>\n",
              "      <td>3389.0</td>\n",
              "      <td>8.003363</td>\n",
              "      <td>0</td>\n",
              "      <td>0</td>\n",
              "      <td>0</td>\n",
              "      <td>0</td>\n",
              "      <td>0</td>\n",
              "      <td>0</td>\n",
              "      <td>0</td>\n",
              "      <td>0</td>\n",
              "      <td>1</td>\n",
              "      <td>0</td>\n",
              "      <td>30000.0</td>\n",
              "    </tr>\n",
              "    <tr>\n",
              "      <th>3</th>\n",
              "      <td>2008.0</td>\n",
              "      <td>NaN</td>\n",
              "      <td>151.0</td>\n",
              "      <td>4.0</td>\n",
              "      <td>33.8</td>\n",
              "      <td>FR</td>\n",
              "      <td>NaN</td>\n",
              "      <td>국산</td>\n",
              "      <td>2499.0</td>\n",
              "      <td>6.042633</td>\n",
              "      <td>0</td>\n",
              "      <td>0</td>\n",
              "      <td>0</td>\n",
              "      <td>0</td>\n",
              "      <td>0</td>\n",
              "      <td>0</td>\n",
              "      <td>0</td>\n",
              "      <td>0</td>\n",
              "      <td>1</td>\n",
              "      <td>0</td>\n",
              "      <td>160000.0</td>\n",
              "    </tr>\n",
              "    <tr>\n",
              "      <th>4</th>\n",
              "      <td>2004.0</td>\n",
              "      <td>3.0</td>\n",
              "      <td>103.0</td>\n",
              "      <td>NaN</td>\n",
              "      <td>24.0</td>\n",
              "      <td>FR</td>\n",
              "      <td>수동</td>\n",
              "      <td>국산</td>\n",
              "      <td>1445.0</td>\n",
              "      <td>6.111467</td>\n",
              "      <td>0</td>\n",
              "      <td>0</td>\n",
              "      <td>0</td>\n",
              "      <td>0</td>\n",
              "      <td>0</td>\n",
              "      <td>0</td>\n",
              "      <td>0</td>\n",
              "      <td>0</td>\n",
              "      <td>1</td>\n",
              "      <td>0</td>\n",
              "      <td>160000.0</td>\n",
              "    </tr>\n",
              "  </tbody>\n",
              "</table>\n",
              "</div>"
            ],
            "text/plain": [
              "   yeartype  people  power  cylinder  ...  fuel_기타 fuel_디젤 fuel_전기      dist\n",
              "0    2013.0     NaN  201.0       4.0  ...        0       0       0   40000.0\n",
              "1    2010.0     NaN  157.0       NaN  ...        0       0       0   90000.0\n",
              "2    2015.0     NaN  202.0       4.0  ...        0       1       0   30000.0\n",
              "3    2008.0     NaN  151.0       4.0  ...        0       1       0  160000.0\n",
              "4    2004.0     3.0  103.0       NaN  ...        0       1       0  160000.0\n",
              "\n",
              "[5 rows x 21 columns]"
            ]
          },
          "metadata": {
            "tags": []
          },
          "execution_count": 209
        }
      ]
    },
    {
      "cell_type": "markdown",
      "metadata": {
        "id": "i2fISCc56a7r"
      },
      "source": [
        "# 6 인승 people 765 non-null float64\n",
        "\n",
        "- 드랍"
      ]
    },
    {
      "cell_type": "code",
      "metadata": {
        "id": "RQ5nFdjm6a7r"
      },
      "source": [
        "train_people = train['people']\n",
        "test_people = test['people']"
      ],
      "execution_count": 210,
      "outputs": []
    },
    {
      "cell_type": "code",
      "metadata": {
        "id": "P6WBIWTq6a7v"
      },
      "source": [
        "train = train.drop(['people'], axis=1)\n",
        "test = test.drop(['people'], axis=1)"
      ],
      "execution_count": 211,
      "outputs": []
    },
    {
      "cell_type": "markdown",
      "metadata": {
        "id": "N7ecncKI6a7x"
      },
      "source": [
        "# 7 최대출력(마력) power 10644 non-null float64\n",
        "\n",
        "- 얘도 결측치들을 냅두자"
      ]
    },
    {
      "cell_type": "code",
      "metadata": {
        "id": "c-9fEHIj6a7x",
        "outputId": "334b235e-abf0-4e61-8395-a1f1bfc3e7ab",
        "colab": {
          "base_uri": "https://localhost:8080/"
        }
      },
      "source": [
        "train_power = train['power']\n",
        "test_power = test['power']\n",
        "\n",
        "train_power"
      ],
      "execution_count": 212,
      "outputs": [
        {
          "output_type": "execute_result",
          "data": {
            "text/plain": [
              "0        201.0\n",
              "1        157.0\n",
              "2        202.0\n",
              "3        151.0\n",
              "4        103.0\n",
              "         ...  \n",
              "11763    425.0\n",
              "11765      NaN\n",
              "11766    370.0\n",
              "11767    425.0\n",
              "11768    425.0\n",
              "Name: power, Length: 11767, dtype: float64"
            ]
          },
          "metadata": {
            "tags": []
          },
          "execution_count": 212
        }
      ]
    },
    {
      "cell_type": "code",
      "metadata": {
        "id": "UBLB_NMD6a7z",
        "outputId": "2be75c39-9ac4-48b9-eeb4-5aad1d7a3313",
        "colab": {
          "base_uri": "https://localhost:8080/"
        }
      },
      "source": [
        "train_power.isna().sum()"
      ],
      "execution_count": 213,
      "outputs": [
        {
          "output_type": "execute_result",
          "data": {
            "text/plain": [
              "1125"
            ]
          },
          "metadata": {
            "tags": []
          },
          "execution_count": 213
        }
      ]
    },
    {
      "cell_type": "code",
      "metadata": {
        "id": "6OY1HzOp6a71"
      },
      "source": [
        "# train_power = train_power.fillna(train_power.mean())\n",
        "# test_power = test_power.fillna(test_power.mean())\n",
        "\n",
        "# train_power.isna().sum()"
      ],
      "execution_count": 214,
      "outputs": []
    },
    {
      "cell_type": "code",
      "metadata": {
        "id": "mzi652Zb6a75"
      },
      "source": [
        "train = train.drop(['power'], axis=1)\n",
        "test = test.drop(['power'], axis=1)\n",
        "\n",
        "train = train.join(train_power)\n",
        "test = test.join(test_power)"
      ],
      "execution_count": 215,
      "outputs": []
    },
    {
      "cell_type": "code",
      "metadata": {
        "id": "mm5NzeNQ6a77",
        "outputId": "aedd9b61-407c-4457-837b-436ef4993123",
        "colab": {
          "base_uri": "https://localhost:8080/",
          "height": 0
        }
      },
      "source": [
        "train.head()"
      ],
      "execution_count": 216,
      "outputs": [
        {
          "output_type": "execute_result",
          "data": {
            "text/html": [
              "<div>\n",
              "<style scoped>\n",
              "    .dataframe tbody tr th:only-of-type {\n",
              "        vertical-align: middle;\n",
              "    }\n",
              "\n",
              "    .dataframe tbody tr th {\n",
              "        vertical-align: top;\n",
              "    }\n",
              "\n",
              "    .dataframe thead th {\n",
              "        text-align: right;\n",
              "    }\n",
              "</style>\n",
              "<table border=\"1\" class=\"dataframe\">\n",
              "  <thead>\n",
              "    <tr style=\"text-align: right;\">\n",
              "      <th></th>\n",
              "      <th>yeartype</th>\n",
              "      <th>cylinder</th>\n",
              "      <th>torque</th>\n",
              "      <th>type</th>\n",
              "      <th>mission</th>\n",
              "      <th>country</th>\n",
              "      <th>newprice</th>\n",
              "      <th>price</th>\n",
              "      <th>fuel_CNG</th>\n",
              "      <th>fuel_LPG</th>\n",
              "      <th>fuel_LPG+전기</th>\n",
              "      <th>fuel_가솔린</th>\n",
              "      <th>fuel_가솔린+전기</th>\n",
              "      <th>fuel_가솔린/CNG겸용</th>\n",
              "      <th>fuel_가솔린/LPG겸용</th>\n",
              "      <th>fuel_기타</th>\n",
              "      <th>fuel_디젤</th>\n",
              "      <th>fuel_전기</th>\n",
              "      <th>dist</th>\n",
              "      <th>power</th>\n",
              "    </tr>\n",
              "  </thead>\n",
              "  <tbody>\n",
              "    <tr>\n",
              "      <th>0</th>\n",
              "      <td>2013.0</td>\n",
              "      <td>4.0</td>\n",
              "      <td>25.5</td>\n",
              "      <td>FF</td>\n",
              "      <td>NaN</td>\n",
              "      <td>국산</td>\n",
              "      <td>3141.0</td>\n",
              "      <td>7.534228</td>\n",
              "      <td>0</td>\n",
              "      <td>0</td>\n",
              "      <td>0</td>\n",
              "      <td>1</td>\n",
              "      <td>0</td>\n",
              "      <td>0</td>\n",
              "      <td>0</td>\n",
              "      <td>0</td>\n",
              "      <td>0</td>\n",
              "      <td>0</td>\n",
              "      <td>40000.0</td>\n",
              "      <td>201.0</td>\n",
              "    </tr>\n",
              "    <tr>\n",
              "      <th>1</th>\n",
              "      <td>2010.0</td>\n",
              "      <td>NaN</td>\n",
              "      <td>20.0</td>\n",
              "      <td>FF</td>\n",
              "      <td>NaN</td>\n",
              "      <td>국산</td>\n",
              "      <td>NaN</td>\n",
              "      <td>6.552508</td>\n",
              "      <td>0</td>\n",
              "      <td>1</td>\n",
              "      <td>0</td>\n",
              "      <td>0</td>\n",
              "      <td>0</td>\n",
              "      <td>0</td>\n",
              "      <td>0</td>\n",
              "      <td>0</td>\n",
              "      <td>0</td>\n",
              "      <td>0</td>\n",
              "      <td>90000.0</td>\n",
              "      <td>157.0</td>\n",
              "    </tr>\n",
              "    <tr>\n",
              "      <th>2</th>\n",
              "      <td>2015.0</td>\n",
              "      <td>4.0</td>\n",
              "      <td>45.0</td>\n",
              "      <td>FF</td>\n",
              "      <td>NaN</td>\n",
              "      <td>국산</td>\n",
              "      <td>3389.0</td>\n",
              "      <td>8.003363</td>\n",
              "      <td>0</td>\n",
              "      <td>0</td>\n",
              "      <td>0</td>\n",
              "      <td>0</td>\n",
              "      <td>0</td>\n",
              "      <td>0</td>\n",
              "      <td>0</td>\n",
              "      <td>0</td>\n",
              "      <td>1</td>\n",
              "      <td>0</td>\n",
              "      <td>30000.0</td>\n",
              "      <td>202.0</td>\n",
              "    </tr>\n",
              "    <tr>\n",
              "      <th>3</th>\n",
              "      <td>2008.0</td>\n",
              "      <td>4.0</td>\n",
              "      <td>33.8</td>\n",
              "      <td>FR</td>\n",
              "      <td>NaN</td>\n",
              "      <td>국산</td>\n",
              "      <td>2499.0</td>\n",
              "      <td>6.042633</td>\n",
              "      <td>0</td>\n",
              "      <td>0</td>\n",
              "      <td>0</td>\n",
              "      <td>0</td>\n",
              "      <td>0</td>\n",
              "      <td>0</td>\n",
              "      <td>0</td>\n",
              "      <td>0</td>\n",
              "      <td>1</td>\n",
              "      <td>0</td>\n",
              "      <td>160000.0</td>\n",
              "      <td>151.0</td>\n",
              "    </tr>\n",
              "    <tr>\n",
              "      <th>4</th>\n",
              "      <td>2004.0</td>\n",
              "      <td>NaN</td>\n",
              "      <td>24.0</td>\n",
              "      <td>FR</td>\n",
              "      <td>수동</td>\n",
              "      <td>국산</td>\n",
              "      <td>1445.0</td>\n",
              "      <td>6.111467</td>\n",
              "      <td>0</td>\n",
              "      <td>0</td>\n",
              "      <td>0</td>\n",
              "      <td>0</td>\n",
              "      <td>0</td>\n",
              "      <td>0</td>\n",
              "      <td>0</td>\n",
              "      <td>0</td>\n",
              "      <td>1</td>\n",
              "      <td>0</td>\n",
              "      <td>160000.0</td>\n",
              "      <td>103.0</td>\n",
              "    </tr>\n",
              "  </tbody>\n",
              "</table>\n",
              "</div>"
            ],
            "text/plain": [
              "   yeartype  cylinder  torque type  ... fuel_디젤 fuel_전기      dist  power\n",
              "0    2013.0       4.0    25.5   FF  ...       0       0   40000.0  201.0\n",
              "1    2010.0       NaN    20.0   FF  ...       0       0   90000.0  157.0\n",
              "2    2015.0       4.0    45.0   FF  ...       1       0   30000.0  202.0\n",
              "3    2008.0       4.0    33.8   FR  ...       1       0  160000.0  151.0\n",
              "4    2004.0       NaN    24.0   FR  ...       1       0  160000.0  103.0\n",
              "\n",
              "[5 rows x 20 columns]"
            ]
          },
          "metadata": {
            "tags": []
          },
          "execution_count": 216
        }
      ]
    },
    {
      "cell_type": "markdown",
      "metadata": {
        "id": "8CdiOdHh6a79"
      },
      "source": [
        "# 8 기통 cylinder 8698 non-null float64\n",
        "\n",
        "- 범주형으로 조질 수 있겠다\n",
        "\n"
      ]
    },
    {
      "cell_type": "code",
      "metadata": {
        "id": "MSpUsg0m6a79",
        "outputId": "565a921c-d846-42de-8edd-6b08265058d0",
        "colab": {
          "base_uri": "https://localhost:8080/"
        }
      },
      "source": [
        "train_cylinder = train['cylinder']\n",
        "test_cylinder = test['cylinder']\n",
        "\n",
        "train_cylinder.value_counts()"
      ],
      "execution_count": 217,
      "outputs": [
        {
          "output_type": "execute_result",
          "data": {
            "text/plain": [
              "4.0    5620\n",
              "6.0    2458\n",
              "3.0     402\n",
              "8.0     171\n",
              "5.0      45\n",
              "Name: cylinder, dtype: int64"
            ]
          },
          "metadata": {
            "tags": []
          },
          "execution_count": 217
        }
      ]
    },
    {
      "cell_type": "code",
      "metadata": {
        "id": "soJg33WC6a8A",
        "outputId": "96181e63-8204-4cbb-cc17-c54e134aebcf",
        "colab": {
          "base_uri": "https://localhost:8080/"
        }
      },
      "source": [
        "test_cylinder.value_counts()"
      ],
      "execution_count": 218,
      "outputs": [
        {
          "output_type": "execute_result",
          "data": {
            "text/plain": [
              "4.0    2747\n",
              "6.0    1222\n",
              "3.0     173\n",
              "8.0      95\n",
              "5.0      38\n",
              "Name: cylinder, dtype: int64"
            ]
          },
          "metadata": {
            "tags": []
          },
          "execution_count": 218
        }
      ]
    },
    {
      "cell_type": "code",
      "metadata": {
        "id": "UP9qe14V6a8E",
        "outputId": "b62567a3-0e0a-4eaf-f520-65896f50ac15",
        "colab": {
          "base_uri": "https://localhost:8080/"
        }
      },
      "source": [
        "train_cylinder.isna().sum()"
      ],
      "execution_count": 219,
      "outputs": [
        {
          "output_type": "execute_result",
          "data": {
            "text/plain": [
              "3071"
            ]
          },
          "metadata": {
            "tags": []
          },
          "execution_count": 219
        }
      ]
    },
    {
      "cell_type": "code",
      "metadata": {
        "id": "ZQCNQOmf6a8C"
      },
      "source": [
        "import random\n",
        "random.seed(42)\n",
        "\n",
        "tmp = [3.0, 4.0, 5.0, 6.0, 8.0]\n",
        "\n",
        "for i, j in enumerate(train_cylinder):\n",
        "  if not (j in tmp):\n",
        "    draw = random.choices(\n",
        "      population=[3.0, 4.0, 5.0, 6.0, 8.0],\n",
        "      weights=[0.034157532500637265,\n",
        "               0.4776106721046818,\n",
        "               0.003823604384399694,\n",
        "               0.2089387373608633,\n",
        "               0.014529696660718837],\n",
        "      k=1)\n",
        "    \n",
        "    train_cylinder[i] = draw[0]\n",
        "\n",
        "for i, j in enumerate(test_cylinder):\n",
        "  if not (j in tmp):\n",
        "    draw = random.choices(\n",
        "      population=[3.0, 4.0, 5.0, 6.0, 8.0],\n",
        "      weights=[0.014699634633358823,\n",
        "               0.23340980542102133,\n",
        "               0.0032288214801597416,\n",
        "               0.10383210128303169,\n",
        "               0.008072053700399354],\n",
        "      k=1)\n",
        "    \n",
        "    test_cylinder[i] = draw[0]"
      ],
      "execution_count": 220,
      "outputs": []
    },
    {
      "cell_type": "code",
      "metadata": {
        "id": "eDRj9lH5O8YA",
        "outputId": "368c0996-394a-4c3f-ec6f-71d5195dd9e1",
        "colab": {
          "base_uri": "https://localhost:8080/"
        }
      },
      "source": [
        "train_cylinder.isna().sum()"
      ],
      "execution_count": 221,
      "outputs": [
        {
          "output_type": "execute_result",
          "data": {
            "text/plain": [
              "3"
            ]
          },
          "metadata": {
            "tags": []
          },
          "execution_count": 221
        }
      ]
    },
    {
      "cell_type": "code",
      "metadata": {
        "id": "6K0_xPBJ6a8G"
      },
      "source": [
        "train_cylinder_dummies = pd.get_dummies(train_cylinder)\n",
        "test_cylinder_dummies = pd.get_dummies(test_cylinder)\n",
        "\n",
        "train_cylinder_dummies = train_cylinder_dummies.add_prefix(\"cylinder_\")\n",
        "test_cylinder_dummies = test_cylinder_dummies.add_prefix(\"cylinder_\")\n",
        "\n",
        "train = train.join(train_cylinder_dummies)\n",
        "test = test.join(test_cylinder_dummies)\n",
        "\n",
        "train = train.drop(['cylinder'], axis=1)\n",
        "test = test.drop(['cylinder'], axis=1)\n",
        "\n",
        "## train = train.join(train_cylinder)\n",
        "## test = test.join(test_cylinder)"
      ],
      "execution_count": 222,
      "outputs": []
    },
    {
      "cell_type": "code",
      "metadata": {
        "id": "Ikdi2lkQ6a8I",
        "outputId": "66741706-476e-4454-eceb-399776aac492",
        "colab": {
          "base_uri": "https://localhost:8080/",
          "height": 274
        }
      },
      "source": [
        "train.head()"
      ],
      "execution_count": 223,
      "outputs": [
        {
          "output_type": "execute_result",
          "data": {
            "text/html": [
              "<div>\n",
              "<style scoped>\n",
              "    .dataframe tbody tr th:only-of-type {\n",
              "        vertical-align: middle;\n",
              "    }\n",
              "\n",
              "    .dataframe tbody tr th {\n",
              "        vertical-align: top;\n",
              "    }\n",
              "\n",
              "    .dataframe thead th {\n",
              "        text-align: right;\n",
              "    }\n",
              "</style>\n",
              "<table border=\"1\" class=\"dataframe\">\n",
              "  <thead>\n",
              "    <tr style=\"text-align: right;\">\n",
              "      <th></th>\n",
              "      <th>yeartype</th>\n",
              "      <th>torque</th>\n",
              "      <th>type</th>\n",
              "      <th>mission</th>\n",
              "      <th>country</th>\n",
              "      <th>newprice</th>\n",
              "      <th>price</th>\n",
              "      <th>fuel_CNG</th>\n",
              "      <th>fuel_LPG</th>\n",
              "      <th>fuel_LPG+전기</th>\n",
              "      <th>fuel_가솔린</th>\n",
              "      <th>fuel_가솔린+전기</th>\n",
              "      <th>fuel_가솔린/CNG겸용</th>\n",
              "      <th>fuel_가솔린/LPG겸용</th>\n",
              "      <th>fuel_기타</th>\n",
              "      <th>fuel_디젤</th>\n",
              "      <th>fuel_전기</th>\n",
              "      <th>dist</th>\n",
              "      <th>power</th>\n",
              "      <th>cylinder_3.0</th>\n",
              "      <th>cylinder_4.0</th>\n",
              "      <th>cylinder_5.0</th>\n",
              "      <th>cylinder_6.0</th>\n",
              "      <th>cylinder_8.0</th>\n",
              "    </tr>\n",
              "  </thead>\n",
              "  <tbody>\n",
              "    <tr>\n",
              "      <th>0</th>\n",
              "      <td>2013.0</td>\n",
              "      <td>25.5</td>\n",
              "      <td>FF</td>\n",
              "      <td>NaN</td>\n",
              "      <td>국산</td>\n",
              "      <td>3141.0</td>\n",
              "      <td>7.534228</td>\n",
              "      <td>0</td>\n",
              "      <td>0</td>\n",
              "      <td>0</td>\n",
              "      <td>1</td>\n",
              "      <td>0</td>\n",
              "      <td>0</td>\n",
              "      <td>0</td>\n",
              "      <td>0</td>\n",
              "      <td>0</td>\n",
              "      <td>0</td>\n",
              "      <td>40000.0</td>\n",
              "      <td>201.0</td>\n",
              "      <td>0</td>\n",
              "      <td>1</td>\n",
              "      <td>0</td>\n",
              "      <td>0</td>\n",
              "      <td>0</td>\n",
              "    </tr>\n",
              "    <tr>\n",
              "      <th>1</th>\n",
              "      <td>2010.0</td>\n",
              "      <td>20.0</td>\n",
              "      <td>FF</td>\n",
              "      <td>NaN</td>\n",
              "      <td>국산</td>\n",
              "      <td>NaN</td>\n",
              "      <td>6.552508</td>\n",
              "      <td>0</td>\n",
              "      <td>1</td>\n",
              "      <td>0</td>\n",
              "      <td>0</td>\n",
              "      <td>0</td>\n",
              "      <td>0</td>\n",
              "      <td>0</td>\n",
              "      <td>0</td>\n",
              "      <td>0</td>\n",
              "      <td>0</td>\n",
              "      <td>90000.0</td>\n",
              "      <td>157.0</td>\n",
              "      <td>0</td>\n",
              "      <td>1</td>\n",
              "      <td>0</td>\n",
              "      <td>0</td>\n",
              "      <td>0</td>\n",
              "    </tr>\n",
              "    <tr>\n",
              "      <th>2</th>\n",
              "      <td>2015.0</td>\n",
              "      <td>45.0</td>\n",
              "      <td>FF</td>\n",
              "      <td>NaN</td>\n",
              "      <td>국산</td>\n",
              "      <td>3389.0</td>\n",
              "      <td>8.003363</td>\n",
              "      <td>0</td>\n",
              "      <td>0</td>\n",
              "      <td>0</td>\n",
              "      <td>0</td>\n",
              "      <td>0</td>\n",
              "      <td>0</td>\n",
              "      <td>0</td>\n",
              "      <td>0</td>\n",
              "      <td>1</td>\n",
              "      <td>0</td>\n",
              "      <td>30000.0</td>\n",
              "      <td>202.0</td>\n",
              "      <td>0</td>\n",
              "      <td>1</td>\n",
              "      <td>0</td>\n",
              "      <td>0</td>\n",
              "      <td>0</td>\n",
              "    </tr>\n",
              "    <tr>\n",
              "      <th>3</th>\n",
              "      <td>2008.0</td>\n",
              "      <td>33.8</td>\n",
              "      <td>FR</td>\n",
              "      <td>NaN</td>\n",
              "      <td>국산</td>\n",
              "      <td>2499.0</td>\n",
              "      <td>6.042633</td>\n",
              "      <td>0</td>\n",
              "      <td>0</td>\n",
              "      <td>0</td>\n",
              "      <td>0</td>\n",
              "      <td>0</td>\n",
              "      <td>0</td>\n",
              "      <td>0</td>\n",
              "      <td>0</td>\n",
              "      <td>1</td>\n",
              "      <td>0</td>\n",
              "      <td>160000.0</td>\n",
              "      <td>151.0</td>\n",
              "      <td>0</td>\n",
              "      <td>1</td>\n",
              "      <td>0</td>\n",
              "      <td>0</td>\n",
              "      <td>0</td>\n",
              "    </tr>\n",
              "    <tr>\n",
              "      <th>4</th>\n",
              "      <td>2004.0</td>\n",
              "      <td>24.0</td>\n",
              "      <td>FR</td>\n",
              "      <td>수동</td>\n",
              "      <td>국산</td>\n",
              "      <td>1445.0</td>\n",
              "      <td>6.111467</td>\n",
              "      <td>0</td>\n",
              "      <td>0</td>\n",
              "      <td>0</td>\n",
              "      <td>0</td>\n",
              "      <td>0</td>\n",
              "      <td>0</td>\n",
              "      <td>0</td>\n",
              "      <td>0</td>\n",
              "      <td>1</td>\n",
              "      <td>0</td>\n",
              "      <td>160000.0</td>\n",
              "      <td>103.0</td>\n",
              "      <td>1</td>\n",
              "      <td>0</td>\n",
              "      <td>0</td>\n",
              "      <td>0</td>\n",
              "      <td>0</td>\n",
              "    </tr>\n",
              "  </tbody>\n",
              "</table>\n",
              "</div>"
            ],
            "text/plain": [
              "   yeartype  torque type  ... cylinder_5.0 cylinder_6.0  cylinder_8.0\n",
              "0    2013.0    25.5   FF  ...            0            0             0\n",
              "1    2010.0    20.0   FF  ...            0            0             0\n",
              "2    2015.0    45.0   FF  ...            0            0             0\n",
              "3    2008.0    33.8   FR  ...            0            0             0\n",
              "4    2004.0    24.0   FR  ...            0            0             0\n",
              "\n",
              "[5 rows x 24 columns]"
            ]
          },
          "metadata": {
            "tags": []
          },
          "execution_count": 223
        }
      ]
    },
    {
      "cell_type": "markdown",
      "metadata": {
        "id": "3rToVq0z6a8J"
      },
      "source": [
        "# 9 최대토크(kgm) torque 10545 non-null float64\n",
        "\n",
        "- 결측치 냅두자"
      ]
    },
    {
      "cell_type": "code",
      "metadata": {
        "id": "AOfpotCp6a8K",
        "outputId": "b1b4a375-525e-4a20-d4cf-63a4ab4187bf",
        "colab": {
          "base_uri": "https://localhost:8080/"
        }
      },
      "source": [
        "train_torque = train['torque']\n",
        "test_torque = test['torque']\n",
        "\n",
        "train_torque"
      ],
      "execution_count": 224,
      "outputs": [
        {
          "output_type": "execute_result",
          "data": {
            "text/plain": [
              "0        25.5\n",
              "1        20.0\n",
              "2        45.0\n",
              "3        33.8\n",
              "4        24.0\n",
              "         ... \n",
              "11763    53.0\n",
              "11765     NaN\n",
              "11766    52.0\n",
              "11767    53.0\n",
              "11768    53.0\n",
              "Name: torque, Length: 11767, dtype: float64"
            ]
          },
          "metadata": {
            "tags": []
          },
          "execution_count": 224
        }
      ]
    },
    {
      "cell_type": "code",
      "metadata": {
        "id": "aYHEOdfN6a8N",
        "outputId": "f91100af-1787-4fe7-dd3a-30de5e8d62dc",
        "colab": {
          "base_uri": "https://localhost:8080/"
        }
      },
      "source": [
        "train_torque.isna().sum()"
      ],
      "execution_count": 225,
      "outputs": [
        {
          "output_type": "execute_result",
          "data": {
            "text/plain": [
              "1224"
            ]
          },
          "metadata": {
            "tags": []
          },
          "execution_count": 225
        }
      ]
    },
    {
      "cell_type": "code",
      "metadata": {
        "id": "UFuvH_Y06a8T"
      },
      "source": [
        "train = train.drop(['torque'], axis=1)\n",
        "test = test.drop(['torque'], axis=1)\n",
        "\n",
        "train = train.join(train_torque)\n",
        "test = test.join(test_torque)"
      ],
      "execution_count": 226,
      "outputs": []
    },
    {
      "cell_type": "code",
      "metadata": {
        "id": "1HqN1iup6a8X",
        "outputId": "3d693b59-7604-4388-ebd8-87220e07ee42",
        "colab": {
          "base_uri": "https://localhost:8080/",
          "height": 274
        }
      },
      "source": [
        "train.head()"
      ],
      "execution_count": 227,
      "outputs": [
        {
          "output_type": "execute_result",
          "data": {
            "text/html": [
              "<div>\n",
              "<style scoped>\n",
              "    .dataframe tbody tr th:only-of-type {\n",
              "        vertical-align: middle;\n",
              "    }\n",
              "\n",
              "    .dataframe tbody tr th {\n",
              "        vertical-align: top;\n",
              "    }\n",
              "\n",
              "    .dataframe thead th {\n",
              "        text-align: right;\n",
              "    }\n",
              "</style>\n",
              "<table border=\"1\" class=\"dataframe\">\n",
              "  <thead>\n",
              "    <tr style=\"text-align: right;\">\n",
              "      <th></th>\n",
              "      <th>yeartype</th>\n",
              "      <th>type</th>\n",
              "      <th>mission</th>\n",
              "      <th>country</th>\n",
              "      <th>newprice</th>\n",
              "      <th>price</th>\n",
              "      <th>fuel_CNG</th>\n",
              "      <th>fuel_LPG</th>\n",
              "      <th>fuel_LPG+전기</th>\n",
              "      <th>fuel_가솔린</th>\n",
              "      <th>fuel_가솔린+전기</th>\n",
              "      <th>fuel_가솔린/CNG겸용</th>\n",
              "      <th>fuel_가솔린/LPG겸용</th>\n",
              "      <th>fuel_기타</th>\n",
              "      <th>fuel_디젤</th>\n",
              "      <th>fuel_전기</th>\n",
              "      <th>dist</th>\n",
              "      <th>power</th>\n",
              "      <th>cylinder_3.0</th>\n",
              "      <th>cylinder_4.0</th>\n",
              "      <th>cylinder_5.0</th>\n",
              "      <th>cylinder_6.0</th>\n",
              "      <th>cylinder_8.0</th>\n",
              "      <th>torque</th>\n",
              "    </tr>\n",
              "  </thead>\n",
              "  <tbody>\n",
              "    <tr>\n",
              "      <th>0</th>\n",
              "      <td>2013.0</td>\n",
              "      <td>FF</td>\n",
              "      <td>NaN</td>\n",
              "      <td>국산</td>\n",
              "      <td>3141.0</td>\n",
              "      <td>7.534228</td>\n",
              "      <td>0</td>\n",
              "      <td>0</td>\n",
              "      <td>0</td>\n",
              "      <td>1</td>\n",
              "      <td>0</td>\n",
              "      <td>0</td>\n",
              "      <td>0</td>\n",
              "      <td>0</td>\n",
              "      <td>0</td>\n",
              "      <td>0</td>\n",
              "      <td>40000.0</td>\n",
              "      <td>201.0</td>\n",
              "      <td>0</td>\n",
              "      <td>1</td>\n",
              "      <td>0</td>\n",
              "      <td>0</td>\n",
              "      <td>0</td>\n",
              "      <td>25.5</td>\n",
              "    </tr>\n",
              "    <tr>\n",
              "      <th>1</th>\n",
              "      <td>2010.0</td>\n",
              "      <td>FF</td>\n",
              "      <td>NaN</td>\n",
              "      <td>국산</td>\n",
              "      <td>NaN</td>\n",
              "      <td>6.552508</td>\n",
              "      <td>0</td>\n",
              "      <td>1</td>\n",
              "      <td>0</td>\n",
              "      <td>0</td>\n",
              "      <td>0</td>\n",
              "      <td>0</td>\n",
              "      <td>0</td>\n",
              "      <td>0</td>\n",
              "      <td>0</td>\n",
              "      <td>0</td>\n",
              "      <td>90000.0</td>\n",
              "      <td>157.0</td>\n",
              "      <td>0</td>\n",
              "      <td>1</td>\n",
              "      <td>0</td>\n",
              "      <td>0</td>\n",
              "      <td>0</td>\n",
              "      <td>20.0</td>\n",
              "    </tr>\n",
              "    <tr>\n",
              "      <th>2</th>\n",
              "      <td>2015.0</td>\n",
              "      <td>FF</td>\n",
              "      <td>NaN</td>\n",
              "      <td>국산</td>\n",
              "      <td>3389.0</td>\n",
              "      <td>8.003363</td>\n",
              "      <td>0</td>\n",
              "      <td>0</td>\n",
              "      <td>0</td>\n",
              "      <td>0</td>\n",
              "      <td>0</td>\n",
              "      <td>0</td>\n",
              "      <td>0</td>\n",
              "      <td>0</td>\n",
              "      <td>1</td>\n",
              "      <td>0</td>\n",
              "      <td>30000.0</td>\n",
              "      <td>202.0</td>\n",
              "      <td>0</td>\n",
              "      <td>1</td>\n",
              "      <td>0</td>\n",
              "      <td>0</td>\n",
              "      <td>0</td>\n",
              "      <td>45.0</td>\n",
              "    </tr>\n",
              "    <tr>\n",
              "      <th>3</th>\n",
              "      <td>2008.0</td>\n",
              "      <td>FR</td>\n",
              "      <td>NaN</td>\n",
              "      <td>국산</td>\n",
              "      <td>2499.0</td>\n",
              "      <td>6.042633</td>\n",
              "      <td>0</td>\n",
              "      <td>0</td>\n",
              "      <td>0</td>\n",
              "      <td>0</td>\n",
              "      <td>0</td>\n",
              "      <td>0</td>\n",
              "      <td>0</td>\n",
              "      <td>0</td>\n",
              "      <td>1</td>\n",
              "      <td>0</td>\n",
              "      <td>160000.0</td>\n",
              "      <td>151.0</td>\n",
              "      <td>0</td>\n",
              "      <td>1</td>\n",
              "      <td>0</td>\n",
              "      <td>0</td>\n",
              "      <td>0</td>\n",
              "      <td>33.8</td>\n",
              "    </tr>\n",
              "    <tr>\n",
              "      <th>4</th>\n",
              "      <td>2004.0</td>\n",
              "      <td>FR</td>\n",
              "      <td>수동</td>\n",
              "      <td>국산</td>\n",
              "      <td>1445.0</td>\n",
              "      <td>6.111467</td>\n",
              "      <td>0</td>\n",
              "      <td>0</td>\n",
              "      <td>0</td>\n",
              "      <td>0</td>\n",
              "      <td>0</td>\n",
              "      <td>0</td>\n",
              "      <td>0</td>\n",
              "      <td>0</td>\n",
              "      <td>1</td>\n",
              "      <td>0</td>\n",
              "      <td>160000.0</td>\n",
              "      <td>103.0</td>\n",
              "      <td>1</td>\n",
              "      <td>0</td>\n",
              "      <td>0</td>\n",
              "      <td>0</td>\n",
              "      <td>0</td>\n",
              "      <td>24.0</td>\n",
              "    </tr>\n",
              "  </tbody>\n",
              "</table>\n",
              "</div>"
            ],
            "text/plain": [
              "   yeartype type mission  ... cylinder_6.0  cylinder_8.0  torque\n",
              "0    2013.0   FF     NaN  ...            0             0    25.5\n",
              "1    2010.0   FF     NaN  ...            0             0    20.0\n",
              "2    2015.0   FF     NaN  ...            0             0    45.0\n",
              "3    2008.0   FR     NaN  ...            0             0    33.8\n",
              "4    2004.0   FR      수동  ...            0             0    24.0\n",
              "\n",
              "[5 rows x 24 columns]"
            ]
          },
          "metadata": {
            "tags": []
          },
          "execution_count": 227
        }
      ]
    },
    {
      "cell_type": "markdown",
      "metadata": {
        "id": "rGRYlFGo6a8b"
      },
      "source": [
        "# 10 구동방식 type 10808 non-null object\n",
        "\n",
        "- 제일 많은 걸로 결측치 채우고 dummies 만들어서 쓰자\n",
        "- train에 3개 있는 RR은 데이터 자체를 없애버리자"
      ]
    },
    {
      "cell_type": "code",
      "metadata": {
        "id": "wWQULWvN6a8b"
      },
      "source": [
        "train = train.drop(train[train['type'] == 'RR'].index)"
      ],
      "execution_count": 228,
      "outputs": []
    },
    {
      "cell_type": "code",
      "metadata": {
        "id": "eQxg_s8j6a8g"
      },
      "source": [
        "train_type = train['type']\n",
        "test_type = test['type']"
      ],
      "execution_count": 229,
      "outputs": []
    },
    {
      "cell_type": "code",
      "metadata": {
        "id": "pMhATzG-6a8k",
        "outputId": "47793272-e48d-4521-95be-68e8c74ffc6a",
        "colab": {
          "base_uri": "https://localhost:8080/"
        }
      },
      "source": [
        "print(train_type.value_counts())\n",
        "print()\n",
        "print(test_type.value_counts())"
      ],
      "execution_count": 230,
      "outputs": [
        {
          "output_type": "stream",
          "text": [
            "FF     7333\n",
            "FR     2318\n",
            "4WD     688\n",
            "AWD     451\n",
            "MR       13\n",
            "Name: type, dtype: int64\n",
            "\n",
            "FF     3655\n",
            "FR     1074\n",
            "4WD     352\n",
            "AWD     222\n",
            "MR        9\n",
            "Name: type, dtype: int64\n"
          ],
          "name": "stdout"
        }
      ]
    },
    {
      "cell_type": "code",
      "metadata": {
        "id": "_GneA7oT6a8r"
      },
      "source": [
        "import random\n",
        "random.seed(42)\n",
        "\n",
        "tmp = ['FF', 'FR', '4WD', 'AWD', 'MR']\n",
        "\n",
        "for i, j in enumerate(train_type):\n",
        "  if not (j in tmp):\n",
        "    draw = random.choices(\n",
        "      population=['4WD', 'AWD', 'FF', 'FR', 'MR'],\n",
        "      weights=[0.058458662588155325,\n",
        "               0.03840598181663693,\n",
        "               0.6230775766845101,\n",
        "               0.19704307927606424,\n",
        "               0.0011045968221599116],\n",
        "      k=1)\n",
        "    \n",
        "    train_type[i] = draw[0]\n",
        "\n",
        "for i, j in enumerate(test_type):\n",
        "  if not (j in tmp):\n",
        "    draw = random.choices(\n",
        "      population=['4WD', 'AWD', 'FF', 'FR', 'MR'],\n",
        "      weights=[0.029909083184637607,\n",
        "               0.01886311496303849,\n",
        "               0.31056164499957517,\n",
        "               0.0912566913076727,\n",
        "               0.0007647208768799389],\n",
        "      k=1)\n",
        "    \n",
        "    test_type[i] = draw[0]"
      ],
      "execution_count": 231,
      "outputs": []
    },
    {
      "cell_type": "code",
      "metadata": {
        "id": "bNkV2kiW6a8u",
        "outputId": "76293452-a10b-4a2b-ba9e-c18855460df1",
        "colab": {
          "base_uri": "https://localhost:8080/"
        }
      },
      "source": [
        "train_type.isna().sum()"
      ],
      "execution_count": 232,
      "outputs": [
        {
          "output_type": "execute_result",
          "data": {
            "text/plain": [
              "799"
            ]
          },
          "metadata": {
            "tags": []
          },
          "execution_count": 232
        }
      ]
    },
    {
      "cell_type": "code",
      "metadata": {
        "id": "4TSSv_qH6a8w"
      },
      "source": [
        "train_type_dummies = pd.get_dummies(train_type)\n",
        "test_type_dummies = pd.get_dummies(test_type)\n",
        "\n",
        "train_type_dummies = train_type_dummies.add_prefix('type_')\n",
        "test_type_dummies = test_type_dummies.add_prefix('type_')\n",
        "\n",
        "\n",
        "train = train.join(train_type_dummies)\n",
        "test = test.join(test_type_dummies)\n",
        "\n",
        "train = train.drop(['type'], axis=1)\n",
        "test = test.drop(['type'], axis=1)\n",
        "\n",
        "## train = train.join(train_type)\n",
        "## test = test.join(test_type)"
      ],
      "execution_count": 233,
      "outputs": []
    },
    {
      "cell_type": "code",
      "metadata": {
        "id": "1wsXRBdU6a8z",
        "outputId": "853e2c9c-6704-469f-974a-8829d74158ce",
        "colab": {
          "base_uri": "https://localhost:8080/",
          "height": 274
        }
      },
      "source": [
        "train.head()"
      ],
      "execution_count": 234,
      "outputs": [
        {
          "output_type": "execute_result",
          "data": {
            "text/html": [
              "<div>\n",
              "<style scoped>\n",
              "    .dataframe tbody tr th:only-of-type {\n",
              "        vertical-align: middle;\n",
              "    }\n",
              "\n",
              "    .dataframe tbody tr th {\n",
              "        vertical-align: top;\n",
              "    }\n",
              "\n",
              "    .dataframe thead th {\n",
              "        text-align: right;\n",
              "    }\n",
              "</style>\n",
              "<table border=\"1\" class=\"dataframe\">\n",
              "  <thead>\n",
              "    <tr style=\"text-align: right;\">\n",
              "      <th></th>\n",
              "      <th>yeartype</th>\n",
              "      <th>mission</th>\n",
              "      <th>country</th>\n",
              "      <th>newprice</th>\n",
              "      <th>price</th>\n",
              "      <th>fuel_CNG</th>\n",
              "      <th>fuel_LPG</th>\n",
              "      <th>fuel_LPG+전기</th>\n",
              "      <th>fuel_가솔린</th>\n",
              "      <th>fuel_가솔린+전기</th>\n",
              "      <th>fuel_가솔린/CNG겸용</th>\n",
              "      <th>fuel_가솔린/LPG겸용</th>\n",
              "      <th>fuel_기타</th>\n",
              "      <th>fuel_디젤</th>\n",
              "      <th>fuel_전기</th>\n",
              "      <th>dist</th>\n",
              "      <th>power</th>\n",
              "      <th>cylinder_3.0</th>\n",
              "      <th>cylinder_4.0</th>\n",
              "      <th>cylinder_5.0</th>\n",
              "      <th>cylinder_6.0</th>\n",
              "      <th>cylinder_8.0</th>\n",
              "      <th>torque</th>\n",
              "      <th>type_4WD</th>\n",
              "      <th>type_AWD</th>\n",
              "      <th>type_FF</th>\n",
              "      <th>type_FR</th>\n",
              "      <th>type_MR</th>\n",
              "    </tr>\n",
              "  </thead>\n",
              "  <tbody>\n",
              "    <tr>\n",
              "      <th>0</th>\n",
              "      <td>2013.0</td>\n",
              "      <td>NaN</td>\n",
              "      <td>국산</td>\n",
              "      <td>3141.0</td>\n",
              "      <td>7.534228</td>\n",
              "      <td>0</td>\n",
              "      <td>0</td>\n",
              "      <td>0</td>\n",
              "      <td>1</td>\n",
              "      <td>0</td>\n",
              "      <td>0</td>\n",
              "      <td>0</td>\n",
              "      <td>0</td>\n",
              "      <td>0</td>\n",
              "      <td>0</td>\n",
              "      <td>40000.0</td>\n",
              "      <td>201.0</td>\n",
              "      <td>0</td>\n",
              "      <td>1</td>\n",
              "      <td>0</td>\n",
              "      <td>0</td>\n",
              "      <td>0</td>\n",
              "      <td>25.5</td>\n",
              "      <td>0</td>\n",
              "      <td>0</td>\n",
              "      <td>1</td>\n",
              "      <td>0</td>\n",
              "      <td>0</td>\n",
              "    </tr>\n",
              "    <tr>\n",
              "      <th>1</th>\n",
              "      <td>2010.0</td>\n",
              "      <td>NaN</td>\n",
              "      <td>국산</td>\n",
              "      <td>NaN</td>\n",
              "      <td>6.552508</td>\n",
              "      <td>0</td>\n",
              "      <td>1</td>\n",
              "      <td>0</td>\n",
              "      <td>0</td>\n",
              "      <td>0</td>\n",
              "      <td>0</td>\n",
              "      <td>0</td>\n",
              "      <td>0</td>\n",
              "      <td>0</td>\n",
              "      <td>0</td>\n",
              "      <td>90000.0</td>\n",
              "      <td>157.0</td>\n",
              "      <td>0</td>\n",
              "      <td>1</td>\n",
              "      <td>0</td>\n",
              "      <td>0</td>\n",
              "      <td>0</td>\n",
              "      <td>20.0</td>\n",
              "      <td>0</td>\n",
              "      <td>0</td>\n",
              "      <td>1</td>\n",
              "      <td>0</td>\n",
              "      <td>0</td>\n",
              "    </tr>\n",
              "    <tr>\n",
              "      <th>2</th>\n",
              "      <td>2015.0</td>\n",
              "      <td>NaN</td>\n",
              "      <td>국산</td>\n",
              "      <td>3389.0</td>\n",
              "      <td>8.003363</td>\n",
              "      <td>0</td>\n",
              "      <td>0</td>\n",
              "      <td>0</td>\n",
              "      <td>0</td>\n",
              "      <td>0</td>\n",
              "      <td>0</td>\n",
              "      <td>0</td>\n",
              "      <td>0</td>\n",
              "      <td>1</td>\n",
              "      <td>0</td>\n",
              "      <td>30000.0</td>\n",
              "      <td>202.0</td>\n",
              "      <td>0</td>\n",
              "      <td>1</td>\n",
              "      <td>0</td>\n",
              "      <td>0</td>\n",
              "      <td>0</td>\n",
              "      <td>45.0</td>\n",
              "      <td>0</td>\n",
              "      <td>0</td>\n",
              "      <td>1</td>\n",
              "      <td>0</td>\n",
              "      <td>0</td>\n",
              "    </tr>\n",
              "    <tr>\n",
              "      <th>3</th>\n",
              "      <td>2008.0</td>\n",
              "      <td>NaN</td>\n",
              "      <td>국산</td>\n",
              "      <td>2499.0</td>\n",
              "      <td>6.042633</td>\n",
              "      <td>0</td>\n",
              "      <td>0</td>\n",
              "      <td>0</td>\n",
              "      <td>0</td>\n",
              "      <td>0</td>\n",
              "      <td>0</td>\n",
              "      <td>0</td>\n",
              "      <td>0</td>\n",
              "      <td>1</td>\n",
              "      <td>0</td>\n",
              "      <td>160000.0</td>\n",
              "      <td>151.0</td>\n",
              "      <td>0</td>\n",
              "      <td>1</td>\n",
              "      <td>0</td>\n",
              "      <td>0</td>\n",
              "      <td>0</td>\n",
              "      <td>33.8</td>\n",
              "      <td>0</td>\n",
              "      <td>0</td>\n",
              "      <td>0</td>\n",
              "      <td>1</td>\n",
              "      <td>0</td>\n",
              "    </tr>\n",
              "    <tr>\n",
              "      <th>4</th>\n",
              "      <td>2004.0</td>\n",
              "      <td>수동</td>\n",
              "      <td>국산</td>\n",
              "      <td>1445.0</td>\n",
              "      <td>6.111467</td>\n",
              "      <td>0</td>\n",
              "      <td>0</td>\n",
              "      <td>0</td>\n",
              "      <td>0</td>\n",
              "      <td>0</td>\n",
              "      <td>0</td>\n",
              "      <td>0</td>\n",
              "      <td>0</td>\n",
              "      <td>1</td>\n",
              "      <td>0</td>\n",
              "      <td>160000.0</td>\n",
              "      <td>103.0</td>\n",
              "      <td>1</td>\n",
              "      <td>0</td>\n",
              "      <td>0</td>\n",
              "      <td>0</td>\n",
              "      <td>0</td>\n",
              "      <td>24.0</td>\n",
              "      <td>0</td>\n",
              "      <td>0</td>\n",
              "      <td>0</td>\n",
              "      <td>1</td>\n",
              "      <td>0</td>\n",
              "    </tr>\n",
              "  </tbody>\n",
              "</table>\n",
              "</div>"
            ],
            "text/plain": [
              "   yeartype mission country  newprice  ...  type_AWD  type_FF  type_FR  type_MR\n",
              "0    2013.0     NaN      국산    3141.0  ...         0        1        0        0\n",
              "1    2010.0     NaN      국산       NaN  ...         0        1        0        0\n",
              "2    2015.0     NaN      국산    3389.0  ...         0        1        0        0\n",
              "3    2008.0     NaN      국산    2499.0  ...         0        0        1        0\n",
              "4    2004.0      수동      국산    1445.0  ...         0        0        1        0\n",
              "\n",
              "[5 rows x 28 columns]"
            ]
          },
          "metadata": {
            "tags": []
          },
          "execution_count": 234
        }
      ]
    },
    {
      "cell_type": "markdown",
      "metadata": {
        "id": "ou2JIwKA6a83"
      },
      "source": [
        "# 11 자동수동 mission 1313 non-null object\n",
        "\n",
        "- 드랍하자"
      ]
    },
    {
      "cell_type": "code",
      "metadata": {
        "id": "413CkYLz6a83"
      },
      "source": [
        "train_mission = train['mission']\n",
        "test_mission = test['mission']"
      ],
      "execution_count": 235,
      "outputs": []
    },
    {
      "cell_type": "code",
      "metadata": {
        "id": "MQNLqq8-ToZ3"
      },
      "source": [
        "train_mission = train_mission.fillna('자동')\n",
        "test_mission = test_mission.fillna('자동')"
      ],
      "execution_count": 236,
      "outputs": []
    },
    {
      "cell_type": "code",
      "metadata": {
        "id": "PS7_fnfV6a89"
      },
      "source": [
        "train_mission_dummies = pd.get_dummies(train_mission)\n",
        "test_mission_dummies = pd.get_dummies(test_mission)\n",
        "\n",
        "train_mission_dummies = train_mission_dummies.add_prefix('mission_')\n",
        "test_mission_dummies = test_mission_dummies.add_prefix('mission_')\n",
        "\n",
        "train = train.drop(['mission'], axis=1)\n",
        "test = test.drop(['mission'], axis=1)\n",
        "\n",
        "train = train.join(train_mission_dummies)\n",
        "test = test.join(test_mission_dummies)"
      ],
      "execution_count": 237,
      "outputs": []
    },
    {
      "cell_type": "code",
      "metadata": {
        "id": "hONm2bO56a8_",
        "outputId": "86116a4f-f053-4148-b6d3-388c64ad0221",
        "colab": {
          "base_uri": "https://localhost:8080/",
          "height": 274
        }
      },
      "source": [
        "train.head()"
      ],
      "execution_count": 238,
      "outputs": [
        {
          "output_type": "execute_result",
          "data": {
            "text/html": [
              "<div>\n",
              "<style scoped>\n",
              "    .dataframe tbody tr th:only-of-type {\n",
              "        vertical-align: middle;\n",
              "    }\n",
              "\n",
              "    .dataframe tbody tr th {\n",
              "        vertical-align: top;\n",
              "    }\n",
              "\n",
              "    .dataframe thead th {\n",
              "        text-align: right;\n",
              "    }\n",
              "</style>\n",
              "<table border=\"1\" class=\"dataframe\">\n",
              "  <thead>\n",
              "    <tr style=\"text-align: right;\">\n",
              "      <th></th>\n",
              "      <th>yeartype</th>\n",
              "      <th>country</th>\n",
              "      <th>newprice</th>\n",
              "      <th>price</th>\n",
              "      <th>fuel_CNG</th>\n",
              "      <th>fuel_LPG</th>\n",
              "      <th>fuel_LPG+전기</th>\n",
              "      <th>fuel_가솔린</th>\n",
              "      <th>fuel_가솔린+전기</th>\n",
              "      <th>fuel_가솔린/CNG겸용</th>\n",
              "      <th>fuel_가솔린/LPG겸용</th>\n",
              "      <th>fuel_기타</th>\n",
              "      <th>fuel_디젤</th>\n",
              "      <th>fuel_전기</th>\n",
              "      <th>dist</th>\n",
              "      <th>power</th>\n",
              "      <th>cylinder_3.0</th>\n",
              "      <th>cylinder_4.0</th>\n",
              "      <th>cylinder_5.0</th>\n",
              "      <th>cylinder_6.0</th>\n",
              "      <th>cylinder_8.0</th>\n",
              "      <th>torque</th>\n",
              "      <th>type_4WD</th>\n",
              "      <th>type_AWD</th>\n",
              "      <th>type_FF</th>\n",
              "      <th>type_FR</th>\n",
              "      <th>type_MR</th>\n",
              "      <th>mission_수동</th>\n",
              "      <th>mission_자동</th>\n",
              "    </tr>\n",
              "  </thead>\n",
              "  <tbody>\n",
              "    <tr>\n",
              "      <th>0</th>\n",
              "      <td>2013.0</td>\n",
              "      <td>국산</td>\n",
              "      <td>3141.0</td>\n",
              "      <td>7.534228</td>\n",
              "      <td>0</td>\n",
              "      <td>0</td>\n",
              "      <td>0</td>\n",
              "      <td>1</td>\n",
              "      <td>0</td>\n",
              "      <td>0</td>\n",
              "      <td>0</td>\n",
              "      <td>0</td>\n",
              "      <td>0</td>\n",
              "      <td>0</td>\n",
              "      <td>40000.0</td>\n",
              "      <td>201.0</td>\n",
              "      <td>0</td>\n",
              "      <td>1</td>\n",
              "      <td>0</td>\n",
              "      <td>0</td>\n",
              "      <td>0</td>\n",
              "      <td>25.5</td>\n",
              "      <td>0</td>\n",
              "      <td>0</td>\n",
              "      <td>1</td>\n",
              "      <td>0</td>\n",
              "      <td>0</td>\n",
              "      <td>0</td>\n",
              "      <td>1</td>\n",
              "    </tr>\n",
              "    <tr>\n",
              "      <th>1</th>\n",
              "      <td>2010.0</td>\n",
              "      <td>국산</td>\n",
              "      <td>NaN</td>\n",
              "      <td>6.552508</td>\n",
              "      <td>0</td>\n",
              "      <td>1</td>\n",
              "      <td>0</td>\n",
              "      <td>0</td>\n",
              "      <td>0</td>\n",
              "      <td>0</td>\n",
              "      <td>0</td>\n",
              "      <td>0</td>\n",
              "      <td>0</td>\n",
              "      <td>0</td>\n",
              "      <td>90000.0</td>\n",
              "      <td>157.0</td>\n",
              "      <td>0</td>\n",
              "      <td>1</td>\n",
              "      <td>0</td>\n",
              "      <td>0</td>\n",
              "      <td>0</td>\n",
              "      <td>20.0</td>\n",
              "      <td>0</td>\n",
              "      <td>0</td>\n",
              "      <td>1</td>\n",
              "      <td>0</td>\n",
              "      <td>0</td>\n",
              "      <td>0</td>\n",
              "      <td>1</td>\n",
              "    </tr>\n",
              "    <tr>\n",
              "      <th>2</th>\n",
              "      <td>2015.0</td>\n",
              "      <td>국산</td>\n",
              "      <td>3389.0</td>\n",
              "      <td>8.003363</td>\n",
              "      <td>0</td>\n",
              "      <td>0</td>\n",
              "      <td>0</td>\n",
              "      <td>0</td>\n",
              "      <td>0</td>\n",
              "      <td>0</td>\n",
              "      <td>0</td>\n",
              "      <td>0</td>\n",
              "      <td>1</td>\n",
              "      <td>0</td>\n",
              "      <td>30000.0</td>\n",
              "      <td>202.0</td>\n",
              "      <td>0</td>\n",
              "      <td>1</td>\n",
              "      <td>0</td>\n",
              "      <td>0</td>\n",
              "      <td>0</td>\n",
              "      <td>45.0</td>\n",
              "      <td>0</td>\n",
              "      <td>0</td>\n",
              "      <td>1</td>\n",
              "      <td>0</td>\n",
              "      <td>0</td>\n",
              "      <td>0</td>\n",
              "      <td>1</td>\n",
              "    </tr>\n",
              "    <tr>\n",
              "      <th>3</th>\n",
              "      <td>2008.0</td>\n",
              "      <td>국산</td>\n",
              "      <td>2499.0</td>\n",
              "      <td>6.042633</td>\n",
              "      <td>0</td>\n",
              "      <td>0</td>\n",
              "      <td>0</td>\n",
              "      <td>0</td>\n",
              "      <td>0</td>\n",
              "      <td>0</td>\n",
              "      <td>0</td>\n",
              "      <td>0</td>\n",
              "      <td>1</td>\n",
              "      <td>0</td>\n",
              "      <td>160000.0</td>\n",
              "      <td>151.0</td>\n",
              "      <td>0</td>\n",
              "      <td>1</td>\n",
              "      <td>0</td>\n",
              "      <td>0</td>\n",
              "      <td>0</td>\n",
              "      <td>33.8</td>\n",
              "      <td>0</td>\n",
              "      <td>0</td>\n",
              "      <td>0</td>\n",
              "      <td>1</td>\n",
              "      <td>0</td>\n",
              "      <td>0</td>\n",
              "      <td>1</td>\n",
              "    </tr>\n",
              "    <tr>\n",
              "      <th>4</th>\n",
              "      <td>2004.0</td>\n",
              "      <td>국산</td>\n",
              "      <td>1445.0</td>\n",
              "      <td>6.111467</td>\n",
              "      <td>0</td>\n",
              "      <td>0</td>\n",
              "      <td>0</td>\n",
              "      <td>0</td>\n",
              "      <td>0</td>\n",
              "      <td>0</td>\n",
              "      <td>0</td>\n",
              "      <td>0</td>\n",
              "      <td>1</td>\n",
              "      <td>0</td>\n",
              "      <td>160000.0</td>\n",
              "      <td>103.0</td>\n",
              "      <td>1</td>\n",
              "      <td>0</td>\n",
              "      <td>0</td>\n",
              "      <td>0</td>\n",
              "      <td>0</td>\n",
              "      <td>24.0</td>\n",
              "      <td>0</td>\n",
              "      <td>0</td>\n",
              "      <td>0</td>\n",
              "      <td>1</td>\n",
              "      <td>0</td>\n",
              "      <td>1</td>\n",
              "      <td>0</td>\n",
              "    </tr>\n",
              "  </tbody>\n",
              "</table>\n",
              "</div>"
            ],
            "text/plain": [
              "   yeartype country  newprice  ...  type_MR  mission_수동  mission_자동\n",
              "0    2013.0      국산    3141.0  ...        0           0           1\n",
              "1    2010.0      국산       NaN  ...        0           0           1\n",
              "2    2015.0      국산    3389.0  ...        0           0           1\n",
              "3    2008.0      국산    2499.0  ...        0           0           1\n",
              "4    2004.0      국산    1445.0  ...        0           1           0\n",
              "\n",
              "[5 rows x 29 columns]"
            ]
          },
          "metadata": {
            "tags": []
          },
          "execution_count": 238
        }
      ]
    },
    {
      "cell_type": "markdown",
      "metadata": {
        "id": "CyHTM7pi6a9B"
      },
      "source": [
        "# 12 국산/수입 country 11769 non-null object\n",
        "\n",
        "- 단순한 범주형 같다\n",
        "- 아니 근데 train이랑 test 다 국산밖에 없는데?\n",
        "- 드랍하자..."
      ]
    },
    {
      "cell_type": "code",
      "metadata": {
        "id": "2J6i7l1z6a9B"
      },
      "source": [
        "train = train.drop(['country'], axis=1)\n",
        "test = test.drop(['country'], axis=1)"
      ],
      "execution_count": 239,
      "outputs": []
    },
    {
      "cell_type": "code",
      "metadata": {
        "id": "e6r1_1wl6a9C",
        "outputId": "64d1dd25-7000-4a3d-b503-4b663edc5dd2",
        "colab": {
          "base_uri": "https://localhost:8080/",
          "height": 274
        }
      },
      "source": [
        "train.head()"
      ],
      "execution_count": 240,
      "outputs": [
        {
          "output_type": "execute_result",
          "data": {
            "text/html": [
              "<div>\n",
              "<style scoped>\n",
              "    .dataframe tbody tr th:only-of-type {\n",
              "        vertical-align: middle;\n",
              "    }\n",
              "\n",
              "    .dataframe tbody tr th {\n",
              "        vertical-align: top;\n",
              "    }\n",
              "\n",
              "    .dataframe thead th {\n",
              "        text-align: right;\n",
              "    }\n",
              "</style>\n",
              "<table border=\"1\" class=\"dataframe\">\n",
              "  <thead>\n",
              "    <tr style=\"text-align: right;\">\n",
              "      <th></th>\n",
              "      <th>yeartype</th>\n",
              "      <th>newprice</th>\n",
              "      <th>price</th>\n",
              "      <th>fuel_CNG</th>\n",
              "      <th>fuel_LPG</th>\n",
              "      <th>fuel_LPG+전기</th>\n",
              "      <th>fuel_가솔린</th>\n",
              "      <th>fuel_가솔린+전기</th>\n",
              "      <th>fuel_가솔린/CNG겸용</th>\n",
              "      <th>fuel_가솔린/LPG겸용</th>\n",
              "      <th>fuel_기타</th>\n",
              "      <th>fuel_디젤</th>\n",
              "      <th>fuel_전기</th>\n",
              "      <th>dist</th>\n",
              "      <th>power</th>\n",
              "      <th>cylinder_3.0</th>\n",
              "      <th>cylinder_4.0</th>\n",
              "      <th>cylinder_5.0</th>\n",
              "      <th>cylinder_6.0</th>\n",
              "      <th>cylinder_8.0</th>\n",
              "      <th>torque</th>\n",
              "      <th>type_4WD</th>\n",
              "      <th>type_AWD</th>\n",
              "      <th>type_FF</th>\n",
              "      <th>type_FR</th>\n",
              "      <th>type_MR</th>\n",
              "      <th>mission_수동</th>\n",
              "      <th>mission_자동</th>\n",
              "    </tr>\n",
              "  </thead>\n",
              "  <tbody>\n",
              "    <tr>\n",
              "      <th>0</th>\n",
              "      <td>2013.0</td>\n",
              "      <td>3141.0</td>\n",
              "      <td>7.534228</td>\n",
              "      <td>0</td>\n",
              "      <td>0</td>\n",
              "      <td>0</td>\n",
              "      <td>1</td>\n",
              "      <td>0</td>\n",
              "      <td>0</td>\n",
              "      <td>0</td>\n",
              "      <td>0</td>\n",
              "      <td>0</td>\n",
              "      <td>0</td>\n",
              "      <td>40000.0</td>\n",
              "      <td>201.0</td>\n",
              "      <td>0</td>\n",
              "      <td>1</td>\n",
              "      <td>0</td>\n",
              "      <td>0</td>\n",
              "      <td>0</td>\n",
              "      <td>25.5</td>\n",
              "      <td>0</td>\n",
              "      <td>0</td>\n",
              "      <td>1</td>\n",
              "      <td>0</td>\n",
              "      <td>0</td>\n",
              "      <td>0</td>\n",
              "      <td>1</td>\n",
              "    </tr>\n",
              "    <tr>\n",
              "      <th>1</th>\n",
              "      <td>2010.0</td>\n",
              "      <td>NaN</td>\n",
              "      <td>6.552508</td>\n",
              "      <td>0</td>\n",
              "      <td>1</td>\n",
              "      <td>0</td>\n",
              "      <td>0</td>\n",
              "      <td>0</td>\n",
              "      <td>0</td>\n",
              "      <td>0</td>\n",
              "      <td>0</td>\n",
              "      <td>0</td>\n",
              "      <td>0</td>\n",
              "      <td>90000.0</td>\n",
              "      <td>157.0</td>\n",
              "      <td>0</td>\n",
              "      <td>1</td>\n",
              "      <td>0</td>\n",
              "      <td>0</td>\n",
              "      <td>0</td>\n",
              "      <td>20.0</td>\n",
              "      <td>0</td>\n",
              "      <td>0</td>\n",
              "      <td>1</td>\n",
              "      <td>0</td>\n",
              "      <td>0</td>\n",
              "      <td>0</td>\n",
              "      <td>1</td>\n",
              "    </tr>\n",
              "    <tr>\n",
              "      <th>2</th>\n",
              "      <td>2015.0</td>\n",
              "      <td>3389.0</td>\n",
              "      <td>8.003363</td>\n",
              "      <td>0</td>\n",
              "      <td>0</td>\n",
              "      <td>0</td>\n",
              "      <td>0</td>\n",
              "      <td>0</td>\n",
              "      <td>0</td>\n",
              "      <td>0</td>\n",
              "      <td>0</td>\n",
              "      <td>1</td>\n",
              "      <td>0</td>\n",
              "      <td>30000.0</td>\n",
              "      <td>202.0</td>\n",
              "      <td>0</td>\n",
              "      <td>1</td>\n",
              "      <td>0</td>\n",
              "      <td>0</td>\n",
              "      <td>0</td>\n",
              "      <td>45.0</td>\n",
              "      <td>0</td>\n",
              "      <td>0</td>\n",
              "      <td>1</td>\n",
              "      <td>0</td>\n",
              "      <td>0</td>\n",
              "      <td>0</td>\n",
              "      <td>1</td>\n",
              "    </tr>\n",
              "    <tr>\n",
              "      <th>3</th>\n",
              "      <td>2008.0</td>\n",
              "      <td>2499.0</td>\n",
              "      <td>6.042633</td>\n",
              "      <td>0</td>\n",
              "      <td>0</td>\n",
              "      <td>0</td>\n",
              "      <td>0</td>\n",
              "      <td>0</td>\n",
              "      <td>0</td>\n",
              "      <td>0</td>\n",
              "      <td>0</td>\n",
              "      <td>1</td>\n",
              "      <td>0</td>\n",
              "      <td>160000.0</td>\n",
              "      <td>151.0</td>\n",
              "      <td>0</td>\n",
              "      <td>1</td>\n",
              "      <td>0</td>\n",
              "      <td>0</td>\n",
              "      <td>0</td>\n",
              "      <td>33.8</td>\n",
              "      <td>0</td>\n",
              "      <td>0</td>\n",
              "      <td>0</td>\n",
              "      <td>1</td>\n",
              "      <td>0</td>\n",
              "      <td>0</td>\n",
              "      <td>1</td>\n",
              "    </tr>\n",
              "    <tr>\n",
              "      <th>4</th>\n",
              "      <td>2004.0</td>\n",
              "      <td>1445.0</td>\n",
              "      <td>6.111467</td>\n",
              "      <td>0</td>\n",
              "      <td>0</td>\n",
              "      <td>0</td>\n",
              "      <td>0</td>\n",
              "      <td>0</td>\n",
              "      <td>0</td>\n",
              "      <td>0</td>\n",
              "      <td>0</td>\n",
              "      <td>1</td>\n",
              "      <td>0</td>\n",
              "      <td>160000.0</td>\n",
              "      <td>103.0</td>\n",
              "      <td>1</td>\n",
              "      <td>0</td>\n",
              "      <td>0</td>\n",
              "      <td>0</td>\n",
              "      <td>0</td>\n",
              "      <td>24.0</td>\n",
              "      <td>0</td>\n",
              "      <td>0</td>\n",
              "      <td>0</td>\n",
              "      <td>1</td>\n",
              "      <td>0</td>\n",
              "      <td>1</td>\n",
              "      <td>0</td>\n",
              "    </tr>\n",
              "  </tbody>\n",
              "</table>\n",
              "</div>"
            ],
            "text/plain": [
              "   yeartype  newprice     price  ...  type_MR  mission_수동  mission_자동\n",
              "0    2013.0    3141.0  7.534228  ...        0           0           1\n",
              "1    2010.0       NaN  6.552508  ...        0           0           1\n",
              "2    2015.0    3389.0  8.003363  ...        0           0           1\n",
              "3    2008.0    2499.0  6.042633  ...        0           0           1\n",
              "4    2004.0    1445.0  6.111467  ...        0           1           0\n",
              "\n",
              "[5 rows x 28 columns]"
            ]
          },
          "metadata": {
            "tags": []
          },
          "execution_count": 240
        }
      ]
    },
    {
      "cell_type": "markdown",
      "metadata": {
        "id": "IqeUBQcW6a9E"
      },
      "source": [
        "# 13 신차가(만원) newprice 9544 non-null float64\n",
        "\n",
        "- 일단 드랍\n"
      ]
    },
    {
      "cell_type": "code",
      "metadata": {
        "id": "oo_3gP8m6a9E"
      },
      "source": [
        "train = train.drop(['newprice'], axis=1)"
      ],
      "execution_count": 241,
      "outputs": []
    },
    {
      "cell_type": "code",
      "metadata": {
        "id": "fvt-Uzkm6a9G",
        "outputId": "bc0ee51d-79a2-4008-c126-839192676534",
        "colab": {
          "base_uri": "https://localhost:8080/",
          "height": 274
        }
      },
      "source": [
        "train.head()"
      ],
      "execution_count": 242,
      "outputs": [
        {
          "output_type": "execute_result",
          "data": {
            "text/html": [
              "<div>\n",
              "<style scoped>\n",
              "    .dataframe tbody tr th:only-of-type {\n",
              "        vertical-align: middle;\n",
              "    }\n",
              "\n",
              "    .dataframe tbody tr th {\n",
              "        vertical-align: top;\n",
              "    }\n",
              "\n",
              "    .dataframe thead th {\n",
              "        text-align: right;\n",
              "    }\n",
              "</style>\n",
              "<table border=\"1\" class=\"dataframe\">\n",
              "  <thead>\n",
              "    <tr style=\"text-align: right;\">\n",
              "      <th></th>\n",
              "      <th>yeartype</th>\n",
              "      <th>price</th>\n",
              "      <th>fuel_CNG</th>\n",
              "      <th>fuel_LPG</th>\n",
              "      <th>fuel_LPG+전기</th>\n",
              "      <th>fuel_가솔린</th>\n",
              "      <th>fuel_가솔린+전기</th>\n",
              "      <th>fuel_가솔린/CNG겸용</th>\n",
              "      <th>fuel_가솔린/LPG겸용</th>\n",
              "      <th>fuel_기타</th>\n",
              "      <th>fuel_디젤</th>\n",
              "      <th>fuel_전기</th>\n",
              "      <th>dist</th>\n",
              "      <th>power</th>\n",
              "      <th>cylinder_3.0</th>\n",
              "      <th>cylinder_4.0</th>\n",
              "      <th>cylinder_5.0</th>\n",
              "      <th>cylinder_6.0</th>\n",
              "      <th>cylinder_8.0</th>\n",
              "      <th>torque</th>\n",
              "      <th>type_4WD</th>\n",
              "      <th>type_AWD</th>\n",
              "      <th>type_FF</th>\n",
              "      <th>type_FR</th>\n",
              "      <th>type_MR</th>\n",
              "      <th>mission_수동</th>\n",
              "      <th>mission_자동</th>\n",
              "    </tr>\n",
              "  </thead>\n",
              "  <tbody>\n",
              "    <tr>\n",
              "      <th>0</th>\n",
              "      <td>2013.0</td>\n",
              "      <td>7.534228</td>\n",
              "      <td>0</td>\n",
              "      <td>0</td>\n",
              "      <td>0</td>\n",
              "      <td>1</td>\n",
              "      <td>0</td>\n",
              "      <td>0</td>\n",
              "      <td>0</td>\n",
              "      <td>0</td>\n",
              "      <td>0</td>\n",
              "      <td>0</td>\n",
              "      <td>40000.0</td>\n",
              "      <td>201.0</td>\n",
              "      <td>0</td>\n",
              "      <td>1</td>\n",
              "      <td>0</td>\n",
              "      <td>0</td>\n",
              "      <td>0</td>\n",
              "      <td>25.5</td>\n",
              "      <td>0</td>\n",
              "      <td>0</td>\n",
              "      <td>1</td>\n",
              "      <td>0</td>\n",
              "      <td>0</td>\n",
              "      <td>0</td>\n",
              "      <td>1</td>\n",
              "    </tr>\n",
              "    <tr>\n",
              "      <th>1</th>\n",
              "      <td>2010.0</td>\n",
              "      <td>6.552508</td>\n",
              "      <td>0</td>\n",
              "      <td>1</td>\n",
              "      <td>0</td>\n",
              "      <td>0</td>\n",
              "      <td>0</td>\n",
              "      <td>0</td>\n",
              "      <td>0</td>\n",
              "      <td>0</td>\n",
              "      <td>0</td>\n",
              "      <td>0</td>\n",
              "      <td>90000.0</td>\n",
              "      <td>157.0</td>\n",
              "      <td>0</td>\n",
              "      <td>1</td>\n",
              "      <td>0</td>\n",
              "      <td>0</td>\n",
              "      <td>0</td>\n",
              "      <td>20.0</td>\n",
              "      <td>0</td>\n",
              "      <td>0</td>\n",
              "      <td>1</td>\n",
              "      <td>0</td>\n",
              "      <td>0</td>\n",
              "      <td>0</td>\n",
              "      <td>1</td>\n",
              "    </tr>\n",
              "    <tr>\n",
              "      <th>2</th>\n",
              "      <td>2015.0</td>\n",
              "      <td>8.003363</td>\n",
              "      <td>0</td>\n",
              "      <td>0</td>\n",
              "      <td>0</td>\n",
              "      <td>0</td>\n",
              "      <td>0</td>\n",
              "      <td>0</td>\n",
              "      <td>0</td>\n",
              "      <td>0</td>\n",
              "      <td>1</td>\n",
              "      <td>0</td>\n",
              "      <td>30000.0</td>\n",
              "      <td>202.0</td>\n",
              "      <td>0</td>\n",
              "      <td>1</td>\n",
              "      <td>0</td>\n",
              "      <td>0</td>\n",
              "      <td>0</td>\n",
              "      <td>45.0</td>\n",
              "      <td>0</td>\n",
              "      <td>0</td>\n",
              "      <td>1</td>\n",
              "      <td>0</td>\n",
              "      <td>0</td>\n",
              "      <td>0</td>\n",
              "      <td>1</td>\n",
              "    </tr>\n",
              "    <tr>\n",
              "      <th>3</th>\n",
              "      <td>2008.0</td>\n",
              "      <td>6.042633</td>\n",
              "      <td>0</td>\n",
              "      <td>0</td>\n",
              "      <td>0</td>\n",
              "      <td>0</td>\n",
              "      <td>0</td>\n",
              "      <td>0</td>\n",
              "      <td>0</td>\n",
              "      <td>0</td>\n",
              "      <td>1</td>\n",
              "      <td>0</td>\n",
              "      <td>160000.0</td>\n",
              "      <td>151.0</td>\n",
              "      <td>0</td>\n",
              "      <td>1</td>\n",
              "      <td>0</td>\n",
              "      <td>0</td>\n",
              "      <td>0</td>\n",
              "      <td>33.8</td>\n",
              "      <td>0</td>\n",
              "      <td>0</td>\n",
              "      <td>0</td>\n",
              "      <td>1</td>\n",
              "      <td>0</td>\n",
              "      <td>0</td>\n",
              "      <td>1</td>\n",
              "    </tr>\n",
              "    <tr>\n",
              "      <th>4</th>\n",
              "      <td>2004.0</td>\n",
              "      <td>6.111467</td>\n",
              "      <td>0</td>\n",
              "      <td>0</td>\n",
              "      <td>0</td>\n",
              "      <td>0</td>\n",
              "      <td>0</td>\n",
              "      <td>0</td>\n",
              "      <td>0</td>\n",
              "      <td>0</td>\n",
              "      <td>1</td>\n",
              "      <td>0</td>\n",
              "      <td>160000.0</td>\n",
              "      <td>103.0</td>\n",
              "      <td>1</td>\n",
              "      <td>0</td>\n",
              "      <td>0</td>\n",
              "      <td>0</td>\n",
              "      <td>0</td>\n",
              "      <td>24.0</td>\n",
              "      <td>0</td>\n",
              "      <td>0</td>\n",
              "      <td>0</td>\n",
              "      <td>1</td>\n",
              "      <td>0</td>\n",
              "      <td>1</td>\n",
              "      <td>0</td>\n",
              "    </tr>\n",
              "  </tbody>\n",
              "</table>\n",
              "</div>"
            ],
            "text/plain": [
              "   yeartype     price  fuel_CNG  ...  type_MR  mission_수동  mission_자동\n",
              "0    2013.0  7.534228         0  ...        0           0           1\n",
              "1    2010.0  6.552508         0  ...        0           0           1\n",
              "2    2015.0  8.003363         0  ...        0           0           1\n",
              "3    2008.0  6.042633         0  ...        0           0           1\n",
              "4    2004.0  6.111467         0  ...        0           1           0\n",
              "\n",
              "[5 rows x 27 columns]"
            ]
          },
          "metadata": {
            "tags": []
          },
          "execution_count": 242
        }
      ]
    },
    {
      "cell_type": "markdown",
      "metadata": {
        "id": "hwJ5DWeW6a9I"
      },
      "source": [
        "# 14 가격(만원) price 11769 non-null float64\n",
        "\n",
        "- 이건 피쳐가 아니고 정답(레이블)"
      ]
    },
    {
      "cell_type": "markdown",
      "metadata": {
        "id": "rA0lGDlP6a9I"
      },
      "source": [
        "# 종합"
      ]
    },
    {
      "cell_type": "code",
      "metadata": {
        "id": "Xg0y9QJt6a9I",
        "outputId": "b9693e90-b5af-4f2d-ba0a-339c745a62d2",
        "colab": {
          "base_uri": "https://localhost:8080/"
        }
      },
      "source": [
        "print(train.shape)\n",
        "print(test.shape)"
      ],
      "execution_count": 243,
      "outputs": [
        {
          "output_type": "stream",
          "text": [
            "(11764, 27)\n",
            "(5789, 26)\n"
          ],
          "name": "stdout"
        }
      ]
    },
    {
      "cell_type": "code",
      "metadata": {
        "id": "dqXRNmH5hVfJ",
        "outputId": "b65148d5-cf83-4ec8-c9a4-c1f3d335f9a2",
        "colab": {
          "base_uri": "https://localhost:8080/"
        }
      },
      "source": [
        "train.info()"
      ],
      "execution_count": 244,
      "outputs": [
        {
          "output_type": "stream",
          "text": [
            "<class 'pandas.core.frame.DataFrame'>\n",
            "Int64Index: 11764 entries, 0 to 11768\n",
            "Data columns (total 27 columns):\n",
            " #   Column          Non-Null Count  Dtype  \n",
            "---  ------          --------------  -----  \n",
            " 0   yeartype        11764 non-null  float64\n",
            " 1   price           11764 non-null  float64\n",
            " 2   fuel_CNG        11764 non-null  uint8  \n",
            " 3   fuel_LPG        11764 non-null  uint8  \n",
            " 4   fuel_LPG+전기     11764 non-null  uint8  \n",
            " 5   fuel_가솔린        11764 non-null  uint8  \n",
            " 6   fuel_가솔린+전기     11764 non-null  uint8  \n",
            " 7   fuel_가솔린/CNG겸용  11764 non-null  uint8  \n",
            " 8   fuel_가솔린/LPG겸용  11764 non-null  uint8  \n",
            " 9   fuel_기타         11764 non-null  uint8  \n",
            " 10  fuel_디젤         11764 non-null  uint8  \n",
            " 11  fuel_전기         11764 non-null  uint8  \n",
            " 12  dist            11735 non-null  float64\n",
            " 13  power           10639 non-null  float64\n",
            " 14  cylinder_3.0    11764 non-null  uint8  \n",
            " 15  cylinder_4.0    11764 non-null  uint8  \n",
            " 16  cylinder_5.0    11764 non-null  uint8  \n",
            " 17  cylinder_6.0    11764 non-null  uint8  \n",
            " 18  cylinder_8.0    11764 non-null  uint8  \n",
            " 19  torque          10540 non-null  float64\n",
            " 20  type_4WD        11764 non-null  uint8  \n",
            " 21  type_AWD        11764 non-null  uint8  \n",
            " 22  type_FF         11764 non-null  uint8  \n",
            " 23  type_FR         11764 non-null  uint8  \n",
            " 24  type_MR         11764 non-null  uint8  \n",
            " 25  mission_수동      11764 non-null  uint8  \n",
            " 26  mission_자동      11764 non-null  uint8  \n",
            "dtypes: float64(5), uint8(22)\n",
            "memory usage: 1.1 MB\n"
          ],
          "name": "stdout"
        }
      ]
    },
    {
      "cell_type": "code",
      "metadata": {
        "id": "OG_zzc66hmER",
        "outputId": "7e0ae291-be3a-4200-ad9b-33f052e038b8",
        "colab": {
          "base_uri": "https://localhost:8080/"
        }
      },
      "source": [
        "test.info()"
      ],
      "execution_count": 245,
      "outputs": [
        {
          "output_type": "stream",
          "text": [
            "<class 'pandas.core.frame.DataFrame'>\n",
            "RangeIndex: 5789 entries, 0 to 5788\n",
            "Data columns (total 26 columns):\n",
            " #   Column          Non-Null Count  Dtype  \n",
            "---  ------          --------------  -----  \n",
            " 0   yeartype        5789 non-null   float64\n",
            " 1   fuel_CNG        5789 non-null   uint8  \n",
            " 2   fuel_LPG        5789 non-null   uint8  \n",
            " 3   fuel_LPG+전기     5789 non-null   uint8  \n",
            " 4   fuel_가솔린        5789 non-null   uint8  \n",
            " 5   fuel_가솔린+전기     5789 non-null   uint8  \n",
            " 6   fuel_가솔린/CNG겸용  5789 non-null   uint8  \n",
            " 7   fuel_가솔린/LPG겸용  5789 non-null   uint8  \n",
            " 8   fuel_기타         5789 non-null   uint8  \n",
            " 9   fuel_디젤         5789 non-null   uint8  \n",
            " 10  fuel_전기         5789 non-null   uint8  \n",
            " 11  dist            5778 non-null   float64\n",
            " 12  power           5237 non-null   float64\n",
            " 13  cylinder_3.0    5789 non-null   uint8  \n",
            " 14  cylinder_4.0    5789 non-null   uint8  \n",
            " 15  cylinder_5.0    5789 non-null   uint8  \n",
            " 16  cylinder_6.0    5789 non-null   uint8  \n",
            " 17  cylinder_8.0    5789 non-null   uint8  \n",
            " 18  torque          5183 non-null   float64\n",
            " 19  type_4WD        5789 non-null   uint8  \n",
            " 20  type_AWD        5789 non-null   uint8  \n",
            " 21  type_FF         5789 non-null   uint8  \n",
            " 22  type_FR         5789 non-null   uint8  \n",
            " 23  type_MR         5789 non-null   uint8  \n",
            " 24  mission_수동      5789 non-null   uint8  \n",
            " 25  mission_자동      5789 non-null   uint8  \n",
            "dtypes: float64(4), uint8(22)\n",
            "memory usage: 305.4 KB\n"
          ],
          "name": "stdout"
        }
      ]
    },
    {
      "cell_type": "markdown",
      "metadata": {
        "id": "GKXKTq7R6RXJ"
      },
      "source": [
        "# 결측치 채우기 - 그냥 평균"
      ]
    },
    {
      "cell_type": "code",
      "metadata": {
        "id": "i7teVrvh6RFi",
        "outputId": "50ee1e07-77d9-4339-816f-0a92b024a74d",
        "colab": {
          "base_uri": "https://localhost:8080/"
        }
      },
      "source": [
        "train.isna().sum()"
      ],
      "execution_count": 246,
      "outputs": [
        {
          "output_type": "execute_result",
          "data": {
            "text/plain": [
              "yeartype             0\n",
              "price                0\n",
              "fuel_CNG             0\n",
              "fuel_LPG             0\n",
              "fuel_LPG+전기          0\n",
              "fuel_가솔린             0\n",
              "fuel_가솔린+전기          0\n",
              "fuel_가솔린/CNG겸용       0\n",
              "fuel_가솔린/LPG겸용       0\n",
              "fuel_기타              0\n",
              "fuel_디젤              0\n",
              "fuel_전기              0\n",
              "dist                29\n",
              "power             1125\n",
              "cylinder_3.0         0\n",
              "cylinder_4.0         0\n",
              "cylinder_5.0         0\n",
              "cylinder_6.0         0\n",
              "cylinder_8.0         0\n",
              "torque            1224\n",
              "type_4WD             0\n",
              "type_AWD             0\n",
              "type_FF              0\n",
              "type_FR              0\n",
              "type_MR              0\n",
              "mission_수동           0\n",
              "mission_자동           0\n",
              "dtype: int64"
            ]
          },
          "metadata": {
            "tags": []
          },
          "execution_count": 246
        }
      ]
    },
    {
      "cell_type": "code",
      "metadata": {
        "id": "93VY38h-8HRF",
        "outputId": "e1f4062d-5713-465a-a56f-ebe805012cfd",
        "colab": {
          "base_uri": "https://localhost:8080/"
        }
      },
      "source": [
        "test.isna().sum()"
      ],
      "execution_count": 247,
      "outputs": [
        {
          "output_type": "execute_result",
          "data": {
            "text/plain": [
              "yeartype            0\n",
              "fuel_CNG            0\n",
              "fuel_LPG            0\n",
              "fuel_LPG+전기         0\n",
              "fuel_가솔린            0\n",
              "fuel_가솔린+전기         0\n",
              "fuel_가솔린/CNG겸용      0\n",
              "fuel_가솔린/LPG겸용      0\n",
              "fuel_기타             0\n",
              "fuel_디젤             0\n",
              "fuel_전기             0\n",
              "dist               11\n",
              "power             552\n",
              "cylinder_3.0        0\n",
              "cylinder_4.0        0\n",
              "cylinder_5.0        0\n",
              "cylinder_6.0        0\n",
              "cylinder_8.0        0\n",
              "torque            606\n",
              "type_4WD            0\n",
              "type_AWD            0\n",
              "type_FF             0\n",
              "type_FR             0\n",
              "type_MR             0\n",
              "mission_수동          0\n",
              "mission_자동          0\n",
              "dtype: int64"
            ]
          },
          "metadata": {
            "tags": []
          },
          "execution_count": 247
        }
      ]
    },
    {
      "cell_type": "code",
      "metadata": {
        "id": "Dw7UeVIa88Ak"
      },
      "source": [
        "train['dist'] = train['dist'].fillna(train['dist'].mean())\n",
        "test['dist'] = test['dist'].fillna(test['dist'].mean())\n",
        "\n",
        "train['power'] = train['power'].fillna(train['power'].mean())\n",
        "test['power'] = test['power'].fillna(test['power'].mean())\n",
        "\n",
        "train['torque'] = train['torque'].fillna(train['torque'].mean())\n",
        "test['torque'] = test['torque'].fillna(test['torque'].mean())"
      ],
      "execution_count": 248,
      "outputs": []
    },
    {
      "cell_type": "code",
      "metadata": {
        "id": "m2PqV-ITJRU7",
        "outputId": "68389ba3-51f1-4035-a4a5-6614d86555aa",
        "colab": {
          "base_uri": "https://localhost:8080/"
        }
      },
      "source": [
        "print(train.isna().sum())\n",
        "print(test.isna().sum())"
      ],
      "execution_count": 249,
      "outputs": [
        {
          "output_type": "stream",
          "text": [
            "yeartype          0\n",
            "price             0\n",
            "fuel_CNG          0\n",
            "fuel_LPG          0\n",
            "fuel_LPG+전기       0\n",
            "fuel_가솔린          0\n",
            "fuel_가솔린+전기       0\n",
            "fuel_가솔린/CNG겸용    0\n",
            "fuel_가솔린/LPG겸용    0\n",
            "fuel_기타           0\n",
            "fuel_디젤           0\n",
            "fuel_전기           0\n",
            "dist              0\n",
            "power             0\n",
            "cylinder_3.0      0\n",
            "cylinder_4.0      0\n",
            "cylinder_5.0      0\n",
            "cylinder_6.0      0\n",
            "cylinder_8.0      0\n",
            "torque            0\n",
            "type_4WD          0\n",
            "type_AWD          0\n",
            "type_FF           0\n",
            "type_FR           0\n",
            "type_MR           0\n",
            "mission_수동        0\n",
            "mission_자동        0\n",
            "dtype: int64\n",
            "yeartype          0\n",
            "fuel_CNG          0\n",
            "fuel_LPG          0\n",
            "fuel_LPG+전기       0\n",
            "fuel_가솔린          0\n",
            "fuel_가솔린+전기       0\n",
            "fuel_가솔린/CNG겸용    0\n",
            "fuel_가솔린/LPG겸용    0\n",
            "fuel_기타           0\n",
            "fuel_디젤           0\n",
            "fuel_전기           0\n",
            "dist              0\n",
            "power             0\n",
            "cylinder_3.0      0\n",
            "cylinder_4.0      0\n",
            "cylinder_5.0      0\n",
            "cylinder_6.0      0\n",
            "cylinder_8.0      0\n",
            "torque            0\n",
            "type_4WD          0\n",
            "type_AWD          0\n",
            "type_FF           0\n",
            "type_FR           0\n",
            "type_MR           0\n",
            "mission_수동        0\n",
            "mission_자동        0\n",
            "dtype: int64\n"
          ],
          "name": "stdout"
        }
      ]
    },
    {
      "cell_type": "markdown",
      "metadata": {
        "id": "4v2S13nY6a9L"
      },
      "source": [
        "# 데이터 나누기"
      ]
    },
    {
      "cell_type": "code",
      "metadata": {
        "id": "tTJEBWi26a9L"
      },
      "source": [
        "## X_train = train.drop(['price'], axis=1)\n",
        "## Y_train = train['price']\n",
        "## X_test = test.copy()\n",
        "## \n",
        "## print(X_train.shape)\n",
        "## print(Y_train.shape)\n",
        "## print(X_test.shape)"
      ],
      "execution_count": 169,
      "outputs": []
    },
    {
      "cell_type": "markdown",
      "metadata": {
        "id": "1vDJhc4k6a9N"
      },
      "source": [
        "# Model"
      ]
    },
    {
      "cell_type": "code",
      "metadata": {
        "id": "eYdHMhzBJmZP",
        "outputId": "15f5e6e0-b777-4c35-f3ab-f267e197a204",
        "colab": {
          "base_uri": "https://localhost:8080/",
          "height": 1000,
          "referenced_widgets": [
            "e7c70e0d3d024abbaa0faa7319cfa333",
            "b9fffaf4add7430f9aed9620ff4991ad",
            "6e9e64d42417497e93186b014a94a850",
            "d909435283464ad382425f155011bfcf",
            "56a30546d38d4663add4b406d967cdcd",
            "80f91966406c47699030ea120148d49b"
          ]
        }
      },
      "source": [
        "from pycaret.regression import *\n",
        "clf = setup(data=train, target='price')"
      ],
      "execution_count": 250,
      "outputs": [
        {
          "output_type": "display_data",
          "data": {
            "text/html": [
              "<div>\n",
              "<style scoped>\n",
              "    .dataframe tbody tr th:only-of-type {\n",
              "        vertical-align: middle;\n",
              "    }\n",
              "\n",
              "    .dataframe tbody tr th {\n",
              "        vertical-align: top;\n",
              "    }\n",
              "\n",
              "    .dataframe thead th {\n",
              "        text-align: right;\n",
              "    }\n",
              "</style>\n",
              "<table border=\"1\" class=\"dataframe\">\n",
              "  <thead>\n",
              "    <tr style=\"text-align: right;\">\n",
              "      <th></th>\n",
              "      <th>Description</th>\n",
              "      <th>Value</th>\n",
              "    </tr>\n",
              "  </thead>\n",
              "  <tbody>\n",
              "    <tr>\n",
              "      <th>0</th>\n",
              "      <td>session_id</td>\n",
              "      <td>5696</td>\n",
              "    </tr>\n",
              "    <tr>\n",
              "      <th>1</th>\n",
              "      <td>Target</td>\n",
              "      <td>price</td>\n",
              "    </tr>\n",
              "    <tr>\n",
              "      <th>2</th>\n",
              "      <td>Original Data</td>\n",
              "      <td>(11764, 27)</td>\n",
              "    </tr>\n",
              "    <tr>\n",
              "      <th>3</th>\n",
              "      <td>Missing Values</td>\n",
              "      <td>False</td>\n",
              "    </tr>\n",
              "    <tr>\n",
              "      <th>4</th>\n",
              "      <td>Numeric Features</td>\n",
              "      <td>26</td>\n",
              "    </tr>\n",
              "    <tr>\n",
              "      <th>5</th>\n",
              "      <td>Categorical Features</td>\n",
              "      <td>0</td>\n",
              "    </tr>\n",
              "    <tr>\n",
              "      <th>6</th>\n",
              "      <td>Ordinal Features</td>\n",
              "      <td>False</td>\n",
              "    </tr>\n",
              "    <tr>\n",
              "      <th>7</th>\n",
              "      <td>High Cardinality Features</td>\n",
              "      <td>False</td>\n",
              "    </tr>\n",
              "    <tr>\n",
              "      <th>8</th>\n",
              "      <td>High Cardinality Method</td>\n",
              "      <td>None</td>\n",
              "    </tr>\n",
              "    <tr>\n",
              "      <th>9</th>\n",
              "      <td>Transformed Train Set</td>\n",
              "      <td>(8234, 25)</td>\n",
              "    </tr>\n",
              "    <tr>\n",
              "      <th>10</th>\n",
              "      <td>Transformed Test Set</td>\n",
              "      <td>(3530, 25)</td>\n",
              "    </tr>\n",
              "    <tr>\n",
              "      <th>11</th>\n",
              "      <td>Shuffle Train-Test</td>\n",
              "      <td>True</td>\n",
              "    </tr>\n",
              "    <tr>\n",
              "      <th>12</th>\n",
              "      <td>Stratify Train-Test</td>\n",
              "      <td>False</td>\n",
              "    </tr>\n",
              "    <tr>\n",
              "      <th>13</th>\n",
              "      <td>Fold Generator</td>\n",
              "      <td>KFold</td>\n",
              "    </tr>\n",
              "    <tr>\n",
              "      <th>14</th>\n",
              "      <td>Fold Number</td>\n",
              "      <td>10</td>\n",
              "    </tr>\n",
              "    <tr>\n",
              "      <th>15</th>\n",
              "      <td>CPU Jobs</td>\n",
              "      <td>-1</td>\n",
              "    </tr>\n",
              "    <tr>\n",
              "      <th>16</th>\n",
              "      <td>Use GPU</td>\n",
              "      <td>False</td>\n",
              "    </tr>\n",
              "    <tr>\n",
              "      <th>17</th>\n",
              "      <td>Log Experiment</td>\n",
              "      <td>False</td>\n",
              "    </tr>\n",
              "    <tr>\n",
              "      <th>18</th>\n",
              "      <td>Experiment Name</td>\n",
              "      <td>reg-default-name</td>\n",
              "    </tr>\n",
              "    <tr>\n",
              "      <th>19</th>\n",
              "      <td>USI</td>\n",
              "      <td>daae</td>\n",
              "    </tr>\n",
              "    <tr>\n",
              "      <th>20</th>\n",
              "      <td>Imputation Type</td>\n",
              "      <td>simple</td>\n",
              "    </tr>\n",
              "    <tr>\n",
              "      <th>21</th>\n",
              "      <td>Iterative Imputation Iteration</td>\n",
              "      <td>None</td>\n",
              "    </tr>\n",
              "    <tr>\n",
              "      <th>22</th>\n",
              "      <td>Numeric Imputer</td>\n",
              "      <td>mean</td>\n",
              "    </tr>\n",
              "    <tr>\n",
              "      <th>23</th>\n",
              "      <td>Iterative Imputation Numeric Model</td>\n",
              "      <td>None</td>\n",
              "    </tr>\n",
              "    <tr>\n",
              "      <th>24</th>\n",
              "      <td>Categorical Imputer</td>\n",
              "      <td>constant</td>\n",
              "    </tr>\n",
              "    <tr>\n",
              "      <th>25</th>\n",
              "      <td>Iterative Imputation Categorical Model</td>\n",
              "      <td>None</td>\n",
              "    </tr>\n",
              "    <tr>\n",
              "      <th>26</th>\n",
              "      <td>Unknown Categoricals Handling</td>\n",
              "      <td>least_frequent</td>\n",
              "    </tr>\n",
              "    <tr>\n",
              "      <th>27</th>\n",
              "      <td>Normalize</td>\n",
              "      <td>False</td>\n",
              "    </tr>\n",
              "    <tr>\n",
              "      <th>28</th>\n",
              "      <td>Normalize Method</td>\n",
              "      <td>None</td>\n",
              "    </tr>\n",
              "    <tr>\n",
              "      <th>29</th>\n",
              "      <td>Transformation</td>\n",
              "      <td>False</td>\n",
              "    </tr>\n",
              "    <tr>\n",
              "      <th>30</th>\n",
              "      <td>Transformation Method</td>\n",
              "      <td>None</td>\n",
              "    </tr>\n",
              "    <tr>\n",
              "      <th>31</th>\n",
              "      <td>PCA</td>\n",
              "      <td>False</td>\n",
              "    </tr>\n",
              "    <tr>\n",
              "      <th>32</th>\n",
              "      <td>PCA Method</td>\n",
              "      <td>None</td>\n",
              "    </tr>\n",
              "    <tr>\n",
              "      <th>33</th>\n",
              "      <td>PCA Components</td>\n",
              "      <td>None</td>\n",
              "    </tr>\n",
              "    <tr>\n",
              "      <th>34</th>\n",
              "      <td>Ignore Low Variance</td>\n",
              "      <td>False</td>\n",
              "    </tr>\n",
              "    <tr>\n",
              "      <th>35</th>\n",
              "      <td>Combine Rare Levels</td>\n",
              "      <td>False</td>\n",
              "    </tr>\n",
              "    <tr>\n",
              "      <th>36</th>\n",
              "      <td>Rare Level Threshold</td>\n",
              "      <td>None</td>\n",
              "    </tr>\n",
              "    <tr>\n",
              "      <th>37</th>\n",
              "      <td>Numeric Binning</td>\n",
              "      <td>False</td>\n",
              "    </tr>\n",
              "    <tr>\n",
              "      <th>38</th>\n",
              "      <td>Remove Outliers</td>\n",
              "      <td>False</td>\n",
              "    </tr>\n",
              "    <tr>\n",
              "      <th>39</th>\n",
              "      <td>Outliers Threshold</td>\n",
              "      <td>None</td>\n",
              "    </tr>\n",
              "    <tr>\n",
              "      <th>40</th>\n",
              "      <td>Remove Multicollinearity</td>\n",
              "      <td>False</td>\n",
              "    </tr>\n",
              "    <tr>\n",
              "      <th>41</th>\n",
              "      <td>Multicollinearity Threshold</td>\n",
              "      <td>None</td>\n",
              "    </tr>\n",
              "    <tr>\n",
              "      <th>42</th>\n",
              "      <td>Clustering</td>\n",
              "      <td>False</td>\n",
              "    </tr>\n",
              "    <tr>\n",
              "      <th>43</th>\n",
              "      <td>Clustering Iteration</td>\n",
              "      <td>None</td>\n",
              "    </tr>\n",
              "    <tr>\n",
              "      <th>44</th>\n",
              "      <td>Polynomial Features</td>\n",
              "      <td>False</td>\n",
              "    </tr>\n",
              "    <tr>\n",
              "      <th>45</th>\n",
              "      <td>Polynomial Degree</td>\n",
              "      <td>None</td>\n",
              "    </tr>\n",
              "    <tr>\n",
              "      <th>46</th>\n",
              "      <td>Trignometry Features</td>\n",
              "      <td>False</td>\n",
              "    </tr>\n",
              "    <tr>\n",
              "      <th>47</th>\n",
              "      <td>Polynomial Threshold</td>\n",
              "      <td>None</td>\n",
              "    </tr>\n",
              "    <tr>\n",
              "      <th>48</th>\n",
              "      <td>Group Features</td>\n",
              "      <td>False</td>\n",
              "    </tr>\n",
              "    <tr>\n",
              "      <th>49</th>\n",
              "      <td>Feature Selection</td>\n",
              "      <td>False</td>\n",
              "    </tr>\n",
              "    <tr>\n",
              "      <th>50</th>\n",
              "      <td>Features Selection Threshold</td>\n",
              "      <td>None</td>\n",
              "    </tr>\n",
              "    <tr>\n",
              "      <th>51</th>\n",
              "      <td>Feature Interaction</td>\n",
              "      <td>False</td>\n",
              "    </tr>\n",
              "    <tr>\n",
              "      <th>52</th>\n",
              "      <td>Feature Ratio</td>\n",
              "      <td>False</td>\n",
              "    </tr>\n",
              "    <tr>\n",
              "      <th>53</th>\n",
              "      <td>Interaction Threshold</td>\n",
              "      <td>None</td>\n",
              "    </tr>\n",
              "    <tr>\n",
              "      <th>54</th>\n",
              "      <td>Transform Target</td>\n",
              "      <td>False</td>\n",
              "    </tr>\n",
              "    <tr>\n",
              "      <th>55</th>\n",
              "      <td>Transform Target Method</td>\n",
              "      <td>box-cox</td>\n",
              "    </tr>\n",
              "  </tbody>\n",
              "</table>\n",
              "</div>"
            ],
            "text/plain": [
              "                               Description             Value\n",
              "0                               session_id              5696\n",
              "1                                   Target             price\n",
              "2                            Original Data       (11764, 27)\n",
              "3                           Missing Values             False\n",
              "4                         Numeric Features                26\n",
              "5                     Categorical Features                 0\n",
              "6                         Ordinal Features             False\n",
              "7                High Cardinality Features             False\n",
              "8                  High Cardinality Method              None\n",
              "9                    Transformed Train Set        (8234, 25)\n",
              "10                    Transformed Test Set        (3530, 25)\n",
              "11                      Shuffle Train-Test              True\n",
              "12                     Stratify Train-Test             False\n",
              "13                          Fold Generator             KFold\n",
              "14                             Fold Number                10\n",
              "15                                CPU Jobs                -1\n",
              "16                                 Use GPU             False\n",
              "17                          Log Experiment             False\n",
              "18                         Experiment Name  reg-default-name\n",
              "19                                     USI              daae\n",
              "20                         Imputation Type            simple\n",
              "21          Iterative Imputation Iteration              None\n",
              "22                         Numeric Imputer              mean\n",
              "23      Iterative Imputation Numeric Model              None\n",
              "24                     Categorical Imputer          constant\n",
              "25  Iterative Imputation Categorical Model              None\n",
              "26           Unknown Categoricals Handling    least_frequent\n",
              "27                               Normalize             False\n",
              "28                        Normalize Method              None\n",
              "29                          Transformation             False\n",
              "30                   Transformation Method              None\n",
              "31                                     PCA             False\n",
              "32                              PCA Method              None\n",
              "33                          PCA Components              None\n",
              "34                     Ignore Low Variance             False\n",
              "35                     Combine Rare Levels             False\n",
              "36                    Rare Level Threshold              None\n",
              "37                         Numeric Binning             False\n",
              "38                         Remove Outliers             False\n",
              "39                      Outliers Threshold              None\n",
              "40                Remove Multicollinearity             False\n",
              "41             Multicollinearity Threshold              None\n",
              "42                              Clustering             False\n",
              "43                    Clustering Iteration              None\n",
              "44                     Polynomial Features             False\n",
              "45                       Polynomial Degree              None\n",
              "46                    Trignometry Features             False\n",
              "47                    Polynomial Threshold              None\n",
              "48                          Group Features             False\n",
              "49                       Feature Selection             False\n",
              "50            Features Selection Threshold              None\n",
              "51                     Feature Interaction             False\n",
              "52                           Feature Ratio             False\n",
              "53                   Interaction Threshold              None\n",
              "54                        Transform Target             False\n",
              "55                 Transform Target Method           box-cox"
            ]
          },
          "metadata": {
            "tags": []
          }
        }
      ]
    },
    {
      "cell_type": "code",
      "metadata": {
        "id": "Fu8EfyldKmUQ",
        "outputId": "6afdb85a-d3bd-4bbf-a229-5aa5759a59e2",
        "colab": {
          "base_uri": "https://localhost:8080/",
          "height": 631,
          "referenced_widgets": [
            "8359e9a2cd7a4b669855e35c58ca49ff",
            "2756ef4f4c164da1a122a596bf403332",
            "41b044ea5ce64605b90fe17e6ac5ba90"
          ]
        }
      },
      "source": [
        "best_3 = compare_models(sort='RMSE', n_select=3)"
      ],
      "execution_count": 251,
      "outputs": [
        {
          "output_type": "display_data",
          "data": {
            "text/html": [
              "<div>\n",
              "<style scoped>\n",
              "    .dataframe tbody tr th:only-of-type {\n",
              "        vertical-align: middle;\n",
              "    }\n",
              "\n",
              "    .dataframe tbody tr th {\n",
              "        vertical-align: top;\n",
              "    }\n",
              "\n",
              "    .dataframe thead th {\n",
              "        text-align: right;\n",
              "    }\n",
              "</style>\n",
              "<table border=\"1\" class=\"dataframe\">\n",
              "  <thead>\n",
              "    <tr style=\"text-align: right;\">\n",
              "      <th></th>\n",
              "      <th>Model</th>\n",
              "      <th>MAE</th>\n",
              "      <th>MSE</th>\n",
              "      <th>RMSE</th>\n",
              "      <th>R2</th>\n",
              "      <th>RMSLE</th>\n",
              "      <th>MAPE</th>\n",
              "      <th>TT (Sec)</th>\n",
              "    </tr>\n",
              "  </thead>\n",
              "  <tbody>\n",
              "    <tr>\n",
              "      <th>lightgbm</th>\n",
              "      <td>Light Gradient Boosting Machine</td>\n",
              "      <td>0.2910</td>\n",
              "      <td>2.922000e-01</td>\n",
              "      <td>0.5265</td>\n",
              "      <td>6.401000e-01</td>\n",
              "      <td>0.0962</td>\n",
              "      <td>0.0702</td>\n",
              "      <td>0.049</td>\n",
              "    </tr>\n",
              "    <tr>\n",
              "      <th>gbr</th>\n",
              "      <td>Gradient Boosting Regressor</td>\n",
              "      <td>0.3077</td>\n",
              "      <td>3.046000e-01</td>\n",
              "      <td>0.5386</td>\n",
              "      <td>6.239000e-01</td>\n",
              "      <td>0.0975</td>\n",
              "      <td>0.0725</td>\n",
              "      <td>0.229</td>\n",
              "    </tr>\n",
              "    <tr>\n",
              "      <th>catboost</th>\n",
              "      <td>CatBoost Regressor</td>\n",
              "      <td>0.2922</td>\n",
              "      <td>3.055000e-01</td>\n",
              "      <td>0.5403</td>\n",
              "      <td>6.214000e-01</td>\n",
              "      <td>0.0991</td>\n",
              "      <td>0.0704</td>\n",
              "      <td>1.558</td>\n",
              "    </tr>\n",
              "    <tr>\n",
              "      <th>xgboost</th>\n",
              "      <td>Extreme Gradient Boosting</td>\n",
              "      <td>0.3024</td>\n",
              "      <td>3.284000e-01</td>\n",
              "      <td>0.5620</td>\n",
              "      <td>5.904000e-01</td>\n",
              "      <td>0.1021</td>\n",
              "      <td>0.0718</td>\n",
              "      <td>0.512</td>\n",
              "    </tr>\n",
              "    <tr>\n",
              "      <th>ridge</th>\n",
              "      <td>Ridge Regression</td>\n",
              "      <td>0.3507</td>\n",
              "      <td>3.519000e-01</td>\n",
              "      <td>0.5828</td>\n",
              "      <td>5.612000e-01</td>\n",
              "      <td>0.1022</td>\n",
              "      <td>0.0787</td>\n",
              "      <td>0.010</td>\n",
              "    </tr>\n",
              "    <tr>\n",
              "      <th>lr</th>\n",
              "      <td>Linear Regression</td>\n",
              "      <td>0.3510</td>\n",
              "      <td>3.524000e-01</td>\n",
              "      <td>0.5832</td>\n",
              "      <td>5.606000e-01</td>\n",
              "      <td>0.1022</td>\n",
              "      <td>0.0787</td>\n",
              "      <td>0.009</td>\n",
              "    </tr>\n",
              "    <tr>\n",
              "      <th>br</th>\n",
              "      <td>Bayesian Ridge</td>\n",
              "      <td>0.3513</td>\n",
              "      <td>3.525000e-01</td>\n",
              "      <td>0.5834</td>\n",
              "      <td>5.604000e-01</td>\n",
              "      <td>0.1022</td>\n",
              "      <td>0.0788</td>\n",
              "      <td>0.011</td>\n",
              "    </tr>\n",
              "    <tr>\n",
              "      <th>rf</th>\n",
              "      <td>Random Forest Regressor</td>\n",
              "      <td>0.3153</td>\n",
              "      <td>3.603000e-01</td>\n",
              "      <td>0.5909</td>\n",
              "      <td>5.486000e-01</td>\n",
              "      <td>0.1048</td>\n",
              "      <td>0.0736</td>\n",
              "      <td>0.834</td>\n",
              "    </tr>\n",
              "    <tr>\n",
              "      <th>en</th>\n",
              "      <td>Elastic Net</td>\n",
              "      <td>0.3849</td>\n",
              "      <td>3.885000e-01</td>\n",
              "      <td>0.6140</td>\n",
              "      <td>5.136000e-01</td>\n",
              "      <td>0.1052</td>\n",
              "      <td>0.0836</td>\n",
              "      <td>0.011</td>\n",
              "    </tr>\n",
              "    <tr>\n",
              "      <th>knn</th>\n",
              "      <td>K Neighbors Regressor</td>\n",
              "      <td>0.3649</td>\n",
              "      <td>3.896000e-01</td>\n",
              "      <td>0.6152</td>\n",
              "      <td>5.115000e-01</td>\n",
              "      <td>0.1055</td>\n",
              "      <td>0.0810</td>\n",
              "      <td>0.046</td>\n",
              "    </tr>\n",
              "    <tr>\n",
              "      <th>lasso</th>\n",
              "      <td>Lasso Regression</td>\n",
              "      <td>0.4047</td>\n",
              "      <td>4.103000e-01</td>\n",
              "      <td>0.6319</td>\n",
              "      <td>4.850000e-01</td>\n",
              "      <td>0.1071</td>\n",
              "      <td>0.0865</td>\n",
              "      <td>0.009</td>\n",
              "    </tr>\n",
              "    <tr>\n",
              "      <th>huber</th>\n",
              "      <td>Huber Regressor</td>\n",
              "      <td>0.4027</td>\n",
              "      <td>4.130000e-01</td>\n",
              "      <td>0.6334</td>\n",
              "      <td>4.817000e-01</td>\n",
              "      <td>0.1074</td>\n",
              "      <td>0.0864</td>\n",
              "      <td>0.046</td>\n",
              "    </tr>\n",
              "    <tr>\n",
              "      <th>et</th>\n",
              "      <td>Extra Trees Regressor</td>\n",
              "      <td>0.3291</td>\n",
              "      <td>4.173000e-01</td>\n",
              "      <td>0.6394</td>\n",
              "      <td>4.708000e-01</td>\n",
              "      <td>0.1206</td>\n",
              "      <td>0.0756</td>\n",
              "      <td>0.752</td>\n",
              "    </tr>\n",
              "    <tr>\n",
              "      <th>omp</th>\n",
              "      <td>Orthogonal Matching Pursuit</td>\n",
              "      <td>0.4122</td>\n",
              "      <td>4.199000e-01</td>\n",
              "      <td>0.6415</td>\n",
              "      <td>4.693000e-01</td>\n",
              "      <td>0.1082</td>\n",
              "      <td>0.0870</td>\n",
              "      <td>0.010</td>\n",
              "    </tr>\n",
              "    <tr>\n",
              "      <th>ada</th>\n",
              "      <td>AdaBoost Regressor</td>\n",
              "      <td>0.5180</td>\n",
              "      <td>5.490000e-01</td>\n",
              "      <td>0.7371</td>\n",
              "      <td>2.977000e-01</td>\n",
              "      <td>0.1167</td>\n",
              "      <td>0.0995</td>\n",
              "      <td>0.036</td>\n",
              "    </tr>\n",
              "    <tr>\n",
              "      <th>dt</th>\n",
              "      <td>Decision Tree Regressor</td>\n",
              "      <td>0.3810</td>\n",
              "      <td>5.613000e-01</td>\n",
              "      <td>0.7436</td>\n",
              "      <td>2.792000e-01</td>\n",
              "      <td>0.1433</td>\n",
              "      <td>0.0830</td>\n",
              "      <td>0.019</td>\n",
              "    </tr>\n",
              "    <tr>\n",
              "      <th>llar</th>\n",
              "      <td>Lasso Least Angle Regression</td>\n",
              "      <td>0.6637</td>\n",
              "      <td>7.780000e-01</td>\n",
              "      <td>0.8795</td>\n",
              "      <td>-2.400000e-03</td>\n",
              "      <td>0.1321</td>\n",
              "      <td>0.1229</td>\n",
              "      <td>0.010</td>\n",
              "    </tr>\n",
              "    <tr>\n",
              "      <th>par</th>\n",
              "      <td>Passive Aggressive Regressor</td>\n",
              "      <td>0.6968</td>\n",
              "      <td>1.053200e+00</td>\n",
              "      <td>1.0044</td>\n",
              "      <td>-3.334000e-01</td>\n",
              "      <td>0.1639</td>\n",
              "      <td>0.1293</td>\n",
              "      <td>0.013</td>\n",
              "    </tr>\n",
              "    <tr>\n",
              "      <th>lar</th>\n",
              "      <td>Least Angle Regression</td>\n",
              "      <td>3051.6981</td>\n",
              "      <td>1.629968e+08</td>\n",
              "      <td>4038.0133</td>\n",
              "      <td>-2.653098e+08</td>\n",
              "      <td>0.9014</td>\n",
              "      <td>443.3974</td>\n",
              "      <td>0.010</td>\n",
              "    </tr>\n",
              "  </tbody>\n",
              "</table>\n",
              "</div>"
            ],
            "text/plain": [
              "                                    Model        MAE           MSE       RMSE  \\\n",
              "lightgbm  Light Gradient Boosting Machine     0.2910  2.922000e-01     0.5265   \n",
              "gbr           Gradient Boosting Regressor     0.3077  3.046000e-01     0.5386   \n",
              "catboost               CatBoost Regressor     0.2922  3.055000e-01     0.5403   \n",
              "xgboost         Extreme Gradient Boosting     0.3024  3.284000e-01     0.5620   \n",
              "ridge                    Ridge Regression     0.3507  3.519000e-01     0.5828   \n",
              "lr                      Linear Regression     0.3510  3.524000e-01     0.5832   \n",
              "br                         Bayesian Ridge     0.3513  3.525000e-01     0.5834   \n",
              "rf                Random Forest Regressor     0.3153  3.603000e-01     0.5909   \n",
              "en                            Elastic Net     0.3849  3.885000e-01     0.6140   \n",
              "knn                 K Neighbors Regressor     0.3649  3.896000e-01     0.6152   \n",
              "lasso                    Lasso Regression     0.4047  4.103000e-01     0.6319   \n",
              "huber                     Huber Regressor     0.4027  4.130000e-01     0.6334   \n",
              "et                  Extra Trees Regressor     0.3291  4.173000e-01     0.6394   \n",
              "omp           Orthogonal Matching Pursuit     0.4122  4.199000e-01     0.6415   \n",
              "ada                    AdaBoost Regressor     0.5180  5.490000e-01     0.7371   \n",
              "dt                Decision Tree Regressor     0.3810  5.613000e-01     0.7436   \n",
              "llar         Lasso Least Angle Regression     0.6637  7.780000e-01     0.8795   \n",
              "par          Passive Aggressive Regressor     0.6968  1.053200e+00     1.0044   \n",
              "lar                Least Angle Regression  3051.6981  1.629968e+08  4038.0133   \n",
              "\n",
              "                    R2   RMSLE      MAPE  TT (Sec)  \n",
              "lightgbm  6.401000e-01  0.0962    0.0702     0.049  \n",
              "gbr       6.239000e-01  0.0975    0.0725     0.229  \n",
              "catboost  6.214000e-01  0.0991    0.0704     1.558  \n",
              "xgboost   5.904000e-01  0.1021    0.0718     0.512  \n",
              "ridge     5.612000e-01  0.1022    0.0787     0.010  \n",
              "lr        5.606000e-01  0.1022    0.0787     0.009  \n",
              "br        5.604000e-01  0.1022    0.0788     0.011  \n",
              "rf        5.486000e-01  0.1048    0.0736     0.834  \n",
              "en        5.136000e-01  0.1052    0.0836     0.011  \n",
              "knn       5.115000e-01  0.1055    0.0810     0.046  \n",
              "lasso     4.850000e-01  0.1071    0.0865     0.009  \n",
              "huber     4.817000e-01  0.1074    0.0864     0.046  \n",
              "et        4.708000e-01  0.1206    0.0756     0.752  \n",
              "omp       4.693000e-01  0.1082    0.0870     0.010  \n",
              "ada       2.977000e-01  0.1167    0.0995     0.036  \n",
              "dt        2.792000e-01  0.1433    0.0830     0.019  \n",
              "llar     -2.400000e-03  0.1321    0.1229     0.010  \n",
              "par      -3.334000e-01  0.1639    0.1293     0.013  \n",
              "lar      -2.653098e+08  0.9014  443.3974     0.010  "
            ]
          },
          "metadata": {
            "tags": []
          }
        }
      ]
    },
    {
      "cell_type": "markdown",
      "metadata": {
        "id": "2Qfpl9Va6a9S"
      },
      "source": [
        "# Prediction"
      ]
    },
    {
      "cell_type": "code",
      "metadata": {
        "id": "d5_osT_66a9T"
      },
      "source": [
        "ensemble = stacked_pred*0.70 + xgb_pred*0.15 + lgb_pred*0.15"
      ],
      "execution_count": null,
      "outputs": []
    },
    {
      "cell_type": "code",
      "metadata": {
        "id": "7_zDRCa86a9V"
      },
      "source": [
        "submission = pd.DataFrame({\n",
        "    \"no\": test_no,\n",
        "    \"가격(만원)\": ensemble\n",
        "})\n",
        "submission.to_csv('/content/drive/My Drive/dg_univ_2020_ml/output/v1.2.3.6.csv', index=False)"
      ],
      "execution_count": null,
      "outputs": []
    },
    {
      "cell_type": "code",
      "metadata": {
        "id": "lHVHce5v6a9X"
      },
      "source": [
        ""
      ],
      "execution_count": null,
      "outputs": []
    },
    {
      "cell_type": "code",
      "metadata": {
        "id": "z0NgPwLHS66O"
      },
      "source": [
        ""
      ],
      "execution_count": null,
      "outputs": []
    }
  ]
}