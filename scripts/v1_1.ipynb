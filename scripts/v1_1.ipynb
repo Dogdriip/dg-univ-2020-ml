{
 "cells": [
  {
   "cell_type": "code",
   "execution_count": 26,
   "metadata": {},
   "outputs": [],
   "source": [
    "import pandas as pd\n",
    "import numpy as np\n",
    "\n",
    "import matplotlib.pyplot as plt\n",
    "import seaborn as sns\n",
    "sns.set_style('whitegrid')\n",
    "%matplotlib inline "
   ]
  },
  {
   "cell_type": "code",
   "execution_count": 27,
   "metadata": {},
   "outputs": [],
   "source": [
    "train = pd.read_csv('../input/train.csv')\n",
    "test = pd.read_csv('../input/test.csv')"
   ]
  },
  {
   "cell_type": "code",
   "execution_count": 28,
   "metadata": {},
   "outputs": [
    {
     "output_type": "stream",
     "name": "stdout",
     "text": [
      "(11769, 15)\n(5789, 13)\n"
     ]
    }
   ],
   "source": [
    "print(train.shape)\n",
    "print(test.shape)"
   ]
  },
  {
   "cell_type": "code",
   "execution_count": 29,
   "metadata": {},
   "outputs": [
    {
     "output_type": "execute_result",
     "data": {
      "text/plain": [
       "   no                                모델명           연월      연식   연료   주행거리  \\\n",
       "0   0        기아 더 뉴 K7 2.4 GDI 프레스티지 스페셜  12/12(13년형)  2013.0  가솔린   4만km   \n",
       "1   1          현대 YF쏘나타 2.0 Y20 LPi 프리미어        10/03  2010.0  LPG   9만km   \n",
       "2   2               현대 그랜져HG 220 디젤 프리미엄  14/09(15년형)  2015.0   디젤   3만km   \n",
       "3   3            쌍용 뉴카이런 2.0 LV5 2WD 고급형  07/06(08년형)  2008.0   디젤  16만km   \n",
       "4   4  현대 뉴스타렉스 점보 밴 TCI 3인승 GX 윈도우밴 일반형        04/03  2004.0   디젤  16만km   \n",
       "\n",
       "    인승  최대출력(마력)   기통  최대토크(kgm) 구동방식 자동수동 국산/수입  신차가(만원)  가격(만원)  \n",
       "0  NaN     201.0  4.0       25.5   FF  NaN    국산   3141.0  1870.0  \n",
       "1  NaN     157.0  NaN       20.0   FF  NaN    국산      NaN   700.0  \n",
       "2  NaN     202.0  4.0       45.0   FF  NaN    국산   3389.0  2990.0  \n",
       "3  NaN     151.0  4.0       33.8   FR  NaN    국산   2499.0   420.0  \n",
       "4  3.0     103.0  NaN       24.0   FR   수동    국산   1445.0   450.0  "
      ],
      "text/html": "<div>\n<style scoped>\n    .dataframe tbody tr th:only-of-type {\n        vertical-align: middle;\n    }\n\n    .dataframe tbody tr th {\n        vertical-align: top;\n    }\n\n    .dataframe thead th {\n        text-align: right;\n    }\n</style>\n<table border=\"1\" class=\"dataframe\">\n  <thead>\n    <tr style=\"text-align: right;\">\n      <th></th>\n      <th>no</th>\n      <th>모델명</th>\n      <th>연월</th>\n      <th>연식</th>\n      <th>연료</th>\n      <th>주행거리</th>\n      <th>인승</th>\n      <th>최대출력(마력)</th>\n      <th>기통</th>\n      <th>최대토크(kgm)</th>\n      <th>구동방식</th>\n      <th>자동수동</th>\n      <th>국산/수입</th>\n      <th>신차가(만원)</th>\n      <th>가격(만원)</th>\n    </tr>\n  </thead>\n  <tbody>\n    <tr>\n      <th>0</th>\n      <td>0</td>\n      <td>기아 더 뉴 K7 2.4 GDI 프레스티지 스페셜</td>\n      <td>12/12(13년형)</td>\n      <td>2013.0</td>\n      <td>가솔린</td>\n      <td>4만km</td>\n      <td>NaN</td>\n      <td>201.0</td>\n      <td>4.0</td>\n      <td>25.5</td>\n      <td>FF</td>\n      <td>NaN</td>\n      <td>국산</td>\n      <td>3141.0</td>\n      <td>1870.0</td>\n    </tr>\n    <tr>\n      <th>1</th>\n      <td>1</td>\n      <td>현대 YF쏘나타 2.0 Y20 LPi 프리미어</td>\n      <td>10/03</td>\n      <td>2010.0</td>\n      <td>LPG</td>\n      <td>9만km</td>\n      <td>NaN</td>\n      <td>157.0</td>\n      <td>NaN</td>\n      <td>20.0</td>\n      <td>FF</td>\n      <td>NaN</td>\n      <td>국산</td>\n      <td>NaN</td>\n      <td>700.0</td>\n    </tr>\n    <tr>\n      <th>2</th>\n      <td>2</td>\n      <td>현대 그랜져HG 220 디젤 프리미엄</td>\n      <td>14/09(15년형)</td>\n      <td>2015.0</td>\n      <td>디젤</td>\n      <td>3만km</td>\n      <td>NaN</td>\n      <td>202.0</td>\n      <td>4.0</td>\n      <td>45.0</td>\n      <td>FF</td>\n      <td>NaN</td>\n      <td>국산</td>\n      <td>3389.0</td>\n      <td>2990.0</td>\n    </tr>\n    <tr>\n      <th>3</th>\n      <td>3</td>\n      <td>쌍용 뉴카이런 2.0 LV5 2WD 고급형</td>\n      <td>07/06(08년형)</td>\n      <td>2008.0</td>\n      <td>디젤</td>\n      <td>16만km</td>\n      <td>NaN</td>\n      <td>151.0</td>\n      <td>4.0</td>\n      <td>33.8</td>\n      <td>FR</td>\n      <td>NaN</td>\n      <td>국산</td>\n      <td>2499.0</td>\n      <td>420.0</td>\n    </tr>\n    <tr>\n      <th>4</th>\n      <td>4</td>\n      <td>현대 뉴스타렉스 점보 밴 TCI 3인승 GX 윈도우밴 일반형</td>\n      <td>04/03</td>\n      <td>2004.0</td>\n      <td>디젤</td>\n      <td>16만km</td>\n      <td>3.0</td>\n      <td>103.0</td>\n      <td>NaN</td>\n      <td>24.0</td>\n      <td>FR</td>\n      <td>수동</td>\n      <td>국산</td>\n      <td>1445.0</td>\n      <td>450.0</td>\n    </tr>\n  </tbody>\n</table>\n</div>"
     },
     "metadata": {},
     "execution_count": 29
    }
   ],
   "source": [
    "train.head()"
   ]
  },
  {
   "cell_type": "code",
   "execution_count": 30,
   "metadata": {},
   "outputs": [
    {
     "output_type": "stream",
     "name": "stdout",
     "text": [
      "<class 'pandas.core.frame.DataFrame'>\nRangeIndex: 11769 entries, 0 to 11768\nData columns (total 15 columns):\n #   Column     Non-Null Count  Dtype  \n---  ------     --------------  -----  \n 0   no         11769 non-null  int64  \n 1   모델명        11769 non-null  object \n 2   연월         11769 non-null  object \n 3   연식         11769 non-null  float64\n 4   연료         11769 non-null  object \n 5   주행거리       11769 non-null  object \n 6   인승         765 non-null    float64\n 7   최대출력(마력)   10644 non-null  float64\n 8   기통         8698 non-null   float64\n 9   최대토크(kgm)  10545 non-null  float64\n 10  구동방식       10808 non-null  object \n 11  자동수동       1313 non-null   object \n 12  국산/수입      11769 non-null  object \n 13  신차가(만원)    9544 non-null   float64\n 14  가격(만원)     11769 non-null  float64\ndtypes: float64(7), int64(1), object(7)\nmemory usage: 1.3+ MB\n"
     ]
    }
   ],
   "source": [
    "train.info()"
   ]
  },
  {
   "cell_type": "code",
   "execution_count": 31,
   "metadata": {},
   "outputs": [
    {
     "output_type": "stream",
     "name": "stdout",
     "text": [
      "<class 'pandas.core.frame.DataFrame'>\nRangeIndex: 5789 entries, 0 to 5788\nData columns (total 13 columns):\n #   Column     Non-Null Count  Dtype  \n---  ------     --------------  -----  \n 0   no         5789 non-null   int64  \n 1   모델명        5789 non-null   object \n 2   연월         5789 non-null   object \n 3   연식         5789 non-null   float64\n 4   연료         5789 non-null   object \n 5   주행거리       5789 non-null   object \n 6   인승         389 non-null    float64\n 7   최대출력(마력)   5237 non-null   float64\n 8   기통         4275 non-null   float64\n 9   최대토크(kgm)  5183 non-null   float64\n 10  구동방식       5312 non-null   object \n 11  자동수동       665 non-null    object \n 12  국산/수입      5789 non-null   object \ndtypes: float64(5), int64(1), object(7)\nmemory usage: 588.1+ KB\n"
     ]
    }
   ],
   "source": [
    "test.info()"
   ]
  },
  {
   "source": [
    "# Feature name 영어로 모두 바꿔야 한다"
   ],
   "cell_type": "markdown",
   "metadata": {}
  },
  {
   "cell_type": "code",
   "execution_count": 32,
   "metadata": {},
   "outputs": [],
   "source": [
    "train.columns = ['no', 'modelname', 'ym', 'yeartype', 'fuel', 'dist', 'people', 'power', 'cylinder', 'torque', 'type', 'mission', 'country', 'newprice', 'price']\n",
    "test.columns = ['no', 'modelname', 'ym', 'yeartype', 'fuel', 'dist', 'people', 'power', 'cylinder', 'torque', 'type', 'mission', 'country']"
   ]
  },
  {
   "cell_type": "code",
   "execution_count": 33,
   "metadata": {},
   "outputs": [
    {
     "output_type": "stream",
     "name": "stdout",
     "text": [
      "<class 'pandas.core.frame.DataFrame'>\nRangeIndex: 11769 entries, 0 to 11768\nData columns (total 15 columns):\n #   Column     Non-Null Count  Dtype  \n---  ------     --------------  -----  \n 0   no         11769 non-null  int64  \n 1   modelname  11769 non-null  object \n 2   ym         11769 non-null  object \n 3   yeartype   11769 non-null  float64\n 4   fuel       11769 non-null  object \n 5   dist       11769 non-null  object \n 6   people     765 non-null    float64\n 7   power      10644 non-null  float64\n 8   cylinder   8698 non-null   float64\n 9   torque     10545 non-null  float64\n 10  type       10808 non-null  object \n 11  mission    1313 non-null   object \n 12  country    11769 non-null  object \n 13  newprice   9544 non-null   float64\n 14  price      11769 non-null  float64\ndtypes: float64(7), int64(1), object(7)\nmemory usage: 1.3+ MB\n"
     ]
    }
   ],
   "source": [
    "train.info()"
   ]
  },
  {
   "cell_type": "code",
   "execution_count": 34,
   "metadata": {},
   "outputs": [
    {
     "output_type": "stream",
     "name": "stdout",
     "text": [
      "<class 'pandas.core.frame.DataFrame'>\nRangeIndex: 5789 entries, 0 to 5788\nData columns (total 13 columns):\n #   Column     Non-Null Count  Dtype  \n---  ------     --------------  -----  \n 0   no         5789 non-null   int64  \n 1   modelname  5789 non-null   object \n 2   ym         5789 non-null   object \n 3   yeartype   5789 non-null   float64\n 4   fuel       5789 non-null   object \n 5   dist       5789 non-null   object \n 6   people     389 non-null    float64\n 7   power      5237 non-null   float64\n 8   cylinder   4275 non-null   float64\n 9   torque     5183 non-null   float64\n 10  type       5312 non-null   object \n 11  mission    665 non-null    object \n 12  country    5789 non-null   object \ndtypes: float64(5), int64(1), object(7)\nmemory usage: 588.1+ KB\n"
     ]
    }
   ],
   "source": [
    "test.info()"
   ]
  },
  {
   "cell_type": "code",
   "execution_count": 35,
   "metadata": {},
   "outputs": [],
   "source": [
    "# sns.heatmap(train.isnull(), cbar=False)"
   ]
  },
  {
   "cell_type": "code",
   "execution_count": 36,
   "metadata": {},
   "outputs": [],
   "source": [
    "# sns.heatmap(test.isnull(), cbar=False)"
   ]
  },
  {
   "cell_type": "code",
   "execution_count": 37,
   "metadata": {},
   "outputs": [],
   "source": [
    "train_no = train['no']\n",
    "test_no = test['no']\n",
    "train = train.drop(['no'], axis=1)\n",
    "test = test.drop(['no'], axis=1)"
   ]
  },
  {
   "cell_type": "markdown",
   "metadata": {},
   "source": [
    "# 이제 하나씩 처리하자\n",
    "```\n",
    "0   no         11769 non-null  int64    \n",
    "1   모델명        11769 non-null  object   \n",
    "2   연월         11769 non-null  object   \n",
    "3   연식         11769 non-null  float64  \n",
    "4   연료         11769 non-null  object   \n",
    "5   주행거리       11769 non-null  object   \n",
    "6   인승         765 non-null    float64  \n",
    "7   최대출력(마력)   10644 non-null  float64  \n",
    "8   기통         8698 non-null   float64  \n",
    "9   최대토크(kgm)  10545 non-null  float64  \n",
    "10  구동방식       10808 non-null  object   \n",
    "11  자동수동       1313 non-null   object   \n",
    "12  국산/수입      11769 non-null  object   \n",
    "13  신차가(만원)    9544 non-null   float64  \n",
    "14  가격(만원)     11769 non-null  float64  \n",
    "```\n",
    "\n",
    "```\n",
    "0   no         11769 non-null  int64  \n",
    "1   modelname  11769 non-null  object \n",
    "2   ym         11769 non-null  object \n",
    "3   yeartype   11769 non-null  float64\n",
    "4   fuel       11769 non-null  object \n",
    "5   dist       11769 non-null  object \n",
    "6   people     765 non-null    float64\n",
    "7   power      10644 non-null  float64\n",
    "8   cylinder   8698 non-null   float64\n",
    "9   torque     10545 non-null  float64\n",
    "10  type       10808 non-null  object \n",
    "11  mission    1313 non-null   object \n",
    "12  country    11769 non-null  object \n",
    "13  newprice   9544 non-null   float64\n",
    "14  price      11769 non-null  float64\n",
    "```"
   ]
  },
  {
   "cell_type": "markdown",
   "metadata": {},
   "source": [
    "# 1 모델명 modelname 11769 non-null object\n",
    "\n",
    "- 모델명을 그냥 날려보자 이번엔"
   ]
  },
  {
   "cell_type": "code",
   "execution_count": 38,
   "metadata": {},
   "outputs": [
    {
     "output_type": "stream",
     "name": "stdout",
     "text": [
      "(11769, 13)\n(5789, 11)\n"
     ]
    }
   ],
   "source": [
    "train = train.drop(['modelname'], axis=1)\n",
    "test = test.drop(['modelname'], axis=1)\n",
    "\n",
    "print(train.shape)\n",
    "print(test.shape)"
   ]
  },
  {
   "cell_type": "markdown",
   "metadata": {},
   "source": [
    "# 2 연월 ym 11769 non-null object\n",
    "\n",
    "- 괄호가 있는 게 있고 없는 게 있다\n",
    "- 괄호 안의 정보는 필요 없어보인다 (그냥 몇년형이냐 이건데 차피 다 나와있음)\n",
    "- 괄호를 제거하고\n",
    "- 음... 이건 범주형인지 연속형인지 모르겠다\n",
    "- 일단 연/월 나눠서, 각각 칼럼을 연속형이라고 가정하고 넘버로 바꿔서 넣어보자\n",
    "- 나중에 잘 안 나오면 원핫인코딩 돌려서 한번 더 해보자\n",
    "- 근데 int64가 맞나? float로 해야 하는 거 아닐까?"
   ]
  },
  {
   "cell_type": "code",
   "execution_count": 39,
   "metadata": {},
   "outputs": [
    {
     "output_type": "execute_result",
     "data": {
      "text/plain": [
       "0    12/12(13년형)\n",
       "1          10/03\n",
       "2    14/09(15년형)\n",
       "3    07/06(08년형)\n",
       "4          04/03\n",
       "Name: ym, dtype: object"
      ]
     },
     "metadata": {},
     "execution_count": 39
    }
   ],
   "source": [
    "train_ym = train['ym']\n",
    "test_ym = test['ym']\n",
    "\n",
    "train_ym.head()"
   ]
  },
  {
   "cell_type": "code",
   "execution_count": 40,
   "metadata": {},
   "outputs": [
    {
     "output_type": "execute_result",
     "data": {
      "text/plain": [
       "0    12/12\n",
       "1    10/03\n",
       "2    14/09\n",
       "3    07/06\n",
       "4    04/03\n",
       "Name: ym, dtype: object"
      ]
     },
     "metadata": {},
     "execution_count": 40
    }
   ],
   "source": [
    "train_ym = train_ym.apply(lambda x: x.split('(')[0])\n",
    "test_ym = test_ym.apply(lambda x: x.split('(')[0])\n",
    "\n",
    "train_ym.head()"
   ]
  },
  {
   "cell_type": "code",
   "execution_count": 41,
   "metadata": {},
   "outputs": [
    {
     "output_type": "execute_result",
     "data": {
      "text/plain": [
       "0    12.0\n",
       "1    10.0\n",
       "2    14.0\n",
       "3     7.0\n",
       "4     4.0\n",
       "Name: ym, dtype: float64"
      ]
     },
     "metadata": {},
     "execution_count": 41
    }
   ],
   "source": [
    "train_year = train_ym.apply(lambda x: float(x.split('/')[0]))\n",
    "train_month = train_ym.apply(lambda x: float(x.split('/')[1]))\n",
    "\n",
    "test_year = test_ym.apply(lambda x: float(x.split('/')[0]))\n",
    "test_month = test_ym.apply(lambda x: float(x.split('/')[1]))\n",
    "\n",
    "train_year.head()"
   ]
  },
  {
   "cell_type": "code",
   "execution_count": 42,
   "metadata": {},
   "outputs": [
    {
     "output_type": "execute_result",
     "data": {
      "text/plain": [
       "10.0    1140\n",
       "11.0    1088\n",
       "9.0     1062\n",
       "14.0    1047\n",
       "13.0    1018\n",
       "12.0    1011\n",
       "15.0     986\n",
       "8.0      811\n",
       "16.0     761\n",
       "7.0      543\n",
       "17.0     451\n",
       "6.0      425\n",
       "18.0     318\n",
       "5.0      316\n",
       "4.0      179\n",
       "19.0     147\n",
       "2.0      112\n",
       "3.0      110\n",
       "1.0       50\n",
       "20.0      35\n",
       "0.0       25\n",
       "97.0      21\n",
       "99.0      16\n",
       "96.0      14\n",
       "92.0      13\n",
       "94.0      12\n",
       "93.0      10\n",
       "95.0      10\n",
       "88.0       7\n",
       "91.0       7\n",
       "98.0       7\n",
       "87.0       6\n",
       "89.0       4\n",
       "90.0       2\n",
       "83.0       1\n",
       "72.0       1\n",
       "78.0       1\n",
       "85.0       1\n",
       "79.0       1\n",
       "Name: ym, dtype: int64"
      ]
     },
     "metadata": {},
     "execution_count": 42
    }
   ],
   "source": [
    "train_year.value_counts()"
   ]
  },
  {
   "cell_type": "markdown",
   "metadata": {},
   "source": [
    "## year 전처리는 필요하다\n",
    "- 99에서 00 넘어가는 그 시점\n",
    "- 30보다 크면 19 붙이고, 아니면 20 붙여서 4자리 만들자"
   ]
  },
  {
   "cell_type": "code",
   "execution_count": 43,
   "metadata": {},
   "outputs": [
    {
     "output_type": "execute_result",
     "data": {
      "text/plain": [
       "0    2012.0\n",
       "1    2010.0\n",
       "2    2014.0\n",
       "3    2007.0\n",
       "4    2004.0\n",
       "Name: ym, dtype: float64"
      ]
     },
     "metadata": {},
     "execution_count": 43
    }
   ],
   "source": [
    "train_year = train_year.apply(lambda x: x + (1900 if x > 30 else 2000))\n",
    "train_year.head()"
   ]
  },
  {
   "cell_type": "code",
   "execution_count": 44,
   "metadata": {},
   "outputs": [
    {
     "output_type": "execute_result",
     "data": {
      "text/plain": [
       "2010.0    1140\n",
       "2011.0    1088\n",
       "2009.0    1062\n",
       "2014.0    1047\n",
       "2013.0    1018\n",
       "2012.0    1011\n",
       "2015.0     986\n",
       "2008.0     811\n",
       "2016.0     761\n",
       "2007.0     543\n",
       "2017.0     451\n",
       "2006.0     425\n",
       "2018.0     318\n",
       "2005.0     316\n",
       "2004.0     179\n",
       "2019.0     147\n",
       "2002.0     112\n",
       "2003.0     110\n",
       "2001.0      50\n",
       "2020.0      35\n",
       "2000.0      25\n",
       "1997.0      21\n",
       "1999.0      16\n",
       "1996.0      14\n",
       "1992.0      13\n",
       "1994.0      12\n",
       "1995.0      10\n",
       "1993.0      10\n",
       "1998.0       7\n",
       "1991.0       7\n",
       "1988.0       7\n",
       "1987.0       6\n",
       "1989.0       4\n",
       "1990.0       2\n",
       "1978.0       1\n",
       "1972.0       1\n",
       "1979.0       1\n",
       "1985.0       1\n",
       "1983.0       1\n",
       "Name: ym, dtype: int64"
      ]
     },
     "metadata": {},
     "execution_count": 44
    }
   ],
   "source": [
    "train_year.value_counts()"
   ]
  },
  {
   "cell_type": "code",
   "execution_count": 45,
   "metadata": {},
   "outputs": [],
   "source": [
    "train_year.name = 'year'\n",
    "train_month.name = 'month'\n",
    "test_year.name = 'year'\n",
    "test_month.name = 'month'\n",
    "\n",
    "train = train.drop(['ym'], axis=1)\n",
    "test = test.drop(['ym'], axis=1)\n",
    "\n",
    "train = train.join([train_year, train_month])\n",
    "test = test.join([test_year, test_month])"
   ]
  },
  {
   "cell_type": "code",
   "execution_count": 46,
   "metadata": {},
   "outputs": [
    {
     "output_type": "execute_result",
     "data": {
      "text/plain": [
       "   yeartype fuel   dist  people  power  cylinder  torque type mission country  \\\n",
       "0    2013.0  가솔린   4만km     NaN  201.0       4.0    25.5   FF     NaN      국산   \n",
       "1    2010.0  LPG   9만km     NaN  157.0       NaN    20.0   FF     NaN      국산   \n",
       "2    2015.0   디젤   3만km     NaN  202.0       4.0    45.0   FF     NaN      국산   \n",
       "3    2008.0   디젤  16만km     NaN  151.0       4.0    33.8   FR     NaN      국산   \n",
       "4    2004.0   디젤  16만km     3.0  103.0       NaN    24.0   FR      수동      국산   \n",
       "\n",
       "   newprice   price    year  month  \n",
       "0    3141.0  1870.0  2012.0   12.0  \n",
       "1       NaN   700.0  2010.0    3.0  \n",
       "2    3389.0  2990.0  2014.0    9.0  \n",
       "3    2499.0   420.0  2007.0    6.0  \n",
       "4    1445.0   450.0  2004.0    3.0  "
      ],
      "text/html": "<div>\n<style scoped>\n    .dataframe tbody tr th:only-of-type {\n        vertical-align: middle;\n    }\n\n    .dataframe tbody tr th {\n        vertical-align: top;\n    }\n\n    .dataframe thead th {\n        text-align: right;\n    }\n</style>\n<table border=\"1\" class=\"dataframe\">\n  <thead>\n    <tr style=\"text-align: right;\">\n      <th></th>\n      <th>yeartype</th>\n      <th>fuel</th>\n      <th>dist</th>\n      <th>people</th>\n      <th>power</th>\n      <th>cylinder</th>\n      <th>torque</th>\n      <th>type</th>\n      <th>mission</th>\n      <th>country</th>\n      <th>newprice</th>\n      <th>price</th>\n      <th>year</th>\n      <th>month</th>\n    </tr>\n  </thead>\n  <tbody>\n    <tr>\n      <th>0</th>\n      <td>2013.0</td>\n      <td>가솔린</td>\n      <td>4만km</td>\n      <td>NaN</td>\n      <td>201.0</td>\n      <td>4.0</td>\n      <td>25.5</td>\n      <td>FF</td>\n      <td>NaN</td>\n      <td>국산</td>\n      <td>3141.0</td>\n      <td>1870.0</td>\n      <td>2012.0</td>\n      <td>12.0</td>\n    </tr>\n    <tr>\n      <th>1</th>\n      <td>2010.0</td>\n      <td>LPG</td>\n      <td>9만km</td>\n      <td>NaN</td>\n      <td>157.0</td>\n      <td>NaN</td>\n      <td>20.0</td>\n      <td>FF</td>\n      <td>NaN</td>\n      <td>국산</td>\n      <td>NaN</td>\n      <td>700.0</td>\n      <td>2010.0</td>\n      <td>3.0</td>\n    </tr>\n    <tr>\n      <th>2</th>\n      <td>2015.0</td>\n      <td>디젤</td>\n      <td>3만km</td>\n      <td>NaN</td>\n      <td>202.0</td>\n      <td>4.0</td>\n      <td>45.0</td>\n      <td>FF</td>\n      <td>NaN</td>\n      <td>국산</td>\n      <td>3389.0</td>\n      <td>2990.0</td>\n      <td>2014.0</td>\n      <td>9.0</td>\n    </tr>\n    <tr>\n      <th>3</th>\n      <td>2008.0</td>\n      <td>디젤</td>\n      <td>16만km</td>\n      <td>NaN</td>\n      <td>151.0</td>\n      <td>4.0</td>\n      <td>33.8</td>\n      <td>FR</td>\n      <td>NaN</td>\n      <td>국산</td>\n      <td>2499.0</td>\n      <td>420.0</td>\n      <td>2007.0</td>\n      <td>6.0</td>\n    </tr>\n    <tr>\n      <th>4</th>\n      <td>2004.0</td>\n      <td>디젤</td>\n      <td>16만km</td>\n      <td>3.0</td>\n      <td>103.0</td>\n      <td>NaN</td>\n      <td>24.0</td>\n      <td>FR</td>\n      <td>수동</td>\n      <td>국산</td>\n      <td>1445.0</td>\n      <td>450.0</td>\n      <td>2004.0</td>\n      <td>3.0</td>\n    </tr>\n  </tbody>\n</table>\n</div>"
     },
     "metadata": {},
     "execution_count": 46
    }
   ],
   "source": [
    "train.head()"
   ]
  },
  {
   "cell_type": "code",
   "execution_count": 47,
   "metadata": {},
   "outputs": [
    {
     "output_type": "stream",
     "name": "stdout",
     "text": [
      "(11769, 14)\n(5789, 12)\n"
     ]
    }
   ],
   "source": [
    "print(train.shape)\n",
    "print(test.shape)"
   ]
  },
  {
   "cell_type": "markdown",
   "metadata": {},
   "source": [
    "# 3 연식 yeartype 11769 non-null float64\n",
    "\n",
    "건들지 말자"
   ]
  },
  {
   "cell_type": "markdown",
   "metadata": {},
   "source": [
    "# 4 연료 fuel 11769 non-null object\n",
    "\n",
    "- 일단 범주형\n",
    "- 일단 다 더미로 바꾸고\n",
    "- 나중에 합쳐진 애들은 하이브리드로 묶어볼까?"
   ]
  },
  {
   "cell_type": "code",
   "execution_count": 48,
   "metadata": {},
   "outputs": [
    {
     "output_type": "execute_result",
     "data": {
      "text/plain": [
       "가솔린          6671\n",
       "디젤           3967\n",
       "LPG           934\n",
       "가솔린+전기         79\n",
       "가솔린/LPG겸용      41\n",
       "기타             32\n",
       "전기             24\n",
       "LPG+전기         14\n",
       "가솔린/CNG겸용       4\n",
       "CNG             2\n",
       "수소              1\n",
       "Name: fuel, dtype: int64"
      ]
     },
     "metadata": {},
     "execution_count": 48
    }
   ],
   "source": [
    "train_fuel = train['fuel']\n",
    "test_fuel = test['fuel']\n",
    "\n",
    "train_fuel.value_counts()"
   ]
  },
  {
   "cell_type": "code",
   "execution_count": 49,
   "metadata": {},
   "outputs": [
    {
     "output_type": "execute_result",
     "data": {
      "text/plain": [
       "가솔린          3280\n",
       "디젤           1932\n",
       "LPG           469\n",
       "가솔린+전기         34\n",
       "가솔린/LPG겸용      33\n",
       "전기             19\n",
       "기타             11\n",
       "LPG+전기          8\n",
       "CNG             2\n",
       "가솔린/CNG겸용       1\n",
       "Name: fuel, dtype: int64"
      ]
     },
     "metadata": {},
     "execution_count": 49
    }
   ],
   "source": [
    "test_fuel.value_counts()"
   ]
  },
  {
   "cell_type": "code",
   "execution_count": 50,
   "metadata": {},
   "outputs": [],
   "source": [
    "train_fuel_dummies = pd.get_dummies(train_fuel)\n",
    "test_fuel_dummies = pd.get_dummies(test_fuel)\n",
    "\n",
    "\n",
    "# MISSING COLUMN PROCESSING\n",
    "train_missing_cols = set(test_fuel_dummies.columns) - set(train_fuel_dummies.columns)\n",
    "for c in train_missing_cols:\n",
    "    train_fuel_dummies[c] = 0\n",
    "train_fuel_dummies = train_fuel_dummies[test_fuel_dummies.columns]\n",
    "test_missing_cols = set(train_fuel_dummies.columns) - set(test_fuel_dummies.columns)\n",
    "for c in test_missing_cols:\n",
    "    test_fuel_dummies[c] = 0\n",
    "test_fuel_dummies = test_fuel_dummies[train_fuel_dummies.columns]\n",
    "# MISSING COLUMN PROCESSING\n",
    "\n",
    "\n",
    "train_fuel_dummies = train_fuel_dummies.add_prefix('fuel_')\n",
    "test_fuel_dummies = test_fuel_dummies.add_prefix('fuel_')\n",
    "\n",
    "train = train.drop(['fuel'], axis=1)\n",
    "test = test.drop(['fuel'], axis=1)\n",
    "\n",
    "train = train.join(train_fuel_dummies)\n",
    "test = test.join(test_fuel_dummies)"
   ]
  },
  {
   "cell_type": "code",
   "execution_count": 51,
   "metadata": {},
   "outputs": [
    {
     "output_type": "execute_result",
     "data": {
      "text/plain": [
       "   yeartype   dist  people  power  cylinder  torque type mission country  \\\n",
       "0    2013.0   4만km     NaN  201.0       4.0    25.5   FF     NaN      국산   \n",
       "1    2010.0   9만km     NaN  157.0       NaN    20.0   FF     NaN      국산   \n",
       "2    2015.0   3만km     NaN  202.0       4.0    45.0   FF     NaN      국산   \n",
       "3    2008.0  16만km     NaN  151.0       4.0    33.8   FR     NaN      국산   \n",
       "4    2004.0  16만km     3.0  103.0       NaN    24.0   FR      수동      국산   \n",
       "\n",
       "   newprice  ...  fuel_CNG  fuel_LPG  fuel_LPG+전기  fuel_가솔린  fuel_가솔린+전기  \\\n",
       "0    3141.0  ...         0         0            0         1            0   \n",
       "1       NaN  ...         0         1            0         0            0   \n",
       "2    3389.0  ...         0         0            0         0            0   \n",
       "3    2499.0  ...         0         0            0         0            0   \n",
       "4    1445.0  ...         0         0            0         0            0   \n",
       "\n",
       "   fuel_가솔린/CNG겸용  fuel_가솔린/LPG겸용  fuel_기타  fuel_디젤  fuel_전기  \n",
       "0               0               0        0        0        0  \n",
       "1               0               0        0        0        0  \n",
       "2               0               0        0        1        0  \n",
       "3               0               0        0        1        0  \n",
       "4               0               0        0        1        0  \n",
       "\n",
       "[5 rows x 23 columns]"
      ],
      "text/html": "<div>\n<style scoped>\n    .dataframe tbody tr th:only-of-type {\n        vertical-align: middle;\n    }\n\n    .dataframe tbody tr th {\n        vertical-align: top;\n    }\n\n    .dataframe thead th {\n        text-align: right;\n    }\n</style>\n<table border=\"1\" class=\"dataframe\">\n  <thead>\n    <tr style=\"text-align: right;\">\n      <th></th>\n      <th>yeartype</th>\n      <th>dist</th>\n      <th>people</th>\n      <th>power</th>\n      <th>cylinder</th>\n      <th>torque</th>\n      <th>type</th>\n      <th>mission</th>\n      <th>country</th>\n      <th>newprice</th>\n      <th>...</th>\n      <th>fuel_CNG</th>\n      <th>fuel_LPG</th>\n      <th>fuel_LPG+전기</th>\n      <th>fuel_가솔린</th>\n      <th>fuel_가솔린+전기</th>\n      <th>fuel_가솔린/CNG겸용</th>\n      <th>fuel_가솔린/LPG겸용</th>\n      <th>fuel_기타</th>\n      <th>fuel_디젤</th>\n      <th>fuel_전기</th>\n    </tr>\n  </thead>\n  <tbody>\n    <tr>\n      <th>0</th>\n      <td>2013.0</td>\n      <td>4만km</td>\n      <td>NaN</td>\n      <td>201.0</td>\n      <td>4.0</td>\n      <td>25.5</td>\n      <td>FF</td>\n      <td>NaN</td>\n      <td>국산</td>\n      <td>3141.0</td>\n      <td>...</td>\n      <td>0</td>\n      <td>0</td>\n      <td>0</td>\n      <td>1</td>\n      <td>0</td>\n      <td>0</td>\n      <td>0</td>\n      <td>0</td>\n      <td>0</td>\n      <td>0</td>\n    </tr>\n    <tr>\n      <th>1</th>\n      <td>2010.0</td>\n      <td>9만km</td>\n      <td>NaN</td>\n      <td>157.0</td>\n      <td>NaN</td>\n      <td>20.0</td>\n      <td>FF</td>\n      <td>NaN</td>\n      <td>국산</td>\n      <td>NaN</td>\n      <td>...</td>\n      <td>0</td>\n      <td>1</td>\n      <td>0</td>\n      <td>0</td>\n      <td>0</td>\n      <td>0</td>\n      <td>0</td>\n      <td>0</td>\n      <td>0</td>\n      <td>0</td>\n    </tr>\n    <tr>\n      <th>2</th>\n      <td>2015.0</td>\n      <td>3만km</td>\n      <td>NaN</td>\n      <td>202.0</td>\n      <td>4.0</td>\n      <td>45.0</td>\n      <td>FF</td>\n      <td>NaN</td>\n      <td>국산</td>\n      <td>3389.0</td>\n      <td>...</td>\n      <td>0</td>\n      <td>0</td>\n      <td>0</td>\n      <td>0</td>\n      <td>0</td>\n      <td>0</td>\n      <td>0</td>\n      <td>0</td>\n      <td>1</td>\n      <td>0</td>\n    </tr>\n    <tr>\n      <th>3</th>\n      <td>2008.0</td>\n      <td>16만km</td>\n      <td>NaN</td>\n      <td>151.0</td>\n      <td>4.0</td>\n      <td>33.8</td>\n      <td>FR</td>\n      <td>NaN</td>\n      <td>국산</td>\n      <td>2499.0</td>\n      <td>...</td>\n      <td>0</td>\n      <td>0</td>\n      <td>0</td>\n      <td>0</td>\n      <td>0</td>\n      <td>0</td>\n      <td>0</td>\n      <td>0</td>\n      <td>1</td>\n      <td>0</td>\n    </tr>\n    <tr>\n      <th>4</th>\n      <td>2004.0</td>\n      <td>16만km</td>\n      <td>3.0</td>\n      <td>103.0</td>\n      <td>NaN</td>\n      <td>24.0</td>\n      <td>FR</td>\n      <td>수동</td>\n      <td>국산</td>\n      <td>1445.0</td>\n      <td>...</td>\n      <td>0</td>\n      <td>0</td>\n      <td>0</td>\n      <td>0</td>\n      <td>0</td>\n      <td>0</td>\n      <td>0</td>\n      <td>0</td>\n      <td>1</td>\n      <td>0</td>\n    </tr>\n  </tbody>\n</table>\n<p>5 rows × 23 columns</p>\n</div>"
     },
     "metadata": {},
     "execution_count": 51
    }
   ],
   "source": [
    "train.head()\n",
    "\n",
    "\n"
   ]
  },
  {
   "cell_type": "code",
   "execution_count": 52,
   "metadata": {},
   "outputs": [
    {
     "output_type": "stream",
     "name": "stdout",
     "text": [
      "(11769, 23)\n(5789, 21)\n"
     ]
    }
   ],
   "source": [
    "print(train.shape)\n",
    "print(test.shape)"
   ]
  },
  {
   "cell_type": "markdown",
   "metadata": {},
   "source": [
    "# 5 주행거리 dist 11769 non-null object\n",
    "\n",
    "- %d만{km|ml}\n",
    "- 중간중간에 '등록'이라고 되어있는 게 있다\n",
    "- 평균으로 채워야 한다\n",
    "- 평균을 구하려면 일단 수치를 모두 구해야 한다\n",
    "- 등록은 스킵해야 하네 "
   ]
  },
  {
   "cell_type": "code",
   "execution_count": 53,
   "metadata": {},
   "outputs": [
    {
     "output_type": "execute_result",
     "data": {
      "text/plain": [
       "0     4만km\n",
       "1     9만km\n",
       "2     3만km\n",
       "3    16만km\n",
       "4    16만km\n",
       "Name: dist, dtype: object"
      ]
     },
     "metadata": {},
     "execution_count": 53
    }
   ],
   "source": [
    "train_dist = train['dist']\n",
    "test_dist = test['dist']\n",
    "\n",
    "train_dist.head()"
   ]
  },
  {
   "cell_type": "code",
   "execution_count": 54,
   "metadata": {},
   "outputs": [],
   "source": [
    "def preprocess_dist(x):\n",
    "    # '등록'은 나중에 평균으로 채울 거임\n",
    "    if x == '등록':\n",
    "        return None\n",
    "\n",
    "    if x[-2:] == 'km':\n",
    "        # kilometer\n",
    "        x = x.split('km')[0]\n",
    "        weight = 1\n",
    "    else:\n",
    "        # mile\n",
    "        assert x[-2:] == 'ml'\n",
    "        x = x.split('ml')[0]\n",
    "        weight = 1.609344\n",
    "\n",
    "    if x[-1] == '만':\n",
    "        x = float(x.split('만')[0]) * 10000\n",
    "    elif x[-1] == '천':\n",
    "        x = float(x.split('천')[0]) * 1000\n",
    "\n",
    "    return float(x * weight)\n"
   ]
  },
  {
   "cell_type": "code",
   "execution_count": 55,
   "metadata": {},
   "outputs": [
    {
     "output_type": "execute_result",
     "data": {
      "text/plain": [
       "0         40000.0\n",
       "1         90000.0\n",
       "2         30000.0\n",
       "3        160000.0\n",
       "4        160000.0\n",
       "           ...   \n",
       "11764    110000.0\n",
       "11765      5000.0\n",
       "11766       230.0\n",
       "11767      9000.0\n",
       "11768      3000.0\n",
       "Name: dist, Length: 11769, dtype: float64"
      ]
     },
     "metadata": {},
     "execution_count": 55
    }
   ],
   "source": [
    "train_dist = train_dist.apply(preprocess_dist)\n",
    "test_dist = test_dist.apply(preprocess_dist)\n",
    "\n",
    "train_dist"
   ]
  },
  {
   "cell_type": "code",
   "execution_count": 56,
   "metadata": {},
   "outputs": [
    {
     "output_type": "execute_result",
     "data": {
      "text/plain": [
       "29"
      ]
     },
     "metadata": {},
     "execution_count": 56
    }
   ],
   "source": [
    "# 등록 처리\n",
    "train_dist.isna().sum()"
   ]
  },
  {
   "cell_type": "code",
   "execution_count": 57,
   "metadata": {},
   "outputs": [],
   "source": [
    "train_dist = train_dist.fillna(train_dist.mean())\n",
    "test_dist = test_dist.fillna(test_dist.mean())"
   ]
  },
  {
   "cell_type": "code",
   "execution_count": 58,
   "metadata": {},
   "outputs": [
    {
     "output_type": "execute_result",
     "data": {
      "text/plain": [
       "0"
      ]
     },
     "metadata": {},
     "execution_count": 58
    }
   ],
   "source": [
    "train_dist.isna().sum()"
   ]
  },
  {
   "cell_type": "code",
   "execution_count": 59,
   "metadata": {},
   "outputs": [],
   "source": [
    "train = train.drop(['dist'], axis=1)\n",
    "test = test.drop(['dist'], axis=1)\n",
    "\n",
    "train_dist.name = 'dist'\n",
    "test_dist.name = 'dist'\n",
    "\n",
    "train = train.join(train_dist)\n",
    "test = test.join(test_dist)"
   ]
  },
  {
   "cell_type": "code",
   "execution_count": 60,
   "metadata": {},
   "outputs": [
    {
     "output_type": "execute_result",
     "data": {
      "text/plain": [
       "   yeartype  people  power  cylinder  torque type mission country  newprice  \\\n",
       "0    2013.0     NaN  201.0       4.0    25.5   FF     NaN      국산    3141.0   \n",
       "1    2010.0     NaN  157.0       NaN    20.0   FF     NaN      국산       NaN   \n",
       "2    2015.0     NaN  202.0       4.0    45.0   FF     NaN      국산    3389.0   \n",
       "3    2008.0     NaN  151.0       4.0    33.8   FR     NaN      국산    2499.0   \n",
       "4    2004.0     3.0  103.0       NaN    24.0   FR      수동      국산    1445.0   \n",
       "\n",
       "    price  ...  fuel_LPG  fuel_LPG+전기  fuel_가솔린  fuel_가솔린+전기  fuel_가솔린/CNG겸용  \\\n",
       "0  1870.0  ...         0            0         1            0               0   \n",
       "1   700.0  ...         1            0         0            0               0   \n",
       "2  2990.0  ...         0            0         0            0               0   \n",
       "3   420.0  ...         0            0         0            0               0   \n",
       "4   450.0  ...         0            0         0            0               0   \n",
       "\n",
       "   fuel_가솔린/LPG겸용  fuel_기타  fuel_디젤  fuel_전기      dist  \n",
       "0               0        0        0        0   40000.0  \n",
       "1               0        0        0        0   90000.0  \n",
       "2               0        0        1        0   30000.0  \n",
       "3               0        0        1        0  160000.0  \n",
       "4               0        0        1        0  160000.0  \n",
       "\n",
       "[5 rows x 23 columns]"
      ],
      "text/html": "<div>\n<style scoped>\n    .dataframe tbody tr th:only-of-type {\n        vertical-align: middle;\n    }\n\n    .dataframe tbody tr th {\n        vertical-align: top;\n    }\n\n    .dataframe thead th {\n        text-align: right;\n    }\n</style>\n<table border=\"1\" class=\"dataframe\">\n  <thead>\n    <tr style=\"text-align: right;\">\n      <th></th>\n      <th>yeartype</th>\n      <th>people</th>\n      <th>power</th>\n      <th>cylinder</th>\n      <th>torque</th>\n      <th>type</th>\n      <th>mission</th>\n      <th>country</th>\n      <th>newprice</th>\n      <th>price</th>\n      <th>...</th>\n      <th>fuel_LPG</th>\n      <th>fuel_LPG+전기</th>\n      <th>fuel_가솔린</th>\n      <th>fuel_가솔린+전기</th>\n      <th>fuel_가솔린/CNG겸용</th>\n      <th>fuel_가솔린/LPG겸용</th>\n      <th>fuel_기타</th>\n      <th>fuel_디젤</th>\n      <th>fuel_전기</th>\n      <th>dist</th>\n    </tr>\n  </thead>\n  <tbody>\n    <tr>\n      <th>0</th>\n      <td>2013.0</td>\n      <td>NaN</td>\n      <td>201.0</td>\n      <td>4.0</td>\n      <td>25.5</td>\n      <td>FF</td>\n      <td>NaN</td>\n      <td>국산</td>\n      <td>3141.0</td>\n      <td>1870.0</td>\n      <td>...</td>\n      <td>0</td>\n      <td>0</td>\n      <td>1</td>\n      <td>0</td>\n      <td>0</td>\n      <td>0</td>\n      <td>0</td>\n      <td>0</td>\n      <td>0</td>\n      <td>40000.0</td>\n    </tr>\n    <tr>\n      <th>1</th>\n      <td>2010.0</td>\n      <td>NaN</td>\n      <td>157.0</td>\n      <td>NaN</td>\n      <td>20.0</td>\n      <td>FF</td>\n      <td>NaN</td>\n      <td>국산</td>\n      <td>NaN</td>\n      <td>700.0</td>\n      <td>...</td>\n      <td>1</td>\n      <td>0</td>\n      <td>0</td>\n      <td>0</td>\n      <td>0</td>\n      <td>0</td>\n      <td>0</td>\n      <td>0</td>\n      <td>0</td>\n      <td>90000.0</td>\n    </tr>\n    <tr>\n      <th>2</th>\n      <td>2015.0</td>\n      <td>NaN</td>\n      <td>202.0</td>\n      <td>4.0</td>\n      <td>45.0</td>\n      <td>FF</td>\n      <td>NaN</td>\n      <td>국산</td>\n      <td>3389.0</td>\n      <td>2990.0</td>\n      <td>...</td>\n      <td>0</td>\n      <td>0</td>\n      <td>0</td>\n      <td>0</td>\n      <td>0</td>\n      <td>0</td>\n      <td>0</td>\n      <td>1</td>\n      <td>0</td>\n      <td>30000.0</td>\n    </tr>\n    <tr>\n      <th>3</th>\n      <td>2008.0</td>\n      <td>NaN</td>\n      <td>151.0</td>\n      <td>4.0</td>\n      <td>33.8</td>\n      <td>FR</td>\n      <td>NaN</td>\n      <td>국산</td>\n      <td>2499.0</td>\n      <td>420.0</td>\n      <td>...</td>\n      <td>0</td>\n      <td>0</td>\n      <td>0</td>\n      <td>0</td>\n      <td>0</td>\n      <td>0</td>\n      <td>0</td>\n      <td>1</td>\n      <td>0</td>\n      <td>160000.0</td>\n    </tr>\n    <tr>\n      <th>4</th>\n      <td>2004.0</td>\n      <td>3.0</td>\n      <td>103.0</td>\n      <td>NaN</td>\n      <td>24.0</td>\n      <td>FR</td>\n      <td>수동</td>\n      <td>국산</td>\n      <td>1445.0</td>\n      <td>450.0</td>\n      <td>...</td>\n      <td>0</td>\n      <td>0</td>\n      <td>0</td>\n      <td>0</td>\n      <td>0</td>\n      <td>0</td>\n      <td>0</td>\n      <td>1</td>\n      <td>0</td>\n      <td>160000.0</td>\n    </tr>\n  </tbody>\n</table>\n<p>5 rows × 23 columns</p>\n</div>"
     },
     "metadata": {},
     "execution_count": 60
    }
   ],
   "source": [
    "train.head()"
   ]
  },
  {
   "cell_type": "markdown",
   "metadata": {},
   "source": [
    "# 6 인승 people 765 non-null float64\n",
    "\n",
    "- 결측치 너무 많다 드랍하자"
   ]
  },
  {
   "cell_type": "code",
   "execution_count": 61,
   "metadata": {},
   "outputs": [],
   "source": [
    "train = train.drop(['people'], axis=1)\n",
    "test = test.drop(['people'], axis=1)"
   ]
  },
  {
   "cell_type": "markdown",
   "metadata": {},
   "source": [
    "# 7 최대출력(마력) power 10644 non-null float64\n",
    "\n",
    "- 결측치만 채워서 그대로 쓰자"
   ]
  },
  {
   "cell_type": "code",
   "execution_count": 62,
   "metadata": {},
   "outputs": [
    {
     "output_type": "execute_result",
     "data": {
      "text/plain": [
       "0        201.0\n",
       "1        157.0\n",
       "2        202.0\n",
       "3        151.0\n",
       "4        103.0\n",
       "         ...  \n",
       "11764    210.0\n",
       "11765      NaN\n",
       "11766    370.0\n",
       "11767    425.0\n",
       "11768    425.0\n",
       "Name: power, Length: 11769, dtype: float64"
      ]
     },
     "metadata": {},
     "execution_count": 62
    }
   ],
   "source": [
    "train_power = train['power']\n",
    "test_power = test['power']\n",
    "\n",
    "train_power"
   ]
  },
  {
   "cell_type": "code",
   "execution_count": 63,
   "metadata": {},
   "outputs": [
    {
     "output_type": "execute_result",
     "data": {
      "text/plain": [
       "1125"
      ]
     },
     "metadata": {},
     "execution_count": 63
    }
   ],
   "source": [
    "train_power.isna().sum()"
   ]
  },
  {
   "cell_type": "code",
   "execution_count": 64,
   "metadata": {},
   "outputs": [],
   "source": [
    "train_power = train_power.fillna(train_power.mean())\n",
    "test_power = test_power.fillna(test_power.mean())"
   ]
  },
  {
   "cell_type": "code",
   "execution_count": 65,
   "metadata": {},
   "outputs": [
    {
     "output_type": "execute_result",
     "data": {
      "text/plain": [
       "0"
      ]
     },
     "metadata": {},
     "execution_count": 65
    }
   ],
   "source": [
    "train_power.isna().sum()"
   ]
  },
  {
   "cell_type": "code",
   "execution_count": 66,
   "metadata": {},
   "outputs": [],
   "source": [
    "train_power.name = 'power'\n",
    "test_power.name = 'power'\n",
    "\n",
    "train = train.drop(['power'], axis=1)\n",
    "test = test.drop(['power'], axis=1)\n",
    "\n",
    "train = train.join(train_power)\n",
    "test = test.join(test_power)"
   ]
  },
  {
   "cell_type": "code",
   "execution_count": 67,
   "metadata": {},
   "outputs": [
    {
     "output_type": "execute_result",
     "data": {
      "text/plain": [
       "   yeartype  cylinder  torque type mission country  newprice   price    year  \\\n",
       "0    2013.0       4.0    25.5   FF     NaN      국산    3141.0  1870.0  2012.0   \n",
       "1    2010.0       NaN    20.0   FF     NaN      국산       NaN   700.0  2010.0   \n",
       "2    2015.0       4.0    45.0   FF     NaN      국산    3389.0  2990.0  2014.0   \n",
       "3    2008.0       4.0    33.8   FR     NaN      국산    2499.0   420.0  2007.0   \n",
       "4    2004.0       NaN    24.0   FR      수동      국산    1445.0   450.0  2004.0   \n",
       "\n",
       "   month  ...  fuel_LPG+전기  fuel_가솔린  fuel_가솔린+전기  fuel_가솔린/CNG겸용  \\\n",
       "0   12.0  ...            0         1            0               0   \n",
       "1    3.0  ...            0         0            0               0   \n",
       "2    9.0  ...            0         0            0               0   \n",
       "3    6.0  ...            0         0            0               0   \n",
       "4    3.0  ...            0         0            0               0   \n",
       "\n",
       "   fuel_가솔린/LPG겸용  fuel_기타  fuel_디젤  fuel_전기      dist  power  \n",
       "0               0        0        0        0   40000.0  201.0  \n",
       "1               0        0        0        0   90000.0  157.0  \n",
       "2               0        0        1        0   30000.0  202.0  \n",
       "3               0        0        1        0  160000.0  151.0  \n",
       "4               0        0        1        0  160000.0  103.0  \n",
       "\n",
       "[5 rows x 22 columns]"
      ],
      "text/html": "<div>\n<style scoped>\n    .dataframe tbody tr th:only-of-type {\n        vertical-align: middle;\n    }\n\n    .dataframe tbody tr th {\n        vertical-align: top;\n    }\n\n    .dataframe thead th {\n        text-align: right;\n    }\n</style>\n<table border=\"1\" class=\"dataframe\">\n  <thead>\n    <tr style=\"text-align: right;\">\n      <th></th>\n      <th>yeartype</th>\n      <th>cylinder</th>\n      <th>torque</th>\n      <th>type</th>\n      <th>mission</th>\n      <th>country</th>\n      <th>newprice</th>\n      <th>price</th>\n      <th>year</th>\n      <th>month</th>\n      <th>...</th>\n      <th>fuel_LPG+전기</th>\n      <th>fuel_가솔린</th>\n      <th>fuel_가솔린+전기</th>\n      <th>fuel_가솔린/CNG겸용</th>\n      <th>fuel_가솔린/LPG겸용</th>\n      <th>fuel_기타</th>\n      <th>fuel_디젤</th>\n      <th>fuel_전기</th>\n      <th>dist</th>\n      <th>power</th>\n    </tr>\n  </thead>\n  <tbody>\n    <tr>\n      <th>0</th>\n      <td>2013.0</td>\n      <td>4.0</td>\n      <td>25.5</td>\n      <td>FF</td>\n      <td>NaN</td>\n      <td>국산</td>\n      <td>3141.0</td>\n      <td>1870.0</td>\n      <td>2012.0</td>\n      <td>12.0</td>\n      <td>...</td>\n      <td>0</td>\n      <td>1</td>\n      <td>0</td>\n      <td>0</td>\n      <td>0</td>\n      <td>0</td>\n      <td>0</td>\n      <td>0</td>\n      <td>40000.0</td>\n      <td>201.0</td>\n    </tr>\n    <tr>\n      <th>1</th>\n      <td>2010.0</td>\n      <td>NaN</td>\n      <td>20.0</td>\n      <td>FF</td>\n      <td>NaN</td>\n      <td>국산</td>\n      <td>NaN</td>\n      <td>700.0</td>\n      <td>2010.0</td>\n      <td>3.0</td>\n      <td>...</td>\n      <td>0</td>\n      <td>0</td>\n      <td>0</td>\n      <td>0</td>\n      <td>0</td>\n      <td>0</td>\n      <td>0</td>\n      <td>0</td>\n      <td>90000.0</td>\n      <td>157.0</td>\n    </tr>\n    <tr>\n      <th>2</th>\n      <td>2015.0</td>\n      <td>4.0</td>\n      <td>45.0</td>\n      <td>FF</td>\n      <td>NaN</td>\n      <td>국산</td>\n      <td>3389.0</td>\n      <td>2990.0</td>\n      <td>2014.0</td>\n      <td>9.0</td>\n      <td>...</td>\n      <td>0</td>\n      <td>0</td>\n      <td>0</td>\n      <td>0</td>\n      <td>0</td>\n      <td>0</td>\n      <td>1</td>\n      <td>0</td>\n      <td>30000.0</td>\n      <td>202.0</td>\n    </tr>\n    <tr>\n      <th>3</th>\n      <td>2008.0</td>\n      <td>4.0</td>\n      <td>33.8</td>\n      <td>FR</td>\n      <td>NaN</td>\n      <td>국산</td>\n      <td>2499.0</td>\n      <td>420.0</td>\n      <td>2007.0</td>\n      <td>6.0</td>\n      <td>...</td>\n      <td>0</td>\n      <td>0</td>\n      <td>0</td>\n      <td>0</td>\n      <td>0</td>\n      <td>0</td>\n      <td>1</td>\n      <td>0</td>\n      <td>160000.0</td>\n      <td>151.0</td>\n    </tr>\n    <tr>\n      <th>4</th>\n      <td>2004.0</td>\n      <td>NaN</td>\n      <td>24.0</td>\n      <td>FR</td>\n      <td>수동</td>\n      <td>국산</td>\n      <td>1445.0</td>\n      <td>450.0</td>\n      <td>2004.0</td>\n      <td>3.0</td>\n      <td>...</td>\n      <td>0</td>\n      <td>0</td>\n      <td>0</td>\n      <td>0</td>\n      <td>0</td>\n      <td>0</td>\n      <td>1</td>\n      <td>0</td>\n      <td>160000.0</td>\n      <td>103.0</td>\n    </tr>\n  </tbody>\n</table>\n<p>5 rows × 22 columns</p>\n</div>"
     },
     "metadata": {},
     "execution_count": 67
    }
   ],
   "source": [
    "train.head()"
   ]
  },
  {
   "cell_type": "markdown",
   "metadata": {},
   "source": [
    "# 8 기통 cylinder 8698 non-null float64\n",
    "\n",
    "- 범주형으로 조질 수 있겠다\n",
    "- 단 결측치는 어떻게 할 것인가?\n",
    "- 최빈값으로 일단 조져보자\n",
    "\n"
   ]
  },
  {
   "cell_type": "code",
   "execution_count": 68,
   "metadata": {},
   "outputs": [
    {
     "output_type": "execute_result",
     "data": {
      "text/plain": [
       "4.0    5621\n",
       "6.0    2459\n",
       "3.0     402\n",
       "8.0     171\n",
       "5.0      45\n",
       "Name: cylinder, dtype: int64"
      ]
     },
     "metadata": {},
     "execution_count": 68
    }
   ],
   "source": [
    "train_cylinder = train['cylinder']\n",
    "test_cylinder = test['cylinder']\n",
    "\n",
    "train_cylinder.value_counts()"
   ]
  },
  {
   "cell_type": "code",
   "execution_count": 69,
   "metadata": {},
   "outputs": [
    {
     "output_type": "execute_result",
     "data": {
      "text/plain": [
       "4.0    2747\n",
       "6.0    1222\n",
       "3.0     173\n",
       "8.0      95\n",
       "5.0      38\n",
       "Name: cylinder, dtype: int64"
      ]
     },
     "metadata": {},
     "execution_count": 69
    }
   ],
   "source": [
    "test_cylinder.value_counts()"
   ]
  },
  {
   "cell_type": "code",
   "execution_count": 70,
   "metadata": {},
   "outputs": [],
   "source": [
    "train_cylinder = train_cylinder.fillna(4.0)\n",
    "test_cylinder = test_cylinder.fillna(4.0)"
   ]
  },
  {
   "cell_type": "code",
   "execution_count": 71,
   "metadata": {},
   "outputs": [
    {
     "output_type": "execute_result",
     "data": {
      "text/plain": [
       "0"
      ]
     },
     "metadata": {},
     "execution_count": 71
    }
   ],
   "source": [
    "train_cylinder.isna().sum()"
   ]
  },
  {
   "cell_type": "code",
   "execution_count": 72,
   "metadata": {},
   "outputs": [],
   "source": [
    "train_cylinder_dummies = pd.get_dummies(train_cylinder)\n",
    "test_cylinder_dummies = pd.get_dummies(test_cylinder)\n",
    "\n",
    "# MISSING COLUMN PROCESSING\n",
    "train_missing_cols = set(test_cylinder_dummies.columns) - set(train_cylinder_dummies.columns)\n",
    "for c in train_missing_cols:\n",
    "    train_cylinder_dummies[c] = 0\n",
    "train_cylinder_dummies = train_cylinder_dummies[test_cylinder_dummies.columns]\n",
    "test_missing_cols = set(train_cylinder_dummies.columns) - set(test_cylinder_dummies.columns)\n",
    "for c in test_missing_cols:\n",
    "    test_cylinder_dummies[c] = 0\n",
    "test_cylinder_dummies = test_cylinder_dummies[train_cylinder_dummies.columns]\n",
    "# MISSING COLUMN PROCESSING\n",
    "\n",
    "train_cylinder_dummies = train_cylinder_dummies.add_prefix(\"cylinder_\")\n",
    "test_cylinder_dummies = test_cylinder_dummies.add_prefix(\"cylinder_\")\n",
    "\n",
    "train = train.drop(['cylinder'], axis=1)\n",
    "test = test.drop(['cylinder'], axis=1)\n",
    "\n",
    "train = train.join(train_cylinder_dummies)\n",
    "test = test.join(test_cylinder_dummies)"
   ]
  },
  {
   "cell_type": "code",
   "execution_count": 73,
   "metadata": {},
   "outputs": [
    {
     "output_type": "execute_result",
     "data": {
      "text/plain": [
       "   yeartype  torque type mission country  newprice   price    year  month  \\\n",
       "0    2013.0    25.5   FF     NaN      국산    3141.0  1870.0  2012.0   12.0   \n",
       "1    2010.0    20.0   FF     NaN      국산       NaN   700.0  2010.0    3.0   \n",
       "2    2015.0    45.0   FF     NaN      국산    3389.0  2990.0  2014.0    9.0   \n",
       "3    2008.0    33.8   FR     NaN      국산    2499.0   420.0  2007.0    6.0   \n",
       "4    2004.0    24.0   FR      수동      국산    1445.0   450.0  2004.0    3.0   \n",
       "\n",
       "   fuel_CNG  ...  fuel_기타  fuel_디젤  fuel_전기      dist  power  cylinder_3.0  \\\n",
       "0         0  ...        0        0        0   40000.0  201.0             0   \n",
       "1         0  ...        0        0        0   90000.0  157.0             0   \n",
       "2         0  ...        0        1        0   30000.0  202.0             0   \n",
       "3         0  ...        0        1        0  160000.0  151.0             0   \n",
       "4         0  ...        0        1        0  160000.0  103.0             0   \n",
       "\n",
       "   cylinder_4.0  cylinder_5.0  cylinder_6.0  cylinder_8.0  \n",
       "0             1             0             0             0  \n",
       "1             1             0             0             0  \n",
       "2             1             0             0             0  \n",
       "3             1             0             0             0  \n",
       "4             1             0             0             0  \n",
       "\n",
       "[5 rows x 26 columns]"
      ],
      "text/html": "<div>\n<style scoped>\n    .dataframe tbody tr th:only-of-type {\n        vertical-align: middle;\n    }\n\n    .dataframe tbody tr th {\n        vertical-align: top;\n    }\n\n    .dataframe thead th {\n        text-align: right;\n    }\n</style>\n<table border=\"1\" class=\"dataframe\">\n  <thead>\n    <tr style=\"text-align: right;\">\n      <th></th>\n      <th>yeartype</th>\n      <th>torque</th>\n      <th>type</th>\n      <th>mission</th>\n      <th>country</th>\n      <th>newprice</th>\n      <th>price</th>\n      <th>year</th>\n      <th>month</th>\n      <th>fuel_CNG</th>\n      <th>...</th>\n      <th>fuel_기타</th>\n      <th>fuel_디젤</th>\n      <th>fuel_전기</th>\n      <th>dist</th>\n      <th>power</th>\n      <th>cylinder_3.0</th>\n      <th>cylinder_4.0</th>\n      <th>cylinder_5.0</th>\n      <th>cylinder_6.0</th>\n      <th>cylinder_8.0</th>\n    </tr>\n  </thead>\n  <tbody>\n    <tr>\n      <th>0</th>\n      <td>2013.0</td>\n      <td>25.5</td>\n      <td>FF</td>\n      <td>NaN</td>\n      <td>국산</td>\n      <td>3141.0</td>\n      <td>1870.0</td>\n      <td>2012.0</td>\n      <td>12.0</td>\n      <td>0</td>\n      <td>...</td>\n      <td>0</td>\n      <td>0</td>\n      <td>0</td>\n      <td>40000.0</td>\n      <td>201.0</td>\n      <td>0</td>\n      <td>1</td>\n      <td>0</td>\n      <td>0</td>\n      <td>0</td>\n    </tr>\n    <tr>\n      <th>1</th>\n      <td>2010.0</td>\n      <td>20.0</td>\n      <td>FF</td>\n      <td>NaN</td>\n      <td>국산</td>\n      <td>NaN</td>\n      <td>700.0</td>\n      <td>2010.0</td>\n      <td>3.0</td>\n      <td>0</td>\n      <td>...</td>\n      <td>0</td>\n      <td>0</td>\n      <td>0</td>\n      <td>90000.0</td>\n      <td>157.0</td>\n      <td>0</td>\n      <td>1</td>\n      <td>0</td>\n      <td>0</td>\n      <td>0</td>\n    </tr>\n    <tr>\n      <th>2</th>\n      <td>2015.0</td>\n      <td>45.0</td>\n      <td>FF</td>\n      <td>NaN</td>\n      <td>국산</td>\n      <td>3389.0</td>\n      <td>2990.0</td>\n      <td>2014.0</td>\n      <td>9.0</td>\n      <td>0</td>\n      <td>...</td>\n      <td>0</td>\n      <td>1</td>\n      <td>0</td>\n      <td>30000.0</td>\n      <td>202.0</td>\n      <td>0</td>\n      <td>1</td>\n      <td>0</td>\n      <td>0</td>\n      <td>0</td>\n    </tr>\n    <tr>\n      <th>3</th>\n      <td>2008.0</td>\n      <td>33.8</td>\n      <td>FR</td>\n      <td>NaN</td>\n      <td>국산</td>\n      <td>2499.0</td>\n      <td>420.0</td>\n      <td>2007.0</td>\n      <td>6.0</td>\n      <td>0</td>\n      <td>...</td>\n      <td>0</td>\n      <td>1</td>\n      <td>0</td>\n      <td>160000.0</td>\n      <td>151.0</td>\n      <td>0</td>\n      <td>1</td>\n      <td>0</td>\n      <td>0</td>\n      <td>0</td>\n    </tr>\n    <tr>\n      <th>4</th>\n      <td>2004.0</td>\n      <td>24.0</td>\n      <td>FR</td>\n      <td>수동</td>\n      <td>국산</td>\n      <td>1445.0</td>\n      <td>450.0</td>\n      <td>2004.0</td>\n      <td>3.0</td>\n      <td>0</td>\n      <td>...</td>\n      <td>0</td>\n      <td>1</td>\n      <td>0</td>\n      <td>160000.0</td>\n      <td>103.0</td>\n      <td>0</td>\n      <td>1</td>\n      <td>0</td>\n      <td>0</td>\n      <td>0</td>\n    </tr>\n  </tbody>\n</table>\n<p>5 rows × 26 columns</p>\n</div>"
     },
     "metadata": {},
     "execution_count": 73
    }
   ],
   "source": [
    "train.head()"
   ]
  },
  {
   "cell_type": "markdown",
   "metadata": {},
   "source": [
    "# 9 최대토크(kgm) torque 10545 non-null float64\n",
    "\n",
    "- 얘도 결측치 mean으로 채우고 그대로 쓰자"
   ]
  },
  {
   "cell_type": "code",
   "execution_count": 74,
   "metadata": {},
   "outputs": [
    {
     "output_type": "execute_result",
     "data": {
      "text/plain": [
       "0        25.5\n",
       "1        20.0\n",
       "2        45.0\n",
       "3        33.8\n",
       "4        24.0\n",
       "         ... \n",
       "11764    30.5\n",
       "11765     NaN\n",
       "11766    52.0\n",
       "11767    53.0\n",
       "11768    53.0\n",
       "Name: torque, Length: 11769, dtype: float64"
      ]
     },
     "metadata": {},
     "execution_count": 74
    }
   ],
   "source": [
    "train_torque = train['torque']\n",
    "test_torque = test['torque']\n",
    "\n",
    "train_torque"
   ]
  },
  {
   "cell_type": "code",
   "execution_count": 75,
   "metadata": {},
   "outputs": [],
   "source": [
    "train_torque = train_torque.fillna(train_torque.mean())\n",
    "test_torque = test_torque.fillna(test_torque.mean())"
   ]
  },
  {
   "cell_type": "code",
   "execution_count": 76,
   "metadata": {},
   "outputs": [
    {
     "output_type": "execute_result",
     "data": {
      "text/plain": [
       "0"
      ]
     },
     "metadata": {},
     "execution_count": 76
    }
   ],
   "source": [
    "train_torque.isna().sum()"
   ]
  },
  {
   "cell_type": "code",
   "execution_count": 77,
   "metadata": {},
   "outputs": [],
   "source": [
    "train_torque.name = 'torque'\n",
    "test_torque.name = 'torque'\n",
    "\n",
    "train = train.drop(['torque'], axis=1)\n",
    "test = test.drop(['torque'], axis=1)\n",
    "\n",
    "train = train.join(train_torque)\n",
    "test = test.join(test_torque)"
   ]
  },
  {
   "cell_type": "code",
   "execution_count": 78,
   "metadata": {},
   "outputs": [
    {
     "output_type": "execute_result",
     "data": {
      "text/plain": [
       "   yeartype type mission country  newprice   price    year  month  fuel_CNG  \\\n",
       "0    2013.0   FF     NaN      국산    3141.0  1870.0  2012.0   12.0         0   \n",
       "1    2010.0   FF     NaN      국산       NaN   700.0  2010.0    3.0         0   \n",
       "2    2015.0   FF     NaN      국산    3389.0  2990.0  2014.0    9.0         0   \n",
       "3    2008.0   FR     NaN      국산    2499.0   420.0  2007.0    6.0         0   \n",
       "4    2004.0   FR      수동      국산    1445.0   450.0  2004.0    3.0         0   \n",
       "\n",
       "   fuel_LPG  ...  fuel_디젤  fuel_전기      dist  power  cylinder_3.0  \\\n",
       "0         0  ...        0        0   40000.0  201.0             0   \n",
       "1         1  ...        0        0   90000.0  157.0             0   \n",
       "2         0  ...        1        0   30000.0  202.0             0   \n",
       "3         0  ...        1        0  160000.0  151.0             0   \n",
       "4         0  ...        1        0  160000.0  103.0             0   \n",
       "\n",
       "   cylinder_4.0  cylinder_5.0  cylinder_6.0  cylinder_8.0  torque  \n",
       "0             1             0             0             0    25.5  \n",
       "1             1             0             0             0    20.0  \n",
       "2             1             0             0             0    45.0  \n",
       "3             1             0             0             0    33.8  \n",
       "4             1             0             0             0    24.0  \n",
       "\n",
       "[5 rows x 26 columns]"
      ],
      "text/html": "<div>\n<style scoped>\n    .dataframe tbody tr th:only-of-type {\n        vertical-align: middle;\n    }\n\n    .dataframe tbody tr th {\n        vertical-align: top;\n    }\n\n    .dataframe thead th {\n        text-align: right;\n    }\n</style>\n<table border=\"1\" class=\"dataframe\">\n  <thead>\n    <tr style=\"text-align: right;\">\n      <th></th>\n      <th>yeartype</th>\n      <th>type</th>\n      <th>mission</th>\n      <th>country</th>\n      <th>newprice</th>\n      <th>price</th>\n      <th>year</th>\n      <th>month</th>\n      <th>fuel_CNG</th>\n      <th>fuel_LPG</th>\n      <th>...</th>\n      <th>fuel_디젤</th>\n      <th>fuel_전기</th>\n      <th>dist</th>\n      <th>power</th>\n      <th>cylinder_3.0</th>\n      <th>cylinder_4.0</th>\n      <th>cylinder_5.0</th>\n      <th>cylinder_6.0</th>\n      <th>cylinder_8.0</th>\n      <th>torque</th>\n    </tr>\n  </thead>\n  <tbody>\n    <tr>\n      <th>0</th>\n      <td>2013.0</td>\n      <td>FF</td>\n      <td>NaN</td>\n      <td>국산</td>\n      <td>3141.0</td>\n      <td>1870.0</td>\n      <td>2012.0</td>\n      <td>12.0</td>\n      <td>0</td>\n      <td>0</td>\n      <td>...</td>\n      <td>0</td>\n      <td>0</td>\n      <td>40000.0</td>\n      <td>201.0</td>\n      <td>0</td>\n      <td>1</td>\n      <td>0</td>\n      <td>0</td>\n      <td>0</td>\n      <td>25.5</td>\n    </tr>\n    <tr>\n      <th>1</th>\n      <td>2010.0</td>\n      <td>FF</td>\n      <td>NaN</td>\n      <td>국산</td>\n      <td>NaN</td>\n      <td>700.0</td>\n      <td>2010.0</td>\n      <td>3.0</td>\n      <td>0</td>\n      <td>1</td>\n      <td>...</td>\n      <td>0</td>\n      <td>0</td>\n      <td>90000.0</td>\n      <td>157.0</td>\n      <td>0</td>\n      <td>1</td>\n      <td>0</td>\n      <td>0</td>\n      <td>0</td>\n      <td>20.0</td>\n    </tr>\n    <tr>\n      <th>2</th>\n      <td>2015.0</td>\n      <td>FF</td>\n      <td>NaN</td>\n      <td>국산</td>\n      <td>3389.0</td>\n      <td>2990.0</td>\n      <td>2014.0</td>\n      <td>9.0</td>\n      <td>0</td>\n      <td>0</td>\n      <td>...</td>\n      <td>1</td>\n      <td>0</td>\n      <td>30000.0</td>\n      <td>202.0</td>\n      <td>0</td>\n      <td>1</td>\n      <td>0</td>\n      <td>0</td>\n      <td>0</td>\n      <td>45.0</td>\n    </tr>\n    <tr>\n      <th>3</th>\n      <td>2008.0</td>\n      <td>FR</td>\n      <td>NaN</td>\n      <td>국산</td>\n      <td>2499.0</td>\n      <td>420.0</td>\n      <td>2007.0</td>\n      <td>6.0</td>\n      <td>0</td>\n      <td>0</td>\n      <td>...</td>\n      <td>1</td>\n      <td>0</td>\n      <td>160000.0</td>\n      <td>151.0</td>\n      <td>0</td>\n      <td>1</td>\n      <td>0</td>\n      <td>0</td>\n      <td>0</td>\n      <td>33.8</td>\n    </tr>\n    <tr>\n      <th>4</th>\n      <td>2004.0</td>\n      <td>FR</td>\n      <td>수동</td>\n      <td>국산</td>\n      <td>1445.0</td>\n      <td>450.0</td>\n      <td>2004.0</td>\n      <td>3.0</td>\n      <td>0</td>\n      <td>0</td>\n      <td>...</td>\n      <td>1</td>\n      <td>0</td>\n      <td>160000.0</td>\n      <td>103.0</td>\n      <td>0</td>\n      <td>1</td>\n      <td>0</td>\n      <td>0</td>\n      <td>0</td>\n      <td>24.0</td>\n    </tr>\n  </tbody>\n</table>\n<p>5 rows × 26 columns</p>\n</div>"
     },
     "metadata": {},
     "execution_count": 78
    }
   ],
   "source": [
    "train.head()"
   ]
  },
  {
   "cell_type": "markdown",
   "metadata": {},
   "source": [
    "# 10 구동방식 type 10808 non-null object\n",
    "\n",
    "- 제일 많은 걸로 결측치 채우고 dummies 만들어서 쓰자"
   ]
  },
  {
   "cell_type": "code",
   "execution_count": 79,
   "metadata": {},
   "outputs": [
    {
     "output_type": "execute_result",
     "data": {
      "text/plain": [
       "FF     7333\n",
       "FR     2319\n",
       "4WD     688\n",
       "AWD     452\n",
       "MR       13\n",
       "RR        3\n",
       "Name: type, dtype: int64"
      ]
     },
     "metadata": {},
     "execution_count": 79
    }
   ],
   "source": [
    "train_type = train['type']\n",
    "test_type = test['type']\n",
    "\n",
    "train_type.value_counts()"
   ]
  },
  {
   "cell_type": "code",
   "execution_count": 80,
   "metadata": {},
   "outputs": [],
   "source": [
    "train_type = train_type.fillna('FF')\n",
    "test_type = test_type.fillna('FF')"
   ]
  },
  {
   "cell_type": "code",
   "execution_count": 81,
   "metadata": {},
   "outputs": [
    {
     "output_type": "execute_result",
     "data": {
      "text/plain": [
       "0"
      ]
     },
     "metadata": {},
     "execution_count": 81
    }
   ],
   "source": [
    "train_type.isna().sum()"
   ]
  },
  {
   "cell_type": "code",
   "execution_count": 82,
   "metadata": {},
   "outputs": [],
   "source": [
    "train_type_dummies = pd.get_dummies(train_type)\n",
    "test_type_dummies = pd.get_dummies(test_type)\n",
    "\n",
    "# MISSING COLUMN PROCESSING\n",
    "train_missing_cols = set(test_type_dummies.columns) - set(train_type_dummies.columns)\n",
    "for c in train_missing_cols:\n",
    "    train_type_dummies[c] = 0\n",
    "train_type_dummies = train_type_dummies[test_type_dummies.columns]\n",
    "test_missing_cols = set(train_type_dummies.columns) - set(test_type_dummies.columns)\n",
    "for c in test_missing_cols:\n",
    "    test_type_dummies[c] = 0\n",
    "test_type_dummies = test_type_dummies[train_type_dummies.columns]\n",
    "# MISSING COLUMN PROCESSING\n",
    "\n",
    "train_type_dummies = train_type_dummies.add_prefix('type_')\n",
    "test_type_dummies = test_type_dummies.add_prefix('type_')\n",
    "\n",
    "train = train.drop(['type'], axis=1)\n",
    "test = test.drop(['type'], axis=1)\n",
    "\n",
    "train = train.join(train_type_dummies)\n",
    "test = test.join(test_type_dummies)"
   ]
  },
  {
   "cell_type": "code",
   "execution_count": 83,
   "metadata": {},
   "outputs": [
    {
     "output_type": "execute_result",
     "data": {
      "text/plain": [
       "   yeartype mission country  newprice   price    year  month  fuel_CNG  \\\n",
       "0    2013.0     NaN      국산    3141.0  1870.0  2012.0   12.0         0   \n",
       "1    2010.0     NaN      국산       NaN   700.0  2010.0    3.0         0   \n",
       "2    2015.0     NaN      국산    3389.0  2990.0  2014.0    9.0         0   \n",
       "3    2008.0     NaN      국산    2499.0   420.0  2007.0    6.0         0   \n",
       "4    2004.0      수동      국산    1445.0   450.0  2004.0    3.0         0   \n",
       "\n",
       "   fuel_LPG  fuel_LPG+전기  ...  cylinder_4.0  cylinder_5.0  cylinder_6.0  \\\n",
       "0         0            0  ...             1             0             0   \n",
       "1         1            0  ...             1             0             0   \n",
       "2         0            0  ...             1             0             0   \n",
       "3         0            0  ...             1             0             0   \n",
       "4         0            0  ...             1             0             0   \n",
       "\n",
       "   cylinder_8.0  torque  type_4WD  type_AWD  type_FF  type_FR  type_MR  \n",
       "0             0    25.5         0         0        1        0        0  \n",
       "1             0    20.0         0         0        1        0        0  \n",
       "2             0    45.0         0         0        1        0        0  \n",
       "3             0    33.8         0         0        0        1        0  \n",
       "4             0    24.0         0         0        0        1        0  \n",
       "\n",
       "[5 rows x 30 columns]"
      ],
      "text/html": "<div>\n<style scoped>\n    .dataframe tbody tr th:only-of-type {\n        vertical-align: middle;\n    }\n\n    .dataframe tbody tr th {\n        vertical-align: top;\n    }\n\n    .dataframe thead th {\n        text-align: right;\n    }\n</style>\n<table border=\"1\" class=\"dataframe\">\n  <thead>\n    <tr style=\"text-align: right;\">\n      <th></th>\n      <th>yeartype</th>\n      <th>mission</th>\n      <th>country</th>\n      <th>newprice</th>\n      <th>price</th>\n      <th>year</th>\n      <th>month</th>\n      <th>fuel_CNG</th>\n      <th>fuel_LPG</th>\n      <th>fuel_LPG+전기</th>\n      <th>...</th>\n      <th>cylinder_4.0</th>\n      <th>cylinder_5.0</th>\n      <th>cylinder_6.0</th>\n      <th>cylinder_8.0</th>\n      <th>torque</th>\n      <th>type_4WD</th>\n      <th>type_AWD</th>\n      <th>type_FF</th>\n      <th>type_FR</th>\n      <th>type_MR</th>\n    </tr>\n  </thead>\n  <tbody>\n    <tr>\n      <th>0</th>\n      <td>2013.0</td>\n      <td>NaN</td>\n      <td>국산</td>\n      <td>3141.0</td>\n      <td>1870.0</td>\n      <td>2012.0</td>\n      <td>12.0</td>\n      <td>0</td>\n      <td>0</td>\n      <td>0</td>\n      <td>...</td>\n      <td>1</td>\n      <td>0</td>\n      <td>0</td>\n      <td>0</td>\n      <td>25.5</td>\n      <td>0</td>\n      <td>0</td>\n      <td>1</td>\n      <td>0</td>\n      <td>0</td>\n    </tr>\n    <tr>\n      <th>1</th>\n      <td>2010.0</td>\n      <td>NaN</td>\n      <td>국산</td>\n      <td>NaN</td>\n      <td>700.0</td>\n      <td>2010.0</td>\n      <td>3.0</td>\n      <td>0</td>\n      <td>1</td>\n      <td>0</td>\n      <td>...</td>\n      <td>1</td>\n      <td>0</td>\n      <td>0</td>\n      <td>0</td>\n      <td>20.0</td>\n      <td>0</td>\n      <td>0</td>\n      <td>1</td>\n      <td>0</td>\n      <td>0</td>\n    </tr>\n    <tr>\n      <th>2</th>\n      <td>2015.0</td>\n      <td>NaN</td>\n      <td>국산</td>\n      <td>3389.0</td>\n      <td>2990.0</td>\n      <td>2014.0</td>\n      <td>9.0</td>\n      <td>0</td>\n      <td>0</td>\n      <td>0</td>\n      <td>...</td>\n      <td>1</td>\n      <td>0</td>\n      <td>0</td>\n      <td>0</td>\n      <td>45.0</td>\n      <td>0</td>\n      <td>0</td>\n      <td>1</td>\n      <td>0</td>\n      <td>0</td>\n    </tr>\n    <tr>\n      <th>3</th>\n      <td>2008.0</td>\n      <td>NaN</td>\n      <td>국산</td>\n      <td>2499.0</td>\n      <td>420.0</td>\n      <td>2007.0</td>\n      <td>6.0</td>\n      <td>0</td>\n      <td>0</td>\n      <td>0</td>\n      <td>...</td>\n      <td>1</td>\n      <td>0</td>\n      <td>0</td>\n      <td>0</td>\n      <td>33.8</td>\n      <td>0</td>\n      <td>0</td>\n      <td>0</td>\n      <td>1</td>\n      <td>0</td>\n    </tr>\n    <tr>\n      <th>4</th>\n      <td>2004.0</td>\n      <td>수동</td>\n      <td>국산</td>\n      <td>1445.0</td>\n      <td>450.0</td>\n      <td>2004.0</td>\n      <td>3.0</td>\n      <td>0</td>\n      <td>0</td>\n      <td>0</td>\n      <td>...</td>\n      <td>1</td>\n      <td>0</td>\n      <td>0</td>\n      <td>0</td>\n      <td>24.0</td>\n      <td>0</td>\n      <td>0</td>\n      <td>0</td>\n      <td>1</td>\n      <td>0</td>\n    </tr>\n  </tbody>\n</table>\n<p>5 rows × 30 columns</p>\n</div>"
     },
     "metadata": {},
     "execution_count": 83
    }
   ],
   "source": [
    "train.head()"
   ]
  },
  {
   "cell_type": "markdown",
   "metadata": {},
   "source": [
    "# 11 자동수동 mission 1313 non-null object\n",
    "\n",
    "- 못 쓴다 드랍하자"
   ]
  },
  {
   "cell_type": "code",
   "execution_count": 84,
   "metadata": {},
   "outputs": [],
   "source": [
    "train = train.drop(['mission'], axis=1)\n",
    "test = test.drop(['mission'], axis=1)"
   ]
  },
  {
   "cell_type": "code",
   "execution_count": 85,
   "metadata": {},
   "outputs": [
    {
     "output_type": "execute_result",
     "data": {
      "text/plain": [
       "   yeartype country  newprice   price    year  month  fuel_CNG  fuel_LPG  \\\n",
       "0    2013.0      국산    3141.0  1870.0  2012.0   12.0         0         0   \n",
       "1    2010.0      국산       NaN   700.0  2010.0    3.0         0         1   \n",
       "2    2015.0      국산    3389.0  2990.0  2014.0    9.0         0         0   \n",
       "3    2008.0      국산    2499.0   420.0  2007.0    6.0         0         0   \n",
       "4    2004.0      국산    1445.0   450.0  2004.0    3.0         0         0   \n",
       "\n",
       "   fuel_LPG+전기  fuel_가솔린  ...  cylinder_4.0  cylinder_5.0  cylinder_6.0  \\\n",
       "0            0         1  ...             1             0             0   \n",
       "1            0         0  ...             1             0             0   \n",
       "2            0         0  ...             1             0             0   \n",
       "3            0         0  ...             1             0             0   \n",
       "4            0         0  ...             1             0             0   \n",
       "\n",
       "   cylinder_8.0  torque  type_4WD  type_AWD  type_FF  type_FR  type_MR  \n",
       "0             0    25.5         0         0        1        0        0  \n",
       "1             0    20.0         0         0        1        0        0  \n",
       "2             0    45.0         0         0        1        0        0  \n",
       "3             0    33.8         0         0        0        1        0  \n",
       "4             0    24.0         0         0        0        1        0  \n",
       "\n",
       "[5 rows x 29 columns]"
      ],
      "text/html": "<div>\n<style scoped>\n    .dataframe tbody tr th:only-of-type {\n        vertical-align: middle;\n    }\n\n    .dataframe tbody tr th {\n        vertical-align: top;\n    }\n\n    .dataframe thead th {\n        text-align: right;\n    }\n</style>\n<table border=\"1\" class=\"dataframe\">\n  <thead>\n    <tr style=\"text-align: right;\">\n      <th></th>\n      <th>yeartype</th>\n      <th>country</th>\n      <th>newprice</th>\n      <th>price</th>\n      <th>year</th>\n      <th>month</th>\n      <th>fuel_CNG</th>\n      <th>fuel_LPG</th>\n      <th>fuel_LPG+전기</th>\n      <th>fuel_가솔린</th>\n      <th>...</th>\n      <th>cylinder_4.0</th>\n      <th>cylinder_5.0</th>\n      <th>cylinder_6.0</th>\n      <th>cylinder_8.0</th>\n      <th>torque</th>\n      <th>type_4WD</th>\n      <th>type_AWD</th>\n      <th>type_FF</th>\n      <th>type_FR</th>\n      <th>type_MR</th>\n    </tr>\n  </thead>\n  <tbody>\n    <tr>\n      <th>0</th>\n      <td>2013.0</td>\n      <td>국산</td>\n      <td>3141.0</td>\n      <td>1870.0</td>\n      <td>2012.0</td>\n      <td>12.0</td>\n      <td>0</td>\n      <td>0</td>\n      <td>0</td>\n      <td>1</td>\n      <td>...</td>\n      <td>1</td>\n      <td>0</td>\n      <td>0</td>\n      <td>0</td>\n      <td>25.5</td>\n      <td>0</td>\n      <td>0</td>\n      <td>1</td>\n      <td>0</td>\n      <td>0</td>\n    </tr>\n    <tr>\n      <th>1</th>\n      <td>2010.0</td>\n      <td>국산</td>\n      <td>NaN</td>\n      <td>700.0</td>\n      <td>2010.0</td>\n      <td>3.0</td>\n      <td>0</td>\n      <td>1</td>\n      <td>0</td>\n      <td>0</td>\n      <td>...</td>\n      <td>1</td>\n      <td>0</td>\n      <td>0</td>\n      <td>0</td>\n      <td>20.0</td>\n      <td>0</td>\n      <td>0</td>\n      <td>1</td>\n      <td>0</td>\n      <td>0</td>\n    </tr>\n    <tr>\n      <th>2</th>\n      <td>2015.0</td>\n      <td>국산</td>\n      <td>3389.0</td>\n      <td>2990.0</td>\n      <td>2014.0</td>\n      <td>9.0</td>\n      <td>0</td>\n      <td>0</td>\n      <td>0</td>\n      <td>0</td>\n      <td>...</td>\n      <td>1</td>\n      <td>0</td>\n      <td>0</td>\n      <td>0</td>\n      <td>45.0</td>\n      <td>0</td>\n      <td>0</td>\n      <td>1</td>\n      <td>0</td>\n      <td>0</td>\n    </tr>\n    <tr>\n      <th>3</th>\n      <td>2008.0</td>\n      <td>국산</td>\n      <td>2499.0</td>\n      <td>420.0</td>\n      <td>2007.0</td>\n      <td>6.0</td>\n      <td>0</td>\n      <td>0</td>\n      <td>0</td>\n      <td>0</td>\n      <td>...</td>\n      <td>1</td>\n      <td>0</td>\n      <td>0</td>\n      <td>0</td>\n      <td>33.8</td>\n      <td>0</td>\n      <td>0</td>\n      <td>0</td>\n      <td>1</td>\n      <td>0</td>\n    </tr>\n    <tr>\n      <th>4</th>\n      <td>2004.0</td>\n      <td>국산</td>\n      <td>1445.0</td>\n      <td>450.0</td>\n      <td>2004.0</td>\n      <td>3.0</td>\n      <td>0</td>\n      <td>0</td>\n      <td>0</td>\n      <td>0</td>\n      <td>...</td>\n      <td>1</td>\n      <td>0</td>\n      <td>0</td>\n      <td>0</td>\n      <td>24.0</td>\n      <td>0</td>\n      <td>0</td>\n      <td>0</td>\n      <td>1</td>\n      <td>0</td>\n    </tr>\n  </tbody>\n</table>\n<p>5 rows × 29 columns</p>\n</div>"
     },
     "metadata": {},
     "execution_count": 85
    }
   ],
   "source": [
    "train.head()"
   ]
  },
  {
   "cell_type": "markdown",
   "metadata": {},
   "source": [
    "# 12 국산/수입 country 11769 non-null object\n",
    "\n",
    "- 단순한 범주형 같다\n",
    "- 아니 근데 train이랑 test 다 국산밖에 없는데?\n",
    "- 드랍하자..."
   ]
  },
  {
   "cell_type": "code",
   "execution_count": 86,
   "metadata": {},
   "outputs": [
    {
     "output_type": "execute_result",
     "data": {
      "text/plain": [
       "국산    11769\n",
       "Name: country, dtype: int64"
      ]
     },
     "metadata": {},
     "execution_count": 86
    }
   ],
   "source": [
    "train_country = train['country']\n",
    "test_country = test['country']\n",
    "\n",
    "train_country.value_counts()"
   ]
  },
  {
   "cell_type": "code",
   "execution_count": 87,
   "metadata": {},
   "outputs": [
    {
     "output_type": "execute_result",
     "data": {
      "text/plain": [
       "국산    5789\n",
       "Name: country, dtype: int64"
      ]
     },
     "metadata": {},
     "execution_count": 87
    }
   ],
   "source": [
    "test_country.value_counts()"
   ]
  },
  {
   "cell_type": "code",
   "execution_count": 88,
   "metadata": {},
   "outputs": [],
   "source": [
    "train = train.drop(['country'], axis=1)\n",
    "test = test.drop(['country'], axis=1)"
   ]
  },
  {
   "cell_type": "code",
   "execution_count": 89,
   "metadata": {},
   "outputs": [
    {
     "output_type": "execute_result",
     "data": {
      "text/plain": [
       "   yeartype  newprice   price    year  month  fuel_CNG  fuel_LPG  fuel_LPG+전기  \\\n",
       "0    2013.0    3141.0  1870.0  2012.0   12.0         0         0            0   \n",
       "1    2010.0       NaN   700.0  2010.0    3.0         0         1            0   \n",
       "2    2015.0    3389.0  2990.0  2014.0    9.0         0         0            0   \n",
       "3    2008.0    2499.0   420.0  2007.0    6.0         0         0            0   \n",
       "4    2004.0    1445.0   450.0  2004.0    3.0         0         0            0   \n",
       "\n",
       "   fuel_가솔린  fuel_가솔린+전기  ...  cylinder_4.0  cylinder_5.0  cylinder_6.0  \\\n",
       "0         1            0  ...             1             0             0   \n",
       "1         0            0  ...             1             0             0   \n",
       "2         0            0  ...             1             0             0   \n",
       "3         0            0  ...             1             0             0   \n",
       "4         0            0  ...             1             0             0   \n",
       "\n",
       "   cylinder_8.0  torque  type_4WD  type_AWD  type_FF  type_FR  type_MR  \n",
       "0             0    25.5         0         0        1        0        0  \n",
       "1             0    20.0         0         0        1        0        0  \n",
       "2             0    45.0         0         0        1        0        0  \n",
       "3             0    33.8         0         0        0        1        0  \n",
       "4             0    24.0         0         0        0        1        0  \n",
       "\n",
       "[5 rows x 28 columns]"
      ],
      "text/html": "<div>\n<style scoped>\n    .dataframe tbody tr th:only-of-type {\n        vertical-align: middle;\n    }\n\n    .dataframe tbody tr th {\n        vertical-align: top;\n    }\n\n    .dataframe thead th {\n        text-align: right;\n    }\n</style>\n<table border=\"1\" class=\"dataframe\">\n  <thead>\n    <tr style=\"text-align: right;\">\n      <th></th>\n      <th>yeartype</th>\n      <th>newprice</th>\n      <th>price</th>\n      <th>year</th>\n      <th>month</th>\n      <th>fuel_CNG</th>\n      <th>fuel_LPG</th>\n      <th>fuel_LPG+전기</th>\n      <th>fuel_가솔린</th>\n      <th>fuel_가솔린+전기</th>\n      <th>...</th>\n      <th>cylinder_4.0</th>\n      <th>cylinder_5.0</th>\n      <th>cylinder_6.0</th>\n      <th>cylinder_8.0</th>\n      <th>torque</th>\n      <th>type_4WD</th>\n      <th>type_AWD</th>\n      <th>type_FF</th>\n      <th>type_FR</th>\n      <th>type_MR</th>\n    </tr>\n  </thead>\n  <tbody>\n    <tr>\n      <th>0</th>\n      <td>2013.0</td>\n      <td>3141.0</td>\n      <td>1870.0</td>\n      <td>2012.0</td>\n      <td>12.0</td>\n      <td>0</td>\n      <td>0</td>\n      <td>0</td>\n      <td>1</td>\n      <td>0</td>\n      <td>...</td>\n      <td>1</td>\n      <td>0</td>\n      <td>0</td>\n      <td>0</td>\n      <td>25.5</td>\n      <td>0</td>\n      <td>0</td>\n      <td>1</td>\n      <td>0</td>\n      <td>0</td>\n    </tr>\n    <tr>\n      <th>1</th>\n      <td>2010.0</td>\n      <td>NaN</td>\n      <td>700.0</td>\n      <td>2010.0</td>\n      <td>3.0</td>\n      <td>0</td>\n      <td>1</td>\n      <td>0</td>\n      <td>0</td>\n      <td>0</td>\n      <td>...</td>\n      <td>1</td>\n      <td>0</td>\n      <td>0</td>\n      <td>0</td>\n      <td>20.0</td>\n      <td>0</td>\n      <td>0</td>\n      <td>1</td>\n      <td>0</td>\n      <td>0</td>\n    </tr>\n    <tr>\n      <th>2</th>\n      <td>2015.0</td>\n      <td>3389.0</td>\n      <td>2990.0</td>\n      <td>2014.0</td>\n      <td>9.0</td>\n      <td>0</td>\n      <td>0</td>\n      <td>0</td>\n      <td>0</td>\n      <td>0</td>\n      <td>...</td>\n      <td>1</td>\n      <td>0</td>\n      <td>0</td>\n      <td>0</td>\n      <td>45.0</td>\n      <td>0</td>\n      <td>0</td>\n      <td>1</td>\n      <td>0</td>\n      <td>0</td>\n    </tr>\n    <tr>\n      <th>3</th>\n      <td>2008.0</td>\n      <td>2499.0</td>\n      <td>420.0</td>\n      <td>2007.0</td>\n      <td>6.0</td>\n      <td>0</td>\n      <td>0</td>\n      <td>0</td>\n      <td>0</td>\n      <td>0</td>\n      <td>...</td>\n      <td>1</td>\n      <td>0</td>\n      <td>0</td>\n      <td>0</td>\n      <td>33.8</td>\n      <td>0</td>\n      <td>0</td>\n      <td>0</td>\n      <td>1</td>\n      <td>0</td>\n    </tr>\n    <tr>\n      <th>4</th>\n      <td>2004.0</td>\n      <td>1445.0</td>\n      <td>450.0</td>\n      <td>2004.0</td>\n      <td>3.0</td>\n      <td>0</td>\n      <td>0</td>\n      <td>0</td>\n      <td>0</td>\n      <td>0</td>\n      <td>...</td>\n      <td>1</td>\n      <td>0</td>\n      <td>0</td>\n      <td>0</td>\n      <td>24.0</td>\n      <td>0</td>\n      <td>0</td>\n      <td>0</td>\n      <td>1</td>\n      <td>0</td>\n    </tr>\n  </tbody>\n</table>\n<p>5 rows × 28 columns</p>\n</div>"
     },
     "metadata": {},
     "execution_count": 89
    }
   ],
   "source": [
    "train.head()"
   ]
  },
  {
   "cell_type": "markdown",
   "metadata": {},
   "source": [
    "# 13 신차가(만원) newprice 9544 non-null float64\n",
    "\n",
    "- 일단 드랍\n"
   ]
  },
  {
   "cell_type": "code",
   "execution_count": 90,
   "metadata": {},
   "outputs": [],
   "source": [
    "train = train.drop(['newprice'], axis=1)"
   ]
  },
  {
   "cell_type": "code",
   "execution_count": 91,
   "metadata": {},
   "outputs": [
    {
     "output_type": "execute_result",
     "data": {
      "text/plain": [
       "   yeartype   price    year  month  fuel_CNG  fuel_LPG  fuel_LPG+전기  fuel_가솔린  \\\n",
       "0    2013.0  1870.0  2012.0   12.0         0         0            0         1   \n",
       "1    2010.0   700.0  2010.0    3.0         0         1            0         0   \n",
       "2    2015.0  2990.0  2014.0    9.0         0         0            0         0   \n",
       "3    2008.0   420.0  2007.0    6.0         0         0            0         0   \n",
       "4    2004.0   450.0  2004.0    3.0         0         0            0         0   \n",
       "\n",
       "   fuel_가솔린+전기  fuel_가솔린/CNG겸용  ...  cylinder_4.0  cylinder_5.0  cylinder_6.0  \\\n",
       "0            0               0  ...             1             0             0   \n",
       "1            0               0  ...             1             0             0   \n",
       "2            0               0  ...             1             0             0   \n",
       "3            0               0  ...             1             0             0   \n",
       "4            0               0  ...             1             0             0   \n",
       "\n",
       "   cylinder_8.0  torque  type_4WD  type_AWD  type_FF  type_FR  type_MR  \n",
       "0             0    25.5         0         0        1        0        0  \n",
       "1             0    20.0         0         0        1        0        0  \n",
       "2             0    45.0         0         0        1        0        0  \n",
       "3             0    33.8         0         0        0        1        0  \n",
       "4             0    24.0         0         0        0        1        0  \n",
       "\n",
       "[5 rows x 27 columns]"
      ],
      "text/html": "<div>\n<style scoped>\n    .dataframe tbody tr th:only-of-type {\n        vertical-align: middle;\n    }\n\n    .dataframe tbody tr th {\n        vertical-align: top;\n    }\n\n    .dataframe thead th {\n        text-align: right;\n    }\n</style>\n<table border=\"1\" class=\"dataframe\">\n  <thead>\n    <tr style=\"text-align: right;\">\n      <th></th>\n      <th>yeartype</th>\n      <th>price</th>\n      <th>year</th>\n      <th>month</th>\n      <th>fuel_CNG</th>\n      <th>fuel_LPG</th>\n      <th>fuel_LPG+전기</th>\n      <th>fuel_가솔린</th>\n      <th>fuel_가솔린+전기</th>\n      <th>fuel_가솔린/CNG겸용</th>\n      <th>...</th>\n      <th>cylinder_4.0</th>\n      <th>cylinder_5.0</th>\n      <th>cylinder_6.0</th>\n      <th>cylinder_8.0</th>\n      <th>torque</th>\n      <th>type_4WD</th>\n      <th>type_AWD</th>\n      <th>type_FF</th>\n      <th>type_FR</th>\n      <th>type_MR</th>\n    </tr>\n  </thead>\n  <tbody>\n    <tr>\n      <th>0</th>\n      <td>2013.0</td>\n      <td>1870.0</td>\n      <td>2012.0</td>\n      <td>12.0</td>\n      <td>0</td>\n      <td>0</td>\n      <td>0</td>\n      <td>1</td>\n      <td>0</td>\n      <td>0</td>\n      <td>...</td>\n      <td>1</td>\n      <td>0</td>\n      <td>0</td>\n      <td>0</td>\n      <td>25.5</td>\n      <td>0</td>\n      <td>0</td>\n      <td>1</td>\n      <td>0</td>\n      <td>0</td>\n    </tr>\n    <tr>\n      <th>1</th>\n      <td>2010.0</td>\n      <td>700.0</td>\n      <td>2010.0</td>\n      <td>3.0</td>\n      <td>0</td>\n      <td>1</td>\n      <td>0</td>\n      <td>0</td>\n      <td>0</td>\n      <td>0</td>\n      <td>...</td>\n      <td>1</td>\n      <td>0</td>\n      <td>0</td>\n      <td>0</td>\n      <td>20.0</td>\n      <td>0</td>\n      <td>0</td>\n      <td>1</td>\n      <td>0</td>\n      <td>0</td>\n    </tr>\n    <tr>\n      <th>2</th>\n      <td>2015.0</td>\n      <td>2990.0</td>\n      <td>2014.0</td>\n      <td>9.0</td>\n      <td>0</td>\n      <td>0</td>\n      <td>0</td>\n      <td>0</td>\n      <td>0</td>\n      <td>0</td>\n      <td>...</td>\n      <td>1</td>\n      <td>0</td>\n      <td>0</td>\n      <td>0</td>\n      <td>45.0</td>\n      <td>0</td>\n      <td>0</td>\n      <td>1</td>\n      <td>0</td>\n      <td>0</td>\n    </tr>\n    <tr>\n      <th>3</th>\n      <td>2008.0</td>\n      <td>420.0</td>\n      <td>2007.0</td>\n      <td>6.0</td>\n      <td>0</td>\n      <td>0</td>\n      <td>0</td>\n      <td>0</td>\n      <td>0</td>\n      <td>0</td>\n      <td>...</td>\n      <td>1</td>\n      <td>0</td>\n      <td>0</td>\n      <td>0</td>\n      <td>33.8</td>\n      <td>0</td>\n      <td>0</td>\n      <td>0</td>\n      <td>1</td>\n      <td>0</td>\n    </tr>\n    <tr>\n      <th>4</th>\n      <td>2004.0</td>\n      <td>450.0</td>\n      <td>2004.0</td>\n      <td>3.0</td>\n      <td>0</td>\n      <td>0</td>\n      <td>0</td>\n      <td>0</td>\n      <td>0</td>\n      <td>0</td>\n      <td>...</td>\n      <td>1</td>\n      <td>0</td>\n      <td>0</td>\n      <td>0</td>\n      <td>24.0</td>\n      <td>0</td>\n      <td>0</td>\n      <td>0</td>\n      <td>1</td>\n      <td>0</td>\n    </tr>\n  </tbody>\n</table>\n<p>5 rows × 27 columns</p>\n</div>"
     },
     "metadata": {},
     "execution_count": 91
    }
   ],
   "source": [
    "train.head()"
   ]
  },
  {
   "cell_type": "markdown",
   "metadata": {},
   "source": [
    "# 14 가격(만원) price 11769 non-null float64\n",
    "\n",
    "- 이건 피쳐가 아니고 정답(레이블)"
   ]
  },
  {
   "cell_type": "markdown",
   "metadata": {},
   "source": [
    "# 종합"
   ]
  },
  {
   "cell_type": "code",
   "execution_count": 92,
   "metadata": {},
   "outputs": [
    {
     "output_type": "stream",
     "name": "stdout",
     "text": [
      "(11769, 27)\n(5789, 26)\n"
     ]
    }
   ],
   "source": [
    "print(train.shape)\n",
    "print(test.shape)"
   ]
  },
  {
   "cell_type": "markdown",
   "metadata": {},
   "source": [
    "# 데이터 나누기"
   ]
  },
  {
   "cell_type": "code",
   "execution_count": 93,
   "metadata": {},
   "outputs": [
    {
     "output_type": "stream",
     "name": "stdout",
     "text": [
      "(11769, 26)\n(11769,)\n(5789, 26)\n"
     ]
    }
   ],
   "source": [
    "X_train = train.drop('price', axis=1)\n",
    "Y_train = train['price']\n",
    "X_test = test.copy()\n",
    "\n",
    "print(X_train.shape)\n",
    "print(Y_train.shape)\n",
    "print(X_test.shape)"
   ]
  },
  {
   "cell_type": "code",
   "execution_count": 94,
   "metadata": {},
   "outputs": [],
   "source": [
    "from sklearn.linear_model import ElasticNet, Lasso,  BayesianRidge, LassoLarsIC\n",
    "from sklearn.ensemble import RandomForestRegressor,  GradientBoostingRegressor\n",
    "from sklearn.kernel_ridge import KernelRidge\n",
    "from sklearn.pipeline import make_pipeline\n",
    "from sklearn.preprocessing import RobustScaler\n",
    "from sklearn.base import BaseEstimator, TransformerMixin, RegressorMixin, clone\n",
    "from sklearn.model_selection import KFold, cross_val_score, train_test_split\n",
    "from sklearn.metrics import mean_squared_error\n",
    "from xgboost import XGBRegressor\n",
    "import xgboost as xgb\n",
    "import lightgbm as lgb\n",
    "from sklearn.svm import SVR\n",
    "from sklearn.ensemble import RandomForestRegressor\n",
    "from sklearn.datasets import make_regression\n",
    "from sklearn.model_selection import GridSearchCV"
   ]
  },
  {
   "cell_type": "code",
   "execution_count": 95,
   "metadata": {},
   "outputs": [],
   "source": [
    "n_folds = 10\n",
    "\n",
    "def rmsle_cv(model):\n",
    "    kf = KFold(n_folds, shuffle=True, random_state=42).get_n_splits(X_train.values)\n",
    "    rmse= np.sqrt(-cross_val_score(model, X_train.values, Y_train.values, scoring=\"neg_mean_squared_error\", cv = kf))\n",
    "    return(rmse)"
   ]
  },
  {
   "cell_type": "code",
   "execution_count": 96,
   "metadata": {},
   "outputs": [],
   "source": [
    "lasso = make_pipeline(RobustScaler(), Lasso(alpha =0.0005, random_state=3))"
   ]
  },
  {
   "cell_type": "code",
   "execution_count": 97,
   "metadata": {},
   "outputs": [],
   "source": [
    "ENet = make_pipeline(RobustScaler(), ElasticNet(alpha=0.0005, l1_ratio=.9, random_state=3))\n"
   ]
  },
  {
   "cell_type": "code",
   "execution_count": 98,
   "metadata": {},
   "outputs": [],
   "source": [
    "KRR = KernelRidge(alpha=0.6, kernel='polynomial', degree=2, coef0=2.5) #kernel = 'rbf' , 'sigmoid' "
   ]
  },
  {
   "cell_type": "code",
   "execution_count": 99,
   "metadata": {},
   "outputs": [],
   "source": [
    "GBoost = GradientBoostingRegressor(n_estimators=3000, learning_rate=0.05,\n",
    "                                   max_depth=4, max_features='sqrt',\n",
    "                                   min_samples_leaf=15, min_samples_split=10, \n",
    "                                   loss='huber', random_state =5)"
   ]
  },
  {
   "cell_type": "code",
   "execution_count": 100,
   "metadata": {},
   "outputs": [],
   "source": [
    "model_xgb = xgb.XGBRegressor(colsample_bytree=0.4603, gamma=0.0468, \n",
    "                             learning_rate=0.05, max_depth=3, \n",
    "                             min_child_weight=1.7817, n_estimators=2200,\n",
    "                             reg_alpha=0.4640, reg_lambda=0.8571,\n",
    "                             subsample=0.5213, silent=1,\n",
    "                             random_state =7, nthread = -1)"
   ]
  },
  {
   "cell_type": "code",
   "execution_count": 101,
   "metadata": {},
   "outputs": [],
   "source": [
    "model_lgb = lgb.LGBMRegressor(objective='regression',num_leaves=5,\n",
    "                              learning_rate=0.05, n_estimators=720,\n",
    "                              max_bin = 55, bagging_fraction = 0.8,\n",
    "                              bagging_freq = 5, feature_fraction = 0.2319,\n",
    "                              feature_fraction_seed=9, bagging_seed=9,\n",
    "                              min_data_in_leaf =6, min_sum_hessian_in_leaf = 11)"
   ]
  },
  {
   "cell_type": "code",
   "execution_count": 102,
   "metadata": {},
   "outputs": [],
   "source": [
    "model_svr = SVR(C=1, cache_size=200, coef0=0, degree=3, epsilon=0.0, gamma='auto', kernel='rbf', max_iter=-1, shrinking=True, tol=0.001, verbose=False)"
   ]
  },
  {
   "cell_type": "code",
   "execution_count": 103,
   "metadata": {},
   "outputs": [],
   "source": [
    "params = {'coef0':[0, 0.1, 0.5, 1], 'C' :[0.1, 0.2, 0.5, 1], 'epsilon':[i/10.0 for i in range(0,6)]}"
   ]
  },
  {
   "cell_type": "code",
   "execution_count": 104,
   "metadata": {},
   "outputs": [],
   "source": [
    "regr = RandomForestRegressor(bootstrap=True, criterion='mse', max_depth=None,\n",
    "           max_features=150, max_leaf_nodes=None,\n",
    "           min_impurity_decrease=0.0, min_impurity_split=None,\n",
    "           min_samples_leaf=1, min_samples_split=2,\n",
    "           min_weight_fraction_leaf=0.0, n_estimators=90, n_jobs=1,\n",
    "           oob_score=False, random_state=None, verbose=0, warm_start=False)"
   ]
  },
  {
   "cell_type": "code",
   "execution_count": 105,
   "metadata": {},
   "outputs": [],
   "source": [
    "param_grid = [\n",
    "    {'n_estimators': [3, 10, 30, 60, 90], 'max_features': [50,100,150,200,250,300]},\n",
    "    {'bootstrap': [True], 'n_estimators': [3, 10, 30, 60, 90], 'max_features': [50,100,150,200,250]},\n",
    "]"
   ]
  },
  {
   "cell_type": "code",
   "execution_count": 106,
   "metadata": {},
   "outputs": [
    {
     "output_type": "stream",
     "name": "stdout",
     "text": [
      "\nLasso score: 1131.6794 (844.3153)\n\n"
     ]
    }
   ],
   "source": [
    "score = rmsle_cv(lasso)\n",
    "print(\"\\nLasso score: {:.4f} ({:.4f})\\n\".format(score.mean(), score.std()))"
   ]
  },
  {
   "cell_type": "code",
   "execution_count": 107,
   "metadata": {},
   "outputs": [
    {
     "output_type": "stream",
     "name": "stdout",
     "text": [
      "ElasticNet score: 1131.3250 (844.4425)\n\n"
     ]
    }
   ],
   "source": [
    "score = rmsle_cv(ENet)\n",
    "print(\"ElasticNet score: {:.4f} ({:.4f})\\n\".format(score.mean(), score.std()))"
   ]
  },
  {
   "cell_type": "code",
   "execution_count": 96,
   "metadata": {},
   "outputs": [],
   "source": [
    "# score = rmsle_cv(KRR)\n",
    "# print(\"Kernel Ridge score: {:.4f} ({:.4f})\\n\".format(score.mean(), score.std()))"
   ]
  },
  {
   "cell_type": "code",
   "execution_count": 108,
   "metadata": {},
   "outputs": [
    {
     "output_type": "stream",
     "name": "stdout",
     "text": [
      "Gradient Boosting score: 929.1261 (886.4515)\n\n"
     ]
    }
   ],
   "source": [
    "score = rmsle_cv(GBoost)\n",
    "print(\"Gradient Boosting score: {:.4f} ({:.4f})\\n\".format(score.mean(), score.std()))"
   ]
  },
  {
   "cell_type": "code",
   "execution_count": 109,
   "metadata": {},
   "outputs": [
    {
     "output_type": "stream",
     "name": "stdout",
     "text": [
      "Xgboost score: 999.5109 (861.4094)\n\n"
     ]
    }
   ],
   "source": [
    "score = rmsle_cv(model_xgb)\n",
    "print(\"Xgboost score: {:.4f} ({:.4f})\\n\".format(score.mean(), score.std()))"
   ]
  },
  {
   "cell_type": "code",
   "execution_count": 110,
   "metadata": {},
   "outputs": [],
   "source": [
    "# score = rmsle_cv(model_lgb)\n",
    "# print(\"LGBM score: {:.4f} ({:.4f})\\n\" .format(score.mean(), score.std()))"
   ]
  },
  {
   "cell_type": "code",
   "execution_count": 111,
   "metadata": {},
   "outputs": [
    {
     "output_type": "stream",
     "name": "stdout",
     "text": [
      "SVR score: 1626.0520 (779.9771)\n\n"
     ]
    }
   ],
   "source": [
    "score = rmsle_cv(model_svr)\n",
    "print(\"SVR score: {:.4f} ({:.4f})\\n\" .format(score.mean(), score.std()))"
   ]
  },
  {
   "cell_type": "code",
   "execution_count": 112,
   "metadata": {},
   "outputs": [
    {
     "output_type": "stream",
     "name": "stdout",
     "text": [
      "RF score: nan (nan)\n\n"
     ]
    }
   ],
   "source": [
    "score = rmsle_cv(regr)\n",
    "print(\"RF score: {:.4f} ({:.4f})\\n\" .format(score.mean(), score.std()))"
   ]
  },
  {
   "source": [
    "# Prediction"
   ],
   "cell_type": "markdown",
   "metadata": {}
  },
  {
   "cell_type": "code",
   "execution_count": 113,
   "metadata": {},
   "outputs": [],
   "source": [
    "def rmsle(Y, Y_pred): \n",
    "    return np.sqrt(mean_squared_error(Y, Y_pred))"
   ]
  },
  {
   "cell_type": "code",
   "execution_count": 119,
   "metadata": {},
   "outputs": [
    {
     "output_type": "stream",
     "name": "stdout",
     "text": [
      "1191.839408164097\n"
     ]
    }
   ],
   "source": [
    "model_xgb.fit(X_train, Y_train)\n",
    "xgb_train_pred = model_xgb.predict(X_train)\n",
    "# xgb_pred = np.expm1(model_xgb.predict(X_test))\n",
    "xgb_pred = model_xgb.predict(X_test)\n",
    "print(rmsle(Y_train, xgb_train_pred))"
   ]
  },
  {
   "cell_type": "code",
   "execution_count": 117,
   "metadata": {},
   "outputs": [],
   "source": [
    "# model_lgb.fit(X_train, Y_train)\n",
    "# lgb_train_pred = model_lgb.predict(X_train)\n",
    "# lgb_pred = np.expm1(model_lgb.predict(X_test.values))\n",
    "# print(rmsle(Y_train, lgb_train_pred))"
   ]
  },
  {
   "cell_type": "code",
   "execution_count": 121,
   "metadata": {},
   "outputs": [
    {
     "output_type": "stream",
     "name": "stdout",
     "text": [
      "1251.2084114348754\n"
     ]
    }
   ],
   "source": [
    "GBoost.fit(X_train, Y_train)\n",
    "GB_train_pred = GBoost.predict(X_train)\n",
    "# GB_pred = np.expm1(GBoost.predict(X_test.values))\n",
    "GB_pred = GBoost.predict(X_test)\n",
    "print(rmsle(Y_train, GB_train_pred))"
   ]
  },
  {
   "cell_type": "code",
   "execution_count": 123,
   "metadata": {},
   "outputs": [
    {
     "output_type": "stream",
     "name": "stdout",
     "text": [
      "1802.0575946068993\n"
     ]
    }
   ],
   "source": [
    "model_svr.fit(X_train, Y_train)\n",
    "svr_train_pred = model_svr.predict(X_train)\n",
    "svr_pred = model_svr.predict(X_test)\n",
    "print(rmsle(Y_train, svr_train_pred))"
   ]
  },
  {
   "cell_type": "markdown",
   "metadata": {},
   "source": [
    "# Ensemble"
   ]
  },
  {
   "cell_type": "code",
   "execution_count": 122,
   "metadata": {},
   "outputs": [
    {
     "output_type": "execute_result",
     "data": {
      "text/plain": [
       "array([5455.40450124, 1116.23429809, 1212.28476405, ...,  743.73259282,\n",
       "       1233.57607498, 2737.94792082])"
      ]
     },
     "metadata": {},
     "execution_count": 122
    }
   ],
   "source": [
    "GB_pred"
   ]
  },
  {
   "cell_type": "code",
   "execution_count": 124,
   "metadata": {},
   "outputs": [],
   "source": [
    "ensemble = xgb_pred*0.25 + GB_pred*0.25 + svr_pred*0.5"
   ]
  },
  {
   "cell_type": "code",
   "execution_count": 125,
   "metadata": {},
   "outputs": [
    {
     "output_type": "execute_result",
     "data": {
      "text/plain": [
       "array([3758.1394174 , 1613.24957657, 1628.49052558, ..., 1314.04443834,\n",
       "       1433.68041875, 2295.95434945])"
      ]
     },
     "metadata": {},
     "execution_count": 125
    }
   ],
   "source": [
    "ensemble"
   ]
  },
  {
   "cell_type": "code",
   "execution_count": 126,
   "metadata": {},
   "outputs": [],
   "source": [
    "submission = pd.DataFrame({\n",
    "    \"no\": test_no,\n",
    "    \"가격(만원)\": ensemble\n",
    "})\n",
    "submission.to_csv('../output/ensemble.csv', index=False)"
   ]
  },
  {
   "cell_type": "code",
   "execution_count": null,
   "metadata": {},
   "outputs": [],
   "source": []
  }
 ],
 "metadata": {
  "kernelspec": {
   "name": "Python 3.6.12 64-bit ('deep-learning': conda)",
   "display_name": "Python 3.6.12 64-bit ('deep-learning': conda)",
   "metadata": {
    "interpreter": {
     "hash": "0660cee8b320e80289d534af46c095c4df7a330daf18e6895f30d4f53b8bb636"
    }
   }
  },
  "language_info": {
   "codemirror_mode": {
    "name": "ipython",
    "version": 3
   },
   "file_extension": ".py",
   "mimetype": "text/x-python",
   "name": "python",
   "nbconvert_exporter": "python",
   "pygments_lexer": "ipython3",
   "version": "3.6.12-final"
  }
 },
 "nbformat": 4,
 "nbformat_minor": 2
}