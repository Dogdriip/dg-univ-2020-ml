{
 "cells": [
  {
   "source": [
    "# v1.3\n",
    "\n",
    "- 데이터 정규화!\n",
    "- 모델!"
   ],
   "cell_type": "markdown",
   "metadata": {}
  },
  {
   "cell_type": "code",
   "execution_count": 606,
   "metadata": {},
   "outputs": [],
   "source": [
    "import pandas as pd\n",
    "import numpy as np\n",
    "\n",
    "import matplotlib.pyplot as plt\n",
    "import seaborn as sns\n",
    "sns.set_style('whitegrid')\n",
    "%matplotlib inline "
   ]
  },
  {
   "cell_type": "code",
   "execution_count": 607,
   "metadata": {},
   "outputs": [],
   "source": [
    "train = pd.read_csv('../input/train.csv')\n",
    "test = pd.read_csv('../input/test.csv')"
   ]
  },
  {
   "cell_type": "code",
   "execution_count": 608,
   "metadata": {},
   "outputs": [
    {
     "output_type": "stream",
     "name": "stdout",
     "text": [
      "(11769, 15)\n(5789, 13)\n"
     ]
    }
   ],
   "source": [
    "print(train.shape)\n",
    "print(test.shape)"
   ]
  },
  {
   "cell_type": "code",
   "execution_count": 609,
   "metadata": {},
   "outputs": [
    {
     "output_type": "execute_result",
     "data": {
      "text/plain": [
       "   no                                모델명           연월      연식   연료   주행거리  \\\n",
       "0   0        기아 더 뉴 K7 2.4 GDI 프레스티지 스페셜  12/12(13년형)  2013.0  가솔린   4만km   \n",
       "1   1          현대 YF쏘나타 2.0 Y20 LPi 프리미어        10/03  2010.0  LPG   9만km   \n",
       "2   2               현대 그랜져HG 220 디젤 프리미엄  14/09(15년형)  2015.0   디젤   3만km   \n",
       "3   3            쌍용 뉴카이런 2.0 LV5 2WD 고급형  07/06(08년형)  2008.0   디젤  16만km   \n",
       "4   4  현대 뉴스타렉스 점보 밴 TCI 3인승 GX 윈도우밴 일반형        04/03  2004.0   디젤  16만km   \n",
       "\n",
       "    인승  최대출력(마력)   기통  최대토크(kgm) 구동방식 자동수동 국산/수입  신차가(만원)  가격(만원)  \n",
       "0  NaN     201.0  4.0       25.5   FF  NaN    국산   3141.0  1870.0  \n",
       "1  NaN     157.0  NaN       20.0   FF  NaN    국산      NaN   700.0  \n",
       "2  NaN     202.0  4.0       45.0   FF  NaN    국산   3389.0  2990.0  \n",
       "3  NaN     151.0  4.0       33.8   FR  NaN    국산   2499.0   420.0  \n",
       "4  3.0     103.0  NaN       24.0   FR   수동    국산   1445.0   450.0  "
      ],
      "text/html": "<div>\n<style scoped>\n    .dataframe tbody tr th:only-of-type {\n        vertical-align: middle;\n    }\n\n    .dataframe tbody tr th {\n        vertical-align: top;\n    }\n\n    .dataframe thead th {\n        text-align: right;\n    }\n</style>\n<table border=\"1\" class=\"dataframe\">\n  <thead>\n    <tr style=\"text-align: right;\">\n      <th></th>\n      <th>no</th>\n      <th>모델명</th>\n      <th>연월</th>\n      <th>연식</th>\n      <th>연료</th>\n      <th>주행거리</th>\n      <th>인승</th>\n      <th>최대출력(마력)</th>\n      <th>기통</th>\n      <th>최대토크(kgm)</th>\n      <th>구동방식</th>\n      <th>자동수동</th>\n      <th>국산/수입</th>\n      <th>신차가(만원)</th>\n      <th>가격(만원)</th>\n    </tr>\n  </thead>\n  <tbody>\n    <tr>\n      <th>0</th>\n      <td>0</td>\n      <td>기아 더 뉴 K7 2.4 GDI 프레스티지 스페셜</td>\n      <td>12/12(13년형)</td>\n      <td>2013.0</td>\n      <td>가솔린</td>\n      <td>4만km</td>\n      <td>NaN</td>\n      <td>201.0</td>\n      <td>4.0</td>\n      <td>25.5</td>\n      <td>FF</td>\n      <td>NaN</td>\n      <td>국산</td>\n      <td>3141.0</td>\n      <td>1870.0</td>\n    </tr>\n    <tr>\n      <th>1</th>\n      <td>1</td>\n      <td>현대 YF쏘나타 2.0 Y20 LPi 프리미어</td>\n      <td>10/03</td>\n      <td>2010.0</td>\n      <td>LPG</td>\n      <td>9만km</td>\n      <td>NaN</td>\n      <td>157.0</td>\n      <td>NaN</td>\n      <td>20.0</td>\n      <td>FF</td>\n      <td>NaN</td>\n      <td>국산</td>\n      <td>NaN</td>\n      <td>700.0</td>\n    </tr>\n    <tr>\n      <th>2</th>\n      <td>2</td>\n      <td>현대 그랜져HG 220 디젤 프리미엄</td>\n      <td>14/09(15년형)</td>\n      <td>2015.0</td>\n      <td>디젤</td>\n      <td>3만km</td>\n      <td>NaN</td>\n      <td>202.0</td>\n      <td>4.0</td>\n      <td>45.0</td>\n      <td>FF</td>\n      <td>NaN</td>\n      <td>국산</td>\n      <td>3389.0</td>\n      <td>2990.0</td>\n    </tr>\n    <tr>\n      <th>3</th>\n      <td>3</td>\n      <td>쌍용 뉴카이런 2.0 LV5 2WD 고급형</td>\n      <td>07/06(08년형)</td>\n      <td>2008.0</td>\n      <td>디젤</td>\n      <td>16만km</td>\n      <td>NaN</td>\n      <td>151.0</td>\n      <td>4.0</td>\n      <td>33.8</td>\n      <td>FR</td>\n      <td>NaN</td>\n      <td>국산</td>\n      <td>2499.0</td>\n      <td>420.0</td>\n    </tr>\n    <tr>\n      <th>4</th>\n      <td>4</td>\n      <td>현대 뉴스타렉스 점보 밴 TCI 3인승 GX 윈도우밴 일반형</td>\n      <td>04/03</td>\n      <td>2004.0</td>\n      <td>디젤</td>\n      <td>16만km</td>\n      <td>3.0</td>\n      <td>103.0</td>\n      <td>NaN</td>\n      <td>24.0</td>\n      <td>FR</td>\n      <td>수동</td>\n      <td>국산</td>\n      <td>1445.0</td>\n      <td>450.0</td>\n    </tr>\n  </tbody>\n</table>\n</div>"
     },
     "metadata": {},
     "execution_count": 609
    }
   ],
   "source": [
    "train.head()"
   ]
  },
  {
   "cell_type": "code",
   "execution_count": 610,
   "metadata": {},
   "outputs": [
    {
     "output_type": "stream",
     "name": "stdout",
     "text": [
      "<class 'pandas.core.frame.DataFrame'>\nRangeIndex: 11769 entries, 0 to 11768\nData columns (total 15 columns):\n #   Column     Non-Null Count  Dtype  \n---  ------     --------------  -----  \n 0   no         11769 non-null  int64  \n 1   모델명        11769 non-null  object \n 2   연월         11769 non-null  object \n 3   연식         11769 non-null  float64\n 4   연료         11769 non-null  object \n 5   주행거리       11769 non-null  object \n 6   인승         765 non-null    float64\n 7   최대출력(마력)   10644 non-null  float64\n 8   기통         8698 non-null   float64\n 9   최대토크(kgm)  10545 non-null  float64\n 10  구동방식       10808 non-null  object \n 11  자동수동       1313 non-null   object \n 12  국산/수입      11769 non-null  object \n 13  신차가(만원)    9544 non-null   float64\n 14  가격(만원)     11769 non-null  float64\ndtypes: float64(7), int64(1), object(7)\nmemory usage: 1.3+ MB\n"
     ]
    }
   ],
   "source": [
    "train.info()"
   ]
  },
  {
   "cell_type": "code",
   "execution_count": 611,
   "metadata": {},
   "outputs": [
    {
     "output_type": "stream",
     "name": "stdout",
     "text": [
      "<class 'pandas.core.frame.DataFrame'>\nRangeIndex: 5789 entries, 0 to 5788\nData columns (total 13 columns):\n #   Column     Non-Null Count  Dtype  \n---  ------     --------------  -----  \n 0   no         5789 non-null   int64  \n 1   모델명        5789 non-null   object \n 2   연월         5789 non-null   object \n 3   연식         5789 non-null   float64\n 4   연료         5789 non-null   object \n 5   주행거리       5789 non-null   object \n 6   인승         389 non-null    float64\n 7   최대출력(마력)   5237 non-null   float64\n 8   기통         4275 non-null   float64\n 9   최대토크(kgm)  5183 non-null   float64\n 10  구동방식       5312 non-null   object \n 11  자동수동       665 non-null    object \n 12  국산/수입      5789 non-null   object \ndtypes: float64(5), int64(1), object(7)\nmemory usage: 588.1+ KB\n"
     ]
    }
   ],
   "source": [
    "test.info()"
   ]
  },
  {
   "source": [
    "# Column name 영어로 모두 바꾸기"
   ],
   "cell_type": "markdown",
   "metadata": {}
  },
  {
   "cell_type": "code",
   "execution_count": 612,
   "metadata": {},
   "outputs": [],
   "source": [
    "train.columns = ['no', 'modelname', 'ym', 'yeartype', 'fuel', 'dist', 'people', 'power', 'cylinder', 'torque', 'type', 'mission', 'country', 'newprice', 'price']\n",
    "test.columns = ['no', 'modelname', 'ym', 'yeartype', 'fuel', 'dist', 'people', 'power', 'cylinder', 'torque', 'type', 'mission', 'country']"
   ]
  },
  {
   "cell_type": "code",
   "execution_count": 613,
   "metadata": {},
   "outputs": [
    {
     "output_type": "stream",
     "name": "stdout",
     "text": [
      "<class 'pandas.core.frame.DataFrame'>\nRangeIndex: 11769 entries, 0 to 11768\nData columns (total 15 columns):\n #   Column     Non-Null Count  Dtype  \n---  ------     --------------  -----  \n 0   no         11769 non-null  int64  \n 1   modelname  11769 non-null  object \n 2   ym         11769 non-null  object \n 3   yeartype   11769 non-null  float64\n 4   fuel       11769 non-null  object \n 5   dist       11769 non-null  object \n 6   people     765 non-null    float64\n 7   power      10644 non-null  float64\n 8   cylinder   8698 non-null   float64\n 9   torque     10545 non-null  float64\n 10  type       10808 non-null  object \n 11  mission    1313 non-null   object \n 12  country    11769 non-null  object \n 13  newprice   9544 non-null   float64\n 14  price      11769 non-null  float64\ndtypes: float64(7), int64(1), object(7)\nmemory usage: 1.3+ MB\n"
     ]
    }
   ],
   "source": [
    "train.info()"
   ]
  },
  {
   "cell_type": "code",
   "execution_count": 614,
   "metadata": {},
   "outputs": [
    {
     "output_type": "stream",
     "name": "stdout",
     "text": [
      "<class 'pandas.core.frame.DataFrame'>\nRangeIndex: 5789 entries, 0 to 5788\nData columns (total 13 columns):\n #   Column     Non-Null Count  Dtype  \n---  ------     --------------  -----  \n 0   no         5789 non-null   int64  \n 1   modelname  5789 non-null   object \n 2   ym         5789 non-null   object \n 3   yeartype   5789 non-null   float64\n 4   fuel       5789 non-null   object \n 5   dist       5789 non-null   object \n 6   people     389 non-null    float64\n 7   power      5237 non-null   float64\n 8   cylinder   4275 non-null   float64\n 9   torque     5183 non-null   float64\n 10  type       5312 non-null   object \n 11  mission    665 non-null    object \n 12  country    5789 non-null   object \ndtypes: float64(5), int64(1), object(7)\nmemory usage: 588.1+ KB\n"
     ]
    }
   ],
   "source": [
    "test.info()"
   ]
  },
  {
   "cell_type": "code",
   "execution_count": 615,
   "metadata": {},
   "outputs": [],
   "source": [
    "# sns.heatmap(train.isnull(), cbar=False)"
   ]
  },
  {
   "cell_type": "code",
   "execution_count": 616,
   "metadata": {},
   "outputs": [],
   "source": [
    "# sns.heatmap(test.isnull(), cbar=False)"
   ]
  },
  {
   "cell_type": "code",
   "execution_count": 617,
   "metadata": {},
   "outputs": [],
   "source": [
    "train_no = train['no']\n",
    "test_no = test['no']\n",
    "train = train.drop(['no'], axis=1)\n",
    "test = test.drop(['no'], axis=1)"
   ]
  },
  {
   "cell_type": "markdown",
   "metadata": {},
   "source": [
    "# 이제 하나씩 처리하자\n",
    "```\n",
    "0   no         11769 non-null  int64    \n",
    "1   모델명        11769 non-null  object   \n",
    "2   연월         11769 non-null  object   \n",
    "3   연식         11769 non-null  float64  \n",
    "4   연료         11769 non-null  object   \n",
    "5   주행거리       11769 non-null  object   \n",
    "6   인승         765 non-null    float64  \n",
    "7   최대출력(마력)   10644 non-null  float64  \n",
    "8   기통         8698 non-null   float64  \n",
    "9   최대토크(kgm)  10545 non-null  float64  \n",
    "10  구동방식       10808 non-null  object   \n",
    "11  자동수동       1313 non-null   object   \n",
    "12  국산/수입      11769 non-null  object   \n",
    "13  신차가(만원)    9544 non-null   float64  \n",
    "14  가격(만원)     11769 non-null  float64  \n",
    "```\n",
    "\n",
    "```\n",
    "0   no         11769 non-null  int64  \n",
    "1   modelname  11769 non-null  object \n",
    "2   ym         11769 non-null  object \n",
    "3   yeartype   11769 non-null  float64\n",
    "4   fuel       11769 non-null  object \n",
    "5   dist       11769 non-null  object \n",
    "6   people     765 non-null    float64\n",
    "7   power      10644 non-null  float64\n",
    "8   cylinder   8698 non-null   float64\n",
    "9   torque     10545 non-null  float64\n",
    "10  type       10808 non-null  object \n",
    "11  mission    1313 non-null   object \n",
    "12  country    11769 non-null  object \n",
    "13  newprice   9544 non-null   float64\n",
    "14  price      11769 non-null  float64\n",
    "```"
   ]
  },
  {
   "cell_type": "markdown",
   "metadata": {},
   "source": [
    "# 1 모델명 modelname 11769 non-null object\n",
    "\n",
    "- 역시 이번에도 모델명은 날리자"
   ]
  },
  {
   "cell_type": "code",
   "execution_count": 618,
   "metadata": {},
   "outputs": [
    {
     "output_type": "stream",
     "name": "stdout",
     "text": [
      "(11769, 13)\n(5789, 11)\n"
     ]
    }
   ],
   "source": [
    "train = train.drop(['modelname'], axis=1)\n",
    "test = test.drop(['modelname'], axis=1)\n",
    "\n",
    "print(train.shape)\n",
    "print(test.shape)"
   ]
  },
  {
   "cell_type": "markdown",
   "metadata": {},
   "source": [
    "# 2 연월 ym 11769 non-null object\n",
    "\n",
    "- 생각해보면, 그리고 데이터 명세 다시 보니까,\n",
    "- 어차피 연식(yeartype)에 있는 정보다\n",
    "- 이거 날리자"
   ]
  },
  {
   "cell_type": "code",
   "execution_count": 619,
   "metadata": {},
   "outputs": [
    {
     "output_type": "stream",
     "name": "stdout",
     "text": [
      "(11769, 12)\n(5789, 10)\n"
     ]
    }
   ],
   "source": [
    "train = train.drop(['ym'], axis=1)\n",
    "test = test.drop(['ym'], axis=1)\n",
    "\n",
    "print(train.shape)\n",
    "print(test.shape)"
   ]
  },
  {
   "cell_type": "markdown",
   "metadata": {},
   "source": [
    "# 3 연식 yeartype 11769 non-null float64\n",
    "\n",
    "건들지 말자"
   ]
  },
  {
   "cell_type": "markdown",
   "metadata": {},
   "source": [
    "# 4 연료 fuel 11769 non-null object\n",
    "\n",
    "- 범주형\n",
    "- 이거 생각 좀 해보자\n",
    "- 그냥 큰 범주로 산입할까?"
   ]
  },
  {
   "cell_type": "code",
   "execution_count": 620,
   "metadata": {},
   "outputs": [],
   "source": [
    "train_fuel = train['fuel']\n",
    "test_fuel = test['fuel']"
   ]
  },
  {
   "cell_type": "code",
   "execution_count": 621,
   "metadata": {},
   "outputs": [
    {
     "output_type": "stream",
     "name": "stdout",
     "text": [
      "가솔린          6671\n디젤           3967\nLPG           934\n가솔린+전기         79\n가솔린/LPG겸용      41\n기타             32\n전기             24\nLPG+전기         14\n가솔린/CNG겸용       4\nCNG             2\n수소              1\nName: fuel, dtype: int64\n\n가솔린          3280\n디젤           1932\nLPG           469\n가솔린+전기         34\n가솔린/LPG겸용      33\n전기             19\n기타             11\nLPG+전기          8\nCNG             2\n가솔린/CNG겸용       1\nName: fuel, dtype: int64\n"
     ]
    }
   ],
   "source": [
    "print(train_fuel.value_counts())\n",
    "print()\n",
    "print(test_fuel.value_counts())"
   ]
  },
  {
   "source": [
    "## 산입\n",
    "\n",
    "- 일단 그냥 수소만 기타로 갖다박을까?\n",
    "\n"
   ],
   "cell_type": "markdown",
   "metadata": {}
  },
  {
   "cell_type": "code",
   "execution_count": 622,
   "metadata": {},
   "outputs": [],
   "source": [
    "train_fuel = train_fuel.replace('수소', '기타')"
   ]
  },
  {
   "cell_type": "code",
   "execution_count": 623,
   "metadata": {},
   "outputs": [
    {
     "output_type": "execute_result",
     "data": {
      "text/plain": [
       "가솔린          6671\n",
       "디젤           3967\n",
       "LPG           934\n",
       "가솔린+전기         79\n",
       "가솔린/LPG겸용      41\n",
       "기타             33\n",
       "전기             24\n",
       "LPG+전기         14\n",
       "가솔린/CNG겸용       4\n",
       "CNG             2\n",
       "Name: fuel, dtype: int64"
      ]
     },
     "metadata": {},
     "execution_count": 623
    }
   ],
   "source": [
    "train_fuel.value_counts()"
   ]
  },
  {
   "cell_type": "code",
   "execution_count": 624,
   "metadata": {},
   "outputs": [],
   "source": [
    "train_fuel_dummies = pd.get_dummies(train_fuel)\n",
    "test_fuel_dummies = pd.get_dummies(test_fuel)\n",
    "\n",
    "train_fuel_dummies = train_fuel_dummies.add_prefix('fuel_')\n",
    "test_fuel_dummies = test_fuel_dummies.add_prefix('fuel_')\n",
    "\n",
    "train = train.drop(['fuel'], axis=1)\n",
    "test = test.drop(['fuel'], axis=1)\n",
    "\n",
    "train = train.join(train_fuel_dummies)\n",
    "test = test.join(test_fuel_dummies)"
   ]
  },
  {
   "cell_type": "code",
   "execution_count": 625,
   "metadata": {},
   "outputs": [
    {
     "output_type": "execute_result",
     "data": {
      "text/plain": [
       "   yeartype   dist  people  power  cylinder  torque type mission country  \\\n",
       "0    2013.0   4만km     NaN  201.0       4.0    25.5   FF     NaN      국산   \n",
       "1    2010.0   9만km     NaN  157.0       NaN    20.0   FF     NaN      국산   \n",
       "2    2015.0   3만km     NaN  202.0       4.0    45.0   FF     NaN      국산   \n",
       "3    2008.0  16만km     NaN  151.0       4.0    33.8   FR     NaN      국산   \n",
       "4    2004.0  16만km     3.0  103.0       NaN    24.0   FR      수동      국산   \n",
       "\n",
       "   newprice  ...  fuel_CNG  fuel_LPG  fuel_LPG+전기  fuel_가솔린  fuel_가솔린+전기  \\\n",
       "0    3141.0  ...         0         0            0         1            0   \n",
       "1       NaN  ...         0         1            0         0            0   \n",
       "2    3389.0  ...         0         0            0         0            0   \n",
       "3    2499.0  ...         0         0            0         0            0   \n",
       "4    1445.0  ...         0         0            0         0            0   \n",
       "\n",
       "   fuel_가솔린/CNG겸용  fuel_가솔린/LPG겸용  fuel_기타  fuel_디젤  fuel_전기  \n",
       "0               0               0        0        0        0  \n",
       "1               0               0        0        0        0  \n",
       "2               0               0        0        1        0  \n",
       "3               0               0        0        1        0  \n",
       "4               0               0        0        1        0  \n",
       "\n",
       "[5 rows x 21 columns]"
      ],
      "text/html": "<div>\n<style scoped>\n    .dataframe tbody tr th:only-of-type {\n        vertical-align: middle;\n    }\n\n    .dataframe tbody tr th {\n        vertical-align: top;\n    }\n\n    .dataframe thead th {\n        text-align: right;\n    }\n</style>\n<table border=\"1\" class=\"dataframe\">\n  <thead>\n    <tr style=\"text-align: right;\">\n      <th></th>\n      <th>yeartype</th>\n      <th>dist</th>\n      <th>people</th>\n      <th>power</th>\n      <th>cylinder</th>\n      <th>torque</th>\n      <th>type</th>\n      <th>mission</th>\n      <th>country</th>\n      <th>newprice</th>\n      <th>...</th>\n      <th>fuel_CNG</th>\n      <th>fuel_LPG</th>\n      <th>fuel_LPG+전기</th>\n      <th>fuel_가솔린</th>\n      <th>fuel_가솔린+전기</th>\n      <th>fuel_가솔린/CNG겸용</th>\n      <th>fuel_가솔린/LPG겸용</th>\n      <th>fuel_기타</th>\n      <th>fuel_디젤</th>\n      <th>fuel_전기</th>\n    </tr>\n  </thead>\n  <tbody>\n    <tr>\n      <th>0</th>\n      <td>2013.0</td>\n      <td>4만km</td>\n      <td>NaN</td>\n      <td>201.0</td>\n      <td>4.0</td>\n      <td>25.5</td>\n      <td>FF</td>\n      <td>NaN</td>\n      <td>국산</td>\n      <td>3141.0</td>\n      <td>...</td>\n      <td>0</td>\n      <td>0</td>\n      <td>0</td>\n      <td>1</td>\n      <td>0</td>\n      <td>0</td>\n      <td>0</td>\n      <td>0</td>\n      <td>0</td>\n      <td>0</td>\n    </tr>\n    <tr>\n      <th>1</th>\n      <td>2010.0</td>\n      <td>9만km</td>\n      <td>NaN</td>\n      <td>157.0</td>\n      <td>NaN</td>\n      <td>20.0</td>\n      <td>FF</td>\n      <td>NaN</td>\n      <td>국산</td>\n      <td>NaN</td>\n      <td>...</td>\n      <td>0</td>\n      <td>1</td>\n      <td>0</td>\n      <td>0</td>\n      <td>0</td>\n      <td>0</td>\n      <td>0</td>\n      <td>0</td>\n      <td>0</td>\n      <td>0</td>\n    </tr>\n    <tr>\n      <th>2</th>\n      <td>2015.0</td>\n      <td>3만km</td>\n      <td>NaN</td>\n      <td>202.0</td>\n      <td>4.0</td>\n      <td>45.0</td>\n      <td>FF</td>\n      <td>NaN</td>\n      <td>국산</td>\n      <td>3389.0</td>\n      <td>...</td>\n      <td>0</td>\n      <td>0</td>\n      <td>0</td>\n      <td>0</td>\n      <td>0</td>\n      <td>0</td>\n      <td>0</td>\n      <td>0</td>\n      <td>1</td>\n      <td>0</td>\n    </tr>\n    <tr>\n      <th>3</th>\n      <td>2008.0</td>\n      <td>16만km</td>\n      <td>NaN</td>\n      <td>151.0</td>\n      <td>4.0</td>\n      <td>33.8</td>\n      <td>FR</td>\n      <td>NaN</td>\n      <td>국산</td>\n      <td>2499.0</td>\n      <td>...</td>\n      <td>0</td>\n      <td>0</td>\n      <td>0</td>\n      <td>0</td>\n      <td>0</td>\n      <td>0</td>\n      <td>0</td>\n      <td>0</td>\n      <td>1</td>\n      <td>0</td>\n    </tr>\n    <tr>\n      <th>4</th>\n      <td>2004.0</td>\n      <td>16만km</td>\n      <td>3.0</td>\n      <td>103.0</td>\n      <td>NaN</td>\n      <td>24.0</td>\n      <td>FR</td>\n      <td>수동</td>\n      <td>국산</td>\n      <td>1445.0</td>\n      <td>...</td>\n      <td>0</td>\n      <td>0</td>\n      <td>0</td>\n      <td>0</td>\n      <td>0</td>\n      <td>0</td>\n      <td>0</td>\n      <td>0</td>\n      <td>1</td>\n      <td>0</td>\n    </tr>\n  </tbody>\n</table>\n<p>5 rows × 21 columns</p>\n</div>"
     },
     "metadata": {},
     "execution_count": 625
    }
   ],
   "source": [
    "train.head()\n",
    "\n",
    "\n"
   ]
  },
  {
   "cell_type": "code",
   "execution_count": 626,
   "metadata": {},
   "outputs": [
    {
     "output_type": "stream",
     "name": "stdout",
     "text": [
      "(11769, 21)\n(5789, 19)\n"
     ]
    }
   ],
   "source": [
    "print(train.shape)\n",
    "print(test.shape)"
   ]
  },
  {
   "cell_type": "markdown",
   "metadata": {},
   "source": [
    "# 5 주행거리 dist 11769 non-null object\n",
    "\n",
    "- %d만{km|ml}\n",
    "- 중간중간에 '등록'이라고 되어있는 게 있다\n",
    "- 평균으로 채워야 한다\n",
    "- 평균을 구하려면 일단 수치를 모두 구해야 한다\n",
    "- 등록은 스킵해야 하네 "
   ]
  },
  {
   "cell_type": "code",
   "execution_count": 627,
   "metadata": {},
   "outputs": [
    {
     "output_type": "execute_result",
     "data": {
      "text/plain": [
       "0     4만km\n",
       "1     9만km\n",
       "2     3만km\n",
       "3    16만km\n",
       "4    16만km\n",
       "Name: dist, dtype: object"
      ]
     },
     "metadata": {},
     "execution_count": 627
    }
   ],
   "source": [
    "train_dist = train['dist']\n",
    "test_dist = test['dist']\n",
    "\n",
    "train_dist.head()"
   ]
  },
  {
   "cell_type": "code",
   "execution_count": 628,
   "metadata": {},
   "outputs": [],
   "source": [
    "def preprocess_dist(x):\n",
    "    # '등록'은 나중에 평균으로 채울 거임\n",
    "    if x == '등록':\n",
    "        return None\n",
    "\n",
    "    if x[-2:] == 'km':\n",
    "        # kilometer\n",
    "        x = x.split('km')[0]\n",
    "        weight = 1\n",
    "    else:\n",
    "        # mile\n",
    "        assert x[-2:] == 'ml'\n",
    "        x = x.split('ml')[0]\n",
    "        weight = 1.609344\n",
    "\n",
    "    if x[-1] == '만':\n",
    "        x = float(x.split('만')[0]) * 10000\n",
    "    elif x[-1] == '천':\n",
    "        x = float(x.split('천')[0]) * 1000\n",
    "\n",
    "    return float(x * weight)\n"
   ]
  },
  {
   "cell_type": "code",
   "execution_count": 629,
   "metadata": {},
   "outputs": [
    {
     "output_type": "execute_result",
     "data": {
      "text/plain": [
       "0         40000.0\n",
       "1         90000.0\n",
       "2         30000.0\n",
       "3        160000.0\n",
       "4        160000.0\n",
       "           ...   \n",
       "11764    110000.0\n",
       "11765      5000.0\n",
       "11766       230.0\n",
       "11767      9000.0\n",
       "11768      3000.0\n",
       "Name: dist, Length: 11769, dtype: float64"
      ]
     },
     "metadata": {},
     "execution_count": 629
    }
   ],
   "source": [
    "train_dist = train_dist.apply(preprocess_dist)\n",
    "test_dist = test_dist.apply(preprocess_dist)\n",
    "\n",
    "train_dist"
   ]
  },
  {
   "cell_type": "code",
   "execution_count": 630,
   "metadata": {},
   "outputs": [
    {
     "output_type": "execute_result",
     "data": {
      "text/plain": [
       "29"
      ]
     },
     "metadata": {},
     "execution_count": 630
    }
   ],
   "source": [
    "# 등록 처리\n",
    "train_dist.isna().sum()"
   ]
  },
  {
   "cell_type": "code",
   "execution_count": 631,
   "metadata": {},
   "outputs": [],
   "source": [
    "train_dist = train_dist.fillna(train_dist.mean())\n",
    "test_dist = test_dist.fillna(test_dist.mean())"
   ]
  },
  {
   "cell_type": "code",
   "execution_count": 632,
   "metadata": {},
   "outputs": [
    {
     "output_type": "execute_result",
     "data": {
      "text/plain": [
       "0"
      ]
     },
     "metadata": {},
     "execution_count": 632
    }
   ],
   "source": [
    "train_dist.isna().sum()"
   ]
  },
  {
   "cell_type": "code",
   "execution_count": 633,
   "metadata": {},
   "outputs": [],
   "source": [
    "train = train.drop(['dist'], axis=1)\n",
    "test = test.drop(['dist'], axis=1)\n",
    "\n",
    "train_dist.name = 'dist'\n",
    "test_dist.name = 'dist'\n",
    "\n",
    "train = train.join(train_dist)\n",
    "test = test.join(test_dist)"
   ]
  },
  {
   "cell_type": "code",
   "execution_count": 634,
   "metadata": {},
   "outputs": [
    {
     "output_type": "execute_result",
     "data": {
      "text/plain": [
       "   yeartype  people  power  cylinder  torque type mission country  newprice  \\\n",
       "0    2013.0     NaN  201.0       4.0    25.5   FF     NaN      국산    3141.0   \n",
       "1    2010.0     NaN  157.0       NaN    20.0   FF     NaN      국산       NaN   \n",
       "2    2015.0     NaN  202.0       4.0    45.0   FF     NaN      국산    3389.0   \n",
       "3    2008.0     NaN  151.0       4.0    33.8   FR     NaN      국산    2499.0   \n",
       "4    2004.0     3.0  103.0       NaN    24.0   FR      수동      국산    1445.0   \n",
       "\n",
       "    price  ...  fuel_LPG  fuel_LPG+전기  fuel_가솔린  fuel_가솔린+전기  fuel_가솔린/CNG겸용  \\\n",
       "0  1870.0  ...         0            0         1            0               0   \n",
       "1   700.0  ...         1            0         0            0               0   \n",
       "2  2990.0  ...         0            0         0            0               0   \n",
       "3   420.0  ...         0            0         0            0               0   \n",
       "4   450.0  ...         0            0         0            0               0   \n",
       "\n",
       "   fuel_가솔린/LPG겸용  fuel_기타  fuel_디젤  fuel_전기      dist  \n",
       "0               0        0        0        0   40000.0  \n",
       "1               0        0        0        0   90000.0  \n",
       "2               0        0        1        0   30000.0  \n",
       "3               0        0        1        0  160000.0  \n",
       "4               0        0        1        0  160000.0  \n",
       "\n",
       "[5 rows x 21 columns]"
      ],
      "text/html": "<div>\n<style scoped>\n    .dataframe tbody tr th:only-of-type {\n        vertical-align: middle;\n    }\n\n    .dataframe tbody tr th {\n        vertical-align: top;\n    }\n\n    .dataframe thead th {\n        text-align: right;\n    }\n</style>\n<table border=\"1\" class=\"dataframe\">\n  <thead>\n    <tr style=\"text-align: right;\">\n      <th></th>\n      <th>yeartype</th>\n      <th>people</th>\n      <th>power</th>\n      <th>cylinder</th>\n      <th>torque</th>\n      <th>type</th>\n      <th>mission</th>\n      <th>country</th>\n      <th>newprice</th>\n      <th>price</th>\n      <th>...</th>\n      <th>fuel_LPG</th>\n      <th>fuel_LPG+전기</th>\n      <th>fuel_가솔린</th>\n      <th>fuel_가솔린+전기</th>\n      <th>fuel_가솔린/CNG겸용</th>\n      <th>fuel_가솔린/LPG겸용</th>\n      <th>fuel_기타</th>\n      <th>fuel_디젤</th>\n      <th>fuel_전기</th>\n      <th>dist</th>\n    </tr>\n  </thead>\n  <tbody>\n    <tr>\n      <th>0</th>\n      <td>2013.0</td>\n      <td>NaN</td>\n      <td>201.0</td>\n      <td>4.0</td>\n      <td>25.5</td>\n      <td>FF</td>\n      <td>NaN</td>\n      <td>국산</td>\n      <td>3141.0</td>\n      <td>1870.0</td>\n      <td>...</td>\n      <td>0</td>\n      <td>0</td>\n      <td>1</td>\n      <td>0</td>\n      <td>0</td>\n      <td>0</td>\n      <td>0</td>\n      <td>0</td>\n      <td>0</td>\n      <td>40000.0</td>\n    </tr>\n    <tr>\n      <th>1</th>\n      <td>2010.0</td>\n      <td>NaN</td>\n      <td>157.0</td>\n      <td>NaN</td>\n      <td>20.0</td>\n      <td>FF</td>\n      <td>NaN</td>\n      <td>국산</td>\n      <td>NaN</td>\n      <td>700.0</td>\n      <td>...</td>\n      <td>1</td>\n      <td>0</td>\n      <td>0</td>\n      <td>0</td>\n      <td>0</td>\n      <td>0</td>\n      <td>0</td>\n      <td>0</td>\n      <td>0</td>\n      <td>90000.0</td>\n    </tr>\n    <tr>\n      <th>2</th>\n      <td>2015.0</td>\n      <td>NaN</td>\n      <td>202.0</td>\n      <td>4.0</td>\n      <td>45.0</td>\n      <td>FF</td>\n      <td>NaN</td>\n      <td>국산</td>\n      <td>3389.0</td>\n      <td>2990.0</td>\n      <td>...</td>\n      <td>0</td>\n      <td>0</td>\n      <td>0</td>\n      <td>0</td>\n      <td>0</td>\n      <td>0</td>\n      <td>0</td>\n      <td>1</td>\n      <td>0</td>\n      <td>30000.0</td>\n    </tr>\n    <tr>\n      <th>3</th>\n      <td>2008.0</td>\n      <td>NaN</td>\n      <td>151.0</td>\n      <td>4.0</td>\n      <td>33.8</td>\n      <td>FR</td>\n      <td>NaN</td>\n      <td>국산</td>\n      <td>2499.0</td>\n      <td>420.0</td>\n      <td>...</td>\n      <td>0</td>\n      <td>0</td>\n      <td>0</td>\n      <td>0</td>\n      <td>0</td>\n      <td>0</td>\n      <td>0</td>\n      <td>1</td>\n      <td>0</td>\n      <td>160000.0</td>\n    </tr>\n    <tr>\n      <th>4</th>\n      <td>2004.0</td>\n      <td>3.0</td>\n      <td>103.0</td>\n      <td>NaN</td>\n      <td>24.0</td>\n      <td>FR</td>\n      <td>수동</td>\n      <td>국산</td>\n      <td>1445.0</td>\n      <td>450.0</td>\n      <td>...</td>\n      <td>0</td>\n      <td>0</td>\n      <td>0</td>\n      <td>0</td>\n      <td>0</td>\n      <td>0</td>\n      <td>0</td>\n      <td>1</td>\n      <td>0</td>\n      <td>160000.0</td>\n    </tr>\n  </tbody>\n</table>\n<p>5 rows × 21 columns</p>\n</div>"
     },
     "metadata": {},
     "execution_count": 634
    }
   ],
   "source": [
    "train.head()"
   ]
  },
  {
   "cell_type": "markdown",
   "metadata": {},
   "source": [
    "# 6 인승 people 765 non-null float64\n",
    "\n",
    "- 결측치가 많긴 한데, 일반화해볼 수 있을까?\n",
    "- 없는 수치는 그냥 4인승 정도고, 특별한 수치만 기록되어있는 거 아닐까?\n",
    "- 카테고리를 찍어보자"
   ]
  },
  {
   "cell_type": "code",
   "execution_count": 635,
   "metadata": {},
   "outputs": [],
   "source": [
    "train_people = train['people']\n",
    "test_people = test['people']"
   ]
  },
  {
   "cell_type": "code",
   "execution_count": 636,
   "metadata": {},
   "outputs": [
    {
     "output_type": "stream",
     "name": "stdout",
     "text": [
      "5.0     327\n4.0     232\n3.0      76\n2.0      67\n7.0      20\n15.0     17\n6.0       9\n12.0      5\n9.0       4\n14.0      4\n46.0      2\n11.0      1\n18.0      1\nName: people, dtype: int64\n\n5.0     176\n4.0     110\n2.0      38\n3.0      38\n6.0       9\n15.0      4\n14.0      3\n7.0       3\n9.0       3\n12.0      2\n16.0      2\n11.0      1\nName: people, dtype: int64\n"
     ]
    }
   ],
   "source": [
    "print(train_people.value_counts())\n",
    "print()\n",
    "print(test_people.value_counts())"
   ]
  },
  {
   "source": [
    "- 못 살릴듯.. 그냥 드랍하자"
   ],
   "cell_type": "markdown",
   "metadata": {}
  },
  {
   "cell_type": "code",
   "execution_count": 637,
   "metadata": {},
   "outputs": [],
   "source": [
    "train = train.drop(['people'], axis=1)\n",
    "test = test.drop(['people'], axis=1)"
   ]
  },
  {
   "cell_type": "markdown",
   "metadata": {},
   "source": [
    "# 7 최대출력(마력) power 10644 non-null float64\n",
    "\n",
    "- 결측치만 채워서 그대로 쓰자"
   ]
  },
  {
   "cell_type": "code",
   "execution_count": 638,
   "metadata": {},
   "outputs": [
    {
     "output_type": "execute_result",
     "data": {
      "text/plain": [
       "0        201.0\n",
       "1        157.0\n",
       "2        202.0\n",
       "3        151.0\n",
       "4        103.0\n",
       "         ...  \n",
       "11764    210.0\n",
       "11765      NaN\n",
       "11766    370.0\n",
       "11767    425.0\n",
       "11768    425.0\n",
       "Name: power, Length: 11769, dtype: float64"
      ]
     },
     "metadata": {},
     "execution_count": 638
    }
   ],
   "source": [
    "train_power = train['power']\n",
    "test_power = test['power']\n",
    "\n",
    "train_power"
   ]
  },
  {
   "cell_type": "code",
   "execution_count": 639,
   "metadata": {},
   "outputs": [
    {
     "output_type": "execute_result",
     "data": {
      "text/plain": [
       "1125"
      ]
     },
     "metadata": {},
     "execution_count": 639
    }
   ],
   "source": [
    "train_power.isna().sum()"
   ]
  },
  {
   "cell_type": "code",
   "execution_count": 640,
   "metadata": {},
   "outputs": [],
   "source": [
    "train_power = train_power.fillna(train_power.mean())\n",
    "test_power = test_power.fillna(test_power.mean())"
   ]
  },
  {
   "cell_type": "code",
   "execution_count": 641,
   "metadata": {},
   "outputs": [
    {
     "output_type": "execute_result",
     "data": {
      "text/plain": [
       "0"
      ]
     },
     "metadata": {},
     "execution_count": 641
    }
   ],
   "source": [
    "train_power.isna().sum()"
   ]
  },
  {
   "cell_type": "code",
   "execution_count": 642,
   "metadata": {},
   "outputs": [],
   "source": [
    "train = train.drop(['power'], axis=1)\n",
    "test = test.drop(['power'], axis=1)\n",
    "\n",
    "train = train.join(train_power)\n",
    "test = test.join(test_power)"
   ]
  },
  {
   "cell_type": "code",
   "execution_count": 643,
   "metadata": {},
   "outputs": [
    {
     "output_type": "execute_result",
     "data": {
      "text/plain": [
       "   yeartype  cylinder  torque type mission country  newprice   price  \\\n",
       "0    2013.0       4.0    25.5   FF     NaN      국산    3141.0  1870.0   \n",
       "1    2010.0       NaN    20.0   FF     NaN      국산       NaN   700.0   \n",
       "2    2015.0       4.0    45.0   FF     NaN      국산    3389.0  2990.0   \n",
       "3    2008.0       4.0    33.8   FR     NaN      국산    2499.0   420.0   \n",
       "4    2004.0       NaN    24.0   FR      수동      국산    1445.0   450.0   \n",
       "\n",
       "   fuel_CNG  fuel_LPG  fuel_LPG+전기  fuel_가솔린  fuel_가솔린+전기  fuel_가솔린/CNG겸용  \\\n",
       "0         0         0            0         1            0               0   \n",
       "1         0         1            0         0            0               0   \n",
       "2         0         0            0         0            0               0   \n",
       "3         0         0            0         0            0               0   \n",
       "4         0         0            0         0            0               0   \n",
       "\n",
       "   fuel_가솔린/LPG겸용  fuel_기타  fuel_디젤  fuel_전기      dist  power  \n",
       "0               0        0        0        0   40000.0  201.0  \n",
       "1               0        0        0        0   90000.0  157.0  \n",
       "2               0        0        1        0   30000.0  202.0  \n",
       "3               0        0        1        0  160000.0  151.0  \n",
       "4               0        0        1        0  160000.0  103.0  "
      ],
      "text/html": "<div>\n<style scoped>\n    .dataframe tbody tr th:only-of-type {\n        vertical-align: middle;\n    }\n\n    .dataframe tbody tr th {\n        vertical-align: top;\n    }\n\n    .dataframe thead th {\n        text-align: right;\n    }\n</style>\n<table border=\"1\" class=\"dataframe\">\n  <thead>\n    <tr style=\"text-align: right;\">\n      <th></th>\n      <th>yeartype</th>\n      <th>cylinder</th>\n      <th>torque</th>\n      <th>type</th>\n      <th>mission</th>\n      <th>country</th>\n      <th>newprice</th>\n      <th>price</th>\n      <th>fuel_CNG</th>\n      <th>fuel_LPG</th>\n      <th>fuel_LPG+전기</th>\n      <th>fuel_가솔린</th>\n      <th>fuel_가솔린+전기</th>\n      <th>fuel_가솔린/CNG겸용</th>\n      <th>fuel_가솔린/LPG겸용</th>\n      <th>fuel_기타</th>\n      <th>fuel_디젤</th>\n      <th>fuel_전기</th>\n      <th>dist</th>\n      <th>power</th>\n    </tr>\n  </thead>\n  <tbody>\n    <tr>\n      <th>0</th>\n      <td>2013.0</td>\n      <td>4.0</td>\n      <td>25.5</td>\n      <td>FF</td>\n      <td>NaN</td>\n      <td>국산</td>\n      <td>3141.0</td>\n      <td>1870.0</td>\n      <td>0</td>\n      <td>0</td>\n      <td>0</td>\n      <td>1</td>\n      <td>0</td>\n      <td>0</td>\n      <td>0</td>\n      <td>0</td>\n      <td>0</td>\n      <td>0</td>\n      <td>40000.0</td>\n      <td>201.0</td>\n    </tr>\n    <tr>\n      <th>1</th>\n      <td>2010.0</td>\n      <td>NaN</td>\n      <td>20.0</td>\n      <td>FF</td>\n      <td>NaN</td>\n      <td>국산</td>\n      <td>NaN</td>\n      <td>700.0</td>\n      <td>0</td>\n      <td>1</td>\n      <td>0</td>\n      <td>0</td>\n      <td>0</td>\n      <td>0</td>\n      <td>0</td>\n      <td>0</td>\n      <td>0</td>\n      <td>0</td>\n      <td>90000.0</td>\n      <td>157.0</td>\n    </tr>\n    <tr>\n      <th>2</th>\n      <td>2015.0</td>\n      <td>4.0</td>\n      <td>45.0</td>\n      <td>FF</td>\n      <td>NaN</td>\n      <td>국산</td>\n      <td>3389.0</td>\n      <td>2990.0</td>\n      <td>0</td>\n      <td>0</td>\n      <td>0</td>\n      <td>0</td>\n      <td>0</td>\n      <td>0</td>\n      <td>0</td>\n      <td>0</td>\n      <td>1</td>\n      <td>0</td>\n      <td>30000.0</td>\n      <td>202.0</td>\n    </tr>\n    <tr>\n      <th>3</th>\n      <td>2008.0</td>\n      <td>4.0</td>\n      <td>33.8</td>\n      <td>FR</td>\n      <td>NaN</td>\n      <td>국산</td>\n      <td>2499.0</td>\n      <td>420.0</td>\n      <td>0</td>\n      <td>0</td>\n      <td>0</td>\n      <td>0</td>\n      <td>0</td>\n      <td>0</td>\n      <td>0</td>\n      <td>0</td>\n      <td>1</td>\n      <td>0</td>\n      <td>160000.0</td>\n      <td>151.0</td>\n    </tr>\n    <tr>\n      <th>4</th>\n      <td>2004.0</td>\n      <td>NaN</td>\n      <td>24.0</td>\n      <td>FR</td>\n      <td>수동</td>\n      <td>국산</td>\n      <td>1445.0</td>\n      <td>450.0</td>\n      <td>0</td>\n      <td>0</td>\n      <td>0</td>\n      <td>0</td>\n      <td>0</td>\n      <td>0</td>\n      <td>0</td>\n      <td>0</td>\n      <td>1</td>\n      <td>0</td>\n      <td>160000.0</td>\n      <td>103.0</td>\n    </tr>\n  </tbody>\n</table>\n</div>"
     },
     "metadata": {},
     "execution_count": 643
    }
   ],
   "source": [
    "train.head()"
   ]
  },
  {
   "cell_type": "markdown",
   "metadata": {},
   "source": [
    "# 8 기통 cylinder 8698 non-null float64\n",
    "\n",
    "- 범주형으로 조질 수 있겠다\n",
    "- 단 결측치는 어떻게 할 것인가?\n",
    "- 최빈값으로 일단 조져보자\n",
    "\n"
   ]
  },
  {
   "cell_type": "code",
   "execution_count": 644,
   "metadata": {},
   "outputs": [
    {
     "output_type": "execute_result",
     "data": {
      "text/plain": [
       "4.0    5621\n",
       "6.0    2459\n",
       "3.0     402\n",
       "8.0     171\n",
       "5.0      45\n",
       "Name: cylinder, dtype: int64"
      ]
     },
     "metadata": {},
     "execution_count": 644
    }
   ],
   "source": [
    "train_cylinder = train['cylinder']\n",
    "test_cylinder = test['cylinder']\n",
    "\n",
    "train_cylinder.value_counts()"
   ]
  },
  {
   "cell_type": "code",
   "execution_count": 645,
   "metadata": {},
   "outputs": [
    {
     "output_type": "execute_result",
     "data": {
      "text/plain": [
       "4.0    2747\n",
       "6.0    1222\n",
       "3.0     173\n",
       "8.0      95\n",
       "5.0      38\n",
       "Name: cylinder, dtype: int64"
      ]
     },
     "metadata": {},
     "execution_count": 645
    }
   ],
   "source": [
    "test_cylinder.value_counts()"
   ]
  },
  {
   "cell_type": "code",
   "execution_count": 646,
   "metadata": {},
   "outputs": [],
   "source": [
    "train_cylinder = train_cylinder.fillna(4.0)\n",
    "test_cylinder = test_cylinder.fillna(4.0)"
   ]
  },
  {
   "cell_type": "code",
   "execution_count": 647,
   "metadata": {},
   "outputs": [
    {
     "output_type": "execute_result",
     "data": {
      "text/plain": [
       "0"
      ]
     },
     "metadata": {},
     "execution_count": 647
    }
   ],
   "source": [
    "train_cylinder.isna().sum()"
   ]
  },
  {
   "cell_type": "code",
   "execution_count": 648,
   "metadata": {},
   "outputs": [],
   "source": [
    "train_cylinder_dummies = pd.get_dummies(train_cylinder)\n",
    "test_cylinder_dummies = pd.get_dummies(test_cylinder)\n",
    "\n",
    "train_cylinder_dummies = train_cylinder_dummies.add_prefix(\"cylinder_\")\n",
    "test_cylinder_dummies = test_cylinder_dummies.add_prefix(\"cylinder_\")\n",
    "\n",
    "train = train.drop(['cylinder'], axis=1)\n",
    "test = test.drop(['cylinder'], axis=1)\n",
    "\n",
    "train = train.join(train_cylinder_dummies)\n",
    "test = test.join(test_cylinder_dummies)"
   ]
  },
  {
   "cell_type": "code",
   "execution_count": 649,
   "metadata": {},
   "outputs": [
    {
     "output_type": "execute_result",
     "data": {
      "text/plain": [
       "   yeartype  torque type mission country  newprice   price  fuel_CNG  \\\n",
       "0    2013.0    25.5   FF     NaN      국산    3141.0  1870.0         0   \n",
       "1    2010.0    20.0   FF     NaN      국산       NaN   700.0         0   \n",
       "2    2015.0    45.0   FF     NaN      국산    3389.0  2990.0         0   \n",
       "3    2008.0    33.8   FR     NaN      국산    2499.0   420.0         0   \n",
       "4    2004.0    24.0   FR      수동      국산    1445.0   450.0         0   \n",
       "\n",
       "   fuel_LPG  fuel_LPG+전기  ...  fuel_기타  fuel_디젤  fuel_전기      dist  power  \\\n",
       "0         0            0  ...        0        0        0   40000.0  201.0   \n",
       "1         1            0  ...        0        0        0   90000.0  157.0   \n",
       "2         0            0  ...        0        1        0   30000.0  202.0   \n",
       "3         0            0  ...        0        1        0  160000.0  151.0   \n",
       "4         0            0  ...        0        1        0  160000.0  103.0   \n",
       "\n",
       "   cylinder_3.0  cylinder_4.0  cylinder_5.0  cylinder_6.0  cylinder_8.0  \n",
       "0             0             1             0             0             0  \n",
       "1             0             1             0             0             0  \n",
       "2             0             1             0             0             0  \n",
       "3             0             1             0             0             0  \n",
       "4             0             1             0             0             0  \n",
       "\n",
       "[5 rows x 24 columns]"
      ],
      "text/html": "<div>\n<style scoped>\n    .dataframe tbody tr th:only-of-type {\n        vertical-align: middle;\n    }\n\n    .dataframe tbody tr th {\n        vertical-align: top;\n    }\n\n    .dataframe thead th {\n        text-align: right;\n    }\n</style>\n<table border=\"1\" class=\"dataframe\">\n  <thead>\n    <tr style=\"text-align: right;\">\n      <th></th>\n      <th>yeartype</th>\n      <th>torque</th>\n      <th>type</th>\n      <th>mission</th>\n      <th>country</th>\n      <th>newprice</th>\n      <th>price</th>\n      <th>fuel_CNG</th>\n      <th>fuel_LPG</th>\n      <th>fuel_LPG+전기</th>\n      <th>...</th>\n      <th>fuel_기타</th>\n      <th>fuel_디젤</th>\n      <th>fuel_전기</th>\n      <th>dist</th>\n      <th>power</th>\n      <th>cylinder_3.0</th>\n      <th>cylinder_4.0</th>\n      <th>cylinder_5.0</th>\n      <th>cylinder_6.0</th>\n      <th>cylinder_8.0</th>\n    </tr>\n  </thead>\n  <tbody>\n    <tr>\n      <th>0</th>\n      <td>2013.0</td>\n      <td>25.5</td>\n      <td>FF</td>\n      <td>NaN</td>\n      <td>국산</td>\n      <td>3141.0</td>\n      <td>1870.0</td>\n      <td>0</td>\n      <td>0</td>\n      <td>0</td>\n      <td>...</td>\n      <td>0</td>\n      <td>0</td>\n      <td>0</td>\n      <td>40000.0</td>\n      <td>201.0</td>\n      <td>0</td>\n      <td>1</td>\n      <td>0</td>\n      <td>0</td>\n      <td>0</td>\n    </tr>\n    <tr>\n      <th>1</th>\n      <td>2010.0</td>\n      <td>20.0</td>\n      <td>FF</td>\n      <td>NaN</td>\n      <td>국산</td>\n      <td>NaN</td>\n      <td>700.0</td>\n      <td>0</td>\n      <td>1</td>\n      <td>0</td>\n      <td>...</td>\n      <td>0</td>\n      <td>0</td>\n      <td>0</td>\n      <td>90000.0</td>\n      <td>157.0</td>\n      <td>0</td>\n      <td>1</td>\n      <td>0</td>\n      <td>0</td>\n      <td>0</td>\n    </tr>\n    <tr>\n      <th>2</th>\n      <td>2015.0</td>\n      <td>45.0</td>\n      <td>FF</td>\n      <td>NaN</td>\n      <td>국산</td>\n      <td>3389.0</td>\n      <td>2990.0</td>\n      <td>0</td>\n      <td>0</td>\n      <td>0</td>\n      <td>...</td>\n      <td>0</td>\n      <td>1</td>\n      <td>0</td>\n      <td>30000.0</td>\n      <td>202.0</td>\n      <td>0</td>\n      <td>1</td>\n      <td>0</td>\n      <td>0</td>\n      <td>0</td>\n    </tr>\n    <tr>\n      <th>3</th>\n      <td>2008.0</td>\n      <td>33.8</td>\n      <td>FR</td>\n      <td>NaN</td>\n      <td>국산</td>\n      <td>2499.0</td>\n      <td>420.0</td>\n      <td>0</td>\n      <td>0</td>\n      <td>0</td>\n      <td>...</td>\n      <td>0</td>\n      <td>1</td>\n      <td>0</td>\n      <td>160000.0</td>\n      <td>151.0</td>\n      <td>0</td>\n      <td>1</td>\n      <td>0</td>\n      <td>0</td>\n      <td>0</td>\n    </tr>\n    <tr>\n      <th>4</th>\n      <td>2004.0</td>\n      <td>24.0</td>\n      <td>FR</td>\n      <td>수동</td>\n      <td>국산</td>\n      <td>1445.0</td>\n      <td>450.0</td>\n      <td>0</td>\n      <td>0</td>\n      <td>0</td>\n      <td>...</td>\n      <td>0</td>\n      <td>1</td>\n      <td>0</td>\n      <td>160000.0</td>\n      <td>103.0</td>\n      <td>0</td>\n      <td>1</td>\n      <td>0</td>\n      <td>0</td>\n      <td>0</td>\n    </tr>\n  </tbody>\n</table>\n<p>5 rows × 24 columns</p>\n</div>"
     },
     "metadata": {},
     "execution_count": 649
    }
   ],
   "source": [
    "train.head()"
   ]
  },
  {
   "cell_type": "markdown",
   "metadata": {},
   "source": [
    "# 9 최대토크(kgm) torque 10545 non-null float64\n",
    "\n",
    "- 얘도 결측치 mean으로 채우고 그대로 쓰자"
   ]
  },
  {
   "cell_type": "code",
   "execution_count": 650,
   "metadata": {},
   "outputs": [
    {
     "output_type": "execute_result",
     "data": {
      "text/plain": [
       "0        25.5\n",
       "1        20.0\n",
       "2        45.0\n",
       "3        33.8\n",
       "4        24.0\n",
       "         ... \n",
       "11764    30.5\n",
       "11765     NaN\n",
       "11766    52.0\n",
       "11767    53.0\n",
       "11768    53.0\n",
       "Name: torque, Length: 11769, dtype: float64"
      ]
     },
     "metadata": {},
     "execution_count": 650
    }
   ],
   "source": [
    "train_torque = train['torque']\n",
    "test_torque = test['torque']\n",
    "\n",
    "train_torque"
   ]
  },
  {
   "cell_type": "code",
   "execution_count": 651,
   "metadata": {},
   "outputs": [],
   "source": [
    "train_torque = train_torque.fillna(train_torque.mean())\n",
    "test_torque = test_torque.fillna(test_torque.mean())"
   ]
  },
  {
   "cell_type": "code",
   "execution_count": 652,
   "metadata": {},
   "outputs": [
    {
     "output_type": "execute_result",
     "data": {
      "text/plain": [
       "0"
      ]
     },
     "metadata": {},
     "execution_count": 652
    }
   ],
   "source": [
    "train_torque.isna().sum()"
   ]
  },
  {
   "cell_type": "code",
   "execution_count": 653,
   "metadata": {},
   "outputs": [],
   "source": [
    "train = train.drop(['torque'], axis=1)\n",
    "test = test.drop(['torque'], axis=1)\n",
    "\n",
    "train = train.join(train_torque)\n",
    "test = test.join(test_torque)"
   ]
  },
  {
   "cell_type": "code",
   "execution_count": 654,
   "metadata": {},
   "outputs": [
    {
     "output_type": "execute_result",
     "data": {
      "text/plain": [
       "   yeartype type mission country  newprice   price  fuel_CNG  fuel_LPG  \\\n",
       "0    2013.0   FF     NaN      국산    3141.0  1870.0         0         0   \n",
       "1    2010.0   FF     NaN      국산       NaN   700.0         0         1   \n",
       "2    2015.0   FF     NaN      국산    3389.0  2990.0         0         0   \n",
       "3    2008.0   FR     NaN      국산    2499.0   420.0         0         0   \n",
       "4    2004.0   FR      수동      국산    1445.0   450.0         0         0   \n",
       "\n",
       "   fuel_LPG+전기  fuel_가솔린  ...  fuel_디젤  fuel_전기      dist  power  \\\n",
       "0            0         1  ...        0        0   40000.0  201.0   \n",
       "1            0         0  ...        0        0   90000.0  157.0   \n",
       "2            0         0  ...        1        0   30000.0  202.0   \n",
       "3            0         0  ...        1        0  160000.0  151.0   \n",
       "4            0         0  ...        1        0  160000.0  103.0   \n",
       "\n",
       "   cylinder_3.0  cylinder_4.0  cylinder_5.0  cylinder_6.0  cylinder_8.0  \\\n",
       "0             0             1             0             0             0   \n",
       "1             0             1             0             0             0   \n",
       "2             0             1             0             0             0   \n",
       "3             0             1             0             0             0   \n",
       "4             0             1             0             0             0   \n",
       "\n",
       "   torque  \n",
       "0    25.5  \n",
       "1    20.0  \n",
       "2    45.0  \n",
       "3    33.8  \n",
       "4    24.0  \n",
       "\n",
       "[5 rows x 24 columns]"
      ],
      "text/html": "<div>\n<style scoped>\n    .dataframe tbody tr th:only-of-type {\n        vertical-align: middle;\n    }\n\n    .dataframe tbody tr th {\n        vertical-align: top;\n    }\n\n    .dataframe thead th {\n        text-align: right;\n    }\n</style>\n<table border=\"1\" class=\"dataframe\">\n  <thead>\n    <tr style=\"text-align: right;\">\n      <th></th>\n      <th>yeartype</th>\n      <th>type</th>\n      <th>mission</th>\n      <th>country</th>\n      <th>newprice</th>\n      <th>price</th>\n      <th>fuel_CNG</th>\n      <th>fuel_LPG</th>\n      <th>fuel_LPG+전기</th>\n      <th>fuel_가솔린</th>\n      <th>...</th>\n      <th>fuel_디젤</th>\n      <th>fuel_전기</th>\n      <th>dist</th>\n      <th>power</th>\n      <th>cylinder_3.0</th>\n      <th>cylinder_4.0</th>\n      <th>cylinder_5.0</th>\n      <th>cylinder_6.0</th>\n      <th>cylinder_8.0</th>\n      <th>torque</th>\n    </tr>\n  </thead>\n  <tbody>\n    <tr>\n      <th>0</th>\n      <td>2013.0</td>\n      <td>FF</td>\n      <td>NaN</td>\n      <td>국산</td>\n      <td>3141.0</td>\n      <td>1870.0</td>\n      <td>0</td>\n      <td>0</td>\n      <td>0</td>\n      <td>1</td>\n      <td>...</td>\n      <td>0</td>\n      <td>0</td>\n      <td>40000.0</td>\n      <td>201.0</td>\n      <td>0</td>\n      <td>1</td>\n      <td>0</td>\n      <td>0</td>\n      <td>0</td>\n      <td>25.5</td>\n    </tr>\n    <tr>\n      <th>1</th>\n      <td>2010.0</td>\n      <td>FF</td>\n      <td>NaN</td>\n      <td>국산</td>\n      <td>NaN</td>\n      <td>700.0</td>\n      <td>0</td>\n      <td>1</td>\n      <td>0</td>\n      <td>0</td>\n      <td>...</td>\n      <td>0</td>\n      <td>0</td>\n      <td>90000.0</td>\n      <td>157.0</td>\n      <td>0</td>\n      <td>1</td>\n      <td>0</td>\n      <td>0</td>\n      <td>0</td>\n      <td>20.0</td>\n    </tr>\n    <tr>\n      <th>2</th>\n      <td>2015.0</td>\n      <td>FF</td>\n      <td>NaN</td>\n      <td>국산</td>\n      <td>3389.0</td>\n      <td>2990.0</td>\n      <td>0</td>\n      <td>0</td>\n      <td>0</td>\n      <td>0</td>\n      <td>...</td>\n      <td>1</td>\n      <td>0</td>\n      <td>30000.0</td>\n      <td>202.0</td>\n      <td>0</td>\n      <td>1</td>\n      <td>0</td>\n      <td>0</td>\n      <td>0</td>\n      <td>45.0</td>\n    </tr>\n    <tr>\n      <th>3</th>\n      <td>2008.0</td>\n      <td>FR</td>\n      <td>NaN</td>\n      <td>국산</td>\n      <td>2499.0</td>\n      <td>420.0</td>\n      <td>0</td>\n      <td>0</td>\n      <td>0</td>\n      <td>0</td>\n      <td>...</td>\n      <td>1</td>\n      <td>0</td>\n      <td>160000.0</td>\n      <td>151.0</td>\n      <td>0</td>\n      <td>1</td>\n      <td>0</td>\n      <td>0</td>\n      <td>0</td>\n      <td>33.8</td>\n    </tr>\n    <tr>\n      <th>4</th>\n      <td>2004.0</td>\n      <td>FR</td>\n      <td>수동</td>\n      <td>국산</td>\n      <td>1445.0</td>\n      <td>450.0</td>\n      <td>0</td>\n      <td>0</td>\n      <td>0</td>\n      <td>0</td>\n      <td>...</td>\n      <td>1</td>\n      <td>0</td>\n      <td>160000.0</td>\n      <td>103.0</td>\n      <td>0</td>\n      <td>1</td>\n      <td>0</td>\n      <td>0</td>\n      <td>0</td>\n      <td>24.0</td>\n    </tr>\n  </tbody>\n</table>\n<p>5 rows × 24 columns</p>\n</div>"
     },
     "metadata": {},
     "execution_count": 654
    }
   ],
   "source": [
    "train.head()"
   ]
  },
  {
   "cell_type": "markdown",
   "metadata": {},
   "source": [
    "# 10 구동방식 type 10808 non-null object\n",
    "\n",
    "- 제일 많은 걸로 결측치 채우고 dummies 만들어서 쓰자\n",
    "- train에 3개 있는 RR은 데이터 자체를 없애버리자"
   ]
  },
  {
   "cell_type": "code",
   "execution_count": 655,
   "metadata": {},
   "outputs": [],
   "source": [
    "train = train.drop(train[train['type'] == 'RR'].index)"
   ]
  },
  {
   "cell_type": "code",
   "execution_count": 656,
   "metadata": {},
   "outputs": [],
   "source": [
    "train_type = train['type']\n",
    "test_type = test['type']"
   ]
  },
  {
   "cell_type": "code",
   "execution_count": 657,
   "metadata": {},
   "outputs": [
    {
     "output_type": "stream",
     "name": "stdout",
     "text": [
      "FF     7333\nFR     2319\n4WD     688\nAWD     452\nMR       13\nName: type, dtype: int64\n\nFF     3655\nFR     1074\n4WD     352\nAWD     222\nMR        9\nName: type, dtype: int64\n"
     ]
    }
   ],
   "source": [
    "print(train_type.value_counts())\n",
    "print()\n",
    "print(test_type.value_counts())"
   ]
  },
  {
   "cell_type": "code",
   "execution_count": 658,
   "metadata": {},
   "outputs": [],
   "source": [
    "train_type = train_type.fillna('FF')\n",
    "test_type = test_type.fillna('FF')"
   ]
  },
  {
   "cell_type": "code",
   "execution_count": 659,
   "metadata": {},
   "outputs": [
    {
     "output_type": "execute_result",
     "data": {
      "text/plain": [
       "0"
      ]
     },
     "metadata": {},
     "execution_count": 659
    }
   ],
   "source": [
    "train_type.isna().sum()"
   ]
  },
  {
   "cell_type": "code",
   "execution_count": 660,
   "metadata": {},
   "outputs": [],
   "source": [
    "train_type_dummies = pd.get_dummies(train_type)\n",
    "test_type_dummies = pd.get_dummies(test_type)\n",
    "\n",
    "train_type_dummies = train_type_dummies.add_prefix('type_')\n",
    "test_type_dummies = test_type_dummies.add_prefix('type_')\n",
    "\n",
    "train = train.drop(['type'], axis=1)\n",
    "test = test.drop(['type'], axis=1)\n",
    "\n",
    "train = train.join(train_type_dummies)\n",
    "test = test.join(test_type_dummies)"
   ]
  },
  {
   "cell_type": "code",
   "execution_count": 661,
   "metadata": {},
   "outputs": [
    {
     "output_type": "execute_result",
     "data": {
      "text/plain": [
       "   yeartype mission country  newprice   price  fuel_CNG  fuel_LPG  \\\n",
       "0    2013.0     NaN      국산    3141.0  1870.0         0         0   \n",
       "1    2010.0     NaN      국산       NaN   700.0         0         1   \n",
       "2    2015.0     NaN      국산    3389.0  2990.0         0         0   \n",
       "3    2008.0     NaN      국산    2499.0   420.0         0         0   \n",
       "4    2004.0      수동      국산    1445.0   450.0         0         0   \n",
       "\n",
       "   fuel_LPG+전기  fuel_가솔린  fuel_가솔린+전기  ...  cylinder_4.0  cylinder_5.0  \\\n",
       "0            0         1            0  ...             1             0   \n",
       "1            0         0            0  ...             1             0   \n",
       "2            0         0            0  ...             1             0   \n",
       "3            0         0            0  ...             1             0   \n",
       "4            0         0            0  ...             1             0   \n",
       "\n",
       "   cylinder_6.0  cylinder_8.0  torque  type_4WD  type_AWD  type_FF  type_FR  \\\n",
       "0             0             0    25.5         0         0        1        0   \n",
       "1             0             0    20.0         0         0        1        0   \n",
       "2             0             0    45.0         0         0        1        0   \n",
       "3             0             0    33.8         0         0        0        1   \n",
       "4             0             0    24.0         0         0        0        1   \n",
       "\n",
       "   type_MR  \n",
       "0        0  \n",
       "1        0  \n",
       "2        0  \n",
       "3        0  \n",
       "4        0  \n",
       "\n",
       "[5 rows x 28 columns]"
      ],
      "text/html": "<div>\n<style scoped>\n    .dataframe tbody tr th:only-of-type {\n        vertical-align: middle;\n    }\n\n    .dataframe tbody tr th {\n        vertical-align: top;\n    }\n\n    .dataframe thead th {\n        text-align: right;\n    }\n</style>\n<table border=\"1\" class=\"dataframe\">\n  <thead>\n    <tr style=\"text-align: right;\">\n      <th></th>\n      <th>yeartype</th>\n      <th>mission</th>\n      <th>country</th>\n      <th>newprice</th>\n      <th>price</th>\n      <th>fuel_CNG</th>\n      <th>fuel_LPG</th>\n      <th>fuel_LPG+전기</th>\n      <th>fuel_가솔린</th>\n      <th>fuel_가솔린+전기</th>\n      <th>...</th>\n      <th>cylinder_4.0</th>\n      <th>cylinder_5.0</th>\n      <th>cylinder_6.0</th>\n      <th>cylinder_8.0</th>\n      <th>torque</th>\n      <th>type_4WD</th>\n      <th>type_AWD</th>\n      <th>type_FF</th>\n      <th>type_FR</th>\n      <th>type_MR</th>\n    </tr>\n  </thead>\n  <tbody>\n    <tr>\n      <th>0</th>\n      <td>2013.0</td>\n      <td>NaN</td>\n      <td>국산</td>\n      <td>3141.0</td>\n      <td>1870.0</td>\n      <td>0</td>\n      <td>0</td>\n      <td>0</td>\n      <td>1</td>\n      <td>0</td>\n      <td>...</td>\n      <td>1</td>\n      <td>0</td>\n      <td>0</td>\n      <td>0</td>\n      <td>25.5</td>\n      <td>0</td>\n      <td>0</td>\n      <td>1</td>\n      <td>0</td>\n      <td>0</td>\n    </tr>\n    <tr>\n      <th>1</th>\n      <td>2010.0</td>\n      <td>NaN</td>\n      <td>국산</td>\n      <td>NaN</td>\n      <td>700.0</td>\n      <td>0</td>\n      <td>1</td>\n      <td>0</td>\n      <td>0</td>\n      <td>0</td>\n      <td>...</td>\n      <td>1</td>\n      <td>0</td>\n      <td>0</td>\n      <td>0</td>\n      <td>20.0</td>\n      <td>0</td>\n      <td>0</td>\n      <td>1</td>\n      <td>0</td>\n      <td>0</td>\n    </tr>\n    <tr>\n      <th>2</th>\n      <td>2015.0</td>\n      <td>NaN</td>\n      <td>국산</td>\n      <td>3389.0</td>\n      <td>2990.0</td>\n      <td>0</td>\n      <td>0</td>\n      <td>0</td>\n      <td>0</td>\n      <td>0</td>\n      <td>...</td>\n      <td>1</td>\n      <td>0</td>\n      <td>0</td>\n      <td>0</td>\n      <td>45.0</td>\n      <td>0</td>\n      <td>0</td>\n      <td>1</td>\n      <td>0</td>\n      <td>0</td>\n    </tr>\n    <tr>\n      <th>3</th>\n      <td>2008.0</td>\n      <td>NaN</td>\n      <td>국산</td>\n      <td>2499.0</td>\n      <td>420.0</td>\n      <td>0</td>\n      <td>0</td>\n      <td>0</td>\n      <td>0</td>\n      <td>0</td>\n      <td>...</td>\n      <td>1</td>\n      <td>0</td>\n      <td>0</td>\n      <td>0</td>\n      <td>33.8</td>\n      <td>0</td>\n      <td>0</td>\n      <td>0</td>\n      <td>1</td>\n      <td>0</td>\n    </tr>\n    <tr>\n      <th>4</th>\n      <td>2004.0</td>\n      <td>수동</td>\n      <td>국산</td>\n      <td>1445.0</td>\n      <td>450.0</td>\n      <td>0</td>\n      <td>0</td>\n      <td>0</td>\n      <td>0</td>\n      <td>0</td>\n      <td>...</td>\n      <td>1</td>\n      <td>0</td>\n      <td>0</td>\n      <td>0</td>\n      <td>24.0</td>\n      <td>0</td>\n      <td>0</td>\n      <td>0</td>\n      <td>1</td>\n      <td>0</td>\n    </tr>\n  </tbody>\n</table>\n<p>5 rows × 28 columns</p>\n</div>"
     },
     "metadata": {},
     "execution_count": 661
    }
   ],
   "source": [
    "train.head()"
   ]
  },
  {
   "cell_type": "code",
   "execution_count": 662,
   "metadata": {},
   "outputs": [
    {
     "output_type": "execute_result",
     "data": {
      "text/plain": [
       "(11766, 28)"
      ]
     },
     "metadata": {},
     "execution_count": 662
    }
   ],
   "source": [
    "train.shape"
   ]
  },
  {
   "cell_type": "markdown",
   "metadata": {},
   "source": [
    "# 11 자동수동 mission 1313 non-null object\n",
    "\n",
    "- 근데 이거 수동 써져있는거만 수동이고 나머지는 다 자동 아닌가?"
   ]
  },
  {
   "cell_type": "code",
   "execution_count": 663,
   "metadata": {},
   "outputs": [],
   "source": [
    "train_mission = train['mission']\n",
    "test_mission = test['mission']"
   ]
  },
  {
   "cell_type": "code",
   "execution_count": 664,
   "metadata": {},
   "outputs": [
    {
     "output_type": "stream",
     "name": "stdout",
     "text": [
      "수동    1311\nName: mission, dtype: int64\n\n수동    665\nName: mission, dtype: int64\n"
     ]
    }
   ],
   "source": [
    "print(train_mission.value_counts())\n",
    "print()\n",
    "print(test_mission.value_counts())"
   ]
  },
  {
   "cell_type": "code",
   "execution_count": 665,
   "metadata": {},
   "outputs": [],
   "source": [
    "train_mission = train_mission.fillna('자동')\n",
    "test_mission = test_mission.fillna('자동')"
   ]
  },
  {
   "cell_type": "code",
   "execution_count": 666,
   "metadata": {},
   "outputs": [],
   "source": [
    "train_mission_dummies = pd.get_dummies(train_mission)\n",
    "test_mission_dummies = pd.get_dummies(test_mission)\n",
    "\n",
    "train_mission_dummies = train_mission_dummies.add_prefix('mission_')\n",
    "test_mission_dummies = test_mission_dummies.add_prefix('mission_')\n",
    "\n",
    "train = train.drop(['mission'], axis=1)\n",
    "test = test.drop(['mission'], axis=1)\n",
    "\n",
    "train = train.join(train_mission_dummies)\n",
    "test = test.join(test_mission_dummies)"
   ]
  },
  {
   "cell_type": "code",
   "execution_count": 667,
   "metadata": {},
   "outputs": [
    {
     "output_type": "execute_result",
     "data": {
      "text/plain": [
       "   yeartype country  newprice   price  fuel_CNG  fuel_LPG  fuel_LPG+전기  \\\n",
       "0    2013.0      국산    3141.0  1870.0         0         0            0   \n",
       "1    2010.0      국산       NaN   700.0         0         1            0   \n",
       "2    2015.0      국산    3389.0  2990.0         0         0            0   \n",
       "3    2008.0      국산    2499.0   420.0         0         0            0   \n",
       "4    2004.0      국산    1445.0   450.0         0         0            0   \n",
       "\n",
       "   fuel_가솔린  fuel_가솔린+전기  fuel_가솔린/CNG겸용  ...  cylinder_6.0  cylinder_8.0  \\\n",
       "0         1            0               0  ...             0             0   \n",
       "1         0            0               0  ...             0             0   \n",
       "2         0            0               0  ...             0             0   \n",
       "3         0            0               0  ...             0             0   \n",
       "4         0            0               0  ...             0             0   \n",
       "\n",
       "   torque  type_4WD  type_AWD  type_FF  type_FR  type_MR  mission_수동  \\\n",
       "0    25.5         0         0        1        0        0           0   \n",
       "1    20.0         0         0        1        0        0           0   \n",
       "2    45.0         0         0        1        0        0           0   \n",
       "3    33.8         0         0        0        1        0           0   \n",
       "4    24.0         0         0        0        1        0           1   \n",
       "\n",
       "   mission_자동  \n",
       "0           1  \n",
       "1           1  \n",
       "2           1  \n",
       "3           1  \n",
       "4           0  \n",
       "\n",
       "[5 rows x 29 columns]"
      ],
      "text/html": "<div>\n<style scoped>\n    .dataframe tbody tr th:only-of-type {\n        vertical-align: middle;\n    }\n\n    .dataframe tbody tr th {\n        vertical-align: top;\n    }\n\n    .dataframe thead th {\n        text-align: right;\n    }\n</style>\n<table border=\"1\" class=\"dataframe\">\n  <thead>\n    <tr style=\"text-align: right;\">\n      <th></th>\n      <th>yeartype</th>\n      <th>country</th>\n      <th>newprice</th>\n      <th>price</th>\n      <th>fuel_CNG</th>\n      <th>fuel_LPG</th>\n      <th>fuel_LPG+전기</th>\n      <th>fuel_가솔린</th>\n      <th>fuel_가솔린+전기</th>\n      <th>fuel_가솔린/CNG겸용</th>\n      <th>...</th>\n      <th>cylinder_6.0</th>\n      <th>cylinder_8.0</th>\n      <th>torque</th>\n      <th>type_4WD</th>\n      <th>type_AWD</th>\n      <th>type_FF</th>\n      <th>type_FR</th>\n      <th>type_MR</th>\n      <th>mission_수동</th>\n      <th>mission_자동</th>\n    </tr>\n  </thead>\n  <tbody>\n    <tr>\n      <th>0</th>\n      <td>2013.0</td>\n      <td>국산</td>\n      <td>3141.0</td>\n      <td>1870.0</td>\n      <td>0</td>\n      <td>0</td>\n      <td>0</td>\n      <td>1</td>\n      <td>0</td>\n      <td>0</td>\n      <td>...</td>\n      <td>0</td>\n      <td>0</td>\n      <td>25.5</td>\n      <td>0</td>\n      <td>0</td>\n      <td>1</td>\n      <td>0</td>\n      <td>0</td>\n      <td>0</td>\n      <td>1</td>\n    </tr>\n    <tr>\n      <th>1</th>\n      <td>2010.0</td>\n      <td>국산</td>\n      <td>NaN</td>\n      <td>700.0</td>\n      <td>0</td>\n      <td>1</td>\n      <td>0</td>\n      <td>0</td>\n      <td>0</td>\n      <td>0</td>\n      <td>...</td>\n      <td>0</td>\n      <td>0</td>\n      <td>20.0</td>\n      <td>0</td>\n      <td>0</td>\n      <td>1</td>\n      <td>0</td>\n      <td>0</td>\n      <td>0</td>\n      <td>1</td>\n    </tr>\n    <tr>\n      <th>2</th>\n      <td>2015.0</td>\n      <td>국산</td>\n      <td>3389.0</td>\n      <td>2990.0</td>\n      <td>0</td>\n      <td>0</td>\n      <td>0</td>\n      <td>0</td>\n      <td>0</td>\n      <td>0</td>\n      <td>...</td>\n      <td>0</td>\n      <td>0</td>\n      <td>45.0</td>\n      <td>0</td>\n      <td>0</td>\n      <td>1</td>\n      <td>0</td>\n      <td>0</td>\n      <td>0</td>\n      <td>1</td>\n    </tr>\n    <tr>\n      <th>3</th>\n      <td>2008.0</td>\n      <td>국산</td>\n      <td>2499.0</td>\n      <td>420.0</td>\n      <td>0</td>\n      <td>0</td>\n      <td>0</td>\n      <td>0</td>\n      <td>0</td>\n      <td>0</td>\n      <td>...</td>\n      <td>0</td>\n      <td>0</td>\n      <td>33.8</td>\n      <td>0</td>\n      <td>0</td>\n      <td>0</td>\n      <td>1</td>\n      <td>0</td>\n      <td>0</td>\n      <td>1</td>\n    </tr>\n    <tr>\n      <th>4</th>\n      <td>2004.0</td>\n      <td>국산</td>\n      <td>1445.0</td>\n      <td>450.0</td>\n      <td>0</td>\n      <td>0</td>\n      <td>0</td>\n      <td>0</td>\n      <td>0</td>\n      <td>0</td>\n      <td>...</td>\n      <td>0</td>\n      <td>0</td>\n      <td>24.0</td>\n      <td>0</td>\n      <td>0</td>\n      <td>0</td>\n      <td>1</td>\n      <td>0</td>\n      <td>1</td>\n      <td>0</td>\n    </tr>\n  </tbody>\n</table>\n<p>5 rows × 29 columns</p>\n</div>"
     },
     "metadata": {},
     "execution_count": 667
    }
   ],
   "source": [
    "train.head()"
   ]
  },
  {
   "cell_type": "markdown",
   "metadata": {},
   "source": [
    "# 12 국산/수입 country 11769 non-null object\n",
    "\n",
    "- 단순한 범주형 같다\n",
    "- 아니 근데 train이랑 test 다 국산밖에 없는데?\n",
    "- 드랍하자..."
   ]
  },
  {
   "cell_type": "code",
   "execution_count": 668,
   "metadata": {},
   "outputs": [],
   "source": [
    "train = train.drop(['country'], axis=1)\n",
    "test = test.drop(['country'], axis=1)"
   ]
  },
  {
   "cell_type": "code",
   "execution_count": 669,
   "metadata": {},
   "outputs": [
    {
     "output_type": "execute_result",
     "data": {
      "text/plain": [
       "   yeartype  newprice   price  fuel_CNG  fuel_LPG  fuel_LPG+전기  fuel_가솔린  \\\n",
       "0    2013.0    3141.0  1870.0         0         0            0         1   \n",
       "1    2010.0       NaN   700.0         0         1            0         0   \n",
       "2    2015.0    3389.0  2990.0         0         0            0         0   \n",
       "3    2008.0    2499.0   420.0         0         0            0         0   \n",
       "4    2004.0    1445.0   450.0         0         0            0         0   \n",
       "\n",
       "   fuel_가솔린+전기  fuel_가솔린/CNG겸용  fuel_가솔린/LPG겸용  ...  cylinder_6.0  \\\n",
       "0            0               0               0  ...             0   \n",
       "1            0               0               0  ...             0   \n",
       "2            0               0               0  ...             0   \n",
       "3            0               0               0  ...             0   \n",
       "4            0               0               0  ...             0   \n",
       "\n",
       "   cylinder_8.0  torque  type_4WD  type_AWD  type_FF  type_FR  type_MR  \\\n",
       "0             0    25.5         0         0        1        0        0   \n",
       "1             0    20.0         0         0        1        0        0   \n",
       "2             0    45.0         0         0        1        0        0   \n",
       "3             0    33.8         0         0        0        1        0   \n",
       "4             0    24.0         0         0        0        1        0   \n",
       "\n",
       "   mission_수동  mission_자동  \n",
       "0           0           1  \n",
       "1           0           1  \n",
       "2           0           1  \n",
       "3           0           1  \n",
       "4           1           0  \n",
       "\n",
       "[5 rows x 28 columns]"
      ],
      "text/html": "<div>\n<style scoped>\n    .dataframe tbody tr th:only-of-type {\n        vertical-align: middle;\n    }\n\n    .dataframe tbody tr th {\n        vertical-align: top;\n    }\n\n    .dataframe thead th {\n        text-align: right;\n    }\n</style>\n<table border=\"1\" class=\"dataframe\">\n  <thead>\n    <tr style=\"text-align: right;\">\n      <th></th>\n      <th>yeartype</th>\n      <th>newprice</th>\n      <th>price</th>\n      <th>fuel_CNG</th>\n      <th>fuel_LPG</th>\n      <th>fuel_LPG+전기</th>\n      <th>fuel_가솔린</th>\n      <th>fuel_가솔린+전기</th>\n      <th>fuel_가솔린/CNG겸용</th>\n      <th>fuel_가솔린/LPG겸용</th>\n      <th>...</th>\n      <th>cylinder_6.0</th>\n      <th>cylinder_8.0</th>\n      <th>torque</th>\n      <th>type_4WD</th>\n      <th>type_AWD</th>\n      <th>type_FF</th>\n      <th>type_FR</th>\n      <th>type_MR</th>\n      <th>mission_수동</th>\n      <th>mission_자동</th>\n    </tr>\n  </thead>\n  <tbody>\n    <tr>\n      <th>0</th>\n      <td>2013.0</td>\n      <td>3141.0</td>\n      <td>1870.0</td>\n      <td>0</td>\n      <td>0</td>\n      <td>0</td>\n      <td>1</td>\n      <td>0</td>\n      <td>0</td>\n      <td>0</td>\n      <td>...</td>\n      <td>0</td>\n      <td>0</td>\n      <td>25.5</td>\n      <td>0</td>\n      <td>0</td>\n      <td>1</td>\n      <td>0</td>\n      <td>0</td>\n      <td>0</td>\n      <td>1</td>\n    </tr>\n    <tr>\n      <th>1</th>\n      <td>2010.0</td>\n      <td>NaN</td>\n      <td>700.0</td>\n      <td>0</td>\n      <td>1</td>\n      <td>0</td>\n      <td>0</td>\n      <td>0</td>\n      <td>0</td>\n      <td>0</td>\n      <td>...</td>\n      <td>0</td>\n      <td>0</td>\n      <td>20.0</td>\n      <td>0</td>\n      <td>0</td>\n      <td>1</td>\n      <td>0</td>\n      <td>0</td>\n      <td>0</td>\n      <td>1</td>\n    </tr>\n    <tr>\n      <th>2</th>\n      <td>2015.0</td>\n      <td>3389.0</td>\n      <td>2990.0</td>\n      <td>0</td>\n      <td>0</td>\n      <td>0</td>\n      <td>0</td>\n      <td>0</td>\n      <td>0</td>\n      <td>0</td>\n      <td>...</td>\n      <td>0</td>\n      <td>0</td>\n      <td>45.0</td>\n      <td>0</td>\n      <td>0</td>\n      <td>1</td>\n      <td>0</td>\n      <td>0</td>\n      <td>0</td>\n      <td>1</td>\n    </tr>\n    <tr>\n      <th>3</th>\n      <td>2008.0</td>\n      <td>2499.0</td>\n      <td>420.0</td>\n      <td>0</td>\n      <td>0</td>\n      <td>0</td>\n      <td>0</td>\n      <td>0</td>\n      <td>0</td>\n      <td>0</td>\n      <td>...</td>\n      <td>0</td>\n      <td>0</td>\n      <td>33.8</td>\n      <td>0</td>\n      <td>0</td>\n      <td>0</td>\n      <td>1</td>\n      <td>0</td>\n      <td>0</td>\n      <td>1</td>\n    </tr>\n    <tr>\n      <th>4</th>\n      <td>2004.0</td>\n      <td>1445.0</td>\n      <td>450.0</td>\n      <td>0</td>\n      <td>0</td>\n      <td>0</td>\n      <td>0</td>\n      <td>0</td>\n      <td>0</td>\n      <td>0</td>\n      <td>...</td>\n      <td>0</td>\n      <td>0</td>\n      <td>24.0</td>\n      <td>0</td>\n      <td>0</td>\n      <td>0</td>\n      <td>1</td>\n      <td>0</td>\n      <td>1</td>\n      <td>0</td>\n    </tr>\n  </tbody>\n</table>\n<p>5 rows × 28 columns</p>\n</div>"
     },
     "metadata": {},
     "execution_count": 669
    }
   ],
   "source": [
    "train.head()"
   ]
  },
  {
   "cell_type": "markdown",
   "metadata": {},
   "source": [
    "# 13 신차가(만원) newprice 9544 non-null float64\n",
    "\n",
    "- 일단 드랍\n"
   ]
  },
  {
   "cell_type": "code",
   "execution_count": 670,
   "metadata": {},
   "outputs": [],
   "source": [
    "train = train.drop(['newprice'], axis=1)"
   ]
  },
  {
   "cell_type": "code",
   "execution_count": 671,
   "metadata": {},
   "outputs": [
    {
     "output_type": "execute_result",
     "data": {
      "text/plain": [
       "   yeartype   price  fuel_CNG  fuel_LPG  fuel_LPG+전기  fuel_가솔린  fuel_가솔린+전기  \\\n",
       "0    2013.0  1870.0         0         0            0         1            0   \n",
       "1    2010.0   700.0         0         1            0         0            0   \n",
       "2    2015.0  2990.0         0         0            0         0            0   \n",
       "3    2008.0   420.0         0         0            0         0            0   \n",
       "4    2004.0   450.0         0         0            0         0            0   \n",
       "\n",
       "   fuel_가솔린/CNG겸용  fuel_가솔린/LPG겸용  fuel_기타  ...  cylinder_6.0  cylinder_8.0  \\\n",
       "0               0               0        0  ...             0             0   \n",
       "1               0               0        0  ...             0             0   \n",
       "2               0               0        0  ...             0             0   \n",
       "3               0               0        0  ...             0             0   \n",
       "4               0               0        0  ...             0             0   \n",
       "\n",
       "   torque  type_4WD  type_AWD  type_FF  type_FR  type_MR  mission_수동  \\\n",
       "0    25.5         0         0        1        0        0           0   \n",
       "1    20.0         0         0        1        0        0           0   \n",
       "2    45.0         0         0        1        0        0           0   \n",
       "3    33.8         0         0        0        1        0           0   \n",
       "4    24.0         0         0        0        1        0           1   \n",
       "\n",
       "   mission_자동  \n",
       "0           1  \n",
       "1           1  \n",
       "2           1  \n",
       "3           1  \n",
       "4           0  \n",
       "\n",
       "[5 rows x 27 columns]"
      ],
      "text/html": "<div>\n<style scoped>\n    .dataframe tbody tr th:only-of-type {\n        vertical-align: middle;\n    }\n\n    .dataframe tbody tr th {\n        vertical-align: top;\n    }\n\n    .dataframe thead th {\n        text-align: right;\n    }\n</style>\n<table border=\"1\" class=\"dataframe\">\n  <thead>\n    <tr style=\"text-align: right;\">\n      <th></th>\n      <th>yeartype</th>\n      <th>price</th>\n      <th>fuel_CNG</th>\n      <th>fuel_LPG</th>\n      <th>fuel_LPG+전기</th>\n      <th>fuel_가솔린</th>\n      <th>fuel_가솔린+전기</th>\n      <th>fuel_가솔린/CNG겸용</th>\n      <th>fuel_가솔린/LPG겸용</th>\n      <th>fuel_기타</th>\n      <th>...</th>\n      <th>cylinder_6.0</th>\n      <th>cylinder_8.0</th>\n      <th>torque</th>\n      <th>type_4WD</th>\n      <th>type_AWD</th>\n      <th>type_FF</th>\n      <th>type_FR</th>\n      <th>type_MR</th>\n      <th>mission_수동</th>\n      <th>mission_자동</th>\n    </tr>\n  </thead>\n  <tbody>\n    <tr>\n      <th>0</th>\n      <td>2013.0</td>\n      <td>1870.0</td>\n      <td>0</td>\n      <td>0</td>\n      <td>0</td>\n      <td>1</td>\n      <td>0</td>\n      <td>0</td>\n      <td>0</td>\n      <td>0</td>\n      <td>...</td>\n      <td>0</td>\n      <td>0</td>\n      <td>25.5</td>\n      <td>0</td>\n      <td>0</td>\n      <td>1</td>\n      <td>0</td>\n      <td>0</td>\n      <td>0</td>\n      <td>1</td>\n    </tr>\n    <tr>\n      <th>1</th>\n      <td>2010.0</td>\n      <td>700.0</td>\n      <td>0</td>\n      <td>1</td>\n      <td>0</td>\n      <td>0</td>\n      <td>0</td>\n      <td>0</td>\n      <td>0</td>\n      <td>0</td>\n      <td>...</td>\n      <td>0</td>\n      <td>0</td>\n      <td>20.0</td>\n      <td>0</td>\n      <td>0</td>\n      <td>1</td>\n      <td>0</td>\n      <td>0</td>\n      <td>0</td>\n      <td>1</td>\n    </tr>\n    <tr>\n      <th>2</th>\n      <td>2015.0</td>\n      <td>2990.0</td>\n      <td>0</td>\n      <td>0</td>\n      <td>0</td>\n      <td>0</td>\n      <td>0</td>\n      <td>0</td>\n      <td>0</td>\n      <td>0</td>\n      <td>...</td>\n      <td>0</td>\n      <td>0</td>\n      <td>45.0</td>\n      <td>0</td>\n      <td>0</td>\n      <td>1</td>\n      <td>0</td>\n      <td>0</td>\n      <td>0</td>\n      <td>1</td>\n    </tr>\n    <tr>\n      <th>3</th>\n      <td>2008.0</td>\n      <td>420.0</td>\n      <td>0</td>\n      <td>0</td>\n      <td>0</td>\n      <td>0</td>\n      <td>0</td>\n      <td>0</td>\n      <td>0</td>\n      <td>0</td>\n      <td>...</td>\n      <td>0</td>\n      <td>0</td>\n      <td>33.8</td>\n      <td>0</td>\n      <td>0</td>\n      <td>0</td>\n      <td>1</td>\n      <td>0</td>\n      <td>0</td>\n      <td>1</td>\n    </tr>\n    <tr>\n      <th>4</th>\n      <td>2004.0</td>\n      <td>450.0</td>\n      <td>0</td>\n      <td>0</td>\n      <td>0</td>\n      <td>0</td>\n      <td>0</td>\n      <td>0</td>\n      <td>0</td>\n      <td>0</td>\n      <td>...</td>\n      <td>0</td>\n      <td>0</td>\n      <td>24.0</td>\n      <td>0</td>\n      <td>0</td>\n      <td>0</td>\n      <td>1</td>\n      <td>0</td>\n      <td>1</td>\n      <td>0</td>\n    </tr>\n  </tbody>\n</table>\n<p>5 rows × 27 columns</p>\n</div>"
     },
     "metadata": {},
     "execution_count": 671
    }
   ],
   "source": [
    "train.head()"
   ]
  },
  {
   "cell_type": "markdown",
   "metadata": {},
   "source": [
    "# 14 가격(만원) price 11769 non-null float64\n",
    "\n",
    "- 이건 피쳐가 아니고 정답(레이블)"
   ]
  },
  {
   "cell_type": "markdown",
   "metadata": {},
   "source": [
    "# 종합"
   ]
  },
  {
   "cell_type": "code",
   "execution_count": 672,
   "metadata": {},
   "outputs": [
    {
     "output_type": "stream",
     "name": "stdout",
     "text": [
      "(11766, 27)\n(5789, 26)\n"
     ]
    }
   ],
   "source": [
    "print(train.shape)\n",
    "print(test.shape)"
   ]
  },
  {
   "cell_type": "code",
   "execution_count": 673,
   "metadata": {},
   "outputs": [
    {
     "output_type": "stream",
     "name": "stdout",
     "text": [
      "yeartype          0\nprice             0\nfuel_CNG          0\nfuel_LPG          0\nfuel_LPG+전기       0\nfuel_가솔린          0\nfuel_가솔린+전기       0\nfuel_가솔린/CNG겸용    0\nfuel_가솔린/LPG겸용    0\nfuel_기타           0\nfuel_디젤           0\nfuel_전기           0\ndist              0\npower             0\ncylinder_3.0      0\ncylinder_4.0      0\ncylinder_5.0      0\ncylinder_6.0      0\ncylinder_8.0      0\ntorque            0\ntype_4WD          0\ntype_AWD          0\ntype_FF           0\ntype_FR           0\ntype_MR           0\nmission_수동        0\nmission_자동        0\ndtype: int64\nyeartype          0\nfuel_CNG          0\nfuel_LPG          0\nfuel_LPG+전기       0\nfuel_가솔린          0\nfuel_가솔린+전기       0\nfuel_가솔린/CNG겸용    0\nfuel_가솔린/LPG겸용    0\nfuel_기타           0\nfuel_디젤           0\nfuel_전기           0\ndist              0\npower             0\ncylinder_3.0      0\ncylinder_4.0      0\ncylinder_5.0      0\ncylinder_6.0      0\ncylinder_8.0      0\ntorque            0\ntype_4WD          0\ntype_AWD          0\ntype_FF           0\ntype_FR           0\ntype_MR           0\nmission_수동        0\nmission_자동        0\ndtype: int64\n"
     ]
    }
   ],
   "source": [
    "print(train.isna().sum())\n",
    "print(test.isna().sum())"
   ]
  },
  {
   "cell_type": "markdown",
   "metadata": {},
   "source": [
    "# 데이터 나누기"
   ]
  },
  {
   "cell_type": "code",
   "execution_count": 674,
   "metadata": {},
   "outputs": [
    {
     "output_type": "stream",
     "name": "stdout",
     "text": [
      "(11766, 26)\n(11766,)\n(5789, 26)\n"
     ]
    }
   ],
   "source": [
    "X_train = train.drop('price', axis=1)\n",
    "Y_train = train['price']\n",
    "X_test = test.copy()\n",
    "\n",
    "print(X_train.shape)\n",
    "print(Y_train.shape)\n",
    "print(X_test.shape)"
   ]
  },
  {
   "source": [
    "# Normalization"
   ],
   "cell_type": "markdown",
   "metadata": {}
  },
  {
   "cell_type": "code",
   "execution_count": 675,
   "metadata": {},
   "outputs": [],
   "source": [
    "from sklearn.preprocessing import MinMaxScaler\n",
    "min_max_scaler = MinMaxScaler()\n",
    "\n"
   ]
  },
  {
   "cell_type": "code",
   "execution_count": 676,
   "metadata": {},
   "outputs": [],
   "source": [
    "X_train = min_max_scaler.fit_transform(X_train)\n",
    "X_test = min_max_scaler.fit_transform(X_test)"
   ]
  },
  {
   "cell_type": "code",
   "execution_count": 677,
   "metadata": {},
   "outputs": [
    {
     "output_type": "execute_result",
     "data": {
      "text/plain": [
       "array([[0.83673469, 0.        , 0.        , ..., 0.        , 0.        ,\n",
       "        1.        ],\n",
       "       [0.7755102 , 0.        , 1.        , ..., 0.        , 0.        ,\n",
       "        1.        ],\n",
       "       [0.87755102, 0.        , 0.        , ..., 0.        , 0.        ,\n",
       "        1.        ],\n",
       "       ...,\n",
       "       [0.89795918, 0.        , 0.        , ..., 0.        , 0.        ,\n",
       "        1.        ],\n",
       "       [0.89795918, 0.        , 0.        , ..., 0.        , 0.        ,\n",
       "        1.        ],\n",
       "       [0.89795918, 0.        , 0.        , ..., 0.        , 0.        ,\n",
       "        1.        ]])"
      ]
     },
     "metadata": {},
     "execution_count": 677
    }
   ],
   "source": [
    "X_train"
   ]
  },
  {
   "source": [
    "# Model"
   ],
   "cell_type": "markdown",
   "metadata": {}
  },
  {
   "cell_type": "code",
   "execution_count": 678,
   "metadata": {},
   "outputs": [],
   "source": [
    "from sklearn.linear_model import LinearRegression, ElasticNet, Lasso, Ridge, LassoLarsIC\n",
    "from sklearn.ensemble import RandomForestRegressor, GradientBoostingRegressor\n",
    "from sklearn.kernel_ridge import KernelRidge\n",
    "from sklearn.pipeline import make_pipeline\n",
    "from sklearn.preprocessing import RobustScaler\n",
    "from sklearn.base import BaseEstimator, TransformerMixin, RegressorMixin, clone\n",
    "from sklearn.model_selection import KFold, cross_val_score, train_test_split, GridSearchCV\n",
    "from sklearn.metrics import mean_squared_error\n",
    "import xgboost as xgb\n",
    "import lightgbm as lgb"
   ]
  },
  {
   "cell_type": "code",
   "execution_count": 679,
   "metadata": {},
   "outputs": [
    {
     "output_type": "execute_result",
     "data": {
      "text/plain": [
       "RandomForestRegressor(n_estimators=50, random_state=42)"
      ]
     },
     "metadata": {},
     "execution_count": 679
    }
   ],
   "source": [
    "rfr = RandomForestRegressor(n_estimators=50, random_state=42)\n",
    "rfr.fit(X_train, Y_train)"
   ]
  },
  {
   "cell_type": "code",
   "execution_count": 680,
   "metadata": {},
   "outputs": [
    {
     "output_type": "stream",
     "name": "stdout",
     "text": [
      "0.5966168849368889\n"
     ]
    }
   ],
   "source": [
    "print(rfr.score(X_train, Y_train))"
   ]
  },
  {
   "source": [
    "# Prediction"
   ],
   "cell_type": "markdown",
   "metadata": {}
  },
  {
   "cell_type": "code",
   "execution_count": 681,
   "metadata": {},
   "outputs": [],
   "source": [
    "Y_pred = rfr.predict(X_test)"
   ]
  },
  {
   "cell_type": "code",
   "execution_count": 682,
   "metadata": {},
   "outputs": [],
   "source": [
    "submission = pd.DataFrame({\n",
    "    \"no\": test_no,\n",
    "    \"가격(만원)\": Y_pred\n",
    "})\n",
    "submission.to_csv('../output/v1.3.rfr.csv', index=False)"
   ]
  },
  {
   "cell_type": "code",
   "execution_count": null,
   "metadata": {},
   "outputs": [],
   "source": []
  }
 ],
 "metadata": {
  "kernelspec": {
   "name": "Python 3.6.12 64-bit ('deep-learning': conda)",
   "display_name": "Python 3.6.12 64-bit ('deep-learning': conda)",
   "metadata": {
    "interpreter": {
     "hash": "0660cee8b320e80289d534af46c095c4df7a330daf18e6895f30d4f53b8bb636"
    }
   }
  },
  "language_info": {
   "codemirror_mode": {
    "name": "ipython",
    "version": 3
   },
   "file_extension": ".py",
   "mimetype": "text/x-python",
   "name": "python",
   "nbconvert_exporter": "python",
   "pygments_lexer": "ipython3",
   "version": "3.6.12-final"
  }
 },
 "nbformat": 4,
 "nbformat_minor": 2
}