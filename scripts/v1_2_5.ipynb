{
  "nbformat": 4,
  "nbformat_minor": 0,
  "metadata": {
    "kernelspec": {
      "name": "python3",
      "display_name": "Python 3"
    },
    "colab": {
      "name": "v1.2.5",
      "provenance": [],
      "collapsed_sections": [
        "hZU6Vech6a7F"
      ],
      "toc_visible": true,
      "machine_shape": "hm",
      "include_colab_link": true
    },
    "accelerator": "GPU",
    "widgets": {
      "application/vnd.jupyter.widget-state+json": {
        "8314f57ca361486083074196d6bc196d": {
          "model_module": "@jupyter-widgets/controls",
          "model_name": "IntProgressModel",
          "state": {
            "_view_name": "ProgressView",
            "style": "IPY_MODEL_82e5e3f070544801819840b4b5efa2a1",
            "_dom_classes": [],
            "description": "Processing: ",
            "_model_name": "IntProgressModel",
            "bar_style": "",
            "max": 3,
            "_view_module": "@jupyter-widgets/controls",
            "_model_module_version": "1.5.0",
            "value": 3,
            "_view_count": null,
            "_view_module_version": "1.5.0",
            "orientation": "horizontal",
            "min": 0,
            "description_tooltip": null,
            "_model_module": "@jupyter-widgets/controls",
            "layout": "IPY_MODEL_46a49fdc57ef411181629424065e0eea"
          }
        },
        "82e5e3f070544801819840b4b5efa2a1": {
          "model_module": "@jupyter-widgets/controls",
          "model_name": "ProgressStyleModel",
          "state": {
            "_view_name": "StyleView",
            "_model_name": "ProgressStyleModel",
            "description_width": "",
            "_view_module": "@jupyter-widgets/base",
            "_model_module_version": "1.5.0",
            "_view_count": null,
            "_view_module_version": "1.2.0",
            "bar_color": null,
            "_model_module": "@jupyter-widgets/controls"
          }
        },
        "46a49fdc57ef411181629424065e0eea": {
          "model_module": "@jupyter-widgets/base",
          "model_name": "LayoutModel",
          "state": {
            "_view_name": "LayoutView",
            "grid_template_rows": null,
            "right": null,
            "justify_content": null,
            "_view_module": "@jupyter-widgets/base",
            "overflow": null,
            "_model_module_version": "1.2.0",
            "_view_count": null,
            "flex_flow": null,
            "width": null,
            "min_width": null,
            "border": null,
            "align_items": null,
            "bottom": null,
            "_model_module": "@jupyter-widgets/base",
            "top": null,
            "grid_column": null,
            "overflow_y": null,
            "overflow_x": null,
            "grid_auto_flow": null,
            "grid_area": null,
            "grid_template_columns": null,
            "flex": null,
            "_model_name": "LayoutModel",
            "justify_items": null,
            "grid_row": null,
            "max_height": null,
            "align_content": null,
            "visibility": null,
            "align_self": null,
            "height": null,
            "min_height": null,
            "padding": null,
            "grid_auto_rows": null,
            "grid_gap": null,
            "max_width": null,
            "order": null,
            "_view_module_version": "1.2.0",
            "grid_template_areas": null,
            "object_position": null,
            "object_fit": null,
            "grid_auto_columns": null,
            "margin": null,
            "display": null,
            "left": null
          }
        },
        "4d533e1f7fab41cd9df8e864be731cc6": {
          "model_module": "@jupyter-widgets/controls",
          "model_name": "TextModel",
          "state": {
            "_view_name": "TextView",
            "style": "IPY_MODEL_65ce9d2702364f559c74ea69d1de2a48",
            "_dom_classes": [],
            "description": "",
            "_model_name": "TextModel",
            "placeholder": "​",
            "_view_module": "@jupyter-widgets/controls",
            "_model_module_version": "1.5.0",
            "value": "Following data types have been inferred automatically, if they are correct press enter to continue or type 'quit' otherwise.",
            "_view_count": null,
            "disabled": false,
            "_view_module_version": "1.5.0",
            "continuous_update": true,
            "description_tooltip": null,
            "_model_module": "@jupyter-widgets/controls",
            "layout": "IPY_MODEL_27fea1ae77bf4494992ab5886dc12ab7"
          }
        },
        "65ce9d2702364f559c74ea69d1de2a48": {
          "model_module": "@jupyter-widgets/controls",
          "model_name": "DescriptionStyleModel",
          "state": {
            "_view_name": "StyleView",
            "_model_name": "DescriptionStyleModel",
            "description_width": "",
            "_view_module": "@jupyter-widgets/base",
            "_model_module_version": "1.5.0",
            "_view_count": null,
            "_view_module_version": "1.2.0",
            "_model_module": "@jupyter-widgets/controls"
          }
        },
        "27fea1ae77bf4494992ab5886dc12ab7": {
          "model_module": "@jupyter-widgets/base",
          "model_name": "LayoutModel",
          "state": {
            "_view_name": "LayoutView",
            "grid_template_rows": null,
            "right": null,
            "justify_content": null,
            "_view_module": "@jupyter-widgets/base",
            "overflow": null,
            "_model_module_version": "1.2.0",
            "_view_count": null,
            "flex_flow": null,
            "width": "100%",
            "min_width": null,
            "border": null,
            "align_items": null,
            "bottom": null,
            "_model_module": "@jupyter-widgets/base",
            "top": null,
            "grid_column": null,
            "overflow_y": null,
            "overflow_x": null,
            "grid_auto_flow": null,
            "grid_area": null,
            "grid_template_columns": null,
            "flex": null,
            "_model_name": "LayoutModel",
            "justify_items": null,
            "grid_row": null,
            "max_height": null,
            "align_content": null,
            "visibility": null,
            "align_self": null,
            "height": null,
            "min_height": null,
            "padding": null,
            "grid_auto_rows": null,
            "grid_gap": null,
            "max_width": null,
            "order": null,
            "_view_module_version": "1.2.0",
            "grid_template_areas": null,
            "object_position": null,
            "object_fit": null,
            "grid_auto_columns": null,
            "margin": null,
            "display": null,
            "left": null
          }
        },
        "aa76f9e057b7406098373d9794125743": {
          "model_module": "@jupyter-widgets/controls",
          "model_name": "IntProgressModel",
          "state": {
            "_view_name": "ProgressView",
            "style": "IPY_MODEL_554ac7387571441498d71c4dff4a1438",
            "_dom_classes": [],
            "description": "Processing: ",
            "_model_name": "IntProgressModel",
            "bar_style": "",
            "max": 99,
            "_view_module": "@jupyter-widgets/controls",
            "_model_module_version": "1.5.0",
            "value": 99,
            "_view_count": null,
            "_view_module_version": "1.5.0",
            "orientation": "horizontal",
            "min": 0,
            "description_tooltip": null,
            "_model_module": "@jupyter-widgets/controls",
            "layout": "IPY_MODEL_789bb802a7cc4b6e9a18ebfdf685929e"
          }
        },
        "554ac7387571441498d71c4dff4a1438": {
          "model_module": "@jupyter-widgets/controls",
          "model_name": "ProgressStyleModel",
          "state": {
            "_view_name": "StyleView",
            "_model_name": "ProgressStyleModel",
            "description_width": "",
            "_view_module": "@jupyter-widgets/base",
            "_model_module_version": "1.5.0",
            "_view_count": null,
            "_view_module_version": "1.2.0",
            "bar_color": null,
            "_model_module": "@jupyter-widgets/controls"
          }
        },
        "789bb802a7cc4b6e9a18ebfdf685929e": {
          "model_module": "@jupyter-widgets/base",
          "model_name": "LayoutModel",
          "state": {
            "_view_name": "LayoutView",
            "grid_template_rows": null,
            "right": null,
            "justify_content": null,
            "_view_module": "@jupyter-widgets/base",
            "overflow": null,
            "_model_module_version": "1.2.0",
            "_view_count": null,
            "flex_flow": null,
            "width": null,
            "min_width": null,
            "border": null,
            "align_items": null,
            "bottom": null,
            "_model_module": "@jupyter-widgets/base",
            "top": null,
            "grid_column": null,
            "overflow_y": null,
            "overflow_x": null,
            "grid_auto_flow": null,
            "grid_area": null,
            "grid_template_columns": null,
            "flex": null,
            "_model_name": "LayoutModel",
            "justify_items": null,
            "grid_row": null,
            "max_height": null,
            "align_content": null,
            "visibility": null,
            "align_self": null,
            "height": null,
            "min_height": null,
            "padding": null,
            "grid_auto_rows": null,
            "grid_gap": null,
            "max_width": null,
            "order": null,
            "_view_module_version": "1.2.0",
            "grid_template_areas": null,
            "object_position": null,
            "object_fit": null,
            "grid_auto_columns": null,
            "margin": null,
            "display": null,
            "left": null
          }
        },
        "0838a8b0dddd4396a98059522187f173": {
          "model_module": "@jupyter-widgets/controls",
          "model_name": "IntProgressModel",
          "state": {
            "_view_name": "ProgressView",
            "style": "IPY_MODEL_7eb271061ad141949da11e5532b7443e",
            "_dom_classes": [],
            "description": "Processing: ",
            "_model_name": "IntProgressModel",
            "bar_style": "",
            "max": 6,
            "_view_module": "@jupyter-widgets/controls",
            "_model_module_version": "1.5.0",
            "value": 6,
            "_view_count": null,
            "_view_module_version": "1.5.0",
            "orientation": "horizontal",
            "min": 0,
            "description_tooltip": null,
            "_model_module": "@jupyter-widgets/controls",
            "layout": "IPY_MODEL_48562130903545beacbd26315e4543cf"
          }
        },
        "7eb271061ad141949da11e5532b7443e": {
          "model_module": "@jupyter-widgets/controls",
          "model_name": "ProgressStyleModel",
          "state": {
            "_view_name": "StyleView",
            "_model_name": "ProgressStyleModel",
            "description_width": "",
            "_view_module": "@jupyter-widgets/base",
            "_model_module_version": "1.5.0",
            "_view_count": null,
            "_view_module_version": "1.2.0",
            "bar_color": null,
            "_model_module": "@jupyter-widgets/controls"
          }
        },
        "48562130903545beacbd26315e4543cf": {
          "model_module": "@jupyter-widgets/base",
          "model_name": "LayoutModel",
          "state": {
            "_view_name": "LayoutView",
            "grid_template_rows": null,
            "right": null,
            "justify_content": null,
            "_view_module": "@jupyter-widgets/base",
            "overflow": null,
            "_model_module_version": "1.2.0",
            "_view_count": null,
            "flex_flow": null,
            "width": null,
            "min_width": null,
            "border": null,
            "align_items": null,
            "bottom": null,
            "_model_module": "@jupyter-widgets/base",
            "top": null,
            "grid_column": null,
            "overflow_y": null,
            "overflow_x": null,
            "grid_auto_flow": null,
            "grid_area": null,
            "grid_template_columns": null,
            "flex": null,
            "_model_name": "LayoutModel",
            "justify_items": null,
            "grid_row": null,
            "max_height": null,
            "align_content": null,
            "visibility": null,
            "align_self": null,
            "height": null,
            "min_height": null,
            "padding": null,
            "grid_auto_rows": null,
            "grid_gap": null,
            "max_width": null,
            "order": null,
            "_view_module_version": "1.2.0",
            "grid_template_areas": null,
            "object_position": null,
            "object_fit": null,
            "grid_auto_columns": null,
            "margin": null,
            "display": null,
            "left": null
          }
        }
      }
    }
  },
  "cells": [
    {
      "cell_type": "markdown",
      "metadata": {
        "id": "view-in-github",
        "colab_type": "text"
      },
      "source": [
        "<a href=\"https://colab.research.google.com/github/Dogdriip/dg-univ-2020-ml/blob/main/v1_2_5.ipynb\" target=\"_parent\"><img src=\"https://colab.research.google.com/assets/colab-badge.svg\" alt=\"Open In Colab\"/></a>"
      ]
    },
    {
      "cell_type": "markdown",
      "metadata": {
        "id": "cCMx6C-76a6p"
      },
      "source": [
        "# v1.2.5\n",
        "\n",
        "- PyCaret 써보고 끝낸다"
      ]
    },
    {
      "cell_type": "code",
      "metadata": {
        "id": "TbltV90c6jyg",
        "outputId": "bb6b98e7-8f9d-44e7-8ca9-ff59fcdbb01c",
        "colab": {
          "base_uri": "https://localhost:8080/"
        }
      },
      "source": [
        "from google.colab import files\n",
        "from google.colab import drive\n",
        "drive.mount('/content/drive/')"
      ],
      "execution_count": 113,
      "outputs": [
        {
          "output_type": "stream",
          "text": [
            "Drive already mounted at /content/drive/; to attempt to forcibly remount, call drive.mount(\"/content/drive/\", force_remount=True).\n"
          ],
          "name": "stdout"
        }
      ]
    },
    {
      "cell_type": "code",
      "metadata": {
        "id": "z5Pa0R7g6a6q",
        "outputId": "a353a402-7610-496a-ab71-6243d73994f9",
        "colab": {
          "base_uri": "https://localhost:8080/"
        }
      },
      "source": [
        "!pip install pycaret  # AutoML\n",
        "\n",
        "import pandas as pd\n",
        "import numpy as np\n",
        "\n",
        "import matplotlib.pyplot as plt\n",
        "import seaborn as sns\n",
        "sns.set_style('whitegrid')\n",
        "%matplotlib inline \n",
        "import warnings\n",
        "warnings.filterwarnings(action='ignore')\n",
        "\n",
        "!pip install missingpy\n",
        "from missingpy import MissForest\n",
        "\n",
        "from scipy import stats\n",
        "from scipy.stats import norm, skew #for some statistics\n",
        "\n",
        "from pycaret.regression import *"
      ],
      "execution_count": 114,
      "outputs": [
        {
          "output_type": "stream",
          "text": [
            "Requirement already satisfied: pycaret in /usr/local/lib/python3.6/dist-packages (2.2.1)\n",
            "Requirement already satisfied: ipywidgets in /usr/local/lib/python3.6/dist-packages (from pycaret) (7.5.1)\n",
            "Requirement already satisfied: plotly>=4.4.1 in /usr/local/lib/python3.6/dist-packages (from pycaret) (4.4.1)\n",
            "Requirement already satisfied: numpy>=1.17 in /usr/local/lib/python3.6/dist-packages (from pycaret) (1.18.5)\n",
            "Requirement already satisfied: lightgbm>=2.3.1 in /usr/local/lib/python3.6/dist-packages (from pycaret) (3.0.0)\n",
            "Requirement already satisfied: nltk in /usr/local/lib/python3.6/dist-packages (from pycaret) (3.2.5)\n",
            "Requirement already satisfied: spacy in /usr/local/lib/python3.6/dist-packages (from pycaret) (2.2.4)\n",
            "Requirement already satisfied: pyLDAvis in /usr/local/lib/python3.6/dist-packages (from pycaret) (2.1.2)\n",
            "Requirement already satisfied: seaborn in /usr/local/lib/python3.6/dist-packages (from pycaret) (0.11.0)\n",
            "Requirement already satisfied: xgboost>=1.1.0 in /usr/local/lib/python3.6/dist-packages (from pycaret) (1.2.1)\n",
            "Requirement already satisfied: textblob in /usr/local/lib/python3.6/dist-packages (from pycaret) (0.15.3)\n",
            "Requirement already satisfied: cufflinks>=0.17.0 in /usr/local/lib/python3.6/dist-packages (from pycaret) (0.17.3)\n",
            "Requirement already satisfied: imbalanced-learn>=0.7.0 in /usr/local/lib/python3.6/dist-packages (from pycaret) (0.7.0)\n",
            "Requirement already satisfied: kmodes>=0.10.1 in /usr/local/lib/python3.6/dist-packages (from pycaret) (0.10.2)\n",
            "Requirement already satisfied: pandas in /usr/local/lib/python3.6/dist-packages (from pycaret) (1.1.4)\n",
            "Requirement already satisfied: yellowbrick>=1.0.1 in /usr/local/lib/python3.6/dist-packages (from pycaret) (1.2)\n",
            "Requirement already satisfied: matplotlib in /usr/local/lib/python3.6/dist-packages (from pycaret) (3.2.2)\n",
            "Requirement already satisfied: pyod in /usr/local/lib/python3.6/dist-packages (from pycaret) (0.8.3)\n",
            "Requirement already satisfied: wordcloud in /usr/local/lib/python3.6/dist-packages (from pycaret) (1.5.0)\n",
            "Requirement already satisfied: umap-learn in /usr/local/lib/python3.6/dist-packages (from pycaret) (0.4.6)\n",
            "Requirement already satisfied: mlflow in /usr/local/lib/python3.6/dist-packages (from pycaret) (1.12.0)\n",
            "Requirement already satisfied: pandas-profiling>=2.8.0 in /usr/local/lib/python3.6/dist-packages (from pycaret) (2.9.0)\n",
            "Requirement already satisfied: gensim in /usr/local/lib/python3.6/dist-packages (from pycaret) (3.6.0)\n",
            "Requirement already satisfied: scikit-plot in /usr/local/lib/python3.6/dist-packages (from pycaret) (0.3.7)\n",
            "Requirement already satisfied: IPython in /usr/local/lib/python3.6/dist-packages (from pycaret) (5.5.0)\n",
            "Requirement already satisfied: scikit-learn>=0.23.2 in /usr/local/lib/python3.6/dist-packages (from pycaret) (0.23.2)\n",
            "Requirement already satisfied: catboost>=0.23.2 in /usr/local/lib/python3.6/dist-packages (from pycaret) (0.24.2)\n",
            "Requirement already satisfied: joblib in /usr/local/lib/python3.6/dist-packages (from pycaret) (0.17.0)\n",
            "Requirement already satisfied: mlxtend in /usr/local/lib/python3.6/dist-packages (from pycaret) (0.14.0)\n",
            "Requirement already satisfied: widgetsnbextension~=3.5.0 in /usr/local/lib/python3.6/dist-packages (from ipywidgets->pycaret) (3.5.1)\n",
            "Requirement already satisfied: ipykernel>=4.5.1 in /usr/local/lib/python3.6/dist-packages (from ipywidgets->pycaret) (4.10.1)\n",
            "Requirement already satisfied: nbformat>=4.2.0 in /usr/local/lib/python3.6/dist-packages (from ipywidgets->pycaret) (5.0.8)\n",
            "Requirement already satisfied: traitlets>=4.3.1 in /usr/local/lib/python3.6/dist-packages (from ipywidgets->pycaret) (4.3.3)\n",
            "Requirement already satisfied: six in /usr/local/lib/python3.6/dist-packages (from plotly>=4.4.1->pycaret) (1.15.0)\n",
            "Requirement already satisfied: retrying>=1.3.3 in /usr/local/lib/python3.6/dist-packages (from plotly>=4.4.1->pycaret) (1.3.3)\n",
            "Requirement already satisfied: scipy in /usr/local/lib/python3.6/dist-packages (from lightgbm>=2.3.1->pycaret) (1.4.1)\n",
            "Requirement already satisfied: preshed<3.1.0,>=3.0.2 in /usr/local/lib/python3.6/dist-packages (from spacy->pycaret) (3.0.2)\n",
            "Requirement already satisfied: thinc==7.4.0 in /usr/local/lib/python3.6/dist-packages (from spacy->pycaret) (7.4.0)\n",
            "Requirement already satisfied: wasabi<1.1.0,>=0.4.0 in /usr/local/lib/python3.6/dist-packages (from spacy->pycaret) (0.8.0)\n",
            "Requirement already satisfied: catalogue<1.1.0,>=0.0.7 in /usr/local/lib/python3.6/dist-packages (from spacy->pycaret) (1.0.0)\n",
            "Requirement already satisfied: murmurhash<1.1.0,>=0.28.0 in /usr/local/lib/python3.6/dist-packages (from spacy->pycaret) (1.0.3)\n",
            "Requirement already satisfied: requests<3.0.0,>=2.13.0 in /usr/local/lib/python3.6/dist-packages (from spacy->pycaret) (2.23.0)\n",
            "Requirement already satisfied: tqdm<5.0.0,>=4.38.0 in /usr/local/lib/python3.6/dist-packages (from spacy->pycaret) (4.51.0)\n",
            "Requirement already satisfied: cymem<2.1.0,>=2.0.2 in /usr/local/lib/python3.6/dist-packages (from spacy->pycaret) (2.0.4)\n",
            "Requirement already satisfied: blis<0.5.0,>=0.4.0 in /usr/local/lib/python3.6/dist-packages (from spacy->pycaret) (0.4.1)\n",
            "Requirement already satisfied: srsly<1.1.0,>=1.0.2 in /usr/local/lib/python3.6/dist-packages (from spacy->pycaret) (1.0.2)\n",
            "Requirement already satisfied: plac<1.2.0,>=0.9.6 in /usr/local/lib/python3.6/dist-packages (from spacy->pycaret) (1.1.3)\n",
            "Requirement already satisfied: setuptools in /usr/local/lib/python3.6/dist-packages (from spacy->pycaret) (50.3.2)\n",
            "Requirement already satisfied: wheel>=0.23.0 in /usr/local/lib/python3.6/dist-packages (from pyLDAvis->pycaret) (0.35.1)\n",
            "Requirement already satisfied: future in /usr/local/lib/python3.6/dist-packages (from pyLDAvis->pycaret) (0.16.0)\n",
            "Requirement already satisfied: numexpr in /usr/local/lib/python3.6/dist-packages (from pyLDAvis->pycaret) (2.7.1)\n",
            "Requirement already satisfied: jinja2>=2.7.2 in /usr/local/lib/python3.6/dist-packages (from pyLDAvis->pycaret) (2.11.2)\n",
            "Requirement already satisfied: pytest in /usr/local/lib/python3.6/dist-packages (from pyLDAvis->pycaret) (3.6.4)\n",
            "Requirement already satisfied: funcy in /usr/local/lib/python3.6/dist-packages (from pyLDAvis->pycaret) (1.15)\n",
            "Requirement already satisfied: colorlover>=0.2.1 in /usr/local/lib/python3.6/dist-packages (from cufflinks>=0.17.0->pycaret) (0.3.0)\n",
            "Requirement already satisfied: pytz>=2017.2 in /usr/local/lib/python3.6/dist-packages (from pandas->pycaret) (2018.9)\n",
            "Requirement already satisfied: python-dateutil>=2.7.3 in /usr/local/lib/python3.6/dist-packages (from pandas->pycaret) (2.8.1)\n",
            "Requirement already satisfied: cycler>=0.10.0 in /usr/local/lib/python3.6/dist-packages (from yellowbrick>=1.0.1->pycaret) (0.10.0)\n",
            "Requirement already satisfied: kiwisolver>=1.0.1 in /usr/local/lib/python3.6/dist-packages (from matplotlib->pycaret) (1.3.1)\n",
            "Requirement already satisfied: pyparsing!=2.0.4,!=2.1.2,!=2.1.6,>=2.0.1 in /usr/local/lib/python3.6/dist-packages (from matplotlib->pycaret) (2.4.7)\n",
            "Requirement already satisfied: suod in /usr/local/lib/python3.6/dist-packages (from pyod->pycaret) (0.0.4)\n",
            "Requirement already satisfied: numba>=0.35 in /usr/local/lib/python3.6/dist-packages (from pyod->pycaret) (0.48.0)\n",
            "Requirement already satisfied: statsmodels in /usr/local/lib/python3.6/dist-packages (from pyod->pycaret) (0.10.2)\n",
            "Requirement already satisfied: combo in /usr/local/lib/python3.6/dist-packages (from pyod->pycaret) (0.1.1)\n",
            "Requirement already satisfied: pillow in /usr/local/lib/python3.6/dist-packages (from wordcloud->pycaret) (7.0.0)\n",
            "Requirement already satisfied: docker>=4.0.0 in /usr/local/lib/python3.6/dist-packages (from mlflow->pycaret) (4.3.1)\n",
            "Requirement already satisfied: sqlalchemy in /usr/local/lib/python3.6/dist-packages (from mlflow->pycaret) (1.3.20)\n",
            "Requirement already satisfied: click>=7.0 in /usr/local/lib/python3.6/dist-packages (from mlflow->pycaret) (7.1.2)\n",
            "Requirement already satisfied: cloudpickle in /usr/local/lib/python3.6/dist-packages (from mlflow->pycaret) (1.3.0)\n",
            "Requirement already satisfied: pyyaml in /usr/local/lib/python3.6/dist-packages (from mlflow->pycaret) (3.13)\n",
            "Requirement already satisfied: alembic<=1.4.1 in /usr/local/lib/python3.6/dist-packages (from mlflow->pycaret) (1.4.1)\n",
            "Requirement already satisfied: Flask in /usr/local/lib/python3.6/dist-packages (from mlflow->pycaret) (1.1.2)\n",
            "Requirement already satisfied: gunicorn; platform_system != \"Windows\" in /usr/local/lib/python3.6/dist-packages (from mlflow->pycaret) (20.0.4)\n",
            "Requirement already satisfied: querystring-parser in /usr/local/lib/python3.6/dist-packages (from mlflow->pycaret) (1.2.4)\n",
            "Requirement already satisfied: databricks-cli>=0.8.7 in /usr/local/lib/python3.6/dist-packages (from mlflow->pycaret) (0.14.0)\n",
            "Requirement already satisfied: entrypoints in /usr/local/lib/python3.6/dist-packages (from mlflow->pycaret) (0.3)\n",
            "Requirement already satisfied: gitpython>=2.1.0 in /usr/local/lib/python3.6/dist-packages (from mlflow->pycaret) (3.1.11)\n",
            "Requirement already satisfied: azure-storage-blob in /usr/local/lib/python3.6/dist-packages (from mlflow->pycaret) (12.6.0)\n",
            "Requirement already satisfied: sqlparse>=0.3.1 in /usr/local/lib/python3.6/dist-packages (from mlflow->pycaret) (0.4.1)\n",
            "Requirement already satisfied: protobuf>=3.6.0 in /usr/local/lib/python3.6/dist-packages (from mlflow->pycaret) (3.12.4)\n",
            "Requirement already satisfied: prometheus-flask-exporter in /usr/local/lib/python3.6/dist-packages (from mlflow->pycaret) (0.18.1)\n",
            "Requirement already satisfied: htmlmin>=0.1.12 in /usr/local/lib/python3.6/dist-packages (from pandas-profiling>=2.8.0->pycaret) (0.1.12)\n",
            "Requirement already satisfied: missingno>=0.4.2 in /usr/local/lib/python3.6/dist-packages (from pandas-profiling>=2.8.0->pycaret) (0.4.2)\n",
            "Requirement already satisfied: tangled-up-in-unicode>=0.0.6 in /usr/local/lib/python3.6/dist-packages (from pandas-profiling>=2.8.0->pycaret) (0.0.6)\n",
            "Requirement already satisfied: phik>=0.9.10 in /usr/local/lib/python3.6/dist-packages (from pandas-profiling>=2.8.0->pycaret) (0.10.0)\n",
            "Requirement already satisfied: confuse>=1.0.0 in /usr/local/lib/python3.6/dist-packages (from pandas-profiling>=2.8.0->pycaret) (1.3.0)\n",
            "Requirement already satisfied: visions[type_image_path]==0.5.0 in /usr/local/lib/python3.6/dist-packages (from pandas-profiling>=2.8.0->pycaret) (0.5.0)\n",
            "Requirement already satisfied: attrs>=19.3.0 in /usr/local/lib/python3.6/dist-packages (from pandas-profiling>=2.8.0->pycaret) (20.2.0)\n",
            "Requirement already satisfied: smart-open>=1.2.1 in /usr/local/lib/python3.6/dist-packages (from gensim->pycaret) (3.0.0)\n",
            "Requirement already satisfied: decorator in /usr/local/lib/python3.6/dist-packages (from IPython->pycaret) (4.4.2)\n",
            "Requirement already satisfied: pexpect; sys_platform != \"win32\" in /usr/local/lib/python3.6/dist-packages (from IPython->pycaret) (4.8.0)\n",
            "Requirement already satisfied: pygments in /usr/local/lib/python3.6/dist-packages (from IPython->pycaret) (2.6.1)\n",
            "Requirement already satisfied: pickleshare in /usr/local/lib/python3.6/dist-packages (from IPython->pycaret) (0.7.5)\n",
            "Requirement already satisfied: simplegeneric>0.8 in /usr/local/lib/python3.6/dist-packages (from IPython->pycaret) (0.8.1)\n",
            "Requirement already satisfied: prompt-toolkit<2.0.0,>=1.0.4 in /usr/local/lib/python3.6/dist-packages (from IPython->pycaret) (1.0.18)\n",
            "Requirement already satisfied: threadpoolctl>=2.0.0 in /usr/local/lib/python3.6/dist-packages (from scikit-learn>=0.23.2->pycaret) (2.1.0)\n",
            "Requirement already satisfied: graphviz in /usr/local/lib/python3.6/dist-packages (from catboost>=0.23.2->pycaret) (0.10.1)\n",
            "Requirement already satisfied: notebook>=4.4.1 in /usr/local/lib/python3.6/dist-packages (from widgetsnbextension~=3.5.0->ipywidgets->pycaret) (5.3.1)\n",
            "Requirement already satisfied: tornado>=4.0 in /usr/local/lib/python3.6/dist-packages (from ipykernel>=4.5.1->ipywidgets->pycaret) (5.1.1)\n",
            "Requirement already satisfied: jupyter-client in /usr/local/lib/python3.6/dist-packages (from ipykernel>=4.5.1->ipywidgets->pycaret) (5.3.5)\n",
            "Requirement already satisfied: jsonschema!=2.5.0,>=2.4 in /usr/local/lib/python3.6/dist-packages (from nbformat>=4.2.0->ipywidgets->pycaret) (2.6.0)\n",
            "Requirement already satisfied: ipython-genutils in /usr/local/lib/python3.6/dist-packages (from nbformat>=4.2.0->ipywidgets->pycaret) (0.2.0)\n",
            "Requirement already satisfied: jupyter-core in /usr/local/lib/python3.6/dist-packages (from nbformat>=4.2.0->ipywidgets->pycaret) (4.6.3)\n",
            "Requirement already satisfied: importlib-metadata>=0.20; python_version < \"3.8\" in /usr/local/lib/python3.6/dist-packages (from catalogue<1.1.0,>=0.0.7->spacy->pycaret) (2.0.0)\n",
            "Requirement already satisfied: urllib3!=1.25.0,!=1.25.1,<1.26,>=1.21.1 in /usr/local/lib/python3.6/dist-packages (from requests<3.0.0,>=2.13.0->spacy->pycaret) (1.24.3)\n",
            "Requirement already satisfied: idna<3,>=2.5 in /usr/local/lib/python3.6/dist-packages (from requests<3.0.0,>=2.13.0->spacy->pycaret) (2.10)\n",
            "Requirement already satisfied: chardet<4,>=3.0.2 in /usr/local/lib/python3.6/dist-packages (from requests<3.0.0,>=2.13.0->spacy->pycaret) (3.0.4)\n",
            "Requirement already satisfied: certifi>=2017.4.17 in /usr/local/lib/python3.6/dist-packages (from requests<3.0.0,>=2.13.0->spacy->pycaret) (2020.6.20)\n",
            "Requirement already satisfied: MarkupSafe>=0.23 in /usr/local/lib/python3.6/dist-packages (from jinja2>=2.7.2->pyLDAvis->pycaret) (1.1.1)\n",
            "Requirement already satisfied: py>=1.5.0 in /usr/local/lib/python3.6/dist-packages (from pytest->pyLDAvis->pycaret) (1.9.0)\n",
            "Requirement already satisfied: pluggy<0.8,>=0.5 in /usr/local/lib/python3.6/dist-packages (from pytest->pyLDAvis->pycaret) (0.7.1)\n",
            "Requirement already satisfied: atomicwrites>=1.0 in /usr/local/lib/python3.6/dist-packages (from pytest->pyLDAvis->pycaret) (1.4.0)\n",
            "Requirement already satisfied: more-itertools>=4.0.0 in /usr/local/lib/python3.6/dist-packages (from pytest->pyLDAvis->pycaret) (8.6.0)\n",
            "Requirement already satisfied: llvmlite<0.32.0,>=0.31.0dev0 in /usr/local/lib/python3.6/dist-packages (from numba>=0.35->pyod->pycaret) (0.31.0)\n",
            "Requirement already satisfied: patsy>=0.4.0 in /usr/local/lib/python3.6/dist-packages (from statsmodels->pyod->pycaret) (0.5.1)\n",
            "Requirement already satisfied: websocket-client>=0.32.0 in /usr/local/lib/python3.6/dist-packages (from docker>=4.0.0->mlflow->pycaret) (0.57.0)\n",
            "Requirement already satisfied: python-editor>=0.3 in /usr/local/lib/python3.6/dist-packages (from alembic<=1.4.1->mlflow->pycaret) (1.0.4)\n",
            "Requirement already satisfied: Mako in /usr/local/lib/python3.6/dist-packages (from alembic<=1.4.1->mlflow->pycaret) (1.1.3)\n",
            "Requirement already satisfied: Werkzeug>=0.15 in /usr/local/lib/python3.6/dist-packages (from Flask->mlflow->pycaret) (1.0.1)\n",
            "Requirement already satisfied: itsdangerous>=0.24 in /usr/local/lib/python3.6/dist-packages (from Flask->mlflow->pycaret) (1.1.0)\n",
            "Requirement already satisfied: tabulate>=0.7.7 in /usr/local/lib/python3.6/dist-packages (from databricks-cli>=0.8.7->mlflow->pycaret) (0.8.7)\n",
            "Requirement already satisfied: gitdb<5,>=4.0.1 in /usr/local/lib/python3.6/dist-packages (from gitpython>=2.1.0->mlflow->pycaret) (4.0.5)\n",
            "Requirement already satisfied: azure-core<2.0.0,>=1.9.0 in /usr/local/lib/python3.6/dist-packages (from azure-storage-blob->mlflow->pycaret) (1.9.0)\n",
            "Requirement already satisfied: msrest>=0.6.10 in /usr/local/lib/python3.6/dist-packages (from azure-storage-blob->mlflow->pycaret) (0.6.19)\n",
            "Requirement already satisfied: cryptography>=2.1.4 in /usr/local/lib/python3.6/dist-packages (from azure-storage-blob->mlflow->pycaret) (3.2.1)\n",
            "Requirement already satisfied: prometheus-client in /usr/local/lib/python3.6/dist-packages (from prometheus-flask-exporter->mlflow->pycaret) (0.8.0)\n",
            "Requirement already satisfied: networkx>=2.4 in /usr/local/lib/python3.6/dist-packages (from visions[type_image_path]==0.5.0->pandas-profiling>=2.8.0->pycaret) (2.5)\n",
            "Requirement already satisfied: imagehash; extra == \"type_image_path\" in /usr/local/lib/python3.6/dist-packages (from visions[type_image_path]==0.5.0->pandas-profiling>=2.8.0->pycaret) (4.1.0)\n",
            "Requirement already satisfied: ptyprocess>=0.5 in /usr/local/lib/python3.6/dist-packages (from pexpect; sys_platform != \"win32\"->IPython->pycaret) (0.6.0)\n",
            "Requirement already satisfied: wcwidth in /usr/local/lib/python3.6/dist-packages (from prompt-toolkit<2.0.0,>=1.0.4->IPython->pycaret) (0.2.5)\n",
            "Requirement already satisfied: Send2Trash in /usr/local/lib/python3.6/dist-packages (from notebook>=4.4.1->widgetsnbextension~=3.5.0->ipywidgets->pycaret) (1.5.0)\n",
            "Requirement already satisfied: terminado>=0.8.1 in /usr/local/lib/python3.6/dist-packages (from notebook>=4.4.1->widgetsnbextension~=3.5.0->ipywidgets->pycaret) (0.9.1)\n",
            "Requirement already satisfied: nbconvert in /usr/local/lib/python3.6/dist-packages (from notebook>=4.4.1->widgetsnbextension~=3.5.0->ipywidgets->pycaret) (5.6.1)\n",
            "Requirement already satisfied: pyzmq>=13 in /usr/local/lib/python3.6/dist-packages (from jupyter-client->ipykernel>=4.5.1->ipywidgets->pycaret) (19.0.2)\n",
            "Requirement already satisfied: zipp>=0.5 in /usr/local/lib/python3.6/dist-packages (from importlib-metadata>=0.20; python_version < \"3.8\"->catalogue<1.1.0,>=0.0.7->spacy->pycaret) (3.4.0)\n",
            "Requirement already satisfied: smmap<4,>=3.0.1 in /usr/local/lib/python3.6/dist-packages (from gitdb<5,>=4.0.1->gitpython>=2.1.0->mlflow->pycaret) (3.0.4)\n",
            "Requirement already satisfied: isodate>=0.6.0 in /usr/local/lib/python3.6/dist-packages (from msrest>=0.6.10->azure-storage-blob->mlflow->pycaret) (0.6.0)\n",
            "Requirement already satisfied: requests-oauthlib>=0.5.0 in /usr/local/lib/python3.6/dist-packages (from msrest>=0.6.10->azure-storage-blob->mlflow->pycaret) (1.3.0)\n",
            "Requirement already satisfied: cffi!=1.11.3,>=1.8 in /usr/local/lib/python3.6/dist-packages (from cryptography>=2.1.4->azure-storage-blob->mlflow->pycaret) (1.14.3)\n",
            "Requirement already satisfied: PyWavelets in /usr/local/lib/python3.6/dist-packages (from imagehash; extra == \"type_image_path\"->visions[type_image_path]==0.5.0->pandas-profiling>=2.8.0->pycaret) (1.1.1)\n",
            "Requirement already satisfied: bleach in /usr/local/lib/python3.6/dist-packages (from nbconvert->notebook>=4.4.1->widgetsnbextension~=3.5.0->ipywidgets->pycaret) (3.2.1)\n",
            "Requirement already satisfied: mistune<2,>=0.8.1 in /usr/local/lib/python3.6/dist-packages (from nbconvert->notebook>=4.4.1->widgetsnbextension~=3.5.0->ipywidgets->pycaret) (0.8.4)\n",
            "Requirement already satisfied: pandocfilters>=1.4.1 in /usr/local/lib/python3.6/dist-packages (from nbconvert->notebook>=4.4.1->widgetsnbextension~=3.5.0->ipywidgets->pycaret) (1.4.3)\n",
            "Requirement already satisfied: defusedxml in /usr/local/lib/python3.6/dist-packages (from nbconvert->notebook>=4.4.1->widgetsnbextension~=3.5.0->ipywidgets->pycaret) (0.6.0)\n",
            "Requirement already satisfied: testpath in /usr/local/lib/python3.6/dist-packages (from nbconvert->notebook>=4.4.1->widgetsnbextension~=3.5.0->ipywidgets->pycaret) (0.4.4)\n",
            "Requirement already satisfied: oauthlib>=3.0.0 in /usr/local/lib/python3.6/dist-packages (from requests-oauthlib>=0.5.0->msrest>=0.6.10->azure-storage-blob->mlflow->pycaret) (3.1.0)\n",
            "Requirement already satisfied: pycparser in /usr/local/lib/python3.6/dist-packages (from cffi!=1.11.3,>=1.8->cryptography>=2.1.4->azure-storage-blob->mlflow->pycaret) (2.20)\n",
            "Requirement already satisfied: packaging in /usr/local/lib/python3.6/dist-packages (from bleach->nbconvert->notebook>=4.4.1->widgetsnbextension~=3.5.0->ipywidgets->pycaret) (20.4)\n",
            "Requirement already satisfied: webencodings in /usr/local/lib/python3.6/dist-packages (from bleach->nbconvert->notebook>=4.4.1->widgetsnbextension~=3.5.0->ipywidgets->pycaret) (0.5.1)\n",
            "Requirement already satisfied: missingpy in /usr/local/lib/python3.6/dist-packages (0.2.0)\n"
          ],
          "name": "stdout"
        }
      ]
    },
    {
      "cell_type": "code",
      "metadata": {
        "id": "1FW0h1qO6a6t"
      },
      "source": [
        "train = pd.read_csv('/content/drive/My Drive/dg_univ_2020_ml/train.csv')\n",
        "test = pd.read_csv('/content/drive/My Drive/dg_univ_2020_ml/test.csv')"
      ],
      "execution_count": 115,
      "outputs": []
    },
    {
      "cell_type": "code",
      "metadata": {
        "id": "bOY5R0C06a6v",
        "outputId": "96bd6b62-098f-4998-ad05-97f46fca2b81",
        "colab": {
          "base_uri": "https://localhost:8080/"
        }
      },
      "source": [
        "print(train.shape)\n",
        "print(test.shape)"
      ],
      "execution_count": 116,
      "outputs": [
        {
          "output_type": "stream",
          "text": [
            "(11769, 15)\n",
            "(5789, 13)\n"
          ],
          "name": "stdout"
        }
      ]
    },
    {
      "cell_type": "code",
      "metadata": {
        "id": "mBkoB9E56a6y",
        "outputId": "79d32ca7-491f-4e19-f45b-ef271bc7a4c8",
        "colab": {
          "base_uri": "https://localhost:8080/",
          "height": 288
        }
      },
      "source": [
        "train.head()"
      ],
      "execution_count": 117,
      "outputs": [
        {
          "output_type": "execute_result",
          "data": {
            "text/html": [
              "<div>\n",
              "<style scoped>\n",
              "    .dataframe tbody tr th:only-of-type {\n",
              "        vertical-align: middle;\n",
              "    }\n",
              "\n",
              "    .dataframe tbody tr th {\n",
              "        vertical-align: top;\n",
              "    }\n",
              "\n",
              "    .dataframe thead th {\n",
              "        text-align: right;\n",
              "    }\n",
              "</style>\n",
              "<table border=\"1\" class=\"dataframe\">\n",
              "  <thead>\n",
              "    <tr style=\"text-align: right;\">\n",
              "      <th></th>\n",
              "      <th>no</th>\n",
              "      <th>모델명</th>\n",
              "      <th>연월</th>\n",
              "      <th>연식</th>\n",
              "      <th>연료</th>\n",
              "      <th>주행거리</th>\n",
              "      <th>인승</th>\n",
              "      <th>최대출력(마력)</th>\n",
              "      <th>기통</th>\n",
              "      <th>최대토크(kgm)</th>\n",
              "      <th>구동방식</th>\n",
              "      <th>자동수동</th>\n",
              "      <th>국산/수입</th>\n",
              "      <th>신차가(만원)</th>\n",
              "      <th>가격(만원)</th>\n",
              "    </tr>\n",
              "  </thead>\n",
              "  <tbody>\n",
              "    <tr>\n",
              "      <th>0</th>\n",
              "      <td>0</td>\n",
              "      <td>기아 더 뉴 K7 2.4 GDI 프레스티지 스페셜</td>\n",
              "      <td>12/12(13년형)</td>\n",
              "      <td>2013.0</td>\n",
              "      <td>가솔린</td>\n",
              "      <td>4만km</td>\n",
              "      <td>NaN</td>\n",
              "      <td>201.0</td>\n",
              "      <td>4.0</td>\n",
              "      <td>25.5</td>\n",
              "      <td>FF</td>\n",
              "      <td>NaN</td>\n",
              "      <td>국산</td>\n",
              "      <td>3141.0</td>\n",
              "      <td>1870.0</td>\n",
              "    </tr>\n",
              "    <tr>\n",
              "      <th>1</th>\n",
              "      <td>1</td>\n",
              "      <td>현대 YF쏘나타 2.0 Y20 LPi 프리미어</td>\n",
              "      <td>10/03</td>\n",
              "      <td>2010.0</td>\n",
              "      <td>LPG</td>\n",
              "      <td>9만km</td>\n",
              "      <td>NaN</td>\n",
              "      <td>157.0</td>\n",
              "      <td>NaN</td>\n",
              "      <td>20.0</td>\n",
              "      <td>FF</td>\n",
              "      <td>NaN</td>\n",
              "      <td>국산</td>\n",
              "      <td>NaN</td>\n",
              "      <td>700.0</td>\n",
              "    </tr>\n",
              "    <tr>\n",
              "      <th>2</th>\n",
              "      <td>2</td>\n",
              "      <td>현대 그랜져HG 220 디젤 프리미엄</td>\n",
              "      <td>14/09(15년형)</td>\n",
              "      <td>2015.0</td>\n",
              "      <td>디젤</td>\n",
              "      <td>3만km</td>\n",
              "      <td>NaN</td>\n",
              "      <td>202.0</td>\n",
              "      <td>4.0</td>\n",
              "      <td>45.0</td>\n",
              "      <td>FF</td>\n",
              "      <td>NaN</td>\n",
              "      <td>국산</td>\n",
              "      <td>3389.0</td>\n",
              "      <td>2990.0</td>\n",
              "    </tr>\n",
              "    <tr>\n",
              "      <th>3</th>\n",
              "      <td>3</td>\n",
              "      <td>쌍용 뉴카이런 2.0 LV5 2WD 고급형</td>\n",
              "      <td>07/06(08년형)</td>\n",
              "      <td>2008.0</td>\n",
              "      <td>디젤</td>\n",
              "      <td>16만km</td>\n",
              "      <td>NaN</td>\n",
              "      <td>151.0</td>\n",
              "      <td>4.0</td>\n",
              "      <td>33.8</td>\n",
              "      <td>FR</td>\n",
              "      <td>NaN</td>\n",
              "      <td>국산</td>\n",
              "      <td>2499.0</td>\n",
              "      <td>420.0</td>\n",
              "    </tr>\n",
              "    <tr>\n",
              "      <th>4</th>\n",
              "      <td>4</td>\n",
              "      <td>현대 뉴스타렉스 점보 밴 TCI 3인승 GX 윈도우밴 일반형</td>\n",
              "      <td>04/03</td>\n",
              "      <td>2004.0</td>\n",
              "      <td>디젤</td>\n",
              "      <td>16만km</td>\n",
              "      <td>3.0</td>\n",
              "      <td>103.0</td>\n",
              "      <td>NaN</td>\n",
              "      <td>24.0</td>\n",
              "      <td>FR</td>\n",
              "      <td>수동</td>\n",
              "      <td>국산</td>\n",
              "      <td>1445.0</td>\n",
              "      <td>450.0</td>\n",
              "    </tr>\n",
              "  </tbody>\n",
              "</table>\n",
              "</div>"
            ],
            "text/plain": [
              "   no                                모델명           연월  ...  국산/수입 신차가(만원)  가격(만원)\n",
              "0   0        기아 더 뉴 K7 2.4 GDI 프레스티지 스페셜  12/12(13년형)  ...     국산  3141.0  1870.0\n",
              "1   1          현대 YF쏘나타 2.0 Y20 LPi 프리미어        10/03  ...     국산     NaN   700.0\n",
              "2   2               현대 그랜져HG 220 디젤 프리미엄  14/09(15년형)  ...     국산  3389.0  2990.0\n",
              "3   3            쌍용 뉴카이런 2.0 LV5 2WD 고급형  07/06(08년형)  ...     국산  2499.0   420.0\n",
              "4   4  현대 뉴스타렉스 점보 밴 TCI 3인승 GX 윈도우밴 일반형        04/03  ...     국산  1445.0   450.0\n",
              "\n",
              "[5 rows x 15 columns]"
            ]
          },
          "metadata": {
            "tags": []
          },
          "execution_count": 117
        }
      ]
    },
    {
      "cell_type": "code",
      "metadata": {
        "id": "yotU_9Vq6a61",
        "outputId": "0e5675fa-79aa-41bc-c745-14b69e6c93ed",
        "colab": {
          "base_uri": "https://localhost:8080/"
        }
      },
      "source": [
        "train.info()"
      ],
      "execution_count": 118,
      "outputs": [
        {
          "output_type": "stream",
          "text": [
            "<class 'pandas.core.frame.DataFrame'>\n",
            "RangeIndex: 11769 entries, 0 to 11768\n",
            "Data columns (total 15 columns):\n",
            " #   Column     Non-Null Count  Dtype  \n",
            "---  ------     --------------  -----  \n",
            " 0   no         11769 non-null  int64  \n",
            " 1   모델명        11769 non-null  object \n",
            " 2   연월         11769 non-null  object \n",
            " 3   연식         11769 non-null  float64\n",
            " 4   연료         11769 non-null  object \n",
            " 5   주행거리       11769 non-null  object \n",
            " 6   인승         765 non-null    float64\n",
            " 7   최대출력(마력)   10644 non-null  float64\n",
            " 8   기통         8698 non-null   float64\n",
            " 9   최대토크(kgm)  10545 non-null  float64\n",
            " 10  구동방식       10808 non-null  object \n",
            " 11  자동수동       1313 non-null   object \n",
            " 12  국산/수입      11769 non-null  object \n",
            " 13  신차가(만원)    9544 non-null   float64\n",
            " 14  가격(만원)     11769 non-null  float64\n",
            "dtypes: float64(7), int64(1), object(7)\n",
            "memory usage: 1.3+ MB\n"
          ],
          "name": "stdout"
        }
      ]
    },
    {
      "cell_type": "code",
      "metadata": {
        "id": "RfehfOEC6a63",
        "outputId": "a96d64a0-63c2-438c-a138-18542126d32b",
        "colab": {
          "base_uri": "https://localhost:8080/"
        }
      },
      "source": [
        "test.info()"
      ],
      "execution_count": 119,
      "outputs": [
        {
          "output_type": "stream",
          "text": [
            "<class 'pandas.core.frame.DataFrame'>\n",
            "RangeIndex: 5789 entries, 0 to 5788\n",
            "Data columns (total 13 columns):\n",
            " #   Column     Non-Null Count  Dtype  \n",
            "---  ------     --------------  -----  \n",
            " 0   no         5789 non-null   int64  \n",
            " 1   모델명        5789 non-null   object \n",
            " 2   연월         5789 non-null   object \n",
            " 3   연식         5789 non-null   float64\n",
            " 4   연료         5789 non-null   object \n",
            " 5   주행거리       5789 non-null   object \n",
            " 6   인승         389 non-null    float64\n",
            " 7   최대출력(마력)   5237 non-null   float64\n",
            " 8   기통         4275 non-null   float64\n",
            " 9   최대토크(kgm)  5183 non-null   float64\n",
            " 10  구동방식       5312 non-null   object \n",
            " 11  자동수동       665 non-null    object \n",
            " 12  국산/수입      5789 non-null   object \n",
            "dtypes: float64(5), int64(1), object(7)\n",
            "memory usage: 588.1+ KB\n"
          ],
          "name": "stdout"
        }
      ]
    },
    {
      "cell_type": "markdown",
      "metadata": {
        "id": "BczFAUo-6a65"
      },
      "source": [
        "# Translate all column name to English"
      ]
    },
    {
      "cell_type": "code",
      "metadata": {
        "id": "tVtw7Vzr6a65"
      },
      "source": [
        "train.columns = ['no', 'modelname', 'ym', 'yeartype', 'fuel', 'dist', 'people', 'power', 'cylinder', 'torque', 'type', 'mission', 'country', 'newprice', 'price']\n",
        "test.columns = ['no', 'modelname', 'ym', 'yeartype', 'fuel', 'dist', 'people', 'power', 'cylinder', 'torque', 'type', 'mission', 'country']"
      ],
      "execution_count": 120,
      "outputs": []
    },
    {
      "cell_type": "code",
      "metadata": {
        "id": "eZg5qaNd6a68",
        "outputId": "52493cc7-d722-44f6-807b-b245e6763cfa",
        "colab": {
          "base_uri": "https://localhost:8080/"
        }
      },
      "source": [
        "train.info()"
      ],
      "execution_count": 121,
      "outputs": [
        {
          "output_type": "stream",
          "text": [
            "<class 'pandas.core.frame.DataFrame'>\n",
            "RangeIndex: 11769 entries, 0 to 11768\n",
            "Data columns (total 15 columns):\n",
            " #   Column     Non-Null Count  Dtype  \n",
            "---  ------     --------------  -----  \n",
            " 0   no         11769 non-null  int64  \n",
            " 1   modelname  11769 non-null  object \n",
            " 2   ym         11769 non-null  object \n",
            " 3   yeartype   11769 non-null  float64\n",
            " 4   fuel       11769 non-null  object \n",
            " 5   dist       11769 non-null  object \n",
            " 6   people     765 non-null    float64\n",
            " 7   power      10644 non-null  float64\n",
            " 8   cylinder   8698 non-null   float64\n",
            " 9   torque     10545 non-null  float64\n",
            " 10  type       10808 non-null  object \n",
            " 11  mission    1313 non-null   object \n",
            " 12  country    11769 non-null  object \n",
            " 13  newprice   9544 non-null   float64\n",
            " 14  price      11769 non-null  float64\n",
            "dtypes: float64(7), int64(1), object(7)\n",
            "memory usage: 1.3+ MB\n"
          ],
          "name": "stdout"
        }
      ]
    },
    {
      "cell_type": "code",
      "metadata": {
        "id": "aG3tClND6a6-",
        "outputId": "2323bee9-6c5b-4207-b0ab-53d592783259",
        "colab": {
          "base_uri": "https://localhost:8080/"
        }
      },
      "source": [
        "test.info()"
      ],
      "execution_count": 122,
      "outputs": [
        {
          "output_type": "stream",
          "text": [
            "<class 'pandas.core.frame.DataFrame'>\n",
            "RangeIndex: 5789 entries, 0 to 5788\n",
            "Data columns (total 13 columns):\n",
            " #   Column     Non-Null Count  Dtype  \n",
            "---  ------     --------------  -----  \n",
            " 0   no         5789 non-null   int64  \n",
            " 1   modelname  5789 non-null   object \n",
            " 2   ym         5789 non-null   object \n",
            " 3   yeartype   5789 non-null   float64\n",
            " 4   fuel       5789 non-null   object \n",
            " 5   dist       5789 non-null   object \n",
            " 6   people     389 non-null    float64\n",
            " 7   power      5237 non-null   float64\n",
            " 8   cylinder   4275 non-null   float64\n",
            " 9   torque     5183 non-null   float64\n",
            " 10  type       5312 non-null   object \n",
            " 11  mission    665 non-null    object \n",
            " 12  country    5789 non-null   object \n",
            "dtypes: float64(5), int64(1), object(7)\n",
            "memory usage: 588.1+ KB\n"
          ],
          "name": "stdout"
        }
      ]
    },
    {
      "cell_type": "markdown",
      "metadata": {
        "id": "B0zOiNulQ7sl"
      },
      "source": [
        "# Drop columns"
      ]
    },
    {
      "cell_type": "code",
      "metadata": {
        "id": "f3fBZeX96a7D"
      },
      "source": [
        "train_no = train['no']\n",
        "test_no = test['no']\n",
        "\n",
        "train = train.drop(['no'], axis=1)\n",
        "test = test.drop(['no'], axis=1)"
      ],
      "execution_count": 123,
      "outputs": []
    },
    {
      "cell_type": "code",
      "metadata": {
        "id": "uiilDvoOH0BO"
      },
      "source": [
        "train = train.drop(['newprice', 'people', 'ym', 'country'], axis=1)\n",
        "test = test.drop(['people', 'ym', 'country'], axis=1)"
      ],
      "execution_count": 124,
      "outputs": []
    },
    {
      "cell_type": "code",
      "metadata": {
        "id": "LGTxTbVbRR_L",
        "outputId": "9fadb403-c8a6-45ac-b267-a50ba1d81afa",
        "colab": {
          "base_uri": "https://localhost:8080/"
        }
      },
      "source": [
        "train.info()"
      ],
      "execution_count": 125,
      "outputs": [
        {
          "output_type": "stream",
          "text": [
            "<class 'pandas.core.frame.DataFrame'>\n",
            "RangeIndex: 11769 entries, 0 to 11768\n",
            "Data columns (total 10 columns):\n",
            " #   Column     Non-Null Count  Dtype  \n",
            "---  ------     --------------  -----  \n",
            " 0   modelname  11769 non-null  object \n",
            " 1   yeartype   11769 non-null  float64\n",
            " 2   fuel       11769 non-null  object \n",
            " 3   dist       11769 non-null  object \n",
            " 4   power      10644 non-null  float64\n",
            " 5   cylinder   8698 non-null   float64\n",
            " 6   torque     10545 non-null  float64\n",
            " 7   type       10808 non-null  object \n",
            " 8   mission    1313 non-null   object \n",
            " 9   price      11769 non-null  float64\n",
            "dtypes: float64(5), object(5)\n",
            "memory usage: 919.6+ KB\n"
          ],
          "name": "stdout"
        }
      ]
    },
    {
      "cell_type": "code",
      "metadata": {
        "id": "v5noFZSKRVib",
        "outputId": "548d08a3-91f6-4537-cae1-3a7c2fedaff3",
        "colab": {
          "base_uri": "https://localhost:8080/"
        }
      },
      "source": [
        "test.info()"
      ],
      "execution_count": 126,
      "outputs": [
        {
          "output_type": "stream",
          "text": [
            "<class 'pandas.core.frame.DataFrame'>\n",
            "RangeIndex: 5789 entries, 0 to 5788\n",
            "Data columns (total 9 columns):\n",
            " #   Column     Non-Null Count  Dtype  \n",
            "---  ------     --------------  -----  \n",
            " 0   modelname  5789 non-null   object \n",
            " 1   yeartype   5789 non-null   float64\n",
            " 2   fuel       5789 non-null   object \n",
            " 3   dist       5789 non-null   object \n",
            " 4   power      5237 non-null   float64\n",
            " 5   cylinder   4275 non-null   float64\n",
            " 6   torque     5183 non-null   float64\n",
            " 7   type       5312 non-null   object \n",
            " 8   mission    665 non-null    object \n",
            "dtypes: float64(4), object(5)\n",
            "memory usage: 407.2+ KB\n"
          ],
          "name": "stdout"
        }
      ]
    },
    {
      "cell_type": "markdown",
      "metadata": {
        "id": "hZU6Vech6a7F"
      },
      "source": [
        "# Getting started (All columns here)\n",
        "```\n",
        "0   no         11769 non-null  int64    \n",
        "1   모델명        11769 non-null  object   \n",
        "2   연월         11769 non-null  object   \n",
        "3   연식         11769 non-null  float64  \n",
        "4   연료         11769 non-null  object   \n",
        "5   주행거리       11769 non-null  object   \n",
        "6   인승         765 non-null    float64  \n",
        "7   최대출력(마력)   10644 non-null  float64  \n",
        "8   기통         8698 non-null   float64  \n",
        "9   최대토크(kgm)  10545 non-null  float64  \n",
        "10  구동방식       10808 non-null  object   \n",
        "11  자동수동       1313 non-null   object   \n",
        "12  국산/수입      11769 non-null  object   \n",
        "13  신차가(만원)    9544 non-null   float64  \n",
        "14  가격(만원)     11769 non-null  float64  \n",
        "```\n",
        "\n",
        "```\n",
        "0   no         11769 non-null  int64  \n",
        "1   modelname  11769 non-null  object \n",
        "2   ym         11769 non-null  object \n",
        "3   yeartype   11769 non-null  float64\n",
        "4   fuel       11769 non-null  object \n",
        "5   dist       11769 non-null  object \n",
        "6   people     765 non-null    float64\n",
        "7   power      10644 non-null  float64\n",
        "8   cylinder   8698 non-null   float64\n",
        "9   torque     10545 non-null  float64\n",
        "10  type       10808 non-null  object \n",
        "11  mission    1313 non-null   object \n",
        "12  country    11769 non-null  object \n",
        "13  newprice   9544 non-null   float64\n",
        "14  price      11769 non-null  float64\n",
        "```"
      ]
    },
    {
      "cell_type": "markdown",
      "metadata": {
        "id": "Y06b-JkTXdtW"
      },
      "source": [
        "# Outlier check, remove"
      ]
    },
    {
      "cell_type": "code",
      "metadata": {
        "id": "q5zJUjtzXbok",
        "outputId": "c52d6b3b-342f-4d6a-8fa5-b90fbb0a003d",
        "colab": {
          "base_uri": "https://localhost:8080/",
          "height": 282
        }
      },
      "source": [
        "fig, ax = plt.subplots()\n",
        "ax.scatter(x=train['yeartype'], y=train['price'])\n",
        "plt.xlabel('yeartype', fontsize=13)\n",
        "plt.ylabel('price', fontsize=13)\n",
        "plt.show()"
      ],
      "execution_count": 127,
      "outputs": [
        {
          "output_type": "display_data",
          "data": {
            "image/png": "[encoded data removed]",
            "text/plain": [
              "<Figure size 432x288 with 1 Axes>"
            ]
          },
          "metadata": {
            "tags": [],
            "needs_background": "light"
          }
        }
      ]
    },
    {
      "cell_type": "code",
      "metadata": {
        "id": "0POa7NCwcgMY"
      },
      "source": [
        "train = train.drop(train[(train['price'] > 40000)].index)"
      ],
      "execution_count": 128,
      "outputs": []
    },
    {
      "cell_type": "code",
      "metadata": {
        "id": "kNlsUcNpcwsM",
        "outputId": "2a7106c6-334d-4683-b479-83ad68a319d1",
        "colab": {
          "base_uri": "https://localhost:8080/",
          "height": 48
        }
      },
      "source": [
        "train[(train['price'] > 40000)]"
      ],
      "execution_count": 129,
      "outputs": [
        {
          "output_type": "execute_result",
          "data": {
            "text/html": [
              "<div>\n",
              "<style scoped>\n",
              "    .dataframe tbody tr th:only-of-type {\n",
              "        vertical-align: middle;\n",
              "    }\n",
              "\n",
              "    .dataframe tbody tr th {\n",
              "        vertical-align: top;\n",
              "    }\n",
              "\n",
              "    .dataframe thead th {\n",
              "        text-align: right;\n",
              "    }\n",
              "</style>\n",
              "<table border=\"1\" class=\"dataframe\">\n",
              "  <thead>\n",
              "    <tr style=\"text-align: right;\">\n",
              "      <th></th>\n",
              "      <th>modelname</th>\n",
              "      <th>yeartype</th>\n",
              "      <th>fuel</th>\n",
              "      <th>dist</th>\n",
              "      <th>power</th>\n",
              "      <th>cylinder</th>\n",
              "      <th>torque</th>\n",
              "      <th>type</th>\n",
              "      <th>mission</th>\n",
              "      <th>price</th>\n",
              "    </tr>\n",
              "  </thead>\n",
              "  <tbody>\n",
              "  </tbody>\n",
              "</table>\n",
              "</div>"
            ],
            "text/plain": [
              "Empty DataFrame\n",
              "Columns: [modelname, yeartype, fuel, dist, power, cylinder, torque, type, mission, price]\n",
              "Index: []"
            ]
          },
          "metadata": {
            "tags": []
          },
          "execution_count": 129
        }
      ]
    },
    {
      "cell_type": "markdown",
      "metadata": {
        "id": "w51aVFe6GSeJ"
      },
      "source": [
        "# 최소한의 전처리"
      ]
    },
    {
      "cell_type": "markdown",
      "metadata": {
        "id": "WJAoJ-h9R_EQ"
      },
      "source": [
        "## 5 주행거리 dist 11769 non-null object"
      ]
    },
    {
      "cell_type": "code",
      "metadata": {
        "id": "DI6C9oM6R_ZI"
      },
      "source": [
        "def preprocess_dist(x):\n",
        "    # '등록'은 나중에 평균으로 채울 거임\n",
        "    if x == '등록':\n",
        "        return None\n",
        "\n",
        "    if x[-2:] == 'km':\n",
        "        # kilometer\n",
        "        x = x.split('km')[0]\n",
        "        weight = 1\n",
        "    else:\n",
        "        # mile\n",
        "        assert x[-2:] == 'ml'\n",
        "        x = x.split('ml')[0]\n",
        "        weight = 1.609344\n",
        "\n",
        "    if x[-1] == '만':\n",
        "        x = float(x.split('만')[0]) * 10000\n",
        "    elif x[-1] == '천':\n",
        "        x = float(x.split('천')[0]) * 1000\n",
        "\n",
        "    return float(x * weight)"
      ],
      "execution_count": 130,
      "outputs": []
    },
    {
      "cell_type": "code",
      "metadata": {
        "id": "uROw57oQSIsk"
      },
      "source": [
        "train['dist'] = train['dist'].apply(preprocess_dist)\n",
        "test['dist'] = test['dist'].apply(preprocess_dist)"
      ],
      "execution_count": 131,
      "outputs": []
    },
    {
      "cell_type": "markdown",
      "metadata": {
        "id": "Mybv9OKfShPO"
      },
      "source": [
        "## 11 자동수동 mission 1313 non-null object"
      ]
    },
    {
      "cell_type": "code",
      "metadata": {
        "id": "ZCZgxGnNSha7"
      },
      "source": [
        "train['mission'] = train['mission'].fillna('자동')\n",
        "test['mission'] = test['mission'].fillna('자동')"
      ],
      "execution_count": 132,
      "outputs": []
    },
    {
      "cell_type": "markdown",
      "metadata": {
        "id": "thUcQ3v1TEkd"
      },
      "source": [
        "# Model"
      ]
    },
    {
      "cell_type": "code",
      "metadata": {
        "id": "nZfLm4AyTfdP",
        "outputId": "70a230e9-1fc5-4b94-fd98-47d029bd949a",
        "colab": {
          "base_uri": "https://localhost:8080/",
          "height": 1000,
          "referenced_widgets": [
            "8314f57ca361486083074196d6bc196d",
            "82e5e3f070544801819840b4b5efa2a1",
            "46a49fdc57ef411181629424065e0eea",
            "4d533e1f7fab41cd9df8e864be731cc6",
            "65ce9d2702364f559c74ea69d1de2a48",
            "27fea1ae77bf4494992ab5886dc12ab7"
          ]
        }
      },
      "source": [
        "clf = setup(data=train, \n",
        "            target='price', \n",
        "            use_gpu=True, \n",
        "            numeric_imputation='median', \n",
        "            remove_outliers=True,\n",
        "            transformation=True, transformation_method='yeo-johnson',\n",
        "            normalize=True, normalize_method='maxabs'\n",
        "            )"
      ],
      "execution_count": 133,
      "outputs": [
        {
          "output_type": "display_data",
          "data": {
            "text/html": [
              "<div>\n",
              "<style scoped>\n",
              "    .dataframe tbody tr th:only-of-type {\n",
              "        vertical-align: middle;\n",
              "    }\n",
              "\n",
              "    .dataframe tbody tr th {\n",
              "        vertical-align: top;\n",
              "    }\n",
              "\n",
              "    .dataframe thead th {\n",
              "        text-align: right;\n",
              "    }\n",
              "</style>\n",
              "<table border=\"1\" class=\"dataframe\">\n",
              "  <thead>\n",
              "    <tr style=\"text-align: right;\">\n",
              "      <th></th>\n",
              "      <th>Description</th>\n",
              "      <th>Value</th>\n",
              "    </tr>\n",
              "  </thead>\n",
              "  <tbody>\n",
              "    <tr>\n",
              "      <th>0</th>\n",
              "      <td>session_id</td>\n",
              "      <td>7993</td>\n",
              "    </tr>\n",
              "    <tr>\n",
              "      <th>1</th>\n",
              "      <td>Target</td>\n",
              "      <td>price</td>\n",
              "    </tr>\n",
              "    <tr>\n",
              "      <th>2</th>\n",
              "      <td>Original Data</td>\n",
              "      <td>(11767, 10)</td>\n",
              "    </tr>\n",
              "    <tr>\n",
              "      <th>3</th>\n",
              "      <td>Missing Values</td>\n",
              "      <td>True</td>\n",
              "    </tr>\n",
              "    <tr>\n",
              "      <th>4</th>\n",
              "      <td>Numeric Features</td>\n",
              "      <td>4</td>\n",
              "    </tr>\n",
              "    <tr>\n",
              "      <th>5</th>\n",
              "      <td>Categorical Features</td>\n",
              "      <td>5</td>\n",
              "    </tr>\n",
              "    <tr>\n",
              "      <th>6</th>\n",
              "      <td>Ordinal Features</td>\n",
              "      <td>False</td>\n",
              "    </tr>\n",
              "    <tr>\n",
              "      <th>7</th>\n",
              "      <td>High Cardinality Features</td>\n",
              "      <td>False</td>\n",
              "    </tr>\n",
              "    <tr>\n",
              "      <th>8</th>\n",
              "      <td>High Cardinality Method</td>\n",
              "      <td>None</td>\n",
              "    </tr>\n",
              "    <tr>\n",
              "      <th>9</th>\n",
              "      <td>Transformed Train Set</td>\n",
              "      <td>(7824, 1915)</td>\n",
              "    </tr>\n",
              "    <tr>\n",
              "      <th>10</th>\n",
              "      <td>Transformed Test Set</td>\n",
              "      <td>(3531, 1915)</td>\n",
              "    </tr>\n",
              "    <tr>\n",
              "      <th>11</th>\n",
              "      <td>Shuffle Train-Test</td>\n",
              "      <td>True</td>\n",
              "    </tr>\n",
              "    <tr>\n",
              "      <th>12</th>\n",
              "      <td>Stratify Train-Test</td>\n",
              "      <td>False</td>\n",
              "    </tr>\n",
              "    <tr>\n",
              "      <th>13</th>\n",
              "      <td>Fold Generator</td>\n",
              "      <td>KFold</td>\n",
              "    </tr>\n",
              "    <tr>\n",
              "      <th>14</th>\n",
              "      <td>Fold Number</td>\n",
              "      <td>10</td>\n",
              "    </tr>\n",
              "    <tr>\n",
              "      <th>15</th>\n",
              "      <td>CPU Jobs</td>\n",
              "      <td>-1</td>\n",
              "    </tr>\n",
              "    <tr>\n",
              "      <th>16</th>\n",
              "      <td>Use GPU</td>\n",
              "      <td>True</td>\n",
              "    </tr>\n",
              "    <tr>\n",
              "      <th>17</th>\n",
              "      <td>Log Experiment</td>\n",
              "      <td>False</td>\n",
              "    </tr>\n",
              "    <tr>\n",
              "      <th>18</th>\n",
              "      <td>Experiment Name</td>\n",
              "      <td>reg-default-name</td>\n",
              "    </tr>\n",
              "    <tr>\n",
              "      <th>19</th>\n",
              "      <td>USI</td>\n",
              "      <td>4cd5</td>\n",
              "    </tr>\n",
              "    <tr>\n",
              "      <th>20</th>\n",
              "      <td>Imputation Type</td>\n",
              "      <td>simple</td>\n",
              "    </tr>\n",
              "    <tr>\n",
              "      <th>21</th>\n",
              "      <td>Iterative Imputation Iteration</td>\n",
              "      <td>None</td>\n",
              "    </tr>\n",
              "    <tr>\n",
              "      <th>22</th>\n",
              "      <td>Numeric Imputer</td>\n",
              "      <td>median</td>\n",
              "    </tr>\n",
              "    <tr>\n",
              "      <th>23</th>\n",
              "      <td>Iterative Imputation Numeric Model</td>\n",
              "      <td>None</td>\n",
              "    </tr>\n",
              "    <tr>\n",
              "      <th>24</th>\n",
              "      <td>Categorical Imputer</td>\n",
              "      <td>constant</td>\n",
              "    </tr>\n",
              "    <tr>\n",
              "      <th>25</th>\n",
              "      <td>Iterative Imputation Categorical Model</td>\n",
              "      <td>None</td>\n",
              "    </tr>\n",
              "    <tr>\n",
              "      <th>26</th>\n",
              "      <td>Unknown Categoricals Handling</td>\n",
              "      <td>least_frequent</td>\n",
              "    </tr>\n",
              "    <tr>\n",
              "      <th>27</th>\n",
              "      <td>Normalize</td>\n",
              "      <td>True</td>\n",
              "    </tr>\n",
              "    <tr>\n",
              "      <th>28</th>\n",
              "      <td>Normalize Method</td>\n",
              "      <td>maxabs</td>\n",
              "    </tr>\n",
              "    <tr>\n",
              "      <th>29</th>\n",
              "      <td>Transformation</td>\n",
              "      <td>True</td>\n",
              "    </tr>\n",
              "    <tr>\n",
              "      <th>30</th>\n",
              "      <td>Transformation Method</td>\n",
              "      <td>yeo-johnson</td>\n",
              "    </tr>\n",
              "    <tr>\n",
              "      <th>31</th>\n",
              "      <td>PCA</td>\n",
              "      <td>False</td>\n",
              "    </tr>\n",
              "    <tr>\n",
              "      <th>32</th>\n",
              "      <td>PCA Method</td>\n",
              "      <td>None</td>\n",
              "    </tr>\n",
              "    <tr>\n",
              "      <th>33</th>\n",
              "      <td>PCA Components</td>\n",
              "      <td>None</td>\n",
              "    </tr>\n",
              "    <tr>\n",
              "      <th>34</th>\n",
              "      <td>Ignore Low Variance</td>\n",
              "      <td>False</td>\n",
              "    </tr>\n",
              "    <tr>\n",
              "      <th>35</th>\n",
              "      <td>Combine Rare Levels</td>\n",
              "      <td>False</td>\n",
              "    </tr>\n",
              "    <tr>\n",
              "      <th>36</th>\n",
              "      <td>Rare Level Threshold</td>\n",
              "      <td>None</td>\n",
              "    </tr>\n",
              "    <tr>\n",
              "      <th>37</th>\n",
              "      <td>Numeric Binning</td>\n",
              "      <td>False</td>\n",
              "    </tr>\n",
              "    <tr>\n",
              "      <th>38</th>\n",
              "      <td>Remove Outliers</td>\n",
              "      <td>True</td>\n",
              "    </tr>\n",
              "    <tr>\n",
              "      <th>39</th>\n",
              "      <td>Outliers Threshold</td>\n",
              "      <td>0.05</td>\n",
              "    </tr>\n",
              "    <tr>\n",
              "      <th>40</th>\n",
              "      <td>Remove Multicollinearity</td>\n",
              "      <td>False</td>\n",
              "    </tr>\n",
              "    <tr>\n",
              "      <th>41</th>\n",
              "      <td>Multicollinearity Threshold</td>\n",
              "      <td>None</td>\n",
              "    </tr>\n",
              "    <tr>\n",
              "      <th>42</th>\n",
              "      <td>Clustering</td>\n",
              "      <td>False</td>\n",
              "    </tr>\n",
              "    <tr>\n",
              "      <th>43</th>\n",
              "      <td>Clustering Iteration</td>\n",
              "      <td>None</td>\n",
              "    </tr>\n",
              "    <tr>\n",
              "      <th>44</th>\n",
              "      <td>Polynomial Features</td>\n",
              "      <td>False</td>\n",
              "    </tr>\n",
              "    <tr>\n",
              "      <th>45</th>\n",
              "      <td>Polynomial Degree</td>\n",
              "      <td>None</td>\n",
              "    </tr>\n",
              "    <tr>\n",
              "      <th>46</th>\n",
              "      <td>Trignometry Features</td>\n",
              "      <td>False</td>\n",
              "    </tr>\n",
              "    <tr>\n",
              "      <th>47</th>\n",
              "      <td>Polynomial Threshold</td>\n",
              "      <td>None</td>\n",
              "    </tr>\n",
              "    <tr>\n",
              "      <th>48</th>\n",
              "      <td>Group Features</td>\n",
              "      <td>False</td>\n",
              "    </tr>\n",
              "    <tr>\n",
              "      <th>49</th>\n",
              "      <td>Feature Selection</td>\n",
              "      <td>False</td>\n",
              "    </tr>\n",
              "    <tr>\n",
              "      <th>50</th>\n",
              "      <td>Features Selection Threshold</td>\n",
              "      <td>None</td>\n",
              "    </tr>\n",
              "    <tr>\n",
              "      <th>51</th>\n",
              "      <td>Feature Interaction</td>\n",
              "      <td>False</td>\n",
              "    </tr>\n",
              "    <tr>\n",
              "      <th>52</th>\n",
              "      <td>Feature Ratio</td>\n",
              "      <td>False</td>\n",
              "    </tr>\n",
              "    <tr>\n",
              "      <th>53</th>\n",
              "      <td>Interaction Threshold</td>\n",
              "      <td>None</td>\n",
              "    </tr>\n",
              "    <tr>\n",
              "      <th>54</th>\n",
              "      <td>Transform Target</td>\n",
              "      <td>False</td>\n",
              "    </tr>\n",
              "    <tr>\n",
              "      <th>55</th>\n",
              "      <td>Transform Target Method</td>\n",
              "      <td>box-cox</td>\n",
              "    </tr>\n",
              "  </tbody>\n",
              "</table>\n",
              "</div>"
            ],
            "text/plain": [
              "                               Description             Value\n",
              "0                               session_id              7993\n",
              "1                                   Target             price\n",
              "2                            Original Data       (11767, 10)\n",
              "3                           Missing Values              True\n",
              "4                         Numeric Features                 4\n",
              "5                     Categorical Features                 5\n",
              "6                         Ordinal Features             False\n",
              "7                High Cardinality Features             False\n",
              "8                  High Cardinality Method              None\n",
              "9                    Transformed Train Set      (7824, 1915)\n",
              "10                    Transformed Test Set      (3531, 1915)\n",
              "11                      Shuffle Train-Test              True\n",
              "12                     Stratify Train-Test             False\n",
              "13                          Fold Generator             KFold\n",
              "14                             Fold Number                10\n",
              "15                                CPU Jobs                -1\n",
              "16                                 Use GPU              True\n",
              "17                          Log Experiment             False\n",
              "18                         Experiment Name  reg-default-name\n",
              "19                                     USI              4cd5\n",
              "20                         Imputation Type            simple\n",
              "21          Iterative Imputation Iteration              None\n",
              "22                         Numeric Imputer            median\n",
              "23      Iterative Imputation Numeric Model              None\n",
              "24                     Categorical Imputer          constant\n",
              "25  Iterative Imputation Categorical Model              None\n",
              "26           Unknown Categoricals Handling    least_frequent\n",
              "27                               Normalize              True\n",
              "28                        Normalize Method            maxabs\n",
              "29                          Transformation              True\n",
              "30                   Transformation Method       yeo-johnson\n",
              "31                                     PCA             False\n",
              "32                              PCA Method              None\n",
              "33                          PCA Components              None\n",
              "34                     Ignore Low Variance             False\n",
              "35                     Combine Rare Levels             False\n",
              "36                    Rare Level Threshold              None\n",
              "37                         Numeric Binning             False\n",
              "38                         Remove Outliers              True\n",
              "39                      Outliers Threshold              0.05\n",
              "40                Remove Multicollinearity             False\n",
              "41             Multicollinearity Threshold              None\n",
              "42                              Clustering             False\n",
              "43                    Clustering Iteration              None\n",
              "44                     Polynomial Features             False\n",
              "45                       Polynomial Degree              None\n",
              "46                    Trignometry Features             False\n",
              "47                    Polynomial Threshold              None\n",
              "48                          Group Features             False\n",
              "49                       Feature Selection             False\n",
              "50            Features Selection Threshold              None\n",
              "51                     Feature Interaction             False\n",
              "52                           Feature Ratio             False\n",
              "53                   Interaction Threshold              None\n",
              "54                        Transform Target             False\n",
              "55                 Transform Target Method           box-cox"
            ]
          },
          "metadata": {
            "tags": []
          }
        }
      ]
    },
    {
      "cell_type": "code",
      "metadata": {
        "id": "Oczd62G3TknP",
        "outputId": "be833646-d0d9-4040-8ae5-96c5c67ccb9f",
        "colab": {
          "base_uri": "https://localhost:8080/",
          "height": 631,
          "referenced_widgets": [
            "aa76f9e057b7406098373d9794125743",
            "554ac7387571441498d71c4dff4a1438",
            "789bb802a7cc4b6e9a18ebfdf685929e"
          ]
        }
      },
      "source": [
        "best_3 = compare_models(sort='RMSE', n_select=3)"
      ],
      "execution_count": 134,
      "outputs": [
        {
          "output_type": "display_data",
          "data": {
            "text/html": [
              "<div>\n",
              "<style scoped>\n",
              "    .dataframe tbody tr th:only-of-type {\n",
              "        vertical-align: middle;\n",
              "    }\n",
              "\n",
              "    .dataframe tbody tr th {\n",
              "        vertical-align: top;\n",
              "    }\n",
              "\n",
              "    .dataframe thead th {\n",
              "        text-align: right;\n",
              "    }\n",
              "</style>\n",
              "<table border=\"1\" class=\"dataframe\">\n",
              "  <thead>\n",
              "    <tr style=\"text-align: right;\">\n",
              "      <th></th>\n",
              "      <th>Model</th>\n",
              "      <th>MAE</th>\n",
              "      <th>MSE</th>\n",
              "      <th>RMSE</th>\n",
              "      <th>R2</th>\n",
              "      <th>RMSLE</th>\n",
              "      <th>MAPE</th>\n",
              "      <th>TT (Sec)</th>\n",
              "    </tr>\n",
              "  </thead>\n",
              "  <tbody>\n",
              "    <tr>\n",
              "      <th>br</th>\n",
              "      <td>Bayesian Ridge</td>\n",
              "      <td>319.5775</td>\n",
              "      <td>3.641854e+05</td>\n",
              "      <td>569.7719</td>\n",
              "      <td>0.7040</td>\n",
              "      <td>0.5747</td>\n",
              "      <td>5.3201</td>\n",
              "      <td>10.597</td>\n",
              "    </tr>\n",
              "    <tr>\n",
              "      <th>catboost</th>\n",
              "      <td>CatBoost Regressor</td>\n",
              "      <td>334.3843</td>\n",
              "      <td>3.804068e+05</td>\n",
              "      <td>613.9542</td>\n",
              "      <td>0.7922</td>\n",
              "      <td>0.5222</td>\n",
              "      <td>6.5662</td>\n",
              "      <td>6.941</td>\n",
              "    </tr>\n",
              "    <tr>\n",
              "      <th>rf</th>\n",
              "      <td>Random Forest Regressor</td>\n",
              "      <td>318.3636</td>\n",
              "      <td>3.903317e+05</td>\n",
              "      <td>620.9073</td>\n",
              "      <td>0.7869</td>\n",
              "      <td>0.5073</td>\n",
              "      <td>6.6261</td>\n",
              "      <td>12.316</td>\n",
              "    </tr>\n",
              "    <tr>\n",
              "      <th>xgboost</th>\n",
              "      <td>Extreme Gradient Boosting</td>\n",
              "      <td>331.4267</td>\n",
              "      <td>3.972484e+05</td>\n",
              "      <td>626.0397</td>\n",
              "      <td>0.7831</td>\n",
              "      <td>0.5161</td>\n",
              "      <td>6.4254</td>\n",
              "      <td>1.699</td>\n",
              "    </tr>\n",
              "    <tr>\n",
              "      <th>lightgbm</th>\n",
              "      <td>Light Gradient Boosting Machine</td>\n",
              "      <td>341.7299</td>\n",
              "      <td>4.098799e+05</td>\n",
              "      <td>637.0658</td>\n",
              "      <td>0.7750</td>\n",
              "      <td>0.5175</td>\n",
              "      <td>6.7750</td>\n",
              "      <td>0.332</td>\n",
              "    </tr>\n",
              "    <tr>\n",
              "      <th>ridge</th>\n",
              "      <td>Ridge Regression</td>\n",
              "      <td>362.0721</td>\n",
              "      <td>4.100728e+05</td>\n",
              "      <td>637.6183</td>\n",
              "      <td>0.7757</td>\n",
              "      <td>0.6598</td>\n",
              "      <td>6.6523</td>\n",
              "      <td>0.509</td>\n",
              "    </tr>\n",
              "    <tr>\n",
              "      <th>knn</th>\n",
              "      <td>K Neighbors Regressor</td>\n",
              "      <td>338.6043</td>\n",
              "      <td>4.148775e+05</td>\n",
              "      <td>639.9016</td>\n",
              "      <td>0.7721</td>\n",
              "      <td>0.5153</td>\n",
              "      <td>6.5885</td>\n",
              "      <td>3.341</td>\n",
              "    </tr>\n",
              "    <tr>\n",
              "      <th>et</th>\n",
              "      <td>Extra Trees Regressor</td>\n",
              "      <td>321.4081</td>\n",
              "      <td>4.236058e+05</td>\n",
              "      <td>646.4762</td>\n",
              "      <td>0.7688</td>\n",
              "      <td>0.5581</td>\n",
              "      <td>6.3910</td>\n",
              "      <td>15.997</td>\n",
              "    </tr>\n",
              "    <tr>\n",
              "      <th>lar</th>\n",
              "      <td>Least Angle Regression</td>\n",
              "      <td>373.4429</td>\n",
              "      <td>4.440428e+05</td>\n",
              "      <td>663.5977</td>\n",
              "      <td>0.7574</td>\n",
              "      <td>0.6470</td>\n",
              "      <td>6.4710</td>\n",
              "      <td>1.354</td>\n",
              "    </tr>\n",
              "    <tr>\n",
              "      <th>gbr</th>\n",
              "      <td>Gradient Boosting Regressor</td>\n",
              "      <td>384.9014</td>\n",
              "      <td>4.445723e+05</td>\n",
              "      <td>664.2766</td>\n",
              "      <td>0.7567</td>\n",
              "      <td>0.5555</td>\n",
              "      <td>6.4937</td>\n",
              "      <td>14.523</td>\n",
              "    </tr>\n",
              "    <tr>\n",
              "      <th>par</th>\n",
              "      <td>Passive Aggressive Regressor</td>\n",
              "      <td>356.1463</td>\n",
              "      <td>4.500449e+05</td>\n",
              "      <td>668.1583</td>\n",
              "      <td>0.7541</td>\n",
              "      <td>0.6146</td>\n",
              "      <td>6.4791</td>\n",
              "      <td>42.029</td>\n",
              "    </tr>\n",
              "    <tr>\n",
              "      <th>omp</th>\n",
              "      <td>Orthogonal Matching Pursuit</td>\n",
              "      <td>388.2506</td>\n",
              "      <td>4.777099e+05</td>\n",
              "      <td>688.4834</td>\n",
              "      <td>0.7387</td>\n",
              "      <td>0.6486</td>\n",
              "      <td>6.5732</td>\n",
              "      <td>0.509</td>\n",
              "    </tr>\n",
              "    <tr>\n",
              "      <th>huber</th>\n",
              "      <td>Huber Regressor</td>\n",
              "      <td>371.4461</td>\n",
              "      <td>4.924447e+05</td>\n",
              "      <td>699.3801</td>\n",
              "      <td>0.7305</td>\n",
              "      <td>0.6451</td>\n",
              "      <td>6.5282</td>\n",
              "      <td>17.980</td>\n",
              "    </tr>\n",
              "    <tr>\n",
              "      <th>lasso</th>\n",
              "      <td>Lasso Regression</td>\n",
              "      <td>451.3631</td>\n",
              "      <td>5.616442e+05</td>\n",
              "      <td>747.2826</td>\n",
              "      <td>0.6923</td>\n",
              "      <td>0.7386</td>\n",
              "      <td>6.6152</td>\n",
              "      <td>0.534</td>\n",
              "    </tr>\n",
              "    <tr>\n",
              "      <th>dt</th>\n",
              "      <td>Decision Tree Regressor</td>\n",
              "      <td>390.3942</td>\n",
              "      <td>5.764808e+05</td>\n",
              "      <td>753.6755</td>\n",
              "      <td>0.6843</td>\n",
              "      <td>0.6903</td>\n",
              "      <td>6.4307</td>\n",
              "      <td>0.497</td>\n",
              "    </tr>\n",
              "    <tr>\n",
              "      <th>llar</th>\n",
              "      <td>Lasso Least Angle Regression</td>\n",
              "      <td>489.4623</td>\n",
              "      <td>6.838220e+05</td>\n",
              "      <td>825.0178</td>\n",
              "      <td>0.6259</td>\n",
              "      <td>0.6975</td>\n",
              "      <td>6.6178</td>\n",
              "      <td>0.445</td>\n",
              "    </tr>\n",
              "    <tr>\n",
              "      <th>en</th>\n",
              "      <td>Elastic Net</td>\n",
              "      <td>523.0465</td>\n",
              "      <td>8.252454e+05</td>\n",
              "      <td>906.3070</td>\n",
              "      <td>0.5495</td>\n",
              "      <td>0.6776</td>\n",
              "      <td>6.3305</td>\n",
              "      <td>0.230</td>\n",
              "    </tr>\n",
              "    <tr>\n",
              "      <th>ada</th>\n",
              "      <td>AdaBoost Regressor</td>\n",
              "      <td>674.5856</td>\n",
              "      <td>9.931744e+05</td>\n",
              "      <td>993.6772</td>\n",
              "      <td>0.4479</td>\n",
              "      <td>0.7576</td>\n",
              "      <td>8.7821</td>\n",
              "      <td>5.849</td>\n",
              "    </tr>\n",
              "    <tr>\n",
              "      <th>lr</th>\n",
              "      <td>Linear Regression</td>\n",
              "      <td>12163.9808</td>\n",
              "      <td>2.120593e+10</td>\n",
              "      <td>95501.3607</td>\n",
              "      <td>-12461.4645</td>\n",
              "      <td>1.2092</td>\n",
              "      <td>493.8976</td>\n",
              "      <td>1.620</td>\n",
              "    </tr>\n",
              "  </tbody>\n",
              "</table>\n",
              "</div>"
            ],
            "text/plain": [
              "                                    Model         MAE           MSE  \\\n",
              "br                         Bayesian Ridge    319.5775  3.641854e+05   \n",
              "catboost               CatBoost Regressor    334.3843  3.804068e+05   \n",
              "rf                Random Forest Regressor    318.3636  3.903317e+05   \n",
              "xgboost         Extreme Gradient Boosting    331.4267  3.972484e+05   \n",
              "lightgbm  Light Gradient Boosting Machine    341.7299  4.098799e+05   \n",
              "ridge                    Ridge Regression    362.0721  4.100728e+05   \n",
              "knn                 K Neighbors Regressor    338.6043  4.148775e+05   \n",
              "et                  Extra Trees Regressor    321.4081  4.236058e+05   \n",
              "lar                Least Angle Regression    373.4429  4.440428e+05   \n",
              "gbr           Gradient Boosting Regressor    384.9014  4.445723e+05   \n",
              "par          Passive Aggressive Regressor    356.1463  4.500449e+05   \n",
              "omp           Orthogonal Matching Pursuit    388.2506  4.777099e+05   \n",
              "huber                     Huber Regressor    371.4461  4.924447e+05   \n",
              "lasso                    Lasso Regression    451.3631  5.616442e+05   \n",
              "dt                Decision Tree Regressor    390.3942  5.764808e+05   \n",
              "llar         Lasso Least Angle Regression    489.4623  6.838220e+05   \n",
              "en                            Elastic Net    523.0465  8.252454e+05   \n",
              "ada                    AdaBoost Regressor    674.5856  9.931744e+05   \n",
              "lr                      Linear Regression  12163.9808  2.120593e+10   \n",
              "\n",
              "                RMSE          R2   RMSLE      MAPE  TT (Sec)  \n",
              "br          569.7719      0.7040  0.5747    5.3201    10.597  \n",
              "catboost    613.9542      0.7922  0.5222    6.5662     6.941  \n",
              "rf          620.9073      0.7869  0.5073    6.6261    12.316  \n",
              "xgboost     626.0397      0.7831  0.5161    6.4254     1.699  \n",
              "lightgbm    637.0658      0.7750  0.5175    6.7750     0.332  \n",
              "ridge       637.6183      0.7757  0.6598    6.6523     0.509  \n",
              "knn         639.9016      0.7721  0.5153    6.5885     3.341  \n",
              "et          646.4762      0.7688  0.5581    6.3910    15.997  \n",
              "lar         663.5977      0.7574  0.6470    6.4710     1.354  \n",
              "gbr         664.2766      0.7567  0.5555    6.4937    14.523  \n",
              "par         668.1583      0.7541  0.6146    6.4791    42.029  \n",
              "omp         688.4834      0.7387  0.6486    6.5732     0.509  \n",
              "huber       699.3801      0.7305  0.6451    6.5282    17.980  \n",
              "lasso       747.2826      0.6923  0.7386    6.6152     0.534  \n",
              "dt          753.6755      0.6843  0.6903    6.4307     0.497  \n",
              "llar        825.0178      0.6259  0.6975    6.6178     0.445  \n",
              "en          906.3070      0.5495  0.6776    6.3305     0.230  \n",
              "ada         993.6772      0.4479  0.7576    8.7821     5.849  \n",
              "lr        95501.3607 -12461.4645  1.2092  493.8976     1.620  "
            ]
          },
          "metadata": {
            "tags": []
          }
        }
      ]
    },
    {
      "cell_type": "code",
      "metadata": {
        "id": "nuaKLKV8Tkp1",
        "outputId": "5531506b-a716-4d0e-de38-0e002e6d6bcd",
        "colab": {
          "base_uri": "https://localhost:8080/",
          "height": 263,
          "referenced_widgets": [
            "0838a8b0dddd4396a98059522187f173",
            "7eb271061ad141949da11e5532b7443e",
            "48562130903545beacbd26315e4543cf"
          ]
        }
      },
      "source": [
        "blended = blend_models(estimator_list=best_3, fold=5)"
      ],
      "execution_count": 135,
      "outputs": [
        {
          "output_type": "display_data",
          "data": {
            "text/html": [
              "<div>\n",
              "<style scoped>\n",
              "    .dataframe tbody tr th:only-of-type {\n",
              "        vertical-align: middle;\n",
              "    }\n",
              "\n",
              "    .dataframe tbody tr th {\n",
              "        vertical-align: top;\n",
              "    }\n",
              "\n",
              "    .dataframe thead th {\n",
              "        text-align: right;\n",
              "    }\n",
              "</style>\n",
              "<table border=\"1\" class=\"dataframe\">\n",
              "  <thead>\n",
              "    <tr style=\"text-align: right;\">\n",
              "      <th></th>\n",
              "      <th>MAE</th>\n",
              "      <th>MSE</th>\n",
              "      <th>RMSE</th>\n",
              "      <th>R2</th>\n",
              "      <th>RMSLE</th>\n",
              "      <th>MAPE</th>\n",
              "    </tr>\n",
              "  </thead>\n",
              "  <tbody>\n",
              "    <tr>\n",
              "      <th>0</th>\n",
              "      <td>307.3911</td>\n",
              "      <td>310158.5782</td>\n",
              "      <td>556.9188</td>\n",
              "      <td>0.8228</td>\n",
              "      <td>0.4134</td>\n",
              "      <td>1.5843</td>\n",
              "    </tr>\n",
              "    <tr>\n",
              "      <th>1</th>\n",
              "      <td>309.2566</td>\n",
              "      <td>348730.9238</td>\n",
              "      <td>590.5344</td>\n",
              "      <td>0.7947</td>\n",
              "      <td>0.6469</td>\n",
              "      <td>12.6620</td>\n",
              "    </tr>\n",
              "    <tr>\n",
              "      <th>2</th>\n",
              "      <td>301.0555</td>\n",
              "      <td>304454.8579</td>\n",
              "      <td>551.7743</td>\n",
              "      <td>0.8255</td>\n",
              "      <td>0.4418</td>\n",
              "      <td>4.5851</td>\n",
              "    </tr>\n",
              "    <tr>\n",
              "      <th>3</th>\n",
              "      <td>330.6073</td>\n",
              "      <td>498944.0266</td>\n",
              "      <td>706.3597</td>\n",
              "      <td>0.7308</td>\n",
              "      <td>0.6015</td>\n",
              "      <td>9.5595</td>\n",
              "    </tr>\n",
              "    <tr>\n",
              "      <th>4</th>\n",
              "      <td>320.1798</td>\n",
              "      <td>374354.8757</td>\n",
              "      <td>611.8455</td>\n",
              "      <td>0.8207</td>\n",
              "      <td>0.5395</td>\n",
              "      <td>4.4715</td>\n",
              "    </tr>\n",
              "    <tr>\n",
              "      <th>Mean</th>\n",
              "      <td>313.6980</td>\n",
              "      <td>367328.6524</td>\n",
              "      <td>603.4865</td>\n",
              "      <td>0.7989</td>\n",
              "      <td>0.5286</td>\n",
              "      <td>6.5725</td>\n",
              "    </tr>\n",
              "    <tr>\n",
              "      <th>SD</th>\n",
              "      <td>10.4621</td>\n",
              "      <td>70624.8985</td>\n",
              "      <td>55.9700</td>\n",
              "      <td>0.0358</td>\n",
              "      <td>0.0897</td>\n",
              "      <td>3.9812</td>\n",
              "    </tr>\n",
              "  </tbody>\n",
              "</table>\n",
              "</div>"
            ],
            "text/plain": [
              "           MAE          MSE      RMSE      R2   RMSLE     MAPE\n",
              "0     307.3911  310158.5782  556.9188  0.8228  0.4134   1.5843\n",
              "1     309.2566  348730.9238  590.5344  0.7947  0.6469  12.6620\n",
              "2     301.0555  304454.8579  551.7743  0.8255  0.4418   4.5851\n",
              "3     330.6073  498944.0266  706.3597  0.7308  0.6015   9.5595\n",
              "4     320.1798  374354.8757  611.8455  0.8207  0.5395   4.4715\n",
              "Mean  313.6980  367328.6524  603.4865  0.7989  0.5286   6.5725\n",
              "SD     10.4621   70624.8985   55.9700  0.0358  0.0897   3.9812"
            ]
          },
          "metadata": {
            "tags": []
          }
        }
      ]
    },
    {
      "cell_type": "code",
      "metadata": {
        "id": "QBOabJibTkbg",
        "outputId": "7b09c120-7483-48f2-e9c6-be02e46a5a8b",
        "colab": {
          "base_uri": "https://localhost:8080/",
          "height": 79
        }
      },
      "source": [
        "pred_holdout = predict_model(blended)"
      ],
      "execution_count": 136,
      "outputs": [
        {
          "output_type": "display_data",
          "data": {
            "text/html": [
              "<div>\n",
              "<style scoped>\n",
              "    .dataframe tbody tr th:only-of-type {\n",
              "        vertical-align: middle;\n",
              "    }\n",
              "\n",
              "    .dataframe tbody tr th {\n",
              "        vertical-align: top;\n",
              "    }\n",
              "\n",
              "    .dataframe thead th {\n",
              "        text-align: right;\n",
              "    }\n",
              "</style>\n",
              "<table border=\"1\" class=\"dataframe\">\n",
              "  <thead>\n",
              "    <tr style=\"text-align: right;\">\n",
              "      <th></th>\n",
              "      <th>Model</th>\n",
              "      <th>MAE</th>\n",
              "      <th>MSE</th>\n",
              "      <th>RMSE</th>\n",
              "      <th>R2</th>\n",
              "      <th>RMSLE</th>\n",
              "      <th>MAPE</th>\n",
              "    </tr>\n",
              "  </thead>\n",
              "  <tbody>\n",
              "    <tr>\n",
              "      <th>0</th>\n",
              "      <td>Voting Regressor</td>\n",
              "      <td>321.1858</td>\n",
              "      <td>345859.8656</td>\n",
              "      <td>588.0985</td>\n",
              "      <td>0.8023</td>\n",
              "      <td>0.5163</td>\n",
              "      <td>4.339</td>\n",
              "    </tr>\n",
              "  </tbody>\n",
              "</table>\n",
              "</div>"
            ],
            "text/plain": [
              "              Model       MAE          MSE      RMSE      R2   RMSLE   MAPE\n",
              "0  Voting Regressor  321.1858  345859.8656  588.0985  0.8023  0.5163  4.339"
            ]
          },
          "metadata": {
            "tags": []
          }
        }
      ]
    },
    {
      "cell_type": "code",
      "metadata": {
        "id": "xQ56mxY4UPNx"
      },
      "source": [
        "final_model = finalize_model(blended)"
      ],
      "execution_count": 137,
      "outputs": []
    },
    {
      "cell_type": "code",
      "metadata": {
        "id": "ZfvVUJJdUPes"
      },
      "source": [
        "predictions = predict_model(final_model, data=test)"
      ],
      "execution_count": 138,
      "outputs": []
    },
    {
      "cell_type": "code",
      "metadata": {
        "id": "CVX3nOuTUPKv",
        "outputId": "a362f233-6370-4518-8e59-19c0023fcc0d",
        "colab": {
          "base_uri": "https://localhost:8080/"
        }
      },
      "source": [
        "pred = predictions['Label']\n",
        "pred"
      ],
      "execution_count": 139,
      "outputs": [
        {
          "output_type": "execute_result",
          "data": {
            "text/plain": [
              "0       7478.406297\n",
              "1       1334.555217\n",
              "2       1221.839544\n",
              "3        953.319317\n",
              "4       1559.027186\n",
              "           ...     \n",
              "5784     818.810432\n",
              "5785    1512.447947\n",
              "5786     397.547955\n",
              "5787    1411.268495\n",
              "5788    3863.501459\n",
              "Name: Label, Length: 5789, dtype: float64"
            ]
          },
          "metadata": {
            "tags": []
          },
          "execution_count": 139
        }
      ]
    },
    {
      "cell_type": "markdown",
      "metadata": {
        "id": "2Qfpl9Va6a9S"
      },
      "source": [
        "# Prediction"
      ]
    },
    {
      "cell_type": "code",
      "metadata": {
        "id": "7_zDRCa86a9V"
      },
      "source": [
        "submission = pd.DataFrame({\n",
        "    \"no\": test_no,\n",
        "    \"가격(만원)\": pred\n",
        "})\n",
        "submission.to_csv('/content/drive/My Drive/dg_univ_2020_ml/output/11.csv', index=False)"
      ],
      "execution_count": 140,
      "outputs": []
    },
    {
      "cell_type": "code",
      "metadata": {
        "id": "lHVHce5v6a9X"
      },
      "source": [
        ""
      ],
      "execution_count": 140,
      "outputs": []
    },
    {
      "cell_type": "code",
      "metadata": {
        "id": "z0NgPwLHS66O"
      },
      "source": [
        ""
      ],
      "execution_count": 140,
      "outputs": []
    }
  ]
}