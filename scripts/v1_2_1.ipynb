{
 "cells": [
  {
   "source": [
    "# v1.2\n",
    "\n",
    "- 피쳐들의 의미도 생각해보자. 전처리를 빡시게 하자."
   ],
   "cell_type": "markdown",
   "metadata": {}
  },
  {
   "cell_type": "code",
   "execution_count": 70,
   "metadata": {},
   "outputs": [],
   "source": [
    "import pandas as pd\n",
    "import numpy as np\n",
    "\n",
    "import matplotlib.pyplot as plt\n",
    "import seaborn as sns\n",
    "sns.set_style('whitegrid')\n",
    "%matplotlib inline "
   ]
  },
  {
   "cell_type": "code",
   "execution_count": 71,
   "metadata": {},
   "outputs": [],
   "source": [
    "train = pd.read_csv('../input/train.csv')\n",
    "test = pd.read_csv('../input/test.csv')"
   ]
  },
  {
   "cell_type": "code",
   "execution_count": 72,
   "metadata": {},
   "outputs": [
    {
     "output_type": "stream",
     "name": "stdout",
     "text": [
      "(11769, 15)\n(5789, 13)\n"
     ]
    }
   ],
   "source": [
    "print(train.shape)\n",
    "print(test.shape)"
   ]
  },
  {
   "cell_type": "code",
   "execution_count": 73,
   "metadata": {},
   "outputs": [
    {
     "output_type": "execute_result",
     "data": {
      "text/plain": [
       "   no                                모델명           연월      연식   연료   주행거리  \\\n",
       "0   0        기아 더 뉴 K7 2.4 GDI 프레스티지 스페셜  12/12(13년형)  2013.0  가솔린   4만km   \n",
       "1   1          현대 YF쏘나타 2.0 Y20 LPi 프리미어        10/03  2010.0  LPG   9만km   \n",
       "2   2               현대 그랜져HG 220 디젤 프리미엄  14/09(15년형)  2015.0   디젤   3만km   \n",
       "3   3            쌍용 뉴카이런 2.0 LV5 2WD 고급형  07/06(08년형)  2008.0   디젤  16만km   \n",
       "4   4  현대 뉴스타렉스 점보 밴 TCI 3인승 GX 윈도우밴 일반형        04/03  2004.0   디젤  16만km   \n",
       "\n",
       "    인승  최대출력(마력)   기통  최대토크(kgm) 구동방식 자동수동 국산/수입  신차가(만원)  가격(만원)  \n",
       "0  NaN     201.0  4.0       25.5   FF  NaN    국산   3141.0  1870.0  \n",
       "1  NaN     157.0  NaN       20.0   FF  NaN    국산      NaN   700.0  \n",
       "2  NaN     202.0  4.0       45.0   FF  NaN    국산   3389.0  2990.0  \n",
       "3  NaN     151.0  4.0       33.8   FR  NaN    국산   2499.0   420.0  \n",
       "4  3.0     103.0  NaN       24.0   FR   수동    국산   1445.0   450.0  "
      ],
      "text/html": "<div>\n<style scoped>\n    .dataframe tbody tr th:only-of-type {\n        vertical-align: middle;\n    }\n\n    .dataframe tbody tr th {\n        vertical-align: top;\n    }\n\n    .dataframe thead th {\n        text-align: right;\n    }\n</style>\n<table border=\"1\" class=\"dataframe\">\n  <thead>\n    <tr style=\"text-align: right;\">\n      <th></th>\n      <th>no</th>\n      <th>모델명</th>\n      <th>연월</th>\n      <th>연식</th>\n      <th>연료</th>\n      <th>주행거리</th>\n      <th>인승</th>\n      <th>최대출력(마력)</th>\n      <th>기통</th>\n      <th>최대토크(kgm)</th>\n      <th>구동방식</th>\n      <th>자동수동</th>\n      <th>국산/수입</th>\n      <th>신차가(만원)</th>\n      <th>가격(만원)</th>\n    </tr>\n  </thead>\n  <tbody>\n    <tr>\n      <th>0</th>\n      <td>0</td>\n      <td>기아 더 뉴 K7 2.4 GDI 프레스티지 스페셜</td>\n      <td>12/12(13년형)</td>\n      <td>2013.0</td>\n      <td>가솔린</td>\n      <td>4만km</td>\n      <td>NaN</td>\n      <td>201.0</td>\n      <td>4.0</td>\n      <td>25.5</td>\n      <td>FF</td>\n      <td>NaN</td>\n      <td>국산</td>\n      <td>3141.0</td>\n      <td>1870.0</td>\n    </tr>\n    <tr>\n      <th>1</th>\n      <td>1</td>\n      <td>현대 YF쏘나타 2.0 Y20 LPi 프리미어</td>\n      <td>10/03</td>\n      <td>2010.0</td>\n      <td>LPG</td>\n      <td>9만km</td>\n      <td>NaN</td>\n      <td>157.0</td>\n      <td>NaN</td>\n      <td>20.0</td>\n      <td>FF</td>\n      <td>NaN</td>\n      <td>국산</td>\n      <td>NaN</td>\n      <td>700.0</td>\n    </tr>\n    <tr>\n      <th>2</th>\n      <td>2</td>\n      <td>현대 그랜져HG 220 디젤 프리미엄</td>\n      <td>14/09(15년형)</td>\n      <td>2015.0</td>\n      <td>디젤</td>\n      <td>3만km</td>\n      <td>NaN</td>\n      <td>202.0</td>\n      <td>4.0</td>\n      <td>45.0</td>\n      <td>FF</td>\n      <td>NaN</td>\n      <td>국산</td>\n      <td>3389.0</td>\n      <td>2990.0</td>\n    </tr>\n    <tr>\n      <th>3</th>\n      <td>3</td>\n      <td>쌍용 뉴카이런 2.0 LV5 2WD 고급형</td>\n      <td>07/06(08년형)</td>\n      <td>2008.0</td>\n      <td>디젤</td>\n      <td>16만km</td>\n      <td>NaN</td>\n      <td>151.0</td>\n      <td>4.0</td>\n      <td>33.8</td>\n      <td>FR</td>\n      <td>NaN</td>\n      <td>국산</td>\n      <td>2499.0</td>\n      <td>420.0</td>\n    </tr>\n    <tr>\n      <th>4</th>\n      <td>4</td>\n      <td>현대 뉴스타렉스 점보 밴 TCI 3인승 GX 윈도우밴 일반형</td>\n      <td>04/03</td>\n      <td>2004.0</td>\n      <td>디젤</td>\n      <td>16만km</td>\n      <td>3.0</td>\n      <td>103.0</td>\n      <td>NaN</td>\n      <td>24.0</td>\n      <td>FR</td>\n      <td>수동</td>\n      <td>국산</td>\n      <td>1445.0</td>\n      <td>450.0</td>\n    </tr>\n  </tbody>\n</table>\n</div>"
     },
     "metadata": {},
     "execution_count": 73
    }
   ],
   "source": [
    "train.head()"
   ]
  },
  {
   "cell_type": "code",
   "execution_count": 74,
   "metadata": {},
   "outputs": [
    {
     "output_type": "stream",
     "name": "stdout",
     "text": [
      "<class 'pandas.core.frame.DataFrame'>\nRangeIndex: 11769 entries, 0 to 11768\nData columns (total 15 columns):\n #   Column     Non-Null Count  Dtype  \n---  ------     --------------  -----  \n 0   no         11769 non-null  int64  \n 1   모델명        11769 non-null  object \n 2   연월         11769 non-null  object \n 3   연식         11769 non-null  float64\n 4   연료         11769 non-null  object \n 5   주행거리       11769 non-null  object \n 6   인승         765 non-null    float64\n 7   최대출력(마력)   10644 non-null  float64\n 8   기통         8698 non-null   float64\n 9   최대토크(kgm)  10545 non-null  float64\n 10  구동방식       10808 non-null  object \n 11  자동수동       1313 non-null   object \n 12  국산/수입      11769 non-null  object \n 13  신차가(만원)    9544 non-null   float64\n 14  가격(만원)     11769 non-null  float64\ndtypes: float64(7), int64(1), object(7)\nmemory usage: 1.3+ MB\n"
     ]
    }
   ],
   "source": [
    "train.info()"
   ]
  },
  {
   "cell_type": "code",
   "execution_count": 75,
   "metadata": {},
   "outputs": [
    {
     "output_type": "stream",
     "name": "stdout",
     "text": [
      "<class 'pandas.core.frame.DataFrame'>\nRangeIndex: 5789 entries, 0 to 5788\nData columns (total 13 columns):\n #   Column     Non-Null Count  Dtype  \n---  ------     --------------  -----  \n 0   no         5789 non-null   int64  \n 1   모델명        5789 non-null   object \n 2   연월         5789 non-null   object \n 3   연식         5789 non-null   float64\n 4   연료         5789 non-null   object \n 5   주행거리       5789 non-null   object \n 6   인승         389 non-null    float64\n 7   최대출력(마력)   5237 non-null   float64\n 8   기통         4275 non-null   float64\n 9   최대토크(kgm)  5183 non-null   float64\n 10  구동방식       5312 non-null   object \n 11  자동수동       665 non-null    object \n 12  국산/수입      5789 non-null   object \ndtypes: float64(5), int64(1), object(7)\nmemory usage: 588.1+ KB\n"
     ]
    }
   ],
   "source": [
    "test.info()"
   ]
  },
  {
   "source": [
    "# Column name 영어로 모두 바꾸기"
   ],
   "cell_type": "markdown",
   "metadata": {}
  },
  {
   "cell_type": "code",
   "execution_count": 76,
   "metadata": {},
   "outputs": [],
   "source": [
    "train.columns = ['no', 'modelname', 'ym', 'yeartype', 'fuel', 'dist', 'people', 'power', 'cylinder', 'torque', 'type', 'mission', 'country', 'newprice', 'price']\n",
    "test.columns = ['no', 'modelname', 'ym', 'yeartype', 'fuel', 'dist', 'people', 'power', 'cylinder', 'torque', 'type', 'mission', 'country']"
   ]
  },
  {
   "cell_type": "code",
   "execution_count": 77,
   "metadata": {},
   "outputs": [
    {
     "output_type": "stream",
     "name": "stdout",
     "text": [
      "<class 'pandas.core.frame.DataFrame'>\nRangeIndex: 11769 entries, 0 to 11768\nData columns (total 15 columns):\n #   Column     Non-Null Count  Dtype  \n---  ------     --------------  -----  \n 0   no         11769 non-null  int64  \n 1   modelname  11769 non-null  object \n 2   ym         11769 non-null  object \n 3   yeartype   11769 non-null  float64\n 4   fuel       11769 non-null  object \n 5   dist       11769 non-null  object \n 6   people     765 non-null    float64\n 7   power      10644 non-null  float64\n 8   cylinder   8698 non-null   float64\n 9   torque     10545 non-null  float64\n 10  type       10808 non-null  object \n 11  mission    1313 non-null   object \n 12  country    11769 non-null  object \n 13  newprice   9544 non-null   float64\n 14  price      11769 non-null  float64\ndtypes: float64(7), int64(1), object(7)\nmemory usage: 1.3+ MB\n"
     ]
    }
   ],
   "source": [
    "train.info()"
   ]
  },
  {
   "cell_type": "code",
   "execution_count": 78,
   "metadata": {},
   "outputs": [
    {
     "output_type": "stream",
     "name": "stdout",
     "text": [
      "<class 'pandas.core.frame.DataFrame'>\nRangeIndex: 5789 entries, 0 to 5788\nData columns (total 13 columns):\n #   Column     Non-Null Count  Dtype  \n---  ------     --------------  -----  \n 0   no         5789 non-null   int64  \n 1   modelname  5789 non-null   object \n 2   ym         5789 non-null   object \n 3   yeartype   5789 non-null   float64\n 4   fuel       5789 non-null   object \n 5   dist       5789 non-null   object \n 6   people     389 non-null    float64\n 7   power      5237 non-null   float64\n 8   cylinder   4275 non-null   float64\n 9   torque     5183 non-null   float64\n 10  type       5312 non-null   object \n 11  mission    665 non-null    object \n 12  country    5789 non-null   object \ndtypes: float64(5), int64(1), object(7)\nmemory usage: 588.1+ KB\n"
     ]
    }
   ],
   "source": [
    "test.info()"
   ]
  },
  {
   "cell_type": "code",
   "execution_count": 79,
   "metadata": {},
   "outputs": [],
   "source": [
    "# sns.heatmap(train.isnull(), cbar=False)"
   ]
  },
  {
   "cell_type": "code",
   "execution_count": 80,
   "metadata": {},
   "outputs": [],
   "source": [
    "# sns.heatmap(test.isnull(), cbar=False)"
   ]
  },
  {
   "cell_type": "code",
   "execution_count": 81,
   "metadata": {},
   "outputs": [],
   "source": [
    "train_no = train['no']\n",
    "test_no = test['no']\n",
    "train = train.drop(['no'], axis=1)\n",
    "test = test.drop(['no'], axis=1)"
   ]
  },
  {
   "cell_type": "markdown",
   "metadata": {},
   "source": [
    "# 이제 하나씩 처리하자\n",
    "```\n",
    "0   no         11769 non-null  int64    \n",
    "1   모델명        11769 non-null  object   \n",
    "2   연월         11769 non-null  object   \n",
    "3   연식         11769 non-null  float64  \n",
    "4   연료         11769 non-null  object   \n",
    "5   주행거리       11769 non-null  object   \n",
    "6   인승         765 non-null    float64  \n",
    "7   최대출력(마력)   10644 non-null  float64  \n",
    "8   기통         8698 non-null   float64  \n",
    "9   최대토크(kgm)  10545 non-null  float64  \n",
    "10  구동방식       10808 non-null  object   \n",
    "11  자동수동       1313 non-null   object   \n",
    "12  국산/수입      11769 non-null  object   \n",
    "13  신차가(만원)    9544 non-null   float64  \n",
    "14  가격(만원)     11769 non-null  float64  \n",
    "```\n",
    "\n",
    "```\n",
    "0   no         11769 non-null  int64  \n",
    "1   modelname  11769 non-null  object \n",
    "2   ym         11769 non-null  object \n",
    "3   yeartype   11769 non-null  float64\n",
    "4   fuel       11769 non-null  object \n",
    "5   dist       11769 non-null  object \n",
    "6   people     765 non-null    float64\n",
    "7   power      10644 non-null  float64\n",
    "8   cylinder   8698 non-null   float64\n",
    "9   torque     10545 non-null  float64\n",
    "10  type       10808 non-null  object \n",
    "11  mission    1313 non-null   object \n",
    "12  country    11769 non-null  object \n",
    "13  newprice   9544 non-null   float64\n",
    "14  price      11769 non-null  float64\n",
    "```"
   ]
  },
  {
   "cell_type": "markdown",
   "metadata": {},
   "source": [
    "# 1 모델명 modelname 11769 non-null object\n",
    "\n",
    "- 역시 이번에도 모델명은 날리자"
   ]
  },
  {
   "cell_type": "code",
   "execution_count": 82,
   "metadata": {},
   "outputs": [
    {
     "output_type": "stream",
     "name": "stdout",
     "text": [
      "(11769, 13)\n(5789, 11)\n"
     ]
    }
   ],
   "source": [
    "train = train.drop(['modelname'], axis=1)\n",
    "test = test.drop(['modelname'], axis=1)\n",
    "\n",
    "print(train.shape)\n",
    "print(test.shape)"
   ]
  },
  {
   "cell_type": "markdown",
   "metadata": {},
   "source": [
    "# 2 연월 ym 11769 non-null object\n",
    "\n",
    "- 생각해보면, 그리고 데이터 명세 다시 보니까,\n",
    "- 어차피 연식(yeartype)에 있는 정보다\n",
    "- 이거 날리자"
   ]
  },
  {
   "cell_type": "code",
   "execution_count": 83,
   "metadata": {},
   "outputs": [
    {
     "output_type": "stream",
     "name": "stdout",
     "text": [
      "(11769, 12)\n(5789, 10)\n"
     ]
    }
   ],
   "source": [
    "train = train.drop(['ym'], axis=1)\n",
    "test = test.drop(['ym'], axis=1)\n",
    "\n",
    "print(train.shape)\n",
    "print(test.shape)"
   ]
  },
  {
   "cell_type": "markdown",
   "metadata": {},
   "source": [
    "# 3 연식 yeartype 11769 non-null float64\n",
    "\n",
    "건들지 말자"
   ]
  },
  {
   "cell_type": "markdown",
   "metadata": {},
   "source": [
    "# 4 연료 fuel 11769 non-null object\n",
    "\n",
    "- 범주형\n",
    "- 이거 생각 좀 해보자\n",
    "- 그냥 큰 범주로 산입할까?"
   ]
  },
  {
   "cell_type": "code",
   "execution_count": 84,
   "metadata": {},
   "outputs": [],
   "source": [
    "train_fuel = train['fuel']\n",
    "test_fuel = test['fuel']"
   ]
  },
  {
   "cell_type": "code",
   "execution_count": 85,
   "metadata": {},
   "outputs": [
    {
     "output_type": "stream",
     "name": "stdout",
     "text": [
      "가솔린          6671\n디젤           3967\nLPG           934\n가솔린+전기         79\n가솔린/LPG겸용      41\n기타             32\n전기             24\nLPG+전기         14\n가솔린/CNG겸용       4\nCNG             2\n수소              1\nName: fuel, dtype: int64\n\n가솔린          3280\n디젤           1932\nLPG           469\n가솔린+전기         34\n가솔린/LPG겸용      33\n전기             19\n기타             11\nLPG+전기          8\nCNG             2\n가솔린/CNG겸용       1\nName: fuel, dtype: int64\n"
     ]
    }
   ],
   "source": [
    "print(train_fuel.value_counts())\n",
    "print()\n",
    "print(test_fuel.value_counts())"
   ]
  },
  {
   "source": [
    "## 산입\n",
    "\n",
    "- 일단 그냥 수소만 기타로 갖다박을까?\n",
    "\n"
   ],
   "cell_type": "markdown",
   "metadata": {}
  },
  {
   "cell_type": "code",
   "execution_count": 86,
   "metadata": {},
   "outputs": [],
   "source": [
    "train_fuel = train_fuel.replace('수소', '기타')"
   ]
  },
  {
   "cell_type": "code",
   "execution_count": 87,
   "metadata": {},
   "outputs": [
    {
     "output_type": "execute_result",
     "data": {
      "text/plain": [
       "가솔린          6671\n",
       "디젤           3967\n",
       "LPG           934\n",
       "가솔린+전기         79\n",
       "가솔린/LPG겸용      41\n",
       "기타             33\n",
       "전기             24\n",
       "LPG+전기         14\n",
       "가솔린/CNG겸용       4\n",
       "CNG             2\n",
       "Name: fuel, dtype: int64"
      ]
     },
     "metadata": {},
     "execution_count": 87
    }
   ],
   "source": [
    "train_fuel.value_counts()"
   ]
  },
  {
   "cell_type": "code",
   "execution_count": 88,
   "metadata": {},
   "outputs": [],
   "source": [
    "train_fuel_dummies = pd.get_dummies(train_fuel)\n",
    "test_fuel_dummies = pd.get_dummies(test_fuel)\n",
    "\n",
    "train_fuel_dummies = train_fuel_dummies.add_prefix('fuel_')\n",
    "test_fuel_dummies = test_fuel_dummies.add_prefix('fuel_')\n",
    "\n",
    "train = train.drop(['fuel'], axis=1)\n",
    "test = test.drop(['fuel'], axis=1)\n",
    "\n",
    "train = train.join(train_fuel_dummies)\n",
    "test = test.join(test_fuel_dummies)"
   ]
  },
  {
   "cell_type": "code",
   "execution_count": 89,
   "metadata": {},
   "outputs": [
    {
     "output_type": "execute_result",
     "data": {
      "text/plain": [
       "   yeartype   dist  people  power  cylinder  torque type mission country  \\\n",
       "0    2013.0   4만km     NaN  201.0       4.0    25.5   FF     NaN      국산   \n",
       "1    2010.0   9만km     NaN  157.0       NaN    20.0   FF     NaN      국산   \n",
       "2    2015.0   3만km     NaN  202.0       4.0    45.0   FF     NaN      국산   \n",
       "3    2008.0  16만km     NaN  151.0       4.0    33.8   FR     NaN      국산   \n",
       "4    2004.0  16만km     3.0  103.0       NaN    24.0   FR      수동      국산   \n",
       "\n",
       "   newprice  ...  fuel_CNG  fuel_LPG  fuel_LPG+전기  fuel_가솔린  fuel_가솔린+전기  \\\n",
       "0    3141.0  ...         0         0            0         1            0   \n",
       "1       NaN  ...         0         1            0         0            0   \n",
       "2    3389.0  ...         0         0            0         0            0   \n",
       "3    2499.0  ...         0         0            0         0            0   \n",
       "4    1445.0  ...         0         0            0         0            0   \n",
       "\n",
       "   fuel_가솔린/CNG겸용  fuel_가솔린/LPG겸용  fuel_기타  fuel_디젤  fuel_전기  \n",
       "0               0               0        0        0        0  \n",
       "1               0               0        0        0        0  \n",
       "2               0               0        0        1        0  \n",
       "3               0               0        0        1        0  \n",
       "4               0               0        0        1        0  \n",
       "\n",
       "[5 rows x 21 columns]"
      ],
      "text/html": "<div>\n<style scoped>\n    .dataframe tbody tr th:only-of-type {\n        vertical-align: middle;\n    }\n\n    .dataframe tbody tr th {\n        vertical-align: top;\n    }\n\n    .dataframe thead th {\n        text-align: right;\n    }\n</style>\n<table border=\"1\" class=\"dataframe\">\n  <thead>\n    <tr style=\"text-align: right;\">\n      <th></th>\n      <th>yeartype</th>\n      <th>dist</th>\n      <th>people</th>\n      <th>power</th>\n      <th>cylinder</th>\n      <th>torque</th>\n      <th>type</th>\n      <th>mission</th>\n      <th>country</th>\n      <th>newprice</th>\n      <th>...</th>\n      <th>fuel_CNG</th>\n      <th>fuel_LPG</th>\n      <th>fuel_LPG+전기</th>\n      <th>fuel_가솔린</th>\n      <th>fuel_가솔린+전기</th>\n      <th>fuel_가솔린/CNG겸용</th>\n      <th>fuel_가솔린/LPG겸용</th>\n      <th>fuel_기타</th>\n      <th>fuel_디젤</th>\n      <th>fuel_전기</th>\n    </tr>\n  </thead>\n  <tbody>\n    <tr>\n      <th>0</th>\n      <td>2013.0</td>\n      <td>4만km</td>\n      <td>NaN</td>\n      <td>201.0</td>\n      <td>4.0</td>\n      <td>25.5</td>\n      <td>FF</td>\n      <td>NaN</td>\n      <td>국산</td>\n      <td>3141.0</td>\n      <td>...</td>\n      <td>0</td>\n      <td>0</td>\n      <td>0</td>\n      <td>1</td>\n      <td>0</td>\n      <td>0</td>\n      <td>0</td>\n      <td>0</td>\n      <td>0</td>\n      <td>0</td>\n    </tr>\n    <tr>\n      <th>1</th>\n      <td>2010.0</td>\n      <td>9만km</td>\n      <td>NaN</td>\n      <td>157.0</td>\n      <td>NaN</td>\n      <td>20.0</td>\n      <td>FF</td>\n      <td>NaN</td>\n      <td>국산</td>\n      <td>NaN</td>\n      <td>...</td>\n      <td>0</td>\n      <td>1</td>\n      <td>0</td>\n      <td>0</td>\n      <td>0</td>\n      <td>0</td>\n      <td>0</td>\n      <td>0</td>\n      <td>0</td>\n      <td>0</td>\n    </tr>\n    <tr>\n      <th>2</th>\n      <td>2015.0</td>\n      <td>3만km</td>\n      <td>NaN</td>\n      <td>202.0</td>\n      <td>4.0</td>\n      <td>45.0</td>\n      <td>FF</td>\n      <td>NaN</td>\n      <td>국산</td>\n      <td>3389.0</td>\n      <td>...</td>\n      <td>0</td>\n      <td>0</td>\n      <td>0</td>\n      <td>0</td>\n      <td>0</td>\n      <td>0</td>\n      <td>0</td>\n      <td>0</td>\n      <td>1</td>\n      <td>0</td>\n    </tr>\n    <tr>\n      <th>3</th>\n      <td>2008.0</td>\n      <td>16만km</td>\n      <td>NaN</td>\n      <td>151.0</td>\n      <td>4.0</td>\n      <td>33.8</td>\n      <td>FR</td>\n      <td>NaN</td>\n      <td>국산</td>\n      <td>2499.0</td>\n      <td>...</td>\n      <td>0</td>\n      <td>0</td>\n      <td>0</td>\n      <td>0</td>\n      <td>0</td>\n      <td>0</td>\n      <td>0</td>\n      <td>0</td>\n      <td>1</td>\n      <td>0</td>\n    </tr>\n    <tr>\n      <th>4</th>\n      <td>2004.0</td>\n      <td>16만km</td>\n      <td>3.0</td>\n      <td>103.0</td>\n      <td>NaN</td>\n      <td>24.0</td>\n      <td>FR</td>\n      <td>수동</td>\n      <td>국산</td>\n      <td>1445.0</td>\n      <td>...</td>\n      <td>0</td>\n      <td>0</td>\n      <td>0</td>\n      <td>0</td>\n      <td>0</td>\n      <td>0</td>\n      <td>0</td>\n      <td>0</td>\n      <td>1</td>\n      <td>0</td>\n    </tr>\n  </tbody>\n</table>\n<p>5 rows × 21 columns</p>\n</div>"
     },
     "metadata": {},
     "execution_count": 89
    }
   ],
   "source": [
    "train.head()\n",
    "\n",
    "\n"
   ]
  },
  {
   "cell_type": "code",
   "execution_count": 90,
   "metadata": {},
   "outputs": [
    {
     "output_type": "stream",
     "name": "stdout",
     "text": [
      "(11769, 21)\n",
      "(5789, 19)\n"
     ]
    }
   ],
   "source": [
    "print(train.shape)\n",
    "print(test.shape)"
   ]
  },
  {
   "cell_type": "markdown",
   "metadata": {},
   "source": [
    "# 5 주행거리 dist 11769 non-null object\n",
    "\n",
    "- %d만{km|ml}\n",
    "- 중간중간에 '등록'이라고 되어있는 게 있다\n",
    "- 평균으로 채워야 한다\n",
    "- 평균을 구하려면 일단 수치를 모두 구해야 한다\n",
    "- 등록은 스킵해야 하네 "
   ]
  },
  {
   "cell_type": "code",
   "execution_count": 91,
   "metadata": {},
   "outputs": [
    {
     "output_type": "execute_result",
     "data": {
      "text/plain": [
       "0     4만km\n",
       "1     9만km\n",
       "2     3만km\n",
       "3    16만km\n",
       "4    16만km\n",
       "Name: dist, dtype: object"
      ]
     },
     "metadata": {},
     "execution_count": 91
    }
   ],
   "source": [
    "train_dist = train['dist']\n",
    "test_dist = test['dist']\n",
    "\n",
    "train_dist.head()"
   ]
  },
  {
   "cell_type": "code",
   "execution_count": 92,
   "metadata": {},
   "outputs": [],
   "source": [
    "def preprocess_dist(x):\n",
    "    # '등록'은 나중에 평균으로 채울 거임\n",
    "    if x == '등록':\n",
    "        return None\n",
    "\n",
    "    if x[-2:] == 'km':\n",
    "        # kilometer\n",
    "        x = x.split('km')[0]\n",
    "        weight = 1\n",
    "    else:\n",
    "        # mile\n",
    "        assert x[-2:] == 'ml'\n",
    "        x = x.split('ml')[0]\n",
    "        weight = 1.609344\n",
    "\n",
    "    if x[-1] == '만':\n",
    "        x = float(x.split('만')[0]) * 10000\n",
    "    elif x[-1] == '천':\n",
    "        x = float(x.split('천')[0]) * 1000\n",
    "\n",
    "    return float(x * weight)\n"
   ]
  },
  {
   "cell_type": "code",
   "execution_count": 93,
   "metadata": {},
   "outputs": [
    {
     "output_type": "execute_result",
     "data": {
      "text/plain": [
       "0         40000.0\n",
       "1         90000.0\n",
       "2         30000.0\n",
       "3        160000.0\n",
       "4        160000.0\n",
       "           ...   \n",
       "11764    110000.0\n",
       "11765      5000.0\n",
       "11766       230.0\n",
       "11767      9000.0\n",
       "11768      3000.0\n",
       "Name: dist, Length: 11769, dtype: float64"
      ]
     },
     "metadata": {},
     "execution_count": 93
    }
   ],
   "source": [
    "train_dist = train_dist.apply(preprocess_dist)\n",
    "test_dist = test_dist.apply(preprocess_dist)\n",
    "\n",
    "train_dist"
   ]
  },
  {
   "cell_type": "code",
   "execution_count": 94,
   "metadata": {},
   "outputs": [
    {
     "output_type": "execute_result",
     "data": {
      "text/plain": [
       "29"
      ]
     },
     "metadata": {},
     "execution_count": 94
    }
   ],
   "source": [
    "# 등록 처리\n",
    "train_dist.isna().sum()"
   ]
  },
  {
   "cell_type": "code",
   "execution_count": 95,
   "metadata": {},
   "outputs": [],
   "source": [
    "train_dist = train_dist.fillna(train_dist.mean())\n",
    "test_dist = test_dist.fillna(test_dist.mean())"
   ]
  },
  {
   "cell_type": "code",
   "execution_count": 96,
   "metadata": {},
   "outputs": [
    {
     "output_type": "execute_result",
     "data": {
      "text/plain": [
       "0"
      ]
     },
     "metadata": {},
     "execution_count": 96
    }
   ],
   "source": [
    "train_dist.isna().sum()"
   ]
  },
  {
   "cell_type": "code",
   "execution_count": 97,
   "metadata": {},
   "outputs": [],
   "source": [
    "train = train.drop(['dist'], axis=1)\n",
    "test = test.drop(['dist'], axis=1)\n",
    "\n",
    "train_dist.name = 'dist'\n",
    "test_dist.name = 'dist'\n",
    "\n",
    "train = train.join(train_dist)\n",
    "test = test.join(test_dist)"
   ]
  },
  {
   "cell_type": "code",
   "execution_count": 98,
   "metadata": {},
   "outputs": [
    {
     "output_type": "execute_result",
     "data": {
      "text/plain": [
       "   yeartype  people  power  cylinder  torque type mission country  newprice  \\\n",
       "0    2013.0     NaN  201.0       4.0    25.5   FF     NaN      국산    3141.0   \n",
       "1    2010.0     NaN  157.0       NaN    20.0   FF     NaN      국산       NaN   \n",
       "2    2015.0     NaN  202.0       4.0    45.0   FF     NaN      국산    3389.0   \n",
       "3    2008.0     NaN  151.0       4.0    33.8   FR     NaN      국산    2499.0   \n",
       "4    2004.0     3.0  103.0       NaN    24.0   FR      수동      국산    1445.0   \n",
       "\n",
       "    price  ...  fuel_LPG  fuel_LPG+전기  fuel_가솔린  fuel_가솔린+전기  fuel_가솔린/CNG겸용  \\\n",
       "0  1870.0  ...         0            0         1            0               0   \n",
       "1   700.0  ...         1            0         0            0               0   \n",
       "2  2990.0  ...         0            0         0            0               0   \n",
       "3   420.0  ...         0            0         0            0               0   \n",
       "4   450.0  ...         0            0         0            0               0   \n",
       "\n",
       "   fuel_가솔린/LPG겸용  fuel_기타  fuel_디젤  fuel_전기      dist  \n",
       "0               0        0        0        0   40000.0  \n",
       "1               0        0        0        0   90000.0  \n",
       "2               0        0        1        0   30000.0  \n",
       "3               0        0        1        0  160000.0  \n",
       "4               0        0        1        0  160000.0  \n",
       "\n",
       "[5 rows x 21 columns]"
      ],
      "text/html": "<div>\n<style scoped>\n    .dataframe tbody tr th:only-of-type {\n        vertical-align: middle;\n    }\n\n    .dataframe tbody tr th {\n        vertical-align: top;\n    }\n\n    .dataframe thead th {\n        text-align: right;\n    }\n</style>\n<table border=\"1\" class=\"dataframe\">\n  <thead>\n    <tr style=\"text-align: right;\">\n      <th></th>\n      <th>yeartype</th>\n      <th>people</th>\n      <th>power</th>\n      <th>cylinder</th>\n      <th>torque</th>\n      <th>type</th>\n      <th>mission</th>\n      <th>country</th>\n      <th>newprice</th>\n      <th>price</th>\n      <th>...</th>\n      <th>fuel_LPG</th>\n      <th>fuel_LPG+전기</th>\n      <th>fuel_가솔린</th>\n      <th>fuel_가솔린+전기</th>\n      <th>fuel_가솔린/CNG겸용</th>\n      <th>fuel_가솔린/LPG겸용</th>\n      <th>fuel_기타</th>\n      <th>fuel_디젤</th>\n      <th>fuel_전기</th>\n      <th>dist</th>\n    </tr>\n  </thead>\n  <tbody>\n    <tr>\n      <th>0</th>\n      <td>2013.0</td>\n      <td>NaN</td>\n      <td>201.0</td>\n      <td>4.0</td>\n      <td>25.5</td>\n      <td>FF</td>\n      <td>NaN</td>\n      <td>국산</td>\n      <td>3141.0</td>\n      <td>1870.0</td>\n      <td>...</td>\n      <td>0</td>\n      <td>0</td>\n      <td>1</td>\n      <td>0</td>\n      <td>0</td>\n      <td>0</td>\n      <td>0</td>\n      <td>0</td>\n      <td>0</td>\n      <td>40000.0</td>\n    </tr>\n    <tr>\n      <th>1</th>\n      <td>2010.0</td>\n      <td>NaN</td>\n      <td>157.0</td>\n      <td>NaN</td>\n      <td>20.0</td>\n      <td>FF</td>\n      <td>NaN</td>\n      <td>국산</td>\n      <td>NaN</td>\n      <td>700.0</td>\n      <td>...</td>\n      <td>1</td>\n      <td>0</td>\n      <td>0</td>\n      <td>0</td>\n      <td>0</td>\n      <td>0</td>\n      <td>0</td>\n      <td>0</td>\n      <td>0</td>\n      <td>90000.0</td>\n    </tr>\n    <tr>\n      <th>2</th>\n      <td>2015.0</td>\n      <td>NaN</td>\n      <td>202.0</td>\n      <td>4.0</td>\n      <td>45.0</td>\n      <td>FF</td>\n      <td>NaN</td>\n      <td>국산</td>\n      <td>3389.0</td>\n      <td>2990.0</td>\n      <td>...</td>\n      <td>0</td>\n      <td>0</td>\n      <td>0</td>\n      <td>0</td>\n      <td>0</td>\n      <td>0</td>\n      <td>0</td>\n      <td>1</td>\n      <td>0</td>\n      <td>30000.0</td>\n    </tr>\n    <tr>\n      <th>3</th>\n      <td>2008.0</td>\n      <td>NaN</td>\n      <td>151.0</td>\n      <td>4.0</td>\n      <td>33.8</td>\n      <td>FR</td>\n      <td>NaN</td>\n      <td>국산</td>\n      <td>2499.0</td>\n      <td>420.0</td>\n      <td>...</td>\n      <td>0</td>\n      <td>0</td>\n      <td>0</td>\n      <td>0</td>\n      <td>0</td>\n      <td>0</td>\n      <td>0</td>\n      <td>1</td>\n      <td>0</td>\n      <td>160000.0</td>\n    </tr>\n    <tr>\n      <th>4</th>\n      <td>2004.0</td>\n      <td>3.0</td>\n      <td>103.0</td>\n      <td>NaN</td>\n      <td>24.0</td>\n      <td>FR</td>\n      <td>수동</td>\n      <td>국산</td>\n      <td>1445.0</td>\n      <td>450.0</td>\n      <td>...</td>\n      <td>0</td>\n      <td>0</td>\n      <td>0</td>\n      <td>0</td>\n      <td>0</td>\n      <td>0</td>\n      <td>0</td>\n      <td>1</td>\n      <td>0</td>\n      <td>160000.0</td>\n    </tr>\n  </tbody>\n</table>\n<p>5 rows × 21 columns</p>\n</div>"
     },
     "metadata": {},
     "execution_count": 98
    }
   ],
   "source": [
    "train.head()"
   ]
  },
  {
   "cell_type": "markdown",
   "metadata": {},
   "source": [
    "# 6 인승 people 765 non-null float64\n",
    "\n",
    "- 결측치가 많긴 한데, 일반화해볼 수 있을까?\n",
    "- 없는 수치는 그냥 4인승 정도고, 특별한 수치만 기록되어있는 거 아닐까?\n",
    "- 카테고리를 찍어보자"
   ]
  },
  {
   "cell_type": "code",
   "execution_count": 99,
   "metadata": {},
   "outputs": [],
   "source": [
    "train_people = train['people']\n",
    "test_people = test['people']"
   ]
  },
  {
   "cell_type": "code",
   "execution_count": 100,
   "metadata": {},
   "outputs": [
    {
     "output_type": "stream",
     "name": "stdout",
     "text": [
      "5.0     327\n4.0     232\n3.0      76\n2.0      67\n7.0      20\n15.0     17\n6.0       9\n12.0      5\n9.0       4\n14.0      4\n46.0      2\n11.0      1\n18.0      1\nName: people, dtype: int64\n\n5.0     176\n4.0     110\n2.0      38\n3.0      38\n6.0       9\n15.0      4\n14.0      3\n7.0       3\n9.0       3\n12.0      2\n16.0      2\n11.0      1\nName: people, dtype: int64\n"
     ]
    }
   ],
   "source": [
    "print(train_people.value_counts())\n",
    "print()\n",
    "print(test_people.value_counts())"
   ]
  },
  {
   "source": [
    "- 못 살릴듯.. 그냥 드랍하자"
   ],
   "cell_type": "markdown",
   "metadata": {}
  },
  {
   "cell_type": "code",
   "execution_count": 101,
   "metadata": {},
   "outputs": [],
   "source": [
    "train = train.drop(['people'], axis=1)\n",
    "test = test.drop(['people'], axis=1)"
   ]
  },
  {
   "cell_type": "markdown",
   "metadata": {},
   "source": [
    "# 7 최대출력(마력) power 10644 non-null float64\n",
    "\n",
    "- 결측치만 채워서 그대로 쓰자"
   ]
  },
  {
   "cell_type": "code",
   "execution_count": 102,
   "metadata": {},
   "outputs": [
    {
     "output_type": "execute_result",
     "data": {
      "text/plain": [
       "0        201.0\n",
       "1        157.0\n",
       "2        202.0\n",
       "3        151.0\n",
       "4        103.0\n",
       "         ...  \n",
       "11764    210.0\n",
       "11765      NaN\n",
       "11766    370.0\n",
       "11767    425.0\n",
       "11768    425.0\n",
       "Name: power, Length: 11769, dtype: float64"
      ]
     },
     "metadata": {},
     "execution_count": 102
    }
   ],
   "source": [
    "train_power = train['power']\n",
    "test_power = test['power']\n",
    "\n",
    "train_power"
   ]
  },
  {
   "cell_type": "code",
   "execution_count": 103,
   "metadata": {},
   "outputs": [
    {
     "output_type": "execute_result",
     "data": {
      "text/plain": [
       "1125"
      ]
     },
     "metadata": {},
     "execution_count": 103
    }
   ],
   "source": [
    "train_power.isna().sum()"
   ]
  },
  {
   "cell_type": "code",
   "execution_count": 104,
   "metadata": {},
   "outputs": [],
   "source": [
    "train_power = train_power.fillna(train_power.mean())\n",
    "test_power = test_power.fillna(test_power.mean())"
   ]
  },
  {
   "cell_type": "code",
   "execution_count": 105,
   "metadata": {},
   "outputs": [
    {
     "output_type": "execute_result",
     "data": {
      "text/plain": [
       "0"
      ]
     },
     "metadata": {},
     "execution_count": 105
    }
   ],
   "source": [
    "train_power.isna().sum()"
   ]
  },
  {
   "cell_type": "code",
   "execution_count": 106,
   "metadata": {},
   "outputs": [],
   "source": [
    "train = train.drop(['power'], axis=1)\n",
    "test = test.drop(['power'], axis=1)\n",
    "\n",
    "train = train.join(train_power)\n",
    "test = test.join(test_power)"
   ]
  },
  {
   "cell_type": "code",
   "execution_count": 107,
   "metadata": {},
   "outputs": [
    {
     "output_type": "execute_result",
     "data": {
      "text/plain": [
       "   yeartype  cylinder  torque type mission country  newprice   price  \\\n",
       "0    2013.0       4.0    25.5   FF     NaN      국산    3141.0  1870.0   \n",
       "1    2010.0       NaN    20.0   FF     NaN      국산       NaN   700.0   \n",
       "2    2015.0       4.0    45.0   FF     NaN      국산    3389.0  2990.0   \n",
       "3    2008.0       4.0    33.8   FR     NaN      국산    2499.0   420.0   \n",
       "4    2004.0       NaN    24.0   FR      수동      국산    1445.0   450.0   \n",
       "\n",
       "   fuel_CNG  fuel_LPG  fuel_LPG+전기  fuel_가솔린  fuel_가솔린+전기  fuel_가솔린/CNG겸용  \\\n",
       "0         0         0            0         1            0               0   \n",
       "1         0         1            0         0            0               0   \n",
       "2         0         0            0         0            0               0   \n",
       "3         0         0            0         0            0               0   \n",
       "4         0         0            0         0            0               0   \n",
       "\n",
       "   fuel_가솔린/LPG겸용  fuel_기타  fuel_디젤  fuel_전기      dist  power  \n",
       "0               0        0        0        0   40000.0  201.0  \n",
       "1               0        0        0        0   90000.0  157.0  \n",
       "2               0        0        1        0   30000.0  202.0  \n",
       "3               0        0        1        0  160000.0  151.0  \n",
       "4               0        0        1        0  160000.0  103.0  "
      ],
      "text/html": "<div>\n<style scoped>\n    .dataframe tbody tr th:only-of-type {\n        vertical-align: middle;\n    }\n\n    .dataframe tbody tr th {\n        vertical-align: top;\n    }\n\n    .dataframe thead th {\n        text-align: right;\n    }\n</style>\n<table border=\"1\" class=\"dataframe\">\n  <thead>\n    <tr style=\"text-align: right;\">\n      <th></th>\n      <th>yeartype</th>\n      <th>cylinder</th>\n      <th>torque</th>\n      <th>type</th>\n      <th>mission</th>\n      <th>country</th>\n      <th>newprice</th>\n      <th>price</th>\n      <th>fuel_CNG</th>\n      <th>fuel_LPG</th>\n      <th>fuel_LPG+전기</th>\n      <th>fuel_가솔린</th>\n      <th>fuel_가솔린+전기</th>\n      <th>fuel_가솔린/CNG겸용</th>\n      <th>fuel_가솔린/LPG겸용</th>\n      <th>fuel_기타</th>\n      <th>fuel_디젤</th>\n      <th>fuel_전기</th>\n      <th>dist</th>\n      <th>power</th>\n    </tr>\n  </thead>\n  <tbody>\n    <tr>\n      <th>0</th>\n      <td>2013.0</td>\n      <td>4.0</td>\n      <td>25.5</td>\n      <td>FF</td>\n      <td>NaN</td>\n      <td>국산</td>\n      <td>3141.0</td>\n      <td>1870.0</td>\n      <td>0</td>\n      <td>0</td>\n      <td>0</td>\n      <td>1</td>\n      <td>0</td>\n      <td>0</td>\n      <td>0</td>\n      <td>0</td>\n      <td>0</td>\n      <td>0</td>\n      <td>40000.0</td>\n      <td>201.0</td>\n    </tr>\n    <tr>\n      <th>1</th>\n      <td>2010.0</td>\n      <td>NaN</td>\n      <td>20.0</td>\n      <td>FF</td>\n      <td>NaN</td>\n      <td>국산</td>\n      <td>NaN</td>\n      <td>700.0</td>\n      <td>0</td>\n      <td>1</td>\n      <td>0</td>\n      <td>0</td>\n      <td>0</td>\n      <td>0</td>\n      <td>0</td>\n      <td>0</td>\n      <td>0</td>\n      <td>0</td>\n      <td>90000.0</td>\n      <td>157.0</td>\n    </tr>\n    <tr>\n      <th>2</th>\n      <td>2015.0</td>\n      <td>4.0</td>\n      <td>45.0</td>\n      <td>FF</td>\n      <td>NaN</td>\n      <td>국산</td>\n      <td>3389.0</td>\n      <td>2990.0</td>\n      <td>0</td>\n      <td>0</td>\n      <td>0</td>\n      <td>0</td>\n      <td>0</td>\n      <td>0</td>\n      <td>0</td>\n      <td>0</td>\n      <td>1</td>\n      <td>0</td>\n      <td>30000.0</td>\n      <td>202.0</td>\n    </tr>\n    <tr>\n      <th>3</th>\n      <td>2008.0</td>\n      <td>4.0</td>\n      <td>33.8</td>\n      <td>FR</td>\n      <td>NaN</td>\n      <td>국산</td>\n      <td>2499.0</td>\n      <td>420.0</td>\n      <td>0</td>\n      <td>0</td>\n      <td>0</td>\n      <td>0</td>\n      <td>0</td>\n      <td>0</td>\n      <td>0</td>\n      <td>0</td>\n      <td>1</td>\n      <td>0</td>\n      <td>160000.0</td>\n      <td>151.0</td>\n    </tr>\n    <tr>\n      <th>4</th>\n      <td>2004.0</td>\n      <td>NaN</td>\n      <td>24.0</td>\n      <td>FR</td>\n      <td>수동</td>\n      <td>국산</td>\n      <td>1445.0</td>\n      <td>450.0</td>\n      <td>0</td>\n      <td>0</td>\n      <td>0</td>\n      <td>0</td>\n      <td>0</td>\n      <td>0</td>\n      <td>0</td>\n      <td>0</td>\n      <td>1</td>\n      <td>0</td>\n      <td>160000.0</td>\n      <td>103.0</td>\n    </tr>\n  </tbody>\n</table>\n</div>"
     },
     "metadata": {},
     "execution_count": 107
    }
   ],
   "source": [
    "train.head()"
   ]
  },
  {
   "cell_type": "markdown",
   "metadata": {},
   "source": [
    "# 8 기통 cylinder 8698 non-null float64\n",
    "\n",
    "- 범주형으로 조질 수 있겠다\n",
    "- 단 결측치는 어떻게 할 것인가?\n",
    "- 최빈값으로 일단 조져보자\n",
    "\n"
   ]
  },
  {
   "cell_type": "code",
   "execution_count": 108,
   "metadata": {},
   "outputs": [
    {
     "output_type": "execute_result",
     "data": {
      "text/plain": [
       "4.0    5621\n",
       "6.0    2459\n",
       "3.0     402\n",
       "8.0     171\n",
       "5.0      45\n",
       "Name: cylinder, dtype: int64"
      ]
     },
     "metadata": {},
     "execution_count": 108
    }
   ],
   "source": [
    "train_cylinder = train['cylinder']\n",
    "test_cylinder = test['cylinder']\n",
    "\n",
    "train_cylinder.value_counts()"
   ]
  },
  {
   "cell_type": "code",
   "execution_count": 109,
   "metadata": {},
   "outputs": [
    {
     "output_type": "execute_result",
     "data": {
      "text/plain": [
       "4.0    2747\n",
       "6.0    1222\n",
       "3.0     173\n",
       "8.0      95\n",
       "5.0      38\n",
       "Name: cylinder, dtype: int64"
      ]
     },
     "metadata": {},
     "execution_count": 109
    }
   ],
   "source": [
    "test_cylinder.value_counts()"
   ]
  },
  {
   "cell_type": "code",
   "execution_count": 110,
   "metadata": {},
   "outputs": [],
   "source": [
    "train_cylinder = train_cylinder.fillna(4.0)\n",
    "test_cylinder = test_cylinder.fillna(4.0)"
   ]
  },
  {
   "cell_type": "code",
   "execution_count": 111,
   "metadata": {},
   "outputs": [
    {
     "output_type": "execute_result",
     "data": {
      "text/plain": [
       "0"
      ]
     },
     "metadata": {},
     "execution_count": 111
    }
   ],
   "source": [
    "train_cylinder.isna().sum()"
   ]
  },
  {
   "cell_type": "code",
   "execution_count": 112,
   "metadata": {},
   "outputs": [],
   "source": [
    "train_cylinder_dummies = pd.get_dummies(train_cylinder)\n",
    "test_cylinder_dummies = pd.get_dummies(test_cylinder)\n",
    "\n",
    "train_cylinder_dummies = train_cylinder_dummies.add_prefix(\"cylinder_\")\n",
    "test_cylinder_dummies = test_cylinder_dummies.add_prefix(\"cylinder_\")\n",
    "\n",
    "train = train.drop(['cylinder'], axis=1)\n",
    "test = test.drop(['cylinder'], axis=1)\n",
    "\n",
    "train = train.join(train_cylinder_dummies)\n",
    "test = test.join(test_cylinder_dummies)"
   ]
  },
  {
   "cell_type": "code",
   "execution_count": 113,
   "metadata": {},
   "outputs": [
    {
     "output_type": "execute_result",
     "data": {
      "text/plain": [
       "   yeartype  torque type mission country  newprice   price  fuel_CNG  \\\n",
       "0    2013.0    25.5   FF     NaN      국산    3141.0  1870.0         0   \n",
       "1    2010.0    20.0   FF     NaN      국산       NaN   700.0         0   \n",
       "2    2015.0    45.0   FF     NaN      국산    3389.0  2990.0         0   \n",
       "3    2008.0    33.8   FR     NaN      국산    2499.0   420.0         0   \n",
       "4    2004.0    24.0   FR      수동      국산    1445.0   450.0         0   \n",
       "\n",
       "   fuel_LPG  fuel_LPG+전기  ...  fuel_기타  fuel_디젤  fuel_전기      dist  power  \\\n",
       "0         0            0  ...        0        0        0   40000.0  201.0   \n",
       "1         1            0  ...        0        0        0   90000.0  157.0   \n",
       "2         0            0  ...        0        1        0   30000.0  202.0   \n",
       "3         0            0  ...        0        1        0  160000.0  151.0   \n",
       "4         0            0  ...        0        1        0  160000.0  103.0   \n",
       "\n",
       "   cylinder_3.0  cylinder_4.0  cylinder_5.0  cylinder_6.0  cylinder_8.0  \n",
       "0             0             1             0             0             0  \n",
       "1             0             1             0             0             0  \n",
       "2             0             1             0             0             0  \n",
       "3             0             1             0             0             0  \n",
       "4             0             1             0             0             0  \n",
       "\n",
       "[5 rows x 24 columns]"
      ],
      "text/html": "<div>\n<style scoped>\n    .dataframe tbody tr th:only-of-type {\n        vertical-align: middle;\n    }\n\n    .dataframe tbody tr th {\n        vertical-align: top;\n    }\n\n    .dataframe thead th {\n        text-align: right;\n    }\n</style>\n<table border=\"1\" class=\"dataframe\">\n  <thead>\n    <tr style=\"text-align: right;\">\n      <th></th>\n      <th>yeartype</th>\n      <th>torque</th>\n      <th>type</th>\n      <th>mission</th>\n      <th>country</th>\n      <th>newprice</th>\n      <th>price</th>\n      <th>fuel_CNG</th>\n      <th>fuel_LPG</th>\n      <th>fuel_LPG+전기</th>\n      <th>...</th>\n      <th>fuel_기타</th>\n      <th>fuel_디젤</th>\n      <th>fuel_전기</th>\n      <th>dist</th>\n      <th>power</th>\n      <th>cylinder_3.0</th>\n      <th>cylinder_4.0</th>\n      <th>cylinder_5.0</th>\n      <th>cylinder_6.0</th>\n      <th>cylinder_8.0</th>\n    </tr>\n  </thead>\n  <tbody>\n    <tr>\n      <th>0</th>\n      <td>2013.0</td>\n      <td>25.5</td>\n      <td>FF</td>\n      <td>NaN</td>\n      <td>국산</td>\n      <td>3141.0</td>\n      <td>1870.0</td>\n      <td>0</td>\n      <td>0</td>\n      <td>0</td>\n      <td>...</td>\n      <td>0</td>\n      <td>0</td>\n      <td>0</td>\n      <td>40000.0</td>\n      <td>201.0</td>\n      <td>0</td>\n      <td>1</td>\n      <td>0</td>\n      <td>0</td>\n      <td>0</td>\n    </tr>\n    <tr>\n      <th>1</th>\n      <td>2010.0</td>\n      <td>20.0</td>\n      <td>FF</td>\n      <td>NaN</td>\n      <td>국산</td>\n      <td>NaN</td>\n      <td>700.0</td>\n      <td>0</td>\n      <td>1</td>\n      <td>0</td>\n      <td>...</td>\n      <td>0</td>\n      <td>0</td>\n      <td>0</td>\n      <td>90000.0</td>\n      <td>157.0</td>\n      <td>0</td>\n      <td>1</td>\n      <td>0</td>\n      <td>0</td>\n      <td>0</td>\n    </tr>\n    <tr>\n      <th>2</th>\n      <td>2015.0</td>\n      <td>45.0</td>\n      <td>FF</td>\n      <td>NaN</td>\n      <td>국산</td>\n      <td>3389.0</td>\n      <td>2990.0</td>\n      <td>0</td>\n      <td>0</td>\n      <td>0</td>\n      <td>...</td>\n      <td>0</td>\n      <td>1</td>\n      <td>0</td>\n      <td>30000.0</td>\n      <td>202.0</td>\n      <td>0</td>\n      <td>1</td>\n      <td>0</td>\n      <td>0</td>\n      <td>0</td>\n    </tr>\n    <tr>\n      <th>3</th>\n      <td>2008.0</td>\n      <td>33.8</td>\n      <td>FR</td>\n      <td>NaN</td>\n      <td>국산</td>\n      <td>2499.0</td>\n      <td>420.0</td>\n      <td>0</td>\n      <td>0</td>\n      <td>0</td>\n      <td>...</td>\n      <td>0</td>\n      <td>1</td>\n      <td>0</td>\n      <td>160000.0</td>\n      <td>151.0</td>\n      <td>0</td>\n      <td>1</td>\n      <td>0</td>\n      <td>0</td>\n      <td>0</td>\n    </tr>\n    <tr>\n      <th>4</th>\n      <td>2004.0</td>\n      <td>24.0</td>\n      <td>FR</td>\n      <td>수동</td>\n      <td>국산</td>\n      <td>1445.0</td>\n      <td>450.0</td>\n      <td>0</td>\n      <td>0</td>\n      <td>0</td>\n      <td>...</td>\n      <td>0</td>\n      <td>1</td>\n      <td>0</td>\n      <td>160000.0</td>\n      <td>103.0</td>\n      <td>0</td>\n      <td>1</td>\n      <td>0</td>\n      <td>0</td>\n      <td>0</td>\n    </tr>\n  </tbody>\n</table>\n<p>5 rows × 24 columns</p>\n</div>"
     },
     "metadata": {},
     "execution_count": 113
    }
   ],
   "source": [
    "train.head()"
   ]
  },
  {
   "cell_type": "markdown",
   "metadata": {},
   "source": [
    "# 9 최대토크(kgm) torque 10545 non-null float64\n",
    "\n",
    "- 얘도 결측치 mean으로 채우고 그대로 쓰자"
   ]
  },
  {
   "cell_type": "code",
   "execution_count": 114,
   "metadata": {},
   "outputs": [
    {
     "output_type": "execute_result",
     "data": {
      "text/plain": [
       "0        25.5\n",
       "1        20.0\n",
       "2        45.0\n",
       "3        33.8\n",
       "4        24.0\n",
       "         ... \n",
       "11764    30.5\n",
       "11765     NaN\n",
       "11766    52.0\n",
       "11767    53.0\n",
       "11768    53.0\n",
       "Name: torque, Length: 11769, dtype: float64"
      ]
     },
     "metadata": {},
     "execution_count": 114
    }
   ],
   "source": [
    "train_torque = train['torque']\n",
    "test_torque = test['torque']\n",
    "\n",
    "train_torque"
   ]
  },
  {
   "cell_type": "code",
   "execution_count": 115,
   "metadata": {},
   "outputs": [],
   "source": [
    "train_torque = train_torque.fillna(train_torque.mean())\n",
    "test_torque = test_torque.fillna(test_torque.mean())"
   ]
  },
  {
   "cell_type": "code",
   "execution_count": 116,
   "metadata": {},
   "outputs": [
    {
     "output_type": "execute_result",
     "data": {
      "text/plain": [
       "0"
      ]
     },
     "metadata": {},
     "execution_count": 116
    }
   ],
   "source": [
    "train_torque.isna().sum()"
   ]
  },
  {
   "cell_type": "code",
   "execution_count": 117,
   "metadata": {},
   "outputs": [],
   "source": [
    "train = train.drop(['torque'], axis=1)\n",
    "test = test.drop(['torque'], axis=1)\n",
    "\n",
    "train = train.join(train_torque)\n",
    "test = test.join(test_torque)"
   ]
  },
  {
   "cell_type": "code",
   "execution_count": 118,
   "metadata": {},
   "outputs": [
    {
     "output_type": "execute_result",
     "data": {
      "text/plain": [
       "   yeartype type mission country  newprice   price  fuel_CNG  fuel_LPG  \\\n",
       "0    2013.0   FF     NaN      국산    3141.0  1870.0         0         0   \n",
       "1    2010.0   FF     NaN      국산       NaN   700.0         0         1   \n",
       "2    2015.0   FF     NaN      국산    3389.0  2990.0         0         0   \n",
       "3    2008.0   FR     NaN      국산    2499.0   420.0         0         0   \n",
       "4    2004.0   FR      수동      국산    1445.0   450.0         0         0   \n",
       "\n",
       "   fuel_LPG+전기  fuel_가솔린  ...  fuel_디젤  fuel_전기      dist  power  \\\n",
       "0            0         1  ...        0        0   40000.0  201.0   \n",
       "1            0         0  ...        0        0   90000.0  157.0   \n",
       "2            0         0  ...        1        0   30000.0  202.0   \n",
       "3            0         0  ...        1        0  160000.0  151.0   \n",
       "4            0         0  ...        1        0  160000.0  103.0   \n",
       "\n",
       "   cylinder_3.0  cylinder_4.0  cylinder_5.0  cylinder_6.0  cylinder_8.0  \\\n",
       "0             0             1             0             0             0   \n",
       "1             0             1             0             0             0   \n",
       "2             0             1             0             0             0   \n",
       "3             0             1             0             0             0   \n",
       "4             0             1             0             0             0   \n",
       "\n",
       "   torque  \n",
       "0    25.5  \n",
       "1    20.0  \n",
       "2    45.0  \n",
       "3    33.8  \n",
       "4    24.0  \n",
       "\n",
       "[5 rows x 24 columns]"
      ],
      "text/html": "<div>\n<style scoped>\n    .dataframe tbody tr th:only-of-type {\n        vertical-align: middle;\n    }\n\n    .dataframe tbody tr th {\n        vertical-align: top;\n    }\n\n    .dataframe thead th {\n        text-align: right;\n    }\n</style>\n<table border=\"1\" class=\"dataframe\">\n  <thead>\n    <tr style=\"text-align: right;\">\n      <th></th>\n      <th>yeartype</th>\n      <th>type</th>\n      <th>mission</th>\n      <th>country</th>\n      <th>newprice</th>\n      <th>price</th>\n      <th>fuel_CNG</th>\n      <th>fuel_LPG</th>\n      <th>fuel_LPG+전기</th>\n      <th>fuel_가솔린</th>\n      <th>...</th>\n      <th>fuel_디젤</th>\n      <th>fuel_전기</th>\n      <th>dist</th>\n      <th>power</th>\n      <th>cylinder_3.0</th>\n      <th>cylinder_4.0</th>\n      <th>cylinder_5.0</th>\n      <th>cylinder_6.0</th>\n      <th>cylinder_8.0</th>\n      <th>torque</th>\n    </tr>\n  </thead>\n  <tbody>\n    <tr>\n      <th>0</th>\n      <td>2013.0</td>\n      <td>FF</td>\n      <td>NaN</td>\n      <td>국산</td>\n      <td>3141.0</td>\n      <td>1870.0</td>\n      <td>0</td>\n      <td>0</td>\n      <td>0</td>\n      <td>1</td>\n      <td>...</td>\n      <td>0</td>\n      <td>0</td>\n      <td>40000.0</td>\n      <td>201.0</td>\n      <td>0</td>\n      <td>1</td>\n      <td>0</td>\n      <td>0</td>\n      <td>0</td>\n      <td>25.5</td>\n    </tr>\n    <tr>\n      <th>1</th>\n      <td>2010.0</td>\n      <td>FF</td>\n      <td>NaN</td>\n      <td>국산</td>\n      <td>NaN</td>\n      <td>700.0</td>\n      <td>0</td>\n      <td>1</td>\n      <td>0</td>\n      <td>0</td>\n      <td>...</td>\n      <td>0</td>\n      <td>0</td>\n      <td>90000.0</td>\n      <td>157.0</td>\n      <td>0</td>\n      <td>1</td>\n      <td>0</td>\n      <td>0</td>\n      <td>0</td>\n      <td>20.0</td>\n    </tr>\n    <tr>\n      <th>2</th>\n      <td>2015.0</td>\n      <td>FF</td>\n      <td>NaN</td>\n      <td>국산</td>\n      <td>3389.0</td>\n      <td>2990.0</td>\n      <td>0</td>\n      <td>0</td>\n      <td>0</td>\n      <td>0</td>\n      <td>...</td>\n      <td>1</td>\n      <td>0</td>\n      <td>30000.0</td>\n      <td>202.0</td>\n      <td>0</td>\n      <td>1</td>\n      <td>0</td>\n      <td>0</td>\n      <td>0</td>\n      <td>45.0</td>\n    </tr>\n    <tr>\n      <th>3</th>\n      <td>2008.0</td>\n      <td>FR</td>\n      <td>NaN</td>\n      <td>국산</td>\n      <td>2499.0</td>\n      <td>420.0</td>\n      <td>0</td>\n      <td>0</td>\n      <td>0</td>\n      <td>0</td>\n      <td>...</td>\n      <td>1</td>\n      <td>0</td>\n      <td>160000.0</td>\n      <td>151.0</td>\n      <td>0</td>\n      <td>1</td>\n      <td>0</td>\n      <td>0</td>\n      <td>0</td>\n      <td>33.8</td>\n    </tr>\n    <tr>\n      <th>4</th>\n      <td>2004.0</td>\n      <td>FR</td>\n      <td>수동</td>\n      <td>국산</td>\n      <td>1445.0</td>\n      <td>450.0</td>\n      <td>0</td>\n      <td>0</td>\n      <td>0</td>\n      <td>0</td>\n      <td>...</td>\n      <td>1</td>\n      <td>0</td>\n      <td>160000.0</td>\n      <td>103.0</td>\n      <td>0</td>\n      <td>1</td>\n      <td>0</td>\n      <td>0</td>\n      <td>0</td>\n      <td>24.0</td>\n    </tr>\n  </tbody>\n</table>\n<p>5 rows × 24 columns</p>\n</div>"
     },
     "metadata": {},
     "execution_count": 118
    }
   ],
   "source": [
    "train.head()"
   ]
  },
  {
   "cell_type": "markdown",
   "metadata": {},
   "source": [
    "# 10 구동방식 type 10808 non-null object\n",
    "\n",
    "- 제일 많은 걸로 결측치 채우고 dummies 만들어서 쓰자\n",
    "- train에 3개 있는 RR은 데이터 자체를 없애버리자"
   ]
  },
  {
   "cell_type": "code",
   "execution_count": 119,
   "metadata": {},
   "outputs": [],
   "source": [
    "train = train.drop(train[train['type'] == 'RR'].index)"
   ]
  },
  {
   "cell_type": "code",
   "execution_count": 120,
   "metadata": {},
   "outputs": [],
   "source": [
    "train_type = train['type']\n",
    "test_type = test['type']"
   ]
  },
  {
   "cell_type": "code",
   "execution_count": 121,
   "metadata": {},
   "outputs": [
    {
     "output_type": "stream",
     "name": "stdout",
     "text": [
      "FF     7333\nFR     2319\n4WD     688\nAWD     452\nMR       13\nName: type, dtype: int64\n\nFF     3655\nFR     1074\n4WD     352\nAWD     222\nMR        9\nName: type, dtype: int64\n"
     ]
    }
   ],
   "source": [
    "print(train_type.value_counts())\n",
    "print()\n",
    "print(test_type.value_counts())"
   ]
  },
  {
   "cell_type": "code",
   "execution_count": 122,
   "metadata": {},
   "outputs": [],
   "source": [
    "train = train.drop(train[train['type'] == 'RR'].index)"
   ]
  },
  {
   "cell_type": "code",
   "execution_count": 123,
   "metadata": {},
   "outputs": [],
   "source": [
    "train_type = train_type.fillna('FF')\n",
    "test_type = test_type.fillna('FF')"
   ]
  },
  {
   "cell_type": "code",
   "execution_count": 124,
   "metadata": {},
   "outputs": [
    {
     "output_type": "execute_result",
     "data": {
      "text/plain": [
       "0"
      ]
     },
     "metadata": {},
     "execution_count": 124
    }
   ],
   "source": [
    "train_type.isna().sum()"
   ]
  },
  {
   "cell_type": "code",
   "execution_count": 125,
   "metadata": {},
   "outputs": [],
   "source": [
    "train_type_dummies = pd.get_dummies(train_type)\n",
    "test_type_dummies = pd.get_dummies(test_type)\n",
    "\n",
    "train_type_dummies = train_type_dummies.add_prefix('type_')\n",
    "test_type_dummies = test_type_dummies.add_prefix('type_')\n",
    "\n",
    "train = train.drop(['type'], axis=1)\n",
    "test = test.drop(['type'], axis=1)\n",
    "\n",
    "train = train.join(train_type_dummies)\n",
    "test = test.join(test_type_dummies)"
   ]
  },
  {
   "cell_type": "code",
   "execution_count": 126,
   "metadata": {},
   "outputs": [
    {
     "output_type": "execute_result",
     "data": {
      "text/plain": [
       "   yeartype mission country  newprice   price  fuel_CNG  fuel_LPG  \\\n",
       "0    2013.0     NaN      국산    3141.0  1870.0         0         0   \n",
       "1    2010.0     NaN      국산       NaN   700.0         0         1   \n",
       "2    2015.0     NaN      국산    3389.0  2990.0         0         0   \n",
       "3    2008.0     NaN      국산    2499.0   420.0         0         0   \n",
       "4    2004.0      수동      국산    1445.0   450.0         0         0   \n",
       "\n",
       "   fuel_LPG+전기  fuel_가솔린  fuel_가솔린+전기  ...  cylinder_4.0  cylinder_5.0  \\\n",
       "0            0         1            0  ...             1             0   \n",
       "1            0         0            0  ...             1             0   \n",
       "2            0         0            0  ...             1             0   \n",
       "3            0         0            0  ...             1             0   \n",
       "4            0         0            0  ...             1             0   \n",
       "\n",
       "   cylinder_6.0  cylinder_8.0  torque  type_4WD  type_AWD  type_FF  type_FR  \\\n",
       "0             0             0    25.5         0         0        1        0   \n",
       "1             0             0    20.0         0         0        1        0   \n",
       "2             0             0    45.0         0         0        1        0   \n",
       "3             0             0    33.8         0         0        0        1   \n",
       "4             0             0    24.0         0         0        0        1   \n",
       "\n",
       "   type_MR  \n",
       "0        0  \n",
       "1        0  \n",
       "2        0  \n",
       "3        0  \n",
       "4        0  \n",
       "\n",
       "[5 rows x 28 columns]"
      ],
      "text/html": "<div>\n<style scoped>\n    .dataframe tbody tr th:only-of-type {\n        vertical-align: middle;\n    }\n\n    .dataframe tbody tr th {\n        vertical-align: top;\n    }\n\n    .dataframe thead th {\n        text-align: right;\n    }\n</style>\n<table border=\"1\" class=\"dataframe\">\n  <thead>\n    <tr style=\"text-align: right;\">\n      <th></th>\n      <th>yeartype</th>\n      <th>mission</th>\n      <th>country</th>\n      <th>newprice</th>\n      <th>price</th>\n      <th>fuel_CNG</th>\n      <th>fuel_LPG</th>\n      <th>fuel_LPG+전기</th>\n      <th>fuel_가솔린</th>\n      <th>fuel_가솔린+전기</th>\n      <th>...</th>\n      <th>cylinder_4.0</th>\n      <th>cylinder_5.0</th>\n      <th>cylinder_6.0</th>\n      <th>cylinder_8.0</th>\n      <th>torque</th>\n      <th>type_4WD</th>\n      <th>type_AWD</th>\n      <th>type_FF</th>\n      <th>type_FR</th>\n      <th>type_MR</th>\n    </tr>\n  </thead>\n  <tbody>\n    <tr>\n      <th>0</th>\n      <td>2013.0</td>\n      <td>NaN</td>\n      <td>국산</td>\n      <td>3141.0</td>\n      <td>1870.0</td>\n      <td>0</td>\n      <td>0</td>\n      <td>0</td>\n      <td>1</td>\n      <td>0</td>\n      <td>...</td>\n      <td>1</td>\n      <td>0</td>\n      <td>0</td>\n      <td>0</td>\n      <td>25.5</td>\n      <td>0</td>\n      <td>0</td>\n      <td>1</td>\n      <td>0</td>\n      <td>0</td>\n    </tr>\n    <tr>\n      <th>1</th>\n      <td>2010.0</td>\n      <td>NaN</td>\n      <td>국산</td>\n      <td>NaN</td>\n      <td>700.0</td>\n      <td>0</td>\n      <td>1</td>\n      <td>0</td>\n      <td>0</td>\n      <td>0</td>\n      <td>...</td>\n      <td>1</td>\n      <td>0</td>\n      <td>0</td>\n      <td>0</td>\n      <td>20.0</td>\n      <td>0</td>\n      <td>0</td>\n      <td>1</td>\n      <td>0</td>\n      <td>0</td>\n    </tr>\n    <tr>\n      <th>2</th>\n      <td>2015.0</td>\n      <td>NaN</td>\n      <td>국산</td>\n      <td>3389.0</td>\n      <td>2990.0</td>\n      <td>0</td>\n      <td>0</td>\n      <td>0</td>\n      <td>0</td>\n      <td>0</td>\n      <td>...</td>\n      <td>1</td>\n      <td>0</td>\n      <td>0</td>\n      <td>0</td>\n      <td>45.0</td>\n      <td>0</td>\n      <td>0</td>\n      <td>1</td>\n      <td>0</td>\n      <td>0</td>\n    </tr>\n    <tr>\n      <th>3</th>\n      <td>2008.0</td>\n      <td>NaN</td>\n      <td>국산</td>\n      <td>2499.0</td>\n      <td>420.0</td>\n      <td>0</td>\n      <td>0</td>\n      <td>0</td>\n      <td>0</td>\n      <td>0</td>\n      <td>...</td>\n      <td>1</td>\n      <td>0</td>\n      <td>0</td>\n      <td>0</td>\n      <td>33.8</td>\n      <td>0</td>\n      <td>0</td>\n      <td>0</td>\n      <td>1</td>\n      <td>0</td>\n    </tr>\n    <tr>\n      <th>4</th>\n      <td>2004.0</td>\n      <td>수동</td>\n      <td>국산</td>\n      <td>1445.0</td>\n      <td>450.0</td>\n      <td>0</td>\n      <td>0</td>\n      <td>0</td>\n      <td>0</td>\n      <td>0</td>\n      <td>...</td>\n      <td>1</td>\n      <td>0</td>\n      <td>0</td>\n      <td>0</td>\n      <td>24.0</td>\n      <td>0</td>\n      <td>0</td>\n      <td>0</td>\n      <td>1</td>\n      <td>0</td>\n    </tr>\n  </tbody>\n</table>\n<p>5 rows × 28 columns</p>\n</div>"
     },
     "metadata": {},
     "execution_count": 126
    }
   ],
   "source": [
    "train.head()"
   ]
  },
  {
   "cell_type": "markdown",
   "metadata": {},
   "source": [
    "# 11 자동수동 mission 1313 non-null object\n",
    "\n",
    "- 근데 이거 수동 써져있는거만 수동이고 나머지는 다 자동 아닌가?"
   ]
  },
  {
   "cell_type": "code",
   "execution_count": 127,
   "metadata": {},
   "outputs": [],
   "source": [
    "train_mission = train['mission']\n",
    "test_mission = test['mission']"
   ]
  },
  {
   "cell_type": "code",
   "execution_count": 128,
   "metadata": {},
   "outputs": [
    {
     "output_type": "stream",
     "name": "stdout",
     "text": [
      "수동    1311\nName: mission, dtype: int64\n\n수동    665\nName: mission, dtype: int64\n"
     ]
    }
   ],
   "source": [
    "print(train_mission.value_counts())\n",
    "print()\n",
    "print(test_mission.value_counts())"
   ]
  },
  {
   "cell_type": "code",
   "execution_count": 129,
   "metadata": {},
   "outputs": [],
   "source": [
    "train_mission = train_mission.fillna('자동')\n",
    "test_mission = test_mission.fillna('자동')"
   ]
  },
  {
   "cell_type": "code",
   "execution_count": 130,
   "metadata": {},
   "outputs": [],
   "source": [
    "train_mission_dummies = pd.get_dummies(train_mission)\n",
    "test_mission_dummies = pd.get_dummies(test_mission)\n",
    "\n",
    "train_mission_dummies = train_mission_dummies.add_prefix('mission_')\n",
    "test_mission_dummies = test_mission_dummies.add_prefix('mission_')\n",
    "\n",
    "train = train.drop(['mission'], axis=1)\n",
    "test = test.drop(['mission'], axis=1)\n",
    "\n",
    "train = train.join(train_mission_dummies)\n",
    "test = test.join(test_mission_dummies)"
   ]
  },
  {
   "cell_type": "code",
   "execution_count": 131,
   "metadata": {},
   "outputs": [
    {
     "output_type": "execute_result",
     "data": {
      "text/plain": [
       "   yeartype country  newprice   price  fuel_CNG  fuel_LPG  fuel_LPG+전기  \\\n",
       "0    2013.0      국산    3141.0  1870.0         0         0            0   \n",
       "1    2010.0      국산       NaN   700.0         0         1            0   \n",
       "2    2015.0      국산    3389.0  2990.0         0         0            0   \n",
       "3    2008.0      국산    2499.0   420.0         0         0            0   \n",
       "4    2004.0      국산    1445.0   450.0         0         0            0   \n",
       "\n",
       "   fuel_가솔린  fuel_가솔린+전기  fuel_가솔린/CNG겸용  ...  cylinder_6.0  cylinder_8.0  \\\n",
       "0         1            0               0  ...             0             0   \n",
       "1         0            0               0  ...             0             0   \n",
       "2         0            0               0  ...             0             0   \n",
       "3         0            0               0  ...             0             0   \n",
       "4         0            0               0  ...             0             0   \n",
       "\n",
       "   torque  type_4WD  type_AWD  type_FF  type_FR  type_MR  mission_수동  \\\n",
       "0    25.5         0         0        1        0        0           0   \n",
       "1    20.0         0         0        1        0        0           0   \n",
       "2    45.0         0         0        1        0        0           0   \n",
       "3    33.8         0         0        0        1        0           0   \n",
       "4    24.0         0         0        0        1        0           1   \n",
       "\n",
       "   mission_자동  \n",
       "0           1  \n",
       "1           1  \n",
       "2           1  \n",
       "3           1  \n",
       "4           0  \n",
       "\n",
       "[5 rows x 29 columns]"
      ],
      "text/html": "<div>\n<style scoped>\n    .dataframe tbody tr th:only-of-type {\n        vertical-align: middle;\n    }\n\n    .dataframe tbody tr th {\n        vertical-align: top;\n    }\n\n    .dataframe thead th {\n        text-align: right;\n    }\n</style>\n<table border=\"1\" class=\"dataframe\">\n  <thead>\n    <tr style=\"text-align: right;\">\n      <th></th>\n      <th>yeartype</th>\n      <th>country</th>\n      <th>newprice</th>\n      <th>price</th>\n      <th>fuel_CNG</th>\n      <th>fuel_LPG</th>\n      <th>fuel_LPG+전기</th>\n      <th>fuel_가솔린</th>\n      <th>fuel_가솔린+전기</th>\n      <th>fuel_가솔린/CNG겸용</th>\n      <th>...</th>\n      <th>cylinder_6.0</th>\n      <th>cylinder_8.0</th>\n      <th>torque</th>\n      <th>type_4WD</th>\n      <th>type_AWD</th>\n      <th>type_FF</th>\n      <th>type_FR</th>\n      <th>type_MR</th>\n      <th>mission_수동</th>\n      <th>mission_자동</th>\n    </tr>\n  </thead>\n  <tbody>\n    <tr>\n      <th>0</th>\n      <td>2013.0</td>\n      <td>국산</td>\n      <td>3141.0</td>\n      <td>1870.0</td>\n      <td>0</td>\n      <td>0</td>\n      <td>0</td>\n      <td>1</td>\n      <td>0</td>\n      <td>0</td>\n      <td>...</td>\n      <td>0</td>\n      <td>0</td>\n      <td>25.5</td>\n      <td>0</td>\n      <td>0</td>\n      <td>1</td>\n      <td>0</td>\n      <td>0</td>\n      <td>0</td>\n      <td>1</td>\n    </tr>\n    <tr>\n      <th>1</th>\n      <td>2010.0</td>\n      <td>국산</td>\n      <td>NaN</td>\n      <td>700.0</td>\n      <td>0</td>\n      <td>1</td>\n      <td>0</td>\n      <td>0</td>\n      <td>0</td>\n      <td>0</td>\n      <td>...</td>\n      <td>0</td>\n      <td>0</td>\n      <td>20.0</td>\n      <td>0</td>\n      <td>0</td>\n      <td>1</td>\n      <td>0</td>\n      <td>0</td>\n      <td>0</td>\n      <td>1</td>\n    </tr>\n    <tr>\n      <th>2</th>\n      <td>2015.0</td>\n      <td>국산</td>\n      <td>3389.0</td>\n      <td>2990.0</td>\n      <td>0</td>\n      <td>0</td>\n      <td>0</td>\n      <td>0</td>\n      <td>0</td>\n      <td>0</td>\n      <td>...</td>\n      <td>0</td>\n      <td>0</td>\n      <td>45.0</td>\n      <td>0</td>\n      <td>0</td>\n      <td>1</td>\n      <td>0</td>\n      <td>0</td>\n      <td>0</td>\n      <td>1</td>\n    </tr>\n    <tr>\n      <th>3</th>\n      <td>2008.0</td>\n      <td>국산</td>\n      <td>2499.0</td>\n      <td>420.0</td>\n      <td>0</td>\n      <td>0</td>\n      <td>0</td>\n      <td>0</td>\n      <td>0</td>\n      <td>0</td>\n      <td>...</td>\n      <td>0</td>\n      <td>0</td>\n      <td>33.8</td>\n      <td>0</td>\n      <td>0</td>\n      <td>0</td>\n      <td>1</td>\n      <td>0</td>\n      <td>0</td>\n      <td>1</td>\n    </tr>\n    <tr>\n      <th>4</th>\n      <td>2004.0</td>\n      <td>국산</td>\n      <td>1445.0</td>\n      <td>450.0</td>\n      <td>0</td>\n      <td>0</td>\n      <td>0</td>\n      <td>0</td>\n      <td>0</td>\n      <td>0</td>\n      <td>...</td>\n      <td>0</td>\n      <td>0</td>\n      <td>24.0</td>\n      <td>0</td>\n      <td>0</td>\n      <td>0</td>\n      <td>1</td>\n      <td>0</td>\n      <td>1</td>\n      <td>0</td>\n    </tr>\n  </tbody>\n</table>\n<p>5 rows × 29 columns</p>\n</div>"
     },
     "metadata": {},
     "execution_count": 131
    }
   ],
   "source": [
    "train.head()"
   ]
  },
  {
   "cell_type": "markdown",
   "metadata": {},
   "source": [
    "# 12 국산/수입 country 11769 non-null object\n",
    "\n",
    "- 단순한 범주형 같다\n",
    "- 아니 근데 train이랑 test 다 국산밖에 없는데?\n",
    "- 드랍하자..."
   ]
  },
  {
   "cell_type": "code",
   "execution_count": 132,
   "metadata": {},
   "outputs": [],
   "source": [
    "train = train.drop(['country'], axis=1)\n",
    "test = test.drop(['country'], axis=1)"
   ]
  },
  {
   "cell_type": "code",
   "execution_count": 133,
   "metadata": {},
   "outputs": [
    {
     "output_type": "execute_result",
     "data": {
      "text/plain": [
       "   yeartype  newprice   price  fuel_CNG  fuel_LPG  fuel_LPG+전기  fuel_가솔린  \\\n",
       "0    2013.0    3141.0  1870.0         0         0            0         1   \n",
       "1    2010.0       NaN   700.0         0         1            0         0   \n",
       "2    2015.0    3389.0  2990.0         0         0            0         0   \n",
       "3    2008.0    2499.0   420.0         0         0            0         0   \n",
       "4    2004.0    1445.0   450.0         0         0            0         0   \n",
       "\n",
       "   fuel_가솔린+전기  fuel_가솔린/CNG겸용  fuel_가솔린/LPG겸용  ...  cylinder_6.0  \\\n",
       "0            0               0               0  ...             0   \n",
       "1            0               0               0  ...             0   \n",
       "2            0               0               0  ...             0   \n",
       "3            0               0               0  ...             0   \n",
       "4            0               0               0  ...             0   \n",
       "\n",
       "   cylinder_8.0  torque  type_4WD  type_AWD  type_FF  type_FR  type_MR  \\\n",
       "0             0    25.5         0         0        1        0        0   \n",
       "1             0    20.0         0         0        1        0        0   \n",
       "2             0    45.0         0         0        1        0        0   \n",
       "3             0    33.8         0         0        0        1        0   \n",
       "4             0    24.0         0         0        0        1        0   \n",
       "\n",
       "   mission_수동  mission_자동  \n",
       "0           0           1  \n",
       "1           0           1  \n",
       "2           0           1  \n",
       "3           0           1  \n",
       "4           1           0  \n",
       "\n",
       "[5 rows x 28 columns]"
      ],
      "text/html": "<div>\n<style scoped>\n    .dataframe tbody tr th:only-of-type {\n        vertical-align: middle;\n    }\n\n    .dataframe tbody tr th {\n        vertical-align: top;\n    }\n\n    .dataframe thead th {\n        text-align: right;\n    }\n</style>\n<table border=\"1\" class=\"dataframe\">\n  <thead>\n    <tr style=\"text-align: right;\">\n      <th></th>\n      <th>yeartype</th>\n      <th>newprice</th>\n      <th>price</th>\n      <th>fuel_CNG</th>\n      <th>fuel_LPG</th>\n      <th>fuel_LPG+전기</th>\n      <th>fuel_가솔린</th>\n      <th>fuel_가솔린+전기</th>\n      <th>fuel_가솔린/CNG겸용</th>\n      <th>fuel_가솔린/LPG겸용</th>\n      <th>...</th>\n      <th>cylinder_6.0</th>\n      <th>cylinder_8.0</th>\n      <th>torque</th>\n      <th>type_4WD</th>\n      <th>type_AWD</th>\n      <th>type_FF</th>\n      <th>type_FR</th>\n      <th>type_MR</th>\n      <th>mission_수동</th>\n      <th>mission_자동</th>\n    </tr>\n  </thead>\n  <tbody>\n    <tr>\n      <th>0</th>\n      <td>2013.0</td>\n      <td>3141.0</td>\n      <td>1870.0</td>\n      <td>0</td>\n      <td>0</td>\n      <td>0</td>\n      <td>1</td>\n      <td>0</td>\n      <td>0</td>\n      <td>0</td>\n      <td>...</td>\n      <td>0</td>\n      <td>0</td>\n      <td>25.5</td>\n      <td>0</td>\n      <td>0</td>\n      <td>1</td>\n      <td>0</td>\n      <td>0</td>\n      <td>0</td>\n      <td>1</td>\n    </tr>\n    <tr>\n      <th>1</th>\n      <td>2010.0</td>\n      <td>NaN</td>\n      <td>700.0</td>\n      <td>0</td>\n      <td>1</td>\n      <td>0</td>\n      <td>0</td>\n      <td>0</td>\n      <td>0</td>\n      <td>0</td>\n      <td>...</td>\n      <td>0</td>\n      <td>0</td>\n      <td>20.0</td>\n      <td>0</td>\n      <td>0</td>\n      <td>1</td>\n      <td>0</td>\n      <td>0</td>\n      <td>0</td>\n      <td>1</td>\n    </tr>\n    <tr>\n      <th>2</th>\n      <td>2015.0</td>\n      <td>3389.0</td>\n      <td>2990.0</td>\n      <td>0</td>\n      <td>0</td>\n      <td>0</td>\n      <td>0</td>\n      <td>0</td>\n      <td>0</td>\n      <td>0</td>\n      <td>...</td>\n      <td>0</td>\n      <td>0</td>\n      <td>45.0</td>\n      <td>0</td>\n      <td>0</td>\n      <td>1</td>\n      <td>0</td>\n      <td>0</td>\n      <td>0</td>\n      <td>1</td>\n    </tr>\n    <tr>\n      <th>3</th>\n      <td>2008.0</td>\n      <td>2499.0</td>\n      <td>420.0</td>\n      <td>0</td>\n      <td>0</td>\n      <td>0</td>\n      <td>0</td>\n      <td>0</td>\n      <td>0</td>\n      <td>0</td>\n      <td>...</td>\n      <td>0</td>\n      <td>0</td>\n      <td>33.8</td>\n      <td>0</td>\n      <td>0</td>\n      <td>0</td>\n      <td>1</td>\n      <td>0</td>\n      <td>0</td>\n      <td>1</td>\n    </tr>\n    <tr>\n      <th>4</th>\n      <td>2004.0</td>\n      <td>1445.0</td>\n      <td>450.0</td>\n      <td>0</td>\n      <td>0</td>\n      <td>0</td>\n      <td>0</td>\n      <td>0</td>\n      <td>0</td>\n      <td>0</td>\n      <td>...</td>\n      <td>0</td>\n      <td>0</td>\n      <td>24.0</td>\n      <td>0</td>\n      <td>0</td>\n      <td>0</td>\n      <td>1</td>\n      <td>0</td>\n      <td>1</td>\n      <td>0</td>\n    </tr>\n  </tbody>\n</table>\n<p>5 rows × 28 columns</p>\n</div>"
     },
     "metadata": {},
     "execution_count": 133
    }
   ],
   "source": [
    "train.head()"
   ]
  },
  {
   "cell_type": "markdown",
   "metadata": {},
   "source": [
    "# 13 신차가(만원) newprice 9544 non-null float64\n",
    "\n",
    "- 일단 드랍\n"
   ]
  },
  {
   "cell_type": "code",
   "execution_count": 134,
   "metadata": {},
   "outputs": [],
   "source": [
    "train = train.drop(['newprice'], axis=1)"
   ]
  },
  {
   "cell_type": "code",
   "execution_count": 135,
   "metadata": {},
   "outputs": [
    {
     "output_type": "execute_result",
     "data": {
      "text/plain": [
       "   yeartype   price  fuel_CNG  fuel_LPG  fuel_LPG+전기  fuel_가솔린  fuel_가솔린+전기  \\\n",
       "0    2013.0  1870.0         0         0            0         1            0   \n",
       "1    2010.0   700.0         0         1            0         0            0   \n",
       "2    2015.0  2990.0         0         0            0         0            0   \n",
       "3    2008.0   420.0         0         0            0         0            0   \n",
       "4    2004.0   450.0         0         0            0         0            0   \n",
       "\n",
       "   fuel_가솔린/CNG겸용  fuel_가솔린/LPG겸용  fuel_기타  ...  cylinder_6.0  cylinder_8.0  \\\n",
       "0               0               0        0  ...             0             0   \n",
       "1               0               0        0  ...             0             0   \n",
       "2               0               0        0  ...             0             0   \n",
       "3               0               0        0  ...             0             0   \n",
       "4               0               0        0  ...             0             0   \n",
       "\n",
       "   torque  type_4WD  type_AWD  type_FF  type_FR  type_MR  mission_수동  \\\n",
       "0    25.5         0         0        1        0        0           0   \n",
       "1    20.0         0         0        1        0        0           0   \n",
       "2    45.0         0         0        1        0        0           0   \n",
       "3    33.8         0         0        0        1        0           0   \n",
       "4    24.0         0         0        0        1        0           1   \n",
       "\n",
       "   mission_자동  \n",
       "0           1  \n",
       "1           1  \n",
       "2           1  \n",
       "3           1  \n",
       "4           0  \n",
       "\n",
       "[5 rows x 27 columns]"
      ],
      "text/html": "<div>\n<style scoped>\n    .dataframe tbody tr th:only-of-type {\n        vertical-align: middle;\n    }\n\n    .dataframe tbody tr th {\n        vertical-align: top;\n    }\n\n    .dataframe thead th {\n        text-align: right;\n    }\n</style>\n<table border=\"1\" class=\"dataframe\">\n  <thead>\n    <tr style=\"text-align: right;\">\n      <th></th>\n      <th>yeartype</th>\n      <th>price</th>\n      <th>fuel_CNG</th>\n      <th>fuel_LPG</th>\n      <th>fuel_LPG+전기</th>\n      <th>fuel_가솔린</th>\n      <th>fuel_가솔린+전기</th>\n      <th>fuel_가솔린/CNG겸용</th>\n      <th>fuel_가솔린/LPG겸용</th>\n      <th>fuel_기타</th>\n      <th>...</th>\n      <th>cylinder_6.0</th>\n      <th>cylinder_8.0</th>\n      <th>torque</th>\n      <th>type_4WD</th>\n      <th>type_AWD</th>\n      <th>type_FF</th>\n      <th>type_FR</th>\n      <th>type_MR</th>\n      <th>mission_수동</th>\n      <th>mission_자동</th>\n    </tr>\n  </thead>\n  <tbody>\n    <tr>\n      <th>0</th>\n      <td>2013.0</td>\n      <td>1870.0</td>\n      <td>0</td>\n      <td>0</td>\n      <td>0</td>\n      <td>1</td>\n      <td>0</td>\n      <td>0</td>\n      <td>0</td>\n      <td>0</td>\n      <td>...</td>\n      <td>0</td>\n      <td>0</td>\n      <td>25.5</td>\n      <td>0</td>\n      <td>0</td>\n      <td>1</td>\n      <td>0</td>\n      <td>0</td>\n      <td>0</td>\n      <td>1</td>\n    </tr>\n    <tr>\n      <th>1</th>\n      <td>2010.0</td>\n      <td>700.0</td>\n      <td>0</td>\n      <td>1</td>\n      <td>0</td>\n      <td>0</td>\n      <td>0</td>\n      <td>0</td>\n      <td>0</td>\n      <td>0</td>\n      <td>...</td>\n      <td>0</td>\n      <td>0</td>\n      <td>20.0</td>\n      <td>0</td>\n      <td>0</td>\n      <td>1</td>\n      <td>0</td>\n      <td>0</td>\n      <td>0</td>\n      <td>1</td>\n    </tr>\n    <tr>\n      <th>2</th>\n      <td>2015.0</td>\n      <td>2990.0</td>\n      <td>0</td>\n      <td>0</td>\n      <td>0</td>\n      <td>0</td>\n      <td>0</td>\n      <td>0</td>\n      <td>0</td>\n      <td>0</td>\n      <td>...</td>\n      <td>0</td>\n      <td>0</td>\n      <td>45.0</td>\n      <td>0</td>\n      <td>0</td>\n      <td>1</td>\n      <td>0</td>\n      <td>0</td>\n      <td>0</td>\n      <td>1</td>\n    </tr>\n    <tr>\n      <th>3</th>\n      <td>2008.0</td>\n      <td>420.0</td>\n      <td>0</td>\n      <td>0</td>\n      <td>0</td>\n      <td>0</td>\n      <td>0</td>\n      <td>0</td>\n      <td>0</td>\n      <td>0</td>\n      <td>...</td>\n      <td>0</td>\n      <td>0</td>\n      <td>33.8</td>\n      <td>0</td>\n      <td>0</td>\n      <td>0</td>\n      <td>1</td>\n      <td>0</td>\n      <td>0</td>\n      <td>1</td>\n    </tr>\n    <tr>\n      <th>4</th>\n      <td>2004.0</td>\n      <td>450.0</td>\n      <td>0</td>\n      <td>0</td>\n      <td>0</td>\n      <td>0</td>\n      <td>0</td>\n      <td>0</td>\n      <td>0</td>\n      <td>0</td>\n      <td>...</td>\n      <td>0</td>\n      <td>0</td>\n      <td>24.0</td>\n      <td>0</td>\n      <td>0</td>\n      <td>0</td>\n      <td>1</td>\n      <td>0</td>\n      <td>1</td>\n      <td>0</td>\n    </tr>\n  </tbody>\n</table>\n<p>5 rows × 27 columns</p>\n</div>"
     },
     "metadata": {},
     "execution_count": 135
    }
   ],
   "source": [
    "train.head()"
   ]
  },
  {
   "cell_type": "markdown",
   "metadata": {},
   "source": [
    "# 14 가격(만원) price 11769 non-null float64\n",
    "\n",
    "- 이건 피쳐가 아니고 정답(레이블)"
   ]
  },
  {
   "cell_type": "markdown",
   "metadata": {},
   "source": [
    "# 종합"
   ]
  },
  {
   "cell_type": "code",
   "execution_count": 136,
   "metadata": {},
   "outputs": [
    {
     "output_type": "stream",
     "name": "stdout",
     "text": [
      "(11766, 27)\n(5789, 26)\n"
     ]
    }
   ],
   "source": [
    "print(train.shape)\n",
    "print(test.shape)"
   ]
  },
  {
   "cell_type": "markdown",
   "metadata": {},
   "source": [
    "# 데이터 나누기"
   ]
  },
  {
   "cell_type": "code",
   "execution_count": 137,
   "metadata": {},
   "outputs": [
    {
     "output_type": "stream",
     "name": "stdout",
     "text": [
      "(11766, 26)\n(11766,)\n(5789, 26)\n"
     ]
    }
   ],
   "source": [
    "X_train = train.drop('price', axis=1)\n",
    "Y_train = train['price']\n",
    "X_test = test.copy()\n",
    "\n",
    "print(X_train.shape)\n",
    "print(Y_train.shape)\n",
    "print(X_test.shape)"
   ]
  },
  {
   "source": [
    "# Model"
   ],
   "cell_type": "markdown",
   "metadata": {}
  },
  {
   "cell_type": "code",
   "execution_count": 138,
   "metadata": {},
   "outputs": [],
   "source": [
    "from sklearn.linear_model import LinearRegression, ElasticNet, Lasso, Ridge, LassoLarsIC\n",
    "from sklearn.ensemble import RandomForestRegressor, GradientBoostingRegressor\n",
    "from sklearn.kernel_ridge import KernelRidge\n",
    "from sklearn.pipeline import make_pipeline\n",
    "from sklearn.preprocessing import RobustScaler\n",
    "from sklearn.base import BaseEstimator, TransformerMixin, RegressorMixin, clone\n",
    "from sklearn.model_selection import KFold, cross_val_score, train_test_split, GridSearchCV\n",
    "from sklearn.metrics import mean_squared_error\n",
    "import xgboost as xgb\n",
    "import lightgbm as lgb"
   ]
  },
  {
   "cell_type": "code",
   "execution_count": 139,
   "metadata": {},
   "outputs": [],
   "source": [
    "def print_best_params(model, params):\n",
    "    grid_model = GridSearchCV(\n",
    "        model, \n",
    "        param_grid = params,\n",
    "        cv=5,\n",
    "        scoring='neg_mean_squared_error')\n",
    "\n",
    "    grid_model.fit(X_train, Y_train)\n",
    "    rmse = np.sqrt(-1*grid_model.best_score_)\n",
    "    print(\n",
    "        '{0} 5 CV 시 최적 평균 RMSE 값 {1}, 최적 alpha:{2}'.format(model.__class__.__name__, np.round(rmse, 4), grid_model.best_params_))\n",
    "    return grid_model.best_estimator_"
   ]
  },
  {
   "cell_type": "code",
   "execution_count": 141,
   "metadata": {},
   "outputs": [
    {
     "output_type": "error",
     "ename": "ValueError",
     "evalue": "Invalid parameter predictor for estimator XGBRegressor(colsample_bytree=0.5, learning_rate=0.05, max_depth=5,\n             n_estimators=1000). Check the list of available parameters with `estimator.get_params().keys()`.",
     "traceback": [
      "\u001b[0;31m---------------------------------------------------------------------------\u001b[0m",
      "\u001b[0;31mValueError\u001b[0m                                Traceback (most recent call last)",
      "\u001b[0;32m<ipython-input-141-c4b3b186b156>\u001b[0m in \u001b[0;36m<module>\u001b[0;34m\u001b[0m\n\u001b[1;32m     13\u001b[0m \u001b[0;34m\u001b[0m\u001b[0m\n\u001b[1;32m     14\u001b[0m \u001b[0mxgb_model\u001b[0m \u001b[0;34m=\u001b[0m \u001b[0mxgb\u001b[0m\u001b[0;34m.\u001b[0m\u001b[0mXGBRegressor\u001b[0m\u001b[0;34m(\u001b[0m\u001b[0;34m)\u001b[0m\u001b[0;34m\u001b[0m\u001b[0;34m\u001b[0m\u001b[0m\n\u001b[0;32m---> 15\u001b[0;31m \u001b[0mxgb_estimator\u001b[0m \u001b[0;34m=\u001b[0m \u001b[0mprint_best_params\u001b[0m\u001b[0;34m(\u001b[0m\u001b[0mxgb_model\u001b[0m\u001b[0;34m,\u001b[0m \u001b[0mxgb_params\u001b[0m\u001b[0;34m)\u001b[0m\u001b[0;34m\u001b[0m\u001b[0;34m\u001b[0m\u001b[0m\n\u001b[0m",
      "\u001b[0;32m<ipython-input-139-867fc08b07bc>\u001b[0m in \u001b[0;36mprint_best_params\u001b[0;34m(model, params)\u001b[0m\n\u001b[1;32m      6\u001b[0m         scoring='neg_mean_squared_error')\n\u001b[1;32m      7\u001b[0m \u001b[0;34m\u001b[0m\u001b[0m\n\u001b[0;32m----> 8\u001b[0;31m     \u001b[0mgrid_model\u001b[0m\u001b[0;34m.\u001b[0m\u001b[0mfit\u001b[0m\u001b[0;34m(\u001b[0m\u001b[0mX_train\u001b[0m\u001b[0;34m,\u001b[0m \u001b[0mY_train\u001b[0m\u001b[0;34m)\u001b[0m\u001b[0;34m\u001b[0m\u001b[0;34m\u001b[0m\u001b[0m\n\u001b[0m\u001b[1;32m      9\u001b[0m     \u001b[0mrmse\u001b[0m \u001b[0;34m=\u001b[0m \u001b[0mnp\u001b[0m\u001b[0;34m.\u001b[0m\u001b[0msqrt\u001b[0m\u001b[0;34m(\u001b[0m\u001b[0;34m-\u001b[0m\u001b[0;36m1\u001b[0m\u001b[0;34m*\u001b[0m\u001b[0mgrid_model\u001b[0m\u001b[0;34m.\u001b[0m\u001b[0mbest_score_\u001b[0m\u001b[0;34m)\u001b[0m\u001b[0;34m\u001b[0m\u001b[0;34m\u001b[0m\u001b[0m\n\u001b[1;32m     10\u001b[0m     print(\n",
      "\u001b[0;32m~/anaconda3/envs/deep-learning/lib/python3.6/site-packages/sklearn/utils/validation.py\u001b[0m in \u001b[0;36minner_f\u001b[0;34m(*args, **kwargs)\u001b[0m\n\u001b[1;32m     70\u001b[0m                           FutureWarning)\n\u001b[1;32m     71\u001b[0m         \u001b[0mkwargs\u001b[0m\u001b[0;34m.\u001b[0m\u001b[0mupdate\u001b[0m\u001b[0;34m(\u001b[0m\u001b[0;34m{\u001b[0m\u001b[0mk\u001b[0m\u001b[0;34m:\u001b[0m \u001b[0marg\u001b[0m \u001b[0;32mfor\u001b[0m \u001b[0mk\u001b[0m\u001b[0;34m,\u001b[0m \u001b[0marg\u001b[0m \u001b[0;32min\u001b[0m \u001b[0mzip\u001b[0m\u001b[0;34m(\u001b[0m\u001b[0msig\u001b[0m\u001b[0;34m.\u001b[0m\u001b[0mparameters\u001b[0m\u001b[0;34m,\u001b[0m \u001b[0margs\u001b[0m\u001b[0;34m)\u001b[0m\u001b[0;34m}\u001b[0m\u001b[0;34m)\u001b[0m\u001b[0;34m\u001b[0m\u001b[0;34m\u001b[0m\u001b[0m\n\u001b[0;32m---> 72\u001b[0;31m         \u001b[0;32mreturn\u001b[0m \u001b[0mf\u001b[0m\u001b[0;34m(\u001b[0m\u001b[0;34m**\u001b[0m\u001b[0mkwargs\u001b[0m\u001b[0;34m)\u001b[0m\u001b[0;34m\u001b[0m\u001b[0;34m\u001b[0m\u001b[0m\n\u001b[0m\u001b[1;32m     73\u001b[0m     \u001b[0;32mreturn\u001b[0m \u001b[0minner_f\u001b[0m\u001b[0;34m\u001b[0m\u001b[0;34m\u001b[0m\u001b[0m\n\u001b[1;32m     74\u001b[0m \u001b[0;34m\u001b[0m\u001b[0m\n",
      "\u001b[0;32m~/anaconda3/envs/deep-learning/lib/python3.6/site-packages/sklearn/model_selection/_search.py\u001b[0m in \u001b[0;36mfit\u001b[0;34m(self, X, y, groups, **fit_params)\u001b[0m\n\u001b[1;32m    734\u001b[0m                 \u001b[0;32mreturn\u001b[0m \u001b[0mresults\u001b[0m\u001b[0;34m\u001b[0m\u001b[0;34m\u001b[0m\u001b[0m\n\u001b[1;32m    735\u001b[0m \u001b[0;34m\u001b[0m\u001b[0m\n\u001b[0;32m--> 736\u001b[0;31m             \u001b[0mself\u001b[0m\u001b[0;34m.\u001b[0m\u001b[0m_run_search\u001b[0m\u001b[0;34m(\u001b[0m\u001b[0mevaluate_candidates\u001b[0m\u001b[0;34m)\u001b[0m\u001b[0;34m\u001b[0m\u001b[0;34m\u001b[0m\u001b[0m\n\u001b[0m\u001b[1;32m    737\u001b[0m \u001b[0;34m\u001b[0m\u001b[0m\n\u001b[1;32m    738\u001b[0m         \u001b[0;31m# For multi-metric evaluation, store the best_index_, best_params_ and\u001b[0m\u001b[0;34m\u001b[0m\u001b[0;34m\u001b[0m\u001b[0;34m\u001b[0m\u001b[0m\n",
      "\u001b[0;32m~/anaconda3/envs/deep-learning/lib/python3.6/site-packages/sklearn/model_selection/_search.py\u001b[0m in \u001b[0;36m_run_search\u001b[0;34m(self, evaluate_candidates)\u001b[0m\n\u001b[1;32m   1186\u001b[0m     \u001b[0;32mdef\u001b[0m \u001b[0m_run_search\u001b[0m\u001b[0;34m(\u001b[0m\u001b[0mself\u001b[0m\u001b[0;34m,\u001b[0m \u001b[0mevaluate_candidates\u001b[0m\u001b[0;34m)\u001b[0m\u001b[0;34m:\u001b[0m\u001b[0;34m\u001b[0m\u001b[0;34m\u001b[0m\u001b[0m\n\u001b[1;32m   1187\u001b[0m         \u001b[0;34m\"\"\"Search all candidates in param_grid\"\"\"\u001b[0m\u001b[0;34m\u001b[0m\u001b[0;34m\u001b[0m\u001b[0m\n\u001b[0;32m-> 1188\u001b[0;31m         \u001b[0mevaluate_candidates\u001b[0m\u001b[0;34m(\u001b[0m\u001b[0mParameterGrid\u001b[0m\u001b[0;34m(\u001b[0m\u001b[0mself\u001b[0m\u001b[0;34m.\u001b[0m\u001b[0mparam_grid\u001b[0m\u001b[0;34m)\u001b[0m\u001b[0;34m)\u001b[0m\u001b[0;34m\u001b[0m\u001b[0;34m\u001b[0m\u001b[0m\n\u001b[0m\u001b[1;32m   1189\u001b[0m \u001b[0;34m\u001b[0m\u001b[0m\n\u001b[1;32m   1190\u001b[0m \u001b[0;34m\u001b[0m\u001b[0m\n",
      "\u001b[0;32m~/anaconda3/envs/deep-learning/lib/python3.6/site-packages/sklearn/model_selection/_search.py\u001b[0m in \u001b[0;36mevaluate_candidates\u001b[0;34m(candidate_params)\u001b[0m\n\u001b[1;32m    713\u001b[0m                                \u001b[0;32mfor\u001b[0m \u001b[0mparameters\u001b[0m\u001b[0;34m,\u001b[0m \u001b[0;34m(\u001b[0m\u001b[0mtrain\u001b[0m\u001b[0;34m,\u001b[0m \u001b[0mtest\u001b[0m\u001b[0;34m)\u001b[0m\u001b[0;34m\u001b[0m\u001b[0;34m\u001b[0m\u001b[0m\n\u001b[1;32m    714\u001b[0m                                in product(candidate_params,\n\u001b[0;32m--> 715\u001b[0;31m                                           cv.split(X, y, groups)))\n\u001b[0m\u001b[1;32m    716\u001b[0m \u001b[0;34m\u001b[0m\u001b[0m\n\u001b[1;32m    717\u001b[0m                 \u001b[0;32mif\u001b[0m \u001b[0mlen\u001b[0m\u001b[0;34m(\u001b[0m\u001b[0mout\u001b[0m\u001b[0;34m)\u001b[0m \u001b[0;34m<\u001b[0m \u001b[0;36m1\u001b[0m\u001b[0;34m:\u001b[0m\u001b[0;34m\u001b[0m\u001b[0;34m\u001b[0m\u001b[0m\n",
      "\u001b[0;32m~/anaconda3/envs/deep-learning/lib/python3.6/site-packages/joblib/parallel.py\u001b[0m in \u001b[0;36m__call__\u001b[0;34m(self, iterable)\u001b[0m\n\u001b[1;32m   1046\u001b[0m             \u001b[0;31m# remaining jobs.\u001b[0m\u001b[0;34m\u001b[0m\u001b[0;34m\u001b[0m\u001b[0;34m\u001b[0m\u001b[0m\n\u001b[1;32m   1047\u001b[0m             \u001b[0mself\u001b[0m\u001b[0;34m.\u001b[0m\u001b[0m_iterating\u001b[0m \u001b[0;34m=\u001b[0m \u001b[0;32mFalse\u001b[0m\u001b[0;34m\u001b[0m\u001b[0;34m\u001b[0m\u001b[0m\n\u001b[0;32m-> 1048\u001b[0;31m             \u001b[0;32mif\u001b[0m \u001b[0mself\u001b[0m\u001b[0;34m.\u001b[0m\u001b[0mdispatch_one_batch\u001b[0m\u001b[0;34m(\u001b[0m\u001b[0miterator\u001b[0m\u001b[0;34m)\u001b[0m\u001b[0;34m:\u001b[0m\u001b[0;34m\u001b[0m\u001b[0;34m\u001b[0m\u001b[0m\n\u001b[0m\u001b[1;32m   1049\u001b[0m                 \u001b[0mself\u001b[0m\u001b[0;34m.\u001b[0m\u001b[0m_iterating\u001b[0m \u001b[0;34m=\u001b[0m \u001b[0mself\u001b[0m\u001b[0;34m.\u001b[0m\u001b[0m_original_iterator\u001b[0m \u001b[0;32mis\u001b[0m \u001b[0;32mnot\u001b[0m \u001b[0;32mNone\u001b[0m\u001b[0;34m\u001b[0m\u001b[0;34m\u001b[0m\u001b[0m\n\u001b[1;32m   1050\u001b[0m \u001b[0;34m\u001b[0m\u001b[0m\n",
      "\u001b[0;32m~/anaconda3/envs/deep-learning/lib/python3.6/site-packages/joblib/parallel.py\u001b[0m in \u001b[0;36mdispatch_one_batch\u001b[0;34m(self, iterator)\u001b[0m\n\u001b[1;32m    864\u001b[0m                 \u001b[0;32mreturn\u001b[0m \u001b[0;32mFalse\u001b[0m\u001b[0;34m\u001b[0m\u001b[0;34m\u001b[0m\u001b[0m\n\u001b[1;32m    865\u001b[0m             \u001b[0;32melse\u001b[0m\u001b[0;34m:\u001b[0m\u001b[0;34m\u001b[0m\u001b[0;34m\u001b[0m\u001b[0m\n\u001b[0;32m--> 866\u001b[0;31m                 \u001b[0mself\u001b[0m\u001b[0;34m.\u001b[0m\u001b[0m_dispatch\u001b[0m\u001b[0;34m(\u001b[0m\u001b[0mtasks\u001b[0m\u001b[0;34m)\u001b[0m\u001b[0;34m\u001b[0m\u001b[0;34m\u001b[0m\u001b[0m\n\u001b[0m\u001b[1;32m    867\u001b[0m                 \u001b[0;32mreturn\u001b[0m \u001b[0;32mTrue\u001b[0m\u001b[0;34m\u001b[0m\u001b[0;34m\u001b[0m\u001b[0m\n\u001b[1;32m    868\u001b[0m \u001b[0;34m\u001b[0m\u001b[0m\n",
      "\u001b[0;32m~/anaconda3/envs/deep-learning/lib/python3.6/site-packages/joblib/parallel.py\u001b[0m in \u001b[0;36m_dispatch\u001b[0;34m(self, batch)\u001b[0m\n\u001b[1;32m    782\u001b[0m         \u001b[0;32mwith\u001b[0m \u001b[0mself\u001b[0m\u001b[0;34m.\u001b[0m\u001b[0m_lock\u001b[0m\u001b[0;34m:\u001b[0m\u001b[0;34m\u001b[0m\u001b[0;34m\u001b[0m\u001b[0m\n\u001b[1;32m    783\u001b[0m             \u001b[0mjob_idx\u001b[0m \u001b[0;34m=\u001b[0m \u001b[0mlen\u001b[0m\u001b[0;34m(\u001b[0m\u001b[0mself\u001b[0m\u001b[0;34m.\u001b[0m\u001b[0m_jobs\u001b[0m\u001b[0;34m)\u001b[0m\u001b[0;34m\u001b[0m\u001b[0;34m\u001b[0m\u001b[0m\n\u001b[0;32m--> 784\u001b[0;31m             \u001b[0mjob\u001b[0m \u001b[0;34m=\u001b[0m \u001b[0mself\u001b[0m\u001b[0;34m.\u001b[0m\u001b[0m_backend\u001b[0m\u001b[0;34m.\u001b[0m\u001b[0mapply_async\u001b[0m\u001b[0;34m(\u001b[0m\u001b[0mbatch\u001b[0m\u001b[0;34m,\u001b[0m \u001b[0mcallback\u001b[0m\u001b[0;34m=\u001b[0m\u001b[0mcb\u001b[0m\u001b[0;34m)\u001b[0m\u001b[0;34m\u001b[0m\u001b[0;34m\u001b[0m\u001b[0m\n\u001b[0m\u001b[1;32m    785\u001b[0m             \u001b[0;31m# A job can complete so quickly than its callback is\u001b[0m\u001b[0;34m\u001b[0m\u001b[0;34m\u001b[0m\u001b[0;34m\u001b[0m\u001b[0m\n\u001b[1;32m    786\u001b[0m             \u001b[0;31m# called before we get here, causing self._jobs to\u001b[0m\u001b[0;34m\u001b[0m\u001b[0;34m\u001b[0m\u001b[0;34m\u001b[0m\u001b[0m\n",
      "\u001b[0;32m~/anaconda3/envs/deep-learning/lib/python3.6/site-packages/joblib/_parallel_backends.py\u001b[0m in \u001b[0;36mapply_async\u001b[0;34m(self, func, callback)\u001b[0m\n\u001b[1;32m    206\u001b[0m     \u001b[0;32mdef\u001b[0m \u001b[0mapply_async\u001b[0m\u001b[0;34m(\u001b[0m\u001b[0mself\u001b[0m\u001b[0;34m,\u001b[0m \u001b[0mfunc\u001b[0m\u001b[0;34m,\u001b[0m \u001b[0mcallback\u001b[0m\u001b[0;34m=\u001b[0m\u001b[0;32mNone\u001b[0m\u001b[0;34m)\u001b[0m\u001b[0;34m:\u001b[0m\u001b[0;34m\u001b[0m\u001b[0;34m\u001b[0m\u001b[0m\n\u001b[1;32m    207\u001b[0m         \u001b[0;34m\"\"\"Schedule a func to be run\"\"\"\u001b[0m\u001b[0;34m\u001b[0m\u001b[0;34m\u001b[0m\u001b[0m\n\u001b[0;32m--> 208\u001b[0;31m         \u001b[0mresult\u001b[0m \u001b[0;34m=\u001b[0m \u001b[0mImmediateResult\u001b[0m\u001b[0;34m(\u001b[0m\u001b[0mfunc\u001b[0m\u001b[0;34m)\u001b[0m\u001b[0;34m\u001b[0m\u001b[0;34m\u001b[0m\u001b[0m\n\u001b[0m\u001b[1;32m    209\u001b[0m         \u001b[0;32mif\u001b[0m \u001b[0mcallback\u001b[0m\u001b[0;34m:\u001b[0m\u001b[0;34m\u001b[0m\u001b[0;34m\u001b[0m\u001b[0m\n\u001b[1;32m    210\u001b[0m             \u001b[0mcallback\u001b[0m\u001b[0;34m(\u001b[0m\u001b[0mresult\u001b[0m\u001b[0;34m)\u001b[0m\u001b[0;34m\u001b[0m\u001b[0;34m\u001b[0m\u001b[0m\n",
      "\u001b[0;32m~/anaconda3/envs/deep-learning/lib/python3.6/site-packages/joblib/_parallel_backends.py\u001b[0m in \u001b[0;36m__init__\u001b[0;34m(self, batch)\u001b[0m\n\u001b[1;32m    570\u001b[0m         \u001b[0;31m# Don't delay the application, to avoid keeping the input\u001b[0m\u001b[0;34m\u001b[0m\u001b[0;34m\u001b[0m\u001b[0;34m\u001b[0m\u001b[0m\n\u001b[1;32m    571\u001b[0m         \u001b[0;31m# arguments in memory\u001b[0m\u001b[0;34m\u001b[0m\u001b[0;34m\u001b[0m\u001b[0;34m\u001b[0m\u001b[0m\n\u001b[0;32m--> 572\u001b[0;31m         \u001b[0mself\u001b[0m\u001b[0;34m.\u001b[0m\u001b[0mresults\u001b[0m \u001b[0;34m=\u001b[0m \u001b[0mbatch\u001b[0m\u001b[0;34m(\u001b[0m\u001b[0;34m)\u001b[0m\u001b[0;34m\u001b[0m\u001b[0;34m\u001b[0m\u001b[0m\n\u001b[0m\u001b[1;32m    573\u001b[0m \u001b[0;34m\u001b[0m\u001b[0m\n\u001b[1;32m    574\u001b[0m     \u001b[0;32mdef\u001b[0m \u001b[0mget\u001b[0m\u001b[0;34m(\u001b[0m\u001b[0mself\u001b[0m\u001b[0;34m)\u001b[0m\u001b[0;34m:\u001b[0m\u001b[0;34m\u001b[0m\u001b[0;34m\u001b[0m\u001b[0m\n",
      "\u001b[0;32m~/anaconda3/envs/deep-learning/lib/python3.6/site-packages/joblib/parallel.py\u001b[0m in \u001b[0;36m__call__\u001b[0;34m(self)\u001b[0m\n\u001b[1;32m    261\u001b[0m         \u001b[0;32mwith\u001b[0m \u001b[0mparallel_backend\u001b[0m\u001b[0;34m(\u001b[0m\u001b[0mself\u001b[0m\u001b[0;34m.\u001b[0m\u001b[0m_backend\u001b[0m\u001b[0;34m,\u001b[0m \u001b[0mn_jobs\u001b[0m\u001b[0;34m=\u001b[0m\u001b[0mself\u001b[0m\u001b[0;34m.\u001b[0m\u001b[0m_n_jobs\u001b[0m\u001b[0;34m)\u001b[0m\u001b[0;34m:\u001b[0m\u001b[0;34m\u001b[0m\u001b[0;34m\u001b[0m\u001b[0m\n\u001b[1;32m    262\u001b[0m             return [func(*args, **kwargs)\n\u001b[0;32m--> 263\u001b[0;31m                     for func, args, kwargs in self.items]\n\u001b[0m\u001b[1;32m    264\u001b[0m \u001b[0;34m\u001b[0m\u001b[0m\n\u001b[1;32m    265\u001b[0m     \u001b[0;32mdef\u001b[0m \u001b[0m__reduce__\u001b[0m\u001b[0;34m(\u001b[0m\u001b[0mself\u001b[0m\u001b[0;34m)\u001b[0m\u001b[0;34m:\u001b[0m\u001b[0;34m\u001b[0m\u001b[0;34m\u001b[0m\u001b[0m\n",
      "\u001b[0;32m~/anaconda3/envs/deep-learning/lib/python3.6/site-packages/joblib/parallel.py\u001b[0m in \u001b[0;36m<listcomp>\u001b[0;34m(.0)\u001b[0m\n\u001b[1;32m    261\u001b[0m         \u001b[0;32mwith\u001b[0m \u001b[0mparallel_backend\u001b[0m\u001b[0;34m(\u001b[0m\u001b[0mself\u001b[0m\u001b[0;34m.\u001b[0m\u001b[0m_backend\u001b[0m\u001b[0;34m,\u001b[0m \u001b[0mn_jobs\u001b[0m\u001b[0;34m=\u001b[0m\u001b[0mself\u001b[0m\u001b[0;34m.\u001b[0m\u001b[0m_n_jobs\u001b[0m\u001b[0;34m)\u001b[0m\u001b[0;34m:\u001b[0m\u001b[0;34m\u001b[0m\u001b[0;34m\u001b[0m\u001b[0m\n\u001b[1;32m    262\u001b[0m             return [func(*args, **kwargs)\n\u001b[0;32m--> 263\u001b[0;31m                     for func, args, kwargs in self.items]\n\u001b[0m\u001b[1;32m    264\u001b[0m \u001b[0;34m\u001b[0m\u001b[0m\n\u001b[1;32m    265\u001b[0m     \u001b[0;32mdef\u001b[0m \u001b[0m__reduce__\u001b[0m\u001b[0;34m(\u001b[0m\u001b[0mself\u001b[0m\u001b[0;34m)\u001b[0m\u001b[0;34m:\u001b[0m\u001b[0;34m\u001b[0m\u001b[0;34m\u001b[0m\u001b[0m\n",
      "\u001b[0;32m~/anaconda3/envs/deep-learning/lib/python3.6/site-packages/sklearn/model_selection/_validation.py\u001b[0m in \u001b[0;36m_fit_and_score\u001b[0;34m(estimator, X, y, scorer, train, test, verbose, parameters, fit_params, return_train_score, return_parameters, return_n_test_samples, return_times, return_estimator, error_score)\u001b[0m\n\u001b[1;32m    518\u001b[0m             \u001b[0mcloned_parameters\u001b[0m\u001b[0;34m[\u001b[0m\u001b[0mk\u001b[0m\u001b[0;34m]\u001b[0m \u001b[0;34m=\u001b[0m \u001b[0mclone\u001b[0m\u001b[0;34m(\u001b[0m\u001b[0mv\u001b[0m\u001b[0;34m,\u001b[0m \u001b[0msafe\u001b[0m\u001b[0;34m=\u001b[0m\u001b[0;32mFalse\u001b[0m\u001b[0;34m)\u001b[0m\u001b[0;34m\u001b[0m\u001b[0;34m\u001b[0m\u001b[0m\n\u001b[1;32m    519\u001b[0m \u001b[0;34m\u001b[0m\u001b[0m\n\u001b[0;32m--> 520\u001b[0;31m         \u001b[0mestimator\u001b[0m \u001b[0;34m=\u001b[0m \u001b[0mestimator\u001b[0m\u001b[0;34m.\u001b[0m\u001b[0mset_params\u001b[0m\u001b[0;34m(\u001b[0m\u001b[0;34m**\u001b[0m\u001b[0mcloned_parameters\u001b[0m\u001b[0;34m)\u001b[0m\u001b[0;34m\u001b[0m\u001b[0;34m\u001b[0m\u001b[0m\n\u001b[0m\u001b[1;32m    521\u001b[0m \u001b[0;34m\u001b[0m\u001b[0m\n\u001b[1;32m    522\u001b[0m     \u001b[0mstart_time\u001b[0m \u001b[0;34m=\u001b[0m \u001b[0mtime\u001b[0m\u001b[0;34m.\u001b[0m\u001b[0mtime\u001b[0m\u001b[0;34m(\u001b[0m\u001b[0;34m)\u001b[0m\u001b[0;34m\u001b[0m\u001b[0;34m\u001b[0m\u001b[0m\n",
      "\u001b[0;32m~/anaconda3/envs/deep-learning/lib/python3.6/site-packages/sklearn/base.py\u001b[0m in \u001b[0;36mset_params\u001b[0;34m(self, **params)\u001b[0m\n\u001b[1;32m    250\u001b[0m                                  \u001b[0;34m'Check the list of available parameters '\u001b[0m\u001b[0;34m\u001b[0m\u001b[0;34m\u001b[0m\u001b[0m\n\u001b[1;32m    251\u001b[0m                                  \u001b[0;34m'with `estimator.get_params().keys()`.'\u001b[0m \u001b[0;34m%\u001b[0m\u001b[0;34m\u001b[0m\u001b[0;34m\u001b[0m\u001b[0m\n\u001b[0;32m--> 252\u001b[0;31m                                  (key, self))\n\u001b[0m\u001b[1;32m    253\u001b[0m \u001b[0;34m\u001b[0m\u001b[0m\n\u001b[1;32m    254\u001b[0m             \u001b[0;32mif\u001b[0m \u001b[0mdelim\u001b[0m\u001b[0;34m:\u001b[0m\u001b[0;34m\u001b[0m\u001b[0;34m\u001b[0m\u001b[0m\n",
      "\u001b[0;31mValueError\u001b[0m: Invalid parameter predictor for estimator XGBRegressor(colsample_bytree=0.5, learning_rate=0.05, max_depth=5,\n             n_estimators=1000). Check the list of available parameters with `estimator.get_params().keys()`."
     ]
    }
   ],
   "source": [
    "xgb_params ={\n",
    "    'learning_rate': [0.05],\n",
    "    'max_depth': [5],\n",
    "    'subsample': [0.9],\n",
    "    'colsample_bytree': [0.5],\n",
    "    'silent': [True],\n",
    "    'gpu_id':[0] ,\n",
    "    'tree_method':['gpu_hist'],\n",
    "    'predictor':['gpu_predictor'],\n",
    "    'n_estimators':[1000],\n",
    "    'refit' : [True]\n",
    "}\n",
    "\n",
    "xgb_model = xgb.XGBRegressor()\n",
    "xgb_estimator = print_best_params(xgb_model, xgb_params)"
   ]
  },
  {
   "source": [
    "# Prediction"
   ],
   "cell_type": "markdown",
   "metadata": {}
  },
  {
   "cell_type": "code",
   "execution_count": 72,
   "metadata": {},
   "outputs": [],
   "source": [
    "Y_pred = rfr.predict(X_test)"
   ]
  },
  {
   "cell_type": "code",
   "execution_count": 73,
   "metadata": {},
   "outputs": [],
   "source": [
    "submission = pd.DataFrame({\n",
    "    \"no\": test_no,\n",
    "    \"가격(만원)\": Y_pred\n",
    "})\n",
    "submission.to_csv('../output/v1.2.rfr__.csv', index=False)"
   ]
  },
  {
   "cell_type": "code",
   "execution_count": null,
   "metadata": {},
   "outputs": [],
   "source": []
  }
 ],
 "metadata": {
  "kernelspec": {
   "name": "Python 3.6.12 64-bit ('deep-learning': conda)",
   "display_name": "Python 3.6.12 64-bit ('deep-learning': conda)",
   "metadata": {
    "interpreter": {
     "hash": "0660cee8b320e80289d534af46c095c4df7a330daf18e6895f30d4f53b8bb636"
    }
   }
  },
  "language_info": {
   "codemirror_mode": {
    "name": "ipython",
    "version": 3
   },
   "file_extension": ".py",
   "mimetype": "text/x-python",
   "name": "python",
   "nbconvert_exporter": "python",
   "pygments_lexer": "ipython3",
   "version": "3.6.12-final"
  }
 },
 "nbformat": 4,
 "nbformat_minor": 2
}