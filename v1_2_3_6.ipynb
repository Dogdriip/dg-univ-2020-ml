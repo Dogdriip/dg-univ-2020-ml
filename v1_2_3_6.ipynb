{
  "nbformat": 4,
  "nbformat_minor": 0,
  "metadata": {
    "kernelspec": {
      "name": "python3",
      "display_name": "Python 3"
    },
    "colab": {
      "name": "v1.2.3.6",
      "provenance": [],
      "collapsed_sections": [
        "hZU6Vech6a7F",
        "6Ibh0Cf66a7L",
        "i2fISCc56a7r",
        "N7ecncKI6a7x",
        "hwJ5DWeW6a9I"
      ],
      "toc_visible": true,
      "machine_shape": "hm",
      "include_colab_link": true
    },
    "accelerator": "GPU"
  },
  "cells": [
    {
      "cell_type": "markdown",
      "metadata": {
        "id": "view-in-github",
        "colab_type": "text"
      },
      "source": [
        "<a href=\"https://colab.research.google.com/github/Dogdriip/dg-univ-2020-ml/blob/main/v1_2_3_6.ipynb\" target=\"_parent\"><img src=\"https://colab.research.google.com/assets/colab-badge.svg\" alt=\"Open In Colab\"/></a>"
      ]
    },
    {
      "cell_type": "markdown",
      "metadata": {
        "id": "cCMx6C-76a6p"
      },
      "source": [
        "# v1.2.3.4"
      ]
    },
    {
      "cell_type": "code",
      "metadata": {
        "id": "TbltV90c6jyg",
        "outputId": "c196b199-da84-446b-dea6-0241d36eabbe",
        "colab": {
          "base_uri": "https://localhost:8080/"
        }
      },
      "source": [
        "from google.colab import files\n",
        "from google.colab import drive\n",
        "drive.mount('/content/drive/')"
      ],
      "execution_count": 502,
      "outputs": [
        {
          "output_type": "stream",
          "text": [
            "Drive already mounted at /content/drive/; to attempt to forcibly remount, call drive.mount(\"/content/drive/\", force_remount=True).\n"
          ],
          "name": "stdout"
        }
      ]
    },
    {
      "cell_type": "code",
      "metadata": {
        "id": "z5Pa0R7g6a6q",
        "outputId": "c508195b-04de-406a-86c3-2641c9615923",
        "colab": {
          "base_uri": "https://localhost:8080/"
        }
      },
      "source": [
        "import pandas as pd\n",
        "import numpy as np\n",
        "\n",
        "import matplotlib.pyplot as plt\n",
        "import seaborn as sns\n",
        "sns.set_style('whitegrid')\n",
        "%matplotlib inline \n",
        "import warnings\n",
        "warnings.filterwarnings(action='ignore')\n",
        "\n",
        "!pip install missingpy\n",
        "from missingpy import MissForest\n",
        "\n",
        "from scipy import stats\n",
        "from scipy.stats import norm, skew #for some statistics"
      ],
      "execution_count": 503,
      "outputs": [
        {
          "output_type": "stream",
          "text": [
            "Requirement already satisfied: missingpy in /usr/local/lib/python3.6/dist-packages (0.2.0)\n"
          ],
          "name": "stdout"
        }
      ]
    },
    {
      "cell_type": "code",
      "metadata": {
        "id": "1FW0h1qO6a6t"
      },
      "source": [
        "train = pd.read_csv('/content/drive/My Drive/dg_univ_2020_ml/train.csv')\n",
        "test = pd.read_csv('/content/drive/My Drive/dg_univ_2020_ml/test.csv')"
      ],
      "execution_count": 504,
      "outputs": []
    },
    {
      "cell_type": "code",
      "metadata": {
        "id": "bOY5R0C06a6v",
        "outputId": "73c4c109-fe92-4c02-bace-c3654b0d8d66",
        "colab": {
          "base_uri": "https://localhost:8080/"
        }
      },
      "source": [
        "print(train.shape)\n",
        "print(test.shape)"
      ],
      "execution_count": 505,
      "outputs": [
        {
          "output_type": "stream",
          "text": [
            "(11769, 15)\n",
            "(5789, 13)\n"
          ],
          "name": "stdout"
        }
      ]
    },
    {
      "cell_type": "code",
      "metadata": {
        "id": "mBkoB9E56a6y",
        "outputId": "2216f735-4a87-466d-f4d1-09eab20d6a86",
        "colab": {
          "base_uri": "https://localhost:8080/",
          "height": 288
        }
      },
      "source": [
        "train.head()"
      ],
      "execution_count": 506,
      "outputs": [
        {
          "output_type": "execute_result",
          "data": {
            "text/html": [
              "<div>\n",
              "<style scoped>\n",
              "    .dataframe tbody tr th:only-of-type {\n",
              "        vertical-align: middle;\n",
              "    }\n",
              "\n",
              "    .dataframe tbody tr th {\n",
              "        vertical-align: top;\n",
              "    }\n",
              "\n",
              "    .dataframe thead th {\n",
              "        text-align: right;\n",
              "    }\n",
              "</style>\n",
              "<table border=\"1\" class=\"dataframe\">\n",
              "  <thead>\n",
              "    <tr style=\"text-align: right;\">\n",
              "      <th></th>\n",
              "      <th>no</th>\n",
              "      <th>모델명</th>\n",
              "      <th>연월</th>\n",
              "      <th>연식</th>\n",
              "      <th>연료</th>\n",
              "      <th>주행거리</th>\n",
              "      <th>인승</th>\n",
              "      <th>최대출력(마력)</th>\n",
              "      <th>기통</th>\n",
              "      <th>최대토크(kgm)</th>\n",
              "      <th>구동방식</th>\n",
              "      <th>자동수동</th>\n",
              "      <th>국산/수입</th>\n",
              "      <th>신차가(만원)</th>\n",
              "      <th>가격(만원)</th>\n",
              "    </tr>\n",
              "  </thead>\n",
              "  <tbody>\n",
              "    <tr>\n",
              "      <th>0</th>\n",
              "      <td>0</td>\n",
              "      <td>기아 더 뉴 K7 2.4 GDI 프레스티지 스페셜</td>\n",
              "      <td>12/12(13년형)</td>\n",
              "      <td>2013.0</td>\n",
              "      <td>가솔린</td>\n",
              "      <td>4만km</td>\n",
              "      <td>NaN</td>\n",
              "      <td>201.0</td>\n",
              "      <td>4.0</td>\n",
              "      <td>25.5</td>\n",
              "      <td>FF</td>\n",
              "      <td>NaN</td>\n",
              "      <td>국산</td>\n",
              "      <td>3141.0</td>\n",
              "      <td>1870.0</td>\n",
              "    </tr>\n",
              "    <tr>\n",
              "      <th>1</th>\n",
              "      <td>1</td>\n",
              "      <td>현대 YF쏘나타 2.0 Y20 LPi 프리미어</td>\n",
              "      <td>10/03</td>\n",
              "      <td>2010.0</td>\n",
              "      <td>LPG</td>\n",
              "      <td>9만km</td>\n",
              "      <td>NaN</td>\n",
              "      <td>157.0</td>\n",
              "      <td>NaN</td>\n",
              "      <td>20.0</td>\n",
              "      <td>FF</td>\n",
              "      <td>NaN</td>\n",
              "      <td>국산</td>\n",
              "      <td>NaN</td>\n",
              "      <td>700.0</td>\n",
              "    </tr>\n",
              "    <tr>\n",
              "      <th>2</th>\n",
              "      <td>2</td>\n",
              "      <td>현대 그랜져HG 220 디젤 프리미엄</td>\n",
              "      <td>14/09(15년형)</td>\n",
              "      <td>2015.0</td>\n",
              "      <td>디젤</td>\n",
              "      <td>3만km</td>\n",
              "      <td>NaN</td>\n",
              "      <td>202.0</td>\n",
              "      <td>4.0</td>\n",
              "      <td>45.0</td>\n",
              "      <td>FF</td>\n",
              "      <td>NaN</td>\n",
              "      <td>국산</td>\n",
              "      <td>3389.0</td>\n",
              "      <td>2990.0</td>\n",
              "    </tr>\n",
              "    <tr>\n",
              "      <th>3</th>\n",
              "      <td>3</td>\n",
              "      <td>쌍용 뉴카이런 2.0 LV5 2WD 고급형</td>\n",
              "      <td>07/06(08년형)</td>\n",
              "      <td>2008.0</td>\n",
              "      <td>디젤</td>\n",
              "      <td>16만km</td>\n",
              "      <td>NaN</td>\n",
              "      <td>151.0</td>\n",
              "      <td>4.0</td>\n",
              "      <td>33.8</td>\n",
              "      <td>FR</td>\n",
              "      <td>NaN</td>\n",
              "      <td>국산</td>\n",
              "      <td>2499.0</td>\n",
              "      <td>420.0</td>\n",
              "    </tr>\n",
              "    <tr>\n",
              "      <th>4</th>\n",
              "      <td>4</td>\n",
              "      <td>현대 뉴스타렉스 점보 밴 TCI 3인승 GX 윈도우밴 일반형</td>\n",
              "      <td>04/03</td>\n",
              "      <td>2004.0</td>\n",
              "      <td>디젤</td>\n",
              "      <td>16만km</td>\n",
              "      <td>3.0</td>\n",
              "      <td>103.0</td>\n",
              "      <td>NaN</td>\n",
              "      <td>24.0</td>\n",
              "      <td>FR</td>\n",
              "      <td>수동</td>\n",
              "      <td>국산</td>\n",
              "      <td>1445.0</td>\n",
              "      <td>450.0</td>\n",
              "    </tr>\n",
              "  </tbody>\n",
              "</table>\n",
              "</div>"
            ],
            "text/plain": [
              "   no                                모델명           연월  ...  국산/수입 신차가(만원)  가격(만원)\n",
              "0   0        기아 더 뉴 K7 2.4 GDI 프레스티지 스페셜  12/12(13년형)  ...     국산  3141.0  1870.0\n",
              "1   1          현대 YF쏘나타 2.0 Y20 LPi 프리미어        10/03  ...     국산     NaN   700.0\n",
              "2   2               현대 그랜져HG 220 디젤 프리미엄  14/09(15년형)  ...     국산  3389.0  2990.0\n",
              "3   3            쌍용 뉴카이런 2.0 LV5 2WD 고급형  07/06(08년형)  ...     국산  2499.0   420.0\n",
              "4   4  현대 뉴스타렉스 점보 밴 TCI 3인승 GX 윈도우밴 일반형        04/03  ...     국산  1445.0   450.0\n",
              "\n",
              "[5 rows x 15 columns]"
            ]
          },
          "metadata": {
            "tags": []
          },
          "execution_count": 506
        }
      ]
    },
    {
      "cell_type": "code",
      "metadata": {
        "id": "yotU_9Vq6a61",
        "outputId": "ec67a73a-aa25-405f-fee9-d57d05eeac69",
        "colab": {
          "base_uri": "https://localhost:8080/"
        }
      },
      "source": [
        "train.info()"
      ],
      "execution_count": 507,
      "outputs": [
        {
          "output_type": "stream",
          "text": [
            "<class 'pandas.core.frame.DataFrame'>\n",
            "RangeIndex: 11769 entries, 0 to 11768\n",
            "Data columns (total 15 columns):\n",
            " #   Column     Non-Null Count  Dtype  \n",
            "---  ------     --------------  -----  \n",
            " 0   no         11769 non-null  int64  \n",
            " 1   모델명        11769 non-null  object \n",
            " 2   연월         11769 non-null  object \n",
            " 3   연식         11769 non-null  float64\n",
            " 4   연료         11769 non-null  object \n",
            " 5   주행거리       11769 non-null  object \n",
            " 6   인승         765 non-null    float64\n",
            " 7   최대출력(마력)   10644 non-null  float64\n",
            " 8   기통         8698 non-null   float64\n",
            " 9   최대토크(kgm)  10545 non-null  float64\n",
            " 10  구동방식       10808 non-null  object \n",
            " 11  자동수동       1313 non-null   object \n",
            " 12  국산/수입      11769 non-null  object \n",
            " 13  신차가(만원)    9544 non-null   float64\n",
            " 14  가격(만원)     11769 non-null  float64\n",
            "dtypes: float64(7), int64(1), object(7)\n",
            "memory usage: 1.3+ MB\n"
          ],
          "name": "stdout"
        }
      ]
    },
    {
      "cell_type": "code",
      "metadata": {
        "id": "RfehfOEC6a63",
        "outputId": "34f0d916-185b-4b0f-9a1b-b14fd9f25214",
        "colab": {
          "base_uri": "https://localhost:8080/"
        }
      },
      "source": [
        "test.info()"
      ],
      "execution_count": 508,
      "outputs": [
        {
          "output_type": "stream",
          "text": [
            "<class 'pandas.core.frame.DataFrame'>\n",
            "RangeIndex: 5789 entries, 0 to 5788\n",
            "Data columns (total 13 columns):\n",
            " #   Column     Non-Null Count  Dtype  \n",
            "---  ------     --------------  -----  \n",
            " 0   no         5789 non-null   int64  \n",
            " 1   모델명        5789 non-null   object \n",
            " 2   연월         5789 non-null   object \n",
            " 3   연식         5789 non-null   float64\n",
            " 4   연료         5789 non-null   object \n",
            " 5   주행거리       5789 non-null   object \n",
            " 6   인승         389 non-null    float64\n",
            " 7   최대출력(마력)   5237 non-null   float64\n",
            " 8   기통         4275 non-null   float64\n",
            " 9   최대토크(kgm)  5183 non-null   float64\n",
            " 10  구동방식       5312 non-null   object \n",
            " 11  자동수동       665 non-null    object \n",
            " 12  국산/수입      5789 non-null   object \n",
            "dtypes: float64(5), int64(1), object(7)\n",
            "memory usage: 588.1+ KB\n"
          ],
          "name": "stdout"
        }
      ]
    },
    {
      "cell_type": "markdown",
      "metadata": {
        "id": "BczFAUo-6a65"
      },
      "source": [
        "# Translate all column name to English"
      ]
    },
    {
      "cell_type": "code",
      "metadata": {
        "id": "tVtw7Vzr6a65"
      },
      "source": [
        "train.columns = ['no', 'modelname', 'ym', 'yeartype', 'fuel', 'dist', 'people', 'power', 'cylinder', 'torque', 'type', 'mission', 'country', 'newprice', 'price']\n",
        "test.columns = ['no', 'modelname', 'ym', 'yeartype', 'fuel', 'dist', 'people', 'power', 'cylinder', 'torque', 'type', 'mission', 'country']"
      ],
      "execution_count": 509,
      "outputs": []
    },
    {
      "cell_type": "code",
      "metadata": {
        "id": "eZg5qaNd6a68",
        "outputId": "e812e75a-b67d-49b2-cf6c-e4f16d49178f",
        "colab": {
          "base_uri": "https://localhost:8080/"
        }
      },
      "source": [
        "train.info()"
      ],
      "execution_count": 510,
      "outputs": [
        {
          "output_type": "stream",
          "text": [
            "<class 'pandas.core.frame.DataFrame'>\n",
            "RangeIndex: 11769 entries, 0 to 11768\n",
            "Data columns (total 15 columns):\n",
            " #   Column     Non-Null Count  Dtype  \n",
            "---  ------     --------------  -----  \n",
            " 0   no         11769 non-null  int64  \n",
            " 1   modelname  11769 non-null  object \n",
            " 2   ym         11769 non-null  object \n",
            " 3   yeartype   11769 non-null  float64\n",
            " 4   fuel       11769 non-null  object \n",
            " 5   dist       11769 non-null  object \n",
            " 6   people     765 non-null    float64\n",
            " 7   power      10644 non-null  float64\n",
            " 8   cylinder   8698 non-null   float64\n",
            " 9   torque     10545 non-null  float64\n",
            " 10  type       10808 non-null  object \n",
            " 11  mission    1313 non-null   object \n",
            " 12  country    11769 non-null  object \n",
            " 13  newprice   9544 non-null   float64\n",
            " 14  price      11769 non-null  float64\n",
            "dtypes: float64(7), int64(1), object(7)\n",
            "memory usage: 1.3+ MB\n"
          ],
          "name": "stdout"
        }
      ]
    },
    {
      "cell_type": "code",
      "metadata": {
        "id": "aG3tClND6a6-",
        "outputId": "6e7c33c4-1dc9-4fa6-bedb-b3aeef6409dc",
        "colab": {
          "base_uri": "https://localhost:8080/"
        }
      },
      "source": [
        "test.info()"
      ],
      "execution_count": 511,
      "outputs": [
        {
          "output_type": "stream",
          "text": [
            "<class 'pandas.core.frame.DataFrame'>\n",
            "RangeIndex: 5789 entries, 0 to 5788\n",
            "Data columns (total 13 columns):\n",
            " #   Column     Non-Null Count  Dtype  \n",
            "---  ------     --------------  -----  \n",
            " 0   no         5789 non-null   int64  \n",
            " 1   modelname  5789 non-null   object \n",
            " 2   ym         5789 non-null   object \n",
            " 3   yeartype   5789 non-null   float64\n",
            " 4   fuel       5789 non-null   object \n",
            " 5   dist       5789 non-null   object \n",
            " 6   people     389 non-null    float64\n",
            " 7   power      5237 non-null   float64\n",
            " 8   cylinder   4275 non-null   float64\n",
            " 9   torque     5183 non-null   float64\n",
            " 10  type       5312 non-null   object \n",
            " 11  mission    665 non-null    object \n",
            " 12  country    5789 non-null   object \n",
            "dtypes: float64(5), int64(1), object(7)\n",
            "memory usage: 588.1+ KB\n"
          ],
          "name": "stdout"
        }
      ]
    },
    {
      "cell_type": "code",
      "metadata": {
        "id": "4h1EMIZV6a7A"
      },
      "source": [
        "# sns.heatmap(train.isnull(), cbar=False)"
      ],
      "execution_count": 512,
      "outputs": []
    },
    {
      "cell_type": "code",
      "metadata": {
        "id": "weBwrSWB6a7B"
      },
      "source": [
        "# sns.heatmap(test.isnull(), cbar=False)"
      ],
      "execution_count": 513,
      "outputs": []
    },
    {
      "cell_type": "code",
      "metadata": {
        "id": "f3fBZeX96a7D"
      },
      "source": [
        "train_no = train['no']\n",
        "test_no = test['no']\n",
        "train = train.drop(['no'], axis=1)\n",
        "test = test.drop(['no'], axis=1)"
      ],
      "execution_count": 514,
      "outputs": []
    },
    {
      "cell_type": "markdown",
      "metadata": {
        "id": "hZU6Vech6a7F"
      },
      "source": [
        "# Getting started (All columns here)\n",
        "```\n",
        "0   no         11769 non-null  int64    \n",
        "1   모델명        11769 non-null  object   \n",
        "2   연월         11769 non-null  object   \n",
        "3   연식         11769 non-null  float64  \n",
        "4   연료         11769 non-null  object   \n",
        "5   주행거리       11769 non-null  object   \n",
        "6   인승         765 non-null    float64  \n",
        "7   최대출력(마력)   10644 non-null  float64  \n",
        "8   기통         8698 non-null   float64  \n",
        "9   최대토크(kgm)  10545 non-null  float64  \n",
        "10  구동방식       10808 non-null  object   \n",
        "11  자동수동       1313 non-null   object   \n",
        "12  국산/수입      11769 non-null  object   \n",
        "13  신차가(만원)    9544 non-null   float64  \n",
        "14  가격(만원)     11769 non-null  float64  \n",
        "```\n",
        "\n",
        "```\n",
        "0   no         11769 non-null  int64  \n",
        "1   modelname  11769 non-null  object \n",
        "2   ym         11769 non-null  object \n",
        "3   yeartype   11769 non-null  float64\n",
        "4   fuel       11769 non-null  object \n",
        "5   dist       11769 non-null  object \n",
        "6   people     765 non-null    float64\n",
        "7   power      10644 non-null  float64\n",
        "8   cylinder   8698 non-null   float64\n",
        "9   torque     10545 non-null  float64\n",
        "10  type       10808 non-null  object \n",
        "11  mission    1313 non-null   object \n",
        "12  country    11769 non-null  object \n",
        "13  newprice   9544 non-null   float64\n",
        "14  price      11769 non-null  float64\n",
        "```"
      ]
    },
    {
      "cell_type": "markdown",
      "metadata": {
        "id": "Y06b-JkTXdtW"
      },
      "source": [
        "# Outlier check, remove"
      ]
    },
    {
      "cell_type": "code",
      "metadata": {
        "id": "q5zJUjtzXbok",
        "outputId": "18b5b2b2-1b52-4758-dee9-44072228fec2",
        "colab": {
          "base_uri": "https://localhost:8080/",
          "height": 282
        }
      },
      "source": [
        "fig, ax = plt.subplots()\n",
        "ax.scatter(x=train['yeartype'], y=train['price'])\n",
        "plt.xlabel('yeartype', fontsize=13)\n",
        "plt.ylabel('price', fontsize=13)\n",
        "plt.show()"
      ],
      "execution_count": 515,
      "outputs": [
        {
          "output_type": "display_data",
          "data": {
            "image/png": "[encoded data removed]",
            "text/plain": [
              "<Figure size 432x288 with 1 Axes>"
            ]
          },
          "metadata": {
            "tags": [],
            "needs_background": "light"
          }
        }
      ]
    },
    {
      "cell_type": "code",
      "metadata": {
        "id": "SFVYNvZzaZcK",
        "outputId": "0c30c4bb-7d4d-419b-bf61-cc3d1bf70b3e",
        "colab": {
          "base_uri": "https://localhost:8080/",
          "height": 282
        }
      },
      "source": [
        "fig, ax = plt.subplots()\n",
        "ax.scatter(x=train['newprice'], y=train['price'])\n",
        "plt.xlabel('newprice', fontsize=13)\n",
        "plt.ylabel('price', fontsize=13)\n",
        "plt.show()"
      ],
      "execution_count": 516,
      "outputs": [
        {
          "output_type": "display_data",
          "data": {
            "image/png": "[encoded data removed]",
            "text/plain": [
              "<Figure size 432x288 with 1 Axes>"
            ]
          },
          "metadata": {
            "tags": [],
            "needs_background": "light"
          }
        }
      ]
    },
    {
      "cell_type": "code",
      "metadata": {
        "id": "0POa7NCwcgMY"
      },
      "source": [
        "train = train.drop(train[(train['price'] > 40000)].index)"
      ],
      "execution_count": 517,
      "outputs": []
    },
    {
      "cell_type": "code",
      "metadata": {
        "id": "kNlsUcNpcwsM",
        "outputId": "c53ac4c6-1731-464b-98e9-7dd7834adf85",
        "colab": {
          "base_uri": "https://localhost:8080/",
          "height": 48
        }
      },
      "source": [
        "train[(train['price'] > 40000)]"
      ],
      "execution_count": 518,
      "outputs": [
        {
          "output_type": "execute_result",
          "data": {
            "text/html": [
              "<div>\n",
              "<style scoped>\n",
              "    .dataframe tbody tr th:only-of-type {\n",
              "        vertical-align: middle;\n",
              "    }\n",
              "\n",
              "    .dataframe tbody tr th {\n",
              "        vertical-align: top;\n",
              "    }\n",
              "\n",
              "    .dataframe thead th {\n",
              "        text-align: right;\n",
              "    }\n",
              "</style>\n",
              "<table border=\"1\" class=\"dataframe\">\n",
              "  <thead>\n",
              "    <tr style=\"text-align: right;\">\n",
              "      <th></th>\n",
              "      <th>modelname</th>\n",
              "      <th>ym</th>\n",
              "      <th>yeartype</th>\n",
              "      <th>fuel</th>\n",
              "      <th>dist</th>\n",
              "      <th>people</th>\n",
              "      <th>power</th>\n",
              "      <th>cylinder</th>\n",
              "      <th>torque</th>\n",
              "      <th>type</th>\n",
              "      <th>mission</th>\n",
              "      <th>country</th>\n",
              "      <th>newprice</th>\n",
              "      <th>price</th>\n",
              "    </tr>\n",
              "  </thead>\n",
              "  <tbody>\n",
              "  </tbody>\n",
              "</table>\n",
              "</div>"
            ],
            "text/plain": [
              "Empty DataFrame\n",
              "Columns: [modelname, ym, yeartype, fuel, dist, people, power, cylinder, torque, type, mission, country, newprice, price]\n",
              "Index: []"
            ]
          },
          "metadata": {
            "tags": []
          },
          "execution_count": 518
        }
      ]
    },
    {
      "cell_type": "code",
      "metadata": {
        "id": "zA0HdO4HAZt2"
      },
      "source": [
        "train = train.drop(train[(train['newprice'] < train['price'])].index)"
      ],
      "execution_count": 519,
      "outputs": []
    },
    {
      "cell_type": "markdown",
      "metadata": {
        "id": "PSwjcWQFeM1J"
      },
      "source": [
        "# More inspection at price (apply log1p)"
      ]
    },
    {
      "cell_type": "code",
      "metadata": {
        "id": "W2iEcK0ceMam",
        "outputId": "a46099f5-a70c-4095-9261-60b25488dec9",
        "colab": {
          "base_uri": "https://localhost:8080/",
          "height": 629
        }
      },
      "source": [
        "sns.distplot(train['price'], fit=norm)\n",
        "\n",
        "# Get the fitted parameters used by the function\n",
        "(mu, sigma) = norm.fit(train['price'])\n",
        "print( '\\n mu = {:.2f} and sigma = {:.2f}\\n'.format(mu, sigma))\n",
        "\n",
        "#Now plot the distribution\n",
        "plt.legend(['Normal dist. ($\\mu=$ {:.2f} and $\\sigma=$ {:.2f} )'.format(mu, sigma)],\n",
        "            loc='best')\n",
        "plt.ylabel('Frequency')\n",
        "plt.title('price distribution')\n",
        "\n",
        "#Get also the QQ-plot\n",
        "fig = plt.figure()\n",
        "res = stats.probplot(train['price'], plot=plt)\n",
        "plt.show()"
      ],
      "execution_count": 520,
      "outputs": [
        {
          "output_type": "stream",
          "text": [
            "\n",
            " mu = 1421.81 and sigma = 1301.07\n",
            "\n"
          ],
          "name": "stdout"
        },
        {
          "output_type": "display_data",
          "data": {
            "image/png": "[encoded data removed]",
            "text/plain": [
              "<Figure size 432x288 with 1 Axes>"
            ]
          },
          "metadata": {
            "tags": [],
            "needs_background": "light"
          }
        },
        {
          "output_type": "display_data",
          "data": {
            "image/png": "[encoded data removed]",
            "text/plain": [
              "<Figure size 432x288 with 1 Axes>"
            ]
          },
          "metadata": {
            "tags": [],
            "needs_background": "light"
          }
        }
      ]
    },
    {
      "cell_type": "code",
      "metadata": {
        "id": "QmYUW6lzfQkk"
      },
      "source": [
        "train[\"price\"] = np.log1p(train[\"price\"])"
      ],
      "execution_count": 521,
      "outputs": []
    },
    {
      "cell_type": "code",
      "metadata": {
        "id": "DTedun6ufSKT",
        "outputId": "2c2bb939-665a-4fb0-f53f-bec59a50c6d7",
        "colab": {
          "base_uri": "https://localhost:8080/",
          "height": 629
        }
      },
      "source": [
        "sns.distplot(train['price'], fit=norm)\n",
        "\n",
        "# Get the fitted parameters used by the function\n",
        "(mu, sigma) = norm.fit(train['price'])\n",
        "print( '\\n mu = {:.2f} and sigma = {:.2f}\\n'.format(mu, sigma))\n",
        "\n",
        "#Now plot the distribution\n",
        "plt.legend(['Normal dist. ($\\mu=$ {:.2f} and $\\sigma=$ {:.2f} )'.format(mu, sigma)],\n",
        "            loc='best')\n",
        "plt.ylabel('Frequency')\n",
        "plt.title('price distribution')\n",
        "\n",
        "#Get also the QQ-plot\n",
        "fig = plt.figure()\n",
        "res = stats.probplot(train['price'], plot=plt)\n",
        "plt.show()"
      ],
      "execution_count": 522,
      "outputs": [
        {
          "output_type": "stream",
          "text": [
            "\n",
            " mu = 6.93 and sigma = 0.87\n",
            "\n"
          ],
          "name": "stdout"
        },
        {
          "output_type": "display_data",
          "data": {
            "image/png": "[encoded data removed]",
            "text/plain": [
              "<Figure size 432x288 with 1 Axes>"
            ]
          },
          "metadata": {
            "tags": [],
            "needs_background": "light"
          }
        },
        {
          "output_type": "display_data",
          "data": {
            "image/png": "[encoded data removed]",
            "text/plain": [
              "<Figure size 432x288 with 1 Axes>"
            ]
          },
          "metadata": {
            "tags": [],
            "needs_background": "light"
          }
        }
      ]
    },
    {
      "cell_type": "markdown",
      "metadata": {
        "id": "y_vhNli1fyYn"
      },
      "source": [
        "# Correlation Matrix"
      ]
    },
    {
      "cell_type": "code",
      "metadata": {
        "id": "xYvLuSXYfyqU",
        "outputId": "5cb7a139-e7e1-42e6-dc3a-c35adeafcc3a",
        "colab": {
          "base_uri": "https://localhost:8080/",
          "height": 555
        }
      },
      "source": [
        "#Correlation map to see how features are correlated with SalePrice\n",
        "corrmat = train.corr()\n",
        "plt.subplots(figsize=(12,9))\n",
        "sns.heatmap(corrmat, vmax=0.9, square=True)"
      ],
      "execution_count": 523,
      "outputs": [
        {
          "output_type": "execute_result",
          "data": {
            "text/plain": [
              "<matplotlib.axes._subplots.AxesSubplot at 0x7f00a2bf4128>"
            ]
          },
          "metadata": {
            "tags": []
          },
          "execution_count": 523
        },
        {
          "output_type": "display_data",
          "data": {
            "image/png": "[encoded data removed]",
            "text/plain": [
              "<Figure size 864x648 with 2 Axes>"
            ]
          },
          "metadata": {
            "tags": [],
            "needs_background": "light"
          }
        }
      ]
    },
    {
      "cell_type": "markdown",
      "metadata": {
        "id": "qNG5jQEb6a7G"
      },
      "source": [
        "# 1 모델명 modelname 11769 non-null object\n",
        "\n",
        "- 역시 이번에도 모델명은 날리자"
      ]
    },
    {
      "cell_type": "code",
      "metadata": {
        "id": "tpX-Lq_w6a7G",
        "outputId": "a2b7cb1f-3714-4aa1-93ff-b59f830ddab5",
        "colab": {
          "base_uri": "https://localhost:8080/"
        }
      },
      "source": [
        "train = train.drop(['modelname'], axis=1)\n",
        "test = test.drop(['modelname'], axis=1)\n",
        "\n",
        "print(train.shape)\n",
        "print(test.shape)"
      ],
      "execution_count": 524,
      "outputs": [
        {
          "output_type": "stream",
          "text": [
            "(11619, 13)\n",
            "(5789, 11)\n"
          ],
          "name": "stdout"
        }
      ]
    },
    {
      "cell_type": "markdown",
      "metadata": {
        "id": "f5Guq0BE6a7I"
      },
      "source": [
        "# 2 연월 ym 11769 non-null object\n",
        "\n",
        "- 생각해보면, 그리고 데이터 명세 다시 보니까,\n",
        "- 어차피 연식(yeartype)에 있는 정보다\n",
        "- 이거 날리자"
      ]
    },
    {
      "cell_type": "code",
      "metadata": {
        "id": "V48VspfY6a7I",
        "outputId": "2590cf54-c5d6-4ebb-964a-33cd5728971c",
        "colab": {
          "base_uri": "https://localhost:8080/"
        }
      },
      "source": [
        "train = train.drop(['ym'], axis=1)\n",
        "test = test.drop(['ym'], axis=1)\n",
        "\n",
        "print(train.shape)\n",
        "print(test.shape)"
      ],
      "execution_count": 525,
      "outputs": [
        {
          "output_type": "stream",
          "text": [
            "(11619, 12)\n",
            "(5789, 10)\n"
          ],
          "name": "stdout"
        }
      ]
    },
    {
      "cell_type": "markdown",
      "metadata": {
        "id": "6Ibh0Cf66a7L"
      },
      "source": [
        "# 3 연식 yeartype 11769 non-null float64\n",
        "\n",
        "건들지 말자"
      ]
    },
    {
      "cell_type": "markdown",
      "metadata": {
        "id": "vYq-hRQ16a7L"
      },
      "source": [
        "# 4 연료 fuel 11769 non-null object\n",
        "\n",
        "- 범주형\n",
        "- 이거 생각 좀 해보자\n",
        "- 그냥 큰 범주로 산입할까?"
      ]
    },
    {
      "cell_type": "code",
      "metadata": {
        "id": "RlDoCoc36a7L"
      },
      "source": [
        "train_fuel = train['fuel']\n",
        "test_fuel = test['fuel']"
      ],
      "execution_count": 526,
      "outputs": []
    },
    {
      "cell_type": "code",
      "metadata": {
        "id": "ZgGRJoEh6a7O",
        "outputId": "dce3d69a-55b4-415b-e3f9-dc916e85e2d6",
        "colab": {
          "base_uri": "https://localhost:8080/"
        }
      },
      "source": [
        "print(train_fuel.value_counts())\n",
        "print()\n",
        "print(test_fuel.value_counts())"
      ],
      "execution_count": 527,
      "outputs": [
        {
          "output_type": "stream",
          "text": [
            "가솔린          6607\n",
            "디젤           3898\n",
            "LPG           921\n",
            "가솔린+전기         76\n",
            "가솔린/LPG겸용      40\n",
            "기타             32\n",
            "전기             24\n",
            "LPG+전기         14\n",
            "가솔린/CNG겸용       4\n",
            "CNG             2\n",
            "수소              1\n",
            "Name: fuel, dtype: int64\n",
            "\n",
            "가솔린          3280\n",
            "디젤           1932\n",
            "LPG           469\n",
            "가솔린+전기         34\n",
            "가솔린/LPG겸용      33\n",
            "전기             19\n",
            "기타             11\n",
            "LPG+전기          8\n",
            "CNG             2\n",
            "가솔린/CNG겸용       1\n",
            "Name: fuel, dtype: int64\n"
          ],
          "name": "stdout"
        }
      ]
    },
    {
      "cell_type": "markdown",
      "metadata": {
        "id": "WGw2dXg66a7P"
      },
      "source": [
        "## 산입\n",
        "\n",
        "- 일단 그냥 수소만 기타로 갖다박을까?\n",
        "\n"
      ]
    },
    {
      "cell_type": "code",
      "metadata": {
        "id": "69bcTkQm6a7Q"
      },
      "source": [
        "train_fuel = train_fuel.replace('수소', '기타')"
      ],
      "execution_count": 528,
      "outputs": []
    },
    {
      "cell_type": "code",
      "metadata": {
        "id": "YVuHRI7F6a7S",
        "outputId": "f6a20a15-9129-432d-ba9e-e54fdb5a53e1",
        "colab": {
          "base_uri": "https://localhost:8080/"
        }
      },
      "source": [
        "train_fuel.value_counts()"
      ],
      "execution_count": 529,
      "outputs": [
        {
          "output_type": "execute_result",
          "data": {
            "text/plain": [
              "가솔린          6607\n",
              "디젤           3898\n",
              "LPG           921\n",
              "가솔린+전기         76\n",
              "가솔린/LPG겸용      40\n",
              "기타             33\n",
              "전기             24\n",
              "LPG+전기         14\n",
              "가솔린/CNG겸용       4\n",
              "CNG             2\n",
              "Name: fuel, dtype: int64"
            ]
          },
          "metadata": {
            "tags": []
          },
          "execution_count": 529
        }
      ]
    },
    {
      "cell_type": "code",
      "metadata": {
        "id": "sWVoO1yi6a7V"
      },
      "source": [
        "## train_fuel_dummies = pd.get_dummies(train_fuel)\n",
        "## test_fuel_dummies = pd.get_dummies(test_fuel)\n",
        "## \n",
        "## train_fuel_dummies = train_fuel_dummies.add_prefix('fuel_')\n",
        "## test_fuel_dummies = test_fuel_dummies.add_prefix('fuel_')\n",
        "## \n",
        "## train = train.join(train_fuel_dummies)\n",
        "## test = test.join(test_fuel_dummies)\n",
        "\n",
        "train = train.drop(['fuel'], axis=1)\n",
        "test = test.drop(['fuel'], axis=1)\n",
        "\n",
        "## train = train.join(train_fuel)\n",
        "## test = test.join(test_fuel)"
      ],
      "execution_count": 530,
      "outputs": []
    },
    {
      "cell_type": "code",
      "metadata": {
        "id": "p6l3mDuI6a7W",
        "outputId": "f8892870-a75f-4474-cb7d-53aee2ae5ab7",
        "colab": {
          "base_uri": "https://localhost:8080/",
          "height": 202
        }
      },
      "source": [
        "train.head()"
      ],
      "execution_count": 531,
      "outputs": [
        {
          "output_type": "execute_result",
          "data": {
            "text/html": [
              "<div>\n",
              "<style scoped>\n",
              "    .dataframe tbody tr th:only-of-type {\n",
              "        vertical-align: middle;\n",
              "    }\n",
              "\n",
              "    .dataframe tbody tr th {\n",
              "        vertical-align: top;\n",
              "    }\n",
              "\n",
              "    .dataframe thead th {\n",
              "        text-align: right;\n",
              "    }\n",
              "</style>\n",
              "<table border=\"1\" class=\"dataframe\">\n",
              "  <thead>\n",
              "    <tr style=\"text-align: right;\">\n",
              "      <th></th>\n",
              "      <th>yeartype</th>\n",
              "      <th>dist</th>\n",
              "      <th>people</th>\n",
              "      <th>power</th>\n",
              "      <th>cylinder</th>\n",
              "      <th>torque</th>\n",
              "      <th>type</th>\n",
              "      <th>mission</th>\n",
              "      <th>country</th>\n",
              "      <th>newprice</th>\n",
              "      <th>price</th>\n",
              "    </tr>\n",
              "  </thead>\n",
              "  <tbody>\n",
              "    <tr>\n",
              "      <th>0</th>\n",
              "      <td>2013.0</td>\n",
              "      <td>4만km</td>\n",
              "      <td>NaN</td>\n",
              "      <td>201.0</td>\n",
              "      <td>4.0</td>\n",
              "      <td>25.5</td>\n",
              "      <td>FF</td>\n",
              "      <td>NaN</td>\n",
              "      <td>국산</td>\n",
              "      <td>3141.0</td>\n",
              "      <td>7.534228</td>\n",
              "    </tr>\n",
              "    <tr>\n",
              "      <th>1</th>\n",
              "      <td>2010.0</td>\n",
              "      <td>9만km</td>\n",
              "      <td>NaN</td>\n",
              "      <td>157.0</td>\n",
              "      <td>NaN</td>\n",
              "      <td>20.0</td>\n",
              "      <td>FF</td>\n",
              "      <td>NaN</td>\n",
              "      <td>국산</td>\n",
              "      <td>NaN</td>\n",
              "      <td>6.552508</td>\n",
              "    </tr>\n",
              "    <tr>\n",
              "      <th>2</th>\n",
              "      <td>2015.0</td>\n",
              "      <td>3만km</td>\n",
              "      <td>NaN</td>\n",
              "      <td>202.0</td>\n",
              "      <td>4.0</td>\n",
              "      <td>45.0</td>\n",
              "      <td>FF</td>\n",
              "      <td>NaN</td>\n",
              "      <td>국산</td>\n",
              "      <td>3389.0</td>\n",
              "      <td>8.003363</td>\n",
              "    </tr>\n",
              "    <tr>\n",
              "      <th>3</th>\n",
              "      <td>2008.0</td>\n",
              "      <td>16만km</td>\n",
              "      <td>NaN</td>\n",
              "      <td>151.0</td>\n",
              "      <td>4.0</td>\n",
              "      <td>33.8</td>\n",
              "      <td>FR</td>\n",
              "      <td>NaN</td>\n",
              "      <td>국산</td>\n",
              "      <td>2499.0</td>\n",
              "      <td>6.042633</td>\n",
              "    </tr>\n",
              "    <tr>\n",
              "      <th>4</th>\n",
              "      <td>2004.0</td>\n",
              "      <td>16만km</td>\n",
              "      <td>3.0</td>\n",
              "      <td>103.0</td>\n",
              "      <td>NaN</td>\n",
              "      <td>24.0</td>\n",
              "      <td>FR</td>\n",
              "      <td>수동</td>\n",
              "      <td>국산</td>\n",
              "      <td>1445.0</td>\n",
              "      <td>6.111467</td>\n",
              "    </tr>\n",
              "  </tbody>\n",
              "</table>\n",
              "</div>"
            ],
            "text/plain": [
              "   yeartype   dist  people  power  ...  mission  country newprice     price\n",
              "0    2013.0   4만km     NaN  201.0  ...      NaN       국산   3141.0  7.534228\n",
              "1    2010.0   9만km     NaN  157.0  ...      NaN       국산      NaN  6.552508\n",
              "2    2015.0   3만km     NaN  202.0  ...      NaN       국산   3389.0  8.003363\n",
              "3    2008.0  16만km     NaN  151.0  ...      NaN       국산   2499.0  6.042633\n",
              "4    2004.0  16만km     3.0  103.0  ...       수동       국산   1445.0  6.111467\n",
              "\n",
              "[5 rows x 11 columns]"
            ]
          },
          "metadata": {
            "tags": []
          },
          "execution_count": 531
        }
      ]
    },
    {
      "cell_type": "code",
      "metadata": {
        "id": "tVRRF0KL6a7Z",
        "outputId": "2a77f66f-0b4d-4e34-c750-4bdd998d7561",
        "colab": {
          "base_uri": "https://localhost:8080/"
        }
      },
      "source": [
        "print(train.shape)\n",
        "print(test.shape)"
      ],
      "execution_count": 532,
      "outputs": [
        {
          "output_type": "stream",
          "text": [
            "(11619, 11)\n",
            "(5789, 9)\n"
          ],
          "name": "stdout"
        }
      ]
    },
    {
      "cell_type": "markdown",
      "metadata": {
        "id": "T0Fl4JRV6a7b"
      },
      "source": [
        "# 5 주행거리 dist 11769 non-null object\n",
        "\n",
        "- %d만{km|ml}\n",
        "- 중간중간에 '등록'이라고 되어있는 게 있다\n",
        "- 일단 결측치로 냅둘까?\n",
        "- 나중에 MissForest 처리할 것이다"
      ]
    },
    {
      "cell_type": "code",
      "metadata": {
        "id": "WBPApT5O6a7b",
        "outputId": "8fb0ea77-abb6-47a6-e564-915946a492f0",
        "colab": {
          "base_uri": "https://localhost:8080/"
        }
      },
      "source": [
        "train_dist = train['dist']\n",
        "test_dist = test['dist']\n",
        "\n",
        "train_dist"
      ],
      "execution_count": 533,
      "outputs": [
        {
          "output_type": "execute_result",
          "data": {
            "text/plain": [
              "0         4만km\n",
              "1         9만km\n",
              "2         3만km\n",
              "3        16만km\n",
              "4        16만km\n",
              "         ...  \n",
              "11763     2천km\n",
              "11765     5천km\n",
              "11766    230km\n",
              "11767     9천km\n",
              "11768     3천km\n",
              "Name: dist, Length: 11619, dtype: object"
            ]
          },
          "metadata": {
            "tags": []
          },
          "execution_count": 533
        }
      ]
    },
    {
      "cell_type": "code",
      "metadata": {
        "id": "3gkmXRPn6a7d"
      },
      "source": [
        "def preprocess_dist(x):\n",
        "    # '등록'은 나중에 평균으로 채울 거임\n",
        "    if x == '등록':\n",
        "        return None\n",
        "\n",
        "    if x[-2:] == 'km':\n",
        "        # kilometer\n",
        "        x = x.split('km')[0]\n",
        "        weight = 1\n",
        "    else:\n",
        "        # mile\n",
        "        assert x[-2:] == 'ml'\n",
        "        x = x.split('ml')[0]\n",
        "        weight = 1.609344\n",
        "\n",
        "    if x[-1] == '만':\n",
        "        x = float(x.split('만')[0]) * 10000\n",
        "    elif x[-1] == '천':\n",
        "        x = float(x.split('천')[0]) * 1000\n",
        "\n",
        "    return float(x * weight)"
      ],
      "execution_count": 534,
      "outputs": []
    },
    {
      "cell_type": "code",
      "metadata": {
        "id": "BJbIhuZI6a7f",
        "outputId": "dd3e23fc-b71d-4f1c-fe10-53965e6c8f4c",
        "colab": {
          "base_uri": "https://localhost:8080/"
        }
      },
      "source": [
        "train_dist = train_dist.apply(preprocess_dist)\n",
        "test_dist = test_dist.apply(preprocess_dist)\n",
        "\n",
        "train_dist"
      ],
      "execution_count": 535,
      "outputs": [
        {
          "output_type": "execute_result",
          "data": {
            "text/plain": [
              "0         40000.0\n",
              "1         90000.0\n",
              "2         30000.0\n",
              "3        160000.0\n",
              "4        160000.0\n",
              "           ...   \n",
              "11763      2000.0\n",
              "11765      5000.0\n",
              "11766       230.0\n",
              "11767      9000.0\n",
              "11768      3000.0\n",
              "Name: dist, Length: 11619, dtype: float64"
            ]
          },
          "metadata": {
            "tags": []
          },
          "execution_count": 535
        }
      ]
    },
    {
      "cell_type": "code",
      "metadata": {
        "id": "f4mnBCOm6a7h",
        "outputId": "02ab6045-46d4-42f5-80cb-d65659d4a8f6",
        "colab": {
          "base_uri": "https://localhost:8080/"
        }
      },
      "source": [
        "# 등록 처리\n",
        "train_dist.isna().sum()"
      ],
      "execution_count": 536,
      "outputs": [
        {
          "output_type": "execute_result",
          "data": {
            "text/plain": [
              "29"
            ]
          },
          "metadata": {
            "tags": []
          },
          "execution_count": 536
        }
      ]
    },
    {
      "cell_type": "code",
      "metadata": {
        "id": "g5OZ0d0r6a7n"
      },
      "source": [
        "train = train.drop(['dist'], axis=1)\n",
        "test = test.drop(['dist'], axis=1)\n",
        "\n",
        "train = train.join(train_dist)\n",
        "test = test.join(test_dist)"
      ],
      "execution_count": 537,
      "outputs": []
    },
    {
      "cell_type": "code",
      "metadata": {
        "id": "pKSaQuf-6a7p",
        "outputId": "cf691c10-a25c-41ba-ebc4-d336eee57d60",
        "colab": {
          "base_uri": "https://localhost:8080/",
          "height": 202
        }
      },
      "source": [
        "train.head()"
      ],
      "execution_count": 538,
      "outputs": [
        {
          "output_type": "execute_result",
          "data": {
            "text/html": [
              "<div>\n",
              "<style scoped>\n",
              "    .dataframe tbody tr th:only-of-type {\n",
              "        vertical-align: middle;\n",
              "    }\n",
              "\n",
              "    .dataframe tbody tr th {\n",
              "        vertical-align: top;\n",
              "    }\n",
              "\n",
              "    .dataframe thead th {\n",
              "        text-align: right;\n",
              "    }\n",
              "</style>\n",
              "<table border=\"1\" class=\"dataframe\">\n",
              "  <thead>\n",
              "    <tr style=\"text-align: right;\">\n",
              "      <th></th>\n",
              "      <th>yeartype</th>\n",
              "      <th>people</th>\n",
              "      <th>power</th>\n",
              "      <th>cylinder</th>\n",
              "      <th>torque</th>\n",
              "      <th>type</th>\n",
              "      <th>mission</th>\n",
              "      <th>country</th>\n",
              "      <th>newprice</th>\n",
              "      <th>price</th>\n",
              "      <th>dist</th>\n",
              "    </tr>\n",
              "  </thead>\n",
              "  <tbody>\n",
              "    <tr>\n",
              "      <th>0</th>\n",
              "      <td>2013.0</td>\n",
              "      <td>NaN</td>\n",
              "      <td>201.0</td>\n",
              "      <td>4.0</td>\n",
              "      <td>25.5</td>\n",
              "      <td>FF</td>\n",
              "      <td>NaN</td>\n",
              "      <td>국산</td>\n",
              "      <td>3141.0</td>\n",
              "      <td>7.534228</td>\n",
              "      <td>40000.0</td>\n",
              "    </tr>\n",
              "    <tr>\n",
              "      <th>1</th>\n",
              "      <td>2010.0</td>\n",
              "      <td>NaN</td>\n",
              "      <td>157.0</td>\n",
              "      <td>NaN</td>\n",
              "      <td>20.0</td>\n",
              "      <td>FF</td>\n",
              "      <td>NaN</td>\n",
              "      <td>국산</td>\n",
              "      <td>NaN</td>\n",
              "      <td>6.552508</td>\n",
              "      <td>90000.0</td>\n",
              "    </tr>\n",
              "    <tr>\n",
              "      <th>2</th>\n",
              "      <td>2015.0</td>\n",
              "      <td>NaN</td>\n",
              "      <td>202.0</td>\n",
              "      <td>4.0</td>\n",
              "      <td>45.0</td>\n",
              "      <td>FF</td>\n",
              "      <td>NaN</td>\n",
              "      <td>국산</td>\n",
              "      <td>3389.0</td>\n",
              "      <td>8.003363</td>\n",
              "      <td>30000.0</td>\n",
              "    </tr>\n",
              "    <tr>\n",
              "      <th>3</th>\n",
              "      <td>2008.0</td>\n",
              "      <td>NaN</td>\n",
              "      <td>151.0</td>\n",
              "      <td>4.0</td>\n",
              "      <td>33.8</td>\n",
              "      <td>FR</td>\n",
              "      <td>NaN</td>\n",
              "      <td>국산</td>\n",
              "      <td>2499.0</td>\n",
              "      <td>6.042633</td>\n",
              "      <td>160000.0</td>\n",
              "    </tr>\n",
              "    <tr>\n",
              "      <th>4</th>\n",
              "      <td>2004.0</td>\n",
              "      <td>3.0</td>\n",
              "      <td>103.0</td>\n",
              "      <td>NaN</td>\n",
              "      <td>24.0</td>\n",
              "      <td>FR</td>\n",
              "      <td>수동</td>\n",
              "      <td>국산</td>\n",
              "      <td>1445.0</td>\n",
              "      <td>6.111467</td>\n",
              "      <td>160000.0</td>\n",
              "    </tr>\n",
              "  </tbody>\n",
              "</table>\n",
              "</div>"
            ],
            "text/plain": [
              "   yeartype  people  power  cylinder  ...  country newprice     price      dist\n",
              "0    2013.0     NaN  201.0       4.0  ...       국산   3141.0  7.534228   40000.0\n",
              "1    2010.0     NaN  157.0       NaN  ...       국산      NaN  6.552508   90000.0\n",
              "2    2015.0     NaN  202.0       4.0  ...       국산   3389.0  8.003363   30000.0\n",
              "3    2008.0     NaN  151.0       4.0  ...       국산   2499.0  6.042633  160000.0\n",
              "4    2004.0     3.0  103.0       NaN  ...       국산   1445.0  6.111467  160000.0\n",
              "\n",
              "[5 rows x 11 columns]"
            ]
          },
          "metadata": {
            "tags": []
          },
          "execution_count": 538
        }
      ]
    },
    {
      "cell_type": "markdown",
      "metadata": {
        "id": "i2fISCc56a7r"
      },
      "source": [
        "# 6 인승 people 765 non-null float64\n",
        "\n",
        "- 드랍"
      ]
    },
    {
      "cell_type": "code",
      "metadata": {
        "id": "RQ5nFdjm6a7r"
      },
      "source": [
        "train_people = train['people']\n",
        "test_people = test['people']"
      ],
      "execution_count": 539,
      "outputs": []
    },
    {
      "cell_type": "code",
      "metadata": {
        "id": "P6WBIWTq6a7v"
      },
      "source": [
        "train = train.drop(['people'], axis=1)\n",
        "test = test.drop(['people'], axis=1)"
      ],
      "execution_count": 540,
      "outputs": []
    },
    {
      "cell_type": "markdown",
      "metadata": {
        "id": "N7ecncKI6a7x"
      },
      "source": [
        "# 7 최대출력(마력) power 10644 non-null float64\n",
        "\n",
        "- 얘도 결측치들을 냅두자"
      ]
    },
    {
      "cell_type": "code",
      "metadata": {
        "id": "c-9fEHIj6a7x",
        "outputId": "796f8aab-2a80-4bd1-d205-f326b4b33fb0",
        "colab": {
          "base_uri": "https://localhost:8080/"
        }
      },
      "source": [
        "train_power = train['power']\n",
        "test_power = test['power']\n",
        "\n",
        "train_power"
      ],
      "execution_count": 541,
      "outputs": [
        {
          "output_type": "execute_result",
          "data": {
            "text/plain": [
              "0        201.0\n",
              "1        157.0\n",
              "2        202.0\n",
              "3        151.0\n",
              "4        103.0\n",
              "         ...  \n",
              "11763    425.0\n",
              "11765      NaN\n",
              "11766    370.0\n",
              "11767    425.0\n",
              "11768    425.0\n",
              "Name: power, Length: 11619, dtype: float64"
            ]
          },
          "metadata": {
            "tags": []
          },
          "execution_count": 541
        }
      ]
    },
    {
      "cell_type": "code",
      "metadata": {
        "id": "UBLB_NMD6a7z",
        "outputId": "25357209-72fb-40d7-bcd0-45dc6641590a",
        "colab": {
          "base_uri": "https://localhost:8080/"
        }
      },
      "source": [
        "train_power.isna().sum()"
      ],
      "execution_count": 542,
      "outputs": [
        {
          "output_type": "execute_result",
          "data": {
            "text/plain": [
              "1114"
            ]
          },
          "metadata": {
            "tags": []
          },
          "execution_count": 542
        }
      ]
    },
    {
      "cell_type": "code",
      "metadata": {
        "id": "6OY1HzOp6a71"
      },
      "source": [
        "# train_power = train_power.fillna(train_power.mean())\n",
        "# test_power = test_power.fillna(test_power.mean())\n",
        "\n",
        "# train_power.isna().sum()"
      ],
      "execution_count": 543,
      "outputs": []
    },
    {
      "cell_type": "code",
      "metadata": {
        "id": "mzi652Zb6a75"
      },
      "source": [
        "train = train.drop(['power'], axis=1)\n",
        "test = test.drop(['power'], axis=1)\n",
        "\n",
        "train = train.join(train_power)\n",
        "test = test.join(test_power)"
      ],
      "execution_count": 544,
      "outputs": []
    },
    {
      "cell_type": "code",
      "metadata": {
        "id": "mm5NzeNQ6a77",
        "outputId": "354b6165-820e-4c4f-a5df-d3804f04a4a3",
        "colab": {
          "base_uri": "https://localhost:8080/",
          "height": 0
        }
      },
      "source": [
        "train.head()"
      ],
      "execution_count": 545,
      "outputs": [
        {
          "output_type": "execute_result",
          "data": {
            "text/html": [
              "<div>\n",
              "<style scoped>\n",
              "    .dataframe tbody tr th:only-of-type {\n",
              "        vertical-align: middle;\n",
              "    }\n",
              "\n",
              "    .dataframe tbody tr th {\n",
              "        vertical-align: top;\n",
              "    }\n",
              "\n",
              "    .dataframe thead th {\n",
              "        text-align: right;\n",
              "    }\n",
              "</style>\n",
              "<table border=\"1\" class=\"dataframe\">\n",
              "  <thead>\n",
              "    <tr style=\"text-align: right;\">\n",
              "      <th></th>\n",
              "      <th>yeartype</th>\n",
              "      <th>cylinder</th>\n",
              "      <th>torque</th>\n",
              "      <th>type</th>\n",
              "      <th>mission</th>\n",
              "      <th>country</th>\n",
              "      <th>newprice</th>\n",
              "      <th>price</th>\n",
              "      <th>dist</th>\n",
              "      <th>power</th>\n",
              "    </tr>\n",
              "  </thead>\n",
              "  <tbody>\n",
              "    <tr>\n",
              "      <th>0</th>\n",
              "      <td>2013.0</td>\n",
              "      <td>4.0</td>\n",
              "      <td>25.5</td>\n",
              "      <td>FF</td>\n",
              "      <td>NaN</td>\n",
              "      <td>국산</td>\n",
              "      <td>3141.0</td>\n",
              "      <td>7.534228</td>\n",
              "      <td>40000.0</td>\n",
              "      <td>201.0</td>\n",
              "    </tr>\n",
              "    <tr>\n",
              "      <th>1</th>\n",
              "      <td>2010.0</td>\n",
              "      <td>NaN</td>\n",
              "      <td>20.0</td>\n",
              "      <td>FF</td>\n",
              "      <td>NaN</td>\n",
              "      <td>국산</td>\n",
              "      <td>NaN</td>\n",
              "      <td>6.552508</td>\n",
              "      <td>90000.0</td>\n",
              "      <td>157.0</td>\n",
              "    </tr>\n",
              "    <tr>\n",
              "      <th>2</th>\n",
              "      <td>2015.0</td>\n",
              "      <td>4.0</td>\n",
              "      <td>45.0</td>\n",
              "      <td>FF</td>\n",
              "      <td>NaN</td>\n",
              "      <td>국산</td>\n",
              "      <td>3389.0</td>\n",
              "      <td>8.003363</td>\n",
              "      <td>30000.0</td>\n",
              "      <td>202.0</td>\n",
              "    </tr>\n",
              "    <tr>\n",
              "      <th>3</th>\n",
              "      <td>2008.0</td>\n",
              "      <td>4.0</td>\n",
              "      <td>33.8</td>\n",
              "      <td>FR</td>\n",
              "      <td>NaN</td>\n",
              "      <td>국산</td>\n",
              "      <td>2499.0</td>\n",
              "      <td>6.042633</td>\n",
              "      <td>160000.0</td>\n",
              "      <td>151.0</td>\n",
              "    </tr>\n",
              "    <tr>\n",
              "      <th>4</th>\n",
              "      <td>2004.0</td>\n",
              "      <td>NaN</td>\n",
              "      <td>24.0</td>\n",
              "      <td>FR</td>\n",
              "      <td>수동</td>\n",
              "      <td>국산</td>\n",
              "      <td>1445.0</td>\n",
              "      <td>6.111467</td>\n",
              "      <td>160000.0</td>\n",
              "      <td>103.0</td>\n",
              "    </tr>\n",
              "  </tbody>\n",
              "</table>\n",
              "</div>"
            ],
            "text/plain": [
              "   yeartype  cylinder  torque type  ... newprice     price      dist  power\n",
              "0    2013.0       4.0    25.5   FF  ...   3141.0  7.534228   40000.0  201.0\n",
              "1    2010.0       NaN    20.0   FF  ...      NaN  6.552508   90000.0  157.0\n",
              "2    2015.0       4.0    45.0   FF  ...   3389.0  8.003363   30000.0  202.0\n",
              "3    2008.0       4.0    33.8   FR  ...   2499.0  6.042633  160000.0  151.0\n",
              "4    2004.0       NaN    24.0   FR  ...   1445.0  6.111467  160000.0  103.0\n",
              "\n",
              "[5 rows x 10 columns]"
            ]
          },
          "metadata": {
            "tags": []
          },
          "execution_count": 545
        }
      ]
    },
    {
      "cell_type": "markdown",
      "metadata": {
        "id": "8CdiOdHh6a79"
      },
      "source": [
        "# 8 기통 cylinder 8698 non-null float64\n",
        "\n",
        "- 범주형으로 조질 수 있겠다\n",
        "\n"
      ]
    },
    {
      "cell_type": "code",
      "metadata": {
        "id": "MSpUsg0m6a79",
        "outputId": "c67db6fa-ef29-44e2-8c06-606925d0bada",
        "colab": {
          "base_uri": "https://localhost:8080/"
        }
      },
      "source": [
        "train_cylinder = train['cylinder']\n",
        "test_cylinder = test['cylinder']\n",
        "\n",
        "train_cylinder.value_counts()"
      ],
      "execution_count": 546,
      "outputs": [
        {
          "output_type": "execute_result",
          "data": {
            "text/plain": [
              "4.0    5558\n",
              "6.0    2428\n",
              "3.0     398\n",
              "8.0     169\n",
              "5.0      44\n",
              "Name: cylinder, dtype: int64"
            ]
          },
          "metadata": {
            "tags": []
          },
          "execution_count": 546
        }
      ]
    },
    {
      "cell_type": "code",
      "metadata": {
        "id": "soJg33WC6a8A",
        "outputId": "ccc3dc4a-618d-47a5-f4f1-647c897131bc",
        "colab": {
          "base_uri": "https://localhost:8080/"
        }
      },
      "source": [
        "test_cylinder.value_counts()"
      ],
      "execution_count": 547,
      "outputs": [
        {
          "output_type": "execute_result",
          "data": {
            "text/plain": [
              "4.0    2747\n",
              "6.0    1222\n",
              "3.0     173\n",
              "8.0      95\n",
              "5.0      38\n",
              "Name: cylinder, dtype: int64"
            ]
          },
          "metadata": {
            "tags": []
          },
          "execution_count": 547
        }
      ]
    },
    {
      "cell_type": "code",
      "metadata": {
        "id": "UP9qe14V6a8E",
        "outputId": "98f4b95a-167e-4b9b-f552-e09de994605d",
        "colab": {
          "base_uri": "https://localhost:8080/"
        }
      },
      "source": [
        "train_cylinder.isna().sum()"
      ],
      "execution_count": 548,
      "outputs": [
        {
          "output_type": "execute_result",
          "data": {
            "text/plain": [
              "3022"
            ]
          },
          "metadata": {
            "tags": []
          },
          "execution_count": 548
        }
      ]
    },
    {
      "cell_type": "code",
      "metadata": {
        "id": "ZQCNQOmf6a8C"
      },
      "source": [
        "import random\n",
        "random.seed(42)\n",
        "\n",
        "tmp = [3.0, 4.0, 5.0, 6.0, 8.0]\n",
        "\n",
        "for i, j in enumerate(train_cylinder):\n",
        "  if not (j in tmp):\n",
        "    draw = random.choices(\n",
        "      population=[3.0, 4.0, 5.0, 6.0, 8.0],\n",
        "      weights=[0.034157532500637265,\n",
        "               0.4776106721046818,\n",
        "               0.003823604384399694,\n",
        "               0.2089387373608633,\n",
        "               0.014529696660718837],\n",
        "      k=1)\n",
        "    \n",
        "    train_cylinder[i] = draw[0]\n",
        "\n",
        "for i, j in enumerate(test_cylinder):\n",
        "  if not (j in tmp):\n",
        "    draw = random.choices(\n",
        "      population=[3.0, 4.0, 5.0, 6.0, 8.0],\n",
        "      weights=[0.014699634633358823,\n",
        "               0.23340980542102133,\n",
        "               0.0032288214801597416,\n",
        "               0.10383210128303169,\n",
        "               0.008072053700399354],\n",
        "      k=1)\n",
        "    \n",
        "    test_cylinder[i] = draw[0]"
      ],
      "execution_count": 549,
      "outputs": []
    },
    {
      "cell_type": "code",
      "metadata": {
        "id": "eDRj9lH5O8YA",
        "outputId": "d3cd0160-e681-4020-eb88-c3c3fb927afc",
        "colab": {
          "base_uri": "https://localhost:8080/"
        }
      },
      "source": [
        "train_cylinder.isna().sum()"
      ],
      "execution_count": 550,
      "outputs": [
        {
          "output_type": "execute_result",
          "data": {
            "text/plain": [
              "2278"
            ]
          },
          "metadata": {
            "tags": []
          },
          "execution_count": 550
        }
      ]
    },
    {
      "cell_type": "code",
      "metadata": {
        "id": "6K0_xPBJ6a8G"
      },
      "source": [
        "train_cylinder_dummies = pd.get_dummies(train_cylinder)\n",
        "test_cylinder_dummies = pd.get_dummies(test_cylinder)\n",
        "\n",
        "train_cylinder_dummies = train_cylinder_dummies.add_prefix(\"cylinder_\")\n",
        "test_cylinder_dummies = test_cylinder_dummies.add_prefix(\"cylinder_\")\n",
        "\n",
        "train = train.join(train_cylinder_dummies)\n",
        "test = test.join(test_cylinder_dummies)\n",
        "\n",
        "train = train.drop(['cylinder'], axis=1)\n",
        "test = test.drop(['cylinder'], axis=1)\n",
        "\n",
        "## train = train.join(train_cylinder)\n",
        "## test = test.join(test_cylinder)"
      ],
      "execution_count": 551,
      "outputs": []
    },
    {
      "cell_type": "code",
      "metadata": {
        "id": "Ikdi2lkQ6a8I",
        "outputId": "5d1c0ec1-f244-4c27-e3b9-1480a5ade6de",
        "colab": {
          "base_uri": "https://localhost:8080/",
          "height": 202
        }
      },
      "source": [
        "train.head()"
      ],
      "execution_count": 552,
      "outputs": [
        {
          "output_type": "execute_result",
          "data": {
            "text/html": [
              "<div>\n",
              "<style scoped>\n",
              "    .dataframe tbody tr th:only-of-type {\n",
              "        vertical-align: middle;\n",
              "    }\n",
              "\n",
              "    .dataframe tbody tr th {\n",
              "        vertical-align: top;\n",
              "    }\n",
              "\n",
              "    .dataframe thead th {\n",
              "        text-align: right;\n",
              "    }\n",
              "</style>\n",
              "<table border=\"1\" class=\"dataframe\">\n",
              "  <thead>\n",
              "    <tr style=\"text-align: right;\">\n",
              "      <th></th>\n",
              "      <th>yeartype</th>\n",
              "      <th>torque</th>\n",
              "      <th>type</th>\n",
              "      <th>mission</th>\n",
              "      <th>country</th>\n",
              "      <th>newprice</th>\n",
              "      <th>price</th>\n",
              "      <th>dist</th>\n",
              "      <th>power</th>\n",
              "      <th>cylinder_3.0</th>\n",
              "      <th>cylinder_4.0</th>\n",
              "      <th>cylinder_5.0</th>\n",
              "      <th>cylinder_6.0</th>\n",
              "      <th>cylinder_8.0</th>\n",
              "    </tr>\n",
              "  </thead>\n",
              "  <tbody>\n",
              "    <tr>\n",
              "      <th>0</th>\n",
              "      <td>2013.0</td>\n",
              "      <td>25.5</td>\n",
              "      <td>FF</td>\n",
              "      <td>NaN</td>\n",
              "      <td>국산</td>\n",
              "      <td>3141.0</td>\n",
              "      <td>7.534228</td>\n",
              "      <td>40000.0</td>\n",
              "      <td>201.0</td>\n",
              "      <td>0</td>\n",
              "      <td>1</td>\n",
              "      <td>0</td>\n",
              "      <td>0</td>\n",
              "      <td>0</td>\n",
              "    </tr>\n",
              "    <tr>\n",
              "      <th>1</th>\n",
              "      <td>2010.0</td>\n",
              "      <td>20.0</td>\n",
              "      <td>FF</td>\n",
              "      <td>NaN</td>\n",
              "      <td>국산</td>\n",
              "      <td>NaN</td>\n",
              "      <td>6.552508</td>\n",
              "      <td>90000.0</td>\n",
              "      <td>157.0</td>\n",
              "      <td>0</td>\n",
              "      <td>1</td>\n",
              "      <td>0</td>\n",
              "      <td>0</td>\n",
              "      <td>0</td>\n",
              "    </tr>\n",
              "    <tr>\n",
              "      <th>2</th>\n",
              "      <td>2015.0</td>\n",
              "      <td>45.0</td>\n",
              "      <td>FF</td>\n",
              "      <td>NaN</td>\n",
              "      <td>국산</td>\n",
              "      <td>3389.0</td>\n",
              "      <td>8.003363</td>\n",
              "      <td>30000.0</td>\n",
              "      <td>202.0</td>\n",
              "      <td>0</td>\n",
              "      <td>1</td>\n",
              "      <td>0</td>\n",
              "      <td>0</td>\n",
              "      <td>0</td>\n",
              "    </tr>\n",
              "    <tr>\n",
              "      <th>3</th>\n",
              "      <td>2008.0</td>\n",
              "      <td>33.8</td>\n",
              "      <td>FR</td>\n",
              "      <td>NaN</td>\n",
              "      <td>국산</td>\n",
              "      <td>2499.0</td>\n",
              "      <td>6.042633</td>\n",
              "      <td>160000.0</td>\n",
              "      <td>151.0</td>\n",
              "      <td>0</td>\n",
              "      <td>1</td>\n",
              "      <td>0</td>\n",
              "      <td>0</td>\n",
              "      <td>0</td>\n",
              "    </tr>\n",
              "    <tr>\n",
              "      <th>4</th>\n",
              "      <td>2004.0</td>\n",
              "      <td>24.0</td>\n",
              "      <td>FR</td>\n",
              "      <td>수동</td>\n",
              "      <td>국산</td>\n",
              "      <td>1445.0</td>\n",
              "      <td>6.111467</td>\n",
              "      <td>160000.0</td>\n",
              "      <td>103.0</td>\n",
              "      <td>1</td>\n",
              "      <td>0</td>\n",
              "      <td>0</td>\n",
              "      <td>0</td>\n",
              "      <td>0</td>\n",
              "    </tr>\n",
              "  </tbody>\n",
              "</table>\n",
              "</div>"
            ],
            "text/plain": [
              "   yeartype  torque type  ... cylinder_5.0 cylinder_6.0  cylinder_8.0\n",
              "0    2013.0    25.5   FF  ...            0            0             0\n",
              "1    2010.0    20.0   FF  ...            0            0             0\n",
              "2    2015.0    45.0   FF  ...            0            0             0\n",
              "3    2008.0    33.8   FR  ...            0            0             0\n",
              "4    2004.0    24.0   FR  ...            0            0             0\n",
              "\n",
              "[5 rows x 14 columns]"
            ]
          },
          "metadata": {
            "tags": []
          },
          "execution_count": 552
        }
      ]
    },
    {
      "cell_type": "markdown",
      "metadata": {
        "id": "3rToVq0z6a8J"
      },
      "source": [
        "# 9 최대토크(kgm) torque 10545 non-null float64\n",
        "\n",
        "- 결측치 냅두자"
      ]
    },
    {
      "cell_type": "code",
      "metadata": {
        "id": "AOfpotCp6a8K",
        "outputId": "aa18629c-c705-430a-9d57-f3c51afcc974",
        "colab": {
          "base_uri": "https://localhost:8080/"
        }
      },
      "source": [
        "train_torque = train['torque']\n",
        "test_torque = test['torque']\n",
        "\n",
        "train_torque"
      ],
      "execution_count": 553,
      "outputs": [
        {
          "output_type": "execute_result",
          "data": {
            "text/plain": [
              "0        25.5\n",
              "1        20.0\n",
              "2        45.0\n",
              "3        33.8\n",
              "4        24.0\n",
              "         ... \n",
              "11763    53.0\n",
              "11765     NaN\n",
              "11766    52.0\n",
              "11767    53.0\n",
              "11768    53.0\n",
              "Name: torque, Length: 11619, dtype: float64"
            ]
          },
          "metadata": {
            "tags": []
          },
          "execution_count": 553
        }
      ]
    },
    {
      "cell_type": "code",
      "metadata": {
        "id": "aYHEOdfN6a8N",
        "outputId": "ac7a186c-36d4-4d4a-b2c5-3039eddcd7d4",
        "colab": {
          "base_uri": "https://localhost:8080/"
        }
      },
      "source": [
        "train_torque.isna().sum()"
      ],
      "execution_count": 554,
      "outputs": [
        {
          "output_type": "execute_result",
          "data": {
            "text/plain": [
              "1221"
            ]
          },
          "metadata": {
            "tags": []
          },
          "execution_count": 554
        }
      ]
    },
    {
      "cell_type": "code",
      "metadata": {
        "id": "UFuvH_Y06a8T"
      },
      "source": [
        "train = train.drop(['torque'], axis=1)\n",
        "test = test.drop(['torque'], axis=1)\n",
        "\n",
        "train = train.join(train_torque)\n",
        "test = test.join(test_torque)"
      ],
      "execution_count": 555,
      "outputs": []
    },
    {
      "cell_type": "code",
      "metadata": {
        "id": "1HqN1iup6a8X",
        "outputId": "3840a7c3-c07b-4510-91f7-8b821ef4ad6a",
        "colab": {
          "base_uri": "https://localhost:8080/",
          "height": 202
        }
      },
      "source": [
        "train.head()"
      ],
      "execution_count": 556,
      "outputs": [
        {
          "output_type": "execute_result",
          "data": {
            "text/html": [
              "<div>\n",
              "<style scoped>\n",
              "    .dataframe tbody tr th:only-of-type {\n",
              "        vertical-align: middle;\n",
              "    }\n",
              "\n",
              "    .dataframe tbody tr th {\n",
              "        vertical-align: top;\n",
              "    }\n",
              "\n",
              "    .dataframe thead th {\n",
              "        text-align: right;\n",
              "    }\n",
              "</style>\n",
              "<table border=\"1\" class=\"dataframe\">\n",
              "  <thead>\n",
              "    <tr style=\"text-align: right;\">\n",
              "      <th></th>\n",
              "      <th>yeartype</th>\n",
              "      <th>type</th>\n",
              "      <th>mission</th>\n",
              "      <th>country</th>\n",
              "      <th>newprice</th>\n",
              "      <th>price</th>\n",
              "      <th>dist</th>\n",
              "      <th>power</th>\n",
              "      <th>cylinder_3.0</th>\n",
              "      <th>cylinder_4.0</th>\n",
              "      <th>cylinder_5.0</th>\n",
              "      <th>cylinder_6.0</th>\n",
              "      <th>cylinder_8.0</th>\n",
              "      <th>torque</th>\n",
              "    </tr>\n",
              "  </thead>\n",
              "  <tbody>\n",
              "    <tr>\n",
              "      <th>0</th>\n",
              "      <td>2013.0</td>\n",
              "      <td>FF</td>\n",
              "      <td>NaN</td>\n",
              "      <td>국산</td>\n",
              "      <td>3141.0</td>\n",
              "      <td>7.534228</td>\n",
              "      <td>40000.0</td>\n",
              "      <td>201.0</td>\n",
              "      <td>0</td>\n",
              "      <td>1</td>\n",
              "      <td>0</td>\n",
              "      <td>0</td>\n",
              "      <td>0</td>\n",
              "      <td>25.5</td>\n",
              "    </tr>\n",
              "    <tr>\n",
              "      <th>1</th>\n",
              "      <td>2010.0</td>\n",
              "      <td>FF</td>\n",
              "      <td>NaN</td>\n",
              "      <td>국산</td>\n",
              "      <td>NaN</td>\n",
              "      <td>6.552508</td>\n",
              "      <td>90000.0</td>\n",
              "      <td>157.0</td>\n",
              "      <td>0</td>\n",
              "      <td>1</td>\n",
              "      <td>0</td>\n",
              "      <td>0</td>\n",
              "      <td>0</td>\n",
              "      <td>20.0</td>\n",
              "    </tr>\n",
              "    <tr>\n",
              "      <th>2</th>\n",
              "      <td>2015.0</td>\n",
              "      <td>FF</td>\n",
              "      <td>NaN</td>\n",
              "      <td>국산</td>\n",
              "      <td>3389.0</td>\n",
              "      <td>8.003363</td>\n",
              "      <td>30000.0</td>\n",
              "      <td>202.0</td>\n",
              "      <td>0</td>\n",
              "      <td>1</td>\n",
              "      <td>0</td>\n",
              "      <td>0</td>\n",
              "      <td>0</td>\n",
              "      <td>45.0</td>\n",
              "    </tr>\n",
              "    <tr>\n",
              "      <th>3</th>\n",
              "      <td>2008.0</td>\n",
              "      <td>FR</td>\n",
              "      <td>NaN</td>\n",
              "      <td>국산</td>\n",
              "      <td>2499.0</td>\n",
              "      <td>6.042633</td>\n",
              "      <td>160000.0</td>\n",
              "      <td>151.0</td>\n",
              "      <td>0</td>\n",
              "      <td>1</td>\n",
              "      <td>0</td>\n",
              "      <td>0</td>\n",
              "      <td>0</td>\n",
              "      <td>33.8</td>\n",
              "    </tr>\n",
              "    <tr>\n",
              "      <th>4</th>\n",
              "      <td>2004.0</td>\n",
              "      <td>FR</td>\n",
              "      <td>수동</td>\n",
              "      <td>국산</td>\n",
              "      <td>1445.0</td>\n",
              "      <td>6.111467</td>\n",
              "      <td>160000.0</td>\n",
              "      <td>103.0</td>\n",
              "      <td>1</td>\n",
              "      <td>0</td>\n",
              "      <td>0</td>\n",
              "      <td>0</td>\n",
              "      <td>0</td>\n",
              "      <td>24.0</td>\n",
              "    </tr>\n",
              "  </tbody>\n",
              "</table>\n",
              "</div>"
            ],
            "text/plain": [
              "   yeartype type mission  ... cylinder_6.0  cylinder_8.0  torque\n",
              "0    2013.0   FF     NaN  ...            0             0    25.5\n",
              "1    2010.0   FF     NaN  ...            0             0    20.0\n",
              "2    2015.0   FF     NaN  ...            0             0    45.0\n",
              "3    2008.0   FR     NaN  ...            0             0    33.8\n",
              "4    2004.0   FR      수동  ...            0             0    24.0\n",
              "\n",
              "[5 rows x 14 columns]"
            ]
          },
          "metadata": {
            "tags": []
          },
          "execution_count": 556
        }
      ]
    },
    {
      "cell_type": "markdown",
      "metadata": {
        "id": "rGRYlFGo6a8b"
      },
      "source": [
        "# 10 구동방식 type 10808 non-null object\n",
        "\n",
        "- 제일 많은 걸로 결측치 채우고 dummies 만들어서 쓰자\n",
        "- train에 3개 있는 RR은 데이터 자체를 없애버리자"
      ]
    },
    {
      "cell_type": "code",
      "metadata": {
        "id": "wWQULWvN6a8b"
      },
      "source": [
        "train = train.drop(train[train['type'] == 'RR'].index)"
      ],
      "execution_count": 557,
      "outputs": []
    },
    {
      "cell_type": "code",
      "metadata": {
        "id": "eQxg_s8j6a8g"
      },
      "source": [
        "train_type = train['type']\n",
        "test_type = test['type']"
      ],
      "execution_count": 558,
      "outputs": []
    },
    {
      "cell_type": "code",
      "metadata": {
        "id": "pMhATzG-6a8k",
        "outputId": "9c10c2b6-5e5b-4491-83c7-0b04771e2bc8",
        "colab": {
          "base_uri": "https://localhost:8080/"
        }
      },
      "source": [
        "print(train_type.value_counts())\n",
        "print()\n",
        "print(test_type.value_counts())"
      ],
      "execution_count": 559,
      "outputs": [
        {
          "output_type": "stream",
          "text": [
            "FF     7243\n",
            "FR     2298\n",
            "4WD     672\n",
            "AWD     429\n",
            "MR       13\n",
            "Name: type, dtype: int64\n",
            "\n",
            "FF     3655\n",
            "FR     1074\n",
            "4WD     352\n",
            "AWD     222\n",
            "MR        9\n",
            "Name: type, dtype: int64\n"
          ],
          "name": "stdout"
        }
      ]
    },
    {
      "cell_type": "code",
      "metadata": {
        "id": "_GneA7oT6a8r"
      },
      "source": [
        "import random\n",
        "random.seed(42)\n",
        "\n",
        "tmp = ['FF', 'FR', '4WD', 'AWD', 'MR']\n",
        "\n",
        "for i, j in enumerate(train_type):\n",
        "  if not (j in tmp):\n",
        "    draw = random.choices(\n",
        "      population=['4WD', 'AWD', 'FF', 'FR', 'MR'],\n",
        "      weights=[0.058458662588155325,\n",
        "               0.03840598181663693,\n",
        "               0.6230775766845101,\n",
        "               0.19704307927606424,\n",
        "               0.0011045968221599116],\n",
        "      k=1)\n",
        "    \n",
        "    train_type[i] = draw[0]\n",
        "\n",
        "for i, j in enumerate(test_type):\n",
        "  if not (j in tmp):\n",
        "    draw = random.choices(\n",
        "      population=['4WD', 'AWD', 'FF', 'FR', 'MR'],\n",
        "      weights=[0.029909083184637607,\n",
        "               0.01886311496303849,\n",
        "               0.31056164499957517,\n",
        "               0.0912566913076727,\n",
        "               0.0007647208768799389],\n",
        "      k=1)\n",
        "    \n",
        "    test_type[i] = draw[0]"
      ],
      "execution_count": 560,
      "outputs": []
    },
    {
      "cell_type": "code",
      "metadata": {
        "id": "bNkV2kiW6a8u",
        "outputId": "e4a244b7-525b-48cd-9e2b-fc0996283a0f",
        "colab": {
          "base_uri": "https://localhost:8080/"
        }
      },
      "source": [
        "train_type.isna().sum()"
      ],
      "execution_count": 561,
      "outputs": [
        {
          "output_type": "execute_result",
          "data": {
            "text/plain": [
              "889"
            ]
          },
          "metadata": {
            "tags": []
          },
          "execution_count": 561
        }
      ]
    },
    {
      "cell_type": "code",
      "metadata": {
        "id": "4TSSv_qH6a8w"
      },
      "source": [
        "train_type_dummies = pd.get_dummies(train_type)\n",
        "test_type_dummies = pd.get_dummies(test_type)\n",
        "\n",
        "train_type_dummies = train_type_dummies.add_prefix('type_')\n",
        "test_type_dummies = test_type_dummies.add_prefix('type_')\n",
        "\n",
        "\n",
        "train = train.join(train_type_dummies)\n",
        "test = test.join(test_type_dummies)\n",
        "\n",
        "train = train.drop(['type'], axis=1)\n",
        "test = test.drop(['type'], axis=1)\n",
        "\n",
        "## train = train.join(train_type)\n",
        "## test = test.join(test_type)"
      ],
      "execution_count": 562,
      "outputs": []
    },
    {
      "cell_type": "code",
      "metadata": {
        "id": "1wsXRBdU6a8z",
        "outputId": "193d9ce9-bc70-4916-eeb8-449ac8a50561",
        "colab": {
          "base_uri": "https://localhost:8080/",
          "height": 222
        }
      },
      "source": [
        "train.head()"
      ],
      "execution_count": 563,
      "outputs": [
        {
          "output_type": "execute_result",
          "data": {
            "text/html": [
              "<div>\n",
              "<style scoped>\n",
              "    .dataframe tbody tr th:only-of-type {\n",
              "        vertical-align: middle;\n",
              "    }\n",
              "\n",
              "    .dataframe tbody tr th {\n",
              "        vertical-align: top;\n",
              "    }\n",
              "\n",
              "    .dataframe thead th {\n",
              "        text-align: right;\n",
              "    }\n",
              "</style>\n",
              "<table border=\"1\" class=\"dataframe\">\n",
              "  <thead>\n",
              "    <tr style=\"text-align: right;\">\n",
              "      <th></th>\n",
              "      <th>yeartype</th>\n",
              "      <th>mission</th>\n",
              "      <th>country</th>\n",
              "      <th>newprice</th>\n",
              "      <th>price</th>\n",
              "      <th>dist</th>\n",
              "      <th>power</th>\n",
              "      <th>cylinder_3.0</th>\n",
              "      <th>cylinder_4.0</th>\n",
              "      <th>cylinder_5.0</th>\n",
              "      <th>cylinder_6.0</th>\n",
              "      <th>cylinder_8.0</th>\n",
              "      <th>torque</th>\n",
              "      <th>type_4WD</th>\n",
              "      <th>type_AWD</th>\n",
              "      <th>type_FF</th>\n",
              "      <th>type_FR</th>\n",
              "      <th>type_MR</th>\n",
              "    </tr>\n",
              "  </thead>\n",
              "  <tbody>\n",
              "    <tr>\n",
              "      <th>0</th>\n",
              "      <td>2013.0</td>\n",
              "      <td>NaN</td>\n",
              "      <td>국산</td>\n",
              "      <td>3141.0</td>\n",
              "      <td>7.534228</td>\n",
              "      <td>40000.0</td>\n",
              "      <td>201.0</td>\n",
              "      <td>0</td>\n",
              "      <td>1</td>\n",
              "      <td>0</td>\n",
              "      <td>0</td>\n",
              "      <td>0</td>\n",
              "      <td>25.5</td>\n",
              "      <td>0</td>\n",
              "      <td>0</td>\n",
              "      <td>1</td>\n",
              "      <td>0</td>\n",
              "      <td>0</td>\n",
              "    </tr>\n",
              "    <tr>\n",
              "      <th>1</th>\n",
              "      <td>2010.0</td>\n",
              "      <td>NaN</td>\n",
              "      <td>국산</td>\n",
              "      <td>NaN</td>\n",
              "      <td>6.552508</td>\n",
              "      <td>90000.0</td>\n",
              "      <td>157.0</td>\n",
              "      <td>0</td>\n",
              "      <td>1</td>\n",
              "      <td>0</td>\n",
              "      <td>0</td>\n",
              "      <td>0</td>\n",
              "      <td>20.0</td>\n",
              "      <td>0</td>\n",
              "      <td>0</td>\n",
              "      <td>1</td>\n",
              "      <td>0</td>\n",
              "      <td>0</td>\n",
              "    </tr>\n",
              "    <tr>\n",
              "      <th>2</th>\n",
              "      <td>2015.0</td>\n",
              "      <td>NaN</td>\n",
              "      <td>국산</td>\n",
              "      <td>3389.0</td>\n",
              "      <td>8.003363</td>\n",
              "      <td>30000.0</td>\n",
              "      <td>202.0</td>\n",
              "      <td>0</td>\n",
              "      <td>1</td>\n",
              "      <td>0</td>\n",
              "      <td>0</td>\n",
              "      <td>0</td>\n",
              "      <td>45.0</td>\n",
              "      <td>0</td>\n",
              "      <td>0</td>\n",
              "      <td>1</td>\n",
              "      <td>0</td>\n",
              "      <td>0</td>\n",
              "    </tr>\n",
              "    <tr>\n",
              "      <th>3</th>\n",
              "      <td>2008.0</td>\n",
              "      <td>NaN</td>\n",
              "      <td>국산</td>\n",
              "      <td>2499.0</td>\n",
              "      <td>6.042633</td>\n",
              "      <td>160000.0</td>\n",
              "      <td>151.0</td>\n",
              "      <td>0</td>\n",
              "      <td>1</td>\n",
              "      <td>0</td>\n",
              "      <td>0</td>\n",
              "      <td>0</td>\n",
              "      <td>33.8</td>\n",
              "      <td>0</td>\n",
              "      <td>0</td>\n",
              "      <td>0</td>\n",
              "      <td>1</td>\n",
              "      <td>0</td>\n",
              "    </tr>\n",
              "    <tr>\n",
              "      <th>4</th>\n",
              "      <td>2004.0</td>\n",
              "      <td>수동</td>\n",
              "      <td>국산</td>\n",
              "      <td>1445.0</td>\n",
              "      <td>6.111467</td>\n",
              "      <td>160000.0</td>\n",
              "      <td>103.0</td>\n",
              "      <td>1</td>\n",
              "      <td>0</td>\n",
              "      <td>0</td>\n",
              "      <td>0</td>\n",
              "      <td>0</td>\n",
              "      <td>24.0</td>\n",
              "      <td>0</td>\n",
              "      <td>0</td>\n",
              "      <td>0</td>\n",
              "      <td>1</td>\n",
              "      <td>0</td>\n",
              "    </tr>\n",
              "  </tbody>\n",
              "</table>\n",
              "</div>"
            ],
            "text/plain": [
              "   yeartype mission country  newprice  ...  type_AWD  type_FF  type_FR  type_MR\n",
              "0    2013.0     NaN      국산    3141.0  ...         0        1        0        0\n",
              "1    2010.0     NaN      국산       NaN  ...         0        1        0        0\n",
              "2    2015.0     NaN      국산    3389.0  ...         0        1        0        0\n",
              "3    2008.0     NaN      국산    2499.0  ...         0        0        1        0\n",
              "4    2004.0      수동      국산    1445.0  ...         0        0        1        0\n",
              "\n",
              "[5 rows x 18 columns]"
            ]
          },
          "metadata": {
            "tags": []
          },
          "execution_count": 563
        }
      ]
    },
    {
      "cell_type": "markdown",
      "metadata": {
        "id": "ou2JIwKA6a83"
      },
      "source": [
        "# 11 자동수동 mission 1313 non-null object\n",
        "\n",
        "- 드랍하자"
      ]
    },
    {
      "cell_type": "code",
      "metadata": {
        "id": "413CkYLz6a83"
      },
      "source": [
        "train_mission = train['mission']\n",
        "test_mission = test['mission']"
      ],
      "execution_count": 564,
      "outputs": []
    },
    {
      "cell_type": "code",
      "metadata": {
        "id": "MQNLqq8-ToZ3"
      },
      "source": [
        "train_mission = train_mission.fillna('자동')\n",
        "test_mission = test_mission.fillna('자동')"
      ],
      "execution_count": 565,
      "outputs": []
    },
    {
      "cell_type": "code",
      "metadata": {
        "id": "PS7_fnfV6a89"
      },
      "source": [
        "train_mission_dummies = pd.get_dummies(train_mission)\n",
        "test_mission_dummies = pd.get_dummies(test_mission)\n",
        "\n",
        "train_mission_dummies = train_mission_dummies.add_prefix('mission_')\n",
        "test_mission_dummies = test_mission_dummies.add_prefix('mission_')\n",
        "\n",
        "train = train.drop(['mission'], axis=1)\n",
        "test = test.drop(['mission'], axis=1)\n",
        "\n",
        "train = train.join(train_mission_dummies)\n",
        "test = test.join(test_mission_dummies)"
      ],
      "execution_count": 566,
      "outputs": []
    },
    {
      "cell_type": "code",
      "metadata": {
        "id": "hONm2bO56a8_",
        "outputId": "b74ae0da-d0ec-482b-ae6e-99991f93c920",
        "colab": {
          "base_uri": "https://localhost:8080/",
          "height": 239
        }
      },
      "source": [
        "train.head()"
      ],
      "execution_count": 567,
      "outputs": [
        {
          "output_type": "execute_result",
          "data": {
            "text/html": [
              "<div>\n",
              "<style scoped>\n",
              "    .dataframe tbody tr th:only-of-type {\n",
              "        vertical-align: middle;\n",
              "    }\n",
              "\n",
              "    .dataframe tbody tr th {\n",
              "        vertical-align: top;\n",
              "    }\n",
              "\n",
              "    .dataframe thead th {\n",
              "        text-align: right;\n",
              "    }\n",
              "</style>\n",
              "<table border=\"1\" class=\"dataframe\">\n",
              "  <thead>\n",
              "    <tr style=\"text-align: right;\">\n",
              "      <th></th>\n",
              "      <th>yeartype</th>\n",
              "      <th>country</th>\n",
              "      <th>newprice</th>\n",
              "      <th>price</th>\n",
              "      <th>dist</th>\n",
              "      <th>power</th>\n",
              "      <th>cylinder_3.0</th>\n",
              "      <th>cylinder_4.0</th>\n",
              "      <th>cylinder_5.0</th>\n",
              "      <th>cylinder_6.0</th>\n",
              "      <th>cylinder_8.0</th>\n",
              "      <th>torque</th>\n",
              "      <th>type_4WD</th>\n",
              "      <th>type_AWD</th>\n",
              "      <th>type_FF</th>\n",
              "      <th>type_FR</th>\n",
              "      <th>type_MR</th>\n",
              "      <th>mission_수동</th>\n",
              "      <th>mission_자동</th>\n",
              "    </tr>\n",
              "  </thead>\n",
              "  <tbody>\n",
              "    <tr>\n",
              "      <th>0</th>\n",
              "      <td>2013.0</td>\n",
              "      <td>국산</td>\n",
              "      <td>3141.0</td>\n",
              "      <td>7.534228</td>\n",
              "      <td>40000.0</td>\n",
              "      <td>201.0</td>\n",
              "      <td>0</td>\n",
              "      <td>1</td>\n",
              "      <td>0</td>\n",
              "      <td>0</td>\n",
              "      <td>0</td>\n",
              "      <td>25.5</td>\n",
              "      <td>0</td>\n",
              "      <td>0</td>\n",
              "      <td>1</td>\n",
              "      <td>0</td>\n",
              "      <td>0</td>\n",
              "      <td>0</td>\n",
              "      <td>1</td>\n",
              "    </tr>\n",
              "    <tr>\n",
              "      <th>1</th>\n",
              "      <td>2010.0</td>\n",
              "      <td>국산</td>\n",
              "      <td>NaN</td>\n",
              "      <td>6.552508</td>\n",
              "      <td>90000.0</td>\n",
              "      <td>157.0</td>\n",
              "      <td>0</td>\n",
              "      <td>1</td>\n",
              "      <td>0</td>\n",
              "      <td>0</td>\n",
              "      <td>0</td>\n",
              "      <td>20.0</td>\n",
              "      <td>0</td>\n",
              "      <td>0</td>\n",
              "      <td>1</td>\n",
              "      <td>0</td>\n",
              "      <td>0</td>\n",
              "      <td>0</td>\n",
              "      <td>1</td>\n",
              "    </tr>\n",
              "    <tr>\n",
              "      <th>2</th>\n",
              "      <td>2015.0</td>\n",
              "      <td>국산</td>\n",
              "      <td>3389.0</td>\n",
              "      <td>8.003363</td>\n",
              "      <td>30000.0</td>\n",
              "      <td>202.0</td>\n",
              "      <td>0</td>\n",
              "      <td>1</td>\n",
              "      <td>0</td>\n",
              "      <td>0</td>\n",
              "      <td>0</td>\n",
              "      <td>45.0</td>\n",
              "      <td>0</td>\n",
              "      <td>0</td>\n",
              "      <td>1</td>\n",
              "      <td>0</td>\n",
              "      <td>0</td>\n",
              "      <td>0</td>\n",
              "      <td>1</td>\n",
              "    </tr>\n",
              "    <tr>\n",
              "      <th>3</th>\n",
              "      <td>2008.0</td>\n",
              "      <td>국산</td>\n",
              "      <td>2499.0</td>\n",
              "      <td>6.042633</td>\n",
              "      <td>160000.0</td>\n",
              "      <td>151.0</td>\n",
              "      <td>0</td>\n",
              "      <td>1</td>\n",
              "      <td>0</td>\n",
              "      <td>0</td>\n",
              "      <td>0</td>\n",
              "      <td>33.8</td>\n",
              "      <td>0</td>\n",
              "      <td>0</td>\n",
              "      <td>0</td>\n",
              "      <td>1</td>\n",
              "      <td>0</td>\n",
              "      <td>0</td>\n",
              "      <td>1</td>\n",
              "    </tr>\n",
              "    <tr>\n",
              "      <th>4</th>\n",
              "      <td>2004.0</td>\n",
              "      <td>국산</td>\n",
              "      <td>1445.0</td>\n",
              "      <td>6.111467</td>\n",
              "      <td>160000.0</td>\n",
              "      <td>103.0</td>\n",
              "      <td>1</td>\n",
              "      <td>0</td>\n",
              "      <td>0</td>\n",
              "      <td>0</td>\n",
              "      <td>0</td>\n",
              "      <td>24.0</td>\n",
              "      <td>0</td>\n",
              "      <td>0</td>\n",
              "      <td>0</td>\n",
              "      <td>1</td>\n",
              "      <td>0</td>\n",
              "      <td>1</td>\n",
              "      <td>0</td>\n",
              "    </tr>\n",
              "  </tbody>\n",
              "</table>\n",
              "</div>"
            ],
            "text/plain": [
              "   yeartype country  newprice  ...  type_MR  mission_수동  mission_자동\n",
              "0    2013.0      국산    3141.0  ...        0           0           1\n",
              "1    2010.0      국산       NaN  ...        0           0           1\n",
              "2    2015.0      국산    3389.0  ...        0           0           1\n",
              "3    2008.0      국산    2499.0  ...        0           0           1\n",
              "4    2004.0      국산    1445.0  ...        0           1           0\n",
              "\n",
              "[5 rows x 19 columns]"
            ]
          },
          "metadata": {
            "tags": []
          },
          "execution_count": 567
        }
      ]
    },
    {
      "cell_type": "markdown",
      "metadata": {
        "id": "CyHTM7pi6a9B"
      },
      "source": [
        "# 12 국산/수입 country 11769 non-null object\n",
        "\n",
        "- 단순한 범주형 같다\n",
        "- 아니 근데 train이랑 test 다 국산밖에 없는데?\n",
        "- 드랍하자..."
      ]
    },
    {
      "cell_type": "code",
      "metadata": {
        "id": "2J6i7l1z6a9B"
      },
      "source": [
        "train = train.drop(['country'], axis=1)\n",
        "test = test.drop(['country'], axis=1)"
      ],
      "execution_count": 568,
      "outputs": []
    },
    {
      "cell_type": "code",
      "metadata": {
        "id": "e6r1_1wl6a9C",
        "outputId": "c602afb9-1fd0-4602-ef20-4473a6fe72ef",
        "colab": {
          "base_uri": "https://localhost:8080/",
          "height": 239
        }
      },
      "source": [
        "train.head()"
      ],
      "execution_count": 569,
      "outputs": [
        {
          "output_type": "execute_result",
          "data": {
            "text/html": [
              "<div>\n",
              "<style scoped>\n",
              "    .dataframe tbody tr th:only-of-type {\n",
              "        vertical-align: middle;\n",
              "    }\n",
              "\n",
              "    .dataframe tbody tr th {\n",
              "        vertical-align: top;\n",
              "    }\n",
              "\n",
              "    .dataframe thead th {\n",
              "        text-align: right;\n",
              "    }\n",
              "</style>\n",
              "<table border=\"1\" class=\"dataframe\">\n",
              "  <thead>\n",
              "    <tr style=\"text-align: right;\">\n",
              "      <th></th>\n",
              "      <th>yeartype</th>\n",
              "      <th>newprice</th>\n",
              "      <th>price</th>\n",
              "      <th>dist</th>\n",
              "      <th>power</th>\n",
              "      <th>cylinder_3.0</th>\n",
              "      <th>cylinder_4.0</th>\n",
              "      <th>cylinder_5.0</th>\n",
              "      <th>cylinder_6.0</th>\n",
              "      <th>cylinder_8.0</th>\n",
              "      <th>torque</th>\n",
              "      <th>type_4WD</th>\n",
              "      <th>type_AWD</th>\n",
              "      <th>type_FF</th>\n",
              "      <th>type_FR</th>\n",
              "      <th>type_MR</th>\n",
              "      <th>mission_수동</th>\n",
              "      <th>mission_자동</th>\n",
              "    </tr>\n",
              "  </thead>\n",
              "  <tbody>\n",
              "    <tr>\n",
              "      <th>0</th>\n",
              "      <td>2013.0</td>\n",
              "      <td>3141.0</td>\n",
              "      <td>7.534228</td>\n",
              "      <td>40000.0</td>\n",
              "      <td>201.0</td>\n",
              "      <td>0</td>\n",
              "      <td>1</td>\n",
              "      <td>0</td>\n",
              "      <td>0</td>\n",
              "      <td>0</td>\n",
              "      <td>25.5</td>\n",
              "      <td>0</td>\n",
              "      <td>0</td>\n",
              "      <td>1</td>\n",
              "      <td>0</td>\n",
              "      <td>0</td>\n",
              "      <td>0</td>\n",
              "      <td>1</td>\n",
              "    </tr>\n",
              "    <tr>\n",
              "      <th>1</th>\n",
              "      <td>2010.0</td>\n",
              "      <td>NaN</td>\n",
              "      <td>6.552508</td>\n",
              "      <td>90000.0</td>\n",
              "      <td>157.0</td>\n",
              "      <td>0</td>\n",
              "      <td>1</td>\n",
              "      <td>0</td>\n",
              "      <td>0</td>\n",
              "      <td>0</td>\n",
              "      <td>20.0</td>\n",
              "      <td>0</td>\n",
              "      <td>0</td>\n",
              "      <td>1</td>\n",
              "      <td>0</td>\n",
              "      <td>0</td>\n",
              "      <td>0</td>\n",
              "      <td>1</td>\n",
              "    </tr>\n",
              "    <tr>\n",
              "      <th>2</th>\n",
              "      <td>2015.0</td>\n",
              "      <td>3389.0</td>\n",
              "      <td>8.003363</td>\n",
              "      <td>30000.0</td>\n",
              "      <td>202.0</td>\n",
              "      <td>0</td>\n",
              "      <td>1</td>\n",
              "      <td>0</td>\n",
              "      <td>0</td>\n",
              "      <td>0</td>\n",
              "      <td>45.0</td>\n",
              "      <td>0</td>\n",
              "      <td>0</td>\n",
              "      <td>1</td>\n",
              "      <td>0</td>\n",
              "      <td>0</td>\n",
              "      <td>0</td>\n",
              "      <td>1</td>\n",
              "    </tr>\n",
              "    <tr>\n",
              "      <th>3</th>\n",
              "      <td>2008.0</td>\n",
              "      <td>2499.0</td>\n",
              "      <td>6.042633</td>\n",
              "      <td>160000.0</td>\n",
              "      <td>151.0</td>\n",
              "      <td>0</td>\n",
              "      <td>1</td>\n",
              "      <td>0</td>\n",
              "      <td>0</td>\n",
              "      <td>0</td>\n",
              "      <td>33.8</td>\n",
              "      <td>0</td>\n",
              "      <td>0</td>\n",
              "      <td>0</td>\n",
              "      <td>1</td>\n",
              "      <td>0</td>\n",
              "      <td>0</td>\n",
              "      <td>1</td>\n",
              "    </tr>\n",
              "    <tr>\n",
              "      <th>4</th>\n",
              "      <td>2004.0</td>\n",
              "      <td>1445.0</td>\n",
              "      <td>6.111467</td>\n",
              "      <td>160000.0</td>\n",
              "      <td>103.0</td>\n",
              "      <td>1</td>\n",
              "      <td>0</td>\n",
              "      <td>0</td>\n",
              "      <td>0</td>\n",
              "      <td>0</td>\n",
              "      <td>24.0</td>\n",
              "      <td>0</td>\n",
              "      <td>0</td>\n",
              "      <td>0</td>\n",
              "      <td>1</td>\n",
              "      <td>0</td>\n",
              "      <td>1</td>\n",
              "      <td>0</td>\n",
              "    </tr>\n",
              "  </tbody>\n",
              "</table>\n",
              "</div>"
            ],
            "text/plain": [
              "   yeartype  newprice     price  ...  type_MR  mission_수동  mission_자동\n",
              "0    2013.0    3141.0  7.534228  ...        0           0           1\n",
              "1    2010.0       NaN  6.552508  ...        0           0           1\n",
              "2    2015.0    3389.0  8.003363  ...        0           0           1\n",
              "3    2008.0    2499.0  6.042633  ...        0           0           1\n",
              "4    2004.0    1445.0  6.111467  ...        0           1           0\n",
              "\n",
              "[5 rows x 18 columns]"
            ]
          },
          "metadata": {
            "tags": []
          },
          "execution_count": 569
        }
      ]
    },
    {
      "cell_type": "markdown",
      "metadata": {
        "id": "IqeUBQcW6a9E"
      },
      "source": [
        "# 13 신차가(만원) newprice 9544 non-null float64\n",
        "\n",
        "- 일단 드랍\n"
      ]
    },
    {
      "cell_type": "code",
      "metadata": {
        "id": "oo_3gP8m6a9E"
      },
      "source": [
        "train = train.drop(['newprice'], axis=1)"
      ],
      "execution_count": 570,
      "outputs": []
    },
    {
      "cell_type": "code",
      "metadata": {
        "id": "fvt-Uzkm6a9G",
        "outputId": "0a90b6ec-3054-4b7c-f649-2837d386a241",
        "colab": {
          "base_uri": "https://localhost:8080/",
          "height": 239
        }
      },
      "source": [
        "train.head()"
      ],
      "execution_count": 571,
      "outputs": [
        {
          "output_type": "execute_result",
          "data": {
            "text/html": [
              "<div>\n",
              "<style scoped>\n",
              "    .dataframe tbody tr th:only-of-type {\n",
              "        vertical-align: middle;\n",
              "    }\n",
              "\n",
              "    .dataframe tbody tr th {\n",
              "        vertical-align: top;\n",
              "    }\n",
              "\n",
              "    .dataframe thead th {\n",
              "        text-align: right;\n",
              "    }\n",
              "</style>\n",
              "<table border=\"1\" class=\"dataframe\">\n",
              "  <thead>\n",
              "    <tr style=\"text-align: right;\">\n",
              "      <th></th>\n",
              "      <th>yeartype</th>\n",
              "      <th>price</th>\n",
              "      <th>dist</th>\n",
              "      <th>power</th>\n",
              "      <th>cylinder_3.0</th>\n",
              "      <th>cylinder_4.0</th>\n",
              "      <th>cylinder_5.0</th>\n",
              "      <th>cylinder_6.0</th>\n",
              "      <th>cylinder_8.0</th>\n",
              "      <th>torque</th>\n",
              "      <th>type_4WD</th>\n",
              "      <th>type_AWD</th>\n",
              "      <th>type_FF</th>\n",
              "      <th>type_FR</th>\n",
              "      <th>type_MR</th>\n",
              "      <th>mission_수동</th>\n",
              "      <th>mission_자동</th>\n",
              "    </tr>\n",
              "  </thead>\n",
              "  <tbody>\n",
              "    <tr>\n",
              "      <th>0</th>\n",
              "      <td>2013.0</td>\n",
              "      <td>7.534228</td>\n",
              "      <td>40000.0</td>\n",
              "      <td>201.0</td>\n",
              "      <td>0</td>\n",
              "      <td>1</td>\n",
              "      <td>0</td>\n",
              "      <td>0</td>\n",
              "      <td>0</td>\n",
              "      <td>25.5</td>\n",
              "      <td>0</td>\n",
              "      <td>0</td>\n",
              "      <td>1</td>\n",
              "      <td>0</td>\n",
              "      <td>0</td>\n",
              "      <td>0</td>\n",
              "      <td>1</td>\n",
              "    </tr>\n",
              "    <tr>\n",
              "      <th>1</th>\n",
              "      <td>2010.0</td>\n",
              "      <td>6.552508</td>\n",
              "      <td>90000.0</td>\n",
              "      <td>157.0</td>\n",
              "      <td>0</td>\n",
              "      <td>1</td>\n",
              "      <td>0</td>\n",
              "      <td>0</td>\n",
              "      <td>0</td>\n",
              "      <td>20.0</td>\n",
              "      <td>0</td>\n",
              "      <td>0</td>\n",
              "      <td>1</td>\n",
              "      <td>0</td>\n",
              "      <td>0</td>\n",
              "      <td>0</td>\n",
              "      <td>1</td>\n",
              "    </tr>\n",
              "    <tr>\n",
              "      <th>2</th>\n",
              "      <td>2015.0</td>\n",
              "      <td>8.003363</td>\n",
              "      <td>30000.0</td>\n",
              "      <td>202.0</td>\n",
              "      <td>0</td>\n",
              "      <td>1</td>\n",
              "      <td>0</td>\n",
              "      <td>0</td>\n",
              "      <td>0</td>\n",
              "      <td>45.0</td>\n",
              "      <td>0</td>\n",
              "      <td>0</td>\n",
              "      <td>1</td>\n",
              "      <td>0</td>\n",
              "      <td>0</td>\n",
              "      <td>0</td>\n",
              "      <td>1</td>\n",
              "    </tr>\n",
              "    <tr>\n",
              "      <th>3</th>\n",
              "      <td>2008.0</td>\n",
              "      <td>6.042633</td>\n",
              "      <td>160000.0</td>\n",
              "      <td>151.0</td>\n",
              "      <td>0</td>\n",
              "      <td>1</td>\n",
              "      <td>0</td>\n",
              "      <td>0</td>\n",
              "      <td>0</td>\n",
              "      <td>33.8</td>\n",
              "      <td>0</td>\n",
              "      <td>0</td>\n",
              "      <td>0</td>\n",
              "      <td>1</td>\n",
              "      <td>0</td>\n",
              "      <td>0</td>\n",
              "      <td>1</td>\n",
              "    </tr>\n",
              "    <tr>\n",
              "      <th>4</th>\n",
              "      <td>2004.0</td>\n",
              "      <td>6.111467</td>\n",
              "      <td>160000.0</td>\n",
              "      <td>103.0</td>\n",
              "      <td>1</td>\n",
              "      <td>0</td>\n",
              "      <td>0</td>\n",
              "      <td>0</td>\n",
              "      <td>0</td>\n",
              "      <td>24.0</td>\n",
              "      <td>0</td>\n",
              "      <td>0</td>\n",
              "      <td>0</td>\n",
              "      <td>1</td>\n",
              "      <td>0</td>\n",
              "      <td>1</td>\n",
              "      <td>0</td>\n",
              "    </tr>\n",
              "  </tbody>\n",
              "</table>\n",
              "</div>"
            ],
            "text/plain": [
              "   yeartype     price      dist  ...  type_MR  mission_수동  mission_자동\n",
              "0    2013.0  7.534228   40000.0  ...        0           0           1\n",
              "1    2010.0  6.552508   90000.0  ...        0           0           1\n",
              "2    2015.0  8.003363   30000.0  ...        0           0           1\n",
              "3    2008.0  6.042633  160000.0  ...        0           0           1\n",
              "4    2004.0  6.111467  160000.0  ...        0           1           0\n",
              "\n",
              "[5 rows x 17 columns]"
            ]
          },
          "metadata": {
            "tags": []
          },
          "execution_count": 571
        }
      ]
    },
    {
      "cell_type": "markdown",
      "metadata": {
        "id": "hwJ5DWeW6a9I"
      },
      "source": [
        "# 14 가격(만원) price 11769 non-null float64\n",
        "\n",
        "- 이건 피쳐가 아니고 정답(레이블)"
      ]
    },
    {
      "cell_type": "markdown",
      "metadata": {
        "id": "rA0lGDlP6a9I"
      },
      "source": [
        "# 종합"
      ]
    },
    {
      "cell_type": "code",
      "metadata": {
        "id": "Xg0y9QJt6a9I",
        "outputId": "edb1e439-df56-436c-de19-9bb9a2a94081",
        "colab": {
          "base_uri": "https://localhost:8080/"
        }
      },
      "source": [
        "print(train.shape)\n",
        "print(test.shape)"
      ],
      "execution_count": 572,
      "outputs": [
        {
          "output_type": "stream",
          "text": [
            "(11616, 17)\n",
            "(5789, 16)\n"
          ],
          "name": "stdout"
        }
      ]
    },
    {
      "cell_type": "code",
      "metadata": {
        "id": "dqXRNmH5hVfJ",
        "outputId": "25ec2deb-cbb8-475b-809d-a3ca45a11593",
        "colab": {
          "base_uri": "https://localhost:8080/"
        }
      },
      "source": [
        "train.info()"
      ],
      "execution_count": 573,
      "outputs": [
        {
          "output_type": "stream",
          "text": [
            "<class 'pandas.core.frame.DataFrame'>\n",
            "Int64Index: 11616 entries, 0 to 11768\n",
            "Data columns (total 17 columns):\n",
            " #   Column        Non-Null Count  Dtype  \n",
            "---  ------        --------------  -----  \n",
            " 0   yeartype      11616 non-null  float64\n",
            " 1   price         11616 non-null  float64\n",
            " 2   dist          11587 non-null  float64\n",
            " 3   power         10502 non-null  float64\n",
            " 4   cylinder_3.0  11616 non-null  uint8  \n",
            " 5   cylinder_4.0  11616 non-null  uint8  \n",
            " 6   cylinder_5.0  11616 non-null  uint8  \n",
            " 7   cylinder_6.0  11616 non-null  uint8  \n",
            " 8   cylinder_8.0  11616 non-null  uint8  \n",
            " 9   torque        10395 non-null  float64\n",
            " 10  type_4WD      11616 non-null  uint8  \n",
            " 11  type_AWD      11616 non-null  uint8  \n",
            " 12  type_FF       11616 non-null  uint8  \n",
            " 13  type_FR       11616 non-null  uint8  \n",
            " 14  type_MR       11616 non-null  uint8  \n",
            " 15  mission_수동    11616 non-null  uint8  \n",
            " 16  mission_자동    11616 non-null  uint8  \n",
            "dtypes: float64(5), uint8(12)\n",
            "memory usage: 1000.6 KB\n"
          ],
          "name": "stdout"
        }
      ]
    },
    {
      "cell_type": "code",
      "metadata": {
        "id": "OG_zzc66hmER",
        "outputId": "c80e68ae-135a-44dc-9415-ec5a31c32a19",
        "colab": {
          "base_uri": "https://localhost:8080/"
        }
      },
      "source": [
        "test.info()"
      ],
      "execution_count": 574,
      "outputs": [
        {
          "output_type": "stream",
          "text": [
            "<class 'pandas.core.frame.DataFrame'>\n",
            "RangeIndex: 5789 entries, 0 to 5788\n",
            "Data columns (total 16 columns):\n",
            " #   Column        Non-Null Count  Dtype  \n",
            "---  ------        --------------  -----  \n",
            " 0   yeartype      5789 non-null   float64\n",
            " 1   dist          5778 non-null   float64\n",
            " 2   power         5237 non-null   float64\n",
            " 3   cylinder_3.0  5789 non-null   uint8  \n",
            " 4   cylinder_4.0  5789 non-null   uint8  \n",
            " 5   cylinder_5.0  5789 non-null   uint8  \n",
            " 6   cylinder_6.0  5789 non-null   uint8  \n",
            " 7   cylinder_8.0  5789 non-null   uint8  \n",
            " 8   torque        5183 non-null   float64\n",
            " 9   type_4WD      5789 non-null   uint8  \n",
            " 10  type_AWD      5789 non-null   uint8  \n",
            " 11  type_FF       5789 non-null   uint8  \n",
            " 12  type_FR       5789 non-null   uint8  \n",
            " 13  type_MR       5789 non-null   uint8  \n",
            " 14  mission_수동    5789 non-null   uint8  \n",
            " 15  mission_자동    5789 non-null   uint8  \n",
            "dtypes: float64(4), uint8(12)\n",
            "memory usage: 248.9 KB\n"
          ],
          "name": "stdout"
        }
      ]
    },
    {
      "cell_type": "markdown",
      "metadata": {
        "id": "GKXKTq7R6RXJ"
      },
      "source": [
        "# 결측치 채우기 - MissForest"
      ]
    },
    {
      "cell_type": "code",
      "metadata": {
        "id": "q_Ve8gu677_G",
        "outputId": "f039a57d-2cf4-4f90-b5ad-dab0763c6d27",
        "colab": {
          "base_uri": "https://localhost:8080/"
        }
      },
      "source": [
        "train.columns"
      ],
      "execution_count": 575,
      "outputs": [
        {
          "output_type": "execute_result",
          "data": {
            "text/plain": [
              "Index(['yeartype', 'price', 'dist', 'power', 'cylinder_3.0', 'cylinder_4.0',\n",
              "       'cylinder_5.0', 'cylinder_6.0', 'cylinder_8.0', 'torque', 'type_4WD',\n",
              "       'type_AWD', 'type_FF', 'type_FR', 'type_MR', 'mission_수동',\n",
              "       'mission_자동'],\n",
              "      dtype='object')"
            ]
          },
          "metadata": {
            "tags": []
          },
          "execution_count": 575
        }
      ]
    },
    {
      "cell_type": "code",
      "metadata": {
        "id": "i7teVrvh6RFi",
        "outputId": "a03f09f1-ff39-45d9-82e5-9d477b5c81ac",
        "colab": {
          "base_uri": "https://localhost:8080/"
        }
      },
      "source": [
        "train.isna().sum()"
      ],
      "execution_count": 576,
      "outputs": [
        {
          "output_type": "execute_result",
          "data": {
            "text/plain": [
              "yeartype           0\n",
              "price              0\n",
              "dist              29\n",
              "power           1114\n",
              "cylinder_3.0       0\n",
              "cylinder_4.0       0\n",
              "cylinder_5.0       0\n",
              "cylinder_6.0       0\n",
              "cylinder_8.0       0\n",
              "torque          1221\n",
              "type_4WD           0\n",
              "type_AWD           0\n",
              "type_FF            0\n",
              "type_FR            0\n",
              "type_MR            0\n",
              "mission_수동         0\n",
              "mission_자동         0\n",
              "dtype: int64"
            ]
          },
          "metadata": {
            "tags": []
          },
          "execution_count": 576
        }
      ]
    },
    {
      "cell_type": "code",
      "metadata": {
        "id": "93VY38h-8HRF",
        "outputId": "330f47c0-81cf-4d94-c987-9685810759d4",
        "colab": {
          "base_uri": "https://localhost:8080/"
        }
      },
      "source": [
        "test.isna().sum()"
      ],
      "execution_count": 577,
      "outputs": [
        {
          "output_type": "execute_result",
          "data": {
            "text/plain": [
              "yeartype          0\n",
              "dist             11\n",
              "power           552\n",
              "cylinder_3.0      0\n",
              "cylinder_4.0      0\n",
              "cylinder_5.0      0\n",
              "cylinder_6.0      0\n",
              "cylinder_8.0      0\n",
              "torque          606\n",
              "type_4WD          0\n",
              "type_AWD          0\n",
              "type_FF           0\n",
              "type_FR           0\n",
              "type_MR           0\n",
              "mission_수동        0\n",
              "mission_자동        0\n",
              "dtype: int64"
            ]
          },
          "metadata": {
            "tags": []
          },
          "execution_count": 577
        }
      ]
    },
    {
      "cell_type": "code",
      "metadata": {
        "id": "w2yJgLtpJp7K"
      },
      "source": [
        "train_cols = train.columns.tolist()\n",
        "test_cols = test.columns.tolist()"
      ],
      "execution_count": 578,
      "outputs": []
    },
    {
      "cell_type": "code",
      "metadata": {
        "id": "Dw7UeVIa88Ak",
        "outputId": "c529e4c8-63b0-496b-cc81-85d49d5cc82f",
        "colab": {
          "base_uri": "https://localhost:8080/"
        }
      },
      "source": [
        "imputer = MissForest(random_state=42)\n",
        "\n",
        "train_imputed = imputer.fit_transform(train)\n",
        "test_imputed = imputer.fit_transform(test)"
      ],
      "execution_count": 579,
      "outputs": [
        {
          "output_type": "stream",
          "text": [
            "Iteration: 0\n",
            "Iteration: 1\n",
            "Iteration: 2\n",
            "Iteration: 3\n",
            "Iteration: 0\n",
            "Iteration: 1\n",
            "Iteration: 2\n"
          ],
          "name": "stdout"
        }
      ]
    },
    {
      "cell_type": "code",
      "metadata": {
        "id": "LOBVWYg_JiUT"
      },
      "source": [
        "train = pd.DataFrame(train_imputed, columns=train_cols)\n",
        "test = pd.DataFrame(test_imputed, columns=test_cols)"
      ],
      "execution_count": 580,
      "outputs": []
    },
    {
      "cell_type": "code",
      "metadata": {
        "id": "m2PqV-ITJRU7",
        "outputId": "d14add43-a8c1-4f6f-d242-ee17b8667c0a",
        "colab": {
          "base_uri": "https://localhost:8080/"
        }
      },
      "source": [
        "print(train.isna().sum())\n",
        "print(test.isna().sum())"
      ],
      "execution_count": 581,
      "outputs": [
        {
          "output_type": "stream",
          "text": [
            "yeartype        0\n",
            "price           0\n",
            "dist            0\n",
            "power           0\n",
            "cylinder_3.0    0\n",
            "cylinder_4.0    0\n",
            "cylinder_5.0    0\n",
            "cylinder_6.0    0\n",
            "cylinder_8.0    0\n",
            "torque          0\n",
            "type_4WD        0\n",
            "type_AWD        0\n",
            "type_FF         0\n",
            "type_FR         0\n",
            "type_MR         0\n",
            "mission_수동      0\n",
            "mission_자동      0\n",
            "dtype: int64\n",
            "yeartype        0\n",
            "dist            0\n",
            "power           0\n",
            "cylinder_3.0    0\n",
            "cylinder_4.0    0\n",
            "cylinder_5.0    0\n",
            "cylinder_6.0    0\n",
            "cylinder_8.0    0\n",
            "torque          0\n",
            "type_4WD        0\n",
            "type_AWD        0\n",
            "type_FF         0\n",
            "type_FR         0\n",
            "type_MR         0\n",
            "mission_수동      0\n",
            "mission_자동      0\n",
            "dtype: int64\n"
          ],
          "name": "stdout"
        }
      ]
    },
    {
      "cell_type": "markdown",
      "metadata": {
        "id": "mBaI-qt3iHa-"
      },
      "source": [
        "# Skew된 Column 처리"
      ]
    },
    {
      "cell_type": "code",
      "metadata": {
        "id": "kN05F9G5iJXS",
        "outputId": "1aa8f88f-712e-4d57-ec84-3aed2643d178",
        "colab": {
          "base_uri": "https://localhost:8080/",
          "height": 1000
        }
      },
      "source": [
        "numeric_feats = ['yeartype', 'dist', 'power', 'torque']\n",
        "for feat in numeric_feats:\n",
        "  sns.distplot(train[feat], fit=norm)\n",
        "\n",
        "  # Get the fitted parameters used by the function\n",
        "  (mu, sigma) = norm.fit(train[feat])\n",
        "  print( '\\n mu = {:.2f} and sigma = {:.2f}\\n'.format(mu, sigma))\n",
        "\n",
        "  #Now plot the distribution\n",
        "  plt.legend(['Normal dist. ($\\mu=$ {:.2f} and $\\sigma=$ {:.2f} )'.format(mu, sigma)],\n",
        "              loc='best')\n",
        "  plt.ylabel('Frequency')\n",
        "  plt.title(f'{feat} distribution')\n",
        "\n",
        "  #Get also the QQ-plot\n",
        "  fig = plt.figure()\n",
        "  res = stats.probplot(train[feat], plot=plt)\n",
        "  plt.show()"
      ],
      "execution_count": 582,
      "outputs": [
        {
          "output_type": "stream",
          "text": [
            "\n",
            " mu = 2011.57 and sigma = 4.24\n",
            "\n"
          ],
          "name": "stdout"
        },
        {
          "output_type": "display_data",
          "data": {
            "image/png": "[encoded data removed]",
            "text/plain": [
              "<Figure size 432x288 with 1 Axes>"
            ]
          },
          "metadata": {
            "tags": [],
            "needs_background": "light"
          }
        },
        {
          "output_type": "display_data",
          "data": {
            "image/png": "[encoded data removed]",
            "text/plain": [
              "<Figure size 432x288 with 1 Axes>"
            ]
          },
          "metadata": {
            "tags": [],
            "needs_background": "light"
          }
        },
        {
          "output_type": "stream",
          "text": [
            "\n",
            " mu = 100897.67 and sigma = 62972.94\n",
            "\n"
          ],
          "name": "stdout"
        },
        {
          "output_type": "display_data",
          "data": {
            "image/png": "[encoded data removed]",
            "text/plain": [
              "<Figure size 432x288 with 1 Axes>"
            ]
          },
          "metadata": {
            "tags": [],
            "needs_background": "light"
          }
        },
        {
          "output_type": "display_data",
          "data": {
            "image/png": "[encoded data removed]",
            "text/plain": [
              "<Figure size 432x288 with 1 Axes>"
            ]
          },
          "metadata": {
            "tags": [],
            "needs_background": "light"
          }
        },
        {
          "output_type": "stream",
          "text": [
            "\n",
            " mu = 186.26 and sigma = 67.31\n",
            "\n"
          ],
          "name": "stdout"
        },
        {
          "output_type": "display_data",
          "data": {
            "image/png": "[encoded data removed]",
            "text/plain": [
              "<Figure size 432x288 with 1 Axes>"
            ]
          },
          "metadata": {
            "tags": [],
            "needs_background": "light"
          }
        },
        {
          "output_type": "display_data",
          "data": {
            "image/png": "[encoded data removed]",
            "text/plain": [
              "<Figure size 432x288 with 1 Axes>"
            ]
          },
          "metadata": {
            "tags": [],
            "needs_background": "light"
          }
        },
        {
          "output_type": "stream",
          "text": [
            "\n",
            " mu = 29.88 and sigma = 11.17\n",
            "\n"
          ],
          "name": "stdout"
        },
        {
          "output_type": "display_data",
          "data": {
            "image/png": "[encoded data removed]",
            "text/plain": [
              "<Figure size 432x288 with 1 Axes>"
            ]
          },
          "metadata": {
            "tags": [],
            "needs_background": "light"
          }
        },
        {
          "output_type": "display_data",
          "data": {
            "image/png": "[encoded data removed]",
            "text/plain": [
              "<Figure size 432x288 with 1 Axes>"
            ]
          },
          "metadata": {
            "tags": [],
            "needs_background": "light"
          }
        }
      ]
    },
    {
      "cell_type": "markdown",
      "metadata": {
        "id": "nwqUJDpzppi3"
      },
      "source": [
        "## yeartype은 left-skewed, dist는 right-skewed되어 있다"
      ]
    },
    {
      "cell_type": "markdown",
      "metadata": {
        "id": "_0vm3EYUi5PH"
      },
      "source": [
        "## boxcox1p를 적용시켜 보자"
      ]
    },
    {
      "cell_type": "code",
      "metadata": {
        "id": "DcD5KDEyjX7C"
      },
      "source": [
        "from scipy.special import boxcox1p\n",
        "lam = 0.15\n",
        "\n",
        "## train['yeartype'] = np.log1p(train['yeartype'])\n",
        "## test['yeartype'] = np.log1p(test['yeartype'])\n",
        "## \n",
        "## train['dist'] = np.log1p(train['dist'])\n",
        "## test['dist'] = np.log1p(test['dist'])"
      ],
      "execution_count": 583,
      "outputs": []
    },
    {
      "cell_type": "code",
      "metadata": {
        "id": "bcnXPTxlowar",
        "outputId": "78b0e0b6-07d1-4147-d4de-0883442d0f84",
        "colab": {
          "base_uri": "https://localhost:8080/",
          "height": 1000
        }
      },
      "source": [
        "skewed_feats = ['yeartype', 'dist']\n",
        "for feat in skewed_feats:\n",
        "  sns.distplot(train[feat], fit=norm)\n",
        "\n",
        "  # Get the fitted parameters used by the function\n",
        "  (mu, sigma) = norm.fit(train[feat])\n",
        "  print( '\\n mu = {:.2f} and sigma = {:.2f}\\n'.format(mu, sigma))\n",
        "\n",
        "  #Now plot the distribution\n",
        "  plt.legend(['Normal dist. ($\\mu=$ {:.2f} and $\\sigma=$ {:.2f} )'.format(mu, sigma)],\n",
        "              loc='best')\n",
        "  plt.ylabel('Frequency')\n",
        "  plt.title(f'{feat} distribution')\n",
        "\n",
        "  #Get also the QQ-plot\n",
        "  fig = plt.figure()\n",
        "  res = stats.probplot(train[feat], plot=plt)\n",
        "  plt.show()"
      ],
      "execution_count": 584,
      "outputs": [
        {
          "output_type": "stream",
          "text": [
            "\n",
            " mu = 2011.57 and sigma = 4.24\n",
            "\n"
          ],
          "name": "stdout"
        },
        {
          "output_type": "display_data",
          "data": {
            "image/png": "[encoded data removed]",
            "text/plain": [
              "<Figure size 432x288 with 1 Axes>"
            ]
          },
          "metadata": {
            "tags": [],
            "needs_background": "light"
          }
        },
        {
          "output_type": "display_data",
          "data": {
            "image/png": "[encoded data removed]",
            "text/plain": [
              "<Figure size 432x288 with 1 Axes>"
            ]
          },
          "metadata": {
            "tags": [],
            "needs_background": "light"
          }
        },
        {
          "output_type": "stream",
          "text": [
            "\n",
            " mu = 100897.67 and sigma = 62972.94\n",
            "\n"
          ],
          "name": "stdout"
        },
        {
          "output_type": "display_data",
          "data": {
            "image/png": "[encoded data removed]",
            "text/plain": [
              "<Figure size 432x288 with 1 Axes>"
            ]
          },
          "metadata": {
            "tags": [],
            "needs_background": "light"
          }
        },
        {
          "output_type": "display_data",
          "data": {
            "image/png": "[encoded data removed]",
            "text/plain": [
              "<Figure size 432x288 with 1 Axes>"
            ]
          },
          "metadata": {
            "tags": [],
            "needs_background": "light"
          }
        }
      ]
    },
    {
      "cell_type": "markdown",
      "metadata": {
        "id": "4v2S13nY6a9L"
      },
      "source": [
        "# 데이터 나누기"
      ]
    },
    {
      "cell_type": "code",
      "metadata": {
        "id": "tTJEBWi26a9L",
        "outputId": "cca72d83-59ab-45d6-8fd2-e87d6100c943",
        "colab": {
          "base_uri": "https://localhost:8080/"
        }
      },
      "source": [
        "X_train = train.drop(['price'], axis=1)\n",
        "Y_train = train['price']\n",
        "X_test = test.copy()\n",
        "\n",
        "print(X_train.shape)\n",
        "print(Y_train.shape)\n",
        "print(X_test.shape)"
      ],
      "execution_count": 585,
      "outputs": [
        {
          "output_type": "stream",
          "text": [
            "(11616, 16)\n",
            "(11616,)\n",
            "(5789, 16)\n"
          ],
          "name": "stdout"
        }
      ]
    },
    {
      "cell_type": "markdown",
      "metadata": {
        "id": "1vDJhc4k6a9N"
      },
      "source": [
        "# Model"
      ]
    },
    {
      "cell_type": "code",
      "metadata": {
        "id": "RwhTcNQc6a9N"
      },
      "source": [
        "from sklearn.linear_model import ElasticNet, Lasso,  BayesianRidge, LassoLarsIC\n",
        "from sklearn.ensemble import RandomForestRegressor,  GradientBoostingRegressor\n",
        "from sklearn.kernel_ridge import KernelRidge\n",
        "from sklearn.pipeline import make_pipeline\n",
        "from sklearn.preprocessing import RobustScaler\n",
        "from sklearn.base import BaseEstimator, TransformerMixin, RegressorMixin, clone\n",
        "from sklearn.model_selection import KFold, cross_val_score, train_test_split\n",
        "from sklearn.metrics import mean_squared_error\n",
        "import xgboost as xgb\n",
        "import lightgbm as lgb"
      ],
      "execution_count": 586,
      "outputs": []
    },
    {
      "cell_type": "code",
      "metadata": {
        "id": "tv8IAYuy6a9P"
      },
      "source": [
        "n_folds = 5\n",
        "\n",
        "def rmsle_cv(model):\n",
        "    kf = KFold(n_folds, shuffle=True, random_state=42).get_n_splits(X_train.values)\n",
        "    rmse= np.sqrt(-cross_val_score(model, X_train.values, Y_train.values, scoring=\"neg_mean_squared_error\", cv = kf))\n",
        "    return(rmse)"
      ],
      "execution_count": 587,
      "outputs": []
    },
    {
      "cell_type": "code",
      "metadata": {
        "id": "yacz8Fnv6a9Q"
      },
      "source": [
        "lasso = make_pipeline(RobustScaler(), Lasso(alpha =0.0005, random_state=1))"
      ],
      "execution_count": 588,
      "outputs": []
    },
    {
      "cell_type": "code",
      "metadata": {
        "id": "6SC6yOO7r4mz"
      },
      "source": [
        "ENet = make_pipeline(RobustScaler(), ElasticNet(alpha=0.0005, l1_ratio=.9, random_state=3))"
      ],
      "execution_count": 589,
      "outputs": []
    },
    {
      "cell_type": "code",
      "metadata": {
        "id": "bwulHQLpr6MQ"
      },
      "source": [
        "KRR = KernelRidge(alpha=0.6, kernel='polynomial', degree=2, coef0=2.5)"
      ],
      "execution_count": 590,
      "outputs": []
    },
    {
      "cell_type": "code",
      "metadata": {
        "id": "3b65t1pir7gy"
      },
      "source": [
        "GBoost = GradientBoostingRegressor(n_estimators=3000, learning_rate=0.05,\n",
        "                                   max_depth=4, max_features='sqrt',\n",
        "                                   min_samples_leaf=15, min_samples_split=10, \n",
        "                                   loss='huber', random_state =5)"
      ],
      "execution_count": 591,
      "outputs": []
    },
    {
      "cell_type": "code",
      "metadata": {
        "id": "zK6QE6D6r9Ds"
      },
      "source": [
        "model_xgb = xgb.XGBRegressor(colsample_bytree=0.4603, gamma=0.0468, \n",
        "                             learning_rate=0.05, max_depth=3, \n",
        "                             min_child_weight=1.7817, n_estimators=2200,\n",
        "                             reg_alpha=0.4640, reg_lambda=0.8571,\n",
        "                             subsample=0.5213, silent=1,\n",
        "                             random_state =7, nthread = -1)"
      ],
      "execution_count": 592,
      "outputs": []
    },
    {
      "cell_type": "code",
      "metadata": {
        "id": "D660v1qnr-V-"
      },
      "source": [
        "model_lgb = lgb.LGBMRegressor(objective='regression',num_leaves=5,\n",
        "                              learning_rate=0.05, n_estimators=720,\n",
        "                              max_bin = 55, bagging_fraction = 0.8,\n",
        "                              bagging_freq = 5, feature_fraction = 0.2319,\n",
        "                              feature_fraction_seed=9, bagging_seed=9,\n",
        "                              min_data_in_leaf =6, min_sum_hessian_in_leaf = 11)"
      ],
      "execution_count": 593,
      "outputs": []
    },
    {
      "cell_type": "code",
      "metadata": {
        "id": "vJy9-S5esBoT",
        "outputId": "ed2fa5b1-f10b-41c5-9e3f-b6a64636c8b9",
        "colab": {
          "base_uri": "https://localhost:8080/"
        }
      },
      "source": [
        "score = rmsle_cv(lasso)\n",
        "print(\"\\nLasso score: {:.4f} ({:.4f})\\n\".format(score.mean(), score.std()))"
      ],
      "execution_count": 594,
      "outputs": [
        {
          "output_type": "stream",
          "text": [
            "\n",
            "Lasso score: 0.5660 (0.0648)\n",
            "\n"
          ],
          "name": "stdout"
        }
      ]
    },
    {
      "cell_type": "code",
      "metadata": {
        "id": "3gpDvHGCsDU1",
        "outputId": "ca9fca5f-7097-48e5-d732-2b2c110bfe9a",
        "colab": {
          "base_uri": "https://localhost:8080/"
        }
      },
      "source": [
        "score = rmsle_cv(ENet)\n",
        "print(\"ElasticNet score: {:.4f} ({:.4f})\\n\".format(score.mean(), score.std()))"
      ],
      "execution_count": 595,
      "outputs": [
        {
          "output_type": "stream",
          "text": [
            "ElasticNet score: 0.5660 (0.0648)\n",
            "\n"
          ],
          "name": "stdout"
        }
      ]
    },
    {
      "cell_type": "code",
      "metadata": {
        "id": "uZHhBW_usDve",
        "outputId": "508ce0e6-5010-4b30-d024-20fadd0c4094",
        "colab": {
          "base_uri": "https://localhost:8080/",
          "height": 461
        }
      },
      "source": [
        "score = rmsle_cv(KRR)\n",
        "print(\"Kernel Ridge score: {:.4f} ({:.4f})\\n\".format(score.mean(), score.std()))"
      ],
      "execution_count": 596,
      "outputs": [
        {
          "output_type": "error",
          "ename": "KeyboardInterrupt",
          "evalue": "ignored",
          "traceback": [
            "\u001b[0;31m---------------------------------------------------------------------------\u001b[0m",
            "\u001b[0;31mLinAlgError\u001b[0m                               Traceback (most recent call last)",
            "\u001b[0;32m/usr/local/lib/python3.6/dist-packages/sklearn/linear_model/_ridge.py\u001b[0m in \u001b[0;36m_solve_cholesky_kernel\u001b[0;34m(K, y, alpha, sample_weight, copy)\u001b[0m\n\u001b[1;32m    187\u001b[0m             dual_coef = linalg.solve(K, y, sym_pos=True,\n\u001b[0;32m--> 188\u001b[0;31m                                      overwrite_a=False)\n\u001b[0m\u001b[1;32m    189\u001b[0m         \u001b[0;32mexcept\u001b[0m \u001b[0mnp\u001b[0m\u001b[0;34m.\u001b[0m\u001b[0mlinalg\u001b[0m\u001b[0;34m.\u001b[0m\u001b[0mLinAlgError\u001b[0m\u001b[0;34m:\u001b[0m\u001b[0;34m\u001b[0m\u001b[0;34m\u001b[0m\u001b[0m\n",
            "\u001b[0;32m/usr/local/lib/python3.6/dist-packages/scipy/linalg/basic.py\u001b[0m in \u001b[0;36msolve\u001b[0;34m(a, b, sym_pos, lower, overwrite_a, overwrite_b, debug, check_finite, assume_a, transposed)\u001b[0m\n\u001b[1;32m    249\u001b[0m                            overwrite_b=overwrite_b)\n\u001b[0;32m--> 250\u001b[0;31m         \u001b[0m_solve_check\u001b[0m\u001b[0;34m(\u001b[0m\u001b[0mn\u001b[0m\u001b[0;34m,\u001b[0m \u001b[0minfo\u001b[0m\u001b[0;34m)\u001b[0m\u001b[0;34m\u001b[0m\u001b[0;34m\u001b[0m\u001b[0m\n\u001b[0m\u001b[1;32m    251\u001b[0m         \u001b[0mrcond\u001b[0m\u001b[0;34m,\u001b[0m \u001b[0minfo\u001b[0m \u001b[0;34m=\u001b[0m \u001b[0mpocon\u001b[0m\u001b[0;34m(\u001b[0m\u001b[0mlu\u001b[0m\u001b[0;34m,\u001b[0m \u001b[0manorm\u001b[0m\u001b[0;34m)\u001b[0m\u001b[0;34m\u001b[0m\u001b[0;34m\u001b[0m\u001b[0m\n",
            "\u001b[0;32m/usr/local/lib/python3.6/dist-packages/scipy/linalg/basic.py\u001b[0m in \u001b[0;36m_solve_check\u001b[0;34m(n, info, lamch, rcond)\u001b[0m\n\u001b[1;32m     30\u001b[0m     \u001b[0;32melif\u001b[0m \u001b[0;36m0\u001b[0m \u001b[0;34m<\u001b[0m \u001b[0minfo\u001b[0m\u001b[0;34m:\u001b[0m\u001b[0;34m\u001b[0m\u001b[0;34m\u001b[0m\u001b[0m\n\u001b[0;32m---> 31\u001b[0;31m         \u001b[0;32mraise\u001b[0m \u001b[0mLinAlgError\u001b[0m\u001b[0;34m(\u001b[0m\u001b[0;34m'Matrix is singular.'\u001b[0m\u001b[0;34m)\u001b[0m\u001b[0;34m\u001b[0m\u001b[0;34m\u001b[0m\u001b[0m\n\u001b[0m\u001b[1;32m     32\u001b[0m \u001b[0;34m\u001b[0m\u001b[0m\n",
            "\u001b[0;31mLinAlgError\u001b[0m: Matrix is singular.",
            "\nDuring handling of the above exception, another exception occurred:\n",
            "\u001b[0;31mKeyboardInterrupt\u001b[0m                         Traceback (most recent call last)",
            "\u001b[0;32m<ipython-input-596-9b177712b357>\u001b[0m in \u001b[0;36m<module>\u001b[0;34m()\u001b[0m\n\u001b[0;32m----> 1\u001b[0;31m \u001b[0mscore\u001b[0m \u001b[0;34m=\u001b[0m \u001b[0mrmsle_cv\u001b[0m\u001b[0;34m(\u001b[0m\u001b[0mKRR\u001b[0m\u001b[0;34m)\u001b[0m\u001b[0;34m\u001b[0m\u001b[0;34m\u001b[0m\u001b[0m\n\u001b[0m\u001b[1;32m      2\u001b[0m \u001b[0mprint\u001b[0m\u001b[0;34m(\u001b[0m\u001b[0;34m\"Kernel Ridge score: {:.4f} ({:.4f})\\n\"\u001b[0m\u001b[0;34m.\u001b[0m\u001b[0mformat\u001b[0m\u001b[0;34m(\u001b[0m\u001b[0mscore\u001b[0m\u001b[0;34m.\u001b[0m\u001b[0mmean\u001b[0m\u001b[0;34m(\u001b[0m\u001b[0;34m)\u001b[0m\u001b[0;34m,\u001b[0m \u001b[0mscore\u001b[0m\u001b[0;34m.\u001b[0m\u001b[0mstd\u001b[0m\u001b[0;34m(\u001b[0m\u001b[0;34m)\u001b[0m\u001b[0;34m)\u001b[0m\u001b[0;34m)\u001b[0m\u001b[0;34m\u001b[0m\u001b[0;34m\u001b[0m\u001b[0m\n",
            "\u001b[0;32m<ipython-input-587-59379a7ed387>\u001b[0m in \u001b[0;36mrmsle_cv\u001b[0;34m(model)\u001b[0m\n\u001b[1;32m      3\u001b[0m \u001b[0;32mdef\u001b[0m \u001b[0mrmsle_cv\u001b[0m\u001b[0;34m(\u001b[0m\u001b[0mmodel\u001b[0m\u001b[0;34m)\u001b[0m\u001b[0;34m:\u001b[0m\u001b[0;34m\u001b[0m\u001b[0;34m\u001b[0m\u001b[0m\n\u001b[1;32m      4\u001b[0m     \u001b[0mkf\u001b[0m \u001b[0;34m=\u001b[0m \u001b[0mKFold\u001b[0m\u001b[0;34m(\u001b[0m\u001b[0mn_folds\u001b[0m\u001b[0;34m,\u001b[0m \u001b[0mshuffle\u001b[0m\u001b[0;34m=\u001b[0m\u001b[0;32mTrue\u001b[0m\u001b[0;34m,\u001b[0m \u001b[0mrandom_state\u001b[0m\u001b[0;34m=\u001b[0m\u001b[0;36m42\u001b[0m\u001b[0;34m)\u001b[0m\u001b[0;34m.\u001b[0m\u001b[0mget_n_splits\u001b[0m\u001b[0;34m(\u001b[0m\u001b[0mX_train\u001b[0m\u001b[0;34m.\u001b[0m\u001b[0mvalues\u001b[0m\u001b[0;34m)\u001b[0m\u001b[0;34m\u001b[0m\u001b[0;34m\u001b[0m\u001b[0m\n\u001b[0;32m----> 5\u001b[0;31m     \u001b[0mrmse\u001b[0m\u001b[0;34m=\u001b[0m \u001b[0mnp\u001b[0m\u001b[0;34m.\u001b[0m\u001b[0msqrt\u001b[0m\u001b[0;34m(\u001b[0m\u001b[0;34m-\u001b[0m\u001b[0mcross_val_score\u001b[0m\u001b[0;34m(\u001b[0m\u001b[0mmodel\u001b[0m\u001b[0;34m,\u001b[0m \u001b[0mX_train\u001b[0m\u001b[0;34m.\u001b[0m\u001b[0mvalues\u001b[0m\u001b[0;34m,\u001b[0m \u001b[0mY_train\u001b[0m\u001b[0;34m.\u001b[0m\u001b[0mvalues\u001b[0m\u001b[0;34m,\u001b[0m \u001b[0mscoring\u001b[0m\u001b[0;34m=\u001b[0m\u001b[0;34m\"neg_mean_squared_error\"\u001b[0m\u001b[0;34m,\u001b[0m \u001b[0mcv\u001b[0m \u001b[0;34m=\u001b[0m \u001b[0mkf\u001b[0m\u001b[0;34m)\u001b[0m\u001b[0;34m)\u001b[0m\u001b[0;34m\u001b[0m\u001b[0;34m\u001b[0m\u001b[0m\n\u001b[0m\u001b[1;32m      6\u001b[0m     \u001b[0;32mreturn\u001b[0m\u001b[0;34m(\u001b[0m\u001b[0mrmse\u001b[0m\u001b[0;34m)\u001b[0m\u001b[0;34m\u001b[0m\u001b[0;34m\u001b[0m\u001b[0m\n",
            "\u001b[0;32m/usr/local/lib/python3.6/dist-packages/sklearn/model_selection/_validation.py\u001b[0m in \u001b[0;36mcross_val_score\u001b[0;34m(estimator, X, y, groups, scoring, cv, n_jobs, verbose, fit_params, pre_dispatch, error_score)\u001b[0m\n\u001b[1;32m    388\u001b[0m                                 \u001b[0mfit_params\u001b[0m\u001b[0;34m=\u001b[0m\u001b[0mfit_params\u001b[0m\u001b[0;34m,\u001b[0m\u001b[0;34m\u001b[0m\u001b[0;34m\u001b[0m\u001b[0m\n\u001b[1;32m    389\u001b[0m                                 \u001b[0mpre_dispatch\u001b[0m\u001b[0;34m=\u001b[0m\u001b[0mpre_dispatch\u001b[0m\u001b[0;34m,\u001b[0m\u001b[0;34m\u001b[0m\u001b[0;34m\u001b[0m\u001b[0m\n\u001b[0;32m--> 390\u001b[0;31m                                 error_score=error_score)\n\u001b[0m\u001b[1;32m    391\u001b[0m     \u001b[0;32mreturn\u001b[0m \u001b[0mcv_results\u001b[0m\u001b[0;34m[\u001b[0m\u001b[0;34m'test_score'\u001b[0m\u001b[0;34m]\u001b[0m\u001b[0;34m\u001b[0m\u001b[0;34m\u001b[0m\u001b[0m\n\u001b[1;32m    392\u001b[0m \u001b[0;34m\u001b[0m\u001b[0m\n",
            "\u001b[0;32m/usr/local/lib/python3.6/dist-packages/sklearn/model_selection/_validation.py\u001b[0m in \u001b[0;36mcross_validate\u001b[0;34m(estimator, X, y, groups, scoring, cv, n_jobs, verbose, fit_params, pre_dispatch, return_train_score, return_estimator, error_score)\u001b[0m\n\u001b[1;32m    234\u001b[0m             \u001b[0mreturn_times\u001b[0m\u001b[0;34m=\u001b[0m\u001b[0;32mTrue\u001b[0m\u001b[0;34m,\u001b[0m \u001b[0mreturn_estimator\u001b[0m\u001b[0;34m=\u001b[0m\u001b[0mreturn_estimator\u001b[0m\u001b[0;34m,\u001b[0m\u001b[0;34m\u001b[0m\u001b[0;34m\u001b[0m\u001b[0m\n\u001b[1;32m    235\u001b[0m             error_score=error_score)\n\u001b[0;32m--> 236\u001b[0;31m         for train, test in cv.split(X, y, groups))\n\u001b[0m\u001b[1;32m    237\u001b[0m \u001b[0;34m\u001b[0m\u001b[0m\n\u001b[1;32m    238\u001b[0m     \u001b[0mzipped_scores\u001b[0m \u001b[0;34m=\u001b[0m \u001b[0mlist\u001b[0m\u001b[0;34m(\u001b[0m\u001b[0mzip\u001b[0m\u001b[0;34m(\u001b[0m\u001b[0;34m*\u001b[0m\u001b[0mscores\u001b[0m\u001b[0;34m)\u001b[0m\u001b[0;34m)\u001b[0m\u001b[0;34m\u001b[0m\u001b[0;34m\u001b[0m\u001b[0m\n",
            "\u001b[0;32m/usr/local/lib/python3.6/dist-packages/joblib/parallel.py\u001b[0m in \u001b[0;36m__call__\u001b[0;34m(self, iterable)\u001b[0m\n\u001b[1;32m   1046\u001b[0m             \u001b[0;31m# remaining jobs.\u001b[0m\u001b[0;34m\u001b[0m\u001b[0;34m\u001b[0m\u001b[0;34m\u001b[0m\u001b[0m\n\u001b[1;32m   1047\u001b[0m             \u001b[0mself\u001b[0m\u001b[0;34m.\u001b[0m\u001b[0m_iterating\u001b[0m \u001b[0;34m=\u001b[0m \u001b[0;32mFalse\u001b[0m\u001b[0;34m\u001b[0m\u001b[0;34m\u001b[0m\u001b[0m\n\u001b[0;32m-> 1048\u001b[0;31m             \u001b[0;32mif\u001b[0m \u001b[0mself\u001b[0m\u001b[0;34m.\u001b[0m\u001b[0mdispatch_one_batch\u001b[0m\u001b[0;34m(\u001b[0m\u001b[0miterator\u001b[0m\u001b[0;34m)\u001b[0m\u001b[0;34m:\u001b[0m\u001b[0;34m\u001b[0m\u001b[0;34m\u001b[0m\u001b[0m\n\u001b[0m\u001b[1;32m   1049\u001b[0m                 \u001b[0mself\u001b[0m\u001b[0;34m.\u001b[0m\u001b[0m_iterating\u001b[0m \u001b[0;34m=\u001b[0m \u001b[0mself\u001b[0m\u001b[0;34m.\u001b[0m\u001b[0m_original_iterator\u001b[0m \u001b[0;32mis\u001b[0m \u001b[0;32mnot\u001b[0m \u001b[0;32mNone\u001b[0m\u001b[0;34m\u001b[0m\u001b[0;34m\u001b[0m\u001b[0m\n\u001b[1;32m   1050\u001b[0m \u001b[0;34m\u001b[0m\u001b[0m\n",
            "\u001b[0;32m/usr/local/lib/python3.6/dist-packages/joblib/parallel.py\u001b[0m in \u001b[0;36mdispatch_one_batch\u001b[0;34m(self, iterator)\u001b[0m\n\u001b[1;32m    864\u001b[0m                 \u001b[0;32mreturn\u001b[0m \u001b[0;32mFalse\u001b[0m\u001b[0;34m\u001b[0m\u001b[0;34m\u001b[0m\u001b[0m\n\u001b[1;32m    865\u001b[0m             \u001b[0;32melse\u001b[0m\u001b[0;34m:\u001b[0m\u001b[0;34m\u001b[0m\u001b[0;34m\u001b[0m\u001b[0m\n\u001b[0;32m--> 866\u001b[0;31m                 \u001b[0mself\u001b[0m\u001b[0;34m.\u001b[0m\u001b[0m_dispatch\u001b[0m\u001b[0;34m(\u001b[0m\u001b[0mtasks\u001b[0m\u001b[0;34m)\u001b[0m\u001b[0;34m\u001b[0m\u001b[0;34m\u001b[0m\u001b[0m\n\u001b[0m\u001b[1;32m    867\u001b[0m                 \u001b[0;32mreturn\u001b[0m \u001b[0;32mTrue\u001b[0m\u001b[0;34m\u001b[0m\u001b[0;34m\u001b[0m\u001b[0m\n\u001b[1;32m    868\u001b[0m \u001b[0;34m\u001b[0m\u001b[0m\n",
            "\u001b[0;32m/usr/local/lib/python3.6/dist-packages/joblib/parallel.py\u001b[0m in \u001b[0;36m_dispatch\u001b[0;34m(self, batch)\u001b[0m\n\u001b[1;32m    782\u001b[0m         \u001b[0;32mwith\u001b[0m \u001b[0mself\u001b[0m\u001b[0;34m.\u001b[0m\u001b[0m_lock\u001b[0m\u001b[0;34m:\u001b[0m\u001b[0;34m\u001b[0m\u001b[0;34m\u001b[0m\u001b[0m\n\u001b[1;32m    783\u001b[0m             \u001b[0mjob_idx\u001b[0m \u001b[0;34m=\u001b[0m \u001b[0mlen\u001b[0m\u001b[0;34m(\u001b[0m\u001b[0mself\u001b[0m\u001b[0;34m.\u001b[0m\u001b[0m_jobs\u001b[0m\u001b[0;34m)\u001b[0m\u001b[0;34m\u001b[0m\u001b[0;34m\u001b[0m\u001b[0m\n\u001b[0;32m--> 784\u001b[0;31m             \u001b[0mjob\u001b[0m \u001b[0;34m=\u001b[0m \u001b[0mself\u001b[0m\u001b[0;34m.\u001b[0m\u001b[0m_backend\u001b[0m\u001b[0;34m.\u001b[0m\u001b[0mapply_async\u001b[0m\u001b[0;34m(\u001b[0m\u001b[0mbatch\u001b[0m\u001b[0;34m,\u001b[0m \u001b[0mcallback\u001b[0m\u001b[0;34m=\u001b[0m\u001b[0mcb\u001b[0m\u001b[0;34m)\u001b[0m\u001b[0;34m\u001b[0m\u001b[0;34m\u001b[0m\u001b[0m\n\u001b[0m\u001b[1;32m    785\u001b[0m             \u001b[0;31m# A job can complete so quickly than its callback is\u001b[0m\u001b[0;34m\u001b[0m\u001b[0;34m\u001b[0m\u001b[0;34m\u001b[0m\u001b[0m\n\u001b[1;32m    786\u001b[0m             \u001b[0;31m# called before we get here, causing self._jobs to\u001b[0m\u001b[0;34m\u001b[0m\u001b[0;34m\u001b[0m\u001b[0;34m\u001b[0m\u001b[0m\n",
            "\u001b[0;32m/usr/local/lib/python3.6/dist-packages/joblib/_parallel_backends.py\u001b[0m in \u001b[0;36mapply_async\u001b[0;34m(self, func, callback)\u001b[0m\n\u001b[1;32m    206\u001b[0m     \u001b[0;32mdef\u001b[0m \u001b[0mapply_async\u001b[0m\u001b[0;34m(\u001b[0m\u001b[0mself\u001b[0m\u001b[0;34m,\u001b[0m \u001b[0mfunc\u001b[0m\u001b[0;34m,\u001b[0m \u001b[0mcallback\u001b[0m\u001b[0;34m=\u001b[0m\u001b[0;32mNone\u001b[0m\u001b[0;34m)\u001b[0m\u001b[0;34m:\u001b[0m\u001b[0;34m\u001b[0m\u001b[0;34m\u001b[0m\u001b[0m\n\u001b[1;32m    207\u001b[0m         \u001b[0;34m\"\"\"Schedule a func to be run\"\"\"\u001b[0m\u001b[0;34m\u001b[0m\u001b[0;34m\u001b[0m\u001b[0m\n\u001b[0;32m--> 208\u001b[0;31m         \u001b[0mresult\u001b[0m \u001b[0;34m=\u001b[0m \u001b[0mImmediateResult\u001b[0m\u001b[0;34m(\u001b[0m\u001b[0mfunc\u001b[0m\u001b[0;34m)\u001b[0m\u001b[0;34m\u001b[0m\u001b[0;34m\u001b[0m\u001b[0m\n\u001b[0m\u001b[1;32m    209\u001b[0m         \u001b[0;32mif\u001b[0m \u001b[0mcallback\u001b[0m\u001b[0;34m:\u001b[0m\u001b[0;34m\u001b[0m\u001b[0;34m\u001b[0m\u001b[0m\n\u001b[1;32m    210\u001b[0m             \u001b[0mcallback\u001b[0m\u001b[0;34m(\u001b[0m\u001b[0mresult\u001b[0m\u001b[0;34m)\u001b[0m\u001b[0;34m\u001b[0m\u001b[0;34m\u001b[0m\u001b[0m\n",
            "\u001b[0;32m/usr/local/lib/python3.6/dist-packages/joblib/_parallel_backends.py\u001b[0m in \u001b[0;36m__init__\u001b[0;34m(self, batch)\u001b[0m\n\u001b[1;32m    570\u001b[0m         \u001b[0;31m# Don't delay the application, to avoid keeping the input\u001b[0m\u001b[0;34m\u001b[0m\u001b[0;34m\u001b[0m\u001b[0;34m\u001b[0m\u001b[0m\n\u001b[1;32m    571\u001b[0m         \u001b[0;31m# arguments in memory\u001b[0m\u001b[0;34m\u001b[0m\u001b[0;34m\u001b[0m\u001b[0;34m\u001b[0m\u001b[0m\n\u001b[0;32m--> 572\u001b[0;31m         \u001b[0mself\u001b[0m\u001b[0;34m.\u001b[0m\u001b[0mresults\u001b[0m \u001b[0;34m=\u001b[0m \u001b[0mbatch\u001b[0m\u001b[0;34m(\u001b[0m\u001b[0;34m)\u001b[0m\u001b[0;34m\u001b[0m\u001b[0;34m\u001b[0m\u001b[0m\n\u001b[0m\u001b[1;32m    573\u001b[0m \u001b[0;34m\u001b[0m\u001b[0m\n\u001b[1;32m    574\u001b[0m     \u001b[0;32mdef\u001b[0m \u001b[0mget\u001b[0m\u001b[0;34m(\u001b[0m\u001b[0mself\u001b[0m\u001b[0;34m)\u001b[0m\u001b[0;34m:\u001b[0m\u001b[0;34m\u001b[0m\u001b[0;34m\u001b[0m\u001b[0m\n",
            "\u001b[0;32m/usr/local/lib/python3.6/dist-packages/joblib/parallel.py\u001b[0m in \u001b[0;36m__call__\u001b[0;34m(self)\u001b[0m\n\u001b[1;32m    261\u001b[0m         \u001b[0;32mwith\u001b[0m \u001b[0mparallel_backend\u001b[0m\u001b[0;34m(\u001b[0m\u001b[0mself\u001b[0m\u001b[0;34m.\u001b[0m\u001b[0m_backend\u001b[0m\u001b[0;34m,\u001b[0m \u001b[0mn_jobs\u001b[0m\u001b[0;34m=\u001b[0m\u001b[0mself\u001b[0m\u001b[0;34m.\u001b[0m\u001b[0m_n_jobs\u001b[0m\u001b[0;34m)\u001b[0m\u001b[0;34m:\u001b[0m\u001b[0;34m\u001b[0m\u001b[0;34m\u001b[0m\u001b[0m\n\u001b[1;32m    262\u001b[0m             return [func(*args, **kwargs)\n\u001b[0;32m--> 263\u001b[0;31m                     for func, args, kwargs in self.items]\n\u001b[0m\u001b[1;32m    264\u001b[0m \u001b[0;34m\u001b[0m\u001b[0m\n\u001b[1;32m    265\u001b[0m     \u001b[0;32mdef\u001b[0m \u001b[0m__reduce__\u001b[0m\u001b[0;34m(\u001b[0m\u001b[0mself\u001b[0m\u001b[0;34m)\u001b[0m\u001b[0;34m:\u001b[0m\u001b[0;34m\u001b[0m\u001b[0;34m\u001b[0m\u001b[0m\n",
            "\u001b[0;32m/usr/local/lib/python3.6/dist-packages/joblib/parallel.py\u001b[0m in \u001b[0;36m<listcomp>\u001b[0;34m(.0)\u001b[0m\n\u001b[1;32m    261\u001b[0m         \u001b[0;32mwith\u001b[0m \u001b[0mparallel_backend\u001b[0m\u001b[0;34m(\u001b[0m\u001b[0mself\u001b[0m\u001b[0;34m.\u001b[0m\u001b[0m_backend\u001b[0m\u001b[0;34m,\u001b[0m \u001b[0mn_jobs\u001b[0m\u001b[0;34m=\u001b[0m\u001b[0mself\u001b[0m\u001b[0;34m.\u001b[0m\u001b[0m_n_jobs\u001b[0m\u001b[0;34m)\u001b[0m\u001b[0;34m:\u001b[0m\u001b[0;34m\u001b[0m\u001b[0;34m\u001b[0m\u001b[0m\n\u001b[1;32m    262\u001b[0m             return [func(*args, **kwargs)\n\u001b[0;32m--> 263\u001b[0;31m                     for func, args, kwargs in self.items]\n\u001b[0m\u001b[1;32m    264\u001b[0m \u001b[0;34m\u001b[0m\u001b[0m\n\u001b[1;32m    265\u001b[0m     \u001b[0;32mdef\u001b[0m \u001b[0m__reduce__\u001b[0m\u001b[0;34m(\u001b[0m\u001b[0mself\u001b[0m\u001b[0;34m)\u001b[0m\u001b[0;34m:\u001b[0m\u001b[0;34m\u001b[0m\u001b[0;34m\u001b[0m\u001b[0m\n",
            "\u001b[0;32m/usr/local/lib/python3.6/dist-packages/sklearn/model_selection/_validation.py\u001b[0m in \u001b[0;36m_fit_and_score\u001b[0;34m(estimator, X, y, scorer, train, test, verbose, parameters, fit_params, return_train_score, return_parameters, return_n_test_samples, return_times, return_estimator, error_score)\u001b[0m\n\u001b[1;32m    513\u001b[0m             \u001b[0mestimator\u001b[0m\u001b[0;34m.\u001b[0m\u001b[0mfit\u001b[0m\u001b[0;34m(\u001b[0m\u001b[0mX_train\u001b[0m\u001b[0;34m,\u001b[0m \u001b[0;34m**\u001b[0m\u001b[0mfit_params\u001b[0m\u001b[0;34m)\u001b[0m\u001b[0;34m\u001b[0m\u001b[0;34m\u001b[0m\u001b[0m\n\u001b[1;32m    514\u001b[0m         \u001b[0;32melse\u001b[0m\u001b[0;34m:\u001b[0m\u001b[0;34m\u001b[0m\u001b[0;34m\u001b[0m\u001b[0m\n\u001b[0;32m--> 515\u001b[0;31m             \u001b[0mestimator\u001b[0m\u001b[0;34m.\u001b[0m\u001b[0mfit\u001b[0m\u001b[0;34m(\u001b[0m\u001b[0mX_train\u001b[0m\u001b[0;34m,\u001b[0m \u001b[0my_train\u001b[0m\u001b[0;34m,\u001b[0m \u001b[0;34m**\u001b[0m\u001b[0mfit_params\u001b[0m\u001b[0;34m)\u001b[0m\u001b[0;34m\u001b[0m\u001b[0;34m\u001b[0m\u001b[0m\n\u001b[0m\u001b[1;32m    516\u001b[0m \u001b[0;34m\u001b[0m\u001b[0m\n\u001b[1;32m    517\u001b[0m     \u001b[0;32mexcept\u001b[0m \u001b[0mException\u001b[0m \u001b[0;32mas\u001b[0m \u001b[0me\u001b[0m\u001b[0;34m:\u001b[0m\u001b[0;34m\u001b[0m\u001b[0;34m\u001b[0m\u001b[0m\n",
            "\u001b[0;32m/usr/local/lib/python3.6/dist-packages/sklearn/kernel_ridge.py\u001b[0m in \u001b[0;36mfit\u001b[0;34m(self, X, y, sample_weight)\u001b[0m\n\u001b[1;32m    165\u001b[0m         self.dual_coef_ = _solve_cholesky_kernel(K, y, alpha,\n\u001b[1;32m    166\u001b[0m                                                  \u001b[0msample_weight\u001b[0m\u001b[0;34m,\u001b[0m\u001b[0;34m\u001b[0m\u001b[0;34m\u001b[0m\u001b[0m\n\u001b[0;32m--> 167\u001b[0;31m                                                  copy)\n\u001b[0m\u001b[1;32m    168\u001b[0m         \u001b[0;32mif\u001b[0m \u001b[0mravel\u001b[0m\u001b[0;34m:\u001b[0m\u001b[0;34m\u001b[0m\u001b[0;34m\u001b[0m\u001b[0m\n\u001b[1;32m    169\u001b[0m             \u001b[0mself\u001b[0m\u001b[0;34m.\u001b[0m\u001b[0mdual_coef_\u001b[0m \u001b[0;34m=\u001b[0m \u001b[0mself\u001b[0m\u001b[0;34m.\u001b[0m\u001b[0mdual_coef_\u001b[0m\u001b[0;34m.\u001b[0m\u001b[0mravel\u001b[0m\u001b[0;34m(\u001b[0m\u001b[0;34m)\u001b[0m\u001b[0;34m\u001b[0m\u001b[0;34m\u001b[0m\u001b[0m\n",
            "\u001b[0;32m/usr/local/lib/python3.6/dist-packages/sklearn/linear_model/_ridge.py\u001b[0m in \u001b[0;36m_solve_cholesky_kernel\u001b[0;34m(K, y, alpha, sample_weight, copy)\u001b[0m\n\u001b[1;32m    190\u001b[0m             warnings.warn(\"Singular matrix in solving dual problem. Using \"\n\u001b[1;32m    191\u001b[0m                           \"least-squares solution instead.\")\n\u001b[0;32m--> 192\u001b[0;31m             \u001b[0mdual_coef\u001b[0m \u001b[0;34m=\u001b[0m \u001b[0mlinalg\u001b[0m\u001b[0;34m.\u001b[0m\u001b[0mlstsq\u001b[0m\u001b[0;34m(\u001b[0m\u001b[0mK\u001b[0m\u001b[0;34m,\u001b[0m \u001b[0my\u001b[0m\u001b[0;34m)\u001b[0m\u001b[0;34m[\u001b[0m\u001b[0;36m0\u001b[0m\u001b[0;34m]\u001b[0m\u001b[0;34m\u001b[0m\u001b[0;34m\u001b[0m\u001b[0m\n\u001b[0m\u001b[1;32m    193\u001b[0m \u001b[0;34m\u001b[0m\u001b[0m\n\u001b[1;32m    194\u001b[0m         \u001b[0;31m# K is expensive to compute and store in memory so change it back in\u001b[0m\u001b[0;34m\u001b[0m\u001b[0;34m\u001b[0m\u001b[0;34m\u001b[0m\u001b[0m\n",
            "\u001b[0;32m/usr/local/lib/python3.6/dist-packages/scipy/linalg/basic.py\u001b[0m in \u001b[0;36mlstsq\u001b[0;34m(a, b, cond, overwrite_a, overwrite_b, check_finite, lapack_driver)\u001b[0m\n\u001b[1;32m   1214\u001b[0m                 \u001b[0mlwork\u001b[0m\u001b[0;34m,\u001b[0m \u001b[0miwork\u001b[0m \u001b[0;34m=\u001b[0m \u001b[0m_compute_lwork\u001b[0m\u001b[0;34m(\u001b[0m\u001b[0mlapack_lwork\u001b[0m\u001b[0;34m,\u001b[0m \u001b[0mm\u001b[0m\u001b[0;34m,\u001b[0m \u001b[0mn\u001b[0m\u001b[0;34m,\u001b[0m \u001b[0mnrhs\u001b[0m\u001b[0;34m,\u001b[0m \u001b[0mcond\u001b[0m\u001b[0;34m)\u001b[0m\u001b[0;34m\u001b[0m\u001b[0;34m\u001b[0m\u001b[0m\n\u001b[1;32m   1215\u001b[0m                 x, s, rank, info = lapack_func(a1, b1, lwork,\n\u001b[0;32m-> 1216\u001b[0;31m                                                iwork, cond, False, False)\n\u001b[0m\u001b[1;32m   1217\u001b[0m             \u001b[0;32melse\u001b[0m\u001b[0;34m:\u001b[0m  \u001b[0;31m# complex data\u001b[0m\u001b[0;34m\u001b[0m\u001b[0;34m\u001b[0m\u001b[0m\n\u001b[1;32m   1218\u001b[0m                 lwork, rwork, iwork = _compute_lwork(lapack_lwork, m, n,\n",
            "\u001b[0;31mKeyboardInterrupt\u001b[0m: "
          ]
        }
      ]
    },
    {
      "cell_type": "code",
      "metadata": {
        "id": "lVw2YLpEsEjK"
      },
      "source": [
        "score = rmsle_cv(GBoost)\n",
        "print(\"Gradient Boosting score: {:.4f} ({:.4f})\\n\".format(score.mean(), score.std()))"
      ],
      "execution_count": null,
      "outputs": []
    },
    {
      "cell_type": "code",
      "metadata": {
        "id": "ql-sr_8hsEoK"
      },
      "source": [
        "score = rmsle_cv(model_xgb)\n",
        "print(\"Xgboost score: {:.4f} ({:.4f})\\n\".format(score.mean(), score.std()))"
      ],
      "execution_count": null,
      "outputs": []
    },
    {
      "cell_type": "code",
      "metadata": {
        "id": "TVZ40o9rsElu"
      },
      "source": [
        "score = rmsle_cv(model_lgb)\n",
        "print(\"LGBM score: {:.4f} ({:.4f})\\n\" .format(score.mean(), score.std()))"
      ],
      "execution_count": null,
      "outputs": []
    },
    {
      "cell_type": "markdown",
      "metadata": {
        "id": "XTQoNC6JsMcF"
      },
      "source": [
        "## Stacking"
      ]
    },
    {
      "cell_type": "code",
      "metadata": {
        "id": "tc0fEMz4sD6B"
      },
      "source": [
        "class AveragingModels(BaseEstimator, RegressorMixin, TransformerMixin):\n",
        "    def __init__(self, models):\n",
        "        self.models = models\n",
        "        \n",
        "    # we define clones of the original models to fit the data in\n",
        "    def fit(self, X, y):\n",
        "        self.models_ = [clone(x) for x in self.models]\n",
        "        \n",
        "        # Train cloned base models\n",
        "        for model in self.models_:\n",
        "            model.fit(X, y)\n",
        "\n",
        "        return self\n",
        "    \n",
        "    #Now we do the predictions for cloned models and average them\n",
        "    def predict(self, X):\n",
        "        predictions = np.column_stack([\n",
        "            model.predict(X) for model in self.models_\n",
        "        ])\n",
        "        return np.mean(predictions, axis=1)   "
      ],
      "execution_count": null,
      "outputs": []
    },
    {
      "cell_type": "code",
      "metadata": {
        "id": "8kH6apmcsEL_"
      },
      "source": [
        "averaged_models = AveragingModels(models = (ENet, GBoost, KRR, lasso))\n",
        "\n",
        "score = rmsle_cv(averaged_models)\n",
        "print(\" Averaged base models score: {:.4f} ({:.4f})\\n\".format(score.mean(), score.std()))"
      ],
      "execution_count": null,
      "outputs": []
    },
    {
      "cell_type": "markdown",
      "metadata": {
        "id": "tcV4i6NiuoVI"
      },
      "source": [
        "## More complicated stacking"
      ]
    },
    {
      "cell_type": "code",
      "metadata": {
        "id": "oTZiUw17siW7"
      },
      "source": [
        "class StackingAveragedModels(BaseEstimator, RegressorMixin, TransformerMixin):\n",
        "    def __init__(self, base_models, meta_model, n_folds=5):\n",
        "        self.base_models = base_models\n",
        "        self.meta_model = meta_model\n",
        "        self.n_folds = n_folds\n",
        "   \n",
        "    # We again fit the data on clones of the original models\n",
        "    def fit(self, X, y):\n",
        "        self.base_models_ = [list() for x in self.base_models]\n",
        "        self.meta_model_ = clone(self.meta_model)\n",
        "        kfold = KFold(n_splits=self.n_folds, shuffle=True, random_state=156)\n",
        "        \n",
        "        # Train cloned base models then create out-of-fold predictions\n",
        "        # that are needed to train the cloned meta-model\n",
        "        out_of_fold_predictions = np.zeros((X.shape[0], len(self.base_models)))\n",
        "        for i, model in enumerate(self.base_models):\n",
        "            for train_index, holdout_index in kfold.split(X, y):\n",
        "                instance = clone(model)\n",
        "                self.base_models_[i].append(instance)\n",
        "                instance.fit(X[train_index], y[train_index])\n",
        "                y_pred = instance.predict(X[holdout_index])\n",
        "                out_of_fold_predictions[holdout_index, i] = y_pred\n",
        "                \n",
        "        # Now train the cloned  meta-model using the out-of-fold predictions as new feature\n",
        "        self.meta_model_.fit(out_of_fold_predictions, y)\n",
        "        return self\n",
        "   \n",
        "    #Do the predictions of all base models on the test data and use the averaged predictions as \n",
        "    #meta-features for the final prediction which is done by the meta-model\n",
        "    def predict(self, X):\n",
        "        meta_features = np.column_stack([\n",
        "            np.column_stack([model.predict(X) for model in base_models]).mean(axis=1)\n",
        "            for base_models in self.base_models_ ])\n",
        "        return self.meta_model_.predict(meta_features)"
      ],
      "execution_count": null,
      "outputs": []
    },
    {
      "cell_type": "code",
      "metadata": {
        "id": "rdEJijUqvPqn"
      },
      "source": [
        "stacked_averaged_models = StackingAveragedModels(base_models = (ENet, GBoost, KRR),\n",
        "                                                 meta_model = lasso)\n",
        "\n",
        "score = rmsle_cv(stacked_averaged_models)\n",
        "print(\"Stacking Averaged models score: {:.4f} ({:.4f})\".format(score.mean(), score.std()))"
      ],
      "execution_count": null,
      "outputs": []
    },
    {
      "cell_type": "markdown",
      "metadata": {
        "id": "CtANClQizqD3"
      },
      "source": [
        "## Ensembling StackedRegressor, XGBoost and LightGBM"
      ]
    },
    {
      "cell_type": "code",
      "metadata": {
        "id": "O7i2vzxLzpyA"
      },
      "source": [
        "def rmsle(y, y_pred):\n",
        "    return np.sqrt(mean_squared_error(y, y_pred))"
      ],
      "execution_count": null,
      "outputs": []
    },
    {
      "cell_type": "code",
      "metadata": {
        "id": "eyFSEGblzvg3"
      },
      "source": [
        "stacked_averaged_models.fit(X_train.values, Y_train.values)\n",
        "stacked_train_pred = stacked_averaged_models.predict(X_train.values)\n",
        "stacked_pred = np.expm1(stacked_averaged_models.predict(X_test.values))\n",
        "print(rmsle(Y_train.values, stacked_train_pred))"
      ],
      "execution_count": null,
      "outputs": []
    },
    {
      "cell_type": "code",
      "metadata": {
        "id": "hd357VcQzvjf"
      },
      "source": [
        "model_xgb.fit(X_train.values, Y_train.values)\n",
        "xgb_train_pred = model_xgb.predict(X_train.values)\n",
        "xgb_pred = np.expm1(model_xgb.predict(X_test.values))\n",
        "print(rmsle(Y_train.values, xgb_train_pred))"
      ],
      "execution_count": null,
      "outputs": []
    },
    {
      "cell_type": "code",
      "metadata": {
        "id": "y48o93EBzvcw"
      },
      "source": [
        "model_lgb.fit(X_train.values, Y_train.values)\n",
        "lgb_train_pred = model_lgb.predict(X_train.values)\n",
        "lgb_pred = np.expm1(model_lgb.predict(X_test.values))\n",
        "print(rmsle(Y_train.values, lgb_train_pred))"
      ],
      "execution_count": null,
      "outputs": []
    },
    {
      "cell_type": "code",
      "metadata": {
        "id": "QFpzO7BE0j__"
      },
      "source": [
        "'''RMSE on the entire Train data when averaging'''\n",
        "\n",
        "print('RMSLE score on train data:')\n",
        "print(rmsle(Y_train.values, stacked_train_pred*0.70 + xgb_train_pred*0.15 + lgb_train_pred*0.15 ))"
      ],
      "execution_count": null,
      "outputs": []
    },
    {
      "cell_type": "markdown",
      "metadata": {
        "id": "2Qfpl9Va6a9S"
      },
      "source": [
        "# Prediction"
      ]
    },
    {
      "cell_type": "code",
      "metadata": {
        "id": "d5_osT_66a9T"
      },
      "source": [
        "ensemble = stacked_pred*0.70 + xgb_pred*0.15 + lgb_pred*0.15"
      ],
      "execution_count": null,
      "outputs": []
    },
    {
      "cell_type": "code",
      "metadata": {
        "id": "7_zDRCa86a9V"
      },
      "source": [
        "submission = pd.DataFrame({\n",
        "    \"no\": test_no,\n",
        "    \"가격(만원)\": ensemble\n",
        "})\n",
        "submission.to_csv('/content/drive/My Drive/dg_univ_2020_ml/output/v1.2.3.6.csv', index=False)"
      ],
      "execution_count": null,
      "outputs": []
    },
    {
      "cell_type": "code",
      "metadata": {
        "id": "lHVHce5v6a9X"
      },
      "source": [
        ""
      ],
      "execution_count": null,
      "outputs": []
    },
    {
      "cell_type": "code",
      "metadata": {
        "id": "z0NgPwLHS66O"
      },
      "source": [
        ""
      ],
      "execution_count": null,
      "outputs": []
    }
  ]
}