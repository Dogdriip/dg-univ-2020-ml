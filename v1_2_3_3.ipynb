{
  "nbformat": 4,
  "nbformat_minor": 0,
  "metadata": {
    "kernelspec": {
      "name": "python3",
      "display_name": "Python 3"
    },
    "colab": {
      "name": "v1.2.3.3",
      "provenance": [],
      "collapsed_sections": [
        "hZU6Vech6a7F",
        "6Ibh0Cf66a7L",
        "i2fISCc56a7r",
        "N7ecncKI6a7x",
        "hwJ5DWeW6a9I"
      ],
      "toc_visible": true,
      "machine_shape": "hm",
      "include_colab_link": true
    },
    "accelerator": "GPU"
  },
  "cells": [
    {
      "cell_type": "markdown",
      "metadata": {
        "id": "view-in-github",
        "colab_type": "text"
      },
      "source": [
        "<a href=\"https://colab.research.google.com/github/Dogdriip/dg-univ-2020-ml/blob/main/v1_2_3_3.ipynb\" target=\"_parent\"><img src=\"https://colab.research.google.com/assets/colab-badge.svg\" alt=\"Open In Colab\"/></a>"
      ]
    },
    {
      "cell_type": "markdown",
      "metadata": {
        "id": "cCMx6C-76a6p"
      },
      "source": [
        "# v1.2.3.3"
      ]
    },
    {
      "cell_type": "code",
      "metadata": {
        "id": "TbltV90c6jyg",
        "outputId": "d82b2f02-ff26-4398-d778-d20bc8710026",
        "colab": {
          "base_uri": "https://localhost:8080/"
        }
      },
      "source": [
        "from google.colab import files\n",
        "from google.colab import drive\n",
        "drive.mount('/content/drive/')"
      ],
      "execution_count": 1,
      "outputs": [
        {
          "output_type": "stream",
          "text": [
            "Mounted at /content/drive/\n"
          ],
          "name": "stdout"
        }
      ]
    },
    {
      "cell_type": "code",
      "metadata": {
        "id": "z5Pa0R7g6a6q",
        "outputId": "7067186f-2e01-4357-bf09-677374995dd0",
        "colab": {
          "base_uri": "https://localhost:8080/"
        }
      },
      "source": [
        "import pandas as pd\n",
        "import numpy as np\n",
        "\n",
        "import matplotlib.pyplot as plt\n",
        "import seaborn as sns\n",
        "sns.set_style('whitegrid')\n",
        "%matplotlib inline \n",
        "import warnings\n",
        "warnings.filterwarnings(action='ignore')\n",
        "\n",
        "!pip install missingpy\n",
        "from missingpy import MissForest\n",
        "\n",
        "from scipy import stats\n",
        "from scipy.stats import norm, skew #for some statistics"
      ],
      "execution_count": 2,
      "outputs": [
        {
          "output_type": "stream",
          "text": [
            "Collecting missingpy\n",
            "\u001b[?25l  Downloading https://files.pythonhosted.org/packages/b5/be/998d04d27054b58f0974b5f09f8457778a0a72d4355e0b7ae877b6cfb850/missingpy-0.2.0-py3-none-any.whl (49kB)\n",
            "\r\u001b[K     |██████▊                         | 10kB 23.0MB/s eta 0:00:01\r\u001b[K     |█████████████▍                  | 20kB 29.6MB/s eta 0:00:01\r\u001b[K     |████████████████████            | 30kB 22.8MB/s eta 0:00:01\r\u001b[K     |██████████████████████████▊     | 40kB 17.6MB/s eta 0:00:01\r\u001b[K     |████████████████████████████████| 51kB 4.9MB/s \n",
            "\u001b[?25hInstalling collected packages: missingpy\n",
            "Successfully installed missingpy-0.2.0\n"
          ],
          "name": "stdout"
        }
      ]
    },
    {
      "cell_type": "code",
      "metadata": {
        "id": "1FW0h1qO6a6t"
      },
      "source": [
        "train = pd.read_csv('/content/drive/My Drive/dg_univ_2020_ml/train.csv')\n",
        "test = pd.read_csv('/content/drive/My Drive/dg_univ_2020_ml/test.csv')"
      ],
      "execution_count": 3,
      "outputs": []
    },
    {
      "cell_type": "code",
      "metadata": {
        "id": "bOY5R0C06a6v",
        "outputId": "ef84cd18-2f56-49ff-b04c-a30a69570254",
        "colab": {
          "base_uri": "https://localhost:8080/"
        }
      },
      "source": [
        "print(train.shape)\n",
        "print(test.shape)"
      ],
      "execution_count": 4,
      "outputs": [
        {
          "output_type": "stream",
          "text": [
            "(11769, 15)\n",
            "(5789, 13)\n"
          ],
          "name": "stdout"
        }
      ]
    },
    {
      "cell_type": "code",
      "metadata": {
        "id": "mBkoB9E56a6y",
        "outputId": "1ff51261-af5f-4f18-b7db-30cb6136e857",
        "colab": {
          "base_uri": "https://localhost:8080/",
          "height": 288
        }
      },
      "source": [
        "train.head()"
      ],
      "execution_count": 5,
      "outputs": [
        {
          "output_type": "execute_result",
          "data": {
            "text/html": [
              "<div>\n",
              "<style scoped>\n",
              "    .dataframe tbody tr th:only-of-type {\n",
              "        vertical-align: middle;\n",
              "    }\n",
              "\n",
              "    .dataframe tbody tr th {\n",
              "        vertical-align: top;\n",
              "    }\n",
              "\n",
              "    .dataframe thead th {\n",
              "        text-align: right;\n",
              "    }\n",
              "</style>\n",
              "<table border=\"1\" class=\"dataframe\">\n",
              "  <thead>\n",
              "    <tr style=\"text-align: right;\">\n",
              "      <th></th>\n",
              "      <th>no</th>\n",
              "      <th>모델명</th>\n",
              "      <th>연월</th>\n",
              "      <th>연식</th>\n",
              "      <th>연료</th>\n",
              "      <th>주행거리</th>\n",
              "      <th>인승</th>\n",
              "      <th>최대출력(마력)</th>\n",
              "      <th>기통</th>\n",
              "      <th>최대토크(kgm)</th>\n",
              "      <th>구동방식</th>\n",
              "      <th>자동수동</th>\n",
              "      <th>국산/수입</th>\n",
              "      <th>신차가(만원)</th>\n",
              "      <th>가격(만원)</th>\n",
              "    </tr>\n",
              "  </thead>\n",
              "  <tbody>\n",
              "    <tr>\n",
              "      <th>0</th>\n",
              "      <td>0</td>\n",
              "      <td>기아 더 뉴 K7 2.4 GDI 프레스티지 스페셜</td>\n",
              "      <td>12/12(13년형)</td>\n",
              "      <td>2013.0</td>\n",
              "      <td>가솔린</td>\n",
              "      <td>4만km</td>\n",
              "      <td>NaN</td>\n",
              "      <td>201.0</td>\n",
              "      <td>4.0</td>\n",
              "      <td>25.5</td>\n",
              "      <td>FF</td>\n",
              "      <td>NaN</td>\n",
              "      <td>국산</td>\n",
              "      <td>3141.0</td>\n",
              "      <td>1870.0</td>\n",
              "    </tr>\n",
              "    <tr>\n",
              "      <th>1</th>\n",
              "      <td>1</td>\n",
              "      <td>현대 YF쏘나타 2.0 Y20 LPi 프리미어</td>\n",
              "      <td>10/03</td>\n",
              "      <td>2010.0</td>\n",
              "      <td>LPG</td>\n",
              "      <td>9만km</td>\n",
              "      <td>NaN</td>\n",
              "      <td>157.0</td>\n",
              "      <td>NaN</td>\n",
              "      <td>20.0</td>\n",
              "      <td>FF</td>\n",
              "      <td>NaN</td>\n",
              "      <td>국산</td>\n",
              "      <td>NaN</td>\n",
              "      <td>700.0</td>\n",
              "    </tr>\n",
              "    <tr>\n",
              "      <th>2</th>\n",
              "      <td>2</td>\n",
              "      <td>현대 그랜져HG 220 디젤 프리미엄</td>\n",
              "      <td>14/09(15년형)</td>\n",
              "      <td>2015.0</td>\n",
              "      <td>디젤</td>\n",
              "      <td>3만km</td>\n",
              "      <td>NaN</td>\n",
              "      <td>202.0</td>\n",
              "      <td>4.0</td>\n",
              "      <td>45.0</td>\n",
              "      <td>FF</td>\n",
              "      <td>NaN</td>\n",
              "      <td>국산</td>\n",
              "      <td>3389.0</td>\n",
              "      <td>2990.0</td>\n",
              "    </tr>\n",
              "    <tr>\n",
              "      <th>3</th>\n",
              "      <td>3</td>\n",
              "      <td>쌍용 뉴카이런 2.0 LV5 2WD 고급형</td>\n",
              "      <td>07/06(08년형)</td>\n",
              "      <td>2008.0</td>\n",
              "      <td>디젤</td>\n",
              "      <td>16만km</td>\n",
              "      <td>NaN</td>\n",
              "      <td>151.0</td>\n",
              "      <td>4.0</td>\n",
              "      <td>33.8</td>\n",
              "      <td>FR</td>\n",
              "      <td>NaN</td>\n",
              "      <td>국산</td>\n",
              "      <td>2499.0</td>\n",
              "      <td>420.0</td>\n",
              "    </tr>\n",
              "    <tr>\n",
              "      <th>4</th>\n",
              "      <td>4</td>\n",
              "      <td>현대 뉴스타렉스 점보 밴 TCI 3인승 GX 윈도우밴 일반형</td>\n",
              "      <td>04/03</td>\n",
              "      <td>2004.0</td>\n",
              "      <td>디젤</td>\n",
              "      <td>16만km</td>\n",
              "      <td>3.0</td>\n",
              "      <td>103.0</td>\n",
              "      <td>NaN</td>\n",
              "      <td>24.0</td>\n",
              "      <td>FR</td>\n",
              "      <td>수동</td>\n",
              "      <td>국산</td>\n",
              "      <td>1445.0</td>\n",
              "      <td>450.0</td>\n",
              "    </tr>\n",
              "  </tbody>\n",
              "</table>\n",
              "</div>"
            ],
            "text/plain": [
              "   no                                모델명           연월  ...  국산/수입 신차가(만원)  가격(만원)\n",
              "0   0        기아 더 뉴 K7 2.4 GDI 프레스티지 스페셜  12/12(13년형)  ...     국산  3141.0  1870.0\n",
              "1   1          현대 YF쏘나타 2.0 Y20 LPi 프리미어        10/03  ...     국산     NaN   700.0\n",
              "2   2               현대 그랜져HG 220 디젤 프리미엄  14/09(15년형)  ...     국산  3389.0  2990.0\n",
              "3   3            쌍용 뉴카이런 2.0 LV5 2WD 고급형  07/06(08년형)  ...     국산  2499.0   420.0\n",
              "4   4  현대 뉴스타렉스 점보 밴 TCI 3인승 GX 윈도우밴 일반형        04/03  ...     국산  1445.0   450.0\n",
              "\n",
              "[5 rows x 15 columns]"
            ]
          },
          "metadata": {
            "tags": []
          },
          "execution_count": 5
        }
      ]
    },
    {
      "cell_type": "code",
      "metadata": {
        "id": "yotU_9Vq6a61",
        "outputId": "aef025f8-cebc-40aa-8a5e-e2985e0f484d",
        "colab": {
          "base_uri": "https://localhost:8080/"
        }
      },
      "source": [
        "train.info()"
      ],
      "execution_count": 6,
      "outputs": [
        {
          "output_type": "stream",
          "text": [
            "<class 'pandas.core.frame.DataFrame'>\n",
            "RangeIndex: 11769 entries, 0 to 11768\n",
            "Data columns (total 15 columns):\n",
            " #   Column     Non-Null Count  Dtype  \n",
            "---  ------     --------------  -----  \n",
            " 0   no         11769 non-null  int64  \n",
            " 1   모델명        11769 non-null  object \n",
            " 2   연월         11769 non-null  object \n",
            " 3   연식         11769 non-null  float64\n",
            " 4   연료         11769 non-null  object \n",
            " 5   주행거리       11769 non-null  object \n",
            " 6   인승         765 non-null    float64\n",
            " 7   최대출력(마력)   10644 non-null  float64\n",
            " 8   기통         8698 non-null   float64\n",
            " 9   최대토크(kgm)  10545 non-null  float64\n",
            " 10  구동방식       10808 non-null  object \n",
            " 11  자동수동       1313 non-null   object \n",
            " 12  국산/수입      11769 non-null  object \n",
            " 13  신차가(만원)    9544 non-null   float64\n",
            " 14  가격(만원)     11769 non-null  float64\n",
            "dtypes: float64(7), int64(1), object(7)\n",
            "memory usage: 1.3+ MB\n"
          ],
          "name": "stdout"
        }
      ]
    },
    {
      "cell_type": "code",
      "metadata": {
        "id": "RfehfOEC6a63",
        "outputId": "8123f853-7847-4102-f9db-231dbeec37af",
        "colab": {
          "base_uri": "https://localhost:8080/"
        }
      },
      "source": [
        "test.info()"
      ],
      "execution_count": 7,
      "outputs": [
        {
          "output_type": "stream",
          "text": [
            "<class 'pandas.core.frame.DataFrame'>\n",
            "RangeIndex: 5789 entries, 0 to 5788\n",
            "Data columns (total 13 columns):\n",
            " #   Column     Non-Null Count  Dtype  \n",
            "---  ------     --------------  -----  \n",
            " 0   no         5789 non-null   int64  \n",
            " 1   모델명        5789 non-null   object \n",
            " 2   연월         5789 non-null   object \n",
            " 3   연식         5789 non-null   float64\n",
            " 4   연료         5789 non-null   object \n",
            " 5   주행거리       5789 non-null   object \n",
            " 6   인승         389 non-null    float64\n",
            " 7   최대출력(마력)   5237 non-null   float64\n",
            " 8   기통         4275 non-null   float64\n",
            " 9   최대토크(kgm)  5183 non-null   float64\n",
            " 10  구동방식       5312 non-null   object \n",
            " 11  자동수동       665 non-null    object \n",
            " 12  국산/수입      5789 non-null   object \n",
            "dtypes: float64(5), int64(1), object(7)\n",
            "memory usage: 588.1+ KB\n"
          ],
          "name": "stdout"
        }
      ]
    },
    {
      "cell_type": "markdown",
      "metadata": {
        "id": "BczFAUo-6a65"
      },
      "source": [
        "# Translate all column name to English"
      ]
    },
    {
      "cell_type": "code",
      "metadata": {
        "id": "tVtw7Vzr6a65"
      },
      "source": [
        "train.columns = ['no', 'modelname', 'ym', 'yeartype', 'fuel', 'dist', 'people', 'power', 'cylinder', 'torque', 'type', 'mission', 'country', 'newprice', 'price']\n",
        "test.columns = ['no', 'modelname', 'ym', 'yeartype', 'fuel', 'dist', 'people', 'power', 'cylinder', 'torque', 'type', 'mission', 'country']"
      ],
      "execution_count": 8,
      "outputs": []
    },
    {
      "cell_type": "code",
      "metadata": {
        "id": "eZg5qaNd6a68",
        "outputId": "da2d9a1e-a23f-4cba-d8d0-ed28420353db",
        "colab": {
          "base_uri": "https://localhost:8080/"
        }
      },
      "source": [
        "train.info()"
      ],
      "execution_count": 9,
      "outputs": [
        {
          "output_type": "stream",
          "text": [
            "<class 'pandas.core.frame.DataFrame'>\n",
            "RangeIndex: 11769 entries, 0 to 11768\n",
            "Data columns (total 15 columns):\n",
            " #   Column     Non-Null Count  Dtype  \n",
            "---  ------     --------------  -----  \n",
            " 0   no         11769 non-null  int64  \n",
            " 1   modelname  11769 non-null  object \n",
            " 2   ym         11769 non-null  object \n",
            " 3   yeartype   11769 non-null  float64\n",
            " 4   fuel       11769 non-null  object \n",
            " 5   dist       11769 non-null  object \n",
            " 6   people     765 non-null    float64\n",
            " 7   power      10644 non-null  float64\n",
            " 8   cylinder   8698 non-null   float64\n",
            " 9   torque     10545 non-null  float64\n",
            " 10  type       10808 non-null  object \n",
            " 11  mission    1313 non-null   object \n",
            " 12  country    11769 non-null  object \n",
            " 13  newprice   9544 non-null   float64\n",
            " 14  price      11769 non-null  float64\n",
            "dtypes: float64(7), int64(1), object(7)\n",
            "memory usage: 1.3+ MB\n"
          ],
          "name": "stdout"
        }
      ]
    },
    {
      "cell_type": "code",
      "metadata": {
        "id": "aG3tClND6a6-",
        "outputId": "8e72bf65-7868-4ef8-ff50-36fabb03c005",
        "colab": {
          "base_uri": "https://localhost:8080/"
        }
      },
      "source": [
        "test.info()"
      ],
      "execution_count": 10,
      "outputs": [
        {
          "output_type": "stream",
          "text": [
            "<class 'pandas.core.frame.DataFrame'>\n",
            "RangeIndex: 5789 entries, 0 to 5788\n",
            "Data columns (total 13 columns):\n",
            " #   Column     Non-Null Count  Dtype  \n",
            "---  ------     --------------  -----  \n",
            " 0   no         5789 non-null   int64  \n",
            " 1   modelname  5789 non-null   object \n",
            " 2   ym         5789 non-null   object \n",
            " 3   yeartype   5789 non-null   float64\n",
            " 4   fuel       5789 non-null   object \n",
            " 5   dist       5789 non-null   object \n",
            " 6   people     389 non-null    float64\n",
            " 7   power      5237 non-null   float64\n",
            " 8   cylinder   4275 non-null   float64\n",
            " 9   torque     5183 non-null   float64\n",
            " 10  type       5312 non-null   object \n",
            " 11  mission    665 non-null    object \n",
            " 12  country    5789 non-null   object \n",
            "dtypes: float64(5), int64(1), object(7)\n",
            "memory usage: 588.1+ KB\n"
          ],
          "name": "stdout"
        }
      ]
    },
    {
      "cell_type": "code",
      "metadata": {
        "id": "4h1EMIZV6a7A"
      },
      "source": [
        "# sns.heatmap(train.isnull(), cbar=False)"
      ],
      "execution_count": 11,
      "outputs": []
    },
    {
      "cell_type": "code",
      "metadata": {
        "id": "weBwrSWB6a7B"
      },
      "source": [
        "# sns.heatmap(test.isnull(), cbar=False)"
      ],
      "execution_count": 12,
      "outputs": []
    },
    {
      "cell_type": "code",
      "metadata": {
        "id": "f3fBZeX96a7D"
      },
      "source": [
        "train_no = train['no']\n",
        "test_no = test['no']\n",
        "train = train.drop(['no'], axis=1)\n",
        "test = test.drop(['no'], axis=1)"
      ],
      "execution_count": 13,
      "outputs": []
    },
    {
      "cell_type": "markdown",
      "metadata": {
        "id": "hZU6Vech6a7F"
      },
      "source": [
        "# Getting started (All columns here)\n",
        "```\n",
        "0   no         11769 non-null  int64    \n",
        "1   모델명        11769 non-null  object   \n",
        "2   연월         11769 non-null  object   \n",
        "3   연식         11769 non-null  float64  \n",
        "4   연료         11769 non-null  object   \n",
        "5   주행거리       11769 non-null  object   \n",
        "6   인승         765 non-null    float64  \n",
        "7   최대출력(마력)   10644 non-null  float64  \n",
        "8   기통         8698 non-null   float64  \n",
        "9   최대토크(kgm)  10545 non-null  float64  \n",
        "10  구동방식       10808 non-null  object   \n",
        "11  자동수동       1313 non-null   object   \n",
        "12  국산/수입      11769 non-null  object   \n",
        "13  신차가(만원)    9544 non-null   float64  \n",
        "14  가격(만원)     11769 non-null  float64  \n",
        "```\n",
        "\n",
        "```\n",
        "0   no         11769 non-null  int64  \n",
        "1   modelname  11769 non-null  object \n",
        "2   ym         11769 non-null  object \n",
        "3   yeartype   11769 non-null  float64\n",
        "4   fuel       11769 non-null  object \n",
        "5   dist       11769 non-null  object \n",
        "6   people     765 non-null    float64\n",
        "7   power      10644 non-null  float64\n",
        "8   cylinder   8698 non-null   float64\n",
        "9   torque     10545 non-null  float64\n",
        "10  type       10808 non-null  object \n",
        "11  mission    1313 non-null   object \n",
        "12  country    11769 non-null  object \n",
        "13  newprice   9544 non-null   float64\n",
        "14  price      11769 non-null  float64\n",
        "```"
      ]
    },
    {
      "cell_type": "markdown",
      "metadata": {
        "id": "Y06b-JkTXdtW"
      },
      "source": [
        "# Outlier check, remove"
      ]
    },
    {
      "cell_type": "code",
      "metadata": {
        "id": "q5zJUjtzXbok",
        "outputId": "e30ad47a-8313-40d6-f27d-ce8340cff48c",
        "colab": {
          "base_uri": "https://localhost:8080/",
          "height": 282
        }
      },
      "source": [
        "fig, ax = plt.subplots()\n",
        "ax.scatter(x=train['yeartype'], y=train['price'])\n",
        "plt.xlabel('yeartype', fontsize=13)\n",
        "plt.ylabel('price', fontsize=13)\n",
        "plt.show()"
      ],
      "execution_count": 14,
      "outputs": [
        {
          "output_type": "display_data",
          "data": {
            "image/png": "[encoded data removed]",
            "text/plain": [
              "<Figure size 432x288 with 1 Axes>"
            ]
          },
          "metadata": {
            "tags": [],
            "needs_background": "light"
          }
        }
      ]
    },
    {
      "cell_type": "code",
      "metadata": {
        "id": "SFVYNvZzaZcK",
        "outputId": "3218ba8c-1e13-46ff-f22f-fb7a0ebfc6d5",
        "colab": {
          "base_uri": "https://localhost:8080/",
          "height": 282
        }
      },
      "source": [
        "fig, ax = plt.subplots()\n",
        "ax.scatter(x=train['newprice'], y=train['price'])\n",
        "plt.xlabel('newprice', fontsize=13)\n",
        "plt.ylabel('price', fontsize=13)\n",
        "plt.show()"
      ],
      "execution_count": 15,
      "outputs": [
        {
          "output_type": "display_data",
          "data": {
            "image/png": "[encoded data removed]",
            "text/plain": [
              "<Figure size 432x288 with 1 Axes>"
            ]
          },
          "metadata": {
            "tags": [],
            "needs_background": "light"
          }
        }
      ]
    },
    {
      "cell_type": "code",
      "metadata": {
        "id": "0POa7NCwcgMY"
      },
      "source": [
        "train = train.drop(train[(train['price'] > 40000)].index)"
      ],
      "execution_count": 16,
      "outputs": []
    },
    {
      "cell_type": "code",
      "metadata": {
        "id": "kNlsUcNpcwsM",
        "outputId": "9d202782-4fff-4547-be35-44cca5d6325b",
        "colab": {
          "base_uri": "https://localhost:8080/",
          "height": 48
        }
      },
      "source": [
        "train[(train['price'] > 40000)]"
      ],
      "execution_count": 17,
      "outputs": [
        {
          "output_type": "execute_result",
          "data": {
            "text/html": [
              "<div>\n",
              "<style scoped>\n",
              "    .dataframe tbody tr th:only-of-type {\n",
              "        vertical-align: middle;\n",
              "    }\n",
              "\n",
              "    .dataframe tbody tr th {\n",
              "        vertical-align: top;\n",
              "    }\n",
              "\n",
              "    .dataframe thead th {\n",
              "        text-align: right;\n",
              "    }\n",
              "</style>\n",
              "<table border=\"1\" class=\"dataframe\">\n",
              "  <thead>\n",
              "    <tr style=\"text-align: right;\">\n",
              "      <th></th>\n",
              "      <th>modelname</th>\n",
              "      <th>ym</th>\n",
              "      <th>yeartype</th>\n",
              "      <th>fuel</th>\n",
              "      <th>dist</th>\n",
              "      <th>people</th>\n",
              "      <th>power</th>\n",
              "      <th>cylinder</th>\n",
              "      <th>torque</th>\n",
              "      <th>type</th>\n",
              "      <th>mission</th>\n",
              "      <th>country</th>\n",
              "      <th>newprice</th>\n",
              "      <th>price</th>\n",
              "    </tr>\n",
              "  </thead>\n",
              "  <tbody>\n",
              "  </tbody>\n",
              "</table>\n",
              "</div>"
            ],
            "text/plain": [
              "Empty DataFrame\n",
              "Columns: [modelname, ym, yeartype, fuel, dist, people, power, cylinder, torque, type, mission, country, newprice, price]\n",
              "Index: []"
            ]
          },
          "metadata": {
            "tags": []
          },
          "execution_count": 17
        }
      ]
    },
    {
      "cell_type": "markdown",
      "metadata": {
        "id": "PSwjcWQFeM1J"
      },
      "source": [
        "# More inspection at price (apply log1p)"
      ]
    },
    {
      "cell_type": "code",
      "metadata": {
        "id": "W2iEcK0ceMam",
        "outputId": "dad0aea2-9a34-40ad-b62a-958909ec34d1",
        "colab": {
          "base_uri": "https://localhost:8080/",
          "height": 629
        }
      },
      "source": [
        "sns.distplot(train['price'], fit=norm)\n",
        "\n",
        "# Get the fitted parameters used by the function\n",
        "(mu, sigma) = norm.fit(train['price'])\n",
        "print( '\\n mu = {:.2f} and sigma = {:.2f}\\n'.format(mu, sigma))\n",
        "\n",
        "#Now plot the distribution\n",
        "plt.legend(['Normal dist. ($\\mu=$ {:.2f} and $\\sigma=$ {:.2f} )'.format(mu, sigma)],\n",
        "            loc='best')\n",
        "plt.ylabel('Frequency')\n",
        "plt.title('price distribution')\n",
        "\n",
        "#Get also the QQ-plot\n",
        "fig = plt.figure()\n",
        "res = stats.probplot(train['price'], plot=plt)\n",
        "plt.show()"
      ],
      "execution_count": 18,
      "outputs": [
        {
          "output_type": "stream",
          "text": [
            "\n",
            " mu = 1459.69 and sigma = 1374.79\n",
            "\n"
          ],
          "name": "stdout"
        },
        {
          "output_type": "display_data",
          "data": {
            "image/png": "[encoded data removed]",
            "text/plain": [
              "<Figure size 432x288 with 1 Axes>"
            ]
          },
          "metadata": {
            "tags": [],
            "needs_background": "light"
          }
        },
        {
          "output_type": "display_data",
          "data": {
            "image/png": "[encoded data removed]",
            "text/plain": [
              "<Figure size 432x288 with 1 Axes>"
            ]
          },
          "metadata": {
            "tags": [],
            "needs_background": "light"
          }
        }
      ]
    },
    {
      "cell_type": "code",
      "metadata": {
        "id": "QmYUW6lzfQkk"
      },
      "source": [
        "train[\"price\"] = np.log1p(train[\"price\"])"
      ],
      "execution_count": 19,
      "outputs": []
    },
    {
      "cell_type": "code",
      "metadata": {
        "id": "DTedun6ufSKT",
        "outputId": "b98f830c-9c8e-4776-96bb-4c120738955d",
        "colab": {
          "base_uri": "https://localhost:8080/",
          "height": 629
        }
      },
      "source": [
        "sns.distplot(train['price'], fit=norm)\n",
        "\n",
        "# Get the fitted parameters used by the function\n",
        "(mu, sigma) = norm.fit(train['price'])\n",
        "print( '\\n mu = {:.2f} and sigma = {:.2f}\\n'.format(mu, sigma))\n",
        "\n",
        "#Now plot the distribution\n",
        "plt.legend(['Normal dist. ($\\mu=$ {:.2f} and $\\sigma=$ {:.2f} )'.format(mu, sigma)],\n",
        "            loc='best')\n",
        "plt.ylabel('Frequency')\n",
        "plt.title('price distribution')\n",
        "\n",
        "#Get also the QQ-plot\n",
        "fig = plt.figure()\n",
        "res = stats.probplot(train['price'], plot=plt)\n",
        "plt.show()"
      ],
      "execution_count": 20,
      "outputs": [
        {
          "output_type": "stream",
          "text": [
            "\n",
            " mu = 6.94 and sigma = 0.88\n",
            "\n"
          ],
          "name": "stdout"
        },
        {
          "output_type": "display_data",
          "data": {
            "image/png": "[encoded data removed]",
            "text/plain": [
              "<Figure size 432x288 with 1 Axes>"
            ]
          },
          "metadata": {
            "tags": [],
            "needs_background": "light"
          }
        },
        {
          "output_type": "display_data",
          "data": {
            "image/png": "[encoded data removed]",
            "text/plain": [
              "<Figure size 432x288 with 1 Axes>"
            ]
          },
          "metadata": {
            "tags": [],
            "needs_background": "light"
          }
        }
      ]
    },
    {
      "cell_type": "markdown",
      "metadata": {
        "id": "y_vhNli1fyYn"
      },
      "source": [
        "# Correlation Matrix"
      ]
    },
    {
      "cell_type": "code",
      "metadata": {
        "id": "xYvLuSXYfyqU",
        "outputId": "4c2ed5ec-659d-4b63-9a4e-51eaa300f30a",
        "colab": {
          "base_uri": "https://localhost:8080/",
          "height": 555
        }
      },
      "source": [
        "#Correlation map to see how features are correlated with SalePrice\n",
        "corrmat = train.corr()\n",
        "plt.subplots(figsize=(12,9))\n",
        "sns.heatmap(corrmat, vmax=0.9, square=True)"
      ],
      "execution_count": 21,
      "outputs": [
        {
          "output_type": "execute_result",
          "data": {
            "text/plain": [
              "<matplotlib.axes._subplots.AxesSubplot at 0x7f00f49c4128>"
            ]
          },
          "metadata": {
            "tags": []
          },
          "execution_count": 21
        },
        {
          "output_type": "display_data",
          "data": {
            "image/png": "[encoded data removed]",
            "text/plain": [
              "<Figure size 864x648 with 2 Axes>"
            ]
          },
          "metadata": {
            "tags": [],
            "needs_background": "light"
          }
        }
      ]
    },
    {
      "cell_type": "markdown",
      "metadata": {
        "id": "qNG5jQEb6a7G"
      },
      "source": [
        "# 1 모델명 modelname 11769 non-null object\n",
        "\n",
        "- 역시 이번에도 모델명은 날리자"
      ]
    },
    {
      "cell_type": "code",
      "metadata": {
        "id": "tpX-Lq_w6a7G",
        "outputId": "3eb96549-f480-464a-8c15-a368ae0e5834",
        "colab": {
          "base_uri": "https://localhost:8080/"
        }
      },
      "source": [
        "train = train.drop(['modelname'], axis=1)\n",
        "test = test.drop(['modelname'], axis=1)\n",
        "\n",
        "print(train.shape)\n",
        "print(test.shape)"
      ],
      "execution_count": 22,
      "outputs": [
        {
          "output_type": "stream",
          "text": [
            "(11767, 13)\n",
            "(5789, 11)\n"
          ],
          "name": "stdout"
        }
      ]
    },
    {
      "cell_type": "markdown",
      "metadata": {
        "id": "f5Guq0BE6a7I"
      },
      "source": [
        "# 2 연월 ym 11769 non-null object\n",
        "\n",
        "- 생각해보면, 그리고 데이터 명세 다시 보니까,\n",
        "- 어차피 연식(yeartype)에 있는 정보다\n",
        "- 이거 날리자"
      ]
    },
    {
      "cell_type": "code",
      "metadata": {
        "id": "V48VspfY6a7I",
        "outputId": "800a51be-4d59-4c91-8b9f-261215d8fff8",
        "colab": {
          "base_uri": "https://localhost:8080/"
        }
      },
      "source": [
        "train = train.drop(['ym'], axis=1)\n",
        "test = test.drop(['ym'], axis=1)\n",
        "\n",
        "print(train.shape)\n",
        "print(test.shape)"
      ],
      "execution_count": 23,
      "outputs": [
        {
          "output_type": "stream",
          "text": [
            "(11767, 12)\n",
            "(5789, 10)\n"
          ],
          "name": "stdout"
        }
      ]
    },
    {
      "cell_type": "markdown",
      "metadata": {
        "id": "6Ibh0Cf66a7L"
      },
      "source": [
        "# 3 연식 yeartype 11769 non-null float64\n",
        "\n",
        "건들지 말자"
      ]
    },
    {
      "cell_type": "markdown",
      "metadata": {
        "id": "vYq-hRQ16a7L"
      },
      "source": [
        "# 4 연료 fuel 11769 non-null object\n",
        "\n",
        "- 범주형\n",
        "- 이거 생각 좀 해보자\n",
        "- 그냥 큰 범주로 산입할까?"
      ]
    },
    {
      "cell_type": "code",
      "metadata": {
        "id": "RlDoCoc36a7L"
      },
      "source": [
        "train_fuel = train['fuel']\n",
        "test_fuel = test['fuel']"
      ],
      "execution_count": 24,
      "outputs": []
    },
    {
      "cell_type": "code",
      "metadata": {
        "id": "ZgGRJoEh6a7O",
        "outputId": "0335cf8d-0e8c-4a8b-d07f-c16e462ff987",
        "colab": {
          "base_uri": "https://localhost:8080/"
        }
      },
      "source": [
        "print(train_fuel.value_counts())\n",
        "print()\n",
        "print(test_fuel.value_counts())"
      ],
      "execution_count": 25,
      "outputs": [
        {
          "output_type": "stream",
          "text": [
            "가솔린          6669\n",
            "디젤           3967\n",
            "LPG           934\n",
            "가솔린+전기         79\n",
            "가솔린/LPG겸용      41\n",
            "기타             32\n",
            "전기             24\n",
            "LPG+전기         14\n",
            "가솔린/CNG겸용       4\n",
            "CNG             2\n",
            "수소              1\n",
            "Name: fuel, dtype: int64\n",
            "\n",
            "가솔린          3280\n",
            "디젤           1932\n",
            "LPG           469\n",
            "가솔린+전기         34\n",
            "가솔린/LPG겸용      33\n",
            "전기             19\n",
            "기타             11\n",
            "LPG+전기          8\n",
            "CNG             2\n",
            "가솔린/CNG겸용       1\n",
            "Name: fuel, dtype: int64\n"
          ],
          "name": "stdout"
        }
      ]
    },
    {
      "cell_type": "markdown",
      "metadata": {
        "id": "WGw2dXg66a7P"
      },
      "source": [
        "## 산입\n",
        "\n",
        "- 일단 그냥 수소만 기타로 갖다박을까?\n",
        "\n"
      ]
    },
    {
      "cell_type": "code",
      "metadata": {
        "id": "69bcTkQm6a7Q"
      },
      "source": [
        "train_fuel = train_fuel.replace('수소', '기타')"
      ],
      "execution_count": 26,
      "outputs": []
    },
    {
      "cell_type": "code",
      "metadata": {
        "id": "YVuHRI7F6a7S",
        "outputId": "7b9219c1-7ac6-4b81-a2c5-6b94b1509450",
        "colab": {
          "base_uri": "https://localhost:8080/"
        }
      },
      "source": [
        "train_fuel.value_counts()"
      ],
      "execution_count": 27,
      "outputs": [
        {
          "output_type": "execute_result",
          "data": {
            "text/plain": [
              "가솔린          6669\n",
              "디젤           3967\n",
              "LPG           934\n",
              "가솔린+전기         79\n",
              "가솔린/LPG겸용      41\n",
              "기타             33\n",
              "전기             24\n",
              "LPG+전기         14\n",
              "가솔린/CNG겸용       4\n",
              "CNG             2\n",
              "Name: fuel, dtype: int64"
            ]
          },
          "metadata": {
            "tags": []
          },
          "execution_count": 27
        }
      ]
    },
    {
      "cell_type": "code",
      "metadata": {
        "id": "sWVoO1yi6a7V"
      },
      "source": [
        "train_fuel_dummies = pd.get_dummies(train_fuel)\n",
        "test_fuel_dummies = pd.get_dummies(test_fuel)\n",
        "\n",
        "train_fuel_dummies = train_fuel_dummies.add_prefix('fuel_')\n",
        "test_fuel_dummies = test_fuel_dummies.add_prefix('fuel_')\n",
        "\n",
        "train = train.join(train_fuel_dummies)\n",
        "test = test.join(test_fuel_dummies)\n",
        "\n",
        "train = train.drop(['fuel'], axis=1)\n",
        "test = test.drop(['fuel'], axis=1)\n",
        "\n",
        "## train = train.join(train_fuel)\n",
        "## test = test.join(test_fuel)"
      ],
      "execution_count": 28,
      "outputs": []
    },
    {
      "cell_type": "code",
      "metadata": {
        "id": "p6l3mDuI6a7W",
        "outputId": "00157354-eb22-4c37-810b-c32805ee31ea",
        "colab": {
          "base_uri": "https://localhost:8080/",
          "height": 360
        }
      },
      "source": [
        "train.head()"
      ],
      "execution_count": 29,
      "outputs": [
        {
          "output_type": "execute_result",
          "data": {
            "text/html": [
              "<div>\n",
              "<style scoped>\n",
              "    .dataframe tbody tr th:only-of-type {\n",
              "        vertical-align: middle;\n",
              "    }\n",
              "\n",
              "    .dataframe tbody tr th {\n",
              "        vertical-align: top;\n",
              "    }\n",
              "\n",
              "    .dataframe thead th {\n",
              "        text-align: right;\n",
              "    }\n",
              "</style>\n",
              "<table border=\"1\" class=\"dataframe\">\n",
              "  <thead>\n",
              "    <tr style=\"text-align: right;\">\n",
              "      <th></th>\n",
              "      <th>yeartype</th>\n",
              "      <th>dist</th>\n",
              "      <th>people</th>\n",
              "      <th>power</th>\n",
              "      <th>cylinder</th>\n",
              "      <th>torque</th>\n",
              "      <th>type</th>\n",
              "      <th>mission</th>\n",
              "      <th>country</th>\n",
              "      <th>newprice</th>\n",
              "      <th>price</th>\n",
              "      <th>fuel_CNG</th>\n",
              "      <th>fuel_LPG</th>\n",
              "      <th>fuel_LPG+전기</th>\n",
              "      <th>fuel_가솔린</th>\n",
              "      <th>fuel_가솔린+전기</th>\n",
              "      <th>fuel_가솔린/CNG겸용</th>\n",
              "      <th>fuel_가솔린/LPG겸용</th>\n",
              "      <th>fuel_기타</th>\n",
              "      <th>fuel_디젤</th>\n",
              "      <th>fuel_전기</th>\n",
              "    </tr>\n",
              "  </thead>\n",
              "  <tbody>\n",
              "    <tr>\n",
              "      <th>0</th>\n",
              "      <td>2013.0</td>\n",
              "      <td>4만km</td>\n",
              "      <td>NaN</td>\n",
              "      <td>201.0</td>\n",
              "      <td>4.0</td>\n",
              "      <td>25.5</td>\n",
              "      <td>FF</td>\n",
              "      <td>NaN</td>\n",
              "      <td>국산</td>\n",
              "      <td>3141.0</td>\n",
              "      <td>7.534228</td>\n",
              "      <td>0</td>\n",
              "      <td>0</td>\n",
              "      <td>0</td>\n",
              "      <td>1</td>\n",
              "      <td>0</td>\n",
              "      <td>0</td>\n",
              "      <td>0</td>\n",
              "      <td>0</td>\n",
              "      <td>0</td>\n",
              "      <td>0</td>\n",
              "    </tr>\n",
              "    <tr>\n",
              "      <th>1</th>\n",
              "      <td>2010.0</td>\n",
              "      <td>9만km</td>\n",
              "      <td>NaN</td>\n",
              "      <td>157.0</td>\n",
              "      <td>NaN</td>\n",
              "      <td>20.0</td>\n",
              "      <td>FF</td>\n",
              "      <td>NaN</td>\n",
              "      <td>국산</td>\n",
              "      <td>NaN</td>\n",
              "      <td>6.552508</td>\n",
              "      <td>0</td>\n",
              "      <td>1</td>\n",
              "      <td>0</td>\n",
              "      <td>0</td>\n",
              "      <td>0</td>\n",
              "      <td>0</td>\n",
              "      <td>0</td>\n",
              "      <td>0</td>\n",
              "      <td>0</td>\n",
              "      <td>0</td>\n",
              "    </tr>\n",
              "    <tr>\n",
              "      <th>2</th>\n",
              "      <td>2015.0</td>\n",
              "      <td>3만km</td>\n",
              "      <td>NaN</td>\n",
              "      <td>202.0</td>\n",
              "      <td>4.0</td>\n",
              "      <td>45.0</td>\n",
              "      <td>FF</td>\n",
              "      <td>NaN</td>\n",
              "      <td>국산</td>\n",
              "      <td>3389.0</td>\n",
              "      <td>8.003363</td>\n",
              "      <td>0</td>\n",
              "      <td>0</td>\n",
              "      <td>0</td>\n",
              "      <td>0</td>\n",
              "      <td>0</td>\n",
              "      <td>0</td>\n",
              "      <td>0</td>\n",
              "      <td>0</td>\n",
              "      <td>1</td>\n",
              "      <td>0</td>\n",
              "    </tr>\n",
              "    <tr>\n",
              "      <th>3</th>\n",
              "      <td>2008.0</td>\n",
              "      <td>16만km</td>\n",
              "      <td>NaN</td>\n",
              "      <td>151.0</td>\n",
              "      <td>4.0</td>\n",
              "      <td>33.8</td>\n",
              "      <td>FR</td>\n",
              "      <td>NaN</td>\n",
              "      <td>국산</td>\n",
              "      <td>2499.0</td>\n",
              "      <td>6.042633</td>\n",
              "      <td>0</td>\n",
              "      <td>0</td>\n",
              "      <td>0</td>\n",
              "      <td>0</td>\n",
              "      <td>0</td>\n",
              "      <td>0</td>\n",
              "      <td>0</td>\n",
              "      <td>0</td>\n",
              "      <td>1</td>\n",
              "      <td>0</td>\n",
              "    </tr>\n",
              "    <tr>\n",
              "      <th>4</th>\n",
              "      <td>2004.0</td>\n",
              "      <td>16만km</td>\n",
              "      <td>3.0</td>\n",
              "      <td>103.0</td>\n",
              "      <td>NaN</td>\n",
              "      <td>24.0</td>\n",
              "      <td>FR</td>\n",
              "      <td>수동</td>\n",
              "      <td>국산</td>\n",
              "      <td>1445.0</td>\n",
              "      <td>6.111467</td>\n",
              "      <td>0</td>\n",
              "      <td>0</td>\n",
              "      <td>0</td>\n",
              "      <td>0</td>\n",
              "      <td>0</td>\n",
              "      <td>0</td>\n",
              "      <td>0</td>\n",
              "      <td>0</td>\n",
              "      <td>1</td>\n",
              "      <td>0</td>\n",
              "    </tr>\n",
              "  </tbody>\n",
              "</table>\n",
              "</div>"
            ],
            "text/plain": [
              "   yeartype   dist  people  power  ...  fuel_가솔린/LPG겸용  fuel_기타 fuel_디젤 fuel_전기\n",
              "0    2013.0   4만km     NaN  201.0  ...               0        0       0       0\n",
              "1    2010.0   9만km     NaN  157.0  ...               0        0       0       0\n",
              "2    2015.0   3만km     NaN  202.0  ...               0        0       1       0\n",
              "3    2008.0  16만km     NaN  151.0  ...               0        0       1       0\n",
              "4    2004.0  16만km     3.0  103.0  ...               0        0       1       0\n",
              "\n",
              "[5 rows x 21 columns]"
            ]
          },
          "metadata": {
            "tags": []
          },
          "execution_count": 29
        }
      ]
    },
    {
      "cell_type": "code",
      "metadata": {
        "id": "tVRRF0KL6a7Z",
        "outputId": "5e060e54-6d7d-4a90-e412-8f4351410d93",
        "colab": {
          "base_uri": "https://localhost:8080/"
        }
      },
      "source": [
        "print(train.shape)\n",
        "print(test.shape)"
      ],
      "execution_count": 30,
      "outputs": [
        {
          "output_type": "stream",
          "text": [
            "(11767, 21)\n",
            "(5789, 19)\n"
          ],
          "name": "stdout"
        }
      ]
    },
    {
      "cell_type": "markdown",
      "metadata": {
        "id": "T0Fl4JRV6a7b"
      },
      "source": [
        "# 5 주행거리 dist 11769 non-null object\n",
        "\n",
        "- %d만{km|ml}\n",
        "- 중간중간에 '등록'이라고 되어있는 게 있다\n",
        "- 일단 결측치로 냅둘까?\n",
        "- 나중에 MissForest 처리할 것이다"
      ]
    },
    {
      "cell_type": "code",
      "metadata": {
        "id": "WBPApT5O6a7b",
        "outputId": "f3f3306f-8449-4b4c-9397-38a44284cb3c",
        "colab": {
          "base_uri": "https://localhost:8080/"
        }
      },
      "source": [
        "train_dist = train['dist']\n",
        "test_dist = test['dist']\n",
        "\n",
        "train_dist"
      ],
      "execution_count": 31,
      "outputs": [
        {
          "output_type": "execute_result",
          "data": {
            "text/plain": [
              "0         4만km\n",
              "1         9만km\n",
              "2         3만km\n",
              "3        16만km\n",
              "4        16만km\n",
              "         ...  \n",
              "11763     2천km\n",
              "11765     5천km\n",
              "11766    230km\n",
              "11767     9천km\n",
              "11768     3천km\n",
              "Name: dist, Length: 11767, dtype: object"
            ]
          },
          "metadata": {
            "tags": []
          },
          "execution_count": 31
        }
      ]
    },
    {
      "cell_type": "code",
      "metadata": {
        "id": "3gkmXRPn6a7d"
      },
      "source": [
        "def preprocess_dist(x):\n",
        "    # '등록'은 나중에 평균으로 채울 거임\n",
        "    if x == '등록':\n",
        "        return None\n",
        "\n",
        "    if x[-2:] == 'km':\n",
        "        # kilometer\n",
        "        x = x.split('km')[0]\n",
        "        weight = 1\n",
        "    else:\n",
        "        # mile\n",
        "        assert x[-2:] == 'ml'\n",
        "        x = x.split('ml')[0]\n",
        "        weight = 1.609344\n",
        "\n",
        "    if x[-1] == '만':\n",
        "        x = float(x.split('만')[0]) * 10000\n",
        "    elif x[-1] == '천':\n",
        "        x = float(x.split('천')[0]) * 1000\n",
        "\n",
        "    return float(x * weight)"
      ],
      "execution_count": 32,
      "outputs": []
    },
    {
      "cell_type": "code",
      "metadata": {
        "id": "BJbIhuZI6a7f",
        "outputId": "82c39918-da37-48d4-d2b8-b356876bc75d",
        "colab": {
          "base_uri": "https://localhost:8080/"
        }
      },
      "source": [
        "train_dist = train_dist.apply(preprocess_dist)\n",
        "test_dist = test_dist.apply(preprocess_dist)\n",
        "\n",
        "train_dist"
      ],
      "execution_count": 33,
      "outputs": [
        {
          "output_type": "execute_result",
          "data": {
            "text/plain": [
              "0         40000.0\n",
              "1         90000.0\n",
              "2         30000.0\n",
              "3        160000.0\n",
              "4        160000.0\n",
              "           ...   \n",
              "11763      2000.0\n",
              "11765      5000.0\n",
              "11766       230.0\n",
              "11767      9000.0\n",
              "11768      3000.0\n",
              "Name: dist, Length: 11767, dtype: float64"
            ]
          },
          "metadata": {
            "tags": []
          },
          "execution_count": 33
        }
      ]
    },
    {
      "cell_type": "code",
      "metadata": {
        "id": "f4mnBCOm6a7h",
        "outputId": "700ee496-16fe-47d4-8641-1c7663c56ef8",
        "colab": {
          "base_uri": "https://localhost:8080/"
        }
      },
      "source": [
        "# 등록 처리\n",
        "train_dist.isna().sum()"
      ],
      "execution_count": 34,
      "outputs": [
        {
          "output_type": "execute_result",
          "data": {
            "text/plain": [
              "29"
            ]
          },
          "metadata": {
            "tags": []
          },
          "execution_count": 34
        }
      ]
    },
    {
      "cell_type": "code",
      "metadata": {
        "id": "g5OZ0d0r6a7n"
      },
      "source": [
        "train = train.drop(['dist'], axis=1)\n",
        "test = test.drop(['dist'], axis=1)\n",
        "\n",
        "train = train.join(train_dist)\n",
        "test = test.join(test_dist)"
      ],
      "execution_count": 35,
      "outputs": []
    },
    {
      "cell_type": "code",
      "metadata": {
        "id": "pKSaQuf-6a7p",
        "outputId": "f4142d16-b473-4c51-b6bb-91b0b6cae60f",
        "colab": {
          "base_uri": "https://localhost:8080/",
          "height": 274
        }
      },
      "source": [
        "train.head()"
      ],
      "execution_count": 36,
      "outputs": [
        {
          "output_type": "execute_result",
          "data": {
            "text/html": [
              "<div>\n",
              "<style scoped>\n",
              "    .dataframe tbody tr th:only-of-type {\n",
              "        vertical-align: middle;\n",
              "    }\n",
              "\n",
              "    .dataframe tbody tr th {\n",
              "        vertical-align: top;\n",
              "    }\n",
              "\n",
              "    .dataframe thead th {\n",
              "        text-align: right;\n",
              "    }\n",
              "</style>\n",
              "<table border=\"1\" class=\"dataframe\">\n",
              "  <thead>\n",
              "    <tr style=\"text-align: right;\">\n",
              "      <th></th>\n",
              "      <th>yeartype</th>\n",
              "      <th>people</th>\n",
              "      <th>power</th>\n",
              "      <th>cylinder</th>\n",
              "      <th>torque</th>\n",
              "      <th>type</th>\n",
              "      <th>mission</th>\n",
              "      <th>country</th>\n",
              "      <th>newprice</th>\n",
              "      <th>price</th>\n",
              "      <th>fuel_CNG</th>\n",
              "      <th>fuel_LPG</th>\n",
              "      <th>fuel_LPG+전기</th>\n",
              "      <th>fuel_가솔린</th>\n",
              "      <th>fuel_가솔린+전기</th>\n",
              "      <th>fuel_가솔린/CNG겸용</th>\n",
              "      <th>fuel_가솔린/LPG겸용</th>\n",
              "      <th>fuel_기타</th>\n",
              "      <th>fuel_디젤</th>\n",
              "      <th>fuel_전기</th>\n",
              "      <th>dist</th>\n",
              "    </tr>\n",
              "  </thead>\n",
              "  <tbody>\n",
              "    <tr>\n",
              "      <th>0</th>\n",
              "      <td>2013.0</td>\n",
              "      <td>NaN</td>\n",
              "      <td>201.0</td>\n",
              "      <td>4.0</td>\n",
              "      <td>25.5</td>\n",
              "      <td>FF</td>\n",
              "      <td>NaN</td>\n",
              "      <td>국산</td>\n",
              "      <td>3141.0</td>\n",
              "      <td>7.534228</td>\n",
              "      <td>0</td>\n",
              "      <td>0</td>\n",
              "      <td>0</td>\n",
              "      <td>1</td>\n",
              "      <td>0</td>\n",
              "      <td>0</td>\n",
              "      <td>0</td>\n",
              "      <td>0</td>\n",
              "      <td>0</td>\n",
              "      <td>0</td>\n",
              "      <td>40000.0</td>\n",
              "    </tr>\n",
              "    <tr>\n",
              "      <th>1</th>\n",
              "      <td>2010.0</td>\n",
              "      <td>NaN</td>\n",
              "      <td>157.0</td>\n",
              "      <td>NaN</td>\n",
              "      <td>20.0</td>\n",
              "      <td>FF</td>\n",
              "      <td>NaN</td>\n",
              "      <td>국산</td>\n",
              "      <td>NaN</td>\n",
              "      <td>6.552508</td>\n",
              "      <td>0</td>\n",
              "      <td>1</td>\n",
              "      <td>0</td>\n",
              "      <td>0</td>\n",
              "      <td>0</td>\n",
              "      <td>0</td>\n",
              "      <td>0</td>\n",
              "      <td>0</td>\n",
              "      <td>0</td>\n",
              "      <td>0</td>\n",
              "      <td>90000.0</td>\n",
              "    </tr>\n",
              "    <tr>\n",
              "      <th>2</th>\n",
              "      <td>2015.0</td>\n",
              "      <td>NaN</td>\n",
              "      <td>202.0</td>\n",
              "      <td>4.0</td>\n",
              "      <td>45.0</td>\n",
              "      <td>FF</td>\n",
              "      <td>NaN</td>\n",
              "      <td>국산</td>\n",
              "      <td>3389.0</td>\n",
              "      <td>8.003363</td>\n",
              "      <td>0</td>\n",
              "      <td>0</td>\n",
              "      <td>0</td>\n",
              "      <td>0</td>\n",
              "      <td>0</td>\n",
              "      <td>0</td>\n",
              "      <td>0</td>\n",
              "      <td>0</td>\n",
              "      <td>1</td>\n",
              "      <td>0</td>\n",
              "      <td>30000.0</td>\n",
              "    </tr>\n",
              "    <tr>\n",
              "      <th>3</th>\n",
              "      <td>2008.0</td>\n",
              "      <td>NaN</td>\n",
              "      <td>151.0</td>\n",
              "      <td>4.0</td>\n",
              "      <td>33.8</td>\n",
              "      <td>FR</td>\n",
              "      <td>NaN</td>\n",
              "      <td>국산</td>\n",
              "      <td>2499.0</td>\n",
              "      <td>6.042633</td>\n",
              "      <td>0</td>\n",
              "      <td>0</td>\n",
              "      <td>0</td>\n",
              "      <td>0</td>\n",
              "      <td>0</td>\n",
              "      <td>0</td>\n",
              "      <td>0</td>\n",
              "      <td>0</td>\n",
              "      <td>1</td>\n",
              "      <td>0</td>\n",
              "      <td>160000.0</td>\n",
              "    </tr>\n",
              "    <tr>\n",
              "      <th>4</th>\n",
              "      <td>2004.0</td>\n",
              "      <td>3.0</td>\n",
              "      <td>103.0</td>\n",
              "      <td>NaN</td>\n",
              "      <td>24.0</td>\n",
              "      <td>FR</td>\n",
              "      <td>수동</td>\n",
              "      <td>국산</td>\n",
              "      <td>1445.0</td>\n",
              "      <td>6.111467</td>\n",
              "      <td>0</td>\n",
              "      <td>0</td>\n",
              "      <td>0</td>\n",
              "      <td>0</td>\n",
              "      <td>0</td>\n",
              "      <td>0</td>\n",
              "      <td>0</td>\n",
              "      <td>0</td>\n",
              "      <td>1</td>\n",
              "      <td>0</td>\n",
              "      <td>160000.0</td>\n",
              "    </tr>\n",
              "  </tbody>\n",
              "</table>\n",
              "</div>"
            ],
            "text/plain": [
              "   yeartype  people  power  cylinder  ...  fuel_기타 fuel_디젤 fuel_전기      dist\n",
              "0    2013.0     NaN  201.0       4.0  ...        0       0       0   40000.0\n",
              "1    2010.0     NaN  157.0       NaN  ...        0       0       0   90000.0\n",
              "2    2015.0     NaN  202.0       4.0  ...        0       1       0   30000.0\n",
              "3    2008.0     NaN  151.0       4.0  ...        0       1       0  160000.0\n",
              "4    2004.0     3.0  103.0       NaN  ...        0       1       0  160000.0\n",
              "\n",
              "[5 rows x 21 columns]"
            ]
          },
          "metadata": {
            "tags": []
          },
          "execution_count": 36
        }
      ]
    },
    {
      "cell_type": "markdown",
      "metadata": {
        "id": "i2fISCc56a7r"
      },
      "source": [
        "# 6 인승 people 765 non-null float64\n",
        "\n",
        "- 드랍"
      ]
    },
    {
      "cell_type": "code",
      "metadata": {
        "id": "RQ5nFdjm6a7r"
      },
      "source": [
        "train_people = train['people']\n",
        "test_people = test['people']"
      ],
      "execution_count": 37,
      "outputs": []
    },
    {
      "cell_type": "code",
      "metadata": {
        "id": "P6WBIWTq6a7v"
      },
      "source": [
        "train = train.drop(['people'], axis=1)\n",
        "test = test.drop(['people'], axis=1)"
      ],
      "execution_count": 38,
      "outputs": []
    },
    {
      "cell_type": "markdown",
      "metadata": {
        "id": "N7ecncKI6a7x"
      },
      "source": [
        "# 7 최대출력(마력) power 10644 non-null float64\n",
        "\n",
        "- 얘도 결측치들을 냅두자"
      ]
    },
    {
      "cell_type": "code",
      "metadata": {
        "id": "c-9fEHIj6a7x",
        "outputId": "916c7208-b98f-4465-b24c-2c7c20a1e8e4",
        "colab": {
          "base_uri": "https://localhost:8080/"
        }
      },
      "source": [
        "train_power = train['power']\n",
        "test_power = test['power']\n",
        "\n",
        "train_power"
      ],
      "execution_count": 39,
      "outputs": [
        {
          "output_type": "execute_result",
          "data": {
            "text/plain": [
              "0        201.0\n",
              "1        157.0\n",
              "2        202.0\n",
              "3        151.0\n",
              "4        103.0\n",
              "         ...  \n",
              "11763    425.0\n",
              "11765      NaN\n",
              "11766    370.0\n",
              "11767    425.0\n",
              "11768    425.0\n",
              "Name: power, Length: 11767, dtype: float64"
            ]
          },
          "metadata": {
            "tags": []
          },
          "execution_count": 39
        }
      ]
    },
    {
      "cell_type": "code",
      "metadata": {
        "id": "UBLB_NMD6a7z",
        "outputId": "cf112ff7-b8fe-4f9e-a95e-f01024998a7f",
        "colab": {
          "base_uri": "https://localhost:8080/"
        }
      },
      "source": [
        "train_power.isna().sum()"
      ],
      "execution_count": 40,
      "outputs": [
        {
          "output_type": "execute_result",
          "data": {
            "text/plain": [
              "1125"
            ]
          },
          "metadata": {
            "tags": []
          },
          "execution_count": 40
        }
      ]
    },
    {
      "cell_type": "code",
      "metadata": {
        "id": "6OY1HzOp6a71"
      },
      "source": [
        "# train_power = train_power.fillna(train_power.mean())\n",
        "# test_power = test_power.fillna(test_power.mean())\n",
        "\n",
        "# train_power.isna().sum()"
      ],
      "execution_count": 41,
      "outputs": []
    },
    {
      "cell_type": "code",
      "metadata": {
        "id": "mzi652Zb6a75"
      },
      "source": [
        "train = train.drop(['power'], axis=1)\n",
        "test = test.drop(['power'], axis=1)\n",
        "\n",
        "train = train.join(train_power)\n",
        "test = test.join(test_power)"
      ],
      "execution_count": 42,
      "outputs": []
    },
    {
      "cell_type": "code",
      "metadata": {
        "id": "mm5NzeNQ6a77",
        "outputId": "8be258c6-3bd2-404e-e12a-2f87012997f9",
        "colab": {
          "base_uri": "https://localhost:8080/",
          "height": 0
        }
      },
      "source": [
        "train.head()"
      ],
      "execution_count": 43,
      "outputs": [
        {
          "output_type": "execute_result",
          "data": {
            "text/html": [
              "<div>\n",
              "<style scoped>\n",
              "    .dataframe tbody tr th:only-of-type {\n",
              "        vertical-align: middle;\n",
              "    }\n",
              "\n",
              "    .dataframe tbody tr th {\n",
              "        vertical-align: top;\n",
              "    }\n",
              "\n",
              "    .dataframe thead th {\n",
              "        text-align: right;\n",
              "    }\n",
              "</style>\n",
              "<table border=\"1\" class=\"dataframe\">\n",
              "  <thead>\n",
              "    <tr style=\"text-align: right;\">\n",
              "      <th></th>\n",
              "      <th>yeartype</th>\n",
              "      <th>cylinder</th>\n",
              "      <th>torque</th>\n",
              "      <th>type</th>\n",
              "      <th>mission</th>\n",
              "      <th>country</th>\n",
              "      <th>newprice</th>\n",
              "      <th>price</th>\n",
              "      <th>fuel_CNG</th>\n",
              "      <th>fuel_LPG</th>\n",
              "      <th>fuel_LPG+전기</th>\n",
              "      <th>fuel_가솔린</th>\n",
              "      <th>fuel_가솔린+전기</th>\n",
              "      <th>fuel_가솔린/CNG겸용</th>\n",
              "      <th>fuel_가솔린/LPG겸용</th>\n",
              "      <th>fuel_기타</th>\n",
              "      <th>fuel_디젤</th>\n",
              "      <th>fuel_전기</th>\n",
              "      <th>dist</th>\n",
              "      <th>power</th>\n",
              "    </tr>\n",
              "  </thead>\n",
              "  <tbody>\n",
              "    <tr>\n",
              "      <th>0</th>\n",
              "      <td>2013.0</td>\n",
              "      <td>4.0</td>\n",
              "      <td>25.5</td>\n",
              "      <td>FF</td>\n",
              "      <td>NaN</td>\n",
              "      <td>국산</td>\n",
              "      <td>3141.0</td>\n",
              "      <td>7.534228</td>\n",
              "      <td>0</td>\n",
              "      <td>0</td>\n",
              "      <td>0</td>\n",
              "      <td>1</td>\n",
              "      <td>0</td>\n",
              "      <td>0</td>\n",
              "      <td>0</td>\n",
              "      <td>0</td>\n",
              "      <td>0</td>\n",
              "      <td>0</td>\n",
              "      <td>40000.0</td>\n",
              "      <td>201.0</td>\n",
              "    </tr>\n",
              "    <tr>\n",
              "      <th>1</th>\n",
              "      <td>2010.0</td>\n",
              "      <td>NaN</td>\n",
              "      <td>20.0</td>\n",
              "      <td>FF</td>\n",
              "      <td>NaN</td>\n",
              "      <td>국산</td>\n",
              "      <td>NaN</td>\n",
              "      <td>6.552508</td>\n",
              "      <td>0</td>\n",
              "      <td>1</td>\n",
              "      <td>0</td>\n",
              "      <td>0</td>\n",
              "      <td>0</td>\n",
              "      <td>0</td>\n",
              "      <td>0</td>\n",
              "      <td>0</td>\n",
              "      <td>0</td>\n",
              "      <td>0</td>\n",
              "      <td>90000.0</td>\n",
              "      <td>157.0</td>\n",
              "    </tr>\n",
              "    <tr>\n",
              "      <th>2</th>\n",
              "      <td>2015.0</td>\n",
              "      <td>4.0</td>\n",
              "      <td>45.0</td>\n",
              "      <td>FF</td>\n",
              "      <td>NaN</td>\n",
              "      <td>국산</td>\n",
              "      <td>3389.0</td>\n",
              "      <td>8.003363</td>\n",
              "      <td>0</td>\n",
              "      <td>0</td>\n",
              "      <td>0</td>\n",
              "      <td>0</td>\n",
              "      <td>0</td>\n",
              "      <td>0</td>\n",
              "      <td>0</td>\n",
              "      <td>0</td>\n",
              "      <td>1</td>\n",
              "      <td>0</td>\n",
              "      <td>30000.0</td>\n",
              "      <td>202.0</td>\n",
              "    </tr>\n",
              "    <tr>\n",
              "      <th>3</th>\n",
              "      <td>2008.0</td>\n",
              "      <td>4.0</td>\n",
              "      <td>33.8</td>\n",
              "      <td>FR</td>\n",
              "      <td>NaN</td>\n",
              "      <td>국산</td>\n",
              "      <td>2499.0</td>\n",
              "      <td>6.042633</td>\n",
              "      <td>0</td>\n",
              "      <td>0</td>\n",
              "      <td>0</td>\n",
              "      <td>0</td>\n",
              "      <td>0</td>\n",
              "      <td>0</td>\n",
              "      <td>0</td>\n",
              "      <td>0</td>\n",
              "      <td>1</td>\n",
              "      <td>0</td>\n",
              "      <td>160000.0</td>\n",
              "      <td>151.0</td>\n",
              "    </tr>\n",
              "    <tr>\n",
              "      <th>4</th>\n",
              "      <td>2004.0</td>\n",
              "      <td>NaN</td>\n",
              "      <td>24.0</td>\n",
              "      <td>FR</td>\n",
              "      <td>수동</td>\n",
              "      <td>국산</td>\n",
              "      <td>1445.0</td>\n",
              "      <td>6.111467</td>\n",
              "      <td>0</td>\n",
              "      <td>0</td>\n",
              "      <td>0</td>\n",
              "      <td>0</td>\n",
              "      <td>0</td>\n",
              "      <td>0</td>\n",
              "      <td>0</td>\n",
              "      <td>0</td>\n",
              "      <td>1</td>\n",
              "      <td>0</td>\n",
              "      <td>160000.0</td>\n",
              "      <td>103.0</td>\n",
              "    </tr>\n",
              "  </tbody>\n",
              "</table>\n",
              "</div>"
            ],
            "text/plain": [
              "   yeartype  cylinder  torque type  ... fuel_디젤 fuel_전기      dist  power\n",
              "0    2013.0       4.0    25.5   FF  ...       0       0   40000.0  201.0\n",
              "1    2010.0       NaN    20.0   FF  ...       0       0   90000.0  157.0\n",
              "2    2015.0       4.0    45.0   FF  ...       1       0   30000.0  202.0\n",
              "3    2008.0       4.0    33.8   FR  ...       1       0  160000.0  151.0\n",
              "4    2004.0       NaN    24.0   FR  ...       1       0  160000.0  103.0\n",
              "\n",
              "[5 rows x 20 columns]"
            ]
          },
          "metadata": {
            "tags": []
          },
          "execution_count": 43
        }
      ]
    },
    {
      "cell_type": "markdown",
      "metadata": {
        "id": "8CdiOdHh6a79"
      },
      "source": [
        "# 8 기통 cylinder 8698 non-null float64\n",
        "\n",
        "- 범주형으로 조질 수 있겠다\n",
        "\n"
      ]
    },
    {
      "cell_type": "code",
      "metadata": {
        "id": "MSpUsg0m6a79",
        "outputId": "da620300-a9c6-4cbb-cf2e-48f9a5ecfe59",
        "colab": {
          "base_uri": "https://localhost:8080/"
        }
      },
      "source": [
        "train_cylinder = train['cylinder']\n",
        "test_cylinder = test['cylinder']\n",
        "\n",
        "train_cylinder.value_counts()"
      ],
      "execution_count": 44,
      "outputs": [
        {
          "output_type": "execute_result",
          "data": {
            "text/plain": [
              "4.0    5620\n",
              "6.0    2458\n",
              "3.0     402\n",
              "8.0     171\n",
              "5.0      45\n",
              "Name: cylinder, dtype: int64"
            ]
          },
          "metadata": {
            "tags": []
          },
          "execution_count": 44
        }
      ]
    },
    {
      "cell_type": "code",
      "metadata": {
        "id": "soJg33WC6a8A",
        "outputId": "878b5134-be8b-4a19-beee-481af95f2d05",
        "colab": {
          "base_uri": "https://localhost:8080/"
        }
      },
      "source": [
        "test_cylinder.value_counts()"
      ],
      "execution_count": 45,
      "outputs": [
        {
          "output_type": "execute_result",
          "data": {
            "text/plain": [
              "4.0    2747\n",
              "6.0    1222\n",
              "3.0     173\n",
              "8.0      95\n",
              "5.0      38\n",
              "Name: cylinder, dtype: int64"
            ]
          },
          "metadata": {
            "tags": []
          },
          "execution_count": 45
        }
      ]
    },
    {
      "cell_type": "code",
      "metadata": {
        "id": "UP9qe14V6a8E",
        "outputId": "71523d98-2a7e-4deb-f613-61010c549ea0",
        "colab": {
          "base_uri": "https://localhost:8080/"
        }
      },
      "source": [
        "train_cylinder.isna().sum()"
      ],
      "execution_count": 46,
      "outputs": [
        {
          "output_type": "execute_result",
          "data": {
            "text/plain": [
              "3071"
            ]
          },
          "metadata": {
            "tags": []
          },
          "execution_count": 46
        }
      ]
    },
    {
      "cell_type": "code",
      "metadata": {
        "id": "ZQCNQOmf6a8C"
      },
      "source": [
        "import random\n",
        "random.seed(42)\n",
        "\n",
        "tmp = [3.0, 4.0, 5.0, 6.0, 8.0]\n",
        "\n",
        "for i, j in enumerate(train_cylinder):\n",
        "  if not (j in tmp):\n",
        "    draw = random.choices(\n",
        "      population=[3.0, 4.0, 5.0, 6.0, 8.0],\n",
        "      weights=[0.034157532500637265,\n",
        "               0.4776106721046818,\n",
        "               0.003823604384399694,\n",
        "               0.2089387373608633,\n",
        "               0.014529696660718837],\n",
        "      k=1)\n",
        "    \n",
        "    train_cylinder[i] = draw[0]\n",
        "\n",
        "for i, j in enumerate(test_cylinder):\n",
        "  if not (j in tmp):\n",
        "    draw = random.choices(\n",
        "      population=[3.0, 4.0, 5.0, 6.0, 8.0],\n",
        "      weights=[0.014699634633358823,\n",
        "               0.23340980542102133,\n",
        "               0.0032288214801597416,\n",
        "               0.10383210128303169,\n",
        "               0.008072053700399354],\n",
        "      k=1)\n",
        "    \n",
        "    test_cylinder[i] = draw[0]"
      ],
      "execution_count": 47,
      "outputs": []
    },
    {
      "cell_type": "code",
      "metadata": {
        "id": "eDRj9lH5O8YA",
        "outputId": "1fb05a90-4747-4ac8-ecc4-514576be2d84",
        "colab": {
          "base_uri": "https://localhost:8080/"
        }
      },
      "source": [
        "train_cylinder.isna().sum()"
      ],
      "execution_count": 48,
      "outputs": [
        {
          "output_type": "execute_result",
          "data": {
            "text/plain": [
              "3"
            ]
          },
          "metadata": {
            "tags": []
          },
          "execution_count": 48
        }
      ]
    },
    {
      "cell_type": "code",
      "metadata": {
        "id": "6K0_xPBJ6a8G"
      },
      "source": [
        "train_cylinder_dummies = pd.get_dummies(train_cylinder)\n",
        "test_cylinder_dummies = pd.get_dummies(test_cylinder)\n",
        "\n",
        "train_cylinder_dummies = train_cylinder_dummies.add_prefix(\"cylinder_\")\n",
        "test_cylinder_dummies = test_cylinder_dummies.add_prefix(\"cylinder_\")\n",
        "\n",
        "train = train.join(train_cylinder_dummies)\n",
        "test = test.join(test_cylinder_dummies)\n",
        "\n",
        "train = train.drop(['cylinder'], axis=1)\n",
        "test = test.drop(['cylinder'], axis=1)\n",
        "\n",
        "## train = train.join(train_cylinder)\n",
        "## test = test.join(test_cylinder)"
      ],
      "execution_count": 49,
      "outputs": []
    },
    {
      "cell_type": "code",
      "metadata": {
        "id": "Ikdi2lkQ6a8I",
        "outputId": "5de4dcab-9bb3-444e-c233-86e509fd071e",
        "colab": {
          "base_uri": "https://localhost:8080/",
          "height": 274
        }
      },
      "source": [
        "train.head()"
      ],
      "execution_count": 50,
      "outputs": [
        {
          "output_type": "execute_result",
          "data": {
            "text/html": [
              "<div>\n",
              "<style scoped>\n",
              "    .dataframe tbody tr th:only-of-type {\n",
              "        vertical-align: middle;\n",
              "    }\n",
              "\n",
              "    .dataframe tbody tr th {\n",
              "        vertical-align: top;\n",
              "    }\n",
              "\n",
              "    .dataframe thead th {\n",
              "        text-align: right;\n",
              "    }\n",
              "</style>\n",
              "<table border=\"1\" class=\"dataframe\">\n",
              "  <thead>\n",
              "    <tr style=\"text-align: right;\">\n",
              "      <th></th>\n",
              "      <th>yeartype</th>\n",
              "      <th>torque</th>\n",
              "      <th>type</th>\n",
              "      <th>mission</th>\n",
              "      <th>country</th>\n",
              "      <th>newprice</th>\n",
              "      <th>price</th>\n",
              "      <th>fuel_CNG</th>\n",
              "      <th>fuel_LPG</th>\n",
              "      <th>fuel_LPG+전기</th>\n",
              "      <th>fuel_가솔린</th>\n",
              "      <th>fuel_가솔린+전기</th>\n",
              "      <th>fuel_가솔린/CNG겸용</th>\n",
              "      <th>fuel_가솔린/LPG겸용</th>\n",
              "      <th>fuel_기타</th>\n",
              "      <th>fuel_디젤</th>\n",
              "      <th>fuel_전기</th>\n",
              "      <th>dist</th>\n",
              "      <th>power</th>\n",
              "      <th>cylinder_3.0</th>\n",
              "      <th>cylinder_4.0</th>\n",
              "      <th>cylinder_5.0</th>\n",
              "      <th>cylinder_6.0</th>\n",
              "      <th>cylinder_8.0</th>\n",
              "    </tr>\n",
              "  </thead>\n",
              "  <tbody>\n",
              "    <tr>\n",
              "      <th>0</th>\n",
              "      <td>2013.0</td>\n",
              "      <td>25.5</td>\n",
              "      <td>FF</td>\n",
              "      <td>NaN</td>\n",
              "      <td>국산</td>\n",
              "      <td>3141.0</td>\n",
              "      <td>7.534228</td>\n",
              "      <td>0</td>\n",
              "      <td>0</td>\n",
              "      <td>0</td>\n",
              "      <td>1</td>\n",
              "      <td>0</td>\n",
              "      <td>0</td>\n",
              "      <td>0</td>\n",
              "      <td>0</td>\n",
              "      <td>0</td>\n",
              "      <td>0</td>\n",
              "      <td>40000.0</td>\n",
              "      <td>201.0</td>\n",
              "      <td>0</td>\n",
              "      <td>1</td>\n",
              "      <td>0</td>\n",
              "      <td>0</td>\n",
              "      <td>0</td>\n",
              "    </tr>\n",
              "    <tr>\n",
              "      <th>1</th>\n",
              "      <td>2010.0</td>\n",
              "      <td>20.0</td>\n",
              "      <td>FF</td>\n",
              "      <td>NaN</td>\n",
              "      <td>국산</td>\n",
              "      <td>NaN</td>\n",
              "      <td>6.552508</td>\n",
              "      <td>0</td>\n",
              "      <td>1</td>\n",
              "      <td>0</td>\n",
              "      <td>0</td>\n",
              "      <td>0</td>\n",
              "      <td>0</td>\n",
              "      <td>0</td>\n",
              "      <td>0</td>\n",
              "      <td>0</td>\n",
              "      <td>0</td>\n",
              "      <td>90000.0</td>\n",
              "      <td>157.0</td>\n",
              "      <td>0</td>\n",
              "      <td>1</td>\n",
              "      <td>0</td>\n",
              "      <td>0</td>\n",
              "      <td>0</td>\n",
              "    </tr>\n",
              "    <tr>\n",
              "      <th>2</th>\n",
              "      <td>2015.0</td>\n",
              "      <td>45.0</td>\n",
              "      <td>FF</td>\n",
              "      <td>NaN</td>\n",
              "      <td>국산</td>\n",
              "      <td>3389.0</td>\n",
              "      <td>8.003363</td>\n",
              "      <td>0</td>\n",
              "      <td>0</td>\n",
              "      <td>0</td>\n",
              "      <td>0</td>\n",
              "      <td>0</td>\n",
              "      <td>0</td>\n",
              "      <td>0</td>\n",
              "      <td>0</td>\n",
              "      <td>1</td>\n",
              "      <td>0</td>\n",
              "      <td>30000.0</td>\n",
              "      <td>202.0</td>\n",
              "      <td>0</td>\n",
              "      <td>1</td>\n",
              "      <td>0</td>\n",
              "      <td>0</td>\n",
              "      <td>0</td>\n",
              "    </tr>\n",
              "    <tr>\n",
              "      <th>3</th>\n",
              "      <td>2008.0</td>\n",
              "      <td>33.8</td>\n",
              "      <td>FR</td>\n",
              "      <td>NaN</td>\n",
              "      <td>국산</td>\n",
              "      <td>2499.0</td>\n",
              "      <td>6.042633</td>\n",
              "      <td>0</td>\n",
              "      <td>0</td>\n",
              "      <td>0</td>\n",
              "      <td>0</td>\n",
              "      <td>0</td>\n",
              "      <td>0</td>\n",
              "      <td>0</td>\n",
              "      <td>0</td>\n",
              "      <td>1</td>\n",
              "      <td>0</td>\n",
              "      <td>160000.0</td>\n",
              "      <td>151.0</td>\n",
              "      <td>0</td>\n",
              "      <td>1</td>\n",
              "      <td>0</td>\n",
              "      <td>0</td>\n",
              "      <td>0</td>\n",
              "    </tr>\n",
              "    <tr>\n",
              "      <th>4</th>\n",
              "      <td>2004.0</td>\n",
              "      <td>24.0</td>\n",
              "      <td>FR</td>\n",
              "      <td>수동</td>\n",
              "      <td>국산</td>\n",
              "      <td>1445.0</td>\n",
              "      <td>6.111467</td>\n",
              "      <td>0</td>\n",
              "      <td>0</td>\n",
              "      <td>0</td>\n",
              "      <td>0</td>\n",
              "      <td>0</td>\n",
              "      <td>0</td>\n",
              "      <td>0</td>\n",
              "      <td>0</td>\n",
              "      <td>1</td>\n",
              "      <td>0</td>\n",
              "      <td>160000.0</td>\n",
              "      <td>103.0</td>\n",
              "      <td>1</td>\n",
              "      <td>0</td>\n",
              "      <td>0</td>\n",
              "      <td>0</td>\n",
              "      <td>0</td>\n",
              "    </tr>\n",
              "  </tbody>\n",
              "</table>\n",
              "</div>"
            ],
            "text/plain": [
              "   yeartype  torque type  ... cylinder_5.0 cylinder_6.0  cylinder_8.0\n",
              "0    2013.0    25.5   FF  ...            0            0             0\n",
              "1    2010.0    20.0   FF  ...            0            0             0\n",
              "2    2015.0    45.0   FF  ...            0            0             0\n",
              "3    2008.0    33.8   FR  ...            0            0             0\n",
              "4    2004.0    24.0   FR  ...            0            0             0\n",
              "\n",
              "[5 rows x 24 columns]"
            ]
          },
          "metadata": {
            "tags": []
          },
          "execution_count": 50
        }
      ]
    },
    {
      "cell_type": "markdown",
      "metadata": {
        "id": "3rToVq0z6a8J"
      },
      "source": [
        "# 9 최대토크(kgm) torque 10545 non-null float64\n",
        "\n",
        "- 결측치 냅두자"
      ]
    },
    {
      "cell_type": "code",
      "metadata": {
        "id": "AOfpotCp6a8K",
        "outputId": "296d7514-dacc-4b59-b393-d8ac70981236",
        "colab": {
          "base_uri": "https://localhost:8080/"
        }
      },
      "source": [
        "train_torque = train['torque']\n",
        "test_torque = test['torque']\n",
        "\n",
        "train_torque"
      ],
      "execution_count": 51,
      "outputs": [
        {
          "output_type": "execute_result",
          "data": {
            "text/plain": [
              "0        25.5\n",
              "1        20.0\n",
              "2        45.0\n",
              "3        33.8\n",
              "4        24.0\n",
              "         ... \n",
              "11763    53.0\n",
              "11765     NaN\n",
              "11766    52.0\n",
              "11767    53.0\n",
              "11768    53.0\n",
              "Name: torque, Length: 11767, dtype: float64"
            ]
          },
          "metadata": {
            "tags": []
          },
          "execution_count": 51
        }
      ]
    },
    {
      "cell_type": "code",
      "metadata": {
        "id": "aYHEOdfN6a8N",
        "outputId": "3523ed2b-ae99-4844-b3e6-c9b9aeeeecb9",
        "colab": {
          "base_uri": "https://localhost:8080/"
        }
      },
      "source": [
        "train_torque.isna().sum()"
      ],
      "execution_count": 52,
      "outputs": [
        {
          "output_type": "execute_result",
          "data": {
            "text/plain": [
              "1224"
            ]
          },
          "metadata": {
            "tags": []
          },
          "execution_count": 52
        }
      ]
    },
    {
      "cell_type": "code",
      "metadata": {
        "id": "UFuvH_Y06a8T"
      },
      "source": [
        "train = train.drop(['torque'], axis=1)\n",
        "test = test.drop(['torque'], axis=1)\n",
        "\n",
        "train = train.join(train_torque)\n",
        "test = test.join(test_torque)"
      ],
      "execution_count": 53,
      "outputs": []
    },
    {
      "cell_type": "code",
      "metadata": {
        "id": "1HqN1iup6a8X",
        "outputId": "5b7664d9-ae9a-465d-d701-f3fc44120195",
        "colab": {
          "base_uri": "https://localhost:8080/",
          "height": 274
        }
      },
      "source": [
        "train.head()"
      ],
      "execution_count": 54,
      "outputs": [
        {
          "output_type": "execute_result",
          "data": {
            "text/html": [
              "<div>\n",
              "<style scoped>\n",
              "    .dataframe tbody tr th:only-of-type {\n",
              "        vertical-align: middle;\n",
              "    }\n",
              "\n",
              "    .dataframe tbody tr th {\n",
              "        vertical-align: top;\n",
              "    }\n",
              "\n",
              "    .dataframe thead th {\n",
              "        text-align: right;\n",
              "    }\n",
              "</style>\n",
              "<table border=\"1\" class=\"dataframe\">\n",
              "  <thead>\n",
              "    <tr style=\"text-align: right;\">\n",
              "      <th></th>\n",
              "      <th>yeartype</th>\n",
              "      <th>type</th>\n",
              "      <th>mission</th>\n",
              "      <th>country</th>\n",
              "      <th>newprice</th>\n",
              "      <th>price</th>\n",
              "      <th>fuel_CNG</th>\n",
              "      <th>fuel_LPG</th>\n",
              "      <th>fuel_LPG+전기</th>\n",
              "      <th>fuel_가솔린</th>\n",
              "      <th>fuel_가솔린+전기</th>\n",
              "      <th>fuel_가솔린/CNG겸용</th>\n",
              "      <th>fuel_가솔린/LPG겸용</th>\n",
              "      <th>fuel_기타</th>\n",
              "      <th>fuel_디젤</th>\n",
              "      <th>fuel_전기</th>\n",
              "      <th>dist</th>\n",
              "      <th>power</th>\n",
              "      <th>cylinder_3.0</th>\n",
              "      <th>cylinder_4.0</th>\n",
              "      <th>cylinder_5.0</th>\n",
              "      <th>cylinder_6.0</th>\n",
              "      <th>cylinder_8.0</th>\n",
              "      <th>torque</th>\n",
              "    </tr>\n",
              "  </thead>\n",
              "  <tbody>\n",
              "    <tr>\n",
              "      <th>0</th>\n",
              "      <td>2013.0</td>\n",
              "      <td>FF</td>\n",
              "      <td>NaN</td>\n",
              "      <td>국산</td>\n",
              "      <td>3141.0</td>\n",
              "      <td>7.534228</td>\n",
              "      <td>0</td>\n",
              "      <td>0</td>\n",
              "      <td>0</td>\n",
              "      <td>1</td>\n",
              "      <td>0</td>\n",
              "      <td>0</td>\n",
              "      <td>0</td>\n",
              "      <td>0</td>\n",
              "      <td>0</td>\n",
              "      <td>0</td>\n",
              "      <td>40000.0</td>\n",
              "      <td>201.0</td>\n",
              "      <td>0</td>\n",
              "      <td>1</td>\n",
              "      <td>0</td>\n",
              "      <td>0</td>\n",
              "      <td>0</td>\n",
              "      <td>25.5</td>\n",
              "    </tr>\n",
              "    <tr>\n",
              "      <th>1</th>\n",
              "      <td>2010.0</td>\n",
              "      <td>FF</td>\n",
              "      <td>NaN</td>\n",
              "      <td>국산</td>\n",
              "      <td>NaN</td>\n",
              "      <td>6.552508</td>\n",
              "      <td>0</td>\n",
              "      <td>1</td>\n",
              "      <td>0</td>\n",
              "      <td>0</td>\n",
              "      <td>0</td>\n",
              "      <td>0</td>\n",
              "      <td>0</td>\n",
              "      <td>0</td>\n",
              "      <td>0</td>\n",
              "      <td>0</td>\n",
              "      <td>90000.0</td>\n",
              "      <td>157.0</td>\n",
              "      <td>0</td>\n",
              "      <td>1</td>\n",
              "      <td>0</td>\n",
              "      <td>0</td>\n",
              "      <td>0</td>\n",
              "      <td>20.0</td>\n",
              "    </tr>\n",
              "    <tr>\n",
              "      <th>2</th>\n",
              "      <td>2015.0</td>\n",
              "      <td>FF</td>\n",
              "      <td>NaN</td>\n",
              "      <td>국산</td>\n",
              "      <td>3389.0</td>\n",
              "      <td>8.003363</td>\n",
              "      <td>0</td>\n",
              "      <td>0</td>\n",
              "      <td>0</td>\n",
              "      <td>0</td>\n",
              "      <td>0</td>\n",
              "      <td>0</td>\n",
              "      <td>0</td>\n",
              "      <td>0</td>\n",
              "      <td>1</td>\n",
              "      <td>0</td>\n",
              "      <td>30000.0</td>\n",
              "      <td>202.0</td>\n",
              "      <td>0</td>\n",
              "      <td>1</td>\n",
              "      <td>0</td>\n",
              "      <td>0</td>\n",
              "      <td>0</td>\n",
              "      <td>45.0</td>\n",
              "    </tr>\n",
              "    <tr>\n",
              "      <th>3</th>\n",
              "      <td>2008.0</td>\n",
              "      <td>FR</td>\n",
              "      <td>NaN</td>\n",
              "      <td>국산</td>\n",
              "      <td>2499.0</td>\n",
              "      <td>6.042633</td>\n",
              "      <td>0</td>\n",
              "      <td>0</td>\n",
              "      <td>0</td>\n",
              "      <td>0</td>\n",
              "      <td>0</td>\n",
              "      <td>0</td>\n",
              "      <td>0</td>\n",
              "      <td>0</td>\n",
              "      <td>1</td>\n",
              "      <td>0</td>\n",
              "      <td>160000.0</td>\n",
              "      <td>151.0</td>\n",
              "      <td>0</td>\n",
              "      <td>1</td>\n",
              "      <td>0</td>\n",
              "      <td>0</td>\n",
              "      <td>0</td>\n",
              "      <td>33.8</td>\n",
              "    </tr>\n",
              "    <tr>\n",
              "      <th>4</th>\n",
              "      <td>2004.0</td>\n",
              "      <td>FR</td>\n",
              "      <td>수동</td>\n",
              "      <td>국산</td>\n",
              "      <td>1445.0</td>\n",
              "      <td>6.111467</td>\n",
              "      <td>0</td>\n",
              "      <td>0</td>\n",
              "      <td>0</td>\n",
              "      <td>0</td>\n",
              "      <td>0</td>\n",
              "      <td>0</td>\n",
              "      <td>0</td>\n",
              "      <td>0</td>\n",
              "      <td>1</td>\n",
              "      <td>0</td>\n",
              "      <td>160000.0</td>\n",
              "      <td>103.0</td>\n",
              "      <td>1</td>\n",
              "      <td>0</td>\n",
              "      <td>0</td>\n",
              "      <td>0</td>\n",
              "      <td>0</td>\n",
              "      <td>24.0</td>\n",
              "    </tr>\n",
              "  </tbody>\n",
              "</table>\n",
              "</div>"
            ],
            "text/plain": [
              "   yeartype type mission  ... cylinder_6.0  cylinder_8.0  torque\n",
              "0    2013.0   FF     NaN  ...            0             0    25.5\n",
              "1    2010.0   FF     NaN  ...            0             0    20.0\n",
              "2    2015.0   FF     NaN  ...            0             0    45.0\n",
              "3    2008.0   FR     NaN  ...            0             0    33.8\n",
              "4    2004.0   FR      수동  ...            0             0    24.0\n",
              "\n",
              "[5 rows x 24 columns]"
            ]
          },
          "metadata": {
            "tags": []
          },
          "execution_count": 54
        }
      ]
    },
    {
      "cell_type": "markdown",
      "metadata": {
        "id": "rGRYlFGo6a8b"
      },
      "source": [
        "# 10 구동방식 type 10808 non-null object\n",
        "\n",
        "- 제일 많은 걸로 결측치 채우고 dummies 만들어서 쓰자\n",
        "- train에 3개 있는 RR은 데이터 자체를 없애버리자"
      ]
    },
    {
      "cell_type": "code",
      "metadata": {
        "id": "wWQULWvN6a8b"
      },
      "source": [
        "train = train.drop(train[train['type'] == 'RR'].index)"
      ],
      "execution_count": 55,
      "outputs": []
    },
    {
      "cell_type": "code",
      "metadata": {
        "id": "eQxg_s8j6a8g"
      },
      "source": [
        "train_type = train['type']\n",
        "test_type = test['type']"
      ],
      "execution_count": 56,
      "outputs": []
    },
    {
      "cell_type": "code",
      "metadata": {
        "id": "pMhATzG-6a8k",
        "outputId": "dea94dd2-dd2d-4c9d-ad34-1d88ceda9d00",
        "colab": {
          "base_uri": "https://localhost:8080/"
        }
      },
      "source": [
        "print(train_type.value_counts())\n",
        "print()\n",
        "print(test_type.value_counts())"
      ],
      "execution_count": 57,
      "outputs": [
        {
          "output_type": "stream",
          "text": [
            "FF     7333\n",
            "FR     2318\n",
            "4WD     688\n",
            "AWD     451\n",
            "MR       13\n",
            "Name: type, dtype: int64\n",
            "\n",
            "FF     3655\n",
            "FR     1074\n",
            "4WD     352\n",
            "AWD     222\n",
            "MR        9\n",
            "Name: type, dtype: int64\n"
          ],
          "name": "stdout"
        }
      ]
    },
    {
      "cell_type": "code",
      "metadata": {
        "id": "_GneA7oT6a8r"
      },
      "source": [
        "import random\n",
        "random.seed(42)\n",
        "\n",
        "tmp = ['FF', 'FR', '4WD', 'AWD', 'MR']\n",
        "\n",
        "for i, j in enumerate(train_type):\n",
        "  if not (j in tmp):\n",
        "    draw = random.choices(\n",
        "      population=['4WD', 'AWD', 'FF', 'FR', 'MR'],\n",
        "      weights=[0.058458662588155325,\n",
        "               0.03840598181663693,\n",
        "               0.6230775766845101,\n",
        "               0.19704307927606424,\n",
        "               0.0011045968221599116],\n",
        "      k=1)\n",
        "    \n",
        "    train_type[i] = draw[0]\n",
        "\n",
        "for i, j in enumerate(test_type):\n",
        "  if not (j in tmp):\n",
        "    draw = random.choices(\n",
        "      population=['4WD', 'AWD', 'FF', 'FR', 'MR'],\n",
        "      weights=[0.029909083184637607,\n",
        "               0.01886311496303849,\n",
        "               0.31056164499957517,\n",
        "               0.0912566913076727,\n",
        "               0.0007647208768799389],\n",
        "      k=1)\n",
        "    \n",
        "    test_type[i] = draw[0]"
      ],
      "execution_count": 58,
      "outputs": []
    },
    {
      "cell_type": "code",
      "metadata": {
        "id": "bNkV2kiW6a8u",
        "outputId": "ef95350e-30a4-4283-8102-8a4cb2af578e",
        "colab": {
          "base_uri": "https://localhost:8080/"
        }
      },
      "source": [
        "train_type.isna().sum()"
      ],
      "execution_count": 59,
      "outputs": [
        {
          "output_type": "execute_result",
          "data": {
            "text/plain": [
              "799"
            ]
          },
          "metadata": {
            "tags": []
          },
          "execution_count": 59
        }
      ]
    },
    {
      "cell_type": "code",
      "metadata": {
        "id": "4TSSv_qH6a8w"
      },
      "source": [
        "train_type_dummies = pd.get_dummies(train_type)\n",
        "test_type_dummies = pd.get_dummies(test_type)\n",
        "\n",
        "train_type_dummies = train_type_dummies.add_prefix('type_')\n",
        "test_type_dummies = test_type_dummies.add_prefix('type_')\n",
        "\n",
        "\n",
        "train = train.join(train_type_dummies)\n",
        "test = test.join(test_type_dummies)\n",
        "\n",
        "train = train.drop(['type'], axis=1)\n",
        "test = test.drop(['type'], axis=1)\n",
        "\n",
        "## train = train.join(train_type)\n",
        "## test = test.join(test_type)"
      ],
      "execution_count": 60,
      "outputs": []
    },
    {
      "cell_type": "code",
      "metadata": {
        "id": "1wsXRBdU6a8z",
        "outputId": "b41dc8f8-c48c-435b-9bf9-17b1915147af",
        "colab": {
          "base_uri": "https://localhost:8080/",
          "height": 274
        }
      },
      "source": [
        "train.head()"
      ],
      "execution_count": 61,
      "outputs": [
        {
          "output_type": "execute_result",
          "data": {
            "text/html": [
              "<div>\n",
              "<style scoped>\n",
              "    .dataframe tbody tr th:only-of-type {\n",
              "        vertical-align: middle;\n",
              "    }\n",
              "\n",
              "    .dataframe tbody tr th {\n",
              "        vertical-align: top;\n",
              "    }\n",
              "\n",
              "    .dataframe thead th {\n",
              "        text-align: right;\n",
              "    }\n",
              "</style>\n",
              "<table border=\"1\" class=\"dataframe\">\n",
              "  <thead>\n",
              "    <tr style=\"text-align: right;\">\n",
              "      <th></th>\n",
              "      <th>yeartype</th>\n",
              "      <th>mission</th>\n",
              "      <th>country</th>\n",
              "      <th>newprice</th>\n",
              "      <th>price</th>\n",
              "      <th>fuel_CNG</th>\n",
              "      <th>fuel_LPG</th>\n",
              "      <th>fuel_LPG+전기</th>\n",
              "      <th>fuel_가솔린</th>\n",
              "      <th>fuel_가솔린+전기</th>\n",
              "      <th>fuel_가솔린/CNG겸용</th>\n",
              "      <th>fuel_가솔린/LPG겸용</th>\n",
              "      <th>fuel_기타</th>\n",
              "      <th>fuel_디젤</th>\n",
              "      <th>fuel_전기</th>\n",
              "      <th>dist</th>\n",
              "      <th>power</th>\n",
              "      <th>cylinder_3.0</th>\n",
              "      <th>cylinder_4.0</th>\n",
              "      <th>cylinder_5.0</th>\n",
              "      <th>cylinder_6.0</th>\n",
              "      <th>cylinder_8.0</th>\n",
              "      <th>torque</th>\n",
              "      <th>type_4WD</th>\n",
              "      <th>type_AWD</th>\n",
              "      <th>type_FF</th>\n",
              "      <th>type_FR</th>\n",
              "      <th>type_MR</th>\n",
              "    </tr>\n",
              "  </thead>\n",
              "  <tbody>\n",
              "    <tr>\n",
              "      <th>0</th>\n",
              "      <td>2013.0</td>\n",
              "      <td>NaN</td>\n",
              "      <td>국산</td>\n",
              "      <td>3141.0</td>\n",
              "      <td>7.534228</td>\n",
              "      <td>0</td>\n",
              "      <td>0</td>\n",
              "      <td>0</td>\n",
              "      <td>1</td>\n",
              "      <td>0</td>\n",
              "      <td>0</td>\n",
              "      <td>0</td>\n",
              "      <td>0</td>\n",
              "      <td>0</td>\n",
              "      <td>0</td>\n",
              "      <td>40000.0</td>\n",
              "      <td>201.0</td>\n",
              "      <td>0</td>\n",
              "      <td>1</td>\n",
              "      <td>0</td>\n",
              "      <td>0</td>\n",
              "      <td>0</td>\n",
              "      <td>25.5</td>\n",
              "      <td>0</td>\n",
              "      <td>0</td>\n",
              "      <td>1</td>\n",
              "      <td>0</td>\n",
              "      <td>0</td>\n",
              "    </tr>\n",
              "    <tr>\n",
              "      <th>1</th>\n",
              "      <td>2010.0</td>\n",
              "      <td>NaN</td>\n",
              "      <td>국산</td>\n",
              "      <td>NaN</td>\n",
              "      <td>6.552508</td>\n",
              "      <td>0</td>\n",
              "      <td>1</td>\n",
              "      <td>0</td>\n",
              "      <td>0</td>\n",
              "      <td>0</td>\n",
              "      <td>0</td>\n",
              "      <td>0</td>\n",
              "      <td>0</td>\n",
              "      <td>0</td>\n",
              "      <td>0</td>\n",
              "      <td>90000.0</td>\n",
              "      <td>157.0</td>\n",
              "      <td>0</td>\n",
              "      <td>1</td>\n",
              "      <td>0</td>\n",
              "      <td>0</td>\n",
              "      <td>0</td>\n",
              "      <td>20.0</td>\n",
              "      <td>0</td>\n",
              "      <td>0</td>\n",
              "      <td>1</td>\n",
              "      <td>0</td>\n",
              "      <td>0</td>\n",
              "    </tr>\n",
              "    <tr>\n",
              "      <th>2</th>\n",
              "      <td>2015.0</td>\n",
              "      <td>NaN</td>\n",
              "      <td>국산</td>\n",
              "      <td>3389.0</td>\n",
              "      <td>8.003363</td>\n",
              "      <td>0</td>\n",
              "      <td>0</td>\n",
              "      <td>0</td>\n",
              "      <td>0</td>\n",
              "      <td>0</td>\n",
              "      <td>0</td>\n",
              "      <td>0</td>\n",
              "      <td>0</td>\n",
              "      <td>1</td>\n",
              "      <td>0</td>\n",
              "      <td>30000.0</td>\n",
              "      <td>202.0</td>\n",
              "      <td>0</td>\n",
              "      <td>1</td>\n",
              "      <td>0</td>\n",
              "      <td>0</td>\n",
              "      <td>0</td>\n",
              "      <td>45.0</td>\n",
              "      <td>0</td>\n",
              "      <td>0</td>\n",
              "      <td>1</td>\n",
              "      <td>0</td>\n",
              "      <td>0</td>\n",
              "    </tr>\n",
              "    <tr>\n",
              "      <th>3</th>\n",
              "      <td>2008.0</td>\n",
              "      <td>NaN</td>\n",
              "      <td>국산</td>\n",
              "      <td>2499.0</td>\n",
              "      <td>6.042633</td>\n",
              "      <td>0</td>\n",
              "      <td>0</td>\n",
              "      <td>0</td>\n",
              "      <td>0</td>\n",
              "      <td>0</td>\n",
              "      <td>0</td>\n",
              "      <td>0</td>\n",
              "      <td>0</td>\n",
              "      <td>1</td>\n",
              "      <td>0</td>\n",
              "      <td>160000.0</td>\n",
              "      <td>151.0</td>\n",
              "      <td>0</td>\n",
              "      <td>1</td>\n",
              "      <td>0</td>\n",
              "      <td>0</td>\n",
              "      <td>0</td>\n",
              "      <td>33.8</td>\n",
              "      <td>0</td>\n",
              "      <td>0</td>\n",
              "      <td>0</td>\n",
              "      <td>1</td>\n",
              "      <td>0</td>\n",
              "    </tr>\n",
              "    <tr>\n",
              "      <th>4</th>\n",
              "      <td>2004.0</td>\n",
              "      <td>수동</td>\n",
              "      <td>국산</td>\n",
              "      <td>1445.0</td>\n",
              "      <td>6.111467</td>\n",
              "      <td>0</td>\n",
              "      <td>0</td>\n",
              "      <td>0</td>\n",
              "      <td>0</td>\n",
              "      <td>0</td>\n",
              "      <td>0</td>\n",
              "      <td>0</td>\n",
              "      <td>0</td>\n",
              "      <td>1</td>\n",
              "      <td>0</td>\n",
              "      <td>160000.0</td>\n",
              "      <td>103.0</td>\n",
              "      <td>1</td>\n",
              "      <td>0</td>\n",
              "      <td>0</td>\n",
              "      <td>0</td>\n",
              "      <td>0</td>\n",
              "      <td>24.0</td>\n",
              "      <td>0</td>\n",
              "      <td>0</td>\n",
              "      <td>0</td>\n",
              "      <td>1</td>\n",
              "      <td>0</td>\n",
              "    </tr>\n",
              "  </tbody>\n",
              "</table>\n",
              "</div>"
            ],
            "text/plain": [
              "   yeartype mission country  newprice  ...  type_AWD  type_FF  type_FR  type_MR\n",
              "0    2013.0     NaN      국산    3141.0  ...         0        1        0        0\n",
              "1    2010.0     NaN      국산       NaN  ...         0        1        0        0\n",
              "2    2015.0     NaN      국산    3389.0  ...         0        1        0        0\n",
              "3    2008.0     NaN      국산    2499.0  ...         0        0        1        0\n",
              "4    2004.0      수동      국산    1445.0  ...         0        0        1        0\n",
              "\n",
              "[5 rows x 28 columns]"
            ]
          },
          "metadata": {
            "tags": []
          },
          "execution_count": 61
        }
      ]
    },
    {
      "cell_type": "markdown",
      "metadata": {
        "id": "ou2JIwKA6a83"
      },
      "source": [
        "# 11 자동수동 mission 1313 non-null object\n",
        "\n",
        "- 드랍하자"
      ]
    },
    {
      "cell_type": "code",
      "metadata": {
        "id": "413CkYLz6a83"
      },
      "source": [
        "train_mission = train['mission']\n",
        "test_mission = test['mission']"
      ],
      "execution_count": 62,
      "outputs": []
    },
    {
      "cell_type": "code",
      "metadata": {
        "id": "MQNLqq8-ToZ3"
      },
      "source": [
        "train_mission = train_mission.fillna('자동')\n",
        "test_mission = test_mission.fillna('자동')"
      ],
      "execution_count": 63,
      "outputs": []
    },
    {
      "cell_type": "code",
      "metadata": {
        "id": "PS7_fnfV6a89"
      },
      "source": [
        "train_mission_dummies = pd.get_dummies(train_mission)\n",
        "test_mission_dummies = pd.get_dummies(test_mission)\n",
        "\n",
        "train_mission_dummies = train_mission_dummies.add_prefix('mission_')\n",
        "test_mission_dummies = test_mission_dummies.add_prefix('mission_')\n",
        "\n",
        "train = train.drop(['mission'], axis=1)\n",
        "test = test.drop(['mission'], axis=1)\n",
        "\n",
        "train = train.join(train_mission_dummies)\n",
        "test = test.join(test_mission_dummies)"
      ],
      "execution_count": 64,
      "outputs": []
    },
    {
      "cell_type": "code",
      "metadata": {
        "id": "hONm2bO56a8_",
        "outputId": "0d9d246e-8f3b-46c6-9c3e-b14c772b60c2",
        "colab": {
          "base_uri": "https://localhost:8080/",
          "height": 274
        }
      },
      "source": [
        "train.head()"
      ],
      "execution_count": 65,
      "outputs": [
        {
          "output_type": "execute_result",
          "data": {
            "text/html": [
              "<div>\n",
              "<style scoped>\n",
              "    .dataframe tbody tr th:only-of-type {\n",
              "        vertical-align: middle;\n",
              "    }\n",
              "\n",
              "    .dataframe tbody tr th {\n",
              "        vertical-align: top;\n",
              "    }\n",
              "\n",
              "    .dataframe thead th {\n",
              "        text-align: right;\n",
              "    }\n",
              "</style>\n",
              "<table border=\"1\" class=\"dataframe\">\n",
              "  <thead>\n",
              "    <tr style=\"text-align: right;\">\n",
              "      <th></th>\n",
              "      <th>yeartype</th>\n",
              "      <th>country</th>\n",
              "      <th>newprice</th>\n",
              "      <th>price</th>\n",
              "      <th>fuel_CNG</th>\n",
              "      <th>fuel_LPG</th>\n",
              "      <th>fuel_LPG+전기</th>\n",
              "      <th>fuel_가솔린</th>\n",
              "      <th>fuel_가솔린+전기</th>\n",
              "      <th>fuel_가솔린/CNG겸용</th>\n",
              "      <th>fuel_가솔린/LPG겸용</th>\n",
              "      <th>fuel_기타</th>\n",
              "      <th>fuel_디젤</th>\n",
              "      <th>fuel_전기</th>\n",
              "      <th>dist</th>\n",
              "      <th>power</th>\n",
              "      <th>cylinder_3.0</th>\n",
              "      <th>cylinder_4.0</th>\n",
              "      <th>cylinder_5.0</th>\n",
              "      <th>cylinder_6.0</th>\n",
              "      <th>cylinder_8.0</th>\n",
              "      <th>torque</th>\n",
              "      <th>type_4WD</th>\n",
              "      <th>type_AWD</th>\n",
              "      <th>type_FF</th>\n",
              "      <th>type_FR</th>\n",
              "      <th>type_MR</th>\n",
              "      <th>mission_수동</th>\n",
              "      <th>mission_자동</th>\n",
              "    </tr>\n",
              "  </thead>\n",
              "  <tbody>\n",
              "    <tr>\n",
              "      <th>0</th>\n",
              "      <td>2013.0</td>\n",
              "      <td>국산</td>\n",
              "      <td>3141.0</td>\n",
              "      <td>7.534228</td>\n",
              "      <td>0</td>\n",
              "      <td>0</td>\n",
              "      <td>0</td>\n",
              "      <td>1</td>\n",
              "      <td>0</td>\n",
              "      <td>0</td>\n",
              "      <td>0</td>\n",
              "      <td>0</td>\n",
              "      <td>0</td>\n",
              "      <td>0</td>\n",
              "      <td>40000.0</td>\n",
              "      <td>201.0</td>\n",
              "      <td>0</td>\n",
              "      <td>1</td>\n",
              "      <td>0</td>\n",
              "      <td>0</td>\n",
              "      <td>0</td>\n",
              "      <td>25.5</td>\n",
              "      <td>0</td>\n",
              "      <td>0</td>\n",
              "      <td>1</td>\n",
              "      <td>0</td>\n",
              "      <td>0</td>\n",
              "      <td>0</td>\n",
              "      <td>1</td>\n",
              "    </tr>\n",
              "    <tr>\n",
              "      <th>1</th>\n",
              "      <td>2010.0</td>\n",
              "      <td>국산</td>\n",
              "      <td>NaN</td>\n",
              "      <td>6.552508</td>\n",
              "      <td>0</td>\n",
              "      <td>1</td>\n",
              "      <td>0</td>\n",
              "      <td>0</td>\n",
              "      <td>0</td>\n",
              "      <td>0</td>\n",
              "      <td>0</td>\n",
              "      <td>0</td>\n",
              "      <td>0</td>\n",
              "      <td>0</td>\n",
              "      <td>90000.0</td>\n",
              "      <td>157.0</td>\n",
              "      <td>0</td>\n",
              "      <td>1</td>\n",
              "      <td>0</td>\n",
              "      <td>0</td>\n",
              "      <td>0</td>\n",
              "      <td>20.0</td>\n",
              "      <td>0</td>\n",
              "      <td>0</td>\n",
              "      <td>1</td>\n",
              "      <td>0</td>\n",
              "      <td>0</td>\n",
              "      <td>0</td>\n",
              "      <td>1</td>\n",
              "    </tr>\n",
              "    <tr>\n",
              "      <th>2</th>\n",
              "      <td>2015.0</td>\n",
              "      <td>국산</td>\n",
              "      <td>3389.0</td>\n",
              "      <td>8.003363</td>\n",
              "      <td>0</td>\n",
              "      <td>0</td>\n",
              "      <td>0</td>\n",
              "      <td>0</td>\n",
              "      <td>0</td>\n",
              "      <td>0</td>\n",
              "      <td>0</td>\n",
              "      <td>0</td>\n",
              "      <td>1</td>\n",
              "      <td>0</td>\n",
              "      <td>30000.0</td>\n",
              "      <td>202.0</td>\n",
              "      <td>0</td>\n",
              "      <td>1</td>\n",
              "      <td>0</td>\n",
              "      <td>0</td>\n",
              "      <td>0</td>\n",
              "      <td>45.0</td>\n",
              "      <td>0</td>\n",
              "      <td>0</td>\n",
              "      <td>1</td>\n",
              "      <td>0</td>\n",
              "      <td>0</td>\n",
              "      <td>0</td>\n",
              "      <td>1</td>\n",
              "    </tr>\n",
              "    <tr>\n",
              "      <th>3</th>\n",
              "      <td>2008.0</td>\n",
              "      <td>국산</td>\n",
              "      <td>2499.0</td>\n",
              "      <td>6.042633</td>\n",
              "      <td>0</td>\n",
              "      <td>0</td>\n",
              "      <td>0</td>\n",
              "      <td>0</td>\n",
              "      <td>0</td>\n",
              "      <td>0</td>\n",
              "      <td>0</td>\n",
              "      <td>0</td>\n",
              "      <td>1</td>\n",
              "      <td>0</td>\n",
              "      <td>160000.0</td>\n",
              "      <td>151.0</td>\n",
              "      <td>0</td>\n",
              "      <td>1</td>\n",
              "      <td>0</td>\n",
              "      <td>0</td>\n",
              "      <td>0</td>\n",
              "      <td>33.8</td>\n",
              "      <td>0</td>\n",
              "      <td>0</td>\n",
              "      <td>0</td>\n",
              "      <td>1</td>\n",
              "      <td>0</td>\n",
              "      <td>0</td>\n",
              "      <td>1</td>\n",
              "    </tr>\n",
              "    <tr>\n",
              "      <th>4</th>\n",
              "      <td>2004.0</td>\n",
              "      <td>국산</td>\n",
              "      <td>1445.0</td>\n",
              "      <td>6.111467</td>\n",
              "      <td>0</td>\n",
              "      <td>0</td>\n",
              "      <td>0</td>\n",
              "      <td>0</td>\n",
              "      <td>0</td>\n",
              "      <td>0</td>\n",
              "      <td>0</td>\n",
              "      <td>0</td>\n",
              "      <td>1</td>\n",
              "      <td>0</td>\n",
              "      <td>160000.0</td>\n",
              "      <td>103.0</td>\n",
              "      <td>1</td>\n",
              "      <td>0</td>\n",
              "      <td>0</td>\n",
              "      <td>0</td>\n",
              "      <td>0</td>\n",
              "      <td>24.0</td>\n",
              "      <td>0</td>\n",
              "      <td>0</td>\n",
              "      <td>0</td>\n",
              "      <td>1</td>\n",
              "      <td>0</td>\n",
              "      <td>1</td>\n",
              "      <td>0</td>\n",
              "    </tr>\n",
              "  </tbody>\n",
              "</table>\n",
              "</div>"
            ],
            "text/plain": [
              "   yeartype country  newprice  ...  type_MR  mission_수동  mission_자동\n",
              "0    2013.0      국산    3141.0  ...        0           0           1\n",
              "1    2010.0      국산       NaN  ...        0           0           1\n",
              "2    2015.0      국산    3389.0  ...        0           0           1\n",
              "3    2008.0      국산    2499.0  ...        0           0           1\n",
              "4    2004.0      국산    1445.0  ...        0           1           0\n",
              "\n",
              "[5 rows x 29 columns]"
            ]
          },
          "metadata": {
            "tags": []
          },
          "execution_count": 65
        }
      ]
    },
    {
      "cell_type": "markdown",
      "metadata": {
        "id": "CyHTM7pi6a9B"
      },
      "source": [
        "# 12 국산/수입 country 11769 non-null object\n",
        "\n",
        "- 단순한 범주형 같다\n",
        "- 아니 근데 train이랑 test 다 국산밖에 없는데?\n",
        "- 드랍하자..."
      ]
    },
    {
      "cell_type": "code",
      "metadata": {
        "id": "2J6i7l1z6a9B"
      },
      "source": [
        "train = train.drop(['country'], axis=1)\n",
        "test = test.drop(['country'], axis=1)"
      ],
      "execution_count": 66,
      "outputs": []
    },
    {
      "cell_type": "code",
      "metadata": {
        "id": "e6r1_1wl6a9C",
        "outputId": "8efa5260-6608-42e3-e4da-f58981cbe69f",
        "colab": {
          "base_uri": "https://localhost:8080/",
          "height": 274
        }
      },
      "source": [
        "train.head()"
      ],
      "execution_count": 67,
      "outputs": [
        {
          "output_type": "execute_result",
          "data": {
            "text/html": [
              "<div>\n",
              "<style scoped>\n",
              "    .dataframe tbody tr th:only-of-type {\n",
              "        vertical-align: middle;\n",
              "    }\n",
              "\n",
              "    .dataframe tbody tr th {\n",
              "        vertical-align: top;\n",
              "    }\n",
              "\n",
              "    .dataframe thead th {\n",
              "        text-align: right;\n",
              "    }\n",
              "</style>\n",
              "<table border=\"1\" class=\"dataframe\">\n",
              "  <thead>\n",
              "    <tr style=\"text-align: right;\">\n",
              "      <th></th>\n",
              "      <th>yeartype</th>\n",
              "      <th>newprice</th>\n",
              "      <th>price</th>\n",
              "      <th>fuel_CNG</th>\n",
              "      <th>fuel_LPG</th>\n",
              "      <th>fuel_LPG+전기</th>\n",
              "      <th>fuel_가솔린</th>\n",
              "      <th>fuel_가솔린+전기</th>\n",
              "      <th>fuel_가솔린/CNG겸용</th>\n",
              "      <th>fuel_가솔린/LPG겸용</th>\n",
              "      <th>fuel_기타</th>\n",
              "      <th>fuel_디젤</th>\n",
              "      <th>fuel_전기</th>\n",
              "      <th>dist</th>\n",
              "      <th>power</th>\n",
              "      <th>cylinder_3.0</th>\n",
              "      <th>cylinder_4.0</th>\n",
              "      <th>cylinder_5.0</th>\n",
              "      <th>cylinder_6.0</th>\n",
              "      <th>cylinder_8.0</th>\n",
              "      <th>torque</th>\n",
              "      <th>type_4WD</th>\n",
              "      <th>type_AWD</th>\n",
              "      <th>type_FF</th>\n",
              "      <th>type_FR</th>\n",
              "      <th>type_MR</th>\n",
              "      <th>mission_수동</th>\n",
              "      <th>mission_자동</th>\n",
              "    </tr>\n",
              "  </thead>\n",
              "  <tbody>\n",
              "    <tr>\n",
              "      <th>0</th>\n",
              "      <td>2013.0</td>\n",
              "      <td>3141.0</td>\n",
              "      <td>7.534228</td>\n",
              "      <td>0</td>\n",
              "      <td>0</td>\n",
              "      <td>0</td>\n",
              "      <td>1</td>\n",
              "      <td>0</td>\n",
              "      <td>0</td>\n",
              "      <td>0</td>\n",
              "      <td>0</td>\n",
              "      <td>0</td>\n",
              "      <td>0</td>\n",
              "      <td>40000.0</td>\n",
              "      <td>201.0</td>\n",
              "      <td>0</td>\n",
              "      <td>1</td>\n",
              "      <td>0</td>\n",
              "      <td>0</td>\n",
              "      <td>0</td>\n",
              "      <td>25.5</td>\n",
              "      <td>0</td>\n",
              "      <td>0</td>\n",
              "      <td>1</td>\n",
              "      <td>0</td>\n",
              "      <td>0</td>\n",
              "      <td>0</td>\n",
              "      <td>1</td>\n",
              "    </tr>\n",
              "    <tr>\n",
              "      <th>1</th>\n",
              "      <td>2010.0</td>\n",
              "      <td>NaN</td>\n",
              "      <td>6.552508</td>\n",
              "      <td>0</td>\n",
              "      <td>1</td>\n",
              "      <td>0</td>\n",
              "      <td>0</td>\n",
              "      <td>0</td>\n",
              "      <td>0</td>\n",
              "      <td>0</td>\n",
              "      <td>0</td>\n",
              "      <td>0</td>\n",
              "      <td>0</td>\n",
              "      <td>90000.0</td>\n",
              "      <td>157.0</td>\n",
              "      <td>0</td>\n",
              "      <td>1</td>\n",
              "      <td>0</td>\n",
              "      <td>0</td>\n",
              "      <td>0</td>\n",
              "      <td>20.0</td>\n",
              "      <td>0</td>\n",
              "      <td>0</td>\n",
              "      <td>1</td>\n",
              "      <td>0</td>\n",
              "      <td>0</td>\n",
              "      <td>0</td>\n",
              "      <td>1</td>\n",
              "    </tr>\n",
              "    <tr>\n",
              "      <th>2</th>\n",
              "      <td>2015.0</td>\n",
              "      <td>3389.0</td>\n",
              "      <td>8.003363</td>\n",
              "      <td>0</td>\n",
              "      <td>0</td>\n",
              "      <td>0</td>\n",
              "      <td>0</td>\n",
              "      <td>0</td>\n",
              "      <td>0</td>\n",
              "      <td>0</td>\n",
              "      <td>0</td>\n",
              "      <td>1</td>\n",
              "      <td>0</td>\n",
              "      <td>30000.0</td>\n",
              "      <td>202.0</td>\n",
              "      <td>0</td>\n",
              "      <td>1</td>\n",
              "      <td>0</td>\n",
              "      <td>0</td>\n",
              "      <td>0</td>\n",
              "      <td>45.0</td>\n",
              "      <td>0</td>\n",
              "      <td>0</td>\n",
              "      <td>1</td>\n",
              "      <td>0</td>\n",
              "      <td>0</td>\n",
              "      <td>0</td>\n",
              "      <td>1</td>\n",
              "    </tr>\n",
              "    <tr>\n",
              "      <th>3</th>\n",
              "      <td>2008.0</td>\n",
              "      <td>2499.0</td>\n",
              "      <td>6.042633</td>\n",
              "      <td>0</td>\n",
              "      <td>0</td>\n",
              "      <td>0</td>\n",
              "      <td>0</td>\n",
              "      <td>0</td>\n",
              "      <td>0</td>\n",
              "      <td>0</td>\n",
              "      <td>0</td>\n",
              "      <td>1</td>\n",
              "      <td>0</td>\n",
              "      <td>160000.0</td>\n",
              "      <td>151.0</td>\n",
              "      <td>0</td>\n",
              "      <td>1</td>\n",
              "      <td>0</td>\n",
              "      <td>0</td>\n",
              "      <td>0</td>\n",
              "      <td>33.8</td>\n",
              "      <td>0</td>\n",
              "      <td>0</td>\n",
              "      <td>0</td>\n",
              "      <td>1</td>\n",
              "      <td>0</td>\n",
              "      <td>0</td>\n",
              "      <td>1</td>\n",
              "    </tr>\n",
              "    <tr>\n",
              "      <th>4</th>\n",
              "      <td>2004.0</td>\n",
              "      <td>1445.0</td>\n",
              "      <td>6.111467</td>\n",
              "      <td>0</td>\n",
              "      <td>0</td>\n",
              "      <td>0</td>\n",
              "      <td>0</td>\n",
              "      <td>0</td>\n",
              "      <td>0</td>\n",
              "      <td>0</td>\n",
              "      <td>0</td>\n",
              "      <td>1</td>\n",
              "      <td>0</td>\n",
              "      <td>160000.0</td>\n",
              "      <td>103.0</td>\n",
              "      <td>1</td>\n",
              "      <td>0</td>\n",
              "      <td>0</td>\n",
              "      <td>0</td>\n",
              "      <td>0</td>\n",
              "      <td>24.0</td>\n",
              "      <td>0</td>\n",
              "      <td>0</td>\n",
              "      <td>0</td>\n",
              "      <td>1</td>\n",
              "      <td>0</td>\n",
              "      <td>1</td>\n",
              "      <td>0</td>\n",
              "    </tr>\n",
              "  </tbody>\n",
              "</table>\n",
              "</div>"
            ],
            "text/plain": [
              "   yeartype  newprice     price  ...  type_MR  mission_수동  mission_자동\n",
              "0    2013.0    3141.0  7.534228  ...        0           0           1\n",
              "1    2010.0       NaN  6.552508  ...        0           0           1\n",
              "2    2015.0    3389.0  8.003363  ...        0           0           1\n",
              "3    2008.0    2499.0  6.042633  ...        0           0           1\n",
              "4    2004.0    1445.0  6.111467  ...        0           1           0\n",
              "\n",
              "[5 rows x 28 columns]"
            ]
          },
          "metadata": {
            "tags": []
          },
          "execution_count": 67
        }
      ]
    },
    {
      "cell_type": "markdown",
      "metadata": {
        "id": "IqeUBQcW6a9E"
      },
      "source": [
        "# 13 신차가(만원) newprice 9544 non-null float64\n",
        "\n",
        "- 일단 드랍\n"
      ]
    },
    {
      "cell_type": "code",
      "metadata": {
        "id": "oo_3gP8m6a9E"
      },
      "source": [
        "train = train.drop(['newprice'], axis=1)"
      ],
      "execution_count": 68,
      "outputs": []
    },
    {
      "cell_type": "code",
      "metadata": {
        "id": "fvt-Uzkm6a9G",
        "outputId": "9fdbc184-ddad-4977-9837-db8bf8595096",
        "colab": {
          "base_uri": "https://localhost:8080/",
          "height": 274
        }
      },
      "source": [
        "train.head()"
      ],
      "execution_count": 69,
      "outputs": [
        {
          "output_type": "execute_result",
          "data": {
            "text/html": [
              "<div>\n",
              "<style scoped>\n",
              "    .dataframe tbody tr th:only-of-type {\n",
              "        vertical-align: middle;\n",
              "    }\n",
              "\n",
              "    .dataframe tbody tr th {\n",
              "        vertical-align: top;\n",
              "    }\n",
              "\n",
              "    .dataframe thead th {\n",
              "        text-align: right;\n",
              "    }\n",
              "</style>\n",
              "<table border=\"1\" class=\"dataframe\">\n",
              "  <thead>\n",
              "    <tr style=\"text-align: right;\">\n",
              "      <th></th>\n",
              "      <th>yeartype</th>\n",
              "      <th>price</th>\n",
              "      <th>fuel_CNG</th>\n",
              "      <th>fuel_LPG</th>\n",
              "      <th>fuel_LPG+전기</th>\n",
              "      <th>fuel_가솔린</th>\n",
              "      <th>fuel_가솔린+전기</th>\n",
              "      <th>fuel_가솔린/CNG겸용</th>\n",
              "      <th>fuel_가솔린/LPG겸용</th>\n",
              "      <th>fuel_기타</th>\n",
              "      <th>fuel_디젤</th>\n",
              "      <th>fuel_전기</th>\n",
              "      <th>dist</th>\n",
              "      <th>power</th>\n",
              "      <th>cylinder_3.0</th>\n",
              "      <th>cylinder_4.0</th>\n",
              "      <th>cylinder_5.0</th>\n",
              "      <th>cylinder_6.0</th>\n",
              "      <th>cylinder_8.0</th>\n",
              "      <th>torque</th>\n",
              "      <th>type_4WD</th>\n",
              "      <th>type_AWD</th>\n",
              "      <th>type_FF</th>\n",
              "      <th>type_FR</th>\n",
              "      <th>type_MR</th>\n",
              "      <th>mission_수동</th>\n",
              "      <th>mission_자동</th>\n",
              "    </tr>\n",
              "  </thead>\n",
              "  <tbody>\n",
              "    <tr>\n",
              "      <th>0</th>\n",
              "      <td>2013.0</td>\n",
              "      <td>7.534228</td>\n",
              "      <td>0</td>\n",
              "      <td>0</td>\n",
              "      <td>0</td>\n",
              "      <td>1</td>\n",
              "      <td>0</td>\n",
              "      <td>0</td>\n",
              "      <td>0</td>\n",
              "      <td>0</td>\n",
              "      <td>0</td>\n",
              "      <td>0</td>\n",
              "      <td>40000.0</td>\n",
              "      <td>201.0</td>\n",
              "      <td>0</td>\n",
              "      <td>1</td>\n",
              "      <td>0</td>\n",
              "      <td>0</td>\n",
              "      <td>0</td>\n",
              "      <td>25.5</td>\n",
              "      <td>0</td>\n",
              "      <td>0</td>\n",
              "      <td>1</td>\n",
              "      <td>0</td>\n",
              "      <td>0</td>\n",
              "      <td>0</td>\n",
              "      <td>1</td>\n",
              "    </tr>\n",
              "    <tr>\n",
              "      <th>1</th>\n",
              "      <td>2010.0</td>\n",
              "      <td>6.552508</td>\n",
              "      <td>0</td>\n",
              "      <td>1</td>\n",
              "      <td>0</td>\n",
              "      <td>0</td>\n",
              "      <td>0</td>\n",
              "      <td>0</td>\n",
              "      <td>0</td>\n",
              "      <td>0</td>\n",
              "      <td>0</td>\n",
              "      <td>0</td>\n",
              "      <td>90000.0</td>\n",
              "      <td>157.0</td>\n",
              "      <td>0</td>\n",
              "      <td>1</td>\n",
              "      <td>0</td>\n",
              "      <td>0</td>\n",
              "      <td>0</td>\n",
              "      <td>20.0</td>\n",
              "      <td>0</td>\n",
              "      <td>0</td>\n",
              "      <td>1</td>\n",
              "      <td>0</td>\n",
              "      <td>0</td>\n",
              "      <td>0</td>\n",
              "      <td>1</td>\n",
              "    </tr>\n",
              "    <tr>\n",
              "      <th>2</th>\n",
              "      <td>2015.0</td>\n",
              "      <td>8.003363</td>\n",
              "      <td>0</td>\n",
              "      <td>0</td>\n",
              "      <td>0</td>\n",
              "      <td>0</td>\n",
              "      <td>0</td>\n",
              "      <td>0</td>\n",
              "      <td>0</td>\n",
              "      <td>0</td>\n",
              "      <td>1</td>\n",
              "      <td>0</td>\n",
              "      <td>30000.0</td>\n",
              "      <td>202.0</td>\n",
              "      <td>0</td>\n",
              "      <td>1</td>\n",
              "      <td>0</td>\n",
              "      <td>0</td>\n",
              "      <td>0</td>\n",
              "      <td>45.0</td>\n",
              "      <td>0</td>\n",
              "      <td>0</td>\n",
              "      <td>1</td>\n",
              "      <td>0</td>\n",
              "      <td>0</td>\n",
              "      <td>0</td>\n",
              "      <td>1</td>\n",
              "    </tr>\n",
              "    <tr>\n",
              "      <th>3</th>\n",
              "      <td>2008.0</td>\n",
              "      <td>6.042633</td>\n",
              "      <td>0</td>\n",
              "      <td>0</td>\n",
              "      <td>0</td>\n",
              "      <td>0</td>\n",
              "      <td>0</td>\n",
              "      <td>0</td>\n",
              "      <td>0</td>\n",
              "      <td>0</td>\n",
              "      <td>1</td>\n",
              "      <td>0</td>\n",
              "      <td>160000.0</td>\n",
              "      <td>151.0</td>\n",
              "      <td>0</td>\n",
              "      <td>1</td>\n",
              "      <td>0</td>\n",
              "      <td>0</td>\n",
              "      <td>0</td>\n",
              "      <td>33.8</td>\n",
              "      <td>0</td>\n",
              "      <td>0</td>\n",
              "      <td>0</td>\n",
              "      <td>1</td>\n",
              "      <td>0</td>\n",
              "      <td>0</td>\n",
              "      <td>1</td>\n",
              "    </tr>\n",
              "    <tr>\n",
              "      <th>4</th>\n",
              "      <td>2004.0</td>\n",
              "      <td>6.111467</td>\n",
              "      <td>0</td>\n",
              "      <td>0</td>\n",
              "      <td>0</td>\n",
              "      <td>0</td>\n",
              "      <td>0</td>\n",
              "      <td>0</td>\n",
              "      <td>0</td>\n",
              "      <td>0</td>\n",
              "      <td>1</td>\n",
              "      <td>0</td>\n",
              "      <td>160000.0</td>\n",
              "      <td>103.0</td>\n",
              "      <td>1</td>\n",
              "      <td>0</td>\n",
              "      <td>0</td>\n",
              "      <td>0</td>\n",
              "      <td>0</td>\n",
              "      <td>24.0</td>\n",
              "      <td>0</td>\n",
              "      <td>0</td>\n",
              "      <td>0</td>\n",
              "      <td>1</td>\n",
              "      <td>0</td>\n",
              "      <td>1</td>\n",
              "      <td>0</td>\n",
              "    </tr>\n",
              "  </tbody>\n",
              "</table>\n",
              "</div>"
            ],
            "text/plain": [
              "   yeartype     price  fuel_CNG  ...  type_MR  mission_수동  mission_자동\n",
              "0    2013.0  7.534228         0  ...        0           0           1\n",
              "1    2010.0  6.552508         0  ...        0           0           1\n",
              "2    2015.0  8.003363         0  ...        0           0           1\n",
              "3    2008.0  6.042633         0  ...        0           0           1\n",
              "4    2004.0  6.111467         0  ...        0           1           0\n",
              "\n",
              "[5 rows x 27 columns]"
            ]
          },
          "metadata": {
            "tags": []
          },
          "execution_count": 69
        }
      ]
    },
    {
      "cell_type": "markdown",
      "metadata": {
        "id": "hwJ5DWeW6a9I"
      },
      "source": [
        "# 14 가격(만원) price 11769 non-null float64\n",
        "\n",
        "- 이건 피쳐가 아니고 정답(레이블)"
      ]
    },
    {
      "cell_type": "markdown",
      "metadata": {
        "id": "rA0lGDlP6a9I"
      },
      "source": [
        "# 종합"
      ]
    },
    {
      "cell_type": "code",
      "metadata": {
        "id": "Xg0y9QJt6a9I",
        "outputId": "a13b238d-fdee-45cc-ca5b-f92406d1d2b4",
        "colab": {
          "base_uri": "https://localhost:8080/"
        }
      },
      "source": [
        "print(train.shape)\n",
        "print(test.shape)"
      ],
      "execution_count": 70,
      "outputs": [
        {
          "output_type": "stream",
          "text": [
            "(11764, 27)\n",
            "(5789, 26)\n"
          ],
          "name": "stdout"
        }
      ]
    },
    {
      "cell_type": "code",
      "metadata": {
        "id": "dqXRNmH5hVfJ",
        "outputId": "3c9ad0d2-c369-4b08-ffd4-c503301eb621",
        "colab": {
          "base_uri": "https://localhost:8080/"
        }
      },
      "source": [
        "train.info()"
      ],
      "execution_count": 71,
      "outputs": [
        {
          "output_type": "stream",
          "text": [
            "<class 'pandas.core.frame.DataFrame'>\n",
            "Int64Index: 11764 entries, 0 to 11768\n",
            "Data columns (total 27 columns):\n",
            " #   Column          Non-Null Count  Dtype  \n",
            "---  ------          --------------  -----  \n",
            " 0   yeartype        11764 non-null  float64\n",
            " 1   price           11764 non-null  float64\n",
            " 2   fuel_CNG        11764 non-null  uint8  \n",
            " 3   fuel_LPG        11764 non-null  uint8  \n",
            " 4   fuel_LPG+전기     11764 non-null  uint8  \n",
            " 5   fuel_가솔린        11764 non-null  uint8  \n",
            " 6   fuel_가솔린+전기     11764 non-null  uint8  \n",
            " 7   fuel_가솔린/CNG겸용  11764 non-null  uint8  \n",
            " 8   fuel_가솔린/LPG겸용  11764 non-null  uint8  \n",
            " 9   fuel_기타         11764 non-null  uint8  \n",
            " 10  fuel_디젤         11764 non-null  uint8  \n",
            " 11  fuel_전기         11764 non-null  uint8  \n",
            " 12  dist            11735 non-null  float64\n",
            " 13  power           10639 non-null  float64\n",
            " 14  cylinder_3.0    11764 non-null  uint8  \n",
            " 15  cylinder_4.0    11764 non-null  uint8  \n",
            " 16  cylinder_5.0    11764 non-null  uint8  \n",
            " 17  cylinder_6.0    11764 non-null  uint8  \n",
            " 18  cylinder_8.0    11764 non-null  uint8  \n",
            " 19  torque          10540 non-null  float64\n",
            " 20  type_4WD        11764 non-null  uint8  \n",
            " 21  type_AWD        11764 non-null  uint8  \n",
            " 22  type_FF         11764 non-null  uint8  \n",
            " 23  type_FR         11764 non-null  uint8  \n",
            " 24  type_MR         11764 non-null  uint8  \n",
            " 25  mission_수동      11764 non-null  uint8  \n",
            " 26  mission_자동      11764 non-null  uint8  \n",
            "dtypes: float64(5), uint8(22)\n",
            "memory usage: 1.1 MB\n"
          ],
          "name": "stdout"
        }
      ]
    },
    {
      "cell_type": "code",
      "metadata": {
        "id": "OG_zzc66hmER",
        "outputId": "bc6996ca-dad7-4d17-d6e0-65f60e95bf9a",
        "colab": {
          "base_uri": "https://localhost:8080/"
        }
      },
      "source": [
        "test.info()"
      ],
      "execution_count": 72,
      "outputs": [
        {
          "output_type": "stream",
          "text": [
            "<class 'pandas.core.frame.DataFrame'>\n",
            "RangeIndex: 5789 entries, 0 to 5788\n",
            "Data columns (total 26 columns):\n",
            " #   Column          Non-Null Count  Dtype  \n",
            "---  ------          --------------  -----  \n",
            " 0   yeartype        5789 non-null   float64\n",
            " 1   fuel_CNG        5789 non-null   uint8  \n",
            " 2   fuel_LPG        5789 non-null   uint8  \n",
            " 3   fuel_LPG+전기     5789 non-null   uint8  \n",
            " 4   fuel_가솔린        5789 non-null   uint8  \n",
            " 5   fuel_가솔린+전기     5789 non-null   uint8  \n",
            " 6   fuel_가솔린/CNG겸용  5789 non-null   uint8  \n",
            " 7   fuel_가솔린/LPG겸용  5789 non-null   uint8  \n",
            " 8   fuel_기타         5789 non-null   uint8  \n",
            " 9   fuel_디젤         5789 non-null   uint8  \n",
            " 10  fuel_전기         5789 non-null   uint8  \n",
            " 11  dist            5778 non-null   float64\n",
            " 12  power           5237 non-null   float64\n",
            " 13  cylinder_3.0    5789 non-null   uint8  \n",
            " 14  cylinder_4.0    5789 non-null   uint8  \n",
            " 15  cylinder_5.0    5789 non-null   uint8  \n",
            " 16  cylinder_6.0    5789 non-null   uint8  \n",
            " 17  cylinder_8.0    5789 non-null   uint8  \n",
            " 18  torque          5183 non-null   float64\n",
            " 19  type_4WD        5789 non-null   uint8  \n",
            " 20  type_AWD        5789 non-null   uint8  \n",
            " 21  type_FF         5789 non-null   uint8  \n",
            " 22  type_FR         5789 non-null   uint8  \n",
            " 23  type_MR         5789 non-null   uint8  \n",
            " 24  mission_수동      5789 non-null   uint8  \n",
            " 25  mission_자동      5789 non-null   uint8  \n",
            "dtypes: float64(4), uint8(22)\n",
            "memory usage: 305.4 KB\n"
          ],
          "name": "stdout"
        }
      ]
    },
    {
      "cell_type": "markdown",
      "metadata": {
        "id": "GKXKTq7R6RXJ"
      },
      "source": [
        "# 결측치 채우기 - MissForest"
      ]
    },
    {
      "cell_type": "code",
      "metadata": {
        "id": "q_Ve8gu677_G",
        "outputId": "92c3effd-adbc-402b-8869-84210e57d3b6",
        "colab": {
          "base_uri": "https://localhost:8080/"
        }
      },
      "source": [
        "train.columns"
      ],
      "execution_count": 73,
      "outputs": [
        {
          "output_type": "execute_result",
          "data": {
            "text/plain": [
              "Index(['yeartype', 'price', 'fuel_CNG', 'fuel_LPG', 'fuel_LPG+전기', 'fuel_가솔린',\n",
              "       'fuel_가솔린+전기', 'fuel_가솔린/CNG겸용', 'fuel_가솔린/LPG겸용', 'fuel_기타', 'fuel_디젤',\n",
              "       'fuel_전기', 'dist', 'power', 'cylinder_3.0', 'cylinder_4.0',\n",
              "       'cylinder_5.0', 'cylinder_6.0', 'cylinder_8.0', 'torque', 'type_4WD',\n",
              "       'type_AWD', 'type_FF', 'type_FR', 'type_MR', 'mission_수동',\n",
              "       'mission_자동'],\n",
              "      dtype='object')"
            ]
          },
          "metadata": {
            "tags": []
          },
          "execution_count": 73
        }
      ]
    },
    {
      "cell_type": "code",
      "metadata": {
        "id": "i7teVrvh6RFi",
        "outputId": "678325de-81c2-4a5d-beaf-87c2609203db",
        "colab": {
          "base_uri": "https://localhost:8080/"
        }
      },
      "source": [
        "train.isna().sum()"
      ],
      "execution_count": 74,
      "outputs": [
        {
          "output_type": "execute_result",
          "data": {
            "text/plain": [
              "yeartype             0\n",
              "price                0\n",
              "fuel_CNG             0\n",
              "fuel_LPG             0\n",
              "fuel_LPG+전기          0\n",
              "fuel_가솔린             0\n",
              "fuel_가솔린+전기          0\n",
              "fuel_가솔린/CNG겸용       0\n",
              "fuel_가솔린/LPG겸용       0\n",
              "fuel_기타              0\n",
              "fuel_디젤              0\n",
              "fuel_전기              0\n",
              "dist                29\n",
              "power             1125\n",
              "cylinder_3.0         0\n",
              "cylinder_4.0         0\n",
              "cylinder_5.0         0\n",
              "cylinder_6.0         0\n",
              "cylinder_8.0         0\n",
              "torque            1224\n",
              "type_4WD             0\n",
              "type_AWD             0\n",
              "type_FF              0\n",
              "type_FR              0\n",
              "type_MR              0\n",
              "mission_수동           0\n",
              "mission_자동           0\n",
              "dtype: int64"
            ]
          },
          "metadata": {
            "tags": []
          },
          "execution_count": 74
        }
      ]
    },
    {
      "cell_type": "code",
      "metadata": {
        "id": "93VY38h-8HRF",
        "outputId": "d2d2b63b-bbf9-4544-ca0d-75be041597c5",
        "colab": {
          "base_uri": "https://localhost:8080/"
        }
      },
      "source": [
        "test.isna().sum()"
      ],
      "execution_count": 75,
      "outputs": [
        {
          "output_type": "execute_result",
          "data": {
            "text/plain": [
              "yeartype            0\n",
              "fuel_CNG            0\n",
              "fuel_LPG            0\n",
              "fuel_LPG+전기         0\n",
              "fuel_가솔린            0\n",
              "fuel_가솔린+전기         0\n",
              "fuel_가솔린/CNG겸용      0\n",
              "fuel_가솔린/LPG겸용      0\n",
              "fuel_기타             0\n",
              "fuel_디젤             0\n",
              "fuel_전기             0\n",
              "dist               11\n",
              "power             552\n",
              "cylinder_3.0        0\n",
              "cylinder_4.0        0\n",
              "cylinder_5.0        0\n",
              "cylinder_6.0        0\n",
              "cylinder_8.0        0\n",
              "torque            606\n",
              "type_4WD            0\n",
              "type_AWD            0\n",
              "type_FF             0\n",
              "type_FR             0\n",
              "type_MR             0\n",
              "mission_수동          0\n",
              "mission_자동          0\n",
              "dtype: int64"
            ]
          },
          "metadata": {
            "tags": []
          },
          "execution_count": 75
        }
      ]
    },
    {
      "cell_type": "code",
      "metadata": {
        "id": "w2yJgLtpJp7K"
      },
      "source": [
        "train_cols = train.columns.tolist()\n",
        "test_cols = test.columns.tolist()"
      ],
      "execution_count": 76,
      "outputs": []
    },
    {
      "cell_type": "code",
      "metadata": {
        "id": "Dw7UeVIa88Ak",
        "outputId": "39159eca-236b-466b-c95c-62017cc27b11",
        "colab": {
          "base_uri": "https://localhost:8080/"
        }
      },
      "source": [
        "imputer = MissForest(random_state=42)\n",
        "\n",
        "train_imputed = imputer.fit_transform(train)\n",
        "test_imputed = imputer.fit_transform(test)"
      ],
      "execution_count": 77,
      "outputs": [
        {
          "output_type": "stream",
          "text": [
            "Iteration: 0\n",
            "Iteration: 1\n",
            "Iteration: 2\n",
            "Iteration: 3\n",
            "Iteration: 4\n",
            "Iteration: 5\n",
            "Iteration: 0\n",
            "Iteration: 1\n",
            "Iteration: 2\n",
            "Iteration: 3\n"
          ],
          "name": "stdout"
        }
      ]
    },
    {
      "cell_type": "code",
      "metadata": {
        "id": "LOBVWYg_JiUT"
      },
      "source": [
        "train = pd.DataFrame(train_imputed, columns=train_cols)\n",
        "test = pd.DataFrame(test_imputed, columns=test_cols)"
      ],
      "execution_count": 78,
      "outputs": []
    },
    {
      "cell_type": "code",
      "metadata": {
        "id": "m2PqV-ITJRU7",
        "outputId": "0beb8245-311d-4388-8897-260eb4687fa0",
        "colab": {
          "base_uri": "https://localhost:8080/"
        }
      },
      "source": [
        "print(train.isna().sum())\n",
        "print(test.isna().sum())"
      ],
      "execution_count": 79,
      "outputs": [
        {
          "output_type": "stream",
          "text": [
            "yeartype          0\n",
            "price             0\n",
            "fuel_CNG          0\n",
            "fuel_LPG          0\n",
            "fuel_LPG+전기       0\n",
            "fuel_가솔린          0\n",
            "fuel_가솔린+전기       0\n",
            "fuel_가솔린/CNG겸용    0\n",
            "fuel_가솔린/LPG겸용    0\n",
            "fuel_기타           0\n",
            "fuel_디젤           0\n",
            "fuel_전기           0\n",
            "dist              0\n",
            "power             0\n",
            "cylinder_3.0      0\n",
            "cylinder_4.0      0\n",
            "cylinder_5.0      0\n",
            "cylinder_6.0      0\n",
            "cylinder_8.0      0\n",
            "torque            0\n",
            "type_4WD          0\n",
            "type_AWD          0\n",
            "type_FF           0\n",
            "type_FR           0\n",
            "type_MR           0\n",
            "mission_수동        0\n",
            "mission_자동        0\n",
            "dtype: int64\n",
            "yeartype          0\n",
            "fuel_CNG          0\n",
            "fuel_LPG          0\n",
            "fuel_LPG+전기       0\n",
            "fuel_가솔린          0\n",
            "fuel_가솔린+전기       0\n",
            "fuel_가솔린/CNG겸용    0\n",
            "fuel_가솔린/LPG겸용    0\n",
            "fuel_기타           0\n",
            "fuel_디젤           0\n",
            "fuel_전기           0\n",
            "dist              0\n",
            "power             0\n",
            "cylinder_3.0      0\n",
            "cylinder_4.0      0\n",
            "cylinder_5.0      0\n",
            "cylinder_6.0      0\n",
            "cylinder_8.0      0\n",
            "torque            0\n",
            "type_4WD          0\n",
            "type_AWD          0\n",
            "type_FF           0\n",
            "type_FR           0\n",
            "type_MR           0\n",
            "mission_수동        0\n",
            "mission_자동        0\n",
            "dtype: int64\n"
          ],
          "name": "stdout"
        }
      ]
    },
    {
      "cell_type": "markdown",
      "metadata": {
        "id": "mBaI-qt3iHa-"
      },
      "source": [
        "# Skew된 Column 처리"
      ]
    },
    {
      "cell_type": "code",
      "metadata": {
        "id": "kN05F9G5iJXS",
        "outputId": "c1c86f90-f87e-4ac3-fdd6-462b42973dc3",
        "colab": {
          "base_uri": "https://localhost:8080/",
          "height": 1000
        }
      },
      "source": [
        "numeric_feats = ['yeartype', 'dist', 'power', 'torque']\n",
        "for feat in numeric_feats:\n",
        "  sns.distplot(train[feat], fit=norm)\n",
        "\n",
        "  # Get the fitted parameters used by the function\n",
        "  (mu, sigma) = norm.fit(train[feat])\n",
        "  print( '\\n mu = {:.2f} and sigma = {:.2f}\\n'.format(mu, sigma))\n",
        "\n",
        "  #Now plot the distribution\n",
        "  plt.legend(['Normal dist. ($\\mu=$ {:.2f} and $\\sigma=$ {:.2f} )'.format(mu, sigma)],\n",
        "              loc='best')\n",
        "  plt.ylabel('Frequency')\n",
        "  plt.title(f'{feat} distribution')\n",
        "\n",
        "  #Get also the QQ-plot\n",
        "  fig = plt.figure()\n",
        "  res = stats.probplot(train[feat], plot=plt)\n",
        "  plt.show()"
      ],
      "execution_count": 80,
      "outputs": [
        {
          "output_type": "stream",
          "text": [
            "\n",
            " mu = 2011.61 and sigma = 4.32\n",
            "\n"
          ],
          "name": "stdout"
        },
        {
          "output_type": "display_data",
          "data": {
            "image/png": "[encoded data removed]",
            "text/plain": [
              "<Figure size 432x288 with 1 Axes>"
            ]
          },
          "metadata": {
            "tags": [],
            "needs_background": "light"
          }
        },
        {
          "output_type": "display_data",
          "data": {
            "image/png": "[encoded data removed]",
            "text/plain": [
              "<Figure size 432x288 with 1 Axes>"
            ]
          },
          "metadata": {
            "tags": [],
            "needs_background": "light"
          }
        },
        {
          "output_type": "stream",
          "text": [
            "\n",
            " mu = 100113.27 and sigma = 63347.82\n",
            "\n"
          ],
          "name": "stdout"
        },
        {
          "output_type": "display_data",
          "data": {
            "image/png": "[encoded data removed]",
            "text/plain": [
              "<Figure size 432x288 with 1 Axes>"
            ]
          },
          "metadata": {
            "tags": [],
            "needs_background": "light"
          }
        },
        {
          "output_type": "display_data",
          "data": {
            "image/png": "[encoded data removed]",
            "text/plain": [
              "<Figure size 432x288 with 1 Axes>"
            ]
          },
          "metadata": {
            "tags": [],
            "needs_background": "light"
          }
        },
        {
          "output_type": "stream",
          "text": [
            "\n",
            " mu = 188.33 and sigma = 68.41\n",
            "\n"
          ],
          "name": "stdout"
        },
        {
          "output_type": "display_data",
          "data": {
            "image/png": "[encoded data removed]",
            "text/plain": [
              "<Figure size 432x288 with 1 Axes>"
            ]
          },
          "metadata": {
            "tags": [],
            "needs_background": "light"
          }
        },
        {
          "output_type": "display_data",
          "data": {
            "image/png": "[encoded data removed]",
            "text/plain": [
              "<Figure size 432x288 with 1 Axes>"
            ]
          },
          "metadata": {
            "tags": [],
            "needs_background": "light"
          }
        },
        {
          "output_type": "stream",
          "text": [
            "\n",
            " mu = 30.06 and sigma = 11.17\n",
            "\n"
          ],
          "name": "stdout"
        },
        {
          "output_type": "display_data",
          "data": {
            "image/png": "[encoded data removed]",
            "text/plain": [
              "<Figure size 432x288 with 1 Axes>"
            ]
          },
          "metadata": {
            "tags": [],
            "needs_background": "light"
          }
        },
        {
          "output_type": "display_data",
          "data": {
            "image/png": "[encoded data removed]",
            "text/plain": [
              "<Figure size 432x288 with 1 Axes>"
            ]
          },
          "metadata": {
            "tags": [],
            "needs_background": "light"
          }
        }
      ]
    },
    {
      "cell_type": "markdown",
      "metadata": {
        "id": "nwqUJDpzppi3"
      },
      "source": [
        "## yeartype은 left-skewed, dist는 right-skewed되어 있다"
      ]
    },
    {
      "cell_type": "markdown",
      "metadata": {
        "id": "_0vm3EYUi5PH"
      },
      "source": [
        "## boxcox1p를 적용시켜 보자"
      ]
    },
    {
      "cell_type": "code",
      "metadata": {
        "id": "DcD5KDEyjX7C"
      },
      "source": [
        "from scipy.special import boxcox1p\n",
        "lam = 0.15\n",
        "\n",
        "train['yeartype'] = boxcox1p(train['yeartype'], lam)\n",
        "test['yeartype'] = boxcox1p(test['yeartype'], lam)\n",
        "\n",
        "train['dist'] = boxcox1p(train['dist'], lam)\n",
        "test['dist'] = boxcox1p(test['dist'], lam)"
      ],
      "execution_count": 81,
      "outputs": []
    },
    {
      "cell_type": "code",
      "metadata": {
        "id": "bcnXPTxlowar",
        "outputId": "04d6c946-b4ed-4e59-a655-00fdf548f22e",
        "colab": {
          "base_uri": "https://localhost:8080/",
          "height": 1000
        }
      },
      "source": [
        "skewed_feats = ['yeartype', 'dist']\n",
        "for feat in skewed_feats:\n",
        "  sns.distplot(train[feat], fit=norm)\n",
        "\n",
        "  # Get the fitted parameters used by the function\n",
        "  (mu, sigma) = norm.fit(train[feat])\n",
        "  print( '\\n mu = {:.2f} and sigma = {:.2f}\\n'.format(mu, sigma))\n",
        "\n",
        "  #Now plot the distribution\n",
        "  plt.legend(['Normal dist. ($\\mu=$ {:.2f} and $\\sigma=$ {:.2f} )'.format(mu, sigma)],\n",
        "              loc='best')\n",
        "  plt.ylabel('Frequency')\n",
        "  plt.title(f'{feat} distribution')\n",
        "\n",
        "  #Get also the QQ-plot\n",
        "  fig = plt.figure()\n",
        "  res = stats.probplot(train[feat], plot=plt)\n",
        "  plt.show()"
      ],
      "execution_count": 82,
      "outputs": [
        {
          "output_type": "stream",
          "text": [
            "\n",
            " mu = 14.20 and sigma = 0.01\n",
            "\n"
          ],
          "name": "stdout"
        },
        {
          "output_type": "display_data",
          "data": {
            "image/png": "[encoded data removed]",
            "text/plain": [
              "<Figure size 432x288 with 1 Axes>"
            ]
          },
          "metadata": {
            "tags": [],
            "needs_background": "light"
          }
        },
        {
          "output_type": "display_data",
          "data": {
            "image/png": "[encoded data removed]",
            "text/plain": [
              "<Figure size 432x288 with 1 Axes>"
            ]
          },
          "metadata": {
            "tags": [],
            "needs_background": "light"
          }
        },
        {
          "output_type": "stream",
          "text": [
            "\n",
            " mu = 29.44 and sigma = 4.92\n",
            "\n"
          ],
          "name": "stdout"
        },
        {
          "output_type": "display_data",
          "data": {
            "image/png": "[encoded data removed]",
            "text/plain": [
              "<Figure size 432x288 with 1 Axes>"
            ]
          },
          "metadata": {
            "tags": [],
            "needs_background": "light"
          }
        },
        {
          "output_type": "display_data",
          "data": {
            "image/png": "[encoded data removed]",
            "text/plain": [
              "<Figure size 432x288 with 1 Axes>"
            ]
          },
          "metadata": {
            "tags": [],
            "needs_background": "light"
          }
        }
      ]
    },
    {
      "cell_type": "markdown",
      "metadata": {
        "id": "4v2S13nY6a9L"
      },
      "source": [
        "# 데이터 나누기"
      ]
    },
    {
      "cell_type": "code",
      "metadata": {
        "id": "tTJEBWi26a9L",
        "outputId": "cc376e06-01b1-4660-c3dd-f2110ed5a4d2",
        "colab": {
          "base_uri": "https://localhost:8080/"
        }
      },
      "source": [
        "X_train = train.drop(['price'], axis=1)\n",
        "Y_train = train['price']\n",
        "X_test = test.copy()\n",
        "\n",
        "print(X_train.shape)\n",
        "print(Y_train.shape)\n",
        "print(X_test.shape)"
      ],
      "execution_count": 83,
      "outputs": [
        {
          "output_type": "stream",
          "text": [
            "(11764, 26)\n",
            "(11764,)\n",
            "(5789, 26)\n"
          ],
          "name": "stdout"
        }
      ]
    },
    {
      "cell_type": "markdown",
      "metadata": {
        "id": "1vDJhc4k6a9N"
      },
      "source": [
        "# Model"
      ]
    },
    {
      "cell_type": "code",
      "metadata": {
        "id": "RwhTcNQc6a9N"
      },
      "source": [
        "from sklearn.linear_model import ElasticNet, Lasso,  BayesianRidge, LassoLarsIC\n",
        "from sklearn.ensemble import RandomForestRegressor,  GradientBoostingRegressor\n",
        "from sklearn.kernel_ridge import KernelRidge\n",
        "from sklearn.pipeline import make_pipeline\n",
        "from sklearn.preprocessing import RobustScaler\n",
        "from sklearn.base import BaseEstimator, TransformerMixin, RegressorMixin, clone\n",
        "from sklearn.model_selection import KFold, cross_val_score, train_test_split\n",
        "from sklearn.metrics import mean_squared_error\n",
        "import xgboost as xgb\n",
        "import lightgbm as lgb"
      ],
      "execution_count": 103,
      "outputs": []
    },
    {
      "cell_type": "code",
      "metadata": {
        "id": "tv8IAYuy6a9P"
      },
      "source": [
        "n_folds = 5\n",
        "\n",
        "def rmsle_cv(model):\n",
        "    kf = KFold(n_folds, shuffle=True, random_state=42).get_n_splits(X_train.values)\n",
        "    rmse= np.sqrt(-cross_val_score(model, X_train.values, Y_train.values, scoring=\"neg_mean_squared_error\", cv = kf))\n",
        "    return(rmse)"
      ],
      "execution_count": 104,
      "outputs": []
    },
    {
      "cell_type": "code",
      "metadata": {
        "id": "yacz8Fnv6a9Q"
      },
      "source": [
        "lasso = make_pipeline(RobustScaler(), Lasso(alpha =0.0005, random_state=1))"
      ],
      "execution_count": 105,
      "outputs": []
    },
    {
      "cell_type": "code",
      "metadata": {
        "id": "6SC6yOO7r4mz"
      },
      "source": [
        "ENet = make_pipeline(RobustScaler(), ElasticNet(alpha=0.0005, l1_ratio=.9, random_state=3))"
      ],
      "execution_count": 106,
      "outputs": []
    },
    {
      "cell_type": "code",
      "metadata": {
        "id": "bwulHQLpr6MQ"
      },
      "source": [
        "KRR = KernelRidge(alpha=0.6, kernel='polynomial', degree=2, coef0=2.5)"
      ],
      "execution_count": 107,
      "outputs": []
    },
    {
      "cell_type": "code",
      "metadata": {
        "id": "3b65t1pir7gy"
      },
      "source": [
        "GBoost = GradientBoostingRegressor(n_estimators=3000, learning_rate=0.05,\n",
        "                                   max_depth=4, max_features='sqrt',\n",
        "                                   min_samples_leaf=15, min_samples_split=10, \n",
        "                                   loss='huber', random_state =5)"
      ],
      "execution_count": 108,
      "outputs": []
    },
    {
      "cell_type": "code",
      "metadata": {
        "id": "zK6QE6D6r9Ds"
      },
      "source": [
        "model_xgb = xgb.XGBRegressor(colsample_bytree=0.4603, gamma=0.0468, \n",
        "                             learning_rate=0.05, max_depth=3, \n",
        "                             min_child_weight=1.7817, n_estimators=2200,\n",
        "                             reg_alpha=0.4640, reg_lambda=0.8571,\n",
        "                             subsample=0.5213, silent=1,\n",
        "                             random_state =7, nthread = -1)"
      ],
      "execution_count": 109,
      "outputs": []
    },
    {
      "cell_type": "code",
      "metadata": {
        "id": "D660v1qnr-V-"
      },
      "source": [
        "model_lgb = lgb.LGBMRegressor(objective='regression',num_leaves=5,\n",
        "                              learning_rate=0.05, n_estimators=720,\n",
        "                              max_bin = 55, bagging_fraction = 0.8,\n",
        "                              bagging_freq = 5, feature_fraction = 0.2319,\n",
        "                              feature_fraction_seed=9, bagging_seed=9,\n",
        "                              min_data_in_leaf =6, min_sum_hessian_in_leaf = 11)"
      ],
      "execution_count": 110,
      "outputs": []
    },
    {
      "cell_type": "code",
      "metadata": {
        "id": "vJy9-S5esBoT",
        "outputId": "ec592189-cdfe-4817-981a-5f92d82305ed",
        "colab": {
          "base_uri": "https://localhost:8080/"
        }
      },
      "source": [
        "score = rmsle_cv(lasso)\n",
        "print(\"\\nLasso score: {:.4f} ({:.4f})\\n\".format(score.mean(), score.std()))"
      ],
      "execution_count": 111,
      "outputs": [
        {
          "output_type": "stream",
          "text": [
            "\n",
            "Lasso score: 0.5778 (0.0636)\n",
            "\n"
          ],
          "name": "stdout"
        }
      ]
    },
    {
      "cell_type": "code",
      "metadata": {
        "id": "3gpDvHGCsDU1",
        "outputId": "8379b457-c31f-45f5-d696-b1211fc4c4b9",
        "colab": {
          "base_uri": "https://localhost:8080/"
        }
      },
      "source": [
        "score = rmsle_cv(ENet)\n",
        "print(\"ElasticNet score: {:.4f} ({:.4f})\\n\".format(score.mean(), score.std()))"
      ],
      "execution_count": 112,
      "outputs": [
        {
          "output_type": "stream",
          "text": [
            "ElasticNet score: 0.5777 (0.0636)\n",
            "\n"
          ],
          "name": "stdout"
        }
      ]
    },
    {
      "cell_type": "code",
      "metadata": {
        "id": "uZHhBW_usDve",
        "outputId": "e073e627-bc82-44f9-fb66-0ebd415ac5d1",
        "colab": {
          "base_uri": "https://localhost:8080/"
        }
      },
      "source": [
        "score = rmsle_cv(KRR)\n",
        "print(\"Kernel Ridge score: {:.4f} ({:.4f})\\n\".format(score.mean(), score.std()))"
      ],
      "execution_count": 113,
      "outputs": [
        {
          "output_type": "stream",
          "text": [
            "Kernel Ridge score: 0.5509 (0.0653)\n",
            "\n"
          ],
          "name": "stdout"
        }
      ]
    },
    {
      "cell_type": "code",
      "metadata": {
        "id": "lVw2YLpEsEjK",
        "outputId": "78c72371-8460-4635-a9af-909c478d98d6",
        "colab": {
          "base_uri": "https://localhost:8080/"
        }
      },
      "source": [
        "score = rmsle_cv(GBoost)\n",
        "print(\"Gradient Boosting score: {:.4f} ({:.4f})\\n\".format(score.mean(), score.std()))"
      ],
      "execution_count": 114,
      "outputs": [
        {
          "output_type": "stream",
          "text": [
            "Gradient Boosting score: 0.4974 (0.0761)\n",
            "\n"
          ],
          "name": "stdout"
        }
      ]
    },
    {
      "cell_type": "code",
      "metadata": {
        "id": "ql-sr_8hsEoK",
        "outputId": "44cb21a7-c0b1-48d9-b4d9-f55e9d67a469",
        "colab": {
          "base_uri": "https://localhost:8080/"
        }
      },
      "source": [
        "score = rmsle_cv(model_xgb)\n",
        "print(\"Xgboost score: {:.4f} ({:.4f})\\n\".format(score.mean(), score.std()))"
      ],
      "execution_count": 115,
      "outputs": [
        {
          "output_type": "stream",
          "text": [
            "Xgboost score: 0.5147 (0.0702)\n",
            "\n"
          ],
          "name": "stdout"
        }
      ]
    },
    {
      "cell_type": "code",
      "metadata": {
        "id": "TVZ40o9rsElu",
        "outputId": "56403865-0ce8-4e55-e6d9-1adfa570605f",
        "colab": {
          "base_uri": "https://localhost:8080/"
        }
      },
      "source": [
        "score = rmsle_cv(model_lgb)\n",
        "print(\"LGBM score: {:.4f} ({:.4f})\\n\" .format(score.mean(), score.std()))"
      ],
      "execution_count": 116,
      "outputs": [
        {
          "output_type": "stream",
          "text": [
            "LGBM score: 0.5219 (0.0718)\n",
            "\n"
          ],
          "name": "stdout"
        }
      ]
    },
    {
      "cell_type": "markdown",
      "metadata": {
        "id": "XTQoNC6JsMcF"
      },
      "source": [
        "## Stacking"
      ]
    },
    {
      "cell_type": "code",
      "metadata": {
        "id": "tc0fEMz4sD6B"
      },
      "source": [
        "class AveragingModels(BaseEstimator, RegressorMixin, TransformerMixin):\n",
        "    def __init__(self, models):\n",
        "        self.models = models\n",
        "        \n",
        "    # we define clones of the original models to fit the data in\n",
        "    def fit(self, X, y):\n",
        "        self.models_ = [clone(x) for x in self.models]\n",
        "        \n",
        "        # Train cloned base models\n",
        "        for model in self.models_:\n",
        "            model.fit(X, y)\n",
        "\n",
        "        return self\n",
        "    \n",
        "    #Now we do the predictions for cloned models and average them\n",
        "    def predict(self, X):\n",
        "        predictions = np.column_stack([\n",
        "            model.predict(X) for model in self.models_\n",
        "        ])\n",
        "        return np.mean(predictions, axis=1)   "
      ],
      "execution_count": 117,
      "outputs": []
    },
    {
      "cell_type": "code",
      "metadata": {
        "id": "8kH6apmcsEL_",
        "outputId": "1593e730-676d-43ea-9732-407f2a248ca1",
        "colab": {
          "base_uri": "https://localhost:8080/"
        }
      },
      "source": [
        "averaged_models = AveragingModels(models = (ENet, GBoost, KRR, lasso))\n",
        "\n",
        "score = rmsle_cv(averaged_models)\n",
        "print(\" Averaged base models score: {:.4f} ({:.4f})\\n\".format(score.mean(), score.std()))"
      ],
      "execution_count": 118,
      "outputs": [
        {
          "output_type": "stream",
          "text": [
            " Averaged base models score: 0.5337 (0.0693)\n",
            "\n"
          ],
          "name": "stdout"
        }
      ]
    },
    {
      "cell_type": "markdown",
      "metadata": {
        "id": "tcV4i6NiuoVI"
      },
      "source": [
        "## More complicated stacking"
      ]
    },
    {
      "cell_type": "code",
      "metadata": {
        "id": "oTZiUw17siW7"
      },
      "source": [
        "class StackingAveragedModels(BaseEstimator, RegressorMixin, TransformerMixin):\n",
        "    def __init__(self, base_models, meta_model, n_folds=5):\n",
        "        self.base_models = base_models\n",
        "        self.meta_model = meta_model\n",
        "        self.n_folds = n_folds\n",
        "   \n",
        "    # We again fit the data on clones of the original models\n",
        "    def fit(self, X, y):\n",
        "        self.base_models_ = [list() for x in self.base_models]\n",
        "        self.meta_model_ = clone(self.meta_model)\n",
        "        kfold = KFold(n_splits=self.n_folds, shuffle=True, random_state=156)\n",
        "        \n",
        "        # Train cloned base models then create out-of-fold predictions\n",
        "        # that are needed to train the cloned meta-model\n",
        "        out_of_fold_predictions = np.zeros((X.shape[0], len(self.base_models)))\n",
        "        for i, model in enumerate(self.base_models):\n",
        "            for train_index, holdout_index in kfold.split(X, y):\n",
        "                instance = clone(model)\n",
        "                self.base_models_[i].append(instance)\n",
        "                instance.fit(X[train_index], y[train_index])\n",
        "                y_pred = instance.predict(X[holdout_index])\n",
        "                out_of_fold_predictions[holdout_index, i] = y_pred\n",
        "                \n",
        "        # Now train the cloned  meta-model using the out-of-fold predictions as new feature\n",
        "        self.meta_model_.fit(out_of_fold_predictions, y)\n",
        "        return self\n",
        "   \n",
        "    #Do the predictions of all base models on the test data and use the averaged predictions as \n",
        "    #meta-features for the final prediction which is done by the meta-model\n",
        "    def predict(self, X):\n",
        "        meta_features = np.column_stack([\n",
        "            np.column_stack([model.predict(X) for model in base_models]).mean(axis=1)\n",
        "            for base_models in self.base_models_ ])\n",
        "        return self.meta_model_.predict(meta_features)"
      ],
      "execution_count": 119,
      "outputs": []
    },
    {
      "cell_type": "code",
      "metadata": {
        "id": "rdEJijUqvPqn",
        "outputId": "1d0e5d67-c3d0-4598-e9fb-38720877ff0c",
        "colab": {
          "base_uri": "https://localhost:8080/"
        }
      },
      "source": [
        "stacked_averaged_models = StackingAveragedModels(base_models = (ENet, GBoost, KRR),\n",
        "                                                 meta_model = lasso)\n",
        "\n",
        "score = rmsle_cv(stacked_averaged_models)\n",
        "print(\"Stacking Averaged models score: {:.4f} ({:.4f})\".format(score.mean(), score.std()))"
      ],
      "execution_count": 120,
      "outputs": [
        {
          "output_type": "stream",
          "text": [
            "Stacking Averaged models score: 0.4965 (0.0749)\n"
          ],
          "name": "stdout"
        }
      ]
    },
    {
      "cell_type": "markdown",
      "metadata": {
        "id": "CtANClQizqD3"
      },
      "source": [
        "## Ensembling StackedRegressor, XGBoost and LightGBM"
      ]
    },
    {
      "cell_type": "code",
      "metadata": {
        "id": "O7i2vzxLzpyA"
      },
      "source": [
        "def rmsle(y, y_pred):\n",
        "    return np.sqrt(mean_squared_error(y, y_pred))"
      ],
      "execution_count": 121,
      "outputs": []
    },
    {
      "cell_type": "code",
      "metadata": {
        "id": "eyFSEGblzvg3",
        "outputId": "a24e39db-a20f-424b-cad3-112a00202411",
        "colab": {
          "base_uri": "https://localhost:8080/"
        }
      },
      "source": [
        "stacked_averaged_models.fit(X_train.values, Y_train.values)\n",
        "stacked_train_pred = stacked_averaged_models.predict(X_train.values)\n",
        "stacked_pred = np.expm1(stacked_averaged_models.predict(X_test.values))\n",
        "print(rmsle(Y_train.values, stacked_train_pred))"
      ],
      "execution_count": 122,
      "outputs": [
        {
          "output_type": "stream",
          "text": [
            "0.47364204079848526\n"
          ],
          "name": "stdout"
        }
      ]
    },
    {
      "cell_type": "code",
      "metadata": {
        "id": "hd357VcQzvjf",
        "outputId": "56092146-e91f-4a72-86a5-c26e11761a29",
        "colab": {
          "base_uri": "https://localhost:8080/"
        }
      },
      "source": [
        "model_xgb.fit(X_train.values, Y_train.values)\n",
        "xgb_train_pred = model_xgb.predict(X_train.values)\n",
        "xgb_pred = np.expm1(model_xgb.predict(X_test.values))\n",
        "print(rmsle(Y_train.values, xgb_train_pred))"
      ],
      "execution_count": 123,
      "outputs": [
        {
          "output_type": "stream",
          "text": [
            "0.46034980969002154\n"
          ],
          "name": "stdout"
        }
      ]
    },
    {
      "cell_type": "code",
      "metadata": {
        "id": "y48o93EBzvcw",
        "outputId": "c5760357-e119-485c-d5e8-c62fa7061067",
        "colab": {
          "base_uri": "https://localhost:8080/"
        }
      },
      "source": [
        "model_lgb.fit(X_train.values, Y_train.values)\n",
        "lgb_train_pred = model_lgb.predict(X_train.values)\n",
        "lgb_pred = np.expm1(model_lgb.predict(X_test.values))\n",
        "print(rmsle(Y_train.values, lgb_train_pred))"
      ],
      "execution_count": 124,
      "outputs": [
        {
          "output_type": "stream",
          "text": [
            "0.5146952748732592\n"
          ],
          "name": "stdout"
        }
      ]
    },
    {
      "cell_type": "code",
      "metadata": {
        "id": "QFpzO7BE0j__",
        "outputId": "f3fab7ba-43e6-4e06-f72a-78725bed4464",
        "colab": {
          "base_uri": "https://localhost:8080/"
        }
      },
      "source": [
        "'''RMSE on the entire Train data when averaging'''\n",
        "\n",
        "print('RMSLE score on train data:')\n",
        "print(rmsle(Y_train.values, stacked_train_pred*0.70 + xgb_train_pred*0.15 + lgb_train_pred*0.15 ))"
      ],
      "execution_count": 125,
      "outputs": [
        {
          "output_type": "stream",
          "text": [
            "RMSLE score on train data:\n",
            "0.4732661566977836\n"
          ],
          "name": "stdout"
        }
      ]
    },
    {
      "cell_type": "markdown",
      "metadata": {
        "id": "2Qfpl9Va6a9S"
      },
      "source": [
        "# Prediction"
      ]
    },
    {
      "cell_type": "code",
      "metadata": {
        "id": "d5_osT_66a9T"
      },
      "source": [
        "ensemble = stacked_pred*0.70 + xgb_pred*0.15 + lgb_pred*0.15"
      ],
      "execution_count": 126,
      "outputs": []
    },
    {
      "cell_type": "code",
      "metadata": {
        "id": "7_zDRCa86a9V"
      },
      "source": [
        "submission = pd.DataFrame({\n",
        "    \"no\": test_no,\n",
        "    \"가격(만원)\": ensemble\n",
        "})\n",
        "submission.to_csv('/content/drive/My Drive/dg_univ_2020_ml/output/v1.2.3.3.csv', index=False)"
      ],
      "execution_count": 128,
      "outputs": []
    },
    {
      "cell_type": "code",
      "metadata": {
        "id": "lHVHce5v6a9X"
      },
      "source": [
        ""
      ],
      "execution_count": null,
      "outputs": []
    },
    {
      "cell_type": "code",
      "metadata": {
        "id": "z0NgPwLHS66O"
      },
      "source": [
        ""
      ],
      "execution_count": null,
      "outputs": []
    }
  ]
}