{
  "nbformat": 4,
  "nbformat_minor": 0,
  "metadata": {
    "kernelspec": {
      "name": "python3",
      "display_name": "Python 3"
    },
    "colab": {
      "name": "v1.2.3",
      "provenance": [],
      "collapsed_sections": [
        "hZU6Vech6a7F",
        "6Ibh0Cf66a7L",
        "i2fISCc56a7r",
        "N7ecncKI6a7x",
        "hwJ5DWeW6a9I"
      ],
      "machine_shape": "hm",
      "include_colab_link": true
    },
    "accelerator": "GPU"
  },
  "cells": [
    {
      "cell_type": "markdown",
      "metadata": {
        "id": "view-in-github",
        "colab_type": "text"
      },
      "source": [
        "<a href=\"https://colab.research.google.com/github/Dogdriip/dg-univ-2020-ml/blob/main/v1_2_3.ipynb\" target=\"_parent\"><img src=\"https://colab.research.google.com/assets/colab-badge.svg\" alt=\"Open In Colab\"/></a>"
      ]
    },
    {
      "cell_type": "markdown",
      "metadata": {
        "id": "cCMx6C-76a6p"
      },
      "source": [
        "# v1.2.3\n",
        "\n",
        "- 결측치를 더 잘 채울 것이다\n",
        "- MissForest를 쓸 건데\n",
        "- 일단 category형 변수로 냅두고 더미 변수를 나중에 만든다\n",
        "\n",
        "TODO\n",
        "\n",
        "- 미션 드랍"
      ]
    },
    {
      "cell_type": "code",
      "metadata": {
        "id": "TbltV90c6jyg",
        "outputId": "d96926a8-85a0-4c0d-ea66-dfe9f2243a3a",
        "colab": {
          "base_uri": "https://localhost:8080/"
        }
      },
      "source": [
        "from google.colab import files\n",
        "from google.colab import drive\n",
        "drive.mount('/content/drive/')"
      ],
      "execution_count": 648,
      "outputs": [
        {
          "output_type": "stream",
          "text": [
            "Drive already mounted at /content/drive/; to attempt to forcibly remount, call drive.mount(\"/content/drive/\", force_remount=True).\n"
          ],
          "name": "stdout"
        }
      ]
    },
    {
      "cell_type": "code",
      "metadata": {
        "id": "z5Pa0R7g6a6q",
        "outputId": "6689fdfc-2a0a-4490-8bc7-c546cc2cb7bd",
        "colab": {
          "base_uri": "https://localhost:8080/"
        }
      },
      "source": [
        "import pandas as pd\n",
        "import numpy as np\n",
        "\n",
        "import matplotlib.pyplot as plt\n",
        "import seaborn as sns\n",
        "sns.set_style('whitegrid')\n",
        "%matplotlib inline \n",
        "import warnings\n",
        "warnings.filterwarnings(action='ignore')\n",
        "\n",
        "!pip install missingpy\n",
        "from missingpy import MissForest"
      ],
      "execution_count": 649,
      "outputs": [
        {
          "output_type": "stream",
          "text": [
            "Requirement already satisfied: missingpy in /usr/local/lib/python3.6/dist-packages (0.2.0)\n"
          ],
          "name": "stdout"
        }
      ]
    },
    {
      "cell_type": "code",
      "metadata": {
        "id": "1FW0h1qO6a6t"
      },
      "source": [
        "train = pd.read_csv('/content/drive/My Drive/dg_univ_2020_ml/train.csv')\n",
        "test = pd.read_csv('/content/drive/My Drive/dg_univ_2020_ml/test.csv')"
      ],
      "execution_count": 650,
      "outputs": []
    },
    {
      "cell_type": "code",
      "metadata": {
        "id": "bOY5R0C06a6v",
        "outputId": "09fcaca8-3f86-4c7d-c1a1-a4f72091036f",
        "colab": {
          "base_uri": "https://localhost:8080/"
        }
      },
      "source": [
        "print(train.shape)\n",
        "print(test.shape)"
      ],
      "execution_count": 651,
      "outputs": [
        {
          "output_type": "stream",
          "text": [
            "(11769, 15)\n",
            "(5789, 13)\n"
          ],
          "name": "stdout"
        }
      ]
    },
    {
      "cell_type": "code",
      "metadata": {
        "id": "mBkoB9E56a6y",
        "outputId": "c294cd22-8e52-433f-9d19-d1027a9c5880",
        "colab": {
          "base_uri": "https://localhost:8080/",
          "height": 202
        }
      },
      "source": [
        "train.head()"
      ],
      "execution_count": 652,
      "outputs": [
        {
          "output_type": "execute_result",
          "data": {
            "text/html": [
              "<div>\n",
              "<style scoped>\n",
              "    .dataframe tbody tr th:only-of-type {\n",
              "        vertical-align: middle;\n",
              "    }\n",
              "\n",
              "    .dataframe tbody tr th {\n",
              "        vertical-align: top;\n",
              "    }\n",
              "\n",
              "    .dataframe thead th {\n",
              "        text-align: right;\n",
              "    }\n",
              "</style>\n",
              "<table border=\"1\" class=\"dataframe\">\n",
              "  <thead>\n",
              "    <tr style=\"text-align: right;\">\n",
              "      <th></th>\n",
              "      <th>no</th>\n",
              "      <th>모델명</th>\n",
              "      <th>연월</th>\n",
              "      <th>연식</th>\n",
              "      <th>연료</th>\n",
              "      <th>주행거리</th>\n",
              "      <th>인승</th>\n",
              "      <th>최대출력(마력)</th>\n",
              "      <th>기통</th>\n",
              "      <th>최대토크(kgm)</th>\n",
              "      <th>구동방식</th>\n",
              "      <th>자동수동</th>\n",
              "      <th>국산/수입</th>\n",
              "      <th>신차가(만원)</th>\n",
              "      <th>가격(만원)</th>\n",
              "    </tr>\n",
              "  </thead>\n",
              "  <tbody>\n",
              "    <tr>\n",
              "      <th>0</th>\n",
              "      <td>0</td>\n",
              "      <td>기아 더 뉴 K7 2.4 GDI 프레스티지 스페셜</td>\n",
              "      <td>12/12(13년형)</td>\n",
              "      <td>2013.0</td>\n",
              "      <td>가솔린</td>\n",
              "      <td>4만km</td>\n",
              "      <td>NaN</td>\n",
              "      <td>201.0</td>\n",
              "      <td>4.0</td>\n",
              "      <td>25.5</td>\n",
              "      <td>FF</td>\n",
              "      <td>NaN</td>\n",
              "      <td>국산</td>\n",
              "      <td>3141.0</td>\n",
              "      <td>1870.0</td>\n",
              "    </tr>\n",
              "    <tr>\n",
              "      <th>1</th>\n",
              "      <td>1</td>\n",
              "      <td>현대 YF쏘나타 2.0 Y20 LPi 프리미어</td>\n",
              "      <td>10/03</td>\n",
              "      <td>2010.0</td>\n",
              "      <td>LPG</td>\n",
              "      <td>9만km</td>\n",
              "      <td>NaN</td>\n",
              "      <td>157.0</td>\n",
              "      <td>NaN</td>\n",
              "      <td>20.0</td>\n",
              "      <td>FF</td>\n",
              "      <td>NaN</td>\n",
              "      <td>국산</td>\n",
              "      <td>NaN</td>\n",
              "      <td>700.0</td>\n",
              "    </tr>\n",
              "    <tr>\n",
              "      <th>2</th>\n",
              "      <td>2</td>\n",
              "      <td>현대 그랜져HG 220 디젤 프리미엄</td>\n",
              "      <td>14/09(15년형)</td>\n",
              "      <td>2015.0</td>\n",
              "      <td>디젤</td>\n",
              "      <td>3만km</td>\n",
              "      <td>NaN</td>\n",
              "      <td>202.0</td>\n",
              "      <td>4.0</td>\n",
              "      <td>45.0</td>\n",
              "      <td>FF</td>\n",
              "      <td>NaN</td>\n",
              "      <td>국산</td>\n",
              "      <td>3389.0</td>\n",
              "      <td>2990.0</td>\n",
              "    </tr>\n",
              "    <tr>\n",
              "      <th>3</th>\n",
              "      <td>3</td>\n",
              "      <td>쌍용 뉴카이런 2.0 LV5 2WD 고급형</td>\n",
              "      <td>07/06(08년형)</td>\n",
              "      <td>2008.0</td>\n",
              "      <td>디젤</td>\n",
              "      <td>16만km</td>\n",
              "      <td>NaN</td>\n",
              "      <td>151.0</td>\n",
              "      <td>4.0</td>\n",
              "      <td>33.8</td>\n",
              "      <td>FR</td>\n",
              "      <td>NaN</td>\n",
              "      <td>국산</td>\n",
              "      <td>2499.0</td>\n",
              "      <td>420.0</td>\n",
              "    </tr>\n",
              "    <tr>\n",
              "      <th>4</th>\n",
              "      <td>4</td>\n",
              "      <td>현대 뉴스타렉스 점보 밴 TCI 3인승 GX 윈도우밴 일반형</td>\n",
              "      <td>04/03</td>\n",
              "      <td>2004.0</td>\n",
              "      <td>디젤</td>\n",
              "      <td>16만km</td>\n",
              "      <td>3.0</td>\n",
              "      <td>103.0</td>\n",
              "      <td>NaN</td>\n",
              "      <td>24.0</td>\n",
              "      <td>FR</td>\n",
              "      <td>수동</td>\n",
              "      <td>국산</td>\n",
              "      <td>1445.0</td>\n",
              "      <td>450.0</td>\n",
              "    </tr>\n",
              "  </tbody>\n",
              "</table>\n",
              "</div>"
            ],
            "text/plain": [
              "   no                                모델명           연월  ...  국산/수입 신차가(만원)  가격(만원)\n",
              "0   0        기아 더 뉴 K7 2.4 GDI 프레스티지 스페셜  12/12(13년형)  ...     국산  3141.0  1870.0\n",
              "1   1          현대 YF쏘나타 2.0 Y20 LPi 프리미어        10/03  ...     국산     NaN   700.0\n",
              "2   2               현대 그랜져HG 220 디젤 프리미엄  14/09(15년형)  ...     국산  3389.0  2990.0\n",
              "3   3            쌍용 뉴카이런 2.0 LV5 2WD 고급형  07/06(08년형)  ...     국산  2499.0   420.0\n",
              "4   4  현대 뉴스타렉스 점보 밴 TCI 3인승 GX 윈도우밴 일반형        04/03  ...     국산  1445.0   450.0\n",
              "\n",
              "[5 rows x 15 columns]"
            ]
          },
          "metadata": {
            "tags": []
          },
          "execution_count": 652
        }
      ]
    },
    {
      "cell_type": "code",
      "metadata": {
        "id": "yotU_9Vq6a61",
        "outputId": "3f14e8c4-4be0-4fb2-a238-f058251c77fe",
        "colab": {
          "base_uri": "https://localhost:8080/"
        }
      },
      "source": [
        "train.info()"
      ],
      "execution_count": 653,
      "outputs": [
        {
          "output_type": "stream",
          "text": [
            "<class 'pandas.core.frame.DataFrame'>\n",
            "RangeIndex: 11769 entries, 0 to 11768\n",
            "Data columns (total 15 columns):\n",
            " #   Column     Non-Null Count  Dtype  \n",
            "---  ------     --------------  -----  \n",
            " 0   no         11769 non-null  int64  \n",
            " 1   모델명        11769 non-null  object \n",
            " 2   연월         11769 non-null  object \n",
            " 3   연식         11769 non-null  float64\n",
            " 4   연료         11769 non-null  object \n",
            " 5   주행거리       11769 non-null  object \n",
            " 6   인승         765 non-null    float64\n",
            " 7   최대출력(마력)   10644 non-null  float64\n",
            " 8   기통         8698 non-null   float64\n",
            " 9   최대토크(kgm)  10545 non-null  float64\n",
            " 10  구동방식       10808 non-null  object \n",
            " 11  자동수동       1313 non-null   object \n",
            " 12  국산/수입      11769 non-null  object \n",
            " 13  신차가(만원)    9544 non-null   float64\n",
            " 14  가격(만원)     11769 non-null  float64\n",
            "dtypes: float64(7), int64(1), object(7)\n",
            "memory usage: 1.3+ MB\n"
          ],
          "name": "stdout"
        }
      ]
    },
    {
      "cell_type": "code",
      "metadata": {
        "id": "RfehfOEC6a63",
        "outputId": "34b544fe-49be-4b80-8fb2-bd1faa736ca2",
        "colab": {
          "base_uri": "https://localhost:8080/"
        }
      },
      "source": [
        "test.info()"
      ],
      "execution_count": 654,
      "outputs": [
        {
          "output_type": "stream",
          "text": [
            "<class 'pandas.core.frame.DataFrame'>\n",
            "RangeIndex: 5789 entries, 0 to 5788\n",
            "Data columns (total 13 columns):\n",
            " #   Column     Non-Null Count  Dtype  \n",
            "---  ------     --------------  -----  \n",
            " 0   no         5789 non-null   int64  \n",
            " 1   모델명        5789 non-null   object \n",
            " 2   연월         5789 non-null   object \n",
            " 3   연식         5789 non-null   float64\n",
            " 4   연료         5789 non-null   object \n",
            " 5   주행거리       5789 non-null   object \n",
            " 6   인승         389 non-null    float64\n",
            " 7   최대출력(마력)   5237 non-null   float64\n",
            " 8   기통         4275 non-null   float64\n",
            " 9   최대토크(kgm)  5183 non-null   float64\n",
            " 10  구동방식       5312 non-null   object \n",
            " 11  자동수동       665 non-null    object \n",
            " 12  국산/수입      5789 non-null   object \n",
            "dtypes: float64(5), int64(1), object(7)\n",
            "memory usage: 588.1+ KB\n"
          ],
          "name": "stdout"
        }
      ]
    },
    {
      "cell_type": "markdown",
      "metadata": {
        "id": "BczFAUo-6a65"
      },
      "source": [
        "# Column name 영어로 모두 바꾸기"
      ]
    },
    {
      "cell_type": "code",
      "metadata": {
        "id": "tVtw7Vzr6a65"
      },
      "source": [
        "train.columns = ['no', 'modelname', 'ym', 'yeartype', 'fuel', 'dist', 'people', 'power', 'cylinder', 'torque', 'type', 'mission', 'country', 'newprice', 'price']\n",
        "test.columns = ['no', 'modelname', 'ym', 'yeartype', 'fuel', 'dist', 'people', 'power', 'cylinder', 'torque', 'type', 'mission', 'country']"
      ],
      "execution_count": 655,
      "outputs": []
    },
    {
      "cell_type": "code",
      "metadata": {
        "id": "eZg5qaNd6a68",
        "outputId": "f1b1d054-99e6-4d90-a3eb-5fa85bdde6fb",
        "colab": {
          "base_uri": "https://localhost:8080/"
        }
      },
      "source": [
        "train.info()"
      ],
      "execution_count": 656,
      "outputs": [
        {
          "output_type": "stream",
          "text": [
            "<class 'pandas.core.frame.DataFrame'>\n",
            "RangeIndex: 11769 entries, 0 to 11768\n",
            "Data columns (total 15 columns):\n",
            " #   Column     Non-Null Count  Dtype  \n",
            "---  ------     --------------  -----  \n",
            " 0   no         11769 non-null  int64  \n",
            " 1   modelname  11769 non-null  object \n",
            " 2   ym         11769 non-null  object \n",
            " 3   yeartype   11769 non-null  float64\n",
            " 4   fuel       11769 non-null  object \n",
            " 5   dist       11769 non-null  object \n",
            " 6   people     765 non-null    float64\n",
            " 7   power      10644 non-null  float64\n",
            " 8   cylinder   8698 non-null   float64\n",
            " 9   torque     10545 non-null  float64\n",
            " 10  type       10808 non-null  object \n",
            " 11  mission    1313 non-null   object \n",
            " 12  country    11769 non-null  object \n",
            " 13  newprice   9544 non-null   float64\n",
            " 14  price      11769 non-null  float64\n",
            "dtypes: float64(7), int64(1), object(7)\n",
            "memory usage: 1.3+ MB\n"
          ],
          "name": "stdout"
        }
      ]
    },
    {
      "cell_type": "code",
      "metadata": {
        "id": "aG3tClND6a6-",
        "outputId": "911449df-36d7-43a5-a1ba-85b9638f200f",
        "colab": {
          "base_uri": "https://localhost:8080/"
        }
      },
      "source": [
        "test.info()"
      ],
      "execution_count": 657,
      "outputs": [
        {
          "output_type": "stream",
          "text": [
            "<class 'pandas.core.frame.DataFrame'>\n",
            "RangeIndex: 5789 entries, 0 to 5788\n",
            "Data columns (total 13 columns):\n",
            " #   Column     Non-Null Count  Dtype  \n",
            "---  ------     --------------  -----  \n",
            " 0   no         5789 non-null   int64  \n",
            " 1   modelname  5789 non-null   object \n",
            " 2   ym         5789 non-null   object \n",
            " 3   yeartype   5789 non-null   float64\n",
            " 4   fuel       5789 non-null   object \n",
            " 5   dist       5789 non-null   object \n",
            " 6   people     389 non-null    float64\n",
            " 7   power      5237 non-null   float64\n",
            " 8   cylinder   4275 non-null   float64\n",
            " 9   torque     5183 non-null   float64\n",
            " 10  type       5312 non-null   object \n",
            " 11  mission    665 non-null    object \n",
            " 12  country    5789 non-null   object \n",
            "dtypes: float64(5), int64(1), object(7)\n",
            "memory usage: 588.1+ KB\n"
          ],
          "name": "stdout"
        }
      ]
    },
    {
      "cell_type": "code",
      "metadata": {
        "id": "4h1EMIZV6a7A"
      },
      "source": [
        "# sns.heatmap(train.isnull(), cbar=False)"
      ],
      "execution_count": 658,
      "outputs": []
    },
    {
      "cell_type": "code",
      "metadata": {
        "id": "weBwrSWB6a7B"
      },
      "source": [
        "# sns.heatmap(test.isnull(), cbar=False)"
      ],
      "execution_count": 659,
      "outputs": []
    },
    {
      "cell_type": "code",
      "metadata": {
        "id": "f3fBZeX96a7D"
      },
      "source": [
        "train_no = train['no']\n",
        "test_no = test['no']\n",
        "train = train.drop(['no'], axis=1)\n",
        "test = test.drop(['no'], axis=1)"
      ],
      "execution_count": 660,
      "outputs": []
    },
    {
      "cell_type": "markdown",
      "metadata": {
        "id": "hZU6Vech6a7F"
      },
      "source": [
        "# 이제 하나씩 처리하자\n",
        "```\n",
        "0   no         11769 non-null  int64    \n",
        "1   모델명        11769 non-null  object   \n",
        "2   연월         11769 non-null  object   \n",
        "3   연식         11769 non-null  float64  \n",
        "4   연료         11769 non-null  object   \n",
        "5   주행거리       11769 non-null  object   \n",
        "6   인승         765 non-null    float64  \n",
        "7   최대출력(마력)   10644 non-null  float64  \n",
        "8   기통         8698 non-null   float64  \n",
        "9   최대토크(kgm)  10545 non-null  float64  \n",
        "10  구동방식       10808 non-null  object   \n",
        "11  자동수동       1313 non-null   object   \n",
        "12  국산/수입      11769 non-null  object   \n",
        "13  신차가(만원)    9544 non-null   float64  \n",
        "14  가격(만원)     11769 non-null  float64  \n",
        "```\n",
        "\n",
        "```\n",
        "0   no         11769 non-null  int64  \n",
        "1   modelname  11769 non-null  object \n",
        "2   ym         11769 non-null  object \n",
        "3   yeartype   11769 non-null  float64\n",
        "4   fuel       11769 non-null  object \n",
        "5   dist       11769 non-null  object \n",
        "6   people     765 non-null    float64\n",
        "7   power      10644 non-null  float64\n",
        "8   cylinder   8698 non-null   float64\n",
        "9   torque     10545 non-null  float64\n",
        "10  type       10808 non-null  object \n",
        "11  mission    1313 non-null   object \n",
        "12  country    11769 non-null  object \n",
        "13  newprice   9544 non-null   float64\n",
        "14  price      11769 non-null  float64\n",
        "```"
      ]
    },
    {
      "cell_type": "markdown",
      "metadata": {
        "id": "qNG5jQEb6a7G"
      },
      "source": [
        "# 1 모델명 modelname 11769 non-null object\n",
        "\n",
        "- 역시 이번에도 모델명은 날리자"
      ]
    },
    {
      "cell_type": "code",
      "metadata": {
        "id": "tpX-Lq_w6a7G",
        "outputId": "7cca3cf9-615a-47f1-f2bc-3922de801781",
        "colab": {
          "base_uri": "https://localhost:8080/"
        }
      },
      "source": [
        "train = train.drop(['modelname'], axis=1)\n",
        "test = test.drop(['modelname'], axis=1)\n",
        "\n",
        "print(train.shape)\n",
        "print(test.shape)"
      ],
      "execution_count": 661,
      "outputs": [
        {
          "output_type": "stream",
          "text": [
            "(11769, 13)\n",
            "(5789, 11)\n"
          ],
          "name": "stdout"
        }
      ]
    },
    {
      "cell_type": "markdown",
      "metadata": {
        "id": "f5Guq0BE6a7I"
      },
      "source": [
        "# 2 연월 ym 11769 non-null object\n",
        "\n",
        "- 생각해보면, 그리고 데이터 명세 다시 보니까,\n",
        "- 어차피 연식(yeartype)에 있는 정보다\n",
        "- 이거 날리자"
      ]
    },
    {
      "cell_type": "code",
      "metadata": {
        "id": "V48VspfY6a7I",
        "outputId": "069faf20-5145-46bf-e0e0-be8e814fff77",
        "colab": {
          "base_uri": "https://localhost:8080/"
        }
      },
      "source": [
        "train = train.drop(['ym'], axis=1)\n",
        "test = test.drop(['ym'], axis=1)\n",
        "\n",
        "print(train.shape)\n",
        "print(test.shape)"
      ],
      "execution_count": 662,
      "outputs": [
        {
          "output_type": "stream",
          "text": [
            "(11769, 12)\n",
            "(5789, 10)\n"
          ],
          "name": "stdout"
        }
      ]
    },
    {
      "cell_type": "markdown",
      "metadata": {
        "id": "6Ibh0Cf66a7L"
      },
      "source": [
        "# 3 연식 yeartype 11769 non-null float64\n",
        "\n",
        "건들지 말자"
      ]
    },
    {
      "cell_type": "markdown",
      "metadata": {
        "id": "vYq-hRQ16a7L"
      },
      "source": [
        "# 4 연료 fuel 11769 non-null object\n",
        "\n",
        "- 범주형\n",
        "- 이거 생각 좀 해보자\n",
        "- 그냥 큰 범주로 산입할까?"
      ]
    },
    {
      "cell_type": "code",
      "metadata": {
        "id": "RlDoCoc36a7L"
      },
      "source": [
        "train_fuel = train['fuel']\n",
        "test_fuel = test['fuel']"
      ],
      "execution_count": 663,
      "outputs": []
    },
    {
      "cell_type": "code",
      "metadata": {
        "id": "ZgGRJoEh6a7O",
        "outputId": "9b49bec2-de1a-4d8a-c1ea-58e61312bd9b",
        "colab": {
          "base_uri": "https://localhost:8080/"
        }
      },
      "source": [
        "print(train_fuel.value_counts())\n",
        "print()\n",
        "print(test_fuel.value_counts())"
      ],
      "execution_count": 664,
      "outputs": [
        {
          "output_type": "stream",
          "text": [
            "가솔린          6671\n",
            "디젤           3967\n",
            "LPG           934\n",
            "가솔린+전기         79\n",
            "가솔린/LPG겸용      41\n",
            "기타             32\n",
            "전기             24\n",
            "LPG+전기         14\n",
            "가솔린/CNG겸용       4\n",
            "CNG             2\n",
            "수소              1\n",
            "Name: fuel, dtype: int64\n",
            "\n",
            "가솔린          3280\n",
            "디젤           1932\n",
            "LPG           469\n",
            "가솔린+전기         34\n",
            "가솔린/LPG겸용      33\n",
            "전기             19\n",
            "기타             11\n",
            "LPG+전기          8\n",
            "CNG             2\n",
            "가솔린/CNG겸용       1\n",
            "Name: fuel, dtype: int64\n"
          ],
          "name": "stdout"
        }
      ]
    },
    {
      "cell_type": "markdown",
      "metadata": {
        "id": "WGw2dXg66a7P"
      },
      "source": [
        "## 산입\n",
        "\n",
        "- 일단 그냥 수소만 기타로 갖다박을까?\n",
        "\n"
      ]
    },
    {
      "cell_type": "code",
      "metadata": {
        "id": "69bcTkQm6a7Q"
      },
      "source": [
        "train_fuel = train_fuel.replace('수소', '기타')"
      ],
      "execution_count": 665,
      "outputs": []
    },
    {
      "cell_type": "code",
      "metadata": {
        "id": "YVuHRI7F6a7S",
        "outputId": "0a802ade-4ead-4d3e-bca6-6b99f205c467",
        "colab": {
          "base_uri": "https://localhost:8080/"
        }
      },
      "source": [
        "train_fuel.value_counts()"
      ],
      "execution_count": 666,
      "outputs": [
        {
          "output_type": "execute_result",
          "data": {
            "text/plain": [
              "가솔린          6671\n",
              "디젤           3967\n",
              "LPG           934\n",
              "가솔린+전기         79\n",
              "가솔린/LPG겸용      41\n",
              "기타             33\n",
              "전기             24\n",
              "LPG+전기         14\n",
              "가솔린/CNG겸용       4\n",
              "CNG             2\n",
              "Name: fuel, dtype: int64"
            ]
          },
          "metadata": {
            "tags": []
          },
          "execution_count": 666
        }
      ]
    },
    {
      "cell_type": "code",
      "metadata": {
        "id": "sWVoO1yi6a7V"
      },
      "source": [
        "## train_fuel_dummies = pd.get_dummies(train_fuel)\n",
        "## test_fuel_dummies = pd.get_dummies(test_fuel)\n",
        "## \n",
        "## train_fuel_dummies = train_fuel_dummies.add_prefix('fuel_')\n",
        "## test_fuel_dummies = test_fuel_dummies.add_prefix('fuel_')\n",
        "## \n",
        "## train = train.join(train_fuel_dummies)\n",
        "## test = test.join(test_fuel_dummies)\n",
        "\n",
        "train = train.drop(['fuel'], axis=1)\n",
        "test = test.drop(['fuel'], axis=1)\n",
        "\n",
        "train = train.join(train_fuel)\n",
        "test = test.join(test_fuel)"
      ],
      "execution_count": 667,
      "outputs": []
    },
    {
      "cell_type": "code",
      "metadata": {
        "id": "p6l3mDuI6a7W",
        "outputId": "bc8b2b12-8742-4ee3-b9dc-43674ec1de11",
        "colab": {
          "base_uri": "https://localhost:8080/",
          "height": 202
        }
      },
      "source": [
        "train.head()"
      ],
      "execution_count": 668,
      "outputs": [
        {
          "output_type": "execute_result",
          "data": {
            "text/html": [
              "<div>\n",
              "<style scoped>\n",
              "    .dataframe tbody tr th:only-of-type {\n",
              "        vertical-align: middle;\n",
              "    }\n",
              "\n",
              "    .dataframe tbody tr th {\n",
              "        vertical-align: top;\n",
              "    }\n",
              "\n",
              "    .dataframe thead th {\n",
              "        text-align: right;\n",
              "    }\n",
              "</style>\n",
              "<table border=\"1\" class=\"dataframe\">\n",
              "  <thead>\n",
              "    <tr style=\"text-align: right;\">\n",
              "      <th></th>\n",
              "      <th>yeartype</th>\n",
              "      <th>dist</th>\n",
              "      <th>people</th>\n",
              "      <th>power</th>\n",
              "      <th>cylinder</th>\n",
              "      <th>torque</th>\n",
              "      <th>type</th>\n",
              "      <th>mission</th>\n",
              "      <th>country</th>\n",
              "      <th>newprice</th>\n",
              "      <th>price</th>\n",
              "      <th>fuel</th>\n",
              "    </tr>\n",
              "  </thead>\n",
              "  <tbody>\n",
              "    <tr>\n",
              "      <th>0</th>\n",
              "      <td>2013.0</td>\n",
              "      <td>4만km</td>\n",
              "      <td>NaN</td>\n",
              "      <td>201.0</td>\n",
              "      <td>4.0</td>\n",
              "      <td>25.5</td>\n",
              "      <td>FF</td>\n",
              "      <td>NaN</td>\n",
              "      <td>국산</td>\n",
              "      <td>3141.0</td>\n",
              "      <td>1870.0</td>\n",
              "      <td>가솔린</td>\n",
              "    </tr>\n",
              "    <tr>\n",
              "      <th>1</th>\n",
              "      <td>2010.0</td>\n",
              "      <td>9만km</td>\n",
              "      <td>NaN</td>\n",
              "      <td>157.0</td>\n",
              "      <td>NaN</td>\n",
              "      <td>20.0</td>\n",
              "      <td>FF</td>\n",
              "      <td>NaN</td>\n",
              "      <td>국산</td>\n",
              "      <td>NaN</td>\n",
              "      <td>700.0</td>\n",
              "      <td>LPG</td>\n",
              "    </tr>\n",
              "    <tr>\n",
              "      <th>2</th>\n",
              "      <td>2015.0</td>\n",
              "      <td>3만km</td>\n",
              "      <td>NaN</td>\n",
              "      <td>202.0</td>\n",
              "      <td>4.0</td>\n",
              "      <td>45.0</td>\n",
              "      <td>FF</td>\n",
              "      <td>NaN</td>\n",
              "      <td>국산</td>\n",
              "      <td>3389.0</td>\n",
              "      <td>2990.0</td>\n",
              "      <td>디젤</td>\n",
              "    </tr>\n",
              "    <tr>\n",
              "      <th>3</th>\n",
              "      <td>2008.0</td>\n",
              "      <td>16만km</td>\n",
              "      <td>NaN</td>\n",
              "      <td>151.0</td>\n",
              "      <td>4.0</td>\n",
              "      <td>33.8</td>\n",
              "      <td>FR</td>\n",
              "      <td>NaN</td>\n",
              "      <td>국산</td>\n",
              "      <td>2499.0</td>\n",
              "      <td>420.0</td>\n",
              "      <td>디젤</td>\n",
              "    </tr>\n",
              "    <tr>\n",
              "      <th>4</th>\n",
              "      <td>2004.0</td>\n",
              "      <td>16만km</td>\n",
              "      <td>3.0</td>\n",
              "      <td>103.0</td>\n",
              "      <td>NaN</td>\n",
              "      <td>24.0</td>\n",
              "      <td>FR</td>\n",
              "      <td>수동</td>\n",
              "      <td>국산</td>\n",
              "      <td>1445.0</td>\n",
              "      <td>450.0</td>\n",
              "      <td>디젤</td>\n",
              "    </tr>\n",
              "  </tbody>\n",
              "</table>\n",
              "</div>"
            ],
            "text/plain": [
              "   yeartype   dist  people  power  ...  country  newprice   price fuel\n",
              "0    2013.0   4만km     NaN  201.0  ...       국산    3141.0  1870.0  가솔린\n",
              "1    2010.0   9만km     NaN  157.0  ...       국산       NaN   700.0  LPG\n",
              "2    2015.0   3만km     NaN  202.0  ...       국산    3389.0  2990.0   디젤\n",
              "3    2008.0  16만km     NaN  151.0  ...       국산    2499.0   420.0   디젤\n",
              "4    2004.0  16만km     3.0  103.0  ...       국산    1445.0   450.0   디젤\n",
              "\n",
              "[5 rows x 12 columns]"
            ]
          },
          "metadata": {
            "tags": []
          },
          "execution_count": 668
        }
      ]
    },
    {
      "cell_type": "code",
      "metadata": {
        "id": "tVRRF0KL6a7Z",
        "outputId": "0a61aed5-af7e-4775-b369-655846b77552",
        "colab": {
          "base_uri": "https://localhost:8080/"
        }
      },
      "source": [
        "print(train.shape)\n",
        "print(test.shape)"
      ],
      "execution_count": 669,
      "outputs": [
        {
          "output_type": "stream",
          "text": [
            "(11769, 12)\n",
            "(5789, 10)\n"
          ],
          "name": "stdout"
        }
      ]
    },
    {
      "cell_type": "markdown",
      "metadata": {
        "id": "T0Fl4JRV6a7b"
      },
      "source": [
        "# 5 주행거리 dist 11769 non-null object\n",
        "\n",
        "- %d만{km|ml}\n",
        "- 중간중간에 '등록'이라고 되어있는 게 있다\n",
        "- 일단 결측치로 냅둘까?\n",
        "- 나중에 MissForest 처리할 것이다"
      ]
    },
    {
      "cell_type": "code",
      "metadata": {
        "id": "WBPApT5O6a7b",
        "outputId": "e72a655b-ee80-456a-b11c-e05a555461cb",
        "colab": {
          "base_uri": "https://localhost:8080/"
        }
      },
      "source": [
        "train_dist = train['dist']\n",
        "test_dist = test['dist']\n",
        "\n",
        "train_dist"
      ],
      "execution_count": 670,
      "outputs": [
        {
          "output_type": "execute_result",
          "data": {
            "text/plain": [
              "0         4만km\n",
              "1         9만km\n",
              "2         3만km\n",
              "3        16만km\n",
              "4        16만km\n",
              "         ...  \n",
              "11764    11만km\n",
              "11765     5천km\n",
              "11766    230km\n",
              "11767     9천km\n",
              "11768     3천km\n",
              "Name: dist, Length: 11769, dtype: object"
            ]
          },
          "metadata": {
            "tags": []
          },
          "execution_count": 670
        }
      ]
    },
    {
      "cell_type": "code",
      "metadata": {
        "id": "3gkmXRPn6a7d"
      },
      "source": [
        "def preprocess_dist(x):\n",
        "    # '등록'은 나중에 평균으로 채울 거임\n",
        "    if x == '등록':\n",
        "        return None\n",
        "\n",
        "    if x[-2:] == 'km':\n",
        "        # kilometer\n",
        "        x = x.split('km')[0]\n",
        "        weight = 1\n",
        "    else:\n",
        "        # mile\n",
        "        assert x[-2:] == 'ml'\n",
        "        x = x.split('ml')[0]\n",
        "        weight = 1.609344\n",
        "\n",
        "    if x[-1] == '만':\n",
        "        x = float(x.split('만')[0]) * 10000\n",
        "    elif x[-1] == '천':\n",
        "        x = float(x.split('천')[0]) * 1000\n",
        "\n",
        "    return float(x * weight)"
      ],
      "execution_count": 671,
      "outputs": []
    },
    {
      "cell_type": "code",
      "metadata": {
        "id": "BJbIhuZI6a7f",
        "outputId": "1670338b-eb23-4dc5-be71-ecc5811925a6",
        "colab": {
          "base_uri": "https://localhost:8080/"
        }
      },
      "source": [
        "train_dist = train_dist.apply(preprocess_dist)\n",
        "test_dist = test_dist.apply(preprocess_dist)\n",
        "\n",
        "train_dist"
      ],
      "execution_count": 672,
      "outputs": [
        {
          "output_type": "execute_result",
          "data": {
            "text/plain": [
              "0         40000.0\n",
              "1         90000.0\n",
              "2         30000.0\n",
              "3        160000.0\n",
              "4        160000.0\n",
              "           ...   \n",
              "11764    110000.0\n",
              "11765      5000.0\n",
              "11766       230.0\n",
              "11767      9000.0\n",
              "11768      3000.0\n",
              "Name: dist, Length: 11769, dtype: float64"
            ]
          },
          "metadata": {
            "tags": []
          },
          "execution_count": 672
        }
      ]
    },
    {
      "cell_type": "code",
      "metadata": {
        "id": "f4mnBCOm6a7h",
        "outputId": "cce6c91d-2b74-4883-fc3b-b72bde862695",
        "colab": {
          "base_uri": "https://localhost:8080/"
        }
      },
      "source": [
        "# 등록 처리\n",
        "train_dist.isna().sum()"
      ],
      "execution_count": 673,
      "outputs": [
        {
          "output_type": "execute_result",
          "data": {
            "text/plain": [
              "29"
            ]
          },
          "metadata": {
            "tags": []
          },
          "execution_count": 673
        }
      ]
    },
    {
      "cell_type": "code",
      "metadata": {
        "id": "1iVSPylH6a7k"
      },
      "source": [
        "# train_dist = train_dist.dropna()\n",
        "# test_dist = test_dist.dropna()"
      ],
      "execution_count": 674,
      "outputs": []
    },
    {
      "cell_type": "code",
      "metadata": {
        "id": "g5OZ0d0r6a7n"
      },
      "source": [
        "train = train.drop(['dist'], axis=1)\n",
        "test = test.drop(['dist'], axis=1)\n",
        "\n",
        "train = train.join(train_dist)\n",
        "test = test.join(test_dist)"
      ],
      "execution_count": 675,
      "outputs": []
    },
    {
      "cell_type": "code",
      "metadata": {
        "id": "pKSaQuf-6a7p",
        "outputId": "b0bc3c68-d3de-4a24-8acc-29141f7d17fe",
        "colab": {
          "base_uri": "https://localhost:8080/",
          "height": 202
        }
      },
      "source": [
        "train.head()"
      ],
      "execution_count": 676,
      "outputs": [
        {
          "output_type": "execute_result",
          "data": {
            "text/html": [
              "<div>\n",
              "<style scoped>\n",
              "    .dataframe tbody tr th:only-of-type {\n",
              "        vertical-align: middle;\n",
              "    }\n",
              "\n",
              "    .dataframe tbody tr th {\n",
              "        vertical-align: top;\n",
              "    }\n",
              "\n",
              "    .dataframe thead th {\n",
              "        text-align: right;\n",
              "    }\n",
              "</style>\n",
              "<table border=\"1\" class=\"dataframe\">\n",
              "  <thead>\n",
              "    <tr style=\"text-align: right;\">\n",
              "      <th></th>\n",
              "      <th>yeartype</th>\n",
              "      <th>people</th>\n",
              "      <th>power</th>\n",
              "      <th>cylinder</th>\n",
              "      <th>torque</th>\n",
              "      <th>type</th>\n",
              "      <th>mission</th>\n",
              "      <th>country</th>\n",
              "      <th>newprice</th>\n",
              "      <th>price</th>\n",
              "      <th>fuel</th>\n",
              "      <th>dist</th>\n",
              "    </tr>\n",
              "  </thead>\n",
              "  <tbody>\n",
              "    <tr>\n",
              "      <th>0</th>\n",
              "      <td>2013.0</td>\n",
              "      <td>NaN</td>\n",
              "      <td>201.0</td>\n",
              "      <td>4.0</td>\n",
              "      <td>25.5</td>\n",
              "      <td>FF</td>\n",
              "      <td>NaN</td>\n",
              "      <td>국산</td>\n",
              "      <td>3141.0</td>\n",
              "      <td>1870.0</td>\n",
              "      <td>가솔린</td>\n",
              "      <td>40000.0</td>\n",
              "    </tr>\n",
              "    <tr>\n",
              "      <th>1</th>\n",
              "      <td>2010.0</td>\n",
              "      <td>NaN</td>\n",
              "      <td>157.0</td>\n",
              "      <td>NaN</td>\n",
              "      <td>20.0</td>\n",
              "      <td>FF</td>\n",
              "      <td>NaN</td>\n",
              "      <td>국산</td>\n",
              "      <td>NaN</td>\n",
              "      <td>700.0</td>\n",
              "      <td>LPG</td>\n",
              "      <td>90000.0</td>\n",
              "    </tr>\n",
              "    <tr>\n",
              "      <th>2</th>\n",
              "      <td>2015.0</td>\n",
              "      <td>NaN</td>\n",
              "      <td>202.0</td>\n",
              "      <td>4.0</td>\n",
              "      <td>45.0</td>\n",
              "      <td>FF</td>\n",
              "      <td>NaN</td>\n",
              "      <td>국산</td>\n",
              "      <td>3389.0</td>\n",
              "      <td>2990.0</td>\n",
              "      <td>디젤</td>\n",
              "      <td>30000.0</td>\n",
              "    </tr>\n",
              "    <tr>\n",
              "      <th>3</th>\n",
              "      <td>2008.0</td>\n",
              "      <td>NaN</td>\n",
              "      <td>151.0</td>\n",
              "      <td>4.0</td>\n",
              "      <td>33.8</td>\n",
              "      <td>FR</td>\n",
              "      <td>NaN</td>\n",
              "      <td>국산</td>\n",
              "      <td>2499.0</td>\n",
              "      <td>420.0</td>\n",
              "      <td>디젤</td>\n",
              "      <td>160000.0</td>\n",
              "    </tr>\n",
              "    <tr>\n",
              "      <th>4</th>\n",
              "      <td>2004.0</td>\n",
              "      <td>3.0</td>\n",
              "      <td>103.0</td>\n",
              "      <td>NaN</td>\n",
              "      <td>24.0</td>\n",
              "      <td>FR</td>\n",
              "      <td>수동</td>\n",
              "      <td>국산</td>\n",
              "      <td>1445.0</td>\n",
              "      <td>450.0</td>\n",
              "      <td>디젤</td>\n",
              "      <td>160000.0</td>\n",
              "    </tr>\n",
              "  </tbody>\n",
              "</table>\n",
              "</div>"
            ],
            "text/plain": [
              "   yeartype  people  power  cylinder  ...  newprice   price fuel      dist\n",
              "0    2013.0     NaN  201.0       4.0  ...    3141.0  1870.0  가솔린   40000.0\n",
              "1    2010.0     NaN  157.0       NaN  ...       NaN   700.0  LPG   90000.0\n",
              "2    2015.0     NaN  202.0       4.0  ...    3389.0  2990.0   디젤   30000.0\n",
              "3    2008.0     NaN  151.0       4.0  ...    2499.0   420.0   디젤  160000.0\n",
              "4    2004.0     3.0  103.0       NaN  ...    1445.0   450.0   디젤  160000.0\n",
              "\n",
              "[5 rows x 12 columns]"
            ]
          },
          "metadata": {
            "tags": []
          },
          "execution_count": 676
        }
      ]
    },
    {
      "cell_type": "markdown",
      "metadata": {
        "id": "i2fISCc56a7r"
      },
      "source": [
        "# 6 인승 people 765 non-null float64\n",
        "\n",
        "- 드랍"
      ]
    },
    {
      "cell_type": "code",
      "metadata": {
        "id": "RQ5nFdjm6a7r"
      },
      "source": [
        "train_people = train['people']\n",
        "test_people = test['people']"
      ],
      "execution_count": 677,
      "outputs": []
    },
    {
      "cell_type": "code",
      "metadata": {
        "id": "P6WBIWTq6a7v"
      },
      "source": [
        "train = train.drop(['people'], axis=1)\n",
        "test = test.drop(['people'], axis=1)"
      ],
      "execution_count": 678,
      "outputs": []
    },
    {
      "cell_type": "markdown",
      "metadata": {
        "id": "N7ecncKI6a7x"
      },
      "source": [
        "# 7 최대출력(마력) power 10644 non-null float64\n",
        "\n",
        "- 얘도 결측치들을 냅두자"
      ]
    },
    {
      "cell_type": "code",
      "metadata": {
        "id": "c-9fEHIj6a7x",
        "outputId": "56f6f294-e994-4d83-9e70-2013d2279bee",
        "colab": {
          "base_uri": "https://localhost:8080/"
        }
      },
      "source": [
        "train_power = train['power']\n",
        "test_power = test['power']\n",
        "\n",
        "train_power"
      ],
      "execution_count": 679,
      "outputs": [
        {
          "output_type": "execute_result",
          "data": {
            "text/plain": [
              "0        201.0\n",
              "1        157.0\n",
              "2        202.0\n",
              "3        151.0\n",
              "4        103.0\n",
              "         ...  \n",
              "11764    210.0\n",
              "11765      NaN\n",
              "11766    370.0\n",
              "11767    425.0\n",
              "11768    425.0\n",
              "Name: power, Length: 11769, dtype: float64"
            ]
          },
          "metadata": {
            "tags": []
          },
          "execution_count": 679
        }
      ]
    },
    {
      "cell_type": "code",
      "metadata": {
        "id": "UBLB_NMD6a7z",
        "outputId": "68ec07d8-cc49-4a38-b7d2-4d933614cec8",
        "colab": {
          "base_uri": "https://localhost:8080/"
        }
      },
      "source": [
        "train_power.isna().sum()"
      ],
      "execution_count": 680,
      "outputs": [
        {
          "output_type": "execute_result",
          "data": {
            "text/plain": [
              "1125"
            ]
          },
          "metadata": {
            "tags": []
          },
          "execution_count": 680
        }
      ]
    },
    {
      "cell_type": "code",
      "metadata": {
        "id": "6OY1HzOp6a71"
      },
      "source": [
        "# train_power = train_power.fillna(train_power.mean())\n",
        "# test_power = test_power.fillna(test_power.mean())\n",
        "\n",
        "# train_power.isna().sum()"
      ],
      "execution_count": 681,
      "outputs": []
    },
    {
      "cell_type": "code",
      "metadata": {
        "id": "mzi652Zb6a75"
      },
      "source": [
        "train = train.drop(['power'], axis=1)\n",
        "test = test.drop(['power'], axis=1)\n",
        "\n",
        "train = train.join(train_power)\n",
        "test = test.join(test_power)"
      ],
      "execution_count": 682,
      "outputs": []
    },
    {
      "cell_type": "code",
      "metadata": {
        "id": "mm5NzeNQ6a77",
        "outputId": "0f86884f-ff3e-4354-eb59-d5ad558509d9",
        "colab": {
          "base_uri": "https://localhost:8080/",
          "height": 202
        }
      },
      "source": [
        "train.head()"
      ],
      "execution_count": 683,
      "outputs": [
        {
          "output_type": "execute_result",
          "data": {
            "text/html": [
              "<div>\n",
              "<style scoped>\n",
              "    .dataframe tbody tr th:only-of-type {\n",
              "        vertical-align: middle;\n",
              "    }\n",
              "\n",
              "    .dataframe tbody tr th {\n",
              "        vertical-align: top;\n",
              "    }\n",
              "\n",
              "    .dataframe thead th {\n",
              "        text-align: right;\n",
              "    }\n",
              "</style>\n",
              "<table border=\"1\" class=\"dataframe\">\n",
              "  <thead>\n",
              "    <tr style=\"text-align: right;\">\n",
              "      <th></th>\n",
              "      <th>yeartype</th>\n",
              "      <th>cylinder</th>\n",
              "      <th>torque</th>\n",
              "      <th>type</th>\n",
              "      <th>mission</th>\n",
              "      <th>country</th>\n",
              "      <th>newprice</th>\n",
              "      <th>price</th>\n",
              "      <th>fuel</th>\n",
              "      <th>dist</th>\n",
              "      <th>power</th>\n",
              "    </tr>\n",
              "  </thead>\n",
              "  <tbody>\n",
              "    <tr>\n",
              "      <th>0</th>\n",
              "      <td>2013.0</td>\n",
              "      <td>4.0</td>\n",
              "      <td>25.5</td>\n",
              "      <td>FF</td>\n",
              "      <td>NaN</td>\n",
              "      <td>국산</td>\n",
              "      <td>3141.0</td>\n",
              "      <td>1870.0</td>\n",
              "      <td>가솔린</td>\n",
              "      <td>40000.0</td>\n",
              "      <td>201.0</td>\n",
              "    </tr>\n",
              "    <tr>\n",
              "      <th>1</th>\n",
              "      <td>2010.0</td>\n",
              "      <td>NaN</td>\n",
              "      <td>20.0</td>\n",
              "      <td>FF</td>\n",
              "      <td>NaN</td>\n",
              "      <td>국산</td>\n",
              "      <td>NaN</td>\n",
              "      <td>700.0</td>\n",
              "      <td>LPG</td>\n",
              "      <td>90000.0</td>\n",
              "      <td>157.0</td>\n",
              "    </tr>\n",
              "    <tr>\n",
              "      <th>2</th>\n",
              "      <td>2015.0</td>\n",
              "      <td>4.0</td>\n",
              "      <td>45.0</td>\n",
              "      <td>FF</td>\n",
              "      <td>NaN</td>\n",
              "      <td>국산</td>\n",
              "      <td>3389.0</td>\n",
              "      <td>2990.0</td>\n",
              "      <td>디젤</td>\n",
              "      <td>30000.0</td>\n",
              "      <td>202.0</td>\n",
              "    </tr>\n",
              "    <tr>\n",
              "      <th>3</th>\n",
              "      <td>2008.0</td>\n",
              "      <td>4.0</td>\n",
              "      <td>33.8</td>\n",
              "      <td>FR</td>\n",
              "      <td>NaN</td>\n",
              "      <td>국산</td>\n",
              "      <td>2499.0</td>\n",
              "      <td>420.0</td>\n",
              "      <td>디젤</td>\n",
              "      <td>160000.0</td>\n",
              "      <td>151.0</td>\n",
              "    </tr>\n",
              "    <tr>\n",
              "      <th>4</th>\n",
              "      <td>2004.0</td>\n",
              "      <td>NaN</td>\n",
              "      <td>24.0</td>\n",
              "      <td>FR</td>\n",
              "      <td>수동</td>\n",
              "      <td>국산</td>\n",
              "      <td>1445.0</td>\n",
              "      <td>450.0</td>\n",
              "      <td>디젤</td>\n",
              "      <td>160000.0</td>\n",
              "      <td>103.0</td>\n",
              "    </tr>\n",
              "  </tbody>\n",
              "</table>\n",
              "</div>"
            ],
            "text/plain": [
              "   yeartype  cylinder  torque type  ...   price fuel      dist  power\n",
              "0    2013.0       4.0    25.5   FF  ...  1870.0  가솔린   40000.0  201.0\n",
              "1    2010.0       NaN    20.0   FF  ...   700.0  LPG   90000.0  157.0\n",
              "2    2015.0       4.0    45.0   FF  ...  2990.0   디젤   30000.0  202.0\n",
              "3    2008.0       4.0    33.8   FR  ...   420.0   디젤  160000.0  151.0\n",
              "4    2004.0       NaN    24.0   FR  ...   450.0   디젤  160000.0  103.0\n",
              "\n",
              "[5 rows x 11 columns]"
            ]
          },
          "metadata": {
            "tags": []
          },
          "execution_count": 683
        }
      ]
    },
    {
      "cell_type": "markdown",
      "metadata": {
        "id": "8CdiOdHh6a79"
      },
      "source": [
        "# 8 기통 cylinder 8698 non-null float64\n",
        "\n",
        "- 범주형으로 조질 수 있겠다\n",
        "- 결측치 냅두자\n",
        "\n"
      ]
    },
    {
      "cell_type": "code",
      "metadata": {
        "id": "MSpUsg0m6a79",
        "outputId": "2cdcf123-dc39-4880-94ae-d1a3399d7400",
        "colab": {
          "base_uri": "https://localhost:8080/"
        }
      },
      "source": [
        "train_cylinder = train['cylinder']\n",
        "test_cylinder = test['cylinder']\n",
        "\n",
        "train_cylinder.value_counts()"
      ],
      "execution_count": 684,
      "outputs": [
        {
          "output_type": "execute_result",
          "data": {
            "text/plain": [
              "4.0    5621\n",
              "6.0    2459\n",
              "3.0     402\n",
              "8.0     171\n",
              "5.0      45\n",
              "Name: cylinder, dtype: int64"
            ]
          },
          "metadata": {
            "tags": []
          },
          "execution_count": 684
        }
      ]
    },
    {
      "cell_type": "code",
      "metadata": {
        "id": "soJg33WC6a8A",
        "outputId": "f65ee266-f7f6-4da0-edb0-d87ebeeb939e",
        "colab": {
          "base_uri": "https://localhost:8080/"
        }
      },
      "source": [
        "test_cylinder.value_counts()"
      ],
      "execution_count": 685,
      "outputs": [
        {
          "output_type": "execute_result",
          "data": {
            "text/plain": [
              "4.0    2747\n",
              "6.0    1222\n",
              "3.0     173\n",
              "8.0      95\n",
              "5.0      38\n",
              "Name: cylinder, dtype: int64"
            ]
          },
          "metadata": {
            "tags": []
          },
          "execution_count": 685
        }
      ]
    },
    {
      "cell_type": "code",
      "metadata": {
        "id": "ZQCNQOmf6a8C"
      },
      "source": [
        "# train_cylinder = train_cylinder.fillna(4.0)\n",
        "# test_cylinder = test_cylinder.fillna(4.0)"
      ],
      "execution_count": 686,
      "outputs": []
    },
    {
      "cell_type": "code",
      "metadata": {
        "id": "UP9qe14V6a8E",
        "outputId": "23ac04b8-0323-41bd-b0ca-c26b27cd8e17",
        "colab": {
          "base_uri": "https://localhost:8080/"
        }
      },
      "source": [
        "train_cylinder.isna().sum()"
      ],
      "execution_count": 687,
      "outputs": [
        {
          "output_type": "execute_result",
          "data": {
            "text/plain": [
              "3071"
            ]
          },
          "metadata": {
            "tags": []
          },
          "execution_count": 687
        }
      ]
    },
    {
      "cell_type": "code",
      "metadata": {
        "id": "6K0_xPBJ6a8G"
      },
      "source": [
        "## train_cylinder_dummies = pd.get_dummies(train_cylinder)\n",
        "## test_cylinder_dummies = pd.get_dummies(test_cylinder)\n",
        "## \n",
        "## train_cylinder_dummies = train_cylinder_dummies.add_prefix(\"cylinder_\")\n",
        "## test_cylinder_dummies = test_cylinder_dummies.add_prefix(\"cylinder_\")\n",
        "\n",
        "## train = train.join(train_cylinder_dummies)\n",
        "## test = test.join(test_cylinder_dummies)\n",
        "\n",
        "train = train.drop(['cylinder'], axis=1)\n",
        "test = test.drop(['cylinder'], axis=1)\n",
        "\n",
        "train = train.join(train_cylinder)\n",
        "test = test.join(test_cylinder)"
      ],
      "execution_count": 688,
      "outputs": []
    },
    {
      "cell_type": "code",
      "metadata": {
        "id": "Ikdi2lkQ6a8I",
        "outputId": "f4a427d0-dbea-48de-8d69-795a31af19f9",
        "colab": {
          "base_uri": "https://localhost:8080/",
          "height": 202
        }
      },
      "source": [
        "train.head()"
      ],
      "execution_count": 689,
      "outputs": [
        {
          "output_type": "execute_result",
          "data": {
            "text/html": [
              "<div>\n",
              "<style scoped>\n",
              "    .dataframe tbody tr th:only-of-type {\n",
              "        vertical-align: middle;\n",
              "    }\n",
              "\n",
              "    .dataframe tbody tr th {\n",
              "        vertical-align: top;\n",
              "    }\n",
              "\n",
              "    .dataframe thead th {\n",
              "        text-align: right;\n",
              "    }\n",
              "</style>\n",
              "<table border=\"1\" class=\"dataframe\">\n",
              "  <thead>\n",
              "    <tr style=\"text-align: right;\">\n",
              "      <th></th>\n",
              "      <th>yeartype</th>\n",
              "      <th>torque</th>\n",
              "      <th>type</th>\n",
              "      <th>mission</th>\n",
              "      <th>country</th>\n",
              "      <th>newprice</th>\n",
              "      <th>price</th>\n",
              "      <th>fuel</th>\n",
              "      <th>dist</th>\n",
              "      <th>power</th>\n",
              "      <th>cylinder</th>\n",
              "    </tr>\n",
              "  </thead>\n",
              "  <tbody>\n",
              "    <tr>\n",
              "      <th>0</th>\n",
              "      <td>2013.0</td>\n",
              "      <td>25.5</td>\n",
              "      <td>FF</td>\n",
              "      <td>NaN</td>\n",
              "      <td>국산</td>\n",
              "      <td>3141.0</td>\n",
              "      <td>1870.0</td>\n",
              "      <td>가솔린</td>\n",
              "      <td>40000.0</td>\n",
              "      <td>201.0</td>\n",
              "      <td>4.0</td>\n",
              "    </tr>\n",
              "    <tr>\n",
              "      <th>1</th>\n",
              "      <td>2010.0</td>\n",
              "      <td>20.0</td>\n",
              "      <td>FF</td>\n",
              "      <td>NaN</td>\n",
              "      <td>국산</td>\n",
              "      <td>NaN</td>\n",
              "      <td>700.0</td>\n",
              "      <td>LPG</td>\n",
              "      <td>90000.0</td>\n",
              "      <td>157.0</td>\n",
              "      <td>NaN</td>\n",
              "    </tr>\n",
              "    <tr>\n",
              "      <th>2</th>\n",
              "      <td>2015.0</td>\n",
              "      <td>45.0</td>\n",
              "      <td>FF</td>\n",
              "      <td>NaN</td>\n",
              "      <td>국산</td>\n",
              "      <td>3389.0</td>\n",
              "      <td>2990.0</td>\n",
              "      <td>디젤</td>\n",
              "      <td>30000.0</td>\n",
              "      <td>202.0</td>\n",
              "      <td>4.0</td>\n",
              "    </tr>\n",
              "    <tr>\n",
              "      <th>3</th>\n",
              "      <td>2008.0</td>\n",
              "      <td>33.8</td>\n",
              "      <td>FR</td>\n",
              "      <td>NaN</td>\n",
              "      <td>국산</td>\n",
              "      <td>2499.0</td>\n",
              "      <td>420.0</td>\n",
              "      <td>디젤</td>\n",
              "      <td>160000.0</td>\n",
              "      <td>151.0</td>\n",
              "      <td>4.0</td>\n",
              "    </tr>\n",
              "    <tr>\n",
              "      <th>4</th>\n",
              "      <td>2004.0</td>\n",
              "      <td>24.0</td>\n",
              "      <td>FR</td>\n",
              "      <td>수동</td>\n",
              "      <td>국산</td>\n",
              "      <td>1445.0</td>\n",
              "      <td>450.0</td>\n",
              "      <td>디젤</td>\n",
              "      <td>160000.0</td>\n",
              "      <td>103.0</td>\n",
              "      <td>NaN</td>\n",
              "    </tr>\n",
              "  </tbody>\n",
              "</table>\n",
              "</div>"
            ],
            "text/plain": [
              "   yeartype  torque type mission  ... fuel      dist  power cylinder\n",
              "0    2013.0    25.5   FF     NaN  ...  가솔린   40000.0  201.0      4.0\n",
              "1    2010.0    20.0   FF     NaN  ...  LPG   90000.0  157.0      NaN\n",
              "2    2015.0    45.0   FF     NaN  ...   디젤   30000.0  202.0      4.0\n",
              "3    2008.0    33.8   FR     NaN  ...   디젤  160000.0  151.0      4.0\n",
              "4    2004.0    24.0   FR      수동  ...   디젤  160000.0  103.0      NaN\n",
              "\n",
              "[5 rows x 11 columns]"
            ]
          },
          "metadata": {
            "tags": []
          },
          "execution_count": 689
        }
      ]
    },
    {
      "cell_type": "markdown",
      "metadata": {
        "id": "3rToVq0z6a8J"
      },
      "source": [
        "# 9 최대토크(kgm) torque 10545 non-null float64\n",
        "\n",
        "- 얘도 결측치 mean으로 채우고 그대로 쓰자"
      ]
    },
    {
      "cell_type": "code",
      "metadata": {
        "id": "AOfpotCp6a8K",
        "outputId": "3e47b031-6881-4d0f-eb99-2d8b7b0aff4f",
        "colab": {
          "base_uri": "https://localhost:8080/"
        }
      },
      "source": [
        "train_torque = train['torque']\n",
        "test_torque = test['torque']\n",
        "\n",
        "train_torque"
      ],
      "execution_count": 690,
      "outputs": [
        {
          "output_type": "execute_result",
          "data": {
            "text/plain": [
              "0        25.5\n",
              "1        20.0\n",
              "2        45.0\n",
              "3        33.8\n",
              "4        24.0\n",
              "         ... \n",
              "11764    30.5\n",
              "11765     NaN\n",
              "11766    52.0\n",
              "11767    53.0\n",
              "11768    53.0\n",
              "Name: torque, Length: 11769, dtype: float64"
            ]
          },
          "metadata": {
            "tags": []
          },
          "execution_count": 690
        }
      ]
    },
    {
      "cell_type": "code",
      "metadata": {
        "id": "v6WLWY2w6a8M"
      },
      "source": [
        "# train_torque = train_torque.fillna(train_torque.mean())\n",
        "# test_torque = test_torque.fillna(test_torque.mean())"
      ],
      "execution_count": 691,
      "outputs": []
    },
    {
      "cell_type": "code",
      "metadata": {
        "id": "aYHEOdfN6a8N",
        "outputId": "48ea3735-9a84-4430-c613-7868d752ab8f",
        "colab": {
          "base_uri": "https://localhost:8080/"
        }
      },
      "source": [
        "train_torque.isna().sum()"
      ],
      "execution_count": 692,
      "outputs": [
        {
          "output_type": "execute_result",
          "data": {
            "text/plain": [
              "1224"
            ]
          },
          "metadata": {
            "tags": []
          },
          "execution_count": 692
        }
      ]
    },
    {
      "cell_type": "code",
      "metadata": {
        "id": "UFuvH_Y06a8T"
      },
      "source": [
        "train = train.drop(['torque'], axis=1)\n",
        "test = test.drop(['torque'], axis=1)\n",
        "\n",
        "train = train.join(train_torque)\n",
        "test = test.join(test_torque)"
      ],
      "execution_count": 693,
      "outputs": []
    },
    {
      "cell_type": "code",
      "metadata": {
        "id": "1HqN1iup6a8X",
        "outputId": "bee9dbfd-1d0c-4916-b8b8-c979d3a099ae",
        "colab": {
          "base_uri": "https://localhost:8080/",
          "height": 202
        }
      },
      "source": [
        "train.head()"
      ],
      "execution_count": 694,
      "outputs": [
        {
          "output_type": "execute_result",
          "data": {
            "text/html": [
              "<div>\n",
              "<style scoped>\n",
              "    .dataframe tbody tr th:only-of-type {\n",
              "        vertical-align: middle;\n",
              "    }\n",
              "\n",
              "    .dataframe tbody tr th {\n",
              "        vertical-align: top;\n",
              "    }\n",
              "\n",
              "    .dataframe thead th {\n",
              "        text-align: right;\n",
              "    }\n",
              "</style>\n",
              "<table border=\"1\" class=\"dataframe\">\n",
              "  <thead>\n",
              "    <tr style=\"text-align: right;\">\n",
              "      <th></th>\n",
              "      <th>yeartype</th>\n",
              "      <th>type</th>\n",
              "      <th>mission</th>\n",
              "      <th>country</th>\n",
              "      <th>newprice</th>\n",
              "      <th>price</th>\n",
              "      <th>fuel</th>\n",
              "      <th>dist</th>\n",
              "      <th>power</th>\n",
              "      <th>cylinder</th>\n",
              "      <th>torque</th>\n",
              "    </tr>\n",
              "  </thead>\n",
              "  <tbody>\n",
              "    <tr>\n",
              "      <th>0</th>\n",
              "      <td>2013.0</td>\n",
              "      <td>FF</td>\n",
              "      <td>NaN</td>\n",
              "      <td>국산</td>\n",
              "      <td>3141.0</td>\n",
              "      <td>1870.0</td>\n",
              "      <td>가솔린</td>\n",
              "      <td>40000.0</td>\n",
              "      <td>201.0</td>\n",
              "      <td>4.0</td>\n",
              "      <td>25.5</td>\n",
              "    </tr>\n",
              "    <tr>\n",
              "      <th>1</th>\n",
              "      <td>2010.0</td>\n",
              "      <td>FF</td>\n",
              "      <td>NaN</td>\n",
              "      <td>국산</td>\n",
              "      <td>NaN</td>\n",
              "      <td>700.0</td>\n",
              "      <td>LPG</td>\n",
              "      <td>90000.0</td>\n",
              "      <td>157.0</td>\n",
              "      <td>NaN</td>\n",
              "      <td>20.0</td>\n",
              "    </tr>\n",
              "    <tr>\n",
              "      <th>2</th>\n",
              "      <td>2015.0</td>\n",
              "      <td>FF</td>\n",
              "      <td>NaN</td>\n",
              "      <td>국산</td>\n",
              "      <td>3389.0</td>\n",
              "      <td>2990.0</td>\n",
              "      <td>디젤</td>\n",
              "      <td>30000.0</td>\n",
              "      <td>202.0</td>\n",
              "      <td>4.0</td>\n",
              "      <td>45.0</td>\n",
              "    </tr>\n",
              "    <tr>\n",
              "      <th>3</th>\n",
              "      <td>2008.0</td>\n",
              "      <td>FR</td>\n",
              "      <td>NaN</td>\n",
              "      <td>국산</td>\n",
              "      <td>2499.0</td>\n",
              "      <td>420.0</td>\n",
              "      <td>디젤</td>\n",
              "      <td>160000.0</td>\n",
              "      <td>151.0</td>\n",
              "      <td>4.0</td>\n",
              "      <td>33.8</td>\n",
              "    </tr>\n",
              "    <tr>\n",
              "      <th>4</th>\n",
              "      <td>2004.0</td>\n",
              "      <td>FR</td>\n",
              "      <td>수동</td>\n",
              "      <td>국산</td>\n",
              "      <td>1445.0</td>\n",
              "      <td>450.0</td>\n",
              "      <td>디젤</td>\n",
              "      <td>160000.0</td>\n",
              "      <td>103.0</td>\n",
              "      <td>NaN</td>\n",
              "      <td>24.0</td>\n",
              "    </tr>\n",
              "  </tbody>\n",
              "</table>\n",
              "</div>"
            ],
            "text/plain": [
              "   yeartype type mission country  ...      dist  power cylinder  torque\n",
              "0    2013.0   FF     NaN      국산  ...   40000.0  201.0      4.0    25.5\n",
              "1    2010.0   FF     NaN      국산  ...   90000.0  157.0      NaN    20.0\n",
              "2    2015.0   FF     NaN      국산  ...   30000.0  202.0      4.0    45.0\n",
              "3    2008.0   FR     NaN      국산  ...  160000.0  151.0      4.0    33.8\n",
              "4    2004.0   FR      수동      국산  ...  160000.0  103.0      NaN    24.0\n",
              "\n",
              "[5 rows x 11 columns]"
            ]
          },
          "metadata": {
            "tags": []
          },
          "execution_count": 694
        }
      ]
    },
    {
      "cell_type": "markdown",
      "metadata": {
        "id": "rGRYlFGo6a8b"
      },
      "source": [
        "# 10 구동방식 type 10808 non-null object\n",
        "\n",
        "- 제일 많은 걸로 결측치 채우고 dummies 만들어서 쓰자\n",
        "- train에 3개 있는 RR은 데이터 자체를 없애버리자"
      ]
    },
    {
      "cell_type": "code",
      "metadata": {
        "id": "wWQULWvN6a8b"
      },
      "source": [
        "train = train.drop(train[train['type'] == 'RR'].index)"
      ],
      "execution_count": 695,
      "outputs": []
    },
    {
      "cell_type": "code",
      "metadata": {
        "id": "eQxg_s8j6a8g"
      },
      "source": [
        "train_type = train['type']\n",
        "test_type = test['type']"
      ],
      "execution_count": 696,
      "outputs": []
    },
    {
      "cell_type": "code",
      "metadata": {
        "id": "pMhATzG-6a8k",
        "outputId": "f1da66d6-7fb6-44f3-a7bd-accc3c1aaaf7",
        "colab": {
          "base_uri": "https://localhost:8080/"
        }
      },
      "source": [
        "print(train_type.value_counts())\n",
        "print()\n",
        "print(test_type.value_counts())"
      ],
      "execution_count": 697,
      "outputs": [
        {
          "output_type": "stream",
          "text": [
            "FF     7333\n",
            "FR     2319\n",
            "4WD     688\n",
            "AWD     452\n",
            "MR       13\n",
            "Name: type, dtype: int64\n",
            "\n",
            "FF     3655\n",
            "FR     1074\n",
            "4WD     352\n",
            "AWD     222\n",
            "MR        9\n",
            "Name: type, dtype: int64\n"
          ],
          "name": "stdout"
        }
      ]
    },
    {
      "cell_type": "code",
      "metadata": {
        "id": "_GneA7oT6a8r"
      },
      "source": [
        "# train_type = train_type.fillna('FF')\n",
        "# test_type = test_type.fillna('FF')"
      ],
      "execution_count": 698,
      "outputs": []
    },
    {
      "cell_type": "code",
      "metadata": {
        "id": "bNkV2kiW6a8u",
        "outputId": "34d5016f-4d8a-4c5e-d7ea-b8c939228e95",
        "colab": {
          "base_uri": "https://localhost:8080/"
        }
      },
      "source": [
        "train_type.isna().sum()"
      ],
      "execution_count": 699,
      "outputs": [
        {
          "output_type": "execute_result",
          "data": {
            "text/plain": [
              "961"
            ]
          },
          "metadata": {
            "tags": []
          },
          "execution_count": 699
        }
      ]
    },
    {
      "cell_type": "code",
      "metadata": {
        "id": "4TSSv_qH6a8w"
      },
      "source": [
        "## train_type_dummies = pd.get_dummies(train_type)\n",
        "## test_type_dummies = pd.get_dummies(test_type)\n",
        "## \n",
        "## train_type_dummies = train_type_dummies.add_prefix('type_')\n",
        "## test_type_dummies = test_type_dummies.add_prefix('type_')\n",
        "## \n",
        "## \n",
        "## train = train.join(train_type_dummies)\n",
        "## test = test.join(test_type_dummies)\n",
        "\n",
        "train = train.drop(['type'], axis=1)\n",
        "test = test.drop(['type'], axis=1)\n",
        "\n",
        "train = train.join(train_type)\n",
        "test = test.join(test_type)"
      ],
      "execution_count": 700,
      "outputs": []
    },
    {
      "cell_type": "code",
      "metadata": {
        "id": "1wsXRBdU6a8z",
        "outputId": "ac8a55fd-e7b1-4383-9948-753a2094fd81",
        "colab": {
          "base_uri": "https://localhost:8080/",
          "height": 202
        }
      },
      "source": [
        "train.head()"
      ],
      "execution_count": 701,
      "outputs": [
        {
          "output_type": "execute_result",
          "data": {
            "text/html": [
              "<div>\n",
              "<style scoped>\n",
              "    .dataframe tbody tr th:only-of-type {\n",
              "        vertical-align: middle;\n",
              "    }\n",
              "\n",
              "    .dataframe tbody tr th {\n",
              "        vertical-align: top;\n",
              "    }\n",
              "\n",
              "    .dataframe thead th {\n",
              "        text-align: right;\n",
              "    }\n",
              "</style>\n",
              "<table border=\"1\" class=\"dataframe\">\n",
              "  <thead>\n",
              "    <tr style=\"text-align: right;\">\n",
              "      <th></th>\n",
              "      <th>yeartype</th>\n",
              "      <th>mission</th>\n",
              "      <th>country</th>\n",
              "      <th>newprice</th>\n",
              "      <th>price</th>\n",
              "      <th>fuel</th>\n",
              "      <th>dist</th>\n",
              "      <th>power</th>\n",
              "      <th>cylinder</th>\n",
              "      <th>torque</th>\n",
              "      <th>type</th>\n",
              "    </tr>\n",
              "  </thead>\n",
              "  <tbody>\n",
              "    <tr>\n",
              "      <th>0</th>\n",
              "      <td>2013.0</td>\n",
              "      <td>NaN</td>\n",
              "      <td>국산</td>\n",
              "      <td>3141.0</td>\n",
              "      <td>1870.0</td>\n",
              "      <td>가솔린</td>\n",
              "      <td>40000.0</td>\n",
              "      <td>201.0</td>\n",
              "      <td>4.0</td>\n",
              "      <td>25.5</td>\n",
              "      <td>FF</td>\n",
              "    </tr>\n",
              "    <tr>\n",
              "      <th>1</th>\n",
              "      <td>2010.0</td>\n",
              "      <td>NaN</td>\n",
              "      <td>국산</td>\n",
              "      <td>NaN</td>\n",
              "      <td>700.0</td>\n",
              "      <td>LPG</td>\n",
              "      <td>90000.0</td>\n",
              "      <td>157.0</td>\n",
              "      <td>NaN</td>\n",
              "      <td>20.0</td>\n",
              "      <td>FF</td>\n",
              "    </tr>\n",
              "    <tr>\n",
              "      <th>2</th>\n",
              "      <td>2015.0</td>\n",
              "      <td>NaN</td>\n",
              "      <td>국산</td>\n",
              "      <td>3389.0</td>\n",
              "      <td>2990.0</td>\n",
              "      <td>디젤</td>\n",
              "      <td>30000.0</td>\n",
              "      <td>202.0</td>\n",
              "      <td>4.0</td>\n",
              "      <td>45.0</td>\n",
              "      <td>FF</td>\n",
              "    </tr>\n",
              "    <tr>\n",
              "      <th>3</th>\n",
              "      <td>2008.0</td>\n",
              "      <td>NaN</td>\n",
              "      <td>국산</td>\n",
              "      <td>2499.0</td>\n",
              "      <td>420.0</td>\n",
              "      <td>디젤</td>\n",
              "      <td>160000.0</td>\n",
              "      <td>151.0</td>\n",
              "      <td>4.0</td>\n",
              "      <td>33.8</td>\n",
              "      <td>FR</td>\n",
              "    </tr>\n",
              "    <tr>\n",
              "      <th>4</th>\n",
              "      <td>2004.0</td>\n",
              "      <td>수동</td>\n",
              "      <td>국산</td>\n",
              "      <td>1445.0</td>\n",
              "      <td>450.0</td>\n",
              "      <td>디젤</td>\n",
              "      <td>160000.0</td>\n",
              "      <td>103.0</td>\n",
              "      <td>NaN</td>\n",
              "      <td>24.0</td>\n",
              "      <td>FR</td>\n",
              "    </tr>\n",
              "  </tbody>\n",
              "</table>\n",
              "</div>"
            ],
            "text/plain": [
              "   yeartype mission country  newprice  ...  power cylinder  torque  type\n",
              "0    2013.0     NaN      국산    3141.0  ...  201.0      4.0    25.5    FF\n",
              "1    2010.0     NaN      국산       NaN  ...  157.0      NaN    20.0    FF\n",
              "2    2015.0     NaN      국산    3389.0  ...  202.0      4.0    45.0    FF\n",
              "3    2008.0     NaN      국산    2499.0  ...  151.0      4.0    33.8    FR\n",
              "4    2004.0      수동      국산    1445.0  ...  103.0      NaN    24.0    FR\n",
              "\n",
              "[5 rows x 11 columns]"
            ]
          },
          "metadata": {
            "tags": []
          },
          "execution_count": 701
        }
      ]
    },
    {
      "cell_type": "markdown",
      "metadata": {
        "id": "ou2JIwKA6a83"
      },
      "source": [
        "# 11 자동수동 mission 1313 non-null object\n",
        "\n",
        "- 드랍하자"
      ]
    },
    {
      "cell_type": "code",
      "metadata": {
        "id": "413CkYLz6a83"
      },
      "source": [
        "train_mission = train['mission']\n",
        "test_mission = test['mission']"
      ],
      "execution_count": 702,
      "outputs": []
    },
    {
      "cell_type": "code",
      "metadata": {
        "id": "PS7_fnfV6a89"
      },
      "source": [
        "train = train.drop(['mission'], axis=1)\n",
        "test = test.drop(['mission'], axis=1)"
      ],
      "execution_count": 703,
      "outputs": []
    },
    {
      "cell_type": "code",
      "metadata": {
        "id": "hONm2bO56a8_",
        "outputId": "e7538f73-1c28-4406-d7f3-c0b61c4a2b4e",
        "colab": {
          "base_uri": "https://localhost:8080/",
          "height": 202
        }
      },
      "source": [
        "train.head()"
      ],
      "execution_count": 704,
      "outputs": [
        {
          "output_type": "execute_result",
          "data": {
            "text/html": [
              "<div>\n",
              "<style scoped>\n",
              "    .dataframe tbody tr th:only-of-type {\n",
              "        vertical-align: middle;\n",
              "    }\n",
              "\n",
              "    .dataframe tbody tr th {\n",
              "        vertical-align: top;\n",
              "    }\n",
              "\n",
              "    .dataframe thead th {\n",
              "        text-align: right;\n",
              "    }\n",
              "</style>\n",
              "<table border=\"1\" class=\"dataframe\">\n",
              "  <thead>\n",
              "    <tr style=\"text-align: right;\">\n",
              "      <th></th>\n",
              "      <th>yeartype</th>\n",
              "      <th>country</th>\n",
              "      <th>newprice</th>\n",
              "      <th>price</th>\n",
              "      <th>fuel</th>\n",
              "      <th>dist</th>\n",
              "      <th>power</th>\n",
              "      <th>cylinder</th>\n",
              "      <th>torque</th>\n",
              "      <th>type</th>\n",
              "    </tr>\n",
              "  </thead>\n",
              "  <tbody>\n",
              "    <tr>\n",
              "      <th>0</th>\n",
              "      <td>2013.0</td>\n",
              "      <td>국산</td>\n",
              "      <td>3141.0</td>\n",
              "      <td>1870.0</td>\n",
              "      <td>가솔린</td>\n",
              "      <td>40000.0</td>\n",
              "      <td>201.0</td>\n",
              "      <td>4.0</td>\n",
              "      <td>25.5</td>\n",
              "      <td>FF</td>\n",
              "    </tr>\n",
              "    <tr>\n",
              "      <th>1</th>\n",
              "      <td>2010.0</td>\n",
              "      <td>국산</td>\n",
              "      <td>NaN</td>\n",
              "      <td>700.0</td>\n",
              "      <td>LPG</td>\n",
              "      <td>90000.0</td>\n",
              "      <td>157.0</td>\n",
              "      <td>NaN</td>\n",
              "      <td>20.0</td>\n",
              "      <td>FF</td>\n",
              "    </tr>\n",
              "    <tr>\n",
              "      <th>2</th>\n",
              "      <td>2015.0</td>\n",
              "      <td>국산</td>\n",
              "      <td>3389.0</td>\n",
              "      <td>2990.0</td>\n",
              "      <td>디젤</td>\n",
              "      <td>30000.0</td>\n",
              "      <td>202.0</td>\n",
              "      <td>4.0</td>\n",
              "      <td>45.0</td>\n",
              "      <td>FF</td>\n",
              "    </tr>\n",
              "    <tr>\n",
              "      <th>3</th>\n",
              "      <td>2008.0</td>\n",
              "      <td>국산</td>\n",
              "      <td>2499.0</td>\n",
              "      <td>420.0</td>\n",
              "      <td>디젤</td>\n",
              "      <td>160000.0</td>\n",
              "      <td>151.0</td>\n",
              "      <td>4.0</td>\n",
              "      <td>33.8</td>\n",
              "      <td>FR</td>\n",
              "    </tr>\n",
              "    <tr>\n",
              "      <th>4</th>\n",
              "      <td>2004.0</td>\n",
              "      <td>국산</td>\n",
              "      <td>1445.0</td>\n",
              "      <td>450.0</td>\n",
              "      <td>디젤</td>\n",
              "      <td>160000.0</td>\n",
              "      <td>103.0</td>\n",
              "      <td>NaN</td>\n",
              "      <td>24.0</td>\n",
              "      <td>FR</td>\n",
              "    </tr>\n",
              "  </tbody>\n",
              "</table>\n",
              "</div>"
            ],
            "text/plain": [
              "   yeartype country  newprice   price  ...  power  cylinder  torque  type\n",
              "0    2013.0      국산    3141.0  1870.0  ...  201.0       4.0    25.5    FF\n",
              "1    2010.0      국산       NaN   700.0  ...  157.0       NaN    20.0    FF\n",
              "2    2015.0      국산    3389.0  2990.0  ...  202.0       4.0    45.0    FF\n",
              "3    2008.0      국산    2499.0   420.0  ...  151.0       4.0    33.8    FR\n",
              "4    2004.0      국산    1445.0   450.0  ...  103.0       NaN    24.0    FR\n",
              "\n",
              "[5 rows x 10 columns]"
            ]
          },
          "metadata": {
            "tags": []
          },
          "execution_count": 704
        }
      ]
    },
    {
      "cell_type": "markdown",
      "metadata": {
        "id": "CyHTM7pi6a9B"
      },
      "source": [
        "# 12 국산/수입 country 11769 non-null object\n",
        "\n",
        "- 단순한 범주형 같다\n",
        "- 아니 근데 train이랑 test 다 국산밖에 없는데?\n",
        "- 드랍하자..."
      ]
    },
    {
      "cell_type": "code",
      "metadata": {
        "id": "2J6i7l1z6a9B"
      },
      "source": [
        "train = train.drop(['country'], axis=1)\n",
        "test = test.drop(['country'], axis=1)"
      ],
      "execution_count": 705,
      "outputs": []
    },
    {
      "cell_type": "code",
      "metadata": {
        "id": "e6r1_1wl6a9C",
        "outputId": "7fc87316-9b79-4178-f7d3-6daf708c3fd3",
        "colab": {
          "base_uri": "https://localhost:8080/",
          "height": 202
        }
      },
      "source": [
        "train.head()"
      ],
      "execution_count": 706,
      "outputs": [
        {
          "output_type": "execute_result",
          "data": {
            "text/html": [
              "<div>\n",
              "<style scoped>\n",
              "    .dataframe tbody tr th:only-of-type {\n",
              "        vertical-align: middle;\n",
              "    }\n",
              "\n",
              "    .dataframe tbody tr th {\n",
              "        vertical-align: top;\n",
              "    }\n",
              "\n",
              "    .dataframe thead th {\n",
              "        text-align: right;\n",
              "    }\n",
              "</style>\n",
              "<table border=\"1\" class=\"dataframe\">\n",
              "  <thead>\n",
              "    <tr style=\"text-align: right;\">\n",
              "      <th></th>\n",
              "      <th>yeartype</th>\n",
              "      <th>newprice</th>\n",
              "      <th>price</th>\n",
              "      <th>fuel</th>\n",
              "      <th>dist</th>\n",
              "      <th>power</th>\n",
              "      <th>cylinder</th>\n",
              "      <th>torque</th>\n",
              "      <th>type</th>\n",
              "    </tr>\n",
              "  </thead>\n",
              "  <tbody>\n",
              "    <tr>\n",
              "      <th>0</th>\n",
              "      <td>2013.0</td>\n",
              "      <td>3141.0</td>\n",
              "      <td>1870.0</td>\n",
              "      <td>가솔린</td>\n",
              "      <td>40000.0</td>\n",
              "      <td>201.0</td>\n",
              "      <td>4.0</td>\n",
              "      <td>25.5</td>\n",
              "      <td>FF</td>\n",
              "    </tr>\n",
              "    <tr>\n",
              "      <th>1</th>\n",
              "      <td>2010.0</td>\n",
              "      <td>NaN</td>\n",
              "      <td>700.0</td>\n",
              "      <td>LPG</td>\n",
              "      <td>90000.0</td>\n",
              "      <td>157.0</td>\n",
              "      <td>NaN</td>\n",
              "      <td>20.0</td>\n",
              "      <td>FF</td>\n",
              "    </tr>\n",
              "    <tr>\n",
              "      <th>2</th>\n",
              "      <td>2015.0</td>\n",
              "      <td>3389.0</td>\n",
              "      <td>2990.0</td>\n",
              "      <td>디젤</td>\n",
              "      <td>30000.0</td>\n",
              "      <td>202.0</td>\n",
              "      <td>4.0</td>\n",
              "      <td>45.0</td>\n",
              "      <td>FF</td>\n",
              "    </tr>\n",
              "    <tr>\n",
              "      <th>3</th>\n",
              "      <td>2008.0</td>\n",
              "      <td>2499.0</td>\n",
              "      <td>420.0</td>\n",
              "      <td>디젤</td>\n",
              "      <td>160000.0</td>\n",
              "      <td>151.0</td>\n",
              "      <td>4.0</td>\n",
              "      <td>33.8</td>\n",
              "      <td>FR</td>\n",
              "    </tr>\n",
              "    <tr>\n",
              "      <th>4</th>\n",
              "      <td>2004.0</td>\n",
              "      <td>1445.0</td>\n",
              "      <td>450.0</td>\n",
              "      <td>디젤</td>\n",
              "      <td>160000.0</td>\n",
              "      <td>103.0</td>\n",
              "      <td>NaN</td>\n",
              "      <td>24.0</td>\n",
              "      <td>FR</td>\n",
              "    </tr>\n",
              "  </tbody>\n",
              "</table>\n",
              "</div>"
            ],
            "text/plain": [
              "   yeartype  newprice   price fuel      dist  power  cylinder  torque type\n",
              "0    2013.0    3141.0  1870.0  가솔린   40000.0  201.0       4.0    25.5   FF\n",
              "1    2010.0       NaN   700.0  LPG   90000.0  157.0       NaN    20.0   FF\n",
              "2    2015.0    3389.0  2990.0   디젤   30000.0  202.0       4.0    45.0   FF\n",
              "3    2008.0    2499.0   420.0   디젤  160000.0  151.0       4.0    33.8   FR\n",
              "4    2004.0    1445.0   450.0   디젤  160000.0  103.0       NaN    24.0   FR"
            ]
          },
          "metadata": {
            "tags": []
          },
          "execution_count": 706
        }
      ]
    },
    {
      "cell_type": "markdown",
      "metadata": {
        "id": "IqeUBQcW6a9E"
      },
      "source": [
        "# 13 신차가(만원) newprice 9544 non-null float64\n",
        "\n",
        "- 일단 드랍\n"
      ]
    },
    {
      "cell_type": "code",
      "metadata": {
        "id": "oo_3gP8m6a9E"
      },
      "source": [
        "train = train.drop(['newprice'], axis=1)"
      ],
      "execution_count": 707,
      "outputs": []
    },
    {
      "cell_type": "code",
      "metadata": {
        "id": "fvt-Uzkm6a9G",
        "outputId": "871f8983-090e-4c3a-caa0-ddc73a6ecf09",
        "colab": {
          "base_uri": "https://localhost:8080/",
          "height": 202
        }
      },
      "source": [
        "train.head()"
      ],
      "execution_count": 708,
      "outputs": [
        {
          "output_type": "execute_result",
          "data": {
            "text/html": [
              "<div>\n",
              "<style scoped>\n",
              "    .dataframe tbody tr th:only-of-type {\n",
              "        vertical-align: middle;\n",
              "    }\n",
              "\n",
              "    .dataframe tbody tr th {\n",
              "        vertical-align: top;\n",
              "    }\n",
              "\n",
              "    .dataframe thead th {\n",
              "        text-align: right;\n",
              "    }\n",
              "</style>\n",
              "<table border=\"1\" class=\"dataframe\">\n",
              "  <thead>\n",
              "    <tr style=\"text-align: right;\">\n",
              "      <th></th>\n",
              "      <th>yeartype</th>\n",
              "      <th>price</th>\n",
              "      <th>fuel</th>\n",
              "      <th>dist</th>\n",
              "      <th>power</th>\n",
              "      <th>cylinder</th>\n",
              "      <th>torque</th>\n",
              "      <th>type</th>\n",
              "    </tr>\n",
              "  </thead>\n",
              "  <tbody>\n",
              "    <tr>\n",
              "      <th>0</th>\n",
              "      <td>2013.0</td>\n",
              "      <td>1870.0</td>\n",
              "      <td>가솔린</td>\n",
              "      <td>40000.0</td>\n",
              "      <td>201.0</td>\n",
              "      <td>4.0</td>\n",
              "      <td>25.5</td>\n",
              "      <td>FF</td>\n",
              "    </tr>\n",
              "    <tr>\n",
              "      <th>1</th>\n",
              "      <td>2010.0</td>\n",
              "      <td>700.0</td>\n",
              "      <td>LPG</td>\n",
              "      <td>90000.0</td>\n",
              "      <td>157.0</td>\n",
              "      <td>NaN</td>\n",
              "      <td>20.0</td>\n",
              "      <td>FF</td>\n",
              "    </tr>\n",
              "    <tr>\n",
              "      <th>2</th>\n",
              "      <td>2015.0</td>\n",
              "      <td>2990.0</td>\n",
              "      <td>디젤</td>\n",
              "      <td>30000.0</td>\n",
              "      <td>202.0</td>\n",
              "      <td>4.0</td>\n",
              "      <td>45.0</td>\n",
              "      <td>FF</td>\n",
              "    </tr>\n",
              "    <tr>\n",
              "      <th>3</th>\n",
              "      <td>2008.0</td>\n",
              "      <td>420.0</td>\n",
              "      <td>디젤</td>\n",
              "      <td>160000.0</td>\n",
              "      <td>151.0</td>\n",
              "      <td>4.0</td>\n",
              "      <td>33.8</td>\n",
              "      <td>FR</td>\n",
              "    </tr>\n",
              "    <tr>\n",
              "      <th>4</th>\n",
              "      <td>2004.0</td>\n",
              "      <td>450.0</td>\n",
              "      <td>디젤</td>\n",
              "      <td>160000.0</td>\n",
              "      <td>103.0</td>\n",
              "      <td>NaN</td>\n",
              "      <td>24.0</td>\n",
              "      <td>FR</td>\n",
              "    </tr>\n",
              "  </tbody>\n",
              "</table>\n",
              "</div>"
            ],
            "text/plain": [
              "   yeartype   price fuel      dist  power  cylinder  torque type\n",
              "0    2013.0  1870.0  가솔린   40000.0  201.0       4.0    25.5   FF\n",
              "1    2010.0   700.0  LPG   90000.0  157.0       NaN    20.0   FF\n",
              "2    2015.0  2990.0   디젤   30000.0  202.0       4.0    45.0   FF\n",
              "3    2008.0   420.0   디젤  160000.0  151.0       4.0    33.8   FR\n",
              "4    2004.0   450.0   디젤  160000.0  103.0       NaN    24.0   FR"
            ]
          },
          "metadata": {
            "tags": []
          },
          "execution_count": 708
        }
      ]
    },
    {
      "cell_type": "markdown",
      "metadata": {
        "id": "hwJ5DWeW6a9I"
      },
      "source": [
        "# 14 가격(만원) price 11769 non-null float64\n",
        "\n",
        "- 이건 피쳐가 아니고 정답(레이블)"
      ]
    },
    {
      "cell_type": "markdown",
      "metadata": {
        "id": "rA0lGDlP6a9I"
      },
      "source": [
        "# 종합"
      ]
    },
    {
      "cell_type": "code",
      "metadata": {
        "id": "Xg0y9QJt6a9I",
        "outputId": "0a9b312d-3c76-46b5-f666-b8c2e05871e6",
        "colab": {
          "base_uri": "https://localhost:8080/"
        }
      },
      "source": [
        "print(train.shape)\n",
        "print(test.shape)"
      ],
      "execution_count": 709,
      "outputs": [
        {
          "output_type": "stream",
          "text": [
            "(11766, 8)\n",
            "(5789, 7)\n"
          ],
          "name": "stdout"
        }
      ]
    },
    {
      "cell_type": "code",
      "metadata": {
        "id": "FTHeYcp2PlVc"
      },
      "source": [
        "# for c in train.columns:\n",
        "#   sns.kdeplot(train[c])\n",
        "#   plt.show()"
      ],
      "execution_count": 710,
      "outputs": []
    },
    {
      "cell_type": "code",
      "metadata": {
        "id": "PS6k8c69QzmH"
      },
      "source": [
        "# skew_columns = ['yeartype', 'price']"
      ],
      "execution_count": 711,
      "outputs": []
    },
    {
      "cell_type": "code",
      "metadata": {
        "id": "1JFJIdRkQ1ZX",
        "outputId": "b85602cc-54e5-4320-e006-47d1d75e9360",
        "colab": {
          "base_uri": "https://localhost:8080/",
          "height": 54
        }
      },
      "source": [
        "\"\"\"\n",
        "train['yeartype'] = np.log1p(train['yeartype'])\n",
        "test['yeartype'] = np.log1p(test['yeartype'])\n",
        "\n",
        "train['dist'] = np.log1p(train['dist'])\n",
        "test['dist'] = np.log1p(test['dist'])\n",
        "\n",
        "train['price'] = np.log1p(train['price'])\n",
        "\"\"\""
      ],
      "execution_count": 712,
      "outputs": [
        {
          "output_type": "execute_result",
          "data": {
            "application/vnd.google.colaboratory.intrinsic+json": {
              "type": "string"
            },
            "text/plain": [
              "\"\\ntrain['yeartype'] = np.log1p(train['yeartype'])\\ntest['yeartype'] = np.log1p(test['yeartype'])\\n\\ntrain['dist'] = np.log1p(train['dist'])\\ntest['dist'] = np.log1p(test['dist'])\\n\\ntrain['price'] = np.log1p(train['price'])\\n\""
            ]
          },
          "metadata": {
            "tags": []
          },
          "execution_count": 712
        }
      ]
    },
    {
      "cell_type": "markdown",
      "metadata": {
        "id": "GKXKTq7R6RXJ"
      },
      "source": [
        "# 결측치 채우기 - MissForest"
      ]
    },
    {
      "cell_type": "code",
      "metadata": {
        "id": "q_Ve8gu677_G",
        "outputId": "5b02041c-2330-4135-99a9-647d66c56e8d",
        "colab": {
          "base_uri": "https://localhost:8080/"
        }
      },
      "source": [
        "train.columns"
      ],
      "execution_count": 713,
      "outputs": [
        {
          "output_type": "execute_result",
          "data": {
            "text/plain": [
              "Index(['yeartype', 'price', 'fuel', 'dist', 'power', 'cylinder', 'torque',\n",
              "       'type'],\n",
              "      dtype='object')"
            ]
          },
          "metadata": {
            "tags": []
          },
          "execution_count": 713
        }
      ]
    },
    {
      "cell_type": "code",
      "metadata": {
        "id": "i7teVrvh6RFi",
        "outputId": "4cc46394-16ae-4c48-8d24-0f44ea130190",
        "colab": {
          "base_uri": "https://localhost:8080/"
        }
      },
      "source": [
        "train.isna().sum()"
      ],
      "execution_count": 714,
      "outputs": [
        {
          "output_type": "execute_result",
          "data": {
            "text/plain": [
              "yeartype       0\n",
              "price          0\n",
              "fuel           0\n",
              "dist          29\n",
              "power       1125\n",
              "cylinder    3068\n",
              "torque      1224\n",
              "type         961\n",
              "dtype: int64"
            ]
          },
          "metadata": {
            "tags": []
          },
          "execution_count": 714
        }
      ]
    },
    {
      "cell_type": "code",
      "metadata": {
        "id": "93VY38h-8HRF",
        "outputId": "30bdbbdb-0f64-4b11-a29a-194926f36f90",
        "colab": {
          "base_uri": "https://localhost:8080/"
        }
      },
      "source": [
        "test.isna().sum()"
      ],
      "execution_count": 715,
      "outputs": [
        {
          "output_type": "execute_result",
          "data": {
            "text/plain": [
              "yeartype       0\n",
              "fuel           0\n",
              "dist          11\n",
              "power        552\n",
              "cylinder    1514\n",
              "torque       606\n",
              "type         477\n",
              "dtype: int64"
            ]
          },
          "metadata": {
            "tags": []
          },
          "execution_count": 715
        }
      ]
    },
    {
      "cell_type": "markdown",
      "metadata": {
        "id": "EocH42gMCnX_"
      },
      "source": [
        "# LabelEncoding"
      ]
    },
    {
      "cell_type": "code",
      "metadata": {
        "id": "x9TKJXFdC8r0"
      },
      "source": [
        "from sklearn.preprocessing import LabelEncoder"
      ],
      "execution_count": 716,
      "outputs": []
    },
    {
      "cell_type": "code",
      "metadata": {
        "id": "jpcy-UcUKL14"
      },
      "source": [
        "categorical_columns = ['yeartype', 'fuel', 'cylinder', 'type']"
      ],
      "execution_count": null,
      "outputs": []
    },
    {
      "cell_type": "code",
      "metadata": {
        "id": "Nj3BiBKB8UcX"
      },
      "source": [
        "for col in categorical_columns:\n",
        "  train[col] = train[col].astype('string')\n",
        "  test[col] = test[col].astype('string')\n",
        "\n",
        "for col in categorical_columns:\n",
        "  train[col] = train[col].fillna('NaN')\n",
        "  test[col] = test[col].fillna('NaN')\n",
        "\n",
        "for col in categorical_columns:\n",
        "  train[col] = train[col].astype('category')\n",
        "  test[col] = test[col].astype('category')"
      ],
      "execution_count": 717,
      "outputs": []
    },
    {
      "cell_type": "code",
      "metadata": {
        "id": "9pZUoWLBDECH"
      },
      "source": [
        "le_yeartype = LabelEncoder()\n",
        "le_fuel = LabelEncoder()\n",
        "le_cylinder = LabelEncoder()\n",
        "le_type = LabelEncoder()"
      ],
      "execution_count": 720,
      "outputs": []
    },
    {
      "cell_type": "code",
      "metadata": {
        "id": "ZcKtliHnEDwa"
      },
      "source": [
        "le_yeartype = le_yeartype.fit(train['yeartype'])\n",
        "train['yeartype'] = le_yeartype.transform(train['yeartype'])\n",
        "test['yeartype'] = le_yeartype.transform(test['yeartype'])\n",
        "\n",
        "le_fuel = le_fuel.fit(train['fuel'])\n",
        "train['fuel'] = le_fuel.transform(train['fuel'])\n",
        "test['fuel'] = le_fuel.transform(test['fuel'])\n",
        "\n",
        "le_cylinder = le_cylinder.fit(train['cylinder'])\n",
        "train['cylinder'] = le_cylinder.transform(train['cylinder'])\n",
        "test['cylinder'] = le_cylinder.transform(test['cylinder'])\n",
        "\n",
        "le_type = le_type.fit(train['type'])\n",
        "train['type'] = le_type.transform(train['type'])\n",
        "test['type'] = le_type.transform(test['type'])"
      ],
      "execution_count": 721,
      "outputs": []
    },
    {
      "cell_type": "code",
      "metadata": {
        "id": "0r8D1rRtIqen"
      },
      "source": [
        "for col in categorical_columns:\n",
        "  train[col] = train[col].astype('category')\n",
        "  test[col] = test[col].astype('category')"
      ],
      "execution_count": 722,
      "outputs": []
    },
    {
      "cell_type": "code",
      "metadata": {
        "id": "qawM_Ejc8C7P"
      },
      "source": [
        "train_cat_cols = [train.columns.get_loc(col) for col in train.select_dtypes(['category']).columns.tolist()]\n",
        "test_cat_cols = [test.columns.get_loc(col) for col in test.select_dtypes(['category']).columns.tolist()]"
      ],
      "execution_count": 723,
      "outputs": []
    },
    {
      "cell_type": "code",
      "metadata": {
        "id": "PcvwNqZU80U9",
        "outputId": "c8780a0c-11c0-42fd-e0b2-aeb0ffa98b51",
        "colab": {
          "base_uri": "https://localhost:8080/"
        }
      },
      "source": [
        "print(train_cat_cols)\n",
        "print(test_cat_cols)"
      ],
      "execution_count": 724,
      "outputs": [
        {
          "output_type": "stream",
          "text": [
            "[0, 2, 5, 7]\n",
            "[0, 1, 4, 6]\n"
          ],
          "name": "stdout"
        }
      ]
    },
    {
      "cell_type": "code",
      "metadata": {
        "id": "hUH1amQ-I0Es",
        "outputId": "4ca5a5c5-c4d7-4f92-84c3-822c78dfdfed",
        "colab": {
          "base_uri": "https://localhost:8080/",
          "height": 202
        }
      },
      "source": [
        "train.head()"
      ],
      "execution_count": 725,
      "outputs": [
        {
          "output_type": "execute_result",
          "data": {
            "text/html": [
              "<div>\n",
              "<style scoped>\n",
              "    .dataframe tbody tr th:only-of-type {\n",
              "        vertical-align: middle;\n",
              "    }\n",
              "\n",
              "    .dataframe tbody tr th {\n",
              "        vertical-align: top;\n",
              "    }\n",
              "\n",
              "    .dataframe thead th {\n",
              "        text-align: right;\n",
              "    }\n",
              "</style>\n",
              "<table border=\"1\" class=\"dataframe\">\n",
              "  <thead>\n",
              "    <tr style=\"text-align: right;\">\n",
              "      <th></th>\n",
              "      <th>yeartype</th>\n",
              "      <th>price</th>\n",
              "      <th>fuel</th>\n",
              "      <th>dist</th>\n",
              "      <th>power</th>\n",
              "      <th>cylinder</th>\n",
              "      <th>torque</th>\n",
              "      <th>type</th>\n",
              "    </tr>\n",
              "  </thead>\n",
              "  <tbody>\n",
              "    <tr>\n",
              "      <th>0</th>\n",
              "      <td>31</td>\n",
              "      <td>1870.0</td>\n",
              "      <td>3</td>\n",
              "      <td>40000.0</td>\n",
              "      <td>201.0</td>\n",
              "      <td>1</td>\n",
              "      <td>25.5</td>\n",
              "      <td>2</td>\n",
              "    </tr>\n",
              "    <tr>\n",
              "      <th>1</th>\n",
              "      <td>28</td>\n",
              "      <td>700.0</td>\n",
              "      <td>1</td>\n",
              "      <td>90000.0</td>\n",
              "      <td>157.0</td>\n",
              "      <td>5</td>\n",
              "      <td>20.0</td>\n",
              "      <td>2</td>\n",
              "    </tr>\n",
              "    <tr>\n",
              "      <th>2</th>\n",
              "      <td>33</td>\n",
              "      <td>2990.0</td>\n",
              "      <td>8</td>\n",
              "      <td>30000.0</td>\n",
              "      <td>202.0</td>\n",
              "      <td>1</td>\n",
              "      <td>45.0</td>\n",
              "      <td>2</td>\n",
              "    </tr>\n",
              "    <tr>\n",
              "      <th>3</th>\n",
              "      <td>26</td>\n",
              "      <td>420.0</td>\n",
              "      <td>8</td>\n",
              "      <td>160000.0</td>\n",
              "      <td>151.0</td>\n",
              "      <td>1</td>\n",
              "      <td>33.8</td>\n",
              "      <td>3</td>\n",
              "    </tr>\n",
              "    <tr>\n",
              "      <th>4</th>\n",
              "      <td>22</td>\n",
              "      <td>450.0</td>\n",
              "      <td>8</td>\n",
              "      <td>160000.0</td>\n",
              "      <td>103.0</td>\n",
              "      <td>5</td>\n",
              "      <td>24.0</td>\n",
              "      <td>3</td>\n",
              "    </tr>\n",
              "  </tbody>\n",
              "</table>\n",
              "</div>"
            ],
            "text/plain": [
              "  yeartype   price fuel      dist  power cylinder  torque type\n",
              "0       31  1870.0    3   40000.0  201.0        1    25.5    2\n",
              "1       28   700.0    1   90000.0  157.0        5    20.0    2\n",
              "2       33  2990.0    8   30000.0  202.0        1    45.0    2\n",
              "3       26   420.0    8  160000.0  151.0        1    33.8    3\n",
              "4       22   450.0    8  160000.0  103.0        5    24.0    3"
            ]
          },
          "metadata": {
            "tags": []
          },
          "execution_count": 725
        }
      ]
    },
    {
      "cell_type": "code",
      "metadata": {
        "id": "w2yJgLtpJp7K"
      },
      "source": [
        "train_cols = train.columns.tolist()\n",
        "test_cols = test.columns.tolist()"
      ],
      "execution_count": 726,
      "outputs": []
    },
    {
      "cell_type": "code",
      "metadata": {
        "id": "Dw7UeVIa88Ak",
        "outputId": "5dae4290-725d-45a0-fbdd-22f0f46597fb",
        "colab": {
          "base_uri": "https://localhost:8080/"
        }
      },
      "source": [
        "imputer = MissForest(random_state=42)\n",
        "\n",
        "train_imputed = imputer.fit_transform(train, cat_vars=train_cat_cols)\n",
        "test_imputed = imputer.fit_transform(test, cat_vars=test_cat_cols)"
      ],
      "execution_count": 727,
      "outputs": [
        {
          "output_type": "stream",
          "text": [
            "Iteration: 0\n",
            "Iteration: 1\n",
            "Iteration: 2\n",
            "Iteration: 3\n",
            "Iteration: 4\n",
            "Iteration: 0\n",
            "Iteration: 1\n",
            "Iteration: 2\n"
          ],
          "name": "stdout"
        }
      ]
    },
    {
      "cell_type": "code",
      "metadata": {
        "id": "LOBVWYg_JiUT"
      },
      "source": [
        "train = pd.DataFrame(train_imputed, columns=train_cols)\n",
        "test = pd.DataFrame(test_imputed, columns=test_cols)"
      ],
      "execution_count": 729,
      "outputs": []
    },
    {
      "cell_type": "code",
      "metadata": {
        "id": "m2PqV-ITJRU7",
        "outputId": "9e9669bb-9bb2-4bff-a081-01e5c72031b4",
        "colab": {
          "base_uri": "https://localhost:8080/"
        }
      },
      "source": [
        "print(train.isna().sum())\n",
        "print(test.isna().sum())"
      ],
      "execution_count": 730,
      "outputs": [
        {
          "output_type": "stream",
          "text": [
            "yeartype    0\n",
            "price       0\n",
            "fuel        0\n",
            "dist        0\n",
            "power       0\n",
            "cylinder    0\n",
            "torque      0\n",
            "type        0\n",
            "dtype: int64\n",
            "yeartype    0\n",
            "fuel        0\n",
            "dist        0\n",
            "power       0\n",
            "cylinder    0\n",
            "torque      0\n",
            "type        0\n",
            "dtype: int64\n"
          ],
          "name": "stdout"
        }
      ]
    },
    {
      "cell_type": "markdown",
      "metadata": {
        "id": "E15yvTujKEWl"
      },
      "source": [
        "# LabelEncoder inverse transform"
      ]
    },
    {
      "cell_type": "code",
      "metadata": {
        "id": "AWfKIF-f9Eex"
      },
      "source": [
        "train['yeartype'] = le_yeartype.inverse_transform(train['yeartype'])\n",
        "test['yeartype'] = le_yeartype.inverse_transform(train['yeartype'])\n",
        "\n",
        "le_fuel = le_fuel.fit(train['fuel'])\n",
        "train['fuel'] = le_fuel.transform(train['fuel'])\n",
        "test['fuel'] = le_fuel.transform(test['fuel'])\n",
        "\n",
        "le_cylinder = le_cylinder.fit(train['cylinder'])\n",
        "train['cylinder'] = le_cylinder.transform(train['cylinder'])\n",
        "test['cylinder'] = le_cylinder.transform(test['cylinder'])\n",
        "\n",
        "le_type = le_type.fit(train['type'])\n",
        "train['type'] = le_type.transform(train['type'])\n",
        "test['type'] = le_type.transform(test['type'])"
      ],
      "execution_count": null,
      "outputs": []
    },
    {
      "cell_type": "markdown",
      "metadata": {
        "id": "4v2S13nY6a9L"
      },
      "source": [
        "# 데이터 나누기"
      ]
    },
    {
      "cell_type": "code",
      "metadata": {
        "id": "tTJEBWi26a9L",
        "outputId": "9b9fabd7-624a-4f85-f207-6869c949a4ac",
        "colab": {
          "base_uri": "https://localhost:8080/"
        }
      },
      "source": [
        "X_train = train.drop(['price'], axis=1)\n",
        "Y_train = train['price']\n",
        "X_test = test.copy()\n",
        "\n",
        "print(X_train.shape)\n",
        "print(Y_train.shape)\n",
        "print(X_test.shape)"
      ],
      "execution_count": 164,
      "outputs": [
        {
          "output_type": "stream",
          "text": [
            "(11766, 26)\n",
            "(11766,)\n",
            "(5789, 26)\n"
          ],
          "name": "stdout"
        }
      ]
    },
    {
      "cell_type": "markdown",
      "metadata": {
        "id": "1vDJhc4k6a9N"
      },
      "source": [
        "# Model"
      ]
    },
    {
      "cell_type": "code",
      "metadata": {
        "id": "RwhTcNQc6a9N"
      },
      "source": [
        "from sklearn.linear_model import LinearRegression, ElasticNet, Lasso, Ridge, LassoLarsIC\n",
        "from sklearn.ensemble import RandomForestRegressor, GradientBoostingRegressor\n",
        "from sklearn.kernel_ridge import KernelRidge\n",
        "from sklearn.pipeline import make_pipeline\n",
        "from sklearn.preprocessing import RobustScaler\n",
        "from sklearn.base import BaseEstimator, TransformerMixin, RegressorMixin, clone\n",
        "from sklearn.model_selection import KFold, cross_val_score, train_test_split, GridSearchCV\n",
        "from sklearn.metrics import mean_squared_error\n",
        "import xgboost as xgb\n",
        "import lightgbm as lgb"
      ],
      "execution_count": 165,
      "outputs": []
    },
    {
      "cell_type": "code",
      "metadata": {
        "id": "tv8IAYuy6a9P"
      },
      "source": [
        "def print_best_params(model, params):\n",
        "    grid_model = GridSearchCV(\n",
        "        model, \n",
        "        param_grid = params,\n",
        "        cv=5,\n",
        "        scoring='neg_mean_squared_error')\n",
        "\n",
        "    grid_model.fit(X_train, Y_train)\n",
        "    rmse = np.sqrt(-1*grid_model.best_score_)\n",
        "    print(\n",
        "        '{0} 5 CV 시 최적 평균 RMSE 값 {1}, 최적 alpha:{2}'.format(model.__class__.__name__, np.round(rmse, 4), grid_model.best_params_))\n",
        "    return grid_model.best_estimator_"
      ],
      "execution_count": 166,
      "outputs": []
    },
    {
      "cell_type": "code",
      "metadata": {
        "id": "yacz8Fnv6a9Q",
        "outputId": "c0adf349-0010-4662-f6cb-fc6d1133a481",
        "colab": {
          "base_uri": "https://localhost:8080/"
        }
      },
      "source": [
        "xgb_params ={\n",
        "    'learning_rate': [0.05],\n",
        "    'max_depth': [5],\n",
        "    'subsample': [0.9],\n",
        "    'colsample_bytree': [0.5],\n",
        "    'silent': [True],\n",
        "    'gpu_id':[0] ,\n",
        "    'tree_method':['gpu_hist'],\n",
        "    'predictor':['gpu_predictor'],\n",
        "    'n_estimators':[1000],\n",
        "    'refit' : [True]\n",
        "}\n",
        "\n",
        "xgb_model = xgb.XGBRegressor()\n",
        "xgb_estimator = print_best_params(xgb_model, xgb_params)"
      ],
      "execution_count": 167,
      "outputs": [
        {
          "output_type": "stream",
          "text": [
            "XGBRegressor 5 CV 시 최적 평균 RMSE 값 0.537, 최적 alpha:{'colsample_bytree': 0.5, 'gpu_id': 0, 'learning_rate': 0.05, 'max_depth': 5, 'n_estimators': 1000, 'predictor': 'gpu_predictor', 'refit': True, 'silent': True, 'subsample': 0.9, 'tree_method': 'gpu_hist'}\n"
          ],
          "name": "stdout"
        }
      ]
    },
    {
      "cell_type": "code",
      "metadata": {
        "id": "XtK-mR5393KQ",
        "outputId": "337ef24c-2303-4b63-d46a-7b134fd7c9d3",
        "colab": {
          "base_uri": "https://localhost:8080/"
        }
      },
      "source": [
        "lgb_params = {\n",
        "    'objective':['regression'],\n",
        "    'num_leave' : [1],\n",
        "    'learning_rate' : [0.05],\n",
        "    'n_estimators':[1000],\n",
        "    'max_bin' : [80],\n",
        "    'gpu_id':[0] ,         \n",
        "    'tree_method':['gpu_hist'],\n",
        "    'predictor':['gpu_predictor'],\n",
        "    'refit':[True]\n",
        "}\n",
        "\n",
        "lgb_model = lgb.LGBMRegressor()\n",
        "lgb_estimator = print_best_params(lgb_model, lgb_params)"
      ],
      "execution_count": 168,
      "outputs": [
        {
          "output_type": "stream",
          "text": [
            "LGBMRegressor 5 CV 시 최적 평균 RMSE 값 0.5401, 최적 alpha:{'gpu_id': 0, 'learning_rate': 0.05, 'max_bin': 80, 'n_estimators': 1000, 'num_leave': 1, 'objective': 'regression', 'predictor': 'gpu_predictor', 'refit': True, 'tree_method': 'gpu_hist'}\n"
          ],
          "name": "stdout"
        }
      ]
    },
    {
      "cell_type": "markdown",
      "metadata": {
        "id": "2Qfpl9Va6a9S"
      },
      "source": [
        "# Prediction"
      ]
    },
    {
      "cell_type": "code",
      "metadata": {
        "id": "d5_osT_66a9T"
      },
      "source": [
        "xgb_preds = xgb_estimator.predict(X_test)\n",
        "lgb_preds = lgb_estimator.predict(X_test)\n",
        "preds = 0.5* xgb_preds + 0.5*lgb_preds\n",
        "\n",
        "preds = np.exp(preds)"
      ],
      "execution_count": 169,
      "outputs": []
    },
    {
      "cell_type": "code",
      "metadata": {
        "id": "7_zDRCa86a9V"
      },
      "source": [
        "submission = pd.DataFrame({\n",
        "    \"no\": test_no,\n",
        "    \"가격(만원)\": preds\n",
        "})\n",
        "submission.to_csv('/content/drive/My Drive/dg_univ_2020_ml/output/v1.2.2.xgb_lgb_cv_log2.csv', index=False)"
      ],
      "execution_count": 170,
      "outputs": []
    },
    {
      "cell_type": "code",
      "metadata": {
        "id": "lHVHce5v6a9X"
      },
      "source": [
        ""
      ],
      "execution_count": 170,
      "outputs": []
    },
    {
      "cell_type": "code",
      "metadata": {
        "id": "z0NgPwLHS66O"
      },
      "source": [
        ""
      ],
      "execution_count": null,
      "outputs": []
    }
  ]
}